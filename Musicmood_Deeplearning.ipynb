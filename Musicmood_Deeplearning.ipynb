{
  "nbformat": 4,
  "nbformat_minor": 0,
  "metadata": {
    "colab": {
      "name": "Musicmood-Deeplearning.ipynb",
      "provenance": [],
      "collapsed_sections": [],
      "mount_file_id": "1YhB2h52eFEMHgfegiFLrcciA7WR0uIzL",
      "authorship_tag": "ABX9TyNDNis7D9Qfa60ibKvf+sEL",
      "include_colab_link": true
    },
    "kernelspec": {
      "name": "python3",
      "display_name": "Python 3"
    },
    "language_info": {
      "name": "python"
    },
    "accelerator": "GPU"
  },
  "cells": [
    {
      "cell_type": "markdown",
      "metadata": {
        "id": "view-in-github",
        "colab_type": "text"
      },
      "source": [
        "<a href=\"https://colab.research.google.com/github/tikhongc/fyp/blob/main/Musicmood_Deeplearning.ipynb\" target=\"_parent\"><img src=\"https://colab.research.google.com/assets/colab-badge.svg\" alt=\"Open In Colab\"/></a>"
      ]
    },
    {
      "cell_type": "markdown",
      "source": [
        "# Import Library"
      ],
      "metadata": {
        "id": "qOyJ99e9fJms"
      }
    },
    {
      "cell_type": "code",
      "source": [
        "!pip install spotipy"
      ],
      "metadata": {
        "colab": {
          "base_uri": "https://localhost:8080/"
        },
        "id": "sA0e6fCeaPER",
        "outputId": "bb8e9bd7-1381-408a-febc-3afcc2b11228"
      },
      "execution_count": null,
      "outputs": [
        {
          "output_type": "stream",
          "name": "stdout",
          "text": [
            "Collecting spotipy\n",
            "  Downloading spotipy-2.19.0-py3-none-any.whl (27 kB)\n",
            "Collecting urllib3>=1.26.0\n",
            "  Downloading urllib3-1.26.7-py2.py3-none-any.whl (138 kB)\n",
            "\u001b[K     |████████████████████████████████| 138 kB 16.7 MB/s \n",
            "\u001b[?25hCollecting requests>=2.25.0\n",
            "  Downloading requests-2.26.0-py2.py3-none-any.whl (62 kB)\n",
            "\u001b[K     |████████████████████████████████| 62 kB 803 kB/s \n",
            "\u001b[?25hRequirement already satisfied: six>=1.15.0 in /usr/local/lib/python3.7/dist-packages (from spotipy) (1.15.0)\n",
            "Requirement already satisfied: charset-normalizer~=2.0.0 in /usr/local/lib/python3.7/dist-packages (from requests>=2.25.0->spotipy) (2.0.8)\n",
            "Requirement already satisfied: certifi>=2017.4.17 in /usr/local/lib/python3.7/dist-packages (from requests>=2.25.0->spotipy) (2021.10.8)\n",
            "Requirement already satisfied: idna<4,>=2.5 in /usr/local/lib/python3.7/dist-packages (from requests>=2.25.0->spotipy) (2.10)\n",
            "Installing collected packages: urllib3, requests, spotipy\n",
            "  Attempting uninstall: urllib3\n",
            "    Found existing installation: urllib3 1.24.3\n",
            "    Uninstalling urllib3-1.24.3:\n",
            "      Successfully uninstalled urllib3-1.24.3\n",
            "  Attempting uninstall: requests\n",
            "    Found existing installation: requests 2.23.0\n",
            "    Uninstalling requests-2.23.0:\n",
            "      Successfully uninstalled requests-2.23.0\n",
            "\u001b[31mERROR: pip's dependency resolver does not currently take into account all the packages that are installed. This behaviour is the source of the following dependency conflicts.\n",
            "google-colab 1.0.0 requires requests~=2.23.0, but you have requests 2.26.0 which is incompatible.\n",
            "datascience 0.10.6 requires folium==0.2.1, but you have folium 0.8.3 which is incompatible.\u001b[0m\n",
            "Successfully installed requests-2.26.0 spotipy-2.19.0 urllib3-1.26.7\n"
          ]
        }
      ]
    },
    {
      "cell_type": "code",
      "execution_count": null,
      "metadata": {
        "id": "gJAF9DUgaM1L"
      },
      "outputs": [],
      "source": [
        "import spotipy\n",
        "import csv\n",
        "import glob\n",
        "from spotipy.oauth2 import SpotifyClientCredentials\n",
        "import os\n",
        "import pandas as pd\n",
        "#spotify authorization\n",
        "cid = ''\n",
        "secret = ''\n",
        "client_credentials_manager = SpotifyClientCredentials(client_id=cid, client_secret=secret)\n",
        "sp = spotipy.Spotify(client_credentials_manager = client_credentials_manager)"
      ]
    },
    {
      "cell_type": "code",
      "source": [
        "#Script to obtain data \n",
        "import numpy as np \n",
        "import pandas as pd \n",
        "import matplotlib.pyplot as plt\n",
        "import seaborn as sns\n",
        "\n",
        "#Libraries to create the multiclass model\n",
        "from keras.models import Sequential\n",
        "from keras.layers import Dense\n",
        "from keras.wrappers.scikit_learn import KerasClassifier\n",
        "#from scikeras.wrappers import KerasClassifier, KerasRegressor\n",
        "from keras.utils import np_utils\n",
        "#Import tensorflow and disable the v2 behavior and eager mode\n",
        "import tensorflow as tf\n",
        "tf.compat.v1.disable_eager_execution()\n",
        "tf.compat.v1.disable_v2_behavior()\n",
        "\n",
        "#Library to validate the model\n",
        "from sklearn.model_selection import cross_val_score, KFold, train_test_split\n",
        "from sklearn.preprocessing import LabelEncoder,MinMaxScaler\n",
        "from sklearn.pipeline import Pipeline\n",
        "from sklearn.metrics import confusion_matrix, accuracy_score\n",
        "# To support both python 2 and python 3\n",
        "from __future__ import division, print_function, unicode_literals\n",
        "\n",
        "import numpy as np\n",
        "import os\n",
        "import pandas as pd\n",
        "# To make this notebook's output stable across runs\n",
        "np.random.seed(42)\n",
        "\n",
        "# To plot pretty figures\n",
        "%matplotlib inline\n",
        "import matplotlib as mpl\n",
        "import matplotlib.pyplot as plt\n",
        "mpl.rc('axes', labelsize=14)\n",
        "mpl.rc('xtick', labelsize=12)\n",
        "mpl.rc('ytick', labelsize=12)\n",
        "\n",
        "import seaborn as sns\n",
        "#set style of plots\n",
        "sns.set_style('white')\n",
        "\n",
        "#define a custom palette\n",
        "customPalette = ['#630C3A', '#39C8C6', '#D3500C', '#FFB139']\n",
        "sns.set_palette(customPalette)\n",
        "sns.palplot(customPalette)\n",
        "\n",
        "\n",
        "# Ignore useless warnings (see SciPy issue #5998)\n",
        "import warnings\n",
        "warnings.filterwarnings(action=\"ignore\", message=\"^internal gelsd\")"
      ],
      "metadata": {
        "colab": {
          "base_uri": "https://localhost:8080/",
          "height": 157
        },
        "id": "URq7XV_Yb_ds",
        "outputId": "93652855-8746-401e-828f-34c6a00644ac"
      },
      "execution_count": null,
      "outputs": [
        {
          "output_type": "stream",
          "name": "stdout",
          "text": [
            "WARNING:tensorflow:From /usr/local/lib/python3.7/dist-packages/tensorflow/python/compat/v2_compat.py:111: disable_resource_variables (from tensorflow.python.ops.variable_scope) is deprecated and will be removed in a future version.\n",
            "Instructions for updating:\n",
            "non-resource variables are not supported in the long term\n"
          ]
        },
        {
          "output_type": "display_data",
          "data": {
            "image/png": "[encoded data removed]",
            "text/plain": [
              "<Figure size 288x72 with 1 Axes>"
            ]
          },
          "metadata": {}
        }
      ]
    },
    {
      "cell_type": "markdown",
      "source": [
        "# Load Data"
      ],
      "metadata": {
        "id": "INuMgN2ifRMp"
      }
    },
    {
      "cell_type": "code",
      "source": [
        "# Import my spotify data\n",
        "df = pd.read_csv(\"/content/drive/MyDrive/Dataset/Music-MOOD/Dataset/dataset_mood.csv\")"
      ],
      "metadata": {
        "id": "MzQNxQf_cF1L"
      },
      "execution_count": null,
      "outputs": []
    },
    {
      "cell_type": "code",
      "source": [
        "# remove song names, artist and id before clustering\n",
        "songs_features = df.copy()\n",
        "songs_features = songs_features.drop(['Unnamed: 0','Unnamed: 0.1','Unnamed: 0.1.1','artist','album','track_name','track_id','duration_ms','genre','key','time_signature'],axis=1)\n",
        "songs_features"
      ],
      "metadata": {
        "colab": {
          "base_uri": "https://localhost:8080/",
          "height": 423
        },
        "id": "fLghMxzwcsNh",
        "outputId": "de714f05-c2c7-4865-d353-0f24b5520016"
      },
      "execution_count": null,
      "outputs": [
        {
          "output_type": "execute_result",
          "data": {
            "text/html": [
              "\n",
              "  <div id=\"df-044cc19d-92ce-4b35-be65-2173aaa45871\">\n",
              "    <div class=\"colab-df-container\">\n",
              "      <div>\n",
              "<style scoped>\n",
              "    .dataframe tbody tr th:only-of-type {\n",
              "        vertical-align: middle;\n",
              "    }\n",
              "\n",
              "    .dataframe tbody tr th {\n",
              "        vertical-align: top;\n",
              "    }\n",
              "\n",
              "    .dataframe thead th {\n",
              "        text-align: right;\n",
              "    }\n",
              "</style>\n",
              "<table border=\"1\" class=\"dataframe\">\n",
              "  <thead>\n",
              "    <tr style=\"text-align: right;\">\n",
              "      <th></th>\n",
              "      <th>danceability</th>\n",
              "      <th>energy</th>\n",
              "      <th>loudness</th>\n",
              "      <th>acousticness</th>\n",
              "      <th>speechiness</th>\n",
              "      <th>instrumentalness</th>\n",
              "      <th>liveness</th>\n",
              "      <th>valence</th>\n",
              "      <th>tempo</th>\n",
              "    </tr>\n",
              "  </thead>\n",
              "  <tbody>\n",
              "    <tr>\n",
              "      <th>0</th>\n",
              "      <td>0.445</td>\n",
              "      <td>0.537</td>\n",
              "      <td>-8.532</td>\n",
              "      <td>0.695000</td>\n",
              "      <td>0.0400</td>\n",
              "      <td>0.000017</td>\n",
              "      <td>0.0944</td>\n",
              "      <td>0.131</td>\n",
              "      <td>122.769</td>\n",
              "    </tr>\n",
              "    <tr>\n",
              "      <th>1</th>\n",
              "      <td>0.604</td>\n",
              "      <td>0.366</td>\n",
              "      <td>-7.519</td>\n",
              "      <td>0.578000</td>\n",
              "      <td>0.0282</td>\n",
              "      <td>0.000000</td>\n",
              "      <td>0.1330</td>\n",
              "      <td>0.130</td>\n",
              "      <td>141.981</td>\n",
              "    </tr>\n",
              "    <tr>\n",
              "      <th>2</th>\n",
              "      <td>0.824</td>\n",
              "      <td>0.300</td>\n",
              "      <td>-6.678</td>\n",
              "      <td>0.854000</td>\n",
              "      <td>0.0565</td>\n",
              "      <td>0.000000</td>\n",
              "      <td>0.1740</td>\n",
              "      <td>0.227</td>\n",
              "      <td>112.867</td>\n",
              "    </tr>\n",
              "    <tr>\n",
              "      <th>3</th>\n",
              "      <td>0.391</td>\n",
              "      <td>0.335</td>\n",
              "      <td>-10.064</td>\n",
              "      <td>0.389000</td>\n",
              "      <td>0.0763</td>\n",
              "      <td>0.000000</td>\n",
              "      <td>0.1020</td>\n",
              "      <td>0.116</td>\n",
              "      <td>174.185</td>\n",
              "    </tr>\n",
              "    <tr>\n",
              "      <th>4</th>\n",
              "      <td>0.559</td>\n",
              "      <td>0.763</td>\n",
              "      <td>-4.160</td>\n",
              "      <td>0.403000</td>\n",
              "      <td>0.1050</td>\n",
              "      <td>0.000000</td>\n",
              "      <td>0.1270</td>\n",
              "      <td>0.349</td>\n",
              "      <td>91.069</td>\n",
              "    </tr>\n",
              "    <tr>\n",
              "      <th>...</th>\n",
              "      <td>...</td>\n",
              "      <td>...</td>\n",
              "      <td>...</td>\n",
              "      <td>...</td>\n",
              "      <td>...</td>\n",
              "      <td>...</td>\n",
              "      <td>...</td>\n",
              "      <td>...</td>\n",
              "      <td>...</td>\n",
              "    </tr>\n",
              "    <tr>\n",
              "      <th>3058</th>\n",
              "      <td>0.547</td>\n",
              "      <td>0.792</td>\n",
              "      <td>-5.645</td>\n",
              "      <td>0.000383</td>\n",
              "      <td>0.0350</td>\n",
              "      <td>0.000259</td>\n",
              "      <td>0.1060</td>\n",
              "      <td>0.395</td>\n",
              "      <td>97.998</td>\n",
              "    </tr>\n",
              "    <tr>\n",
              "      <th>3059</th>\n",
              "      <td>0.555</td>\n",
              "      <td>0.883</td>\n",
              "      <td>-3.426</td>\n",
              "      <td>0.001140</td>\n",
              "      <td>0.0341</td>\n",
              "      <td>0.041000</td>\n",
              "      <td>0.8680</td>\n",
              "      <td>0.507</td>\n",
              "      <td>125.020</td>\n",
              "    </tr>\n",
              "    <tr>\n",
              "      <th>3060</th>\n",
              "      <td>0.408</td>\n",
              "      <td>0.965</td>\n",
              "      <td>-4.232</td>\n",
              "      <td>0.000007</td>\n",
              "      <td>0.0500</td>\n",
              "      <td>0.000402</td>\n",
              "      <td>0.1100</td>\n",
              "      <td>0.349</td>\n",
              "      <td>136.018</td>\n",
              "    </tr>\n",
              "    <tr>\n",
              "      <th>3061</th>\n",
              "      <td>0.641</td>\n",
              "      <td>0.732</td>\n",
              "      <td>-7.570</td>\n",
              "      <td>0.013900</td>\n",
              "      <td>0.0795</td>\n",
              "      <td>0.000003</td>\n",
              "      <td>0.0620</td>\n",
              "      <td>0.763</td>\n",
              "      <td>92.057</td>\n",
              "    </tr>\n",
              "    <tr>\n",
              "      <th>3062</th>\n",
              "      <td>0.361</td>\n",
              "      <td>0.962</td>\n",
              "      <td>-2.928</td>\n",
              "      <td>0.010300</td>\n",
              "      <td>0.0659</td>\n",
              "      <td>0.001030</td>\n",
              "      <td>0.2940</td>\n",
              "      <td>0.927</td>\n",
              "      <td>161.292</td>\n",
              "    </tr>\n",
              "  </tbody>\n",
              "</table>\n",
              "<p>3063 rows × 9 columns</p>\n",
              "</div>\n",
              "      <button class=\"colab-df-convert\" onclick=\"convertToInteractive('df-044cc19d-92ce-4b35-be65-2173aaa45871')\"\n",
              "              title=\"Convert this dataframe to an interactive table.\"\n",
              "              style=\"display:none;\">\n",
              "        \n",
              "  <svg xmlns=\"http://www.w3.org/2000/svg\" height=\"24px\"viewBox=\"0 0 24 24\"\n",
              "       width=\"24px\">\n",
              "    <path d=\"M0 0h24v24H0V0z\" fill=\"none\"/>\n",
              "    <path d=\"M18.56 5.44l.94 2.06.94-2.06 2.06-.94-2.06-.94-.94-2.06-.94 2.06-2.06.94zm-11 1L8.5 8.5l.94-2.06 2.06-.94-2.06-.94L8.5 2.5l-.94 2.06-2.06.94zm10 10l.94 2.06.94-2.06 2.06-.94-2.06-.94-.94-2.06-.94 2.06-2.06.94z\"/><path d=\"M17.41 7.96l-1.37-1.37c-.4-.4-.92-.59-1.43-.59-.52 0-1.04.2-1.43.59L10.3 9.45l-7.72 7.72c-.78.78-.78 2.05 0 2.83L4 21.41c.39.39.9.59 1.41.59.51 0 1.02-.2 1.41-.59l7.78-7.78 2.81-2.81c.8-.78.8-2.07 0-2.86zM5.41 20L4 18.59l7.72-7.72 1.47 1.35L5.41 20z\"/>\n",
              "  </svg>\n",
              "      </button>\n",
              "      \n",
              "  <style>\n",
              "    .colab-df-container {\n",
              "      display:flex;\n",
              "      flex-wrap:wrap;\n",
              "      gap: 12px;\n",
              "    }\n",
              "\n",
              "    .colab-df-convert {\n",
              "      background-color: #E8F0FE;\n",
              "      border: none;\n",
              "      border-radius: 50%;\n",
              "      cursor: pointer;\n",
              "      display: none;\n",
              "      fill: #1967D2;\n",
              "      height: 32px;\n",
              "      padding: 0 0 0 0;\n",
              "      width: 32px;\n",
              "    }\n",
              "\n",
              "    .colab-df-convert:hover {\n",
              "      background-color: #E2EBFA;\n",
              "      box-shadow: 0px 1px 2px rgba(60, 64, 67, 0.3), 0px 1px 3px 1px rgba(60, 64, 67, 0.15);\n",
              "      fill: #174EA6;\n",
              "    }\n",
              "\n",
              "    [theme=dark] .colab-df-convert {\n",
              "      background-color: #3B4455;\n",
              "      fill: #D2E3FC;\n",
              "    }\n",
              "\n",
              "    [theme=dark] .colab-df-convert:hover {\n",
              "      background-color: #434B5C;\n",
              "      box-shadow: 0px 1px 3px 1px rgba(0, 0, 0, 0.15);\n",
              "      filter: drop-shadow(0px 1px 2px rgba(0, 0, 0, 0.3));\n",
              "      fill: #FFFFFF;\n",
              "    }\n",
              "  </style>\n",
              "\n",
              "      <script>\n",
              "        const buttonEl =\n",
              "          document.querySelector('#df-044cc19d-92ce-4b35-be65-2173aaa45871 button.colab-df-convert');\n",
              "        buttonEl.style.display =\n",
              "          google.colab.kernel.accessAllowed ? 'block' : 'none';\n",
              "\n",
              "        async function convertToInteractive(key) {\n",
              "          const element = document.querySelector('#df-044cc19d-92ce-4b35-be65-2173aaa45871');\n",
              "          const dataTable =\n",
              "            await google.colab.kernel.invokeFunction('convertToInteractive',\n",
              "                                                     [key], {});\n",
              "          if (!dataTable) return;\n",
              "\n",
              "          const docLinkHtml = 'Like what you see? Visit the ' +\n",
              "            '<a target=\"_blank\" href=https://colab.research.google.com/notebooks/data_table.ipynb>data table notebook</a>'\n",
              "            + ' to learn more about interactive tables.';\n",
              "          element.innerHTML = '';\n",
              "          dataTable['output_type'] = 'display_data';\n",
              "          await google.colab.output.renderOutput(dataTable, element);\n",
              "          const docLink = document.createElement('div');\n",
              "          docLink.innerHTML = docLinkHtml;\n",
              "          element.appendChild(docLink);\n",
              "        }\n",
              "      </script>\n",
              "    </div>\n",
              "  </div>\n",
              "  "
            ],
            "text/plain": [
              "      danceability  energy  loudness  ...  liveness  valence    tempo\n",
              "0            0.445   0.537    -8.532  ...    0.0944    0.131  122.769\n",
              "1            0.604   0.366    -7.519  ...    0.1330    0.130  141.981\n",
              "2            0.824   0.300    -6.678  ...    0.1740    0.227  112.867\n",
              "3            0.391   0.335   -10.064  ...    0.1020    0.116  174.185\n",
              "4            0.559   0.763    -4.160  ...    0.1270    0.349   91.069\n",
              "...            ...     ...       ...  ...       ...      ...      ...\n",
              "3058         0.547   0.792    -5.645  ...    0.1060    0.395   97.998\n",
              "3059         0.555   0.883    -3.426  ...    0.8680    0.507  125.020\n",
              "3060         0.408   0.965    -4.232  ...    0.1100    0.349  136.018\n",
              "3061         0.641   0.732    -7.570  ...    0.0620    0.763   92.057\n",
              "3062         0.361   0.962    -2.928  ...    0.2940    0.927  161.292\n",
              "\n",
              "[3063 rows x 9 columns]"
            ]
          },
          "metadata": {},
          "execution_count": 8
        }
      ]
    },
    {
      "cell_type": "markdown",
      "source": [
        "# Tranining Model"
      ],
      "metadata": {
        "id": "Vp_GPHSnfeNZ"
      }
    },
    {
      "cell_type": "markdown",
      "source": [
        "In order to standardize the features, I used MinMaxScaler to scale the values ​​in the range [0,1] and preserve the shape of the original distribution. I also coded the 4 labels because the neural network uses numerical values ​​for training and testing. Finally, I split the data into 80% for training and 20% for testing"
      ],
      "metadata": {
        "id": "ZwIzZQg0fivA"
      }
    },
    {
      "cell_type": "code",
      "source": [
        "df"
      ],
      "metadata": {
        "colab": {
          "base_uri": "https://localhost:8080/",
          "height": 713
        },
        "id": "QRIae-qqfls8",
        "outputId": "d3063876-2b04-42ed-cde6-4c7fb57c5466"
      },
      "execution_count": null,
      "outputs": [
        {
          "output_type": "execute_result",
          "data": {
            "text/html": [
              "\n",
              "  <div id=\"df-13651bba-2874-4e61-9421-427d2cc2f435\">\n",
              "    <div class=\"colab-df-container\">\n",
              "      <div>\n",
              "<style scoped>\n",
              "    .dataframe tbody tr th:only-of-type {\n",
              "        vertical-align: middle;\n",
              "    }\n",
              "\n",
              "    .dataframe tbody tr th {\n",
              "        vertical-align: top;\n",
              "    }\n",
              "\n",
              "    .dataframe thead th {\n",
              "        text-align: right;\n",
              "    }\n",
              "</style>\n",
              "<table border=\"1\" class=\"dataframe\">\n",
              "  <thead>\n",
              "    <tr style=\"text-align: right;\">\n",
              "      <th></th>\n",
              "      <th>Unnamed: 0</th>\n",
              "      <th>Unnamed: 0.1</th>\n",
              "      <th>Unnamed: 0.1.1</th>\n",
              "      <th>artist</th>\n",
              "      <th>album</th>\n",
              "      <th>track_name</th>\n",
              "      <th>track_id</th>\n",
              "      <th>duration_ms</th>\n",
              "      <th>danceability</th>\n",
              "      <th>energy</th>\n",
              "      <th>loudness</th>\n",
              "      <th>acousticness</th>\n",
              "      <th>speechiness</th>\n",
              "      <th>instrumentalness</th>\n",
              "      <th>liveness</th>\n",
              "      <th>valence</th>\n",
              "      <th>tempo</th>\n",
              "      <th>key</th>\n",
              "      <th>time_signature</th>\n",
              "      <th>genre</th>\n",
              "    </tr>\n",
              "  </thead>\n",
              "  <tbody>\n",
              "    <tr>\n",
              "      <th>0</th>\n",
              "      <td>0</td>\n",
              "      <td>0.0</td>\n",
              "      <td>0.0</td>\n",
              "      <td>Tom Odell</td>\n",
              "      <td>Long Way Down (Deluxe)</td>\n",
              "      <td>Another Love</td>\n",
              "      <td>3JvKfv6T31zO0ini8iNItO</td>\n",
              "      <td>244360</td>\n",
              "      <td>0.445</td>\n",
              "      <td>0.537</td>\n",
              "      <td>-8.532</td>\n",
              "      <td>0.695000</td>\n",
              "      <td>0.0400</td>\n",
              "      <td>0.000017</td>\n",
              "      <td>0.0944</td>\n",
              "      <td>0.131</td>\n",
              "      <td>122.769</td>\n",
              "      <td>4</td>\n",
              "      <td>4</td>\n",
              "      <td>sad</td>\n",
              "    </tr>\n",
              "    <tr>\n",
              "      <th>1</th>\n",
              "      <td>1</td>\n",
              "      <td>1.0</td>\n",
              "      <td>1.0</td>\n",
              "      <td>Adele</td>\n",
              "      <td>Easy On Me</td>\n",
              "      <td>Easy On Me</td>\n",
              "      <td>0gplL1WMoJ6iYaPgMCL0gX</td>\n",
              "      <td>224695</td>\n",
              "      <td>0.604</td>\n",
              "      <td>0.366</td>\n",
              "      <td>-7.519</td>\n",
              "      <td>0.578000</td>\n",
              "      <td>0.0282</td>\n",
              "      <td>0.000000</td>\n",
              "      <td>0.1330</td>\n",
              "      <td>0.130</td>\n",
              "      <td>141.981</td>\n",
              "      <td>5</td>\n",
              "      <td>4</td>\n",
              "      <td>sad</td>\n",
              "    </tr>\n",
              "    <tr>\n",
              "      <th>2</th>\n",
              "      <td>2</td>\n",
              "      <td>2.0</td>\n",
              "      <td>2.0</td>\n",
              "      <td>Griff</td>\n",
              "      <td>Black Hole (Acoustic Version)</td>\n",
              "      <td>Black Hole - Acoustic Version</td>\n",
              "      <td>1cpVLszZnKUHUjsJDTEi3D</td>\n",
              "      <td>175980</td>\n",
              "      <td>0.824</td>\n",
              "      <td>0.300</td>\n",
              "      <td>-6.678</td>\n",
              "      <td>0.854000</td>\n",
              "      <td>0.0565</td>\n",
              "      <td>0.000000</td>\n",
              "      <td>0.1740</td>\n",
              "      <td>0.227</td>\n",
              "      <td>112.867</td>\n",
              "      <td>1</td>\n",
              "      <td>4</td>\n",
              "      <td>sad</td>\n",
              "    </tr>\n",
              "    <tr>\n",
              "      <th>3</th>\n",
              "      <td>3</td>\n",
              "      <td>3.0</td>\n",
              "      <td>3.0</td>\n",
              "      <td>Benson Boone</td>\n",
              "      <td>GHOST TOWN</td>\n",
              "      <td>GHOST TOWN</td>\n",
              "      <td>135Lf4Q0CzlMNfOxbEUsLH</td>\n",
              "      <td>193733</td>\n",
              "      <td>0.391</td>\n",
              "      <td>0.335</td>\n",
              "      <td>-10.064</td>\n",
              "      <td>0.389000</td>\n",
              "      <td>0.0763</td>\n",
              "      <td>0.000000</td>\n",
              "      <td>0.1020</td>\n",
              "      <td>0.116</td>\n",
              "      <td>174.185</td>\n",
              "      <td>0</td>\n",
              "      <td>3</td>\n",
              "      <td>sad</td>\n",
              "    </tr>\n",
              "    <tr>\n",
              "      <th>4</th>\n",
              "      <td>4</td>\n",
              "      <td>4.0</td>\n",
              "      <td>4.0</td>\n",
              "      <td>Mimi Webb</td>\n",
              "      <td>24/5</td>\n",
              "      <td>24/5</td>\n",
              "      <td>1A6gT680oQr98VtDkNzys7</td>\n",
              "      <td>158221</td>\n",
              "      <td>0.559</td>\n",
              "      <td>0.763</td>\n",
              "      <td>-4.160</td>\n",
              "      <td>0.403000</td>\n",
              "      <td>0.1050</td>\n",
              "      <td>0.000000</td>\n",
              "      <td>0.1270</td>\n",
              "      <td>0.349</td>\n",
              "      <td>91.069</td>\n",
              "      <td>0</td>\n",
              "      <td>4</td>\n",
              "      <td>sad</td>\n",
              "    </tr>\n",
              "    <tr>\n",
              "      <th>...</th>\n",
              "      <td>...</td>\n",
              "      <td>...</td>\n",
              "      <td>...</td>\n",
              "      <td>...</td>\n",
              "      <td>...</td>\n",
              "      <td>...</td>\n",
              "      <td>...</td>\n",
              "      <td>...</td>\n",
              "      <td>...</td>\n",
              "      <td>...</td>\n",
              "      <td>...</td>\n",
              "      <td>...</td>\n",
              "      <td>...</td>\n",
              "      <td>...</td>\n",
              "      <td>...</td>\n",
              "      <td>...</td>\n",
              "      <td>...</td>\n",
              "      <td>...</td>\n",
              "      <td>...</td>\n",
              "      <td>...</td>\n",
              "    </tr>\n",
              "    <tr>\n",
              "      <th>3058</th>\n",
              "      <td>844</td>\n",
              "      <td>NaN</td>\n",
              "      <td>NaN</td>\n",
              "      <td>Highly Suspect</td>\n",
              "      <td>Mister Asylum</td>\n",
              "      <td>Bloodfeather</td>\n",
              "      <td>66Avcq6c51vcMGXLzHH5d7</td>\n",
              "      <td>234093</td>\n",
              "      <td>0.547</td>\n",
              "      <td>0.792</td>\n",
              "      <td>-5.645</td>\n",
              "      <td>0.000383</td>\n",
              "      <td>0.0350</td>\n",
              "      <td>0.000259</td>\n",
              "      <td>0.1060</td>\n",
              "      <td>0.395</td>\n",
              "      <td>97.998</td>\n",
              "      <td>9</td>\n",
              "      <td>4</td>\n",
              "      <td>energetic</td>\n",
              "    </tr>\n",
              "    <tr>\n",
              "      <th>3059</th>\n",
              "      <td>845</td>\n",
              "      <td>NaN</td>\n",
              "      <td>NaN</td>\n",
              "      <td>Muse</td>\n",
              "      <td>Drones</td>\n",
              "      <td>Psycho</td>\n",
              "      <td>383QXk8nb2YrARMUwDdjQS</td>\n",
              "      <td>316718</td>\n",
              "      <td>0.555</td>\n",
              "      <td>0.883</td>\n",
              "      <td>-3.426</td>\n",
              "      <td>0.001140</td>\n",
              "      <td>0.0341</td>\n",
              "      <td>0.041000</td>\n",
              "      <td>0.8680</td>\n",
              "      <td>0.507</td>\n",
              "      <td>125.020</td>\n",
              "      <td>2</td>\n",
              "      <td>4</td>\n",
              "      <td>energetic</td>\n",
              "    </tr>\n",
              "    <tr>\n",
              "      <th>3060</th>\n",
              "      <td>846</td>\n",
              "      <td>NaN</td>\n",
              "      <td>NaN</td>\n",
              "      <td>Muse</td>\n",
              "      <td>Origin of Symmetry</td>\n",
              "      <td>Plug in Baby</td>\n",
              "      <td>2UKARCqDrhkYDoVR4FN5Wi</td>\n",
              "      <td>218000</td>\n",
              "      <td>0.408</td>\n",
              "      <td>0.965</td>\n",
              "      <td>-4.232</td>\n",
              "      <td>0.000007</td>\n",
              "      <td>0.0500</td>\n",
              "      <td>0.000402</td>\n",
              "      <td>0.1100</td>\n",
              "      <td>0.349</td>\n",
              "      <td>136.018</td>\n",
              "      <td>2</td>\n",
              "      <td>4</td>\n",
              "      <td>energetic</td>\n",
              "    </tr>\n",
              "    <tr>\n",
              "      <th>3061</th>\n",
              "      <td>847</td>\n",
              "      <td>NaN</td>\n",
              "      <td>NaN</td>\n",
              "      <td>Pop Evil</td>\n",
              "      <td>UP</td>\n",
              "      <td>Footsteps</td>\n",
              "      <td>47StfXJOnGLhYfMEWgoTiX</td>\n",
              "      <td>262107</td>\n",
              "      <td>0.641</td>\n",
              "      <td>0.732</td>\n",
              "      <td>-7.570</td>\n",
              "      <td>0.013900</td>\n",
              "      <td>0.0795</td>\n",
              "      <td>0.000003</td>\n",
              "      <td>0.0620</td>\n",
              "      <td>0.763</td>\n",
              "      <td>92.057</td>\n",
              "      <td>5</td>\n",
              "      <td>4</td>\n",
              "      <td>energetic</td>\n",
              "    </tr>\n",
              "    <tr>\n",
              "      <th>3062</th>\n",
              "      <td>848</td>\n",
              "      <td>NaN</td>\n",
              "      <td>NaN</td>\n",
              "      <td>Queens of the Stone Age</td>\n",
              "      <td>Lullabies To Paralyze (International Version)</td>\n",
              "      <td>Little Sister</td>\n",
              "      <td>5wHNRDvNDTvAvNUllq5v7R</td>\n",
              "      <td>174027</td>\n",
              "      <td>0.361</td>\n",
              "      <td>0.962</td>\n",
              "      <td>-2.928</td>\n",
              "      <td>0.010300</td>\n",
              "      <td>0.0659</td>\n",
              "      <td>0.001030</td>\n",
              "      <td>0.2940</td>\n",
              "      <td>0.927</td>\n",
              "      <td>161.292</td>\n",
              "      <td>1</td>\n",
              "      <td>4</td>\n",
              "      <td>energetic</td>\n",
              "    </tr>\n",
              "  </tbody>\n",
              "</table>\n",
              "<p>3063 rows × 20 columns</p>\n",
              "</div>\n",
              "      <button class=\"colab-df-convert\" onclick=\"convertToInteractive('df-13651bba-2874-4e61-9421-427d2cc2f435')\"\n",
              "              title=\"Convert this dataframe to an interactive table.\"\n",
              "              style=\"display:none;\">\n",
              "        \n",
              "  <svg xmlns=\"http://www.w3.org/2000/svg\" height=\"24px\"viewBox=\"0 0 24 24\"\n",
              "       width=\"24px\">\n",
              "    <path d=\"M0 0h24v24H0V0z\" fill=\"none\"/>\n",
              "    <path d=\"M18.56 5.44l.94 2.06.94-2.06 2.06-.94-2.06-.94-.94-2.06-.94 2.06-2.06.94zm-11 1L8.5 8.5l.94-2.06 2.06-.94-2.06-.94L8.5 2.5l-.94 2.06-2.06.94zm10 10l.94 2.06.94-2.06 2.06-.94-2.06-.94-.94-2.06-.94 2.06-2.06.94z\"/><path d=\"M17.41 7.96l-1.37-1.37c-.4-.4-.92-.59-1.43-.59-.52 0-1.04.2-1.43.59L10.3 9.45l-7.72 7.72c-.78.78-.78 2.05 0 2.83L4 21.41c.39.39.9.59 1.41.59.51 0 1.02-.2 1.41-.59l7.78-7.78 2.81-2.81c.8-.78.8-2.07 0-2.86zM5.41 20L4 18.59l7.72-7.72 1.47 1.35L5.41 20z\"/>\n",
              "  </svg>\n",
              "      </button>\n",
              "      \n",
              "  <style>\n",
              "    .colab-df-container {\n",
              "      display:flex;\n",
              "      flex-wrap:wrap;\n",
              "      gap: 12px;\n",
              "    }\n",
              "\n",
              "    .colab-df-convert {\n",
              "      background-color: #E8F0FE;\n",
              "      border: none;\n",
              "      border-radius: 50%;\n",
              "      cursor: pointer;\n",
              "      display: none;\n",
              "      fill: #1967D2;\n",
              "      height: 32px;\n",
              "      padding: 0 0 0 0;\n",
              "      width: 32px;\n",
              "    }\n",
              "\n",
              "    .colab-df-convert:hover {\n",
              "      background-color: #E2EBFA;\n",
              "      box-shadow: 0px 1px 2px rgba(60, 64, 67, 0.3), 0px 1px 3px 1px rgba(60, 64, 67, 0.15);\n",
              "      fill: #174EA6;\n",
              "    }\n",
              "\n",
              "    [theme=dark] .colab-df-convert {\n",
              "      background-color: #3B4455;\n",
              "      fill: #D2E3FC;\n",
              "    }\n",
              "\n",
              "    [theme=dark] .colab-df-convert:hover {\n",
              "      background-color: #434B5C;\n",
              "      box-shadow: 0px 1px 3px 1px rgba(0, 0, 0, 0.15);\n",
              "      filter: drop-shadow(0px 1px 2px rgba(0, 0, 0, 0.3));\n",
              "      fill: #FFFFFF;\n",
              "    }\n",
              "  </style>\n",
              "\n",
              "      <script>\n",
              "        const buttonEl =\n",
              "          document.querySelector('#df-13651bba-2874-4e61-9421-427d2cc2f435 button.colab-df-convert');\n",
              "        buttonEl.style.display =\n",
              "          google.colab.kernel.accessAllowed ? 'block' : 'none';\n",
              "\n",
              "        async function convertToInteractive(key) {\n",
              "          const element = document.querySelector('#df-13651bba-2874-4e61-9421-427d2cc2f435');\n",
              "          const dataTable =\n",
              "            await google.colab.kernel.invokeFunction('convertToInteractive',\n",
              "                                                     [key], {});\n",
              "          if (!dataTable) return;\n",
              "\n",
              "          const docLinkHtml = 'Like what you see? Visit the ' +\n",
              "            '<a target=\"_blank\" href=https://colab.research.google.com/notebooks/data_table.ipynb>data table notebook</a>'\n",
              "            + ' to learn more about interactive tables.';\n",
              "          element.innerHTML = '';\n",
              "          dataTable['output_type'] = 'display_data';\n",
              "          await google.colab.output.renderOutput(dataTable, element);\n",
              "          const docLink = document.createElement('div');\n",
              "          docLink.innerHTML = docLinkHtml;\n",
              "          element.appendChild(docLink);\n",
              "        }\n",
              "      </script>\n",
              "    </div>\n",
              "  </div>\n",
              "  "
            ],
            "text/plain": [
              "      Unnamed: 0  Unnamed: 0.1  Unnamed: 0.1.1  ... key time_signature      genre\n",
              "0              0           0.0             0.0  ...   4              4        sad\n",
              "1              1           1.0             1.0  ...   5              4        sad\n",
              "2              2           2.0             2.0  ...   1              4        sad\n",
              "3              3           3.0             3.0  ...   0              3        sad\n",
              "4              4           4.0             4.0  ...   0              4        sad\n",
              "...          ...           ...             ...  ...  ..            ...        ...\n",
              "3058         844           NaN             NaN  ...   9              4  energetic\n",
              "3059         845           NaN             NaN  ...   2              4  energetic\n",
              "3060         846           NaN             NaN  ...   2              4  energetic\n",
              "3061         847           NaN             NaN  ...   5              4  energetic\n",
              "3062         848           NaN             NaN  ...   1              4  energetic\n",
              "\n",
              "[3063 rows x 20 columns]"
            ]
          },
          "metadata": {},
          "execution_count": 35
        }
      ]
    },
    {
      "cell_type": "code",
      "source": [
        "#定義特徵和目標\n",
        "col_features = df.columns[8:-3]\n",
        "#標準化特徵 主要是loudness\n",
        "X= MinMaxScaler().fit_transform(df[col_features])\n",
        "X2 = np.array(df[col_features])\n",
        "Y = df['genre']\n",
        "col_features"
      ],
      "metadata": {
        "colab": {
          "base_uri": "https://localhost:8080/"
        },
        "id": "uoJzY1QgcwWV",
        "outputId": "2629b7dc-4276-4ec2-f1c8-8c141e41d66c"
      },
      "execution_count": null,
      "outputs": [
        {
          "output_type": "execute_result",
          "data": {
            "text/plain": [
              "Index(['danceability', 'energy', 'loudness', 'acousticness', 'speechiness',\n",
              "       'instrumentalness', 'liveness', 'valence', 'tempo'],\n",
              "      dtype='object')"
            ]
          },
          "metadata": {},
          "execution_count": 9
        }
      ]
    },
    {
      "cell_type": "code",
      "source": [
        "encoder = LabelEncoder()\n",
        "encoder.fit(Y)\n",
        "encoded_y = encoder.transform(Y)\n",
        "dummy_y = np_utils.to_categorical(encoded_y)\n",
        "#拆分訓練和測試數據，測試大小為20%\n",
        "X_train,X_test,Y_train,Y_test = train_test_split(X,encoded_y,test_size=0.25,random_state=15)\n",
        "target = pd.DataFrame({'mood':df['genre'].tolist(),'encode':encoded_y}).drop_duplicates().sort_values(['encode'],ascending=True)\n",
        "target"
      ],
      "metadata": {
        "colab": {
          "base_uri": "https://localhost:8080/",
          "height": 175
        },
        "id": "GhRVzn9NcyT8",
        "outputId": "5ae59e96-5b4b-4615-eba3-5d7d5f717aa0"
      },
      "execution_count": null,
      "outputs": [
        {
          "output_type": "execute_result",
          "data": {
            "text/html": [
              "\n",
              "  <div id=\"df-b67bd5c0-3d4c-4e84-be0c-613e090107d8\">\n",
              "    <div class=\"colab-df-container\">\n",
              "      <div>\n",
              "<style scoped>\n",
              "    .dataframe tbody tr th:only-of-type {\n",
              "        vertical-align: middle;\n",
              "    }\n",
              "\n",
              "    .dataframe tbody tr th {\n",
              "        vertical-align: top;\n",
              "    }\n",
              "\n",
              "    .dataframe thead th {\n",
              "        text-align: right;\n",
              "    }\n",
              "</style>\n",
              "<table border=\"1\" class=\"dataframe\">\n",
              "  <thead>\n",
              "    <tr style=\"text-align: right;\">\n",
              "      <th></th>\n",
              "      <th>mood</th>\n",
              "      <th>encode</th>\n",
              "    </tr>\n",
              "  </thead>\n",
              "  <tbody>\n",
              "    <tr>\n",
              "      <th>1392</th>\n",
              "      <td>calm</td>\n",
              "      <td>0</td>\n",
              "    </tr>\n",
              "    <tr>\n",
              "      <th>2224</th>\n",
              "      <td>energetic</td>\n",
              "      <td>1</td>\n",
              "    </tr>\n",
              "    <tr>\n",
              "      <th>611</th>\n",
              "      <td>happy</td>\n",
              "      <td>2</td>\n",
              "    </tr>\n",
              "    <tr>\n",
              "      <th>0</th>\n",
              "      <td>sad</td>\n",
              "      <td>3</td>\n",
              "    </tr>\n",
              "  </tbody>\n",
              "</table>\n",
              "</div>\n",
              "      <button class=\"colab-df-convert\" onclick=\"convertToInteractive('df-b67bd5c0-3d4c-4e84-be0c-613e090107d8')\"\n",
              "              title=\"Convert this dataframe to an interactive table.\"\n",
              "              style=\"display:none;\">\n",
              "        \n",
              "  <svg xmlns=\"http://www.w3.org/2000/svg\" height=\"24px\"viewBox=\"0 0 24 24\"\n",
              "       width=\"24px\">\n",
              "    <path d=\"M0 0h24v24H0V0z\" fill=\"none\"/>\n",
              "    <path d=\"M18.56 5.44l.94 2.06.94-2.06 2.06-.94-2.06-.94-.94-2.06-.94 2.06-2.06.94zm-11 1L8.5 8.5l.94-2.06 2.06-.94-2.06-.94L8.5 2.5l-.94 2.06-2.06.94zm10 10l.94 2.06.94-2.06 2.06-.94-2.06-.94-.94-2.06-.94 2.06-2.06.94z\"/><path d=\"M17.41 7.96l-1.37-1.37c-.4-.4-.92-.59-1.43-.59-.52 0-1.04.2-1.43.59L10.3 9.45l-7.72 7.72c-.78.78-.78 2.05 0 2.83L4 21.41c.39.39.9.59 1.41.59.51 0 1.02-.2 1.41-.59l7.78-7.78 2.81-2.81c.8-.78.8-2.07 0-2.86zM5.41 20L4 18.59l7.72-7.72 1.47 1.35L5.41 20z\"/>\n",
              "  </svg>\n",
              "      </button>\n",
              "      \n",
              "  <style>\n",
              "    .colab-df-container {\n",
              "      display:flex;\n",
              "      flex-wrap:wrap;\n",
              "      gap: 12px;\n",
              "    }\n",
              "\n",
              "    .colab-df-convert {\n",
              "      background-color: #E8F0FE;\n",
              "      border: none;\n",
              "      border-radius: 50%;\n",
              "      cursor: pointer;\n",
              "      display: none;\n",
              "      fill: #1967D2;\n",
              "      height: 32px;\n",
              "      padding: 0 0 0 0;\n",
              "      width: 32px;\n",
              "    }\n",
              "\n",
              "    .colab-df-convert:hover {\n",
              "      background-color: #E2EBFA;\n",
              "      box-shadow: 0px 1px 2px rgba(60, 64, 67, 0.3), 0px 1px 3px 1px rgba(60, 64, 67, 0.15);\n",
              "      fill: #174EA6;\n",
              "    }\n",
              "\n",
              "    [theme=dark] .colab-df-convert {\n",
              "      background-color: #3B4455;\n",
              "      fill: #D2E3FC;\n",
              "    }\n",
              "\n",
              "    [theme=dark] .colab-df-convert:hover {\n",
              "      background-color: #434B5C;\n",
              "      box-shadow: 0px 1px 3px 1px rgba(0, 0, 0, 0.15);\n",
              "      filter: drop-shadow(0px 1px 2px rgba(0, 0, 0, 0.3));\n",
              "      fill: #FFFFFF;\n",
              "    }\n",
              "  </style>\n",
              "\n",
              "      <script>\n",
              "        const buttonEl =\n",
              "          document.querySelector('#df-b67bd5c0-3d4c-4e84-be0c-613e090107d8 button.colab-df-convert');\n",
              "        buttonEl.style.display =\n",
              "          google.colab.kernel.accessAllowed ? 'block' : 'none';\n",
              "\n",
              "        async function convertToInteractive(key) {\n",
              "          const element = document.querySelector('#df-b67bd5c0-3d4c-4e84-be0c-613e090107d8');\n",
              "          const dataTable =\n",
              "            await google.colab.kernel.invokeFunction('convertToInteractive',\n",
              "                                                     [key], {});\n",
              "          if (!dataTable) return;\n",
              "\n",
              "          const docLinkHtml = 'Like what you see? Visit the ' +\n",
              "            '<a target=\"_blank\" href=https://colab.research.google.com/notebooks/data_table.ipynb>data table notebook</a>'\n",
              "            + ' to learn more about interactive tables.';\n",
              "          element.innerHTML = '';\n",
              "          dataTable['output_type'] = 'display_data';\n",
              "          await google.colab.output.renderOutput(dataTable, element);\n",
              "          const docLink = document.createElement('div');\n",
              "          docLink.innerHTML = docLinkHtml;\n",
              "          element.appendChild(docLink);\n",
              "        }\n",
              "      </script>\n",
              "    </div>\n",
              "  </div>\n",
              "  "
            ],
            "text/plain": [
              "           mood  encode\n",
              "1392       calm       0\n",
              "2224  energetic       1\n",
              "611       happy       2\n",
              "0           sad       3"
            ]
          },
          "metadata": {},
          "execution_count": 42
        }
      ]
    },
    {
      "cell_type": "code",
      "source": [
        "X"
      ],
      "metadata": {
        "colab": {
          "base_uri": "https://localhost:8080/"
        },
        "id": "c-zd5e_Cfp4l",
        "outputId": "42e1299b-5130-43c8-f45f-520ec64ea318"
      },
      "execution_count": null,
      "outputs": [
        {
          "output_type": "execute_result",
          "data": {
            "text/plain": [
              "array([[0.45971074, 0.53858217, 0.82041905, ..., 0.08043366, 0.13367347,\n",
              "        0.57992518],\n",
              "       [0.62396694, 0.36668141, 0.8443207 , ..., 0.12028911, 0.13265306,\n",
              "        0.6706771 ],\n",
              "       [0.85123967, 0.30033375, 0.86416403, ..., 0.16262261, 0.23163265,\n",
              "        0.533151  ],\n",
              "       ...,\n",
              "       [0.4214876 , 0.9688367 , 0.92187721, ..., 0.09654104, 0.35612245,\n",
              "        0.64250961],\n",
              "       [0.66219008, 0.73460935, 0.84311736, ..., 0.04697987, 0.77857143,\n",
              "        0.43485059],\n",
              "       [0.37293388, 0.9658209 , 0.95264499, ..., 0.28652555, 0.94591837,\n",
              "        0.76189666]])"
            ]
          },
          "metadata": {},
          "execution_count": 43
        }
      ]
    },
    {
      "cell_type": "code",
      "source": [
        "X_test"
      ],
      "metadata": {
        "colab": {
          "base_uri": "https://localhost:8080/"
        },
        "id": "ckGMokUNfsR1",
        "outputId": "42462366-f82d-4f72-8d48-4d35542a5a8c"
      },
      "execution_count": null,
      "outputs": [
        {
          "output_type": "execute_result",
          "data": {
            "text/plain": [
              "array([[0.68904959, 0.13144879, 0.59003822, ..., 0.06381002, 0.12755102,\n",
              "        0.37799601],\n",
              "       [0.65702479, 0.92762073, 0.9247086 , ..., 0.76355188, 0.86734694,\n",
              "        0.59047322],\n",
              "       [0.35227273, 0.19578592, 0.7374357 , ..., 0.08549303, 0.14489796,\n",
              "        0.62488545],\n",
              "       ...,\n",
              "       [0.42355372, 0.65921428, 0.83358501, ..., 0.11512648, 0.43877551,\n",
              "        0.77784391],\n",
              "       [0.75413223, 0.62101411, 0.8429522 , ..., 0.09757357, 0.81326531,\n",
              "        0.60471521],\n",
              "       [0.76446281, 0.429008  , 0.82216507, ..., 0.10376871, 0.28673469,\n",
              "        0.40028248]])"
            ]
          },
          "metadata": {},
          "execution_count": 37
        }
      ]
    },
    {
      "cell_type": "code",
      "source": [
        "X_train"
      ],
      "metadata": {
        "colab": {
          "base_uri": "https://localhost:8080/"
        },
        "id": "dNv-LOuufuHw",
        "outputId": "eba746fb-6318-46c0-adaf-c4bbede547e3"
      },
      "execution_count": null,
      "outputs": [
        {
          "output_type": "execute_result",
          "data": {
            "text/plain": [
              "array([[0.37809917, 0.94370501, 0.90094852, ..., 0.17707796, 0.37653061,\n",
              "        0.61501762],\n",
              "       [0.57231405, 0.29028107, 0.77624935, ..., 0.08559628, 0.79285714,\n",
              "        0.40083515],\n",
              "       [0.69524793, 0.84217299, 0.86159219, ..., 0.11306144, 0.24489796,\n",
              "        0.59060549],\n",
              "       ...,\n",
              "       [0.63429752, 0.12541719, 0.79986787, ..., 0.13577697, 0.35816327,\n",
              "        0.56658542],\n",
              "       [0.59194215, 0.93264707, 0.92871974, ..., 0.04150749, 0.59387755,\n",
              "        0.60432314],\n",
              "       [0.7768595 , 0.92058386, 0.90540796, ..., 0.17294786, 0.63163265,\n",
              "        0.53371784]])"
            ]
          },
          "metadata": {},
          "execution_count": 38
        }
      ]
    },
    {
      "cell_type": "code",
      "source": [
        "Y_test"
      ],
      "metadata": {
        "colab": {
          "base_uri": "https://localhost:8080/"
        },
        "id": "YOrUAsgUfuhH",
        "outputId": "9802ab78-1387-4e9f-c6ec-d944720b9ba1"
      },
      "execution_count": null,
      "outputs": [
        {
          "output_type": "execute_result",
          "data": {
            "text/plain": [
              "array([0, 1, 3, 0, 2, 2, 2, 0, 3, 1, 1, 1, 1, 2, 0, 0, 2, 1, 0, 2, 1, 3,\n",
              "       1, 1, 1, 1, 3, 2, 0, 0, 1, 2, 3, 1, 3, 0, 1, 0, 3, 0, 3, 0, 0, 1,\n",
              "       0, 0, 0, 0, 0, 1, 3, 1, 3, 0, 1, 0, 0, 3, 3, 3, 0, 2, 3, 0, 0, 1,\n",
              "       3, 3, 0, 2, 1, 1, 0, 0, 0, 3, 2, 2, 0, 1, 1, 2, 0, 2, 2, 1, 3, 3,\n",
              "       0, 1, 0, 1, 2, 3, 0, 1, 1, 1, 1, 2, 0, 1, 0, 2, 0, 1, 2, 1, 1, 1,\n",
              "       2, 3, 0, 2, 2, 0, 3, 1, 2, 1, 3, 3, 0, 0, 1, 0, 3, 1, 3, 3, 1, 0,\n",
              "       2, 2, 0, 2, 2, 1, 0, 0, 2, 3, 3, 2, 2, 3, 2, 1, 1, 2, 1, 0, 0, 1,\n",
              "       0, 3, 3, 1, 1, 0, 1, 0, 0, 2, 3, 2, 2, 3, 2, 0, 1, 1, 0, 3, 0, 3,\n",
              "       1, 3, 0, 2, 1, 1, 2, 0, 1, 3, 0, 0, 0, 3, 2, 0, 0, 1, 2, 1, 1, 0,\n",
              "       1, 1, 1, 3, 2, 3, 2, 3, 0, 1, 1, 1, 3, 2, 0, 0, 1, 2, 3, 0, 3, 0,\n",
              "       3, 2, 1, 2, 1, 0, 2, 1, 0, 1, 0, 2, 1, 1, 0, 1, 1, 0, 0, 3, 3, 3,\n",
              "       2, 1, 3, 2, 2, 3, 3, 0, 1, 0, 2, 0, 3, 3, 0, 2, 3, 1, 0, 0, 0, 2,\n",
              "       0, 1, 0, 1, 2, 3, 0, 1, 2, 1, 0, 1, 0, 2, 2, 0, 0, 3, 3, 2, 0, 0,\n",
              "       0, 3, 1, 3, 2, 0, 3, 2, 1, 2, 2, 3, 3, 2, 0, 1, 1, 3, 1, 1, 1, 1,\n",
              "       0, 1, 2, 0, 2, 0, 3, 3, 3, 1, 3, 2, 0, 1, 2, 2, 1, 2, 1, 0, 1, 3,\n",
              "       0, 1, 3, 2, 2, 1, 0, 2, 3, 2, 2, 2, 1, 1, 0, 1, 0, 2, 2, 2, 3, 3,\n",
              "       0, 1, 1, 2, 3, 3, 2, 1, 3, 2, 3, 3, 1, 1, 2, 2, 2, 3, 1, 0, 2, 2,\n",
              "       3, 2, 3, 1, 0, 0, 1, 2, 2, 1, 0, 2, 2, 1, 0, 1, 2, 1, 0, 1, 0, 1,\n",
              "       1, 1, 2, 0, 0, 1, 3, 2, 3, 1, 0, 2, 0, 3, 3, 0, 2, 3, 1, 1, 1, 0,\n",
              "       2, 1, 3, 1, 1, 3, 1, 2, 2, 1, 0, 1, 2, 3, 3, 3, 2, 1, 0, 0, 0, 1,\n",
              "       0, 0, 3, 0, 0, 0, 2, 3, 2, 1, 0, 3, 2, 0, 1, 2, 0, 1, 1, 1, 2, 0,\n",
              "       2, 0, 0, 3, 0, 0, 0, 0, 2, 1, 0, 1, 3, 2, 2, 1, 3, 2, 3, 0, 2, 0,\n",
              "       0, 0, 1, 3, 0, 0, 1, 3, 1, 2, 1, 0, 0, 3, 2, 2, 0, 2, 3, 1, 2, 1,\n",
              "       3, 3, 0, 2, 3, 0, 3, 2, 3, 0, 0, 3, 1, 2, 0, 0, 1, 1, 2, 3, 3, 0,\n",
              "       2, 1, 2, 0, 0, 0, 3, 0, 2, 1, 2, 1, 1, 2, 3, 2, 2, 2, 0, 2, 1, 3,\n",
              "       0, 2, 2, 1, 3, 0, 0, 0, 1, 2, 0, 0, 1, 3, 1, 0, 2, 2, 3, 3, 0, 0,\n",
              "       0, 0, 1, 2, 1, 2, 3, 2, 0, 0, 0, 1, 2, 1, 3, 2, 0, 1, 0, 0, 1, 1,\n",
              "       3, 3, 2, 2, 1, 1, 1, 3, 0, 2, 0, 2, 3, 0, 3, 1, 1, 1, 2, 2, 0, 3,\n",
              "       0, 2, 0, 3, 0, 3, 3, 1, 0, 3, 2, 3, 3, 3, 2, 2, 3, 2, 1, 2, 0, 1,\n",
              "       3, 0, 2, 0, 0, 1, 2, 0, 0, 1, 1, 2, 0, 2, 1, 3, 0, 0, 3, 1, 0, 3,\n",
              "       1, 0, 2, 2, 2, 2, 1, 3, 2, 2, 3, 0, 0, 1, 0, 2, 3, 3, 3, 3, 1, 1,\n",
              "       1, 3, 3, 2, 2, 3, 1, 0, 2, 0, 1, 0, 1, 1, 3, 3, 1, 0, 0, 1, 3, 0,\n",
              "       3, 2, 1, 3, 3, 3, 1, 1, 2, 3, 1, 0, 1, 1, 1, 2, 1, 2, 3, 0, 1, 3,\n",
              "       1, 2, 0, 2, 1, 3, 2, 0, 1, 0, 0, 0, 0, 3, 1, 3, 2, 3, 0, 0, 0, 2,\n",
              "       0, 2, 3, 1, 0, 3, 2, 3, 1, 1, 3, 2, 3, 0, 0, 3, 0, 3])"
            ]
          },
          "metadata": {},
          "execution_count": 39
        }
      ]
    },
    {
      "cell_type": "code",
      "source": [
        "Y_train"
      ],
      "metadata": {
        "colab": {
          "base_uri": "https://localhost:8080/"
        },
        "id": "M6C29gR1fyMg",
        "outputId": "25fd5058-e6c2-40c1-a6c2-b00067663470"
      },
      "execution_count": null,
      "outputs": [
        {
          "output_type": "execute_result",
          "data": {
            "text/plain": [
              "array([1, 3, 2, ..., 0, 1, 1])"
            ]
          },
          "metadata": {},
          "execution_count": 40
        }
      ]
    },
    {
      "cell_type": "code",
      "source": [
        "#我用來構建神經網絡的代碼：\n",
        "\n",
        "def base_model():\n",
        "    #你可以通过将网络层实例的列表传递给 Sequential 的构造器，来创建一个 Sequential 模型：\n",
        "    model = Sequential()#定義模型\n",
        "    #Add 1 layer with 8 nodes,# Input - Layer\n",
        "    model.add(Dense(8,input_dim=9,activation='relu'))\n",
        "    #Add 1 layer with softmax function (activation)\n",
        "    model.add(Dense(4,activation='softmax'))\n",
        "    #Compile the model using sigmoid loss function and adam optim\n",
        "    model.compile(loss='categorical_crossentropy',optimizer='adam',\n",
        "                 metrics=['accuracy'])\n",
        "    return model"
      ],
      "metadata": {
        "id": "bFJHu-Ucc0-D"
      },
      "execution_count": null,
      "outputs": []
    },
    {
      "cell_type": "code",
      "source": [
        "#Configure the model\n",
        "estimator = KerasClassifier(build_fn=base_model,epochs=300,batch_size=200,verbose=0)"
      ],
      "metadata": {
        "colab": {
          "base_uri": "https://localhost:8080/"
        },
        "id": "Zl58owagc3Od",
        "outputId": "7f54036a-f3e4-4b02-c63e-a02601c2b07c"
      },
      "execution_count": null,
      "outputs": [
        {
          "output_type": "stream",
          "name": "stderr",
          "text": [
            "/usr/local/lib/python3.7/dist-packages/ipykernel_launcher.py:2: DeprecationWarning: KerasClassifier is deprecated, use Sci-Keras (https://github.com/adriangb/scikeras) instead.\n",
            "  \n"
          ]
        }
      ]
    },
    {
      "cell_type": "markdown",
      "source": [
        "K-fold cross-validation, the initial sample (sample set X, Y) is divided into K parts, one part is retained as the data for the verification model (test set), and the other K-1 parts are used for training (train set). Cross-validation is repeated K times, each validation is performed once, and the results of K times are averaged or other combined methods are used to obtain a single estimate.\n",
        "\n",
        "The advantage of this method is that it repeatedly uses randomly generated sub-samples for training and verification, and each result is verified once. 10-fold cross-validation is the most commonly used. (Remember that the data used as a verification model is different each time)"
      ],
      "metadata": {
        "id": "gqJ3vX9TgMro"
      }
    },
    {
      "cell_type": "code",
      "source": [
        "#Evaluate the model using KFold cross validation\n",
        "kfold = KFold(n_splits=10,shuffle=True)\n",
        "results = cross_val_score(estimator,X,encoded_y,cv=kfold)\n",
        "print(\"Baseline: %.2f%% (%.2f%%)\" % (results.mean()*100,results.std()*100))"
      ],
      "metadata": {
        "colab": {
          "base_uri": "https://localhost:8080/"
        },
        "id": "_dqELRTXf4ks",
        "outputId": "6d609272-8df6-458d-b598-1ab15430a31a"
      },
      "execution_count": null,
      "outputs": [
        {
          "output_type": "stream",
          "name": "stderr",
          "text": [
            "/usr/local/lib/python3.7/dist-packages/keras/engine/training_v1.py:2057: UserWarning: `Model.state_updates` will be removed in a future version. This property should not be used in TensorFlow 2.0, as `updates` are applied automatically.\n",
            "  updates = self.state_updates\n",
            "/usr/local/lib/python3.7/dist-packages/keras/engine/training_v1.py:2057: UserWarning: `Model.state_updates` will be removed in a future version. This property should not be used in TensorFlow 2.0, as `updates` are applied automatically.\n",
            "  updates = self.state_updates\n",
            "/usr/local/lib/python3.7/dist-packages/keras/engine/training_v1.py:2057: UserWarning: `Model.state_updates` will be removed in a future version. This property should not be used in TensorFlow 2.0, as `updates` are applied automatically.\n",
            "  updates = self.state_updates\n",
            "/usr/local/lib/python3.7/dist-packages/keras/engine/training_v1.py:2057: UserWarning: `Model.state_updates` will be removed in a future version. This property should not be used in TensorFlow 2.0, as `updates` are applied automatically.\n",
            "  updates = self.state_updates\n",
            "/usr/local/lib/python3.7/dist-packages/keras/engine/training_v1.py:2057: UserWarning: `Model.state_updates` will be removed in a future version. This property should not be used in TensorFlow 2.0, as `updates` are applied automatically.\n",
            "  updates = self.state_updates\n",
            "/usr/local/lib/python3.7/dist-packages/keras/engine/training_v1.py:2057: UserWarning: `Model.state_updates` will be removed in a future version. This property should not be used in TensorFlow 2.0, as `updates` are applied automatically.\n",
            "  updates = self.state_updates\n",
            "/usr/local/lib/python3.7/dist-packages/keras/engine/training_v1.py:2057: UserWarning: `Model.state_updates` will be removed in a future version. This property should not be used in TensorFlow 2.0, as `updates` are applied automatically.\n",
            "  updates = self.state_updates\n",
            "/usr/local/lib/python3.7/dist-packages/keras/engine/training_v1.py:2057: UserWarning: `Model.state_updates` will be removed in a future version. This property should not be used in TensorFlow 2.0, as `updates` are applied automatically.\n",
            "  updates = self.state_updates\n",
            "/usr/local/lib/python3.7/dist-packages/keras/engine/training_v1.py:2057: UserWarning: `Model.state_updates` will be removed in a future version. This property should not be used in TensorFlow 2.0, as `updates` are applied automatically.\n",
            "  updates = self.state_updates\n",
            "/usr/local/lib/python3.7/dist-packages/keras/engine/training_v1.py:2057: UserWarning: `Model.state_updates` will be removed in a future version. This property should not be used in TensorFlow 2.0, as `updates` are applied automatically.\n",
            "  updates = self.state_updates\n"
          ]
        },
        {
          "output_type": "stream",
          "name": "stdout",
          "text": [
            "Baseline: 67.32% (1.73%)\n"
          ]
        }
      ]
    },
    {
      "cell_type": "code",
      "source": [
        "estimator.fit(X_train,Y_train,batch_size=None,)\n",
        "y_preds = estimator.predict(X_test)"
      ],
      "metadata": {
        "colab": {
          "base_uri": "https://localhost:8080/"
        },
        "id": "ROnQDFmlc4HU",
        "outputId": "dd1def0f-03c6-46b2-bfff-fd8c2d0f14b5"
      },
      "execution_count": null,
      "outputs": [
        {
          "output_type": "stream",
          "name": "stderr",
          "text": [
            "/usr/local/lib/python3.7/dist-packages/keras/engine/training_v1.py:2079: UserWarning: `Model.state_updates` will be removed in a future version. This property should not be used in TensorFlow 2.0, as `updates` are applied automatically.\n",
            "  updates=self.state_updates,\n"
          ]
        }
      ]
    },
    {
      "cell_type": "code",
      "source": [
        "cm = confusion_matrix(Y_test,y_preds)\n",
        "ax = plt.subplot()\n",
        "sns.heatmap(cm,annot=True,ax=ax)\n",
        "\n",
        "labels = target['mood']\n",
        "ax.set_xlabel('Predicted labels')\n",
        "ax.set_ylabel('True labels')\n",
        "ax.set_title('Confusion Matrix')\n",
        "ax.xaxis.set_ticklabels(labels)\n",
        "ax.yaxis.set_ticklabels(labels)\n",
        "plt.show()\n",
        "\n",
        "print(\"Accuracy Score\",accuracy_score(Y_test,y_preds))"
      ],
      "metadata": {
        "colab": {
          "base_uri": "https://localhost:8080/",
          "height": 319
        },
        "id": "8U4XNXMdc6lR",
        "outputId": "03202114-f204-47de-e772-bb313c0e08ff"
      },
      "execution_count": null,
      "outputs": [
        {
          "output_type": "display_data",
          "data": {
            "image/png": "[encoded data removed]",
            "text/plain": [
              "<Figure size 432x288 with 2 Axes>"
            ]
          },
          "metadata": {}
        },
        {
          "output_type": "stream",
          "name": "stdout",
          "text": [
            "Accuracy Score 0.6695652173913044\n"
          ]
        }
      ]
    },
    {
      "cell_type": "markdown",
      "source": [
        "#Predicting Song Mood"
      ],
      "metadata": {
        "id": "KcWvltoIf8bK"
      }
    },
    {
      "cell_type": "code",
      "source": [
        "def get_songs_features(ids):\n",
        "    \n",
        "    meta = sp.track(ids)\n",
        "    features = sp.audio_features(ids)\n",
        "\n",
        "    # meta\n",
        "    track_name = meta['name']\n",
        "    album = meta['album']['name']\n",
        "    artist = meta['album']['artists'][0]['name']\n",
        "    duration_ms = meta['duration_ms']\n",
        "    track_id = meta['id']\n",
        "\n",
        "    # features\n",
        "    acousticness = features[0]['acousticness']\n",
        "    danceability = features[0]['danceability']\n",
        "    energy = features[0]['energy']\n",
        "    instrumentalness = features[0]['instrumentalness']\n",
        "    liveness = features[0]['liveness']\n",
        "    valence = features[0]['valence']\n",
        "    loudness = features[0]['loudness']\n",
        "    speechiness = features[0]['speechiness']\n",
        "    tempo = features[0]['tempo']\n",
        "    key = features[0]['key']\n",
        "    time_signature = features[0]['time_signature']\n",
        "\n",
        "    track = [artist, album, track_name, track_id, duration_ms,danceability, energy, loudness,acousticness,\n",
        "                              speechiness, instrumentalness, liveness, valence, tempo,key,\n",
        "                              time_signature]\n",
        "    columns = [\"artist\", \"album\", \"track_name\", \"track_id\", \"duration_ms\",\"danceability\", \"energy\", \"loudness\", \"acousticness\"\n",
        "                              , \"speechiness\", \"instrumentalness\", \"liveness\", \"valence\", \"tempo\", \"key\",\n",
        "                              \"time_signature\"]\n",
        "    return track, columns"
      ],
      "metadata": {
        "id": "rYlKOmp1dBxn"
      },
      "execution_count": null,
      "outputs": []
    },
    {
      "cell_type": "code",
      "source": [
        "def predict_mood(id_song):\n",
        "    #Join the model and the scaler in a Pipeline\n",
        "    pip = Pipeline([('minmaxscaler',MinMaxScaler()),('keras',KerasClassifier(build_fn=base_model,epochs=300,\n",
        "                                                                             batch_size=200,verbose=0))])\n",
        "    #Fit the Pipeline\n",
        "    pip.fit(X2,encoded_y)\n",
        "\n",
        "    #Obtain the features of the song\n",
        "    preds = get_songs_features(id_song)\n",
        "    #Pre-process the features to input the Model\n",
        "    preds_features = np.array(preds[0][5:-2]).reshape(-1,1).T\n",
        "\n",
        "    #Predict the features of the song\n",
        "    results = pip.predict(preds_features)\n",
        "\n",
        "    mood = np.array(target['mood'][target['encode']==int(results)])\n",
        "    name_song = preds[0][2]\n",
        "    artist = preds[0][0]\n",
        "\n",
        "    return print(\"{0} by {1} is a {2} song\".format(name_song,artist,mood[0].upper()))\n",
        "    #print(f\"{name_song} by {artist} is a {mood[0].upper()} song\")"
      ],
      "metadata": {
        "id": "lAtfxOXOc8JN"
      },
      "execution_count": null,
      "outputs": []
    },
    {
      "cell_type": "code",
      "source": [
        "predict_mood('0VjIjW4GlUZAMYd2vXMi3b')"
      ],
      "metadata": {
        "colab": {
          "base_uri": "https://localhost:8080/"
        },
        "id": "2dNFT0nGdCP5",
        "outputId": "b3031be6-4ba9-4f48-878a-ba2666bfa369"
      },
      "execution_count": null,
      "outputs": [
        {
          "output_type": "stream",
          "name": "stderr",
          "text": [
            "/usr/local/lib/python3.7/dist-packages/ipykernel_launcher.py:4: DeprecationWarning: KerasClassifier is deprecated, use Sci-Keras (https://github.com/adriangb/scikeras) instead.\n",
            "  after removing the cwd from sys.path.\n"
          ]
        },
        {
          "output_type": "stream",
          "name": "stdout",
          "text": [
            "Blinding Lights by The Weeknd is a ENERGETIC song\n"
          ]
        },
        {
          "output_type": "stream",
          "name": "stderr",
          "text": [
            "/usr/local/lib/python3.7/dist-packages/keras/engine/training_v1.py:2079: UserWarning: `Model.state_updates` will be removed in a future version. This property should not be used in TensorFlow 2.0, as `updates` are applied automatically.\n",
            "  updates=self.state_updates,\n"
          ]
        }
      ]
    },
    {
      "cell_type": "markdown",
      "source": [
        "## Test Song Features"
      ],
      "metadata": {
        "id": "iv5WPUfUgCNB"
      }
    },
    {
      "cell_type": "code",
      "source": [
        "    ids = '0VjIjW4GlUZAMYd2vXMi3b'\n",
        "    meta = sp.track(ids)\n",
        "    features = sp.audio_features(ids)\n",
        "\n",
        "    # meta\n",
        "    track_name = meta['name']\n",
        "    album = meta['album']['name']\n",
        "    artist = meta['album']['artists'][0]['name']\n",
        "    duration_ms = meta['duration_ms']\n",
        "    track_id = meta['id']\n",
        "\n",
        "    # features\n",
        "    acousticness = features[0]['acousticness']\n",
        "    danceability = features[0]['danceability']\n",
        "    energy = features[0]['energy']\n",
        "    instrumentalness = features[0]['instrumentalness']\n",
        "    liveness = features[0]['liveness']\n",
        "    valence = features[0]['valence']\n",
        "    loudness = features[0]['loudness']\n",
        "    speechiness = features[0]['speechiness']\n",
        "    tempo = features[0]['tempo']\n",
        "    key = features[0]['key']\n",
        "    time_signature = features[0]['time_signature']\n",
        "\n",
        "    track = [artist, album, track_name, track_id, duration_ms, danceability, energy, loudness,acousticness,\n",
        "                              speechiness, instrumentalness, liveness, valence, tempo,key,\n",
        "                              time_signature]\n",
        "    columns = [\"artist\", \"album\", \"track_name\", \"track_id\", \"duration_ms\",\"danceability\", \"energy\", \"loudness\", \"acousticness\"\n",
        "                              , \"speechiness\", \"instrumentalness\", \"liveness\", \"valence\", \"tempo\", \"key\",\n",
        "                              \"time_signature\"]"
      ],
      "metadata": {
        "id": "-KAKN-pMddcu"
      },
      "execution_count": null,
      "outputs": []
    },
    {
      "cell_type": "code",
      "source": [
        "track"
      ],
      "metadata": {
        "colab": {
          "base_uri": "https://localhost:8080/"
        },
        "id": "LVV15cLTdlI8",
        "outputId": "b66ba80e-b348-43da-f72d-8f134eecdb3f"
      },
      "execution_count": null,
      "outputs": [
        {
          "output_type": "execute_result",
          "data": {
            "text/plain": [
              "['The Weeknd',\n",
              " 'After Hours',\n",
              " 'Blinding Lights',\n",
              " '0VjIjW4GlUZAMYd2vXMi3b',\n",
              " 200040,\n",
              " 0.514,\n",
              " 0.73,\n",
              " -5.934,\n",
              " 0.00146,\n",
              " 0.0598,\n",
              " 9.54e-05,\n",
              " 0.0897,\n",
              " 0.334,\n",
              " 171.005,\n",
              " 1,\n",
              " 4]"
            ]
          },
          "metadata": {},
          "execution_count": 25
        }
      ]
    },
    {
      "cell_type": "code",
      "source": [
        "columns"
      ],
      "metadata": {
        "colab": {
          "base_uri": "https://localhost:8080/"
        },
        "id": "DvRzAuN_dnoE",
        "outputId": "b4b13055-1aa9-4ce3-ba00-3988c9723d19"
      },
      "execution_count": null,
      "outputs": [
        {
          "output_type": "execute_result",
          "data": {
            "text/plain": [
              "['artist',\n",
              " 'album',\n",
              " 'track_name',\n",
              " 'track_id',\n",
              " 'duration_ms',\n",
              " 'danceability',\n",
              " 'energy',\n",
              " 'loudness',\n",
              " 'acousticness',\n",
              " 'speechiness',\n",
              " 'instrumentalness',\n",
              " 'liveness',\n",
              " 'valence',\n",
              " 'tempo',\n",
              " 'key',\n",
              " 'time_signature']"
            ]
          },
          "metadata": {},
          "execution_count": 26
        }
      ]
    }
  ]
}