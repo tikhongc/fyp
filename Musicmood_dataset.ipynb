{
  "nbformat": 4,
  "nbformat_minor": 0,
  "metadata": {
    "colab": {
      "name": "Musicmood-dataset.ipynb",
      "provenance": [],
      "collapsed_sections": [],
      "mount_file_id": "14UVgN8VCcLLUb6xUNWUO_BLPuce9KXP1",
      "authorship_tag": "ABX9TyOLavwTGBPcTofMkkAPYsfz",
      "include_colab_link": true
    },
    "kernelspec": {
      "name": "python3",
      "display_name": "Python 3"
    },
    "language_info": {
      "name": "python"
    }
  },
  "cells": [
    {
      "cell_type": "markdown",
      "metadata": {
        "id": "view-in-github",
        "colab_type": "text"
      },
      "source": [
        "<a href=\"https://colab.research.google.com/github/tikhongc/fyp/blob/main/Musicmood_dataset.ipynb\" target=\"_parent\"><img src=\"https://colab.research.google.com/assets/colab-badge.svg\" alt=\"Open In Colab\"/></a>"
      ]
    },
    {
      "cell_type": "markdown",
      "source": [
        "#Install library"
      ],
      "metadata": {
        "id": "CzsyvEQ-Agh-"
      }
    },
    {
      "cell_type": "code",
      "source": [
        "!pip install spotipy"
      ],
      "metadata": {
        "colab": {
          "base_uri": "https://localhost:8080/"
        },
        "id": "yBU4zJy-oMJQ",
        "outputId": "7ad63026-e79a-4ff5-cc2b-e9ed4ed69af4"
      },
      "execution_count": null,
      "outputs": [
        {
          "output_type": "stream",
          "name": "stdout",
          "text": [
            "Requirement already satisfied: spotipy in /usr/local/lib/python3.7/dist-packages (2.19.0)\n",
            "Requirement already satisfied: urllib3>=1.26.0 in /usr/local/lib/python3.7/dist-packages (from spotipy) (1.26.7)\n",
            "Requirement already satisfied: six>=1.15.0 in /usr/local/lib/python3.7/dist-packages (from spotipy) (1.15.0)\n",
            "Requirement already satisfied: requests>=2.25.0 in /usr/local/lib/python3.7/dist-packages (from spotipy) (2.26.0)\n",
            "Requirement already satisfied: idna<4,>=2.5 in /usr/local/lib/python3.7/dist-packages (from requests>=2.25.0->spotipy) (2.10)\n",
            "Requirement already satisfied: charset-normalizer~=2.0.0 in /usr/local/lib/python3.7/dist-packages (from requests>=2.25.0->spotipy) (2.0.8)\n",
            "Requirement already satisfied: certifi>=2017.4.17 in /usr/local/lib/python3.7/dist-packages (from requests>=2.25.0->spotipy) (2021.10.8)\n"
          ]
        }
      ]
    },
    {
      "cell_type": "code",
      "source": [
        "import spotipy\n",
        "import csv\n",
        "import glob\n",
        "from spotipy.oauth2 import SpotifyClientCredentials\n",
        "import os\n",
        "import pandas as pd"
      ],
      "metadata": {
        "id": "Tjq1XarEAOni"
      },
      "execution_count": null,
      "outputs": []
    },
    {
      "cell_type": "markdown",
      "source": [
        "# Create dataset"
      ],
      "metadata": {
        "id": "PSx5WrZhAkK1"
      }
    },
    {
      "cell_type": "code",
      "execution_count": null,
      "metadata": {
        "colab": {
          "base_uri": "https://localhost:8080/"
        },
        "id": "V_iyvI6PoFj_",
        "outputId": "2a344d9f-59ee-4ada-ab08-020b4793cf2d"
      },
      "outputs": [
        {
          "output_type": "stream",
          "name": "stdout",
          "text": [
            "Starting...\n",
            "Finished...\n"
          ]
        }
      ],
      "source": [
        "#spotify authorization\n",
        "cid = '11a595ac08b84deba845647de64addad'\n",
        "secret = '1fcdf925efc84aa4add8c3a3e7bfe44a'\n",
        "client_credentials_manager = SpotifyClientCredentials(client_id=cid, client_secret=secret)\n",
        "sp = spotipy.Spotify(client_credentials_manager = client_credentials_manager)\n",
        "\n",
        "#require feature from a spotify playlist\n",
        "def call_playlist(creator, playlist_id):\n",
        "    # step1\n",
        "\n",
        "    playlist_features_list = [\"artist\", \"album\", \"track_name\", \"track_id\", \"duration_ms\",\"danceability\", \"energy\", \"loudness\", \"acousticness\"\n",
        "                              , \"speechiness\", \"instrumentalness\", \"liveness\", \"valence\", \"tempo\", \"key\",\n",
        "                              \"time_signature\"]\n",
        "\n",
        "    playlist_df = pd.DataFrame(columns=playlist_features_list)\n",
        "\n",
        "    # step2\n",
        "\n",
        "    playlist = sp.user_playlist_tracks(creator, playlist_id)[\"items\"]\n",
        "    for track in playlist:\n",
        "        # Create empty dict\n",
        "        playlist_features = {}\n",
        "        # Get metadata\n",
        "        playlist_features[\"artist\"] = track[\"track\"][\"album\"][\"artists\"][0][\"name\"]\n",
        "        playlist_features[\"album\"] = track[\"track\"][\"album\"][\"name\"]\n",
        "        playlist_features[\"track_name\"] = track[\"track\"][\"name\"]\n",
        "        playlist_features[\"track_id\"] = track[\"track\"][\"id\"]\n",
        "\n",
        "        # Get audio features\n",
        "        audio_features = sp.audio_features(playlist_features[\"track_id\"])[0]\n",
        "        for feature in playlist_features_list[4:]:\n",
        "            playlist_features[feature] = audio_features[feature]\n",
        "\n",
        "        # Concat the dfs\n",
        "        track_df = pd.DataFrame(playlist_features, index=[0])\n",
        "        playlist_df = pd.concat([playlist_df, track_df], ignore_index=True)\n",
        "\n",
        "        #change saved path here\n",
        "        path_saved=r'/content/drive/MyDrive/Dataset/Music-MOOD/energetic'\n",
        "        target_path = os.path.abspath(path_saved) \n",
        "        if not os.path.exists(target_path):\n",
        "            os.makedirs(target_path)\n",
        "\n",
        "        #change file name here\n",
        "        csv_name=path_saved+'/124.csv'\n",
        "\n",
        "        #change genre and file_name/path  here\n",
        "        playlist_df['genre'] = 'energetic'\n",
        "        playlist_df.to_csv(r'/content/drive/MyDrive/Dataset/Music-MOOD/energetic/energetic9.csv', index = None, header=True)\n",
        "\n",
        "\n",
        "        #playlist_df.to_csv(csv_name, index=False)\n",
        "\n",
        "\n",
        "if __name__ == '__main__':\n",
        "    print ('Starting...')\n",
        "    #change playlist here\n",
        "    #choose a specificed playlist by its id\n",
        "    call_playlist(\"spotify\",\"4QDWboU5rwpDRXwYprwJf5\")\n",
        "    print('Finished...')\n",
        "\n"
      ]
    },
    {
      "cell_type": "markdown",
      "source": [
        "## Combine the csv files"
      ],
      "metadata": {
        "id": "rdDm5nUtt2_-"
      }
    },
    {
      "cell_type": "code",
      "source": [
        "    path='/content/drive/MyDrive/Dataset/other'\n",
        "    path_saved=r'/content/drive/MyDrive/Dataset/Music-MOOD/Dataset'\n",
        "    target_path = os.path.abspath(path_saved) \n",
        "    if not os.path.exists(target_path):\n",
        "      os.makedirs(target_path)"
      ],
      "metadata": {
        "id": "0lNDtFB-t2T0"
      },
      "execution_count": null,
      "outputs": []
    },
    {
      "cell_type": "code",
      "source": [
        "    os.chdir(path)\n",
        "    extension = 'csv'\n",
        "    all_filenames = [i for i in glob.glob('*.{}'.format(extension))]\n",
        "    #combine all files in the list\n",
        "    combined_csv = pd.concat([pd.read_csv(f) for f in all_filenames ])\n",
        "    #export to csv\n",
        "    name='/dataset_mood.csv'\n",
        "    combined_csv.to_csv(path_saved+name, index=False, encoding='utf-8-sig')\n",
        "    B=os.listdir(path_saved)\n",
        "    for i in B :\n",
        "       print (i)"
      ],
      "metadata": {
        "colab": {
          "base_uri": "https://localhost:8080/"
        },
        "id": "ykJbyxp0688z",
        "outputId": "f78636fd-35e6-4a81-c6c6-1670ac3b524e"
      },
      "execution_count": null,
      "outputs": [
        {
          "output_type": "stream",
          "name": "stdout",
          "text": [
            "dataset_mood.csv\n"
          ]
        }
      ]
    },
    {
      "cell_type": "markdown",
      "source": [
        "## remove null value and duplicates *row*"
      ],
      "metadata": {
        "id": "UmXVoFla-JH2"
      }
    },
    {
      "cell_type": "code",
      "source": [
        "raw_data = pd.read_csv('/content/drive/MyDrive/Dataset/Music-MOOD/energetic/Full/energetic_full.csv')\n",
        "#Examine the shape of the data\n",
        "raw_data.shape"
      ],
      "metadata": {
        "colab": {
          "base_uri": "https://localhost:8080/"
        },
        "id": "m3oVj1eF-JZT",
        "outputId": "c1052e24-e598-4fd3-ac94-54763ad3d51a"
      },
      "execution_count": null,
      "outputs": [
        {
          "output_type": "execute_result",
          "data": {
            "text/plain": [
              "(850, 17)"
            ]
          },
          "metadata": {},
          "execution_count": 139
        }
      ]
    },
    {
      "cell_type": "code",
      "source": [
        "raw_data.isnull()"
      ],
      "metadata": {
        "colab": {
          "base_uri": "https://localhost:8080/",
          "height": 443
        },
        "id": "O7AAOM4U_Llw",
        "outputId": "10ce7991-aeeb-48af-ae9e-933ad94de205"
      },
      "execution_count": null,
      "outputs": [
        {
          "output_type": "execute_result",
          "data": {
            "text/html": [
              "<div>\n",
              "<style scoped>\n",
              "    .dataframe tbody tr th:only-of-type {\n",
              "        vertical-align: middle;\n",
              "    }\n",
              "\n",
              "    .dataframe tbody tr th {\n",
              "        vertical-align: top;\n",
              "    }\n",
              "\n",
              "    .dataframe thead th {\n",
              "        text-align: right;\n",
              "    }\n",
              "</style>\n",
              "<table border=\"1\" class=\"dataframe\">\n",
              "  <thead>\n",
              "    <tr style=\"text-align: right;\">\n",
              "      <th></th>\n",
              "      <th>artist</th>\n",
              "      <th>album</th>\n",
              "      <th>track_name</th>\n",
              "      <th>track_id</th>\n",
              "      <th>duration_ms</th>\n",
              "      <th>danceability</th>\n",
              "      <th>energy</th>\n",
              "      <th>loudness</th>\n",
              "      <th>acousticness</th>\n",
              "      <th>speechiness</th>\n",
              "      <th>instrumentalness</th>\n",
              "      <th>liveness</th>\n",
              "      <th>valence</th>\n",
              "      <th>tempo</th>\n",
              "      <th>key</th>\n",
              "      <th>time_signature</th>\n",
              "      <th>genre</th>\n",
              "    </tr>\n",
              "  </thead>\n",
              "  <tbody>\n",
              "    <tr>\n",
              "      <th>0</th>\n",
              "      <td>False</td>\n",
              "      <td>False</td>\n",
              "      <td>False</td>\n",
              "      <td>False</td>\n",
              "      <td>False</td>\n",
              "      <td>False</td>\n",
              "      <td>False</td>\n",
              "      <td>False</td>\n",
              "      <td>False</td>\n",
              "      <td>False</td>\n",
              "      <td>False</td>\n",
              "      <td>False</td>\n",
              "      <td>False</td>\n",
              "      <td>False</td>\n",
              "      <td>False</td>\n",
              "      <td>False</td>\n",
              "      <td>False</td>\n",
              "    </tr>\n",
              "    <tr>\n",
              "      <th>1</th>\n",
              "      <td>False</td>\n",
              "      <td>False</td>\n",
              "      <td>False</td>\n",
              "      <td>False</td>\n",
              "      <td>False</td>\n",
              "      <td>False</td>\n",
              "      <td>False</td>\n",
              "      <td>False</td>\n",
              "      <td>False</td>\n",
              "      <td>False</td>\n",
              "      <td>False</td>\n",
              "      <td>False</td>\n",
              "      <td>False</td>\n",
              "      <td>False</td>\n",
              "      <td>False</td>\n",
              "      <td>False</td>\n",
              "      <td>False</td>\n",
              "    </tr>\n",
              "    <tr>\n",
              "      <th>2</th>\n",
              "      <td>False</td>\n",
              "      <td>False</td>\n",
              "      <td>False</td>\n",
              "      <td>False</td>\n",
              "      <td>False</td>\n",
              "      <td>False</td>\n",
              "      <td>False</td>\n",
              "      <td>False</td>\n",
              "      <td>False</td>\n",
              "      <td>False</td>\n",
              "      <td>False</td>\n",
              "      <td>False</td>\n",
              "      <td>False</td>\n",
              "      <td>False</td>\n",
              "      <td>False</td>\n",
              "      <td>False</td>\n",
              "      <td>False</td>\n",
              "    </tr>\n",
              "    <tr>\n",
              "      <th>3</th>\n",
              "      <td>False</td>\n",
              "      <td>False</td>\n",
              "      <td>False</td>\n",
              "      <td>False</td>\n",
              "      <td>False</td>\n",
              "      <td>False</td>\n",
              "      <td>False</td>\n",
              "      <td>False</td>\n",
              "      <td>False</td>\n",
              "      <td>False</td>\n",
              "      <td>False</td>\n",
              "      <td>False</td>\n",
              "      <td>False</td>\n",
              "      <td>False</td>\n",
              "      <td>False</td>\n",
              "      <td>False</td>\n",
              "      <td>False</td>\n",
              "    </tr>\n",
              "    <tr>\n",
              "      <th>4</th>\n",
              "      <td>False</td>\n",
              "      <td>False</td>\n",
              "      <td>False</td>\n",
              "      <td>False</td>\n",
              "      <td>False</td>\n",
              "      <td>False</td>\n",
              "      <td>False</td>\n",
              "      <td>False</td>\n",
              "      <td>False</td>\n",
              "      <td>False</td>\n",
              "      <td>False</td>\n",
              "      <td>False</td>\n",
              "      <td>False</td>\n",
              "      <td>False</td>\n",
              "      <td>False</td>\n",
              "      <td>False</td>\n",
              "      <td>False</td>\n",
              "    </tr>\n",
              "    <tr>\n",
              "      <th>...</th>\n",
              "      <td>...</td>\n",
              "      <td>...</td>\n",
              "      <td>...</td>\n",
              "      <td>...</td>\n",
              "      <td>...</td>\n",
              "      <td>...</td>\n",
              "      <td>...</td>\n",
              "      <td>...</td>\n",
              "      <td>...</td>\n",
              "      <td>...</td>\n",
              "      <td>...</td>\n",
              "      <td>...</td>\n",
              "      <td>...</td>\n",
              "      <td>...</td>\n",
              "      <td>...</td>\n",
              "      <td>...</td>\n",
              "      <td>...</td>\n",
              "    </tr>\n",
              "    <tr>\n",
              "      <th>845</th>\n",
              "      <td>False</td>\n",
              "      <td>False</td>\n",
              "      <td>False</td>\n",
              "      <td>False</td>\n",
              "      <td>False</td>\n",
              "      <td>False</td>\n",
              "      <td>False</td>\n",
              "      <td>False</td>\n",
              "      <td>False</td>\n",
              "      <td>False</td>\n",
              "      <td>False</td>\n",
              "      <td>False</td>\n",
              "      <td>False</td>\n",
              "      <td>False</td>\n",
              "      <td>False</td>\n",
              "      <td>False</td>\n",
              "      <td>False</td>\n",
              "    </tr>\n",
              "    <tr>\n",
              "      <th>846</th>\n",
              "      <td>False</td>\n",
              "      <td>False</td>\n",
              "      <td>False</td>\n",
              "      <td>False</td>\n",
              "      <td>False</td>\n",
              "      <td>False</td>\n",
              "      <td>False</td>\n",
              "      <td>False</td>\n",
              "      <td>False</td>\n",
              "      <td>False</td>\n",
              "      <td>False</td>\n",
              "      <td>False</td>\n",
              "      <td>False</td>\n",
              "      <td>False</td>\n",
              "      <td>False</td>\n",
              "      <td>False</td>\n",
              "      <td>False</td>\n",
              "    </tr>\n",
              "    <tr>\n",
              "      <th>847</th>\n",
              "      <td>False</td>\n",
              "      <td>False</td>\n",
              "      <td>False</td>\n",
              "      <td>False</td>\n",
              "      <td>False</td>\n",
              "      <td>False</td>\n",
              "      <td>False</td>\n",
              "      <td>False</td>\n",
              "      <td>False</td>\n",
              "      <td>False</td>\n",
              "      <td>False</td>\n",
              "      <td>False</td>\n",
              "      <td>False</td>\n",
              "      <td>False</td>\n",
              "      <td>False</td>\n",
              "      <td>False</td>\n",
              "      <td>False</td>\n",
              "    </tr>\n",
              "    <tr>\n",
              "      <th>848</th>\n",
              "      <td>False</td>\n",
              "      <td>False</td>\n",
              "      <td>False</td>\n",
              "      <td>False</td>\n",
              "      <td>False</td>\n",
              "      <td>False</td>\n",
              "      <td>False</td>\n",
              "      <td>False</td>\n",
              "      <td>False</td>\n",
              "      <td>False</td>\n",
              "      <td>False</td>\n",
              "      <td>False</td>\n",
              "      <td>False</td>\n",
              "      <td>False</td>\n",
              "      <td>False</td>\n",
              "      <td>False</td>\n",
              "      <td>False</td>\n",
              "    </tr>\n",
              "    <tr>\n",
              "      <th>849</th>\n",
              "      <td>False</td>\n",
              "      <td>False</td>\n",
              "      <td>False</td>\n",
              "      <td>False</td>\n",
              "      <td>False</td>\n",
              "      <td>False</td>\n",
              "      <td>False</td>\n",
              "      <td>False</td>\n",
              "      <td>False</td>\n",
              "      <td>False</td>\n",
              "      <td>False</td>\n",
              "      <td>False</td>\n",
              "      <td>False</td>\n",
              "      <td>False</td>\n",
              "      <td>False</td>\n",
              "      <td>False</td>\n",
              "      <td>False</td>\n",
              "    </tr>\n",
              "  </tbody>\n",
              "</table>\n",
              "<p>850 rows × 17 columns</p>\n",
              "</div>"
            ],
            "text/plain": [
              "     artist  album  track_name  track_id  ...  tempo    key  time_signature  genre\n",
              "0     False  False       False     False  ...  False  False           False  False\n",
              "1     False  False       False     False  ...  False  False           False  False\n",
              "2     False  False       False     False  ...  False  False           False  False\n",
              "3     False  False       False     False  ...  False  False           False  False\n",
              "4     False  False       False     False  ...  False  False           False  False\n",
              "..      ...    ...         ...       ...  ...    ...    ...             ...    ...\n",
              "845   False  False       False     False  ...  False  False           False  False\n",
              "846   False  False       False     False  ...  False  False           False  False\n",
              "847   False  False       False     False  ...  False  False           False  False\n",
              "848   False  False       False     False  ...  False  False           False  False\n",
              "849   False  False       False     False  ...  False  False           False  False\n",
              "\n",
              "[850 rows x 17 columns]"
            ]
          },
          "metadata": {},
          "execution_count": 140
        }
      ]
    },
    {
      "cell_type": "code",
      "source": [
        "raw_data.isnull().sum()"
      ],
      "metadata": {
        "colab": {
          "base_uri": "https://localhost:8080/"
        },
        "id": "7JO9UIOy_44P",
        "outputId": "1cfdc702-4469-4a8b-f422-f9321282b45c"
      },
      "execution_count": null,
      "outputs": [
        {
          "output_type": "execute_result",
          "data": {
            "text/plain": [
              "artist              0\n",
              "album               0\n",
              "track_name          0\n",
              "track_id            0\n",
              "duration_ms         0\n",
              "danceability        0\n",
              "energy              0\n",
              "loudness            0\n",
              "acousticness        0\n",
              "speechiness         0\n",
              "instrumentalness    0\n",
              "liveness            0\n",
              "valence             0\n",
              "tempo               0\n",
              "key                 0\n",
              "time_signature      0\n",
              "genre               0\n",
              "dtype: int64"
            ]
          },
          "metadata": {},
          "execution_count": 141
        }
      ]
    },
    {
      "cell_type": "code",
      "source": [
        "clean_data = raw_data.drop_duplicates()\n",
        "clean_data.shape"
      ],
      "metadata": {
        "colab": {
          "base_uri": "https://localhost:8080/"
        },
        "id": "y32sJE--_Zdr",
        "outputId": "56c7c631-4b8e-447a-b514-801e09456ce9"
      },
      "execution_count": null,
      "outputs": [
        {
          "output_type": "execute_result",
          "data": {
            "text/plain": [
              "(839, 17)"
            ]
          },
          "metadata": {},
          "execution_count": 142
        }
      ]
    },
    {
      "cell_type": "code",
      "source": [
        "clean_data.to_csv('/content/drive/MyDrive/Dataset/Music-MOOD/energetic/Full/energetic_full.csv')"
      ],
      "metadata": {
        "id": "dnWi2h3v_VUn"
      },
      "execution_count": null,
      "outputs": []
    },
    {
      "cell_type": "markdown",
      "source": [
        "## USE TO CHANGE COL VALUE AFTER MAKING CSV FILE "
      ],
      "metadata": {
        "id": "pgrapc988YdI"
      }
    },
    {
      "cell_type": "code",
      "source": [
        "\n",
        "# read_csv function which is used to read the required CSV file\n",
        "data = pd.read_csv('/content/drive/MyDrive/Dataset/Music-MOOD/Sad/sad10.csv')\n",
        "  \n",
        "# display \n",
        "print(\"Original 'sad.csv' CSV Data: \\n\")\n",
        "print(data)\n",
        "  \n",
        "# drop function which is used in removing or deleting rows or columns from the CSV files\n",
        "data.drop('genre', inplace=True, axis=1)\n",
        "  \n",
        "# display \n",
        "print(\"\\nCSV Data after deleting the column 'year':\\n\")\n",
        "data['genre'] = 'sad'\n",
        "print(data)\n",
        "\n",
        "data.to_csv('/content/drive/MyDrive/Dataset/Music-MOOD/Sad/sad10.csv', index = None, header=True)\n"
      ],
      "metadata": {
        "colab": {
          "base_uri": "https://localhost:8080/"
        },
        "id": "PrD7yOvA776B",
        "outputId": "274d4006-3cae-4c71-d1c7-53155cbcad6b"
      },
      "execution_count": null,
      "outputs": [
        {
          "output_type": "stream",
          "name": "stdout",
          "text": [
            "Original 'sad.csv' CSV Data: \n",
            "\n",
            "                            artist  ...  genre\n",
            "0                    Sarah Vaughan  ...  happy\n",
            "1                      Buddy Holly  ...  happy\n",
            "2                     Ricky Nelson  ...  happy\n",
            "3                    Frank Sinatra  ...  happy\n",
            "4                      Johnnie Ray  ...  happy\n",
            "5                    Marty Robbins  ...  happy\n",
            "6                   The Fleetwoods  ...  happy\n",
            "7                    Hank Williams  ...  happy\n",
            "8                     The Platters  ...  happy\n",
            "9                      Johnnie Ray  ...  happy\n",
            "10                 Various Artists  ...  happy\n",
            "11                 Various Artists  ...  happy\n",
            "12                  Connie Francis  ...  happy\n",
            "13                    Ricky Nelson  ...  happy\n",
            "14             The Everly Brothers  ...  happy\n",
            "15                     Ray Charles  ...  happy\n",
            "16                  The Poni-Tails  ...  happy\n",
            "17                    The Platters  ...  happy\n",
            "18                  Connie Francis  ...  happy\n",
            "19                    Tony Bennett  ...  happy\n",
            "20                   Elvis Presley  ...  happy\n",
            "21                  Wilson Pickett  ...  happy\n",
            "22                       Paul Anka  ...  happy\n",
            "23                 Various Artists  ...  happy\n",
            "24                     Neil Sedaka  ...  happy\n",
            "25                     Ray Charles  ...  happy\n",
            "26                    The Platters  ...  happy\n",
            "27                Dinah Washington  ...  happy\n",
            "28                       Pat Boone  ...  happy\n",
            "29                   Jackie Wilson  ...  happy\n",
            "30                    Bobby Vinton  ...  happy\n",
            "31                 Various Artists  ...  happy\n",
            "32                   Elvis Presley  ...  happy\n",
            "33                  Connie Francis  ...  happy\n",
            "34                   The Skyliners  ...  happy\n",
            "35                   Frank Sinatra  ...  happy\n",
            "36                Dinah Washington  ...  happy\n",
            "37  Little Anthony & The Imperials  ...  happy\n",
            "38                   Hank Williams  ...  happy\n",
            "39                 Various Artists  ...  happy\n",
            "40                      Joan Regan  ...  happy\n",
            "41                      Don Gibson  ...  happy\n",
            "42                 Various Artists  ...  happy\n",
            "43                Dinah Washington  ...  happy\n",
            "44                       Sam Cooke  ...  happy\n",
            "45                   Elvis Presley  ...  happy\n",
            "46                   Frank Sinatra  ...  happy\n",
            "47                       Sam Cooke  ...  happy\n",
            "\n",
            "[48 rows x 17 columns]\n",
            "\n",
            "CSV Data after deleting the column 'year':\n",
            "\n",
            "                            artist  ... genre\n",
            "0                    Sarah Vaughan  ...   sad\n",
            "1                      Buddy Holly  ...   sad\n",
            "2                     Ricky Nelson  ...   sad\n",
            "3                    Frank Sinatra  ...   sad\n",
            "4                      Johnnie Ray  ...   sad\n",
            "5                    Marty Robbins  ...   sad\n",
            "6                   The Fleetwoods  ...   sad\n",
            "7                    Hank Williams  ...   sad\n",
            "8                     The Platters  ...   sad\n",
            "9                      Johnnie Ray  ...   sad\n",
            "10                 Various Artists  ...   sad\n",
            "11                 Various Artists  ...   sad\n",
            "12                  Connie Francis  ...   sad\n",
            "13                    Ricky Nelson  ...   sad\n",
            "14             The Everly Brothers  ...   sad\n",
            "15                     Ray Charles  ...   sad\n",
            "16                  The Poni-Tails  ...   sad\n",
            "17                    The Platters  ...   sad\n",
            "18                  Connie Francis  ...   sad\n",
            "19                    Tony Bennett  ...   sad\n",
            "20                   Elvis Presley  ...   sad\n",
            "21                  Wilson Pickett  ...   sad\n",
            "22                       Paul Anka  ...   sad\n",
            "23                 Various Artists  ...   sad\n",
            "24                     Neil Sedaka  ...   sad\n",
            "25                     Ray Charles  ...   sad\n",
            "26                    The Platters  ...   sad\n",
            "27                Dinah Washington  ...   sad\n",
            "28                       Pat Boone  ...   sad\n",
            "29                   Jackie Wilson  ...   sad\n",
            "30                    Bobby Vinton  ...   sad\n",
            "31                 Various Artists  ...   sad\n",
            "32                   Elvis Presley  ...   sad\n",
            "33                  Connie Francis  ...   sad\n",
            "34                   The Skyliners  ...   sad\n",
            "35                   Frank Sinatra  ...   sad\n",
            "36                Dinah Washington  ...   sad\n",
            "37  Little Anthony & The Imperials  ...   sad\n",
            "38                   Hank Williams  ...   sad\n",
            "39                 Various Artists  ...   sad\n",
            "40                      Joan Regan  ...   sad\n",
            "41                      Don Gibson  ...   sad\n",
            "42                 Various Artists  ...   sad\n",
            "43                Dinah Washington  ...   sad\n",
            "44                       Sam Cooke  ...   sad\n",
            "45                   Elvis Presley  ...   sad\n",
            "46                   Frank Sinatra  ...   sad\n",
            "47                       Sam Cooke  ...   sad\n",
            "\n",
            "[48 rows x 17 columns]\n"
          ]
        }
      ]
    }
  ]
}