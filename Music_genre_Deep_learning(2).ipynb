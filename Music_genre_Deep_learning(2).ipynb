{
  "nbformat": 4,
  "nbformat_minor": 0,
  "metadata": {
    "colab": {
      "name": "Music_genre_Deep_learning(2).ipynb",
      "provenance": [],
      "collapsed_sections": [
        "8c1ATS6VwtgO",
        "aT1VM7xqVCee"
      ],
      "machine_shape": "hm",
      "mount_file_id": "1ymv6sBb_ABaexIsgBEEAfHE4PXXS5oJL",
      "authorship_tag": "ABX9TyNufegTNxOLhC1bov/yytAP",
      "include_colab_link": true
    },
    "kernelspec": {
      "name": "python3",
      "display_name": "Python 3"
    },
    "language_info": {
      "name": "python"
    },
    "accelerator": "GPU"
  },
  "cells": [
    {
      "cell_type": "markdown",
      "metadata": {
        "id": "view-in-github",
        "colab_type": "text"
      },
      "source": [
        "<a href=\"https://colab.research.google.com/github/tikhongc/fyp/blob/main/Music_genre_Deep_learning(2).ipynb\" target=\"_parent\"><img src=\"https://colab.research.google.com/assets/colab-badge.svg\" alt=\"Open In Colab\"/></a>"
      ]
    },
    {
      "cell_type": "markdown",
      "metadata": {
        "id": "8c1ATS6VwtgO"
      },
      "source": [
        "# Import libraty"
      ]
    },
    {
      "cell_type": "code",
      "metadata": {
        "colab": {
          "base_uri": "https://localhost:8080/"
        },
        "id": "J_ss9BnWVUUH",
        "outputId": "df3101ad-fc85-4eab-97a3-8ca60e263357"
      },
      "source": [
        "from sklearn.naive_bayes import GaussianNB\n",
        "from sklearn.linear_model import SGDClassifier, LogisticRegression\n",
        "from sklearn.neighbors import KNeighborsClassifier\n",
        "from sklearn.tree import DecisionTreeClassifier\n",
        "from sklearn.ensemble import RandomForestClassifier\n",
        "from sklearn.svm import SVC\n",
        "from sklearn.neural_network import MLPClassifier\n",
        "from xgboost import XGBClassifier, XGBRFClassifier\n",
        "from xgboost import plot_tree, plot_importance\n",
        "\n",
        "from sklearn.metrics import confusion_matrix, accuracy_score, roc_auc_score, roc_curve\n",
        "from sklearn import preprocessing\n",
        "from sklearn.model_selection import train_test_split\n",
        "from sklearn.feature_selection import RFE\n",
        "import numpy as np\n",
        "import pandas as pd\n",
        "import matplotlib.pyplot as plt\n",
        "import lightgbm as lgb\n",
        "import seaborn as sns\n",
        "sns.set_style('whitegrid')\n",
        "%matplotlib inline\n",
        "import warnings\n",
        "warnings.filterwarnings('ignore')\n",
        "from scipy.stats import uniform, randint\n",
        "import sklearn.metrics as skm\n",
        "import sklearn.model_selection as skms\n",
        "import sklearn.preprocessing as skp\n",
        "from sklearn.linear_model import LogisticRegression\n",
        "import sklearn.ensemble as ske\n",
        "!pip install eli5\n",
        "import eli5\n",
        "from eli5.sklearn import PermutationImportance\n",
        "from pprint import pprint\n",
        "import random\n",
        "import librosa, IPython\n",
        "import librosa.display as lplt\n",
        "seed = 12\n",
        "np.random.seed(seed)"
      ],
      "execution_count": null,
      "outputs": [
        {
          "output_type": "stream",
          "name": "stdout",
          "text": [
            "Collecting eli5\n",
            "  Downloading eli5-0.11.0-py2.py3-none-any.whl (106 kB)\n",
            "\u001b[?25l\r\u001b[K     |███                             | 10 kB 34.5 MB/s eta 0:00:01\r\u001b[K     |██████▏                         | 20 kB 9.3 MB/s eta 0:00:01\r\u001b[K     |█████████▎                      | 30 kB 7.9 MB/s eta 0:00:01\r\u001b[K     |████████████▍                   | 40 kB 4.3 MB/s eta 0:00:01\r\u001b[K     |███████████████▌                | 51 kB 4.1 MB/s eta 0:00:01\r\u001b[K     |██████████████████▌             | 61 kB 4.9 MB/s eta 0:00:01\r\u001b[K     |█████████████████████▋          | 71 kB 5.1 MB/s eta 0:00:01\r\u001b[K     |████████████████████████▊       | 81 kB 4.1 MB/s eta 0:00:01\r\u001b[K     |███████████████████████████▉    | 92 kB 4.6 MB/s eta 0:00:01\r\u001b[K     |███████████████████████████████ | 102 kB 5.1 MB/s eta 0:00:01\r\u001b[K     |████████████████████████████████| 106 kB 5.1 MB/s \n",
            "\u001b[?25hRequirement already satisfied: graphviz in /usr/local/lib/python3.7/dist-packages (from eli5) (0.10.1)\n",
            "Requirement already satisfied: attrs>16.0.0 in /usr/local/lib/python3.7/dist-packages (from eli5) (21.4.0)\n",
            "Requirement already satisfied: tabulate>=0.7.7 in /usr/local/lib/python3.7/dist-packages (from eli5) (0.8.9)\n",
            "Requirement already satisfied: numpy>=1.9.0 in /usr/local/lib/python3.7/dist-packages (from eli5) (1.21.5)\n",
            "Requirement already satisfied: scikit-learn>=0.20 in /usr/local/lib/python3.7/dist-packages (from eli5) (1.0.2)\n",
            "Requirement already satisfied: six in /usr/local/lib/python3.7/dist-packages (from eli5) (1.15.0)\n",
            "Requirement already satisfied: jinja2 in /usr/local/lib/python3.7/dist-packages (from eli5) (2.11.3)\n",
            "Requirement already satisfied: scipy in /usr/local/lib/python3.7/dist-packages (from eli5) (1.4.1)\n",
            "Requirement already satisfied: threadpoolctl>=2.0.0 in /usr/local/lib/python3.7/dist-packages (from scikit-learn>=0.20->eli5) (3.1.0)\n",
            "Requirement already satisfied: joblib>=0.11 in /usr/local/lib/python3.7/dist-packages (from scikit-learn>=0.20->eli5) (1.1.0)\n",
            "Requirement already satisfied: MarkupSafe>=0.23 in /usr/local/lib/python3.7/dist-packages (from jinja2->eli5) (2.0.1)\n",
            "Installing collected packages: eli5\n",
            "Successfully installed eli5-0.11.0\n"
          ]
        }
      ]
    },
    {
      "cell_type": "code",
      "metadata": {
        "id": "DZf8x6VIttAp"
      },
      "source": [
        "import numpy as np # linear algebra\n",
        "import pandas as pd # data processing, CSV file I/O (e.g. pd.read_csv)\n",
        "import tensorflow as tf\n",
        "from tensorflow.keras.applications import Xception\n",
        "import librosa \n",
        "import matplotlib.pyplot as plt\n",
        "import librosa.display\n",
        "import matplotlib.pyplot as plt\n",
        "from sklearn.datasets import make_classification\n",
        "from sklearn.metrics import confusion_matrix, ConfusionMatrixDisplay\n",
        "from sklearn.model_selection import train_test_split\n",
        "from sklearn.svm import SVC\n",
        "from sklearn.model_selection import train_test_split\n",
        "from tensorflow.keras.utils import to_categorical"
      ],
      "execution_count": null,
      "outputs": []
    },
    {
      "cell_type": "markdown",
      "metadata": {
        "id": "KmwnPhfBwxfG"
      },
      "source": [
        "# Pre-processing Data "
      ]
    },
    {
      "cell_type": "markdown",
      "metadata": {
        "id": "aT1VM7xqVCee"
      },
      "source": [
        "### Png file"
      ]
    },
    {
      "cell_type": "code",
      "metadata": {
        "id": "chbUxeh0v_cM"
      },
      "source": [
        "path='/content/drive/MyDrive/Dataset/Music-genre-classification/mel-spec-img/All_30s'\n",
        "\n",
        "data_gen=tf.keras.preprocessing.image.ImageDataGenerator(rescale=1./255., validation_split=0.2)"
      ],
      "execution_count": null,
      "outputs": []
    },
    {
      "cell_type": "code",
      "metadata": {
        "colab": {
          "base_uri": "https://localhost:8080/"
        },
        "id": "4sRS0IvSwfSj",
        "outputId": "1bced4f2-4cd0-4c1a-98b0-5a3e043aa619"
      },
      "source": [
        "(img_height, img_width)=(299,299)\n",
        "batch_size=32\n",
        "train_generator = data_gen.flow_from_directory(\n",
        "    path,\n",
        "    target_size=(img_height, img_width),\n",
        "    batch_size=batch_size,\n",
        "    class_mode='categorical',\n",
        "    subset='training') # set as training data\n",
        "\n",
        "validation_generator = data_gen.flow_from_directory(\n",
        "    path, # same directory as training data\n",
        "    target_size=(img_height, img_width),\n",
        "    batch_size=batch_size,\n",
        "    class_mode='categorical',\n",
        "    subset='validation') # set as validation data"
      ],
      "execution_count": null,
      "outputs": [
        {
          "output_type": "stream",
          "name": "stdout",
          "text": [
            "Found 799 images belonging to 10 classes.\n",
            "Found 199 images belonging to 10 classes.\n"
          ]
        }
      ]
    },
    {
      "cell_type": "code",
      "metadata": {
        "id": "meWizDOaBJ97"
      },
      "source": [
        "import os\n",
        "import cv2 \n",
        "\n",
        "IMG = path\n",
        "#IMG = './dataset/'\n",
        "img_dataset = []\n",
        "genre_target = []\n",
        "genres = {}\n",
        "classes = []\n",
        "i = 0\n",
        "for root, dirs, files in os.walk(IMG):\n",
        "    for name in files:\n",
        "        filename = os.path.join(root, name)\n",
        "        img_dataset.append(filename)\n",
        "        genre = filename.split('/')[-2]\n",
        "        genre_target.append(genre)\n",
        "        \n",
        "        if(genre not in genres):\n",
        "            classes.append(genre)\n",
        "            genres[genre] = i\n",
        "            i+=1\n",
        "\n",
        "img = cv2.imread(img_dataset[0],1)"
      ],
      "execution_count": null,
      "outputs": []
    },
    {
      "cell_type": "code",
      "metadata": {
        "id": "Wyoo4tBfBXzV"
      },
      "source": [
        "def crop_borders(img,x1=35,x2=252,y1=54,y2=389):\n",
        "    cropped = img[x1:x2,y1:y2]\n",
        "    return cropped\n",
        "\n",
        "def get_y():\n",
        "    '''Convierte los generos en un array de targets y'''\n",
        "    y = []\n",
        "    for genre in genre_target:\n",
        "        n = genres[genre]\n",
        "        y.append(n)\n",
        "    return np.array(y)\n",
        "\n",
        "def get_x(shape=[999,217,335], flag=1):\n",
        "    x = np.empty(shape, np.uint8)\n",
        "    for i in range(len(img_dataset)):\n",
        "        img = cv2.imread(img_dataset[i],flag)\n",
        "        img = crop_borders(img)\n",
        "        x[i] = img\n",
        "    return np.array(x)"
      ],
      "execution_count": null,
      "outputs": []
    },
    {
      "cell_type": "code",
      "metadata": {
        "colab": {
          "base_uri": "https://localhost:8080/"
        },
        "id": "axkmE7L6BYnY",
        "outputId": "f6cfcb75-7c21-4438-97f9-f43407e10416"
      },
      "source": [
        "img = cv2.imread(img_dataset[0])\n",
        "img = crop_borders(img)\n",
        "\n",
        "img.shape"
      ],
      "execution_count": null,
      "outputs": [
        {
          "output_type": "execute_result",
          "data": {
            "text/plain": [
              "(93, 331, 3)"
            ]
          },
          "metadata": {},
          "execution_count": 54
        }
      ]
    },
    {
      "cell_type": "code",
      "metadata": {
        "colab": {
          "base_uri": "https://localhost:8080/"
        },
        "id": "kjmbWgvdBbwW",
        "outputId": "0b19eddc-61b2-47d6-8c2d-d0caf605a118"
      },
      "source": [
        "X = get_x(shape=[998,img.shape[0], img.shape[1], img.shape[2]]) #Imagenes en color, RGB -> 3 canales\n",
        "y = get_y()\n",
        "\n",
        "m = len(y)\n",
        "num_labels = 10 #estilos de musica diferente\n",
        "\n",
        "print(X.shape, y.shape)"
      ],
      "execution_count": null,
      "outputs": [
        {
          "output_type": "stream",
          "name": "stdout",
          "text": [
            "(998, 93, 331, 3) (998,)\n"
          ]
        }
      ]
    },
    {
      "cell_type": "markdown",
      "metadata": {
        "id": "2IREbtUAw7Zm"
      },
      "source": [
        "# Deep learning"
      ]
    },
    {
      "cell_type": "markdown",
      "source": [
        "## Training"
      ],
      "metadata": {
        "id": "qCBUNO-JZSn_"
      }
    },
    {
      "cell_type": "code",
      "metadata": {
        "id": "fA_IpGCO-Jlo",
        "colab": {
          "base_uri": "https://localhost:8080/"
        },
        "outputId": "326753b3-a01a-4d13-94d5-47144ee3afd8"
      },
      "source": [
        "path='/content/drive/MyDrive/Dataset/Music-genre-classification/mel-spec-img/All_30s'\n",
        "data_gen=tf.keras.preprocessing.image.ImageDataGenerator(rescale=1./255., validation_split=0.2)"
      ],
      "execution_count": null,
      "outputs": [
        {
          "output_type": "stream",
          "name": "stdout",
          "text": [
            "Downloading data from https://storage.googleapis.com/tensorflow/keras-applications/xception/xception_weights_tf_dim_ordering_tf_kernels_notop.h5\n",
            "83689472/83683744 [==============================] - 1s 0us/step\n",
            "83697664/83683744 [==============================] - 1s 0us/step\n"
          ]
        }
      ]
    },
    {
      "cell_type": "code",
      "source": [
        "base_model = Xception(include_top=Flase,input_shape=(299,299,3))\n",
        "# Freeze the base_model\n",
        "base_model.trainable = False"
      ],
      "metadata": {
        "id": "0w7N9Pa-3zaU"
      },
      "execution_count": null,
      "outputs": []
    },
    {
      "cell_type": "code",
      "source": [
        "X_train, X_test, y_train, y_test = train_test_split(X, y, stratify=y, test_size=0.2)\n",
        "y = to_categorical(y)\n",
        "y_train = to_categorical(y_train)\n",
        "y_test = to_categorical(y_test)\n",
        "y"
      ],
      "metadata": {
        "id": "NlIXut3AjHt1"
      },
      "execution_count": null,
      "outputs": []
    },
    {
      "cell_type": "markdown",
      "metadata": {
        "id": "NbZBC-_9-m2w"
      },
      "source": [
        "参数stratify： 依据标签y，按原数据y中各类比例，分配给train和test，使得train和test中各类数据的比例与原数据集一样。\n",
        "\n",
        "1）X_train - 這包括您的所有自變量，這些將用於訓練模型，正如我們所指定的test_size = 0.2，這種80%來自完整數據的觀察手段將用於訓練/擬合模型，其餘的20%將用於測試模型。\n",
        "\n",
        "2）X_test - 這是20%數據中自變量的剩餘部分，不會在訓練階段使用，將用於進行預測以測試模型的準確性。\n",
        "\n",
        "3）y_train - 這是您需要由該模型預測的因變量，這包括針對您的自變量的類別標籤，我們需要在訓練/擬合模型時指定我們的因變量。\n",
        "\n",
        "4）y_test - 此數據具有測試數據的類別標籤，這些標籤將用於測試實際類別和預測類別之間的準確性。"
      ]
    },
    {
      "cell_type": "code",
      "metadata": {
        "id": "C8KqGelP2Djx"
      },
      "source": [
        "def build_model(input_shape):\n",
        "\n",
        "    # build network 框架\n",
        "    model = tf.keras.Sequential()\n",
        "\n",
        "    # 1st conv layer\n",
        "    #32 layers,3x3 kernals\n",
        "    model.add(tf.keras.layers.Conv2D(32, (3, 3), activation='relu', input_shape=input_shape))\n",
        "    model.add(tf.keras.layers.MaxPooling2D((3, 3), strides=(2, 2), padding='same'))\n",
        "    model.add(tf.keras.layers.BatchNormalization())\n",
        "\n",
        "    # 2nd conv layer\n",
        "    model.add(tf.keras.layers.Conv2D(32, (3, 3), activation='relu'))\n",
        "    model.add(tf.keras.layers.MaxPooling2D((3, 3), strides=(2, 2), padding='same'))\n",
        "    model.add(tf.keras.layers.BatchNormalization())\n",
        "    \n",
        "    # 3rd conv layer\n",
        "    model.add(tf.keras.layers.Conv2D(32, (2, 2), activation='relu'))\n",
        "    model.add(tf.keras.layers.MaxPooling2D((2, 2), strides=(2, 2), padding='same'))\n",
        "    model.add(tf.keras.layers.BatchNormalization())\n",
        "    \n",
        "    # flatten output and feed it into dense layer\n",
        "    model.add(tf.keras.layers.Flatten())\n",
        "    model.add(tf.keras.layers.Dense(64, activation='relu'))\n",
        "    model.add(tf.keras.layers.Dropout(0.4))\n",
        "\n",
        "    # output layer\n",
        "    model.add(tf.keras.layers.Dense(10, activation='softmax'))\n",
        "\n",
        "    return model\n"
      ],
      "execution_count": null,
      "outputs": []
    },
    {
      "cell_type": "code",
      "metadata": {
        "colab": {
          "base_uri": "https://localhost:8080/"
        },
        "id": "OMXxybZl2HRP",
        "outputId": "5b3c08e6-69ef-4506-fabe-45e6be96d391"
      },
      "source": [
        "# create network\n",
        "input_shape = (X_train.shape[1], X_train.shape[2], X_train.shape[3])\n",
        "model = build_model(input_shape)\n",
        "\n",
        "# compile model\n",
        "optimiser = tf.keras.optimizers.Adam(learning_rate=0.0001)\n",
        "model.compile(optimizer=optimiser,\n",
        "              loss='categorical_crossentropy',\n",
        "              metrics=['accuracy'])\n",
        "\n",
        "model.summary()"
      ],
      "execution_count": null,
      "outputs": [
        {
          "output_type": "stream",
          "name": "stdout",
          "text": [
            "Model: \"sequential_8\"\n",
            "_________________________________________________________________\n",
            " Layer (type)                Output Shape              Param #   \n",
            "=================================================================\n",
            " conv2d_68 (Conv2D)          (None, 91, 329, 32)       896       \n",
            "                                                                 \n",
            " max_pooling2d_24 (MaxPoolin  (None, 46, 165, 32)      0         \n",
            " g2D)                                                            \n",
            "                                                                 \n",
            " batch_normalization_68 (Bat  (None, 46, 165, 32)      128       \n",
            " chNormalization)                                                \n",
            "                                                                 \n",
            " conv2d_69 (Conv2D)          (None, 44, 163, 32)       9248      \n",
            "                                                                 \n",
            " max_pooling2d_25 (MaxPoolin  (None, 22, 82, 32)       0         \n",
            " g2D)                                                            \n",
            "                                                                 \n",
            " batch_normalization_69 (Bat  (None, 22, 82, 32)       128       \n",
            " chNormalization)                                                \n",
            "                                                                 \n",
            " conv2d_70 (Conv2D)          (None, 21, 81, 32)        4128      \n",
            "                                                                 \n",
            " max_pooling2d_26 (MaxPoolin  (None, 11, 41, 32)       0         \n",
            " g2D)                                                            \n",
            "                                                                 \n",
            " batch_normalization_70 (Bat  (None, 11, 41, 32)       128       \n",
            " chNormalization)                                                \n",
            "                                                                 \n",
            " flatten_8 (Flatten)         (None, 14432)             0         \n",
            "                                                                 \n",
            " dense_31 (Dense)            (None, 64)                923712    \n",
            "                                                                 \n",
            " dropout_18 (Dropout)        (None, 64)                0         \n",
            "                                                                 \n",
            " dense_32 (Dense)            (None, 10)                650       \n",
            "                                                                 \n",
            "=================================================================\n",
            "Total params: 939,018\n",
            "Trainable params: 938,826\n",
            "Non-trainable params: 192\n",
            "_________________________________________________________________\n"
          ]
        }
      ]
    },
    {
      "cell_type": "code",
      "metadata": {
        "colab": {
          "base_uri": "https://localhost:8080/"
        },
        "id": "MaxX-RcZ2KEs",
        "outputId": "e591fa5a-b37e-43d5-b188-c453a7fe440e"
      },
      "source": [
        "# train model\n",
        "history = model.fit(X_train, y_train, ，X_test, y_test, batch_size=4, epochs=40)"
      ],
      "execution_count": null,
      "outputs": [
        {
          "output_type": "stream",
          "name": "stdout",
          "text": [
            "Epoch 1/30\n",
            "25/25 [==============================] - 2s 63ms/step - loss: 2.5139 - accuracy: 0.2005 - val_loss: 9.5314 - val_accuracy: 0.1000\n",
            "Epoch 2/30\n",
            "25/25 [==============================] - 1s 47ms/step - loss: 1.6922 - accuracy: 0.4048 - val_loss: 5.4887 - val_accuracy: 0.1000\n",
            "Epoch 3/30\n",
            "25/25 [==============================] - 1s 47ms/step - loss: 1.2701 - accuracy: 0.5576 - val_loss: 3.5030 - val_accuracy: 0.1250\n",
            "Epoch 4/30\n",
            "25/25 [==============================] - 1s 47ms/step - loss: 0.9804 - accuracy: 0.6792 - val_loss: 2.7035 - val_accuracy: 0.1750\n",
            "Epoch 5/30\n",
            "25/25 [==============================] - 1s 47ms/step - loss: 0.7777 - accuracy: 0.7619 - val_loss: 2.3493 - val_accuracy: 0.2500\n",
            "Epoch 6/30\n",
            "25/25 [==============================] - 1s 50ms/step - loss: 0.6446 - accuracy: 0.8183 - val_loss: 2.0423 - val_accuracy: 0.3300\n",
            "Epoch 7/30\n",
            "25/25 [==============================] - 1s 47ms/step - loss: 0.5014 - accuracy: 0.8697 - val_loss: 1.7764 - val_accuracy: 0.4150\n",
            "Epoch 8/30\n",
            "25/25 [==============================] - 1s 49ms/step - loss: 0.4470 - accuracy: 0.8722 - val_loss: 1.6827 - val_accuracy: 0.4500\n",
            "Epoch 9/30\n",
            "25/25 [==============================] - 1s 47ms/step - loss: 0.3599 - accuracy: 0.9085 - val_loss: 1.6413 - val_accuracy: 0.4750\n",
            "Epoch 10/30\n",
            "25/25 [==============================] - 1s 47ms/step - loss: 0.3051 - accuracy: 0.9261 - val_loss: 1.4952 - val_accuracy: 0.5100\n",
            "Epoch 11/30\n",
            "25/25 [==============================] - 1s 50ms/step - loss: 0.2708 - accuracy: 0.9298 - val_loss: 1.4331 - val_accuracy: 0.5150\n",
            "Epoch 12/30\n",
            "25/25 [==============================] - 1s 48ms/step - loss: 0.2199 - accuracy: 0.9574 - val_loss: 1.4562 - val_accuracy: 0.5250\n",
            "Epoch 13/30\n",
            "25/25 [==============================] - 1s 47ms/step - loss: 0.2201 - accuracy: 0.9436 - val_loss: 1.4388 - val_accuracy: 0.4950\n",
            "Epoch 14/30\n",
            "25/25 [==============================] - 1s 49ms/step - loss: 0.1684 - accuracy: 0.9624 - val_loss: 1.3704 - val_accuracy: 0.5600\n",
            "Epoch 15/30\n",
            "25/25 [==============================] - 1s 49ms/step - loss: 0.1518 - accuracy: 0.9637 - val_loss: 1.4191 - val_accuracy: 0.5650\n",
            "Epoch 16/30\n",
            "25/25 [==============================] - 1s 48ms/step - loss: 0.1340 - accuracy: 0.9699 - val_loss: 1.4450 - val_accuracy: 0.5500\n",
            "Epoch 17/30\n",
            "25/25 [==============================] - 1s 50ms/step - loss: 0.1163 - accuracy: 0.9799 - val_loss: 1.4619 - val_accuracy: 0.5600\n",
            "Epoch 18/30\n",
            "25/25 [==============================] - 1s 48ms/step - loss: 0.0984 - accuracy: 0.9799 - val_loss: 1.3488 - val_accuracy: 0.5750\n",
            "Epoch 19/30\n",
            "25/25 [==============================] - 1s 47ms/step - loss: 0.1172 - accuracy: 0.9774 - val_loss: 1.4815 - val_accuracy: 0.5550\n",
            "Epoch 20/30\n",
            "25/25 [==============================] - 1s 49ms/step - loss: 0.1102 - accuracy: 0.9737 - val_loss: 1.5102 - val_accuracy: 0.5000\n",
            "Epoch 21/30\n",
            "25/25 [==============================] - 1s 47ms/step - loss: 0.0895 - accuracy: 0.9862 - val_loss: 1.3754 - val_accuracy: 0.5450\n",
            "Epoch 22/30\n",
            "25/25 [==============================] - 1s 50ms/step - loss: 0.0866 - accuracy: 0.9862 - val_loss: 1.4218 - val_accuracy: 0.5450\n",
            "Epoch 23/30\n",
            "25/25 [==============================] - 1s 47ms/step - loss: 0.0836 - accuracy: 0.9825 - val_loss: 1.4246 - val_accuracy: 0.5600\n",
            "Epoch 24/30\n",
            "25/25 [==============================] - 1s 47ms/step - loss: 0.0947 - accuracy: 0.9774 - val_loss: 1.5588 - val_accuracy: 0.5150\n",
            "Epoch 25/30\n",
            "25/25 [==============================] - 1s 49ms/step - loss: 0.0726 - accuracy: 0.9862 - val_loss: 1.4334 - val_accuracy: 0.5550\n",
            "Epoch 26/30\n",
            "25/25 [==============================] - 1s 49ms/step - loss: 0.0721 - accuracy: 0.9850 - val_loss: 1.4233 - val_accuracy: 0.5750\n",
            "Epoch 27/30\n",
            "25/25 [==============================] - 1s 48ms/step - loss: 0.0684 - accuracy: 0.9887 - val_loss: 1.3545 - val_accuracy: 0.5800\n",
            "Epoch 28/30\n",
            "25/25 [==============================] - 1s 49ms/step - loss: 0.0680 - accuracy: 0.9900 - val_loss: 1.5861 - val_accuracy: 0.5400\n",
            "Epoch 29/30\n",
            "25/25 [==============================] - 1s 47ms/step - loss: 0.0615 - accuracy: 0.9837 - val_loss: 1.5262 - val_accuracy: 0.5300\n",
            "Epoch 30/30\n",
            "25/25 [==============================] - 1s 48ms/step - loss: 0.0539 - accuracy: 0.9937 - val_loss: 1.4104 - val_accuracy: 0.5600\n"
          ]
        }
      ]
    },
    {
      "cell_type": "markdown",
      "metadata": {
        "id": "xGumlg_uczz8"
      },
      "source": [
        "train loss是训练数据上的损失，衡量模型在训练集上的拟合能力。val loss是在验证集上的损失，衡量的是在未见过数据上的拟合能力，也可以说是泛化能力。模型的真正效果应该用val loss来衡量。"
      ]
    },
    {
      "cell_type": "code",
      "metadata": {
        "colab": {
          "base_uri": "https://localhost:8080/",
          "height": 283
        },
        "id": "m4X_OrkU2xfC",
        "outputId": "0c3e61f4-f366-4342-ed77-339e2791f4be"
      },
      "source": [
        "plt.plot(history.history['accuracy'], label='Accuracy (training data)')\n",
        "plt.plot(history.history['val_accuracy'], label='Accuracy (validation data)')\n",
        "plt.plot(history.history[\"loss\"], label=\"training loss\")\n",
        "plt.plot(history.history[\"val_loss\"], label=\"validation loss\")\n",
        "\n",
        "plt.ylabel('Accuracy')\n",
        "plt.xlabel('No. epoch')\n",
        "plt.legend(loc=\"upper left\")\n",
        "plt.show()"
      ],
      "execution_count": null,
      "outputs": [
        {
          "output_type": "display_data",
          "data": {
            "image/png": "[encoded data removed]",
            "text/plain": [
              "<Figure size 432x288 with 1 Axes>"
            ]
          },
          "metadata": {
            "needs_background": "light"
          }
        }
      ]
    },
    {
      "cell_type": "markdown",
      "metadata": {
        "id": "EXGWIVrD_6ax"
      },
      "source": [
        "reference:https://mathpretty.com/10675.html"
      ]
    },
    {
      "cell_type": "code",
      "metadata": {
        "colab": {
          "base_uri": "https://localhost:8080/",
          "height": 225
        },
        "id": "b4s_KB6J3ASu",
        "outputId": "015b113c-e5d3-4093-8172-30538cb49b70"
      },
      "source": [
        "from sklearn.metrics import confusion_matrix\n",
        "from sklearn.metrics import plot_confusion_matrix\n",
        "\n",
        "preds = np.argmax(model.predict(X_test), axis = 1)\n",
        "y_orig = np.argmax(y_test, axis = 1)\n",
        "cm = confusion_matrix(preds, y_orig)\n",
        "plt.figure(figsize=(10,10))\n",
        "print(cm)\n",
        "print(classes)"
      ],
      "execution_count": null,
      "outputs": [
        {
          "output_type": "stream",
          "name": "stdout",
          "text": [
            "[[ 7  0  4  0  0  1  1  1  0  2]\n",
            " [ 1  8  0  0  1  0  0  1  0  1]\n",
            " [ 4  1  9  0  0  0  0  1  3  0]\n",
            " [ 0  1  0 18  3  3  0  0  2  3]\n",
            " [ 1  2  0  2 13  2  0  0  0  5]\n",
            " [ 1  0  0  0  1  7  0  0  1  0]\n",
            " [ 2  0  1  0  0  1 19  1  0  0]\n",
            " [ 0  2  3  0  0  0  0 13  4  0]\n",
            " [ 2  6  3  0  1  1  0  2  9  0]\n",
            " [ 2  0  0  0  1  5  0  1  1  9]]\n",
            "['rock', 'pop', 'disco', 'classical', 'jazz', 'blues', 'metal', 'hiphop', 'reggae', 'country']\n"
          ]
        },
        {
          "output_type": "display_data",
          "data": {
            "text/plain": [
              "<Figure size 720x720 with 0 Axes>"
            ]
          },
          "metadata": {}
        }
      ]
    },
    {
      "cell_type": "code",
      "metadata": {
        "id": "iMbKPl14_UrS"
      },
      "source": [
        "import itertools\n",
        "# 绘制混淆矩阵\n",
        "def plot_confusion_matrix(cm, classes, normalize=False, title='Confusion matrix', cmap=plt.cm.Blues):\n",
        "    \"\"\"\n",
        "    This function prints and plots the confusion matrix.\n",
        "    Normalization can be applied by setting `normalize=True`.\n",
        "    Input\n",
        "    - cm : 计算出的混淆矩阵的值\n",
        "    - classes : 混淆矩阵中每一行每一列对应的列\n",
        "    - normalize : True:显示百分比, False:显示个数\n",
        "    \"\"\"\n",
        "    if normalize:\n",
        "        cm = cm.astype('float') / cm.sum(axis=1)[:, np.newaxis]\n",
        "        print(\"Normalized confusion matrix\")\n",
        "    else:\n",
        "        print('Confusion matrix, without normalization')\n",
        "    #print(cm)\n",
        "    plt.imshow(cm, interpolation='nearest', cmap=cmap)\n",
        "    plt.title(title)\n",
        "    plt.colorbar()\n",
        "    tick_marks = np.arange(len(classes))\n",
        "    plt.xticks(tick_marks, classes, rotation=45)\n",
        "    plt.yticks(tick_marks, classes)\n",
        "    fmt = '.2f' if normalize else 'd'\n",
        "    thresh = cm.max() / 2.\n",
        "    for i, j in itertools.product(range(cm.shape[0]), range(cm.shape[1])):\n",
        "        plt.text(j, i, format(cm[i, j], fmt),\n",
        "                 horizontalalignment=\"center\",\n",
        "                 color=\"white\" if cm[i, j] > thresh else \"black\")\n",
        "    plt.tight_layout()\n",
        "    plt.ylabel('True label')\n",
        "    plt.xlabel('Predicted label')"
      ],
      "execution_count": null,
      "outputs": []
    },
    {
      "cell_type": "code",
      "metadata": {
        "colab": {
          "base_uri": "https://localhost:8080/",
          "height": 329
        },
        "id": "Ol1K_ka9_bj3",
        "outputId": "ee7b6d45-cd04-43eb-803a-845f83282ce1"
      },
      "source": [
        "plot_confusion_matrix(cm, classes=classes, normalize=True, title='Normalized confusion matrix')"
      ],
      "execution_count": null,
      "outputs": [
        {
          "output_type": "stream",
          "name": "stdout",
          "text": [
            "Normalized confusion matrix\n"
          ]
        },
        {
          "output_type": "display_data",
          "data": {
            "image/png": "[encoded data removed]",
            "text/plain": [
              "<Figure size 432x288 with 2 Axes>"
            ]
          },
          "metadata": {
            "needs_background": "light"
          }
        }
      ]
    },
    {
      "cell_type": "markdown",
      "source": [
        "# Transfer learning"
      ],
      "metadata": {
        "id": "bJbwRGP3Zf1B"
      }
    },
    {
      "cell_type": "code",
      "source": [
        "path='/content/drive/MyDrive/Dataset/Music-genre-classification/mel-spec-img/All_30s'\n",
        "\n",
        "data_gen=tf.keras.preprocessing.image.ImageDataGenerator(rescale=1./255., validation_split=0.2)"
      ],
      "metadata": {
        "id": "QymWuRmOZjMZ"
      },
      "execution_count": null,
      "outputs": []
    },
    {
      "cell_type": "code",
      "source": [
        "(img_height, img_width)=(299,299)\n",
        "batch_size=32\n",
        "train_generator = data_gen.flow_from_directory(\n",
        "    path,\n",
        "    target_size=(img_height, img_width),\n",
        "    batch_size=batch_size,\n",
        "    class_mode='categorical',\n",
        "    subset='training') # set as training data\n",
        "\n",
        "validation_generator = data_gen.flow_from_directory(\n",
        "    path, # same directory as training data\n",
        "    target_size=(img_height, img_width),\n",
        "    batch_size=batch_size,\n",
        "    class_mode='categorical',\n",
        "    subset='validation') # set as validation data"
      ],
      "metadata": {
        "colab": {
          "base_uri": "https://localhost:8080/"
        },
        "id": "1c0Vi09tbo5V",
        "outputId": "dd04eb9f-5eee-4f9f-8843-a5ebc3c8f168"
      },
      "execution_count": null,
      "outputs": [
        {
          "output_type": "stream",
          "name": "stdout",
          "text": [
            "Found 799 images belonging to 10 classes.\n",
            "Found 199 images belonging to 10 classes.\n"
          ]
        }
      ]
    },
    {
      "cell_type": "code",
      "source": [
        "base_model=Xception(include_top=False,input_shape=(299,299,3))\n",
        "\n",
        "# Freeze the base_model\n",
        "base_model.trainable = False\n",
        "\n",
        "# Create new model on top\n",
        "inputs = tf.keras.Input(shape=(299,299,3))\n",
        "\n",
        "x = base_model(inputs, training=False)\n",
        "x = tf.keras.layers.GlobalAveragePooling2D()(x)\n",
        "x = tf.keras.layers.Dropout(0.2)(x)  \n",
        "x = tf.keras.layers.Dense(512,activation='relu')(x)\n",
        "x = tf.keras.layers.Dropout(0.2)(x) \n",
        "x = tf.keras.layers.Dense(64,activation='relu')(x)\n",
        "outputs = tf.keras.layers.Dense(10,activation='softmax')(x)\n",
        "\n",
        "model = tf.keras.Model(inputs, outputs)\n",
        "model.summary()"
      ],
      "metadata": {
        "colab": {
          "base_uri": "https://localhost:8080/"
        },
        "id": "PXmDGTJSbwMv",
        "outputId": "4b2955ef-853a-4ce3-d482-7c9e25b8c83e"
      },
      "execution_count": null,
      "outputs": [
        {
          "output_type": "stream",
          "name": "stdout",
          "text": [
            "Downloading data from https://storage.googleapis.com/tensorflow/keras-applications/xception/xception_weights_tf_dim_ordering_tf_kernels_notop.h5\n",
            "83689472/83683744 [==============================] - 2s 0us/step\n",
            "83697664/83683744 [==============================] - 2s 0us/step\n",
            "Model: \"model\"\n",
            "_________________________________________________________________\n",
            " Layer (type)                Output Shape              Param #   \n",
            "=================================================================\n",
            " input_2 (InputLayer)        [(None, 299, 299, 3)]     0         \n",
            "                                                                 \n",
            " xception (Functional)       (None, 10, 10, 2048)      20861480  \n",
            "                                                                 \n",
            " global_average_pooling2d (G  (None, 2048)             0         \n",
            " lobalAveragePooling2D)                                          \n",
            "                                                                 \n",
            " dropout (Dropout)           (None, 2048)              0         \n",
            "                                                                 \n",
            " dense (Dense)               (None, 512)               1049088   \n",
            "                                                                 \n",
            " dropout_1 (Dropout)         (None, 512)               0         \n",
            "                                                                 \n",
            " dense_1 (Dense)             (None, 64)                32832     \n",
            "                                                                 \n",
            " dense_2 (Dense)             (None, 10)                650       \n",
            "                                                                 \n",
            "=================================================================\n",
            "Total params: 21,944,050\n",
            "Trainable params: 1,082,570\n",
            "Non-trainable params: 20,861,480\n",
            "_________________________________________________________________\n"
          ]
        }
      ]
    },
    {
      "cell_type": "code",
      "source": [
        "model.compile(loss='categorical_crossentropy',optimizer='sgd',metrics=['acc'])\n",
        "history = model.fit(train_generator, validation_data=validation_generator,epochs=20)"
      ],
      "metadata": {
        "colab": {
          "base_uri": "https://localhost:8080/"
        },
        "id": "KmOnZ7qFbzhQ",
        "outputId": "96ac78e8-f270-4122-c652-fddfce8fff91"
      },
      "execution_count": null,
      "outputs": [
        {
          "output_type": "stream",
          "name": "stdout",
          "text": [
            "Epoch 1/20\n",
            "25/25 [==============================] - 383s 15s/step - loss: 2.3005 - acc: 0.1352 - val_loss: 2.2322 - val_acc: 0.2060\n",
            "Epoch 2/20\n",
            "25/25 [==============================] - 7s 280ms/step - loss: 2.2098 - acc: 0.2403 - val_loss: 2.1469 - val_acc: 0.3216\n",
            "Epoch 3/20\n",
            "25/25 [==============================] - 7s 282ms/step - loss: 2.1339 - acc: 0.2829 - val_loss: 2.0723 - val_acc: 0.3970\n",
            "Epoch 4/20\n",
            "25/25 [==============================] - 7s 282ms/step - loss: 2.0358 - acc: 0.3417 - val_loss: 1.9820 - val_acc: 0.3819\n",
            "Epoch 5/20\n",
            "25/25 [==============================] - 7s 284ms/step - loss: 1.9417 - acc: 0.4030 - val_loss: 1.9015 - val_acc: 0.4121\n",
            "Epoch 6/20\n",
            "25/25 [==============================] - 7s 286ms/step - loss: 1.8588 - acc: 0.4205 - val_loss: 1.8371 - val_acc: 0.4070\n",
            "Epoch 7/20\n",
            "25/25 [==============================] - 7s 286ms/step - loss: 1.7682 - acc: 0.4693 - val_loss: 1.7640 - val_acc: 0.4322\n",
            "Epoch 8/20\n",
            "25/25 [==============================] - 7s 287ms/step - loss: 1.6899 - acc: 0.4681 - val_loss: 1.7051 - val_acc: 0.4221\n",
            "Epoch 9/20\n",
            "25/25 [==============================] - 7s 289ms/step - loss: 1.6277 - acc: 0.4906 - val_loss: 1.6518 - val_acc: 0.4221\n",
            "Epoch 10/20\n",
            "25/25 [==============================] - 7s 289ms/step - loss: 1.5731 - acc: 0.5056 - val_loss: 1.6149 - val_acc: 0.4171\n",
            "Epoch 11/20\n",
            "25/25 [==============================] - 7s 291ms/step - loss: 1.5101 - acc: 0.5294 - val_loss: 1.5909 - val_acc: 0.4221\n",
            "Epoch 12/20\n",
            "25/25 [==============================] - 7s 290ms/step - loss: 1.4678 - acc: 0.5269 - val_loss: 1.5473 - val_acc: 0.4623\n",
            "Epoch 13/20\n",
            "25/25 [==============================] - 7s 291ms/step - loss: 1.4227 - acc: 0.5369 - val_loss: 1.5348 - val_acc: 0.4523\n",
            "Epoch 14/20\n",
            "25/25 [==============================] - 7s 291ms/step - loss: 1.4088 - acc: 0.5357 - val_loss: 1.4950 - val_acc: 0.4573\n",
            "Epoch 15/20\n",
            "25/25 [==============================] - 7s 293ms/step - loss: 1.3559 - acc: 0.5444 - val_loss: 1.4852 - val_acc: 0.4874\n",
            "Epoch 16/20\n",
            "25/25 [==============================] - 7s 293ms/step - loss: 1.3430 - acc: 0.5632 - val_loss: 1.4653 - val_acc: 0.4774\n",
            "Epoch 17/20\n",
            "25/25 [==============================] - 7s 295ms/step - loss: 1.3154 - acc: 0.5457 - val_loss: 1.4402 - val_acc: 0.4824\n",
            "Epoch 18/20\n",
            "25/25 [==============================] - 7s 297ms/step - loss: 1.2650 - acc: 0.5820 - val_loss: 1.4384 - val_acc: 0.5025\n",
            "Epoch 19/20\n",
            "25/25 [==============================] - 7s 298ms/step - loss: 1.2537 - acc: 0.5620 - val_loss: 1.4202 - val_acc: 0.4874\n",
            "Epoch 20/20\n",
            "25/25 [==============================] - 8s 298ms/step - loss: 1.2444 - acc: 0.5832 - val_loss: 1.4285 - val_acc: 0.4874\n"
          ]
        }
      ]
    },
    {
      "cell_type": "code",
      "source": [
        "model.summary()"
      ],
      "metadata": {
        "id": "M8XALYTzyzmg"
      },
      "execution_count": null,
      "outputs": []
    },
    {
      "cell_type": "code",
      "source": [
        "base_model.trainable = True\n",
        "model.summary()"
      ],
      "metadata": {
        "colab": {
          "base_uri": "https://localhost:8080/"
        },
        "id": "hQIO6AcCb4oV",
        "outputId": "a5706e1d-63e5-4b97-d290-f14169c7a118"
      },
      "execution_count": null,
      "outputs": [
        {
          "output_type": "stream",
          "name": "stdout",
          "text": [
            "Model: \"model\"\n",
            "_________________________________________________________________\n",
            " Layer (type)                Output Shape              Param #   \n",
            "=================================================================\n",
            " input_2 (InputLayer)        [(None, 299, 299, 3)]     0         \n",
            "                                                                 \n",
            " xception (Functional)       (None, 10, 10, 2048)      20861480  \n",
            "                                                                 \n",
            " global_average_pooling2d (G  (None, 2048)             0         \n",
            " lobalAveragePooling2D)                                          \n",
            "                                                                 \n",
            " dropout (Dropout)           (None, 2048)              0         \n",
            "                                                                 \n",
            " dense (Dense)               (None, 512)               1049088   \n",
            "                                                                 \n",
            " dropout_1 (Dropout)         (None, 512)               0         \n",
            "                                                                 \n",
            " dense_1 (Dense)             (None, 64)                32832     \n",
            "                                                                 \n",
            " dense_2 (Dense)             (None, 10)                650       \n",
            "                                                                 \n",
            "=================================================================\n",
            "Total params: 21,944,050\n",
            "Trainable params: 21,889,522\n",
            "Non-trainable params: 54,528\n",
            "_________________________________________________________________\n"
          ]
        }
      ]
    },
    {
      "cell_type": "code",
      "source": [
        "optimizer = tf.keras.optimizers.Adam(1e-5)\n",
        "model.compile(loss='categorical_crossentropy',optimizer=optimizer,metrics=['acc'])\n",
        "history2 = model.fit(train_generator, validation_data=validation_generator,epochs=20)"
      ],
      "metadata": {
        "colab": {
          "base_uri": "https://localhost:8080/"
        },
        "id": "qumPPm6_b8rI",
        "outputId": "b65b887c-4dcc-4027-abd2-4c3e8842ed4c"
      },
      "execution_count": null,
      "outputs": [
        {
          "output_type": "stream",
          "name": "stdout",
          "text": [
            "Epoch 1/20\n",
            "25/25 [==============================] - 40s 1s/step - loss: 1.1709 - acc: 0.6045 - val_loss: 1.3555 - val_acc: 0.5176\n",
            "Epoch 2/20\n",
            "25/25 [==============================] - 30s 1s/step - loss: 0.9766 - acc: 0.6671 - val_loss: 1.3592 - val_acc: 0.5075\n",
            "Epoch 3/20\n",
            "25/25 [==============================] - 29s 1s/step - loss: 0.8501 - acc: 0.6921 - val_loss: 1.2916 - val_acc: 0.5528\n",
            "Epoch 4/20\n",
            "25/25 [==============================] - 30s 1s/step - loss: 0.7774 - acc: 0.7259 - val_loss: 1.3368 - val_acc: 0.5477\n",
            "Epoch 5/20\n",
            "25/25 [==============================] - 30s 1s/step - loss: 0.6417 - acc: 0.7722 - val_loss: 1.2698 - val_acc: 0.5879\n",
            "Epoch 6/20\n",
            "25/25 [==============================] - 31s 1s/step - loss: 0.5436 - acc: 0.8310 - val_loss: 1.2457 - val_acc: 0.6080\n",
            "Epoch 7/20\n",
            "25/25 [==============================] - 31s 1s/step - loss: 0.4874 - acc: 0.8310 - val_loss: 1.2890 - val_acc: 0.6181\n",
            "Epoch 8/20\n",
            "25/25 [==============================] - 31s 1s/step - loss: 0.4173 - acc: 0.8598 - val_loss: 1.3137 - val_acc: 0.6332\n",
            "Epoch 9/20\n",
            "25/25 [==============================] - 30s 1s/step - loss: 0.3883 - acc: 0.8686 - val_loss: 1.3439 - val_acc: 0.5980\n",
            "Epoch 10/20\n",
            "25/25 [==============================] - 30s 1s/step - loss: 0.2999 - acc: 0.9061 - val_loss: 1.3383 - val_acc: 0.6131\n",
            "Epoch 11/20\n",
            "25/25 [==============================] - 31s 1s/step - loss: 0.2466 - acc: 0.9387 - val_loss: 1.4116 - val_acc: 0.6382\n",
            "Epoch 12/20\n",
            "25/25 [==============================] - 31s 1s/step - loss: 0.1928 - acc: 0.9349 - val_loss: 1.3888 - val_acc: 0.6482\n",
            "Epoch 13/20\n",
            "25/25 [==============================] - 31s 1s/step - loss: 0.1826 - acc: 0.9412 - val_loss: 1.3270 - val_acc: 0.6533\n",
            "Epoch 14/20\n",
            "25/25 [==============================] - 31s 1s/step - loss: 0.1596 - acc: 0.9512 - val_loss: 1.3677 - val_acc: 0.6533\n",
            "Epoch 15/20\n",
            "25/25 [==============================] - 31s 1s/step - loss: 0.1179 - acc: 0.9687 - val_loss: 1.5426 - val_acc: 0.6382\n",
            "Epoch 16/20\n",
            "25/25 [==============================] - 31s 1s/step - loss: 0.1079 - acc: 0.9712 - val_loss: 1.5820 - val_acc: 0.6281\n",
            "Epoch 17/20\n",
            "25/25 [==============================] - 31s 1s/step - loss: 0.0836 - acc: 0.9812 - val_loss: 1.5704 - val_acc: 0.6533\n",
            "Epoch 18/20\n",
            "25/25 [==============================] - 31s 1s/step - loss: 0.0688 - acc: 0.9887 - val_loss: 1.4601 - val_acc: 0.6633\n",
            "Epoch 19/20\n",
            "25/25 [==============================] - 31s 1s/step - loss: 0.0576 - acc: 0.9875 - val_loss: 1.5026 - val_acc: 0.6734\n",
            "Epoch 20/20\n",
            "25/25 [==============================] - 31s 1s/step - loss: 0.0497 - acc: 0.9875 - val_loss: 1.5975 - val_acc: 0.6482\n"
          ]
        }
      ]
    },
    {
      "cell_type": "code",
      "source": [
        "model.summary()"
      ],
      "metadata": {
        "colab": {
          "base_uri": "https://localhost:8080/"
        },
        "id": "dEraysYSioOo",
        "outputId": "448e4783-dc7c-4729-c579-d69ec813bd4f"
      },
      "execution_count": null,
      "outputs": [
        {
          "output_type": "stream",
          "name": "stdout",
          "text": [
            "Model: \"model\"\n",
            "_________________________________________________________________\n",
            " Layer (type)                Output Shape              Param #   \n",
            "=================================================================\n",
            " input_2 (InputLayer)        [(None, 299, 299, 3)]     0         \n",
            "                                                                 \n",
            " xception (Functional)       (None, 10, 10, 2048)      20861480  \n",
            "                                                                 \n",
            " global_average_pooling2d (G  (None, 2048)             0         \n",
            " lobalAveragePooling2D)                                          \n",
            "                                                                 \n",
            " dropout (Dropout)           (None, 2048)              0         \n",
            "                                                                 \n",
            " dense (Dense)               (None, 512)               1049088   \n",
            "                                                                 \n",
            " dropout_1 (Dropout)         (None, 512)               0         \n",
            "                                                                 \n",
            " dense_1 (Dense)             (None, 64)                32832     \n",
            "                                                                 \n",
            " dense_2 (Dense)             (None, 10)                650       \n",
            "                                                                 \n",
            "=================================================================\n",
            "Total params: 21,944,050\n",
            "Trainable params: 21,889,522\n",
            "Non-trainable params: 54,528\n",
            "_________________________________________________________________\n"
          ]
        }
      ]
    },
    {
      "cell_type": "code",
      "source": [
        "plt.plot(range(0,20), history.history['acc'], label='Warmup Accuracy (training data)')\n",
        "plt.plot(range(0,20), history.history['val_acc'], label='Warmup Accuracy (validation data)')\n",
        "\n",
        "plt.plot(range(20,40), history2.history['acc'], label='Final Accuracy (training data)')\n",
        "plt.plot(range(20,40), history2.history['val_acc'], label='Final Accuracy (validation data)')\n",
        "\n",
        "plt.ylabel('Accuracy')\n",
        "plt.xlabel('No. epoch')\n",
        "plt.legend(loc=\"upper left\")\n",
        "plt.show()\n",
        "\n"
      ],
      "metadata": {
        "colab": {
          "base_uri": "https://localhost:8080/",
          "height": 279
        },
        "id": "2Tc7Sexhb-wR",
        "outputId": "c5ba3cd5-91dd-4c60-99cb-0dc497b820c9"
      },
      "execution_count": null,
      "outputs": [
        {
          "output_type": "display_data",
          "data": {
            "text/plain": [
              "<Figure size 432x288 with 1 Axes>"
            ],
            "image/png": "[encoded data removed]"
          },
          "metadata": {
            "needs_background": "light"
          }
        }
      ]
    }
  ]
}