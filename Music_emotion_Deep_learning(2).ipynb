{
  "nbformat": 4,
  "nbformat_minor": 0,
  "metadata": {
    "colab": {
      "name": "Music_emotion_Deep_learning(2).ipynb",
      "provenance": [],
      "collapsed_sections": [],
      "mount_file_id": "1JQQIaYpyTLdHctujMKT9vbKmmRwkSRdF",
      "authorship_tag": "ABX9TyMgDzCOv04tC89AvgGNMGb4",
      "include_colab_link": true
    },
    "kernelspec": {
      "name": "python3",
      "display_name": "Python 3"
    },
    "language_info": {
      "name": "python"
    },
    "accelerator": "GPU"
  },
  "cells": [
    {
      "cell_type": "markdown",
      "metadata": {
        "id": "view-in-github",
        "colab_type": "text"
      },
      "source": [
        "<a href=\"https://colab.research.google.com/github/tikhongc/fyp/blob/main/Music_emotion_Deep_learning(2).ipynb\" target=\"_parent\"><img src=\"https://colab.research.google.com/assets/colab-badge.svg\" alt=\"Open In Colab\"/></a>"
      ]
    },
    {
      "cell_type": "markdown",
      "source": [
        "# Import Library"
      ],
      "metadata": {
        "id": "qOyJ99e9fJms"
      }
    },
    {
      "cell_type": "code",
      "source": [
        "!pip install spotipy"
      ],
      "metadata": {
        "colab": {
          "base_uri": "https://localhost:8080/"
        },
        "id": "sA0e6fCeaPER",
        "outputId": "a5571206-211e-41eb-eadd-20e3986adf48"
      },
      "execution_count": null,
      "outputs": [
        {
          "output_type": "stream",
          "name": "stdout",
          "text": [
            "Requirement already satisfied: spotipy in /usr/local/lib/python3.7/dist-packages (2.19.0)\n",
            "Requirement already satisfied: six>=1.15.0 in /usr/local/lib/python3.7/dist-packages (from spotipy) (1.15.0)\n",
            "Requirement already satisfied: requests>=2.25.0 in /usr/local/lib/python3.7/dist-packages (from spotipy) (2.27.1)\n",
            "Requirement already satisfied: urllib3>=1.26.0 in /usr/local/lib/python3.7/dist-packages (from spotipy) (1.26.9)\n",
            "Requirement already satisfied: idna<4,>=2.5 in /usr/local/lib/python3.7/dist-packages (from requests>=2.25.0->spotipy) (2.10)\n",
            "Requirement already satisfied: charset-normalizer~=2.0.0 in /usr/local/lib/python3.7/dist-packages (from requests>=2.25.0->spotipy) (2.0.12)\n",
            "Requirement already satisfied: certifi>=2017.4.17 in /usr/local/lib/python3.7/dist-packages (from requests>=2.25.0->spotipy) (2021.10.8)\n"
          ]
        }
      ]
    },
    {
      "cell_type": "code",
      "execution_count": null,
      "metadata": {
        "id": "gJAF9DUgaM1L"
      },
      "outputs": [],
      "source": [
        "import spotipy\n",
        "import csv\n",
        "import glob\n",
        "from spotipy.oauth2 import SpotifyClientCredentials\n",
        "import os\n",
        "import pandas as pd\n",
        "#spotify authorization\n",
        "cid = '11a595ac08b84deba845647de64addad' \n",
        "secret = '1fcdf925efc84aa4add8c3a3e7bfe44a'\n",
        "client_credentials_manager = SpotifyClientCredentials(client_id=cid, client_secret=secret)\n",
        "sp = spotipy.Spotify(client_credentials_manager = client_credentials_manager)"
      ]
    },
    {
      "cell_type": "code",
      "source": [
        "#Script to obtain data \n",
        "import numpy as np \n",
        "import pandas as pd \n",
        "import matplotlib.pyplot as plt\n",
        "import seaborn as sns\n",
        "\n",
        "#Libraries to create the multiclass model\n",
        "from keras.models import Sequential\n",
        "from keras.layers import Dense\n",
        "from keras.wrappers.scikit_learn import KerasClassifier\n",
        "#from scikeras.wrappers import KerasClassifier, KerasRegressor\n",
        "from keras.utils import np_utils\n",
        "#Import tensorflow and disable the v2 behavior and eager mode\n",
        "import tensorflow as tf\n",
        "tf.compat.v1.disable_eager_execution()\n",
        "tf.compat.v1.disable_v2_behavior()\n",
        "\n",
        "#Library to validate the model\n",
        "from sklearn.model_selection import cross_val_score, KFold, train_test_split\n",
        "from sklearn.preprocessing import LabelEncoder,MinMaxScaler\n",
        "from sklearn.pipeline import Pipeline\n",
        "from sklearn.metrics import confusion_matrix, accuracy_score\n",
        "# To support both python 2 and python 3\n",
        "from __future__ import division, print_function, unicode_literals\n",
        "\n",
        "import numpy as np\n",
        "import os\n",
        "import pandas as pd\n",
        "# To make this notebook's output stable across runs\n",
        "np.random.seed(42)\n",
        "\n",
        "# To plot pretty figures\n",
        "%matplotlib inline\n",
        "import matplotlib as mpl\n",
        "import matplotlib.pyplot as plt\n",
        "mpl.rc('axes', labelsize=14)\n",
        "mpl.rc('xtick', labelsize=12)\n",
        "mpl.rc('ytick', labelsize=12)\n",
        "\n",
        "import seaborn as sns\n",
        "#set style of plots\n",
        "sns.set_style('white')\n",
        "\n",
        "#define a custom palette\n",
        "customPalette = ['#630C3A', '#39C8C6', '#D3500C', '#FFB139']\n",
        "sns.set_palette(customPalette)\n",
        "sns.palplot(customPalette)\n",
        "\n",
        "\n",
        "# Ignore useless warnings (see SciPy issue #5998)\n",
        "import warnings\n",
        "warnings.filterwarnings(action=\"ignore\", message=\"^internal gelsd\")"
      ],
      "metadata": {
        "colab": {
          "base_uri": "https://localhost:8080/"
        },
        "id": "URq7XV_Yb_ds",
        "outputId": "f1c3d690-777b-4ebc-9701-c7fcf021e6af"
      },
      "execution_count": null,
      "outputs": [
        {
          "output_type": "stream",
          "name": "stdout",
          "text": [
            "WARNING:tensorflow:From /usr/local/lib/python3.7/dist-packages/tensorflow/python/compat/v2_compat.py:107: disable_resource_variables (from tensorflow.python.ops.variable_scope) is deprecated and will be removed in a future version.\n",
            "Instructions for updating:\n",
            "non-resource variables are not supported in the long term\n"
          ]
        },
        {
          "output_type": "display_data",
          "data": {
            "text/plain": [
              "<Figure size 288x72 with 1 Axes>"
            ],
            "image/png": "[encoded data removed]"
          },
          "metadata": {}
        }
      ]
    },
    {
      "cell_type": "markdown",
      "source": [
        "# Load Data"
      ],
      "metadata": {
        "id": "INuMgN2ifRMp"
      }
    },
    {
      "cell_type": "code",
      "source": [
        "# Import my spotify data\n",
        "df = pd.read_csv(\"/content/drive/MyDrive/Dataset/Music-MOOD/Dataset/dataset_mood.csv\")"
      ],
      "metadata": {
        "id": "MzQNxQf_cF1L"
      },
      "execution_count": null,
      "outputs": []
    },
    {
      "cell_type": "code",
      "source": [
        "from google.colab import drive\n",
        "drive.mount('/content/drive')"
      ],
      "metadata": {
        "colab": {
          "base_uri": "https://localhost:8080/"
        },
        "id": "zJuC9znt3rSc",
        "outputId": "b8299897-c4d8-42a7-daa6-1f96e85b72da"
      },
      "execution_count": null,
      "outputs": [
        {
          "output_type": "stream",
          "name": "stdout",
          "text": [
            "Drive already mounted at /content/drive; to attempt to forcibly remount, call drive.mount(\"/content/drive\", force_remount=True).\n"
          ]
        }
      ]
    },
    {
      "cell_type": "code",
      "source": [
        "# remove song names, artist and id before clustering\n",
        "songs_features = df.copy()\n",
        "songs_features = songs_features.drop(['artist','album','track_name','track_id','duration_ms','genre','key','time_signature'],axis=1)\n",
        "songs_features"
      ],
      "metadata": {
        "colab": {
          "base_uri": "https://localhost:8080/",
          "height": 423
        },
        "id": "fLghMxzwcsNh",
        "outputId": "fd456bba-6835-4a8f-8c94-e9ba559121d7"
      },
      "execution_count": null,
      "outputs": [
        {
          "output_type": "execute_result",
          "data": {
            "text/plain": [
              "      danceability  energy  loudness  acousticness  speechiness  \\\n",
              "0            0.445   0.537    -8.532      0.695000       0.0400   \n",
              "1            0.604   0.366    -7.519      0.578000       0.0282   \n",
              "2            0.824   0.300    -6.678      0.854000       0.0565   \n",
              "3            0.391   0.335   -10.064      0.389000       0.0763   \n",
              "4            0.559   0.763    -4.160      0.403000       0.1050   \n",
              "...            ...     ...       ...           ...          ...   \n",
              "3058         0.547   0.792    -5.645      0.000383       0.0350   \n",
              "3059         0.555   0.883    -3.426      0.001140       0.0341   \n",
              "3060         0.408   0.965    -4.232      0.000007       0.0500   \n",
              "3061         0.641   0.732    -7.570      0.013900       0.0795   \n",
              "3062         0.361   0.962    -2.928      0.010300       0.0659   \n",
              "\n",
              "      instrumentalness  liveness  valence    tempo  \n",
              "0             0.000017    0.0944    0.131  122.769  \n",
              "1             0.000000    0.1330    0.130  141.981  \n",
              "2             0.000000    0.1740    0.227  112.867  \n",
              "3             0.000000    0.1020    0.116  174.185  \n",
              "4             0.000000    0.1270    0.349   91.069  \n",
              "...                ...       ...      ...      ...  \n",
              "3058          0.000259    0.1060    0.395   97.998  \n",
              "3059          0.041000    0.8680    0.507  125.020  \n",
              "3060          0.000402    0.1100    0.349  136.018  \n",
              "3061          0.000003    0.0620    0.763   92.057  \n",
              "3062          0.001030    0.2940    0.927  161.292  \n",
              "\n",
              "[3063 rows x 9 columns]"
            ],
            "text/html": [
              "\n",
              "  <div id=\"df-ea3d00d7-ff11-4a7d-94ae-8f4e86447834\">\n",
              "    <div class=\"colab-df-container\">\n",
              "      <div>\n",
              "<style scoped>\n",
              "    .dataframe tbody tr th:only-of-type {\n",
              "        vertical-align: middle;\n",
              "    }\n",
              "\n",
              "    .dataframe tbody tr th {\n",
              "        vertical-align: top;\n",
              "    }\n",
              "\n",
              "    .dataframe thead th {\n",
              "        text-align: right;\n",
              "    }\n",
              "</style>\n",
              "<table border=\"1\" class=\"dataframe\">\n",
              "  <thead>\n",
              "    <tr style=\"text-align: right;\">\n",
              "      <th></th>\n",
              "      <th>danceability</th>\n",
              "      <th>energy</th>\n",
              "      <th>loudness</th>\n",
              "      <th>acousticness</th>\n",
              "      <th>speechiness</th>\n",
              "      <th>instrumentalness</th>\n",
              "      <th>liveness</th>\n",
              "      <th>valence</th>\n",
              "      <th>tempo</th>\n",
              "    </tr>\n",
              "  </thead>\n",
              "  <tbody>\n",
              "    <tr>\n",
              "      <th>0</th>\n",
              "      <td>0.445</td>\n",
              "      <td>0.537</td>\n",
              "      <td>-8.532</td>\n",
              "      <td>0.695000</td>\n",
              "      <td>0.0400</td>\n",
              "      <td>0.000017</td>\n",
              "      <td>0.0944</td>\n",
              "      <td>0.131</td>\n",
              "      <td>122.769</td>\n",
              "    </tr>\n",
              "    <tr>\n",
              "      <th>1</th>\n",
              "      <td>0.604</td>\n",
              "      <td>0.366</td>\n",
              "      <td>-7.519</td>\n",
              "      <td>0.578000</td>\n",
              "      <td>0.0282</td>\n",
              "      <td>0.000000</td>\n",
              "      <td>0.1330</td>\n",
              "      <td>0.130</td>\n",
              "      <td>141.981</td>\n",
              "    </tr>\n",
              "    <tr>\n",
              "      <th>2</th>\n",
              "      <td>0.824</td>\n",
              "      <td>0.300</td>\n",
              "      <td>-6.678</td>\n",
              "      <td>0.854000</td>\n",
              "      <td>0.0565</td>\n",
              "      <td>0.000000</td>\n",
              "      <td>0.1740</td>\n",
              "      <td>0.227</td>\n",
              "      <td>112.867</td>\n",
              "    </tr>\n",
              "    <tr>\n",
              "      <th>3</th>\n",
              "      <td>0.391</td>\n",
              "      <td>0.335</td>\n",
              "      <td>-10.064</td>\n",
              "      <td>0.389000</td>\n",
              "      <td>0.0763</td>\n",
              "      <td>0.000000</td>\n",
              "      <td>0.1020</td>\n",
              "      <td>0.116</td>\n",
              "      <td>174.185</td>\n",
              "    </tr>\n",
              "    <tr>\n",
              "      <th>4</th>\n",
              "      <td>0.559</td>\n",
              "      <td>0.763</td>\n",
              "      <td>-4.160</td>\n",
              "      <td>0.403000</td>\n",
              "      <td>0.1050</td>\n",
              "      <td>0.000000</td>\n",
              "      <td>0.1270</td>\n",
              "      <td>0.349</td>\n",
              "      <td>91.069</td>\n",
              "    </tr>\n",
              "    <tr>\n",
              "      <th>...</th>\n",
              "      <td>...</td>\n",
              "      <td>...</td>\n",
              "      <td>...</td>\n",
              "      <td>...</td>\n",
              "      <td>...</td>\n",
              "      <td>...</td>\n",
              "      <td>...</td>\n",
              "      <td>...</td>\n",
              "      <td>...</td>\n",
              "    </tr>\n",
              "    <tr>\n",
              "      <th>3058</th>\n",
              "      <td>0.547</td>\n",
              "      <td>0.792</td>\n",
              "      <td>-5.645</td>\n",
              "      <td>0.000383</td>\n",
              "      <td>0.0350</td>\n",
              "      <td>0.000259</td>\n",
              "      <td>0.1060</td>\n",
              "      <td>0.395</td>\n",
              "      <td>97.998</td>\n",
              "    </tr>\n",
              "    <tr>\n",
              "      <th>3059</th>\n",
              "      <td>0.555</td>\n",
              "      <td>0.883</td>\n",
              "      <td>-3.426</td>\n",
              "      <td>0.001140</td>\n",
              "      <td>0.0341</td>\n",
              "      <td>0.041000</td>\n",
              "      <td>0.8680</td>\n",
              "      <td>0.507</td>\n",
              "      <td>125.020</td>\n",
              "    </tr>\n",
              "    <tr>\n",
              "      <th>3060</th>\n",
              "      <td>0.408</td>\n",
              "      <td>0.965</td>\n",
              "      <td>-4.232</td>\n",
              "      <td>0.000007</td>\n",
              "      <td>0.0500</td>\n",
              "      <td>0.000402</td>\n",
              "      <td>0.1100</td>\n",
              "      <td>0.349</td>\n",
              "      <td>136.018</td>\n",
              "    </tr>\n",
              "    <tr>\n",
              "      <th>3061</th>\n",
              "      <td>0.641</td>\n",
              "      <td>0.732</td>\n",
              "      <td>-7.570</td>\n",
              "      <td>0.013900</td>\n",
              "      <td>0.0795</td>\n",
              "      <td>0.000003</td>\n",
              "      <td>0.0620</td>\n",
              "      <td>0.763</td>\n",
              "      <td>92.057</td>\n",
              "    </tr>\n",
              "    <tr>\n",
              "      <th>3062</th>\n",
              "      <td>0.361</td>\n",
              "      <td>0.962</td>\n",
              "      <td>-2.928</td>\n",
              "      <td>0.010300</td>\n",
              "      <td>0.0659</td>\n",
              "      <td>0.001030</td>\n",
              "      <td>0.2940</td>\n",
              "      <td>0.927</td>\n",
              "      <td>161.292</td>\n",
              "    </tr>\n",
              "  </tbody>\n",
              "</table>\n",
              "<p>3063 rows × 9 columns</p>\n",
              "</div>\n",
              "      <button class=\"colab-df-convert\" onclick=\"convertToInteractive('df-ea3d00d7-ff11-4a7d-94ae-8f4e86447834')\"\n",
              "              title=\"Convert this dataframe to an interactive table.\"\n",
              "              style=\"display:none;\">\n",
              "        \n",
              "  <svg xmlns=\"http://www.w3.org/2000/svg\" height=\"24px\"viewBox=\"0 0 24 24\"\n",
              "       width=\"24px\">\n",
              "    <path d=\"M0 0h24v24H0V0z\" fill=\"none\"/>\n",
              "    <path d=\"M18.56 5.44l.94 2.06.94-2.06 2.06-.94-2.06-.94-.94-2.06-.94 2.06-2.06.94zm-11 1L8.5 8.5l.94-2.06 2.06-.94-2.06-.94L8.5 2.5l-.94 2.06-2.06.94zm10 10l.94 2.06.94-2.06 2.06-.94-2.06-.94-.94-2.06-.94 2.06-2.06.94z\"/><path d=\"M17.41 7.96l-1.37-1.37c-.4-.4-.92-.59-1.43-.59-.52 0-1.04.2-1.43.59L10.3 9.45l-7.72 7.72c-.78.78-.78 2.05 0 2.83L4 21.41c.39.39.9.59 1.41.59.51 0 1.02-.2 1.41-.59l7.78-7.78 2.81-2.81c.8-.78.8-2.07 0-2.86zM5.41 20L4 18.59l7.72-7.72 1.47 1.35L5.41 20z\"/>\n",
              "  </svg>\n",
              "      </button>\n",
              "      \n",
              "  <style>\n",
              "    .colab-df-container {\n",
              "      display:flex;\n",
              "      flex-wrap:wrap;\n",
              "      gap: 12px;\n",
              "    }\n",
              "\n",
              "    .colab-df-convert {\n",
              "      background-color: #E8F0FE;\n",
              "      border: none;\n",
              "      border-radius: 50%;\n",
              "      cursor: pointer;\n",
              "      display: none;\n",
              "      fill: #1967D2;\n",
              "      height: 32px;\n",
              "      padding: 0 0 0 0;\n",
              "      width: 32px;\n",
              "    }\n",
              "\n",
              "    .colab-df-convert:hover {\n",
              "      background-color: #E2EBFA;\n",
              "      box-shadow: 0px 1px 2px rgba(60, 64, 67, 0.3), 0px 1px 3px 1px rgba(60, 64, 67, 0.15);\n",
              "      fill: #174EA6;\n",
              "    }\n",
              "\n",
              "    [theme=dark] .colab-df-convert {\n",
              "      background-color: #3B4455;\n",
              "      fill: #D2E3FC;\n",
              "    }\n",
              "\n",
              "    [theme=dark] .colab-df-convert:hover {\n",
              "      background-color: #434B5C;\n",
              "      box-shadow: 0px 1px 3px 1px rgba(0, 0, 0, 0.15);\n",
              "      filter: drop-shadow(0px 1px 2px rgba(0, 0, 0, 0.3));\n",
              "      fill: #FFFFFF;\n",
              "    }\n",
              "  </style>\n",
              "\n",
              "      <script>\n",
              "        const buttonEl =\n",
              "          document.querySelector('#df-ea3d00d7-ff11-4a7d-94ae-8f4e86447834 button.colab-df-convert');\n",
              "        buttonEl.style.display =\n",
              "          google.colab.kernel.accessAllowed ? 'block' : 'none';\n",
              "\n",
              "        async function convertToInteractive(key) {\n",
              "          const element = document.querySelector('#df-ea3d00d7-ff11-4a7d-94ae-8f4e86447834');\n",
              "          const dataTable =\n",
              "            await google.colab.kernel.invokeFunction('convertToInteractive',\n",
              "                                                     [key], {});\n",
              "          if (!dataTable) return;\n",
              "\n",
              "          const docLinkHtml = 'Like what you see? Visit the ' +\n",
              "            '<a target=\"_blank\" href=https://colab.research.google.com/notebooks/data_table.ipynb>data table notebook</a>'\n",
              "            + ' to learn more about interactive tables.';\n",
              "          element.innerHTML = '';\n",
              "          dataTable['output_type'] = 'display_data';\n",
              "          await google.colab.output.renderOutput(dataTable, element);\n",
              "          const docLink = document.createElement('div');\n",
              "          docLink.innerHTML = docLinkHtml;\n",
              "          element.appendChild(docLink);\n",
              "        }\n",
              "      </script>\n",
              "    </div>\n",
              "  </div>\n",
              "  "
            ]
          },
          "metadata": {},
          "execution_count": 13
        }
      ]
    },
    {
      "cell_type": "markdown",
      "source": [
        "# Tranining Model"
      ],
      "metadata": {
        "id": "Vp_GPHSnfeNZ"
      }
    },
    {
      "cell_type": "markdown",
      "source": [
        "In order to standardize the features, I used MinMaxScaler to scale the values ​​in the range [0,1] and preserve the shape of the original distribution. I also coded the 4 labels because the neural network uses numerical values ​​for training and testing. Finally, I split the data into 80% for training and 20% for testing"
      ],
      "metadata": {
        "id": "ZwIzZQg0fivA"
      }
    },
    {
      "cell_type": "code",
      "source": [
        "df"
      ],
      "metadata": {
        "colab": {
          "base_uri": "https://localhost:8080/",
          "height": 696
        },
        "id": "QRIae-qqfls8",
        "outputId": "5dc92678-bc76-46dd-da22-1aab8ffc3bf4"
      },
      "execution_count": null,
      "outputs": [
        {
          "output_type": "execute_result",
          "data": {
            "text/plain": [
              "                       artist                                          album  \\\n",
              "0                   Tom Odell                         Long Way Down (Deluxe)   \n",
              "1                       Adele                                     Easy On Me   \n",
              "2                       Griff                  Black Hole (Acoustic Version)   \n",
              "3                Benson Boone                                     GHOST TOWN   \n",
              "4                   Mimi Webb                                           24/5   \n",
              "...                       ...                                            ...   \n",
              "3058           Highly Suspect                                  Mister Asylum   \n",
              "3059                     Muse                                         Drones   \n",
              "3060                     Muse                             Origin of Symmetry   \n",
              "3061                 Pop Evil                                             UP   \n",
              "3062  Queens of the Stone Age  Lullabies To Paralyze (International Version)   \n",
              "\n",
              "                         track_name                track_id  duration_ms  \\\n",
              "0                      Another Love  3JvKfv6T31zO0ini8iNItO       244360   \n",
              "1                        Easy On Me  0gplL1WMoJ6iYaPgMCL0gX       224695   \n",
              "2     Black Hole - Acoustic Version  1cpVLszZnKUHUjsJDTEi3D       175980   \n",
              "3                        GHOST TOWN  135Lf4Q0CzlMNfOxbEUsLH       193733   \n",
              "4                              24/5  1A6gT680oQr98VtDkNzys7       158221   \n",
              "...                             ...                     ...          ...   \n",
              "3058                   Bloodfeather  66Avcq6c51vcMGXLzHH5d7       234093   \n",
              "3059                         Psycho  383QXk8nb2YrARMUwDdjQS       316718   \n",
              "3060                   Plug in Baby  2UKARCqDrhkYDoVR4FN5Wi       218000   \n",
              "3061                      Footsteps  47StfXJOnGLhYfMEWgoTiX       262107   \n",
              "3062                  Little Sister  5wHNRDvNDTvAvNUllq5v7R       174027   \n",
              "\n",
              "      danceability  energy  loudness  acousticness  speechiness  \\\n",
              "0            0.445   0.537    -8.532      0.695000       0.0400   \n",
              "1            0.604   0.366    -7.519      0.578000       0.0282   \n",
              "2            0.824   0.300    -6.678      0.854000       0.0565   \n",
              "3            0.391   0.335   -10.064      0.389000       0.0763   \n",
              "4            0.559   0.763    -4.160      0.403000       0.1050   \n",
              "...            ...     ...       ...           ...          ...   \n",
              "3058         0.547   0.792    -5.645      0.000383       0.0350   \n",
              "3059         0.555   0.883    -3.426      0.001140       0.0341   \n",
              "3060         0.408   0.965    -4.232      0.000007       0.0500   \n",
              "3061         0.641   0.732    -7.570      0.013900       0.0795   \n",
              "3062         0.361   0.962    -2.928      0.010300       0.0659   \n",
              "\n",
              "      instrumentalness  liveness  valence    tempo  key  time_signature  \\\n",
              "0             0.000017    0.0944    0.131  122.769    4               4   \n",
              "1             0.000000    0.1330    0.130  141.981    5               4   \n",
              "2             0.000000    0.1740    0.227  112.867    1               4   \n",
              "3             0.000000    0.1020    0.116  174.185    0               3   \n",
              "4             0.000000    0.1270    0.349   91.069    0               4   \n",
              "...                ...       ...      ...      ...  ...             ...   \n",
              "3058          0.000259    0.1060    0.395   97.998    9               4   \n",
              "3059          0.041000    0.8680    0.507  125.020    2               4   \n",
              "3060          0.000402    0.1100    0.349  136.018    2               4   \n",
              "3061          0.000003    0.0620    0.763   92.057    5               4   \n",
              "3062          0.001030    0.2940    0.927  161.292    1               4   \n",
              "\n",
              "          genre  \n",
              "0           sad  \n",
              "1           sad  \n",
              "2           sad  \n",
              "3           sad  \n",
              "4           sad  \n",
              "...         ...  \n",
              "3058  energetic  \n",
              "3059  energetic  \n",
              "3060  energetic  \n",
              "3061  energetic  \n",
              "3062  energetic  \n",
              "\n",
              "[3063 rows x 17 columns]"
            ],
            "text/html": [
              "\n",
              "  <div id=\"df-993c9a6c-eeea-4a0e-8741-f09a3240a708\">\n",
              "    <div class=\"colab-df-container\">\n",
              "      <div>\n",
              "<style scoped>\n",
              "    .dataframe tbody tr th:only-of-type {\n",
              "        vertical-align: middle;\n",
              "    }\n",
              "\n",
              "    .dataframe tbody tr th {\n",
              "        vertical-align: top;\n",
              "    }\n",
              "\n",
              "    .dataframe thead th {\n",
              "        text-align: right;\n",
              "    }\n",
              "</style>\n",
              "<table border=\"1\" class=\"dataframe\">\n",
              "  <thead>\n",
              "    <tr style=\"text-align: right;\">\n",
              "      <th></th>\n",
              "      <th>artist</th>\n",
              "      <th>album</th>\n",
              "      <th>track_name</th>\n",
              "      <th>track_id</th>\n",
              "      <th>duration_ms</th>\n",
              "      <th>danceability</th>\n",
              "      <th>energy</th>\n",
              "      <th>loudness</th>\n",
              "      <th>acousticness</th>\n",
              "      <th>speechiness</th>\n",
              "      <th>instrumentalness</th>\n",
              "      <th>liveness</th>\n",
              "      <th>valence</th>\n",
              "      <th>tempo</th>\n",
              "      <th>key</th>\n",
              "      <th>time_signature</th>\n",
              "      <th>genre</th>\n",
              "    </tr>\n",
              "  </thead>\n",
              "  <tbody>\n",
              "    <tr>\n",
              "      <th>0</th>\n",
              "      <td>Tom Odell</td>\n",
              "      <td>Long Way Down (Deluxe)</td>\n",
              "      <td>Another Love</td>\n",
              "      <td>3JvKfv6T31zO0ini8iNItO</td>\n",
              "      <td>244360</td>\n",
              "      <td>0.445</td>\n",
              "      <td>0.537</td>\n",
              "      <td>-8.532</td>\n",
              "      <td>0.695000</td>\n",
              "      <td>0.0400</td>\n",
              "      <td>0.000017</td>\n",
              "      <td>0.0944</td>\n",
              "      <td>0.131</td>\n",
              "      <td>122.769</td>\n",
              "      <td>4</td>\n",
              "      <td>4</td>\n",
              "      <td>sad</td>\n",
              "    </tr>\n",
              "    <tr>\n",
              "      <th>1</th>\n",
              "      <td>Adele</td>\n",
              "      <td>Easy On Me</td>\n",
              "      <td>Easy On Me</td>\n",
              "      <td>0gplL1WMoJ6iYaPgMCL0gX</td>\n",
              "      <td>224695</td>\n",
              "      <td>0.604</td>\n",
              "      <td>0.366</td>\n",
              "      <td>-7.519</td>\n",
              "      <td>0.578000</td>\n",
              "      <td>0.0282</td>\n",
              "      <td>0.000000</td>\n",
              "      <td>0.1330</td>\n",
              "      <td>0.130</td>\n",
              "      <td>141.981</td>\n",
              "      <td>5</td>\n",
              "      <td>4</td>\n",
              "      <td>sad</td>\n",
              "    </tr>\n",
              "    <tr>\n",
              "      <th>2</th>\n",
              "      <td>Griff</td>\n",
              "      <td>Black Hole (Acoustic Version)</td>\n",
              "      <td>Black Hole - Acoustic Version</td>\n",
              "      <td>1cpVLszZnKUHUjsJDTEi3D</td>\n",
              "      <td>175980</td>\n",
              "      <td>0.824</td>\n",
              "      <td>0.300</td>\n",
              "      <td>-6.678</td>\n",
              "      <td>0.854000</td>\n",
              "      <td>0.0565</td>\n",
              "      <td>0.000000</td>\n",
              "      <td>0.1740</td>\n",
              "      <td>0.227</td>\n",
              "      <td>112.867</td>\n",
              "      <td>1</td>\n",
              "      <td>4</td>\n",
              "      <td>sad</td>\n",
              "    </tr>\n",
              "    <tr>\n",
              "      <th>3</th>\n",
              "      <td>Benson Boone</td>\n",
              "      <td>GHOST TOWN</td>\n",
              "      <td>GHOST TOWN</td>\n",
              "      <td>135Lf4Q0CzlMNfOxbEUsLH</td>\n",
              "      <td>193733</td>\n",
              "      <td>0.391</td>\n",
              "      <td>0.335</td>\n",
              "      <td>-10.064</td>\n",
              "      <td>0.389000</td>\n",
              "      <td>0.0763</td>\n",
              "      <td>0.000000</td>\n",
              "      <td>0.1020</td>\n",
              "      <td>0.116</td>\n",
              "      <td>174.185</td>\n",
              "      <td>0</td>\n",
              "      <td>3</td>\n",
              "      <td>sad</td>\n",
              "    </tr>\n",
              "    <tr>\n",
              "      <th>4</th>\n",
              "      <td>Mimi Webb</td>\n",
              "      <td>24/5</td>\n",
              "      <td>24/5</td>\n",
              "      <td>1A6gT680oQr98VtDkNzys7</td>\n",
              "      <td>158221</td>\n",
              "      <td>0.559</td>\n",
              "      <td>0.763</td>\n",
              "      <td>-4.160</td>\n",
              "      <td>0.403000</td>\n",
              "      <td>0.1050</td>\n",
              "      <td>0.000000</td>\n",
              "      <td>0.1270</td>\n",
              "      <td>0.349</td>\n",
              "      <td>91.069</td>\n",
              "      <td>0</td>\n",
              "      <td>4</td>\n",
              "      <td>sad</td>\n",
              "    </tr>\n",
              "    <tr>\n",
              "      <th>...</th>\n",
              "      <td>...</td>\n",
              "      <td>...</td>\n",
              "      <td>...</td>\n",
              "      <td>...</td>\n",
              "      <td>...</td>\n",
              "      <td>...</td>\n",
              "      <td>...</td>\n",
              "      <td>...</td>\n",
              "      <td>...</td>\n",
              "      <td>...</td>\n",
              "      <td>...</td>\n",
              "      <td>...</td>\n",
              "      <td>...</td>\n",
              "      <td>...</td>\n",
              "      <td>...</td>\n",
              "      <td>...</td>\n",
              "      <td>...</td>\n",
              "    </tr>\n",
              "    <tr>\n",
              "      <th>3058</th>\n",
              "      <td>Highly Suspect</td>\n",
              "      <td>Mister Asylum</td>\n",
              "      <td>Bloodfeather</td>\n",
              "      <td>66Avcq6c51vcMGXLzHH5d7</td>\n",
              "      <td>234093</td>\n",
              "      <td>0.547</td>\n",
              "      <td>0.792</td>\n",
              "      <td>-5.645</td>\n",
              "      <td>0.000383</td>\n",
              "      <td>0.0350</td>\n",
              "      <td>0.000259</td>\n",
              "      <td>0.1060</td>\n",
              "      <td>0.395</td>\n",
              "      <td>97.998</td>\n",
              "      <td>9</td>\n",
              "      <td>4</td>\n",
              "      <td>energetic</td>\n",
              "    </tr>\n",
              "    <tr>\n",
              "      <th>3059</th>\n",
              "      <td>Muse</td>\n",
              "      <td>Drones</td>\n",
              "      <td>Psycho</td>\n",
              "      <td>383QXk8nb2YrARMUwDdjQS</td>\n",
              "      <td>316718</td>\n",
              "      <td>0.555</td>\n",
              "      <td>0.883</td>\n",
              "      <td>-3.426</td>\n",
              "      <td>0.001140</td>\n",
              "      <td>0.0341</td>\n",
              "      <td>0.041000</td>\n",
              "      <td>0.8680</td>\n",
              "      <td>0.507</td>\n",
              "      <td>125.020</td>\n",
              "      <td>2</td>\n",
              "      <td>4</td>\n",
              "      <td>energetic</td>\n",
              "    </tr>\n",
              "    <tr>\n",
              "      <th>3060</th>\n",
              "      <td>Muse</td>\n",
              "      <td>Origin of Symmetry</td>\n",
              "      <td>Plug in Baby</td>\n",
              "      <td>2UKARCqDrhkYDoVR4FN5Wi</td>\n",
              "      <td>218000</td>\n",
              "      <td>0.408</td>\n",
              "      <td>0.965</td>\n",
              "      <td>-4.232</td>\n",
              "      <td>0.000007</td>\n",
              "      <td>0.0500</td>\n",
              "      <td>0.000402</td>\n",
              "      <td>0.1100</td>\n",
              "      <td>0.349</td>\n",
              "      <td>136.018</td>\n",
              "      <td>2</td>\n",
              "      <td>4</td>\n",
              "      <td>energetic</td>\n",
              "    </tr>\n",
              "    <tr>\n",
              "      <th>3061</th>\n",
              "      <td>Pop Evil</td>\n",
              "      <td>UP</td>\n",
              "      <td>Footsteps</td>\n",
              "      <td>47StfXJOnGLhYfMEWgoTiX</td>\n",
              "      <td>262107</td>\n",
              "      <td>0.641</td>\n",
              "      <td>0.732</td>\n",
              "      <td>-7.570</td>\n",
              "      <td>0.013900</td>\n",
              "      <td>0.0795</td>\n",
              "      <td>0.000003</td>\n",
              "      <td>0.0620</td>\n",
              "      <td>0.763</td>\n",
              "      <td>92.057</td>\n",
              "      <td>5</td>\n",
              "      <td>4</td>\n",
              "      <td>energetic</td>\n",
              "    </tr>\n",
              "    <tr>\n",
              "      <th>3062</th>\n",
              "      <td>Queens of the Stone Age</td>\n",
              "      <td>Lullabies To Paralyze (International Version)</td>\n",
              "      <td>Little Sister</td>\n",
              "      <td>5wHNRDvNDTvAvNUllq5v7R</td>\n",
              "      <td>174027</td>\n",
              "      <td>0.361</td>\n",
              "      <td>0.962</td>\n",
              "      <td>-2.928</td>\n",
              "      <td>0.010300</td>\n",
              "      <td>0.0659</td>\n",
              "      <td>0.001030</td>\n",
              "      <td>0.2940</td>\n",
              "      <td>0.927</td>\n",
              "      <td>161.292</td>\n",
              "      <td>1</td>\n",
              "      <td>4</td>\n",
              "      <td>energetic</td>\n",
              "    </tr>\n",
              "  </tbody>\n",
              "</table>\n",
              "<p>3063 rows × 17 columns</p>\n",
              "</div>\n",
              "      <button class=\"colab-df-convert\" onclick=\"convertToInteractive('df-993c9a6c-eeea-4a0e-8741-f09a3240a708')\"\n",
              "              title=\"Convert this dataframe to an interactive table.\"\n",
              "              style=\"display:none;\">\n",
              "        \n",
              "  <svg xmlns=\"http://www.w3.org/2000/svg\" height=\"24px\"viewBox=\"0 0 24 24\"\n",
              "       width=\"24px\">\n",
              "    <path d=\"M0 0h24v24H0V0z\" fill=\"none\"/>\n",
              "    <path d=\"M18.56 5.44l.94 2.06.94-2.06 2.06-.94-2.06-.94-.94-2.06-.94 2.06-2.06.94zm-11 1L8.5 8.5l.94-2.06 2.06-.94-2.06-.94L8.5 2.5l-.94 2.06-2.06.94zm10 10l.94 2.06.94-2.06 2.06-.94-2.06-.94-.94-2.06-.94 2.06-2.06.94z\"/><path d=\"M17.41 7.96l-1.37-1.37c-.4-.4-.92-.59-1.43-.59-.52 0-1.04.2-1.43.59L10.3 9.45l-7.72 7.72c-.78.78-.78 2.05 0 2.83L4 21.41c.39.39.9.59 1.41.59.51 0 1.02-.2 1.41-.59l7.78-7.78 2.81-2.81c.8-.78.8-2.07 0-2.86zM5.41 20L4 18.59l7.72-7.72 1.47 1.35L5.41 20z\"/>\n",
              "  </svg>\n",
              "      </button>\n",
              "      \n",
              "  <style>\n",
              "    .colab-df-container {\n",
              "      display:flex;\n",
              "      flex-wrap:wrap;\n",
              "      gap: 12px;\n",
              "    }\n",
              "\n",
              "    .colab-df-convert {\n",
              "      background-color: #E8F0FE;\n",
              "      border: none;\n",
              "      border-radius: 50%;\n",
              "      cursor: pointer;\n",
              "      display: none;\n",
              "      fill: #1967D2;\n",
              "      height: 32px;\n",
              "      padding: 0 0 0 0;\n",
              "      width: 32px;\n",
              "    }\n",
              "\n",
              "    .colab-df-convert:hover {\n",
              "      background-color: #E2EBFA;\n",
              "      box-shadow: 0px 1px 2px rgba(60, 64, 67, 0.3), 0px 1px 3px 1px rgba(60, 64, 67, 0.15);\n",
              "      fill: #174EA6;\n",
              "    }\n",
              "\n",
              "    [theme=dark] .colab-df-convert {\n",
              "      background-color: #3B4455;\n",
              "      fill: #D2E3FC;\n",
              "    }\n",
              "\n",
              "    [theme=dark] .colab-df-convert:hover {\n",
              "      background-color: #434B5C;\n",
              "      box-shadow: 0px 1px 3px 1px rgba(0, 0, 0, 0.15);\n",
              "      filter: drop-shadow(0px 1px 2px rgba(0, 0, 0, 0.3));\n",
              "      fill: #FFFFFF;\n",
              "    }\n",
              "  </style>\n",
              "\n",
              "      <script>\n",
              "        const buttonEl =\n",
              "          document.querySelector('#df-993c9a6c-eeea-4a0e-8741-f09a3240a708 button.colab-df-convert');\n",
              "        buttonEl.style.display =\n",
              "          google.colab.kernel.accessAllowed ? 'block' : 'none';\n",
              "\n",
              "        async function convertToInteractive(key) {\n",
              "          const element = document.querySelector('#df-993c9a6c-eeea-4a0e-8741-f09a3240a708');\n",
              "          const dataTable =\n",
              "            await google.colab.kernel.invokeFunction('convertToInteractive',\n",
              "                                                     [key], {});\n",
              "          if (!dataTable) return;\n",
              "\n",
              "          const docLinkHtml = 'Like what you see? Visit the ' +\n",
              "            '<a target=\"_blank\" href=https://colab.research.google.com/notebooks/data_table.ipynb>data table notebook</a>'\n",
              "            + ' to learn more about interactive tables.';\n",
              "          element.innerHTML = '';\n",
              "          dataTable['output_type'] = 'display_data';\n",
              "          await google.colab.output.renderOutput(dataTable, element);\n",
              "          const docLink = document.createElement('div');\n",
              "          docLink.innerHTML = docLinkHtml;\n",
              "          element.appendChild(docLink);\n",
              "        }\n",
              "      </script>\n",
              "    </div>\n",
              "  </div>\n",
              "  "
            ]
          },
          "metadata": {},
          "execution_count": 25
        }
      ]
    },
    {
      "cell_type": "code",
      "source": [
        "#定義特徵和目標\n",
        "col_features = df.columns[5:-3]\n",
        "#標準化特徵 主要是loudness\n",
        "X= MinMaxScaler().fit_transform(df[col_features])\n",
        "X2 = np.array(df[col_features])\n",
        "Y = df['genre']\n",
        "col_features"
      ],
      "metadata": {
        "colab": {
          "base_uri": "https://localhost:8080/"
        },
        "id": "uoJzY1QgcwWV",
        "outputId": "cc9f3aa1-7f23-4e23-f375-978a54b6e3c9"
      },
      "execution_count": null,
      "outputs": [
        {
          "output_type": "execute_result",
          "data": {
            "text/plain": [
              "Index(['danceability', 'energy', 'loudness', 'acousticness', 'speechiness',\n",
              "       'instrumentalness', 'liveness', 'valence', 'tempo'],\n",
              "      dtype='object')"
            ]
          },
          "metadata": {},
          "execution_count": 27
        }
      ]
    },
    {
      "cell_type": "code",
      "source": [
        "encoder = LabelEncoder()\n",
        "encoder.fit(Y)\n",
        "encoded_y = encoder.transform(Y)\n",
        "dummy_y = np_utils.to_categorical(encoded_y)\n",
        "#拆分訓練和測試數據，測試大小為20%\n",
        "X_train,X_test,Y_train,Y_test = train_test_split(X,encoded_y,test_size=0.25,random_state=15)\n",
        "target = pd.DataFrame({'mood':df['genre'].tolist(),'encode':encoded_y}).drop_duplicates().sort_values(['encode'],ascending=True)\n",
        "target"
      ],
      "metadata": {
        "colab": {
          "base_uri": "https://localhost:8080/",
          "height": 192
        },
        "id": "GhRVzn9NcyT8",
        "outputId": "a447cc81-6711-49ee-b62a-55e0dc421e23"
      },
      "execution_count": null,
      "outputs": [
        {
          "output_type": "execute_result",
          "data": {
            "text/plain": [
              "           mood  encode\n",
              "1392       calm       0\n",
              "2224  energetic       1\n",
              "611       happy       2\n",
              "0           sad       3"
            ],
            "text/html": [
              "\n",
              "  <div id=\"df-cc1555d5-e22b-4c26-b7a1-652899a3e660\">\n",
              "    <div class=\"colab-df-container\">\n",
              "      <div>\n",
              "<style scoped>\n",
              "    .dataframe tbody tr th:only-of-type {\n",
              "        vertical-align: middle;\n",
              "    }\n",
              "\n",
              "    .dataframe tbody tr th {\n",
              "        vertical-align: top;\n",
              "    }\n",
              "\n",
              "    .dataframe thead th {\n",
              "        text-align: right;\n",
              "    }\n",
              "</style>\n",
              "<table border=\"1\" class=\"dataframe\">\n",
              "  <thead>\n",
              "    <tr style=\"text-align: right;\">\n",
              "      <th></th>\n",
              "      <th>mood</th>\n",
              "      <th>encode</th>\n",
              "    </tr>\n",
              "  </thead>\n",
              "  <tbody>\n",
              "    <tr>\n",
              "      <th>1392</th>\n",
              "      <td>calm</td>\n",
              "      <td>0</td>\n",
              "    </tr>\n",
              "    <tr>\n",
              "      <th>2224</th>\n",
              "      <td>energetic</td>\n",
              "      <td>1</td>\n",
              "    </tr>\n",
              "    <tr>\n",
              "      <th>611</th>\n",
              "      <td>happy</td>\n",
              "      <td>2</td>\n",
              "    </tr>\n",
              "    <tr>\n",
              "      <th>0</th>\n",
              "      <td>sad</td>\n",
              "      <td>3</td>\n",
              "    </tr>\n",
              "  </tbody>\n",
              "</table>\n",
              "</div>\n",
              "      <button class=\"colab-df-convert\" onclick=\"convertToInteractive('df-cc1555d5-e22b-4c26-b7a1-652899a3e660')\"\n",
              "              title=\"Convert this dataframe to an interactive table.\"\n",
              "              style=\"display:none;\">\n",
              "        \n",
              "  <svg xmlns=\"http://www.w3.org/2000/svg\" height=\"24px\"viewBox=\"0 0 24 24\"\n",
              "       width=\"24px\">\n",
              "    <path d=\"M0 0h24v24H0V0z\" fill=\"none\"/>\n",
              "    <path d=\"M18.56 5.44l.94 2.06.94-2.06 2.06-.94-2.06-.94-.94-2.06-.94 2.06-2.06.94zm-11 1L8.5 8.5l.94-2.06 2.06-.94-2.06-.94L8.5 2.5l-.94 2.06-2.06.94zm10 10l.94 2.06.94-2.06 2.06-.94-2.06-.94-.94-2.06-.94 2.06-2.06.94z\"/><path d=\"M17.41 7.96l-1.37-1.37c-.4-.4-.92-.59-1.43-.59-.52 0-1.04.2-1.43.59L10.3 9.45l-7.72 7.72c-.78.78-.78 2.05 0 2.83L4 21.41c.39.39.9.59 1.41.59.51 0 1.02-.2 1.41-.59l7.78-7.78 2.81-2.81c.8-.78.8-2.07 0-2.86zM5.41 20L4 18.59l7.72-7.72 1.47 1.35L5.41 20z\"/>\n",
              "  </svg>\n",
              "      </button>\n",
              "      \n",
              "  <style>\n",
              "    .colab-df-container {\n",
              "      display:flex;\n",
              "      flex-wrap:wrap;\n",
              "      gap: 12px;\n",
              "    }\n",
              "\n",
              "    .colab-df-convert {\n",
              "      background-color: #E8F0FE;\n",
              "      border: none;\n",
              "      border-radius: 50%;\n",
              "      cursor: pointer;\n",
              "      display: none;\n",
              "      fill: #1967D2;\n",
              "      height: 32px;\n",
              "      padding: 0 0 0 0;\n",
              "      width: 32px;\n",
              "    }\n",
              "\n",
              "    .colab-df-convert:hover {\n",
              "      background-color: #E2EBFA;\n",
              "      box-shadow: 0px 1px 2px rgba(60, 64, 67, 0.3), 0px 1px 3px 1px rgba(60, 64, 67, 0.15);\n",
              "      fill: #174EA6;\n",
              "    }\n",
              "\n",
              "    [theme=dark] .colab-df-convert {\n",
              "      background-color: #3B4455;\n",
              "      fill: #D2E3FC;\n",
              "    }\n",
              "\n",
              "    [theme=dark] .colab-df-convert:hover {\n",
              "      background-color: #434B5C;\n",
              "      box-shadow: 0px 1px 3px 1px rgba(0, 0, 0, 0.15);\n",
              "      filter: drop-shadow(0px 1px 2px rgba(0, 0, 0, 0.3));\n",
              "      fill: #FFFFFF;\n",
              "    }\n",
              "  </style>\n",
              "\n",
              "      <script>\n",
              "        const buttonEl =\n",
              "          document.querySelector('#df-cc1555d5-e22b-4c26-b7a1-652899a3e660 button.colab-df-convert');\n",
              "        buttonEl.style.display =\n",
              "          google.colab.kernel.accessAllowed ? 'block' : 'none';\n",
              "\n",
              "        async function convertToInteractive(key) {\n",
              "          const element = document.querySelector('#df-cc1555d5-e22b-4c26-b7a1-652899a3e660');\n",
              "          const dataTable =\n",
              "            await google.colab.kernel.invokeFunction('convertToInteractive',\n",
              "                                                     [key], {});\n",
              "          if (!dataTable) return;\n",
              "\n",
              "          const docLinkHtml = 'Like what you see? Visit the ' +\n",
              "            '<a target=\"_blank\" href=https://colab.research.google.com/notebooks/data_table.ipynb>data table notebook</a>'\n",
              "            + ' to learn more about interactive tables.';\n",
              "          element.innerHTML = '';\n",
              "          dataTable['output_type'] = 'display_data';\n",
              "          await google.colab.output.renderOutput(dataTable, element);\n",
              "          const docLink = document.createElement('div');\n",
              "          docLink.innerHTML = docLinkHtml;\n",
              "          element.appendChild(docLink);\n",
              "        }\n",
              "      </script>\n",
              "    </div>\n",
              "  </div>\n",
              "  "
            ]
          },
          "metadata": {},
          "execution_count": 28
        }
      ]
    },
    {
      "cell_type": "code",
      "source": [
        "#我用來構建神經網絡的代碼：\n",
        "def base_model():\n",
        "    #你可以通过将网络层实例的列表传递给 Sequential 的构造器，来创建一个 Sequential 模型：\n",
        "    model = Sequential()#定義模型\n",
        "    #Add 1 layer with 8 nodes,# Input - Layer\n",
        "    model.add(Dense(8,input_dim=9,activation='relu'))\n",
        "    #Add 1 layer with softmax function (activation)\n",
        "    model.add(Dense(4,activation='softmax'))\n",
        "    #Compile the model using sigmoid loss function and adam optim\n",
        "    model.compile(loss='categorical_crossentropy',optimizer='adam',\n",
        "                 metrics=['accuracy'])\n",
        "    return model"
      ],
      "metadata": {
        "id": "bFJHu-Ucc0-D"
      },
      "execution_count": null,
      "outputs": []
    },
    {
      "cell_type": "code",
      "source": [
        "#Configure the model\n",
        "estimator = KerasClassifier(build_fn=base_model,epochs=300,batch_size=200,verbose=0)"
      ],
      "metadata": {
        "colab": {
          "base_uri": "https://localhost:8080/"
        },
        "id": "Zl58owagc3Od",
        "outputId": "3b007803-a804-48ee-93a7-6e4b0bce5893"
      },
      "execution_count": null,
      "outputs": [
        {
          "output_type": "stream",
          "name": "stderr",
          "text": [
            "/usr/local/lib/python3.7/dist-packages/ipykernel_launcher.py:2: DeprecationWarning: KerasClassifier is deprecated, use Sci-Keras (https://github.com/adriangb/scikeras) instead. See https://www.adriangb.com/scikeras/stable/migration.html for help migrating.\n",
            "  \n"
          ]
        }
      ]
    },
    {
      "cell_type": "code",
      "source": [
        "estimator.fit(X_train,Y_train,batch_size=None,)\n",
        "y_preds = estimator.predict(X_test)"
      ],
      "metadata": {
        "colab": {
          "base_uri": "https://localhost:8080/"
        },
        "id": "ROnQDFmlc4HU",
        "outputId": "c5722504-7a90-422e-b169-4bea86bb8bc6"
      },
      "execution_count": null,
      "outputs": [
        {
          "output_type": "stream",
          "name": "stderr",
          "text": [
            "/usr/local/lib/python3.7/dist-packages/keras/engine/training_v1.py:2079: UserWarning: `Model.state_updates` will be removed in a future version. This property should not be used in TensorFlow 2.0, as `updates` are applied automatically.\n",
            "  updates=self.state_updates,\n"
          ]
        }
      ]
    },
    {
      "cell_type": "code",
      "source": [
        "cm = confusion_matrix(Y_test,y_preds)\n",
        "ax = plt.subplot()\n",
        "sns.heatmap(cm,annot=True,ax=ax)\n",
        "\n",
        "labels = target['mood']\n",
        "ax.set_xlabel('Predicted labels')\n",
        "ax.set_ylabel('True labels')\n",
        "ax.set_title('Confusion Matrix')\n",
        "ax.xaxis.set_ticklabels(labels)\n",
        "ax.yaxis.set_ticklabels(labels)\n",
        "plt.show()\n",
        "\n",
        "print(\"Accuracy Score\",accuracy_score(Y_test,y_preds))"
      ],
      "metadata": {
        "colab": {
          "base_uri": "https://localhost:8080/",
          "height": 319
        },
        "id": "8U4XNXMdc6lR",
        "outputId": "446194cc-ea79-4361-9bba-d3a9488d9bb8"
      },
      "execution_count": null,
      "outputs": [
        {
          "output_type": "display_data",
          "data": {
            "text/plain": [
              "<Figure size 432x288 with 2 Axes>"
            ],
            "image/png": "[encoded data removed]"
          },
          "metadata": {}
        },
        {
          "output_type": "stream",
          "name": "stdout",
          "text": [
            "Accuracy Score 0.674934725848564\n"
          ]
        }
      ]
    },
    {
      "cell_type": "markdown",
      "source": [
        "#Predicting Song Mood"
      ],
      "metadata": {
        "id": "KcWvltoIf8bK"
      }
    },
    {
      "cell_type": "code",
      "source": [
        "\n",
        "sp = spotipy.Spotify(client_credentials_manager = client_credentials_manager)\n",
        "\n",
        "artist= 'The Weeknd'\n",
        "track= 'Blinding Lights'\n",
        "\n",
        "track_info = sp.search(q='artist:' + artist + ' track:' + track, type='track')\n",
        "\n",
        "trackId = track_info['tracks']['items'][0]['id']"
      ],
      "metadata": {
        "id": "X2fDLRXM3KJb"
      },
      "execution_count": null,
      "outputs": []
    },
    {
      "cell_type": "code",
      "source": [
        "trackId"
      ],
      "metadata": {
        "colab": {
          "base_uri": "https://localhost:8080/",
          "height": 35
        },
        "id": "fTQo9cQh3eL1",
        "outputId": "9b0e9e9f-b4a0-42cd-e918-5c1c62e9461f"
      },
      "execution_count": null,
      "outputs": [
        {
          "output_type": "execute_result",
          "data": {
            "text/plain": [
              "'0VjIjW4GlUZAMYd2vXMi3b'"
            ],
            "application/vnd.google.colaboratory.intrinsic+json": {
              "type": "string"
            }
          },
          "metadata": {},
          "execution_count": 7
        }
      ]
    },
    {
      "cell_type": "code",
      "source": [
        "def get_songs_features(ids):\n",
        "    \n",
        "    meta = sp.track(ids)\n",
        "    features = sp.audio_features(ids)\n",
        "\n",
        "    # meta\n",
        "    track_name = meta['name']\n",
        "    album = meta['album']['name']\n",
        "    artist = meta['album']['artists'][0]['name']\n",
        "    duration_ms = meta['duration_ms']\n",
        "    track_id = meta['id']\n",
        "\n",
        "    # features\n",
        "    acousticness = features[0]['acousticness']\n",
        "    danceability = features[0]['danceability']\n",
        "    energy = features[0]['energy']\n",
        "    instrumentalness = features[0]['instrumentalness']\n",
        "    liveness = features[0]['liveness']\n",
        "    valence = features[0]['valence']\n",
        "    loudness = features[0]['loudness']\n",
        "    speechiness = features[0]['speechiness']\n",
        "    tempo = features[0]['tempo']\n",
        "    key = features[0]['key']\n",
        "    time_signature = features[0]['time_signature']\n",
        "\n",
        "    track = [artist, album, track_name, track_id, duration_ms,danceability, energy, loudness,acousticness,\n",
        "                              speechiness, instrumentalness, liveness, valence, tempo,key,\n",
        "                              time_signature]\n",
        "    columns = [\"artist\", \"album\", \"track_name\", \"track_id\", \"duration_ms\",\"danceability\", \"energy\", \"loudness\", \"acousticness\"\n",
        "                              , \"speechiness\", \"instrumentalness\", \"liveness\", \"valence\", \"tempo\", \"key\",\n",
        "                              \"time_signature\"]\n",
        "    return track, columns"
      ],
      "metadata": {
        "id": "rYlKOmp1dBxn"
      },
      "execution_count": null,
      "outputs": []
    },
    {
      "cell_type": "code",
      "source": [
        "def predict_mood(id_song):\n",
        "    #Join the model and the scaler in a Pipeline\n",
        "    pip = Pipeline([('minmaxscaler',MinMaxScaler()),('keras',KerasClassifier(build_fn=base_model,epochs=300,\n",
        "                                                                             batch_size=200,verbose=0))])\n",
        "    #Fit the Pipeline\n",
        "    pip.fit(X2,encoded_y)\n",
        "\n",
        "    #Obtain the features of the song\n",
        "    preds = get_songs_features(id_song)\n",
        "    #Pre-process the features to input the Model\n",
        "    preds_features = np.array(preds[0][5:-2]).reshape(-1,1).T\n",
        "\n",
        "    #Predict the features of the song\n",
        "    results = pip.predict(preds_features)\n",
        "\n",
        "    mood = np.array(target['mood'][target['encode']==int(results)])\n",
        "    name_song = preds[0][2]\n",
        "    artist = preds[0][0]\n",
        "\n",
        "    return print(\"{0} by {1} is a {2} song\".format(name_song,artist,mood[0].upper()))\n",
        "    #print(f\"{name_song} by {artist} is a {mood[0].upper()} song\")"
      ],
      "metadata": {
        "id": "lAtfxOXOc8JN"
      },
      "execution_count": null,
      "outputs": []
    },
    {
      "cell_type": "code",
      "source": [
        "predict_mood(trackId)"
      ],
      "metadata": {
        "colab": {
          "base_uri": "https://localhost:8080/"
        },
        "id": "2dNFT0nGdCP5",
        "outputId": "b3031be6-4ba9-4f48-878a-ba2666bfa369"
      },
      "execution_count": null,
      "outputs": [
        {
          "output_type": "stream",
          "name": "stderr",
          "text": [
            "/usr/local/lib/python3.7/dist-packages/ipykernel_launcher.py:4: DeprecationWarning: KerasClassifier is deprecated, use Sci-Keras (https://github.com/adriangb/scikeras) instead.\n",
            "  after removing the cwd from sys.path.\n"
          ]
        },
        {
          "output_type": "stream",
          "name": "stdout",
          "text": [
            "Blinding Lights by The Weeknd is a ENERGETIC song\n"
          ]
        },
        {
          "output_type": "stream",
          "name": "stderr",
          "text": [
            "/usr/local/lib/python3.7/dist-packages/keras/engine/training_v1.py:2079: UserWarning: `Model.state_updates` will be removed in a future version. This property should not be used in TensorFlow 2.0, as `updates` are applied automatically.\n",
            "  updates=self.state_updates,\n"
          ]
        }
      ]
    },
    {
      "cell_type": "markdown",
      "source": [
        "## Test Song Features"
      ],
      "metadata": {
        "id": "iv5WPUfUgCNB"
      }
    },
    {
      "cell_type": "code",
      "source": [
        "    ids = '0VjIjW4GlUZAMYd2vXMi3b'\n",
        "    meta = sp.track(ids)\n",
        "    features = sp.audio_features(ids)\n",
        "\n",
        "    # meta\n",
        "    track_name = meta['name']\n",
        "    album = meta['album']['name']\n",
        "    artist = meta['album']['artists'][0]['name']\n",
        "    duration_ms = meta['duration_ms']\n",
        "    track_id = meta['id']\n",
        "\n",
        "    # features\n",
        "    acousticness = features[0]['acousticness']\n",
        "    danceability = features[0]['danceability']\n",
        "    energy = features[0]['energy']\n",
        "    instrumentalness = features[0]['instrumentalness']\n",
        "    liveness = features[0]['liveness']\n",
        "    valence = features[0]['valence']\n",
        "    loudness = features[0]['loudness']\n",
        "    speechiness = features[0]['speechiness']\n",
        "    tempo = features[0]['tempo']\n",
        "    key = features[0]['key']\n",
        "    time_signature = features[0]['time_signature']\n",
        "\n",
        "    track = [artist, album, track_name, track_id, duration_ms, danceability, energy, loudness,acousticness,\n",
        "                              speechiness, instrumentalness, liveness, valence, tempo,key,\n",
        "                              time_signature]\n",
        "    columns = [\"artist\", \"album\", \"track_name\", \"track_id\", \"duration_ms\",\"danceability\", \"energy\", \"loudness\", \"acousticness\"\n",
        "                              , \"speechiness\", \"instrumentalness\", \"liveness\", \"valence\", \"tempo\", \"key\",\n",
        "                              \"time_signature\"]"
      ],
      "metadata": {
        "id": "-KAKN-pMddcu"
      },
      "execution_count": null,
      "outputs": []
    },
    {
      "cell_type": "code",
      "source": [
        "track"
      ],
      "metadata": {
        "colab": {
          "base_uri": "https://localhost:8080/"
        },
        "id": "LVV15cLTdlI8",
        "outputId": "b66ba80e-b348-43da-f72d-8f134eecdb3f"
      },
      "execution_count": null,
      "outputs": [
        {
          "output_type": "execute_result",
          "data": {
            "text/plain": [
              "['The Weeknd',\n",
              " 'After Hours',\n",
              " 'Blinding Lights',\n",
              " '0VjIjW4GlUZAMYd2vXMi3b',\n",
              " 200040,\n",
              " 0.514,\n",
              " 0.73,\n",
              " -5.934,\n",
              " 0.00146,\n",
              " 0.0598,\n",
              " 9.54e-05,\n",
              " 0.0897,\n",
              " 0.334,\n",
              " 171.005,\n",
              " 1,\n",
              " 4]"
            ]
          },
          "metadata": {},
          "execution_count": 25
        }
      ]
    },
    {
      "cell_type": "code",
      "source": [
        "columns"
      ],
      "metadata": {
        "colab": {
          "base_uri": "https://localhost:8080/"
        },
        "id": "DvRzAuN_dnoE",
        "outputId": "b4b13055-1aa9-4ce3-ba00-3988c9723d19"
      },
      "execution_count": null,
      "outputs": [
        {
          "output_type": "execute_result",
          "data": {
            "text/plain": [
              "['artist',\n",
              " 'album',\n",
              " 'track_name',\n",
              " 'track_id',\n",
              " 'duration_ms',\n",
              " 'danceability',\n",
              " 'energy',\n",
              " 'loudness',\n",
              " 'acousticness',\n",
              " 'speechiness',\n",
              " 'instrumentalness',\n",
              " 'liveness',\n",
              " 'valence',\n",
              " 'tempo',\n",
              " 'key',\n",
              " 'time_signature']"
            ]
          },
          "metadata": {},
          "execution_count": 26
        }
      ]
    }
  ]
}