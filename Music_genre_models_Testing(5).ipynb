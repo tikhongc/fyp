{
  "nbformat": 4,
  "nbformat_minor": 0,
  "metadata": {
    "colab": {
      "name": "Music_genre_models_Testing(5).ipynb",
      "provenance": [],
      "machine_shape": "hm",
      "mount_file_id": "11fwRd7ZU-4E6gPqsk-nT_NoY-gFvA4qy",
      "authorship_tag": "ABX9TyNlooYH/iSX4MLxaKo8XGcR",
      "include_colab_link": true
    },
    "kernelspec": {
      "name": "python3",
      "display_name": "Python 3"
    },
    "language_info": {
      "name": "python"
    },
    "accelerator": "GPU",
    "widgets": {
      "application/vnd.jupyter.widget-state+json": {
        "e0892d4cb3fc4cb286cc864a5c412388": {
          "model_module": "@jupyter-widgets/controls",
          "model_name": "HBoxModel",
          "model_module_version": "1.5.0",
          "state": {
            "_dom_classes": [],
            "_model_module": "@jupyter-widgets/controls",
            "_model_module_version": "1.5.0",
            "_model_name": "HBoxModel",
            "_view_count": null,
            "_view_module": "@jupyter-widgets/controls",
            "_view_module_version": "1.5.0",
            "_view_name": "HBoxView",
            "box_style": "",
            "children": [
              "IPY_MODEL_68db270d54e3426abcdac41429ab1aeb",
              "IPY_MODEL_879528e805a74d839772a444d93b3588",
              "IPY_MODEL_3fa2fea9c1bc457693a732cc16a6b6b7"
            ],
            "layout": "IPY_MODEL_a931b3f805644daeb3632f65a62c3042"
          }
        },
        "68db270d54e3426abcdac41429ab1aeb": {
          "model_module": "@jupyter-widgets/controls",
          "model_name": "HTMLModel",
          "model_module_version": "1.5.0",
          "state": {
            "_dom_classes": [],
            "_model_module": "@jupyter-widgets/controls",
            "_model_module_version": "1.5.0",
            "_model_name": "HTMLModel",
            "_view_count": null,
            "_view_module": "@jupyter-widgets/controls",
            "_view_module_version": "1.5.0",
            "_view_name": "HTMLView",
            "description": "",
            "description_tooltip": null,
            "layout": "IPY_MODEL_4b19818fbe7b43f3b409eb8cd8c6cc84",
            "placeholder": "​",
            "style": "IPY_MODEL_764aa05fca644e1bb875512e592ecce7",
            "value": "100%"
          }
        },
        "879528e805a74d839772a444d93b3588": {
          "model_module": "@jupyter-widgets/controls",
          "model_name": "FloatProgressModel",
          "model_module_version": "1.5.0",
          "state": {
            "_dom_classes": [],
            "_model_module": "@jupyter-widgets/controls",
            "_model_module_version": "1.5.0",
            "_model_name": "FloatProgressModel",
            "_view_count": null,
            "_view_module": "@jupyter-widgets/controls",
            "_view_module_version": "1.5.0",
            "_view_name": "ProgressView",
            "bar_style": "success",
            "description": "",
            "description_tooltip": null,
            "layout": "IPY_MODEL_1f89a5a75c584c33bc497e66d6bbf4dc",
            "max": 87319819,
            "min": 0,
            "orientation": "horizontal",
            "style": "IPY_MODEL_d81d4317783f41cf8ebae5ab45e2ced5",
            "value": 87319819
          }
        },
        "3fa2fea9c1bc457693a732cc16a6b6b7": {
          "model_module": "@jupyter-widgets/controls",
          "model_name": "HTMLModel",
          "model_module_version": "1.5.0",
          "state": {
            "_dom_classes": [],
            "_model_module": "@jupyter-widgets/controls",
            "_model_module_version": "1.5.0",
            "_model_name": "HTMLModel",
            "_view_count": null,
            "_view_module": "@jupyter-widgets/controls",
            "_view_module_version": "1.5.0",
            "_view_name": "HTMLView",
            "description": "",
            "description_tooltip": null,
            "layout": "IPY_MODEL_0e71bf87b3dc4f3fa86d37f893c63247",
            "placeholder": "​",
            "style": "IPY_MODEL_fdfbd43b98f64ca689c6a56949b853c1",
            "value": " 83.3M/83.3M [00:00&lt;00:00, 186MB/s]"
          }
        },
        "a931b3f805644daeb3632f65a62c3042": {
          "model_module": "@jupyter-widgets/base",
          "model_name": "LayoutModel",
          "model_module_version": "1.2.0",
          "state": {
            "_model_module": "@jupyter-widgets/base",
            "_model_module_version": "1.2.0",
            "_model_name": "LayoutModel",
            "_view_count": null,
            "_view_module": "@jupyter-widgets/base",
            "_view_module_version": "1.2.0",
            "_view_name": "LayoutView",
            "align_content": null,
            "align_items": null,
            "align_self": null,
            "border": null,
            "bottom": null,
            "display": null,
            "flex": null,
            "flex_flow": null,
            "grid_area": null,
            "grid_auto_columns": null,
            "grid_auto_flow": null,
            "grid_auto_rows": null,
            "grid_column": null,
            "grid_gap": null,
            "grid_row": null,
            "grid_template_areas": null,
            "grid_template_columns": null,
            "grid_template_rows": null,
            "height": null,
            "justify_content": null,
            "justify_items": null,
            "left": null,
            "margin": null,
            "max_height": null,
            "max_width": null,
            "min_height": null,
            "min_width": null,
            "object_fit": null,
            "object_position": null,
            "order": null,
            "overflow": null,
            "overflow_x": null,
            "overflow_y": null,
            "padding": null,
            "right": null,
            "top": null,
            "visibility": null,
            "width": null
          }
        },
        "4b19818fbe7b43f3b409eb8cd8c6cc84": {
          "model_module": "@jupyter-widgets/base",
          "model_name": "LayoutModel",
          "model_module_version": "1.2.0",
          "state": {
            "_model_module": "@jupyter-widgets/base",
            "_model_module_version": "1.2.0",
            "_model_name": "LayoutModel",
            "_view_count": null,
            "_view_module": "@jupyter-widgets/base",
            "_view_module_version": "1.2.0",
            "_view_name": "LayoutView",
            "align_content": null,
            "align_items": null,
            "align_self": null,
            "border": null,
            "bottom": null,
            "display": null,
            "flex": null,
            "flex_flow": null,
            "grid_area": null,
            "grid_auto_columns": null,
            "grid_auto_flow": null,
            "grid_auto_rows": null,
            "grid_column": null,
            "grid_gap": null,
            "grid_row": null,
            "grid_template_areas": null,
            "grid_template_columns": null,
            "grid_template_rows": null,
            "height": null,
            "justify_content": null,
            "justify_items": null,
            "left": null,
            "margin": null,
            "max_height": null,
            "max_width": null,
            "min_height": null,
            "min_width": null,
            "object_fit": null,
            "object_position": null,
            "order": null,
            "overflow": null,
            "overflow_x": null,
            "overflow_y": null,
            "padding": null,
            "right": null,
            "top": null,
            "visibility": null,
            "width": null
          }
        },
        "764aa05fca644e1bb875512e592ecce7": {
          "model_module": "@jupyter-widgets/controls",
          "model_name": "DescriptionStyleModel",
          "model_module_version": "1.5.0",
          "state": {
            "_model_module": "@jupyter-widgets/controls",
            "_model_module_version": "1.5.0",
            "_model_name": "DescriptionStyleModel",
            "_view_count": null,
            "_view_module": "@jupyter-widgets/base",
            "_view_module_version": "1.2.0",
            "_view_name": "StyleView",
            "description_width": ""
          }
        },
        "1f89a5a75c584c33bc497e66d6bbf4dc": {
          "model_module": "@jupyter-widgets/base",
          "model_name": "LayoutModel",
          "model_module_version": "1.2.0",
          "state": {
            "_model_module": "@jupyter-widgets/base",
            "_model_module_version": "1.2.0",
            "_model_name": "LayoutModel",
            "_view_count": null,
            "_view_module": "@jupyter-widgets/base",
            "_view_module_version": "1.2.0",
            "_view_name": "LayoutView",
            "align_content": null,
            "align_items": null,
            "align_self": null,
            "border": null,
            "bottom": null,
            "display": null,
            "flex": null,
            "flex_flow": null,
            "grid_area": null,
            "grid_auto_columns": null,
            "grid_auto_flow": null,
            "grid_auto_rows": null,
            "grid_column": null,
            "grid_gap": null,
            "grid_row": null,
            "grid_template_areas": null,
            "grid_template_columns": null,
            "grid_template_rows": null,
            "height": null,
            "justify_content": null,
            "justify_items": null,
            "left": null,
            "margin": null,
            "max_height": null,
            "max_width": null,
            "min_height": null,
            "min_width": null,
            "object_fit": null,
            "object_position": null,
            "order": null,
            "overflow": null,
            "overflow_x": null,
            "overflow_y": null,
            "padding": null,
            "right": null,
            "top": null,
            "visibility": null,
            "width": null
          }
        },
        "d81d4317783f41cf8ebae5ab45e2ced5": {
          "model_module": "@jupyter-widgets/controls",
          "model_name": "ProgressStyleModel",
          "model_module_version": "1.5.0",
          "state": {
            "_model_module": "@jupyter-widgets/controls",
            "_model_module_version": "1.5.0",
            "_model_name": "ProgressStyleModel",
            "_view_count": null,
            "_view_module": "@jupyter-widgets/base",
            "_view_module_version": "1.2.0",
            "_view_name": "StyleView",
            "bar_color": null,
            "description_width": ""
          }
        },
        "0e71bf87b3dc4f3fa86d37f893c63247": {
          "model_module": "@jupyter-widgets/base",
          "model_name": "LayoutModel",
          "model_module_version": "1.2.0",
          "state": {
            "_model_module": "@jupyter-widgets/base",
            "_model_module_version": "1.2.0",
            "_model_name": "LayoutModel",
            "_view_count": null,
            "_view_module": "@jupyter-widgets/base",
            "_view_module_version": "1.2.0",
            "_view_name": "LayoutView",
            "align_content": null,
            "align_items": null,
            "align_self": null,
            "border": null,
            "bottom": null,
            "display": null,
            "flex": null,
            "flex_flow": null,
            "grid_area": null,
            "grid_auto_columns": null,
            "grid_auto_flow": null,
            "grid_auto_rows": null,
            "grid_column": null,
            "grid_gap": null,
            "grid_row": null,
            "grid_template_areas": null,
            "grid_template_columns": null,
            "grid_template_rows": null,
            "height": null,
            "justify_content": null,
            "justify_items": null,
            "left": null,
            "margin": null,
            "max_height": null,
            "max_width": null,
            "min_height": null,
            "min_width": null,
            "object_fit": null,
            "object_position": null,
            "order": null,
            "overflow": null,
            "overflow_x": null,
            "overflow_y": null,
            "padding": null,
            "right": null,
            "top": null,
            "visibility": null,
            "width": null
          }
        },
        "fdfbd43b98f64ca689c6a56949b853c1": {
          "model_module": "@jupyter-widgets/controls",
          "model_name": "DescriptionStyleModel",
          "model_module_version": "1.5.0",
          "state": {
            "_model_module": "@jupyter-widgets/controls",
            "_model_module_version": "1.5.0",
            "_model_name": "DescriptionStyleModel",
            "_view_count": null,
            "_view_module": "@jupyter-widgets/base",
            "_view_module_version": "1.2.0",
            "_view_name": "StyleView",
            "description_width": ""
          }
        }
      }
    }
  },
  "cells": [
    {
      "cell_type": "markdown",
      "metadata": {
        "id": "view-in-github",
        "colab_type": "text"
      },
      "source": [
        "<a href=\"https://colab.research.google.com/github/tikhongc/fyp/blob/main/Music_genre_models_Testing(5).ipynb\" target=\"_parent\"><img src=\"https://colab.research.google.com/assets/colab-badge.svg\" alt=\"Open In Colab\"/></a>"
      ]
    },
    {
      "cell_type": "markdown",
      "source": [
        "# Import Library"
      ],
      "metadata": {
        "id": "XETTjP7pB7-b"
      }
    },
    {
      "cell_type": "code",
      "source": [
        "import librosa \n",
        "import matplotlib.pyplot as plt\n",
        "import librosa.display\n",
        "import numpy as np # linear algebra\n",
        "import pandas as pd # data processing, CSV file I/O (e.g. pd.read_csv)\n",
        "import tensorflow as tf\n",
        "import numpy\n",
        "import skimage.io\n",
        "import os\n",
        "import shutil\n",
        "import pandas as pd\n",
        "import numpy as np\n",
        "import seaborn as sns\n",
        "import matplotlib.pyplot as plt\n",
        "%matplotlib inline\n",
        "import sklearn\n",
        "import librosa.display as lplt\n",
        "import librosa\n",
        "import librosa.display\n",
        "import IPython.display as ipd\n",
        "import IPython\n",
        "import warnings\n",
        "warnings.filterwarnings('ignore')\n",
        "import os\n",
        "\n",
        "from librosa import feature\n",
        "import csv\n",
        "import glob\n",
        "\n",
        "! pip install pydub\n",
        "from pydub import AudioSegment"
      ],
      "metadata": {
        "colab": {
          "base_uri": "https://localhost:8080/"
        },
        "id": "nLC-kSCBKgNX",
        "outputId": "7ad1a207-0d9b-4d8d-bdb9-3c29b14808b5"
      },
      "execution_count": null,
      "outputs": [
        {
          "output_type": "stream",
          "name": "stdout",
          "text": [
            "Collecting pydub\n",
            "  Downloading pydub-0.25.1-py2.py3-none-any.whl (32 kB)\n",
            "Installing collected packages: pydub\n",
            "Successfully installed pydub-0.25.1\n"
          ]
        }
      ]
    },
    {
      "cell_type": "code",
      "source": [
        "\n",
        "import pandas as pd\n",
        "from torch.utils.data import Dataset\n",
        "from torchvision.datasets.folder import default_loader"
      ],
      "metadata": {
        "id": "3lV4XR2zWE1V"
      },
      "execution_count": null,
      "outputs": []
    },
    {
      "cell_type": "code",
      "source": [
        "\n",
        "!pip install certifi\n"
      ],
      "metadata": {
        "colab": {
          "base_uri": "https://localhost:8080/"
        },
        "id": "3gZ_S-adyo4v",
        "outputId": "83afc9a3-1d51-402f-b90e-ea07239a049d"
      },
      "execution_count": null,
      "outputs": [
        {
          "output_type": "stream",
          "name": "stdout",
          "text": [
            "Requirement already satisfied: certifi in /usr/local/lib/python3.7/dist-packages (2021.10.8)\n"
          ]
        }
      ]
    },
    {
      "cell_type": "code",
      "source": [
        "# Install and update essential libraries and tools\n",
        "!pip install xgboost -U\n",
        "!pip install librosa -U\n",
        "# !apt-get --yes install ffmpeg\n",
        "!pip install hyperopt"
      ],
      "metadata": {
        "colab": {
          "base_uri": "https://localhost:8080/"
        },
        "id": "K9arCbeIIvuY",
        "outputId": "0cb1a8e7-bbbc-4ce9-b898-efaedbd55e9c"
      },
      "execution_count": null,
      "outputs": [
        {
          "output_type": "stream",
          "name": "stdout",
          "text": [
            "Requirement already satisfied: xgboost in /usr/local/lib/python3.7/dist-packages (0.90)\n",
            "Collecting xgboost\n",
            "  Downloading xgboost-1.5.2-py3-none-manylinux2014_x86_64.whl (173.6 MB)\n",
            "\u001b[K     |████████████████████████████████| 173.6 MB 6.8 kB/s \n",
            "\u001b[?25hRequirement already satisfied: scipy in /usr/local/lib/python3.7/dist-packages (from xgboost) (1.4.1)\n",
            "Requirement already satisfied: numpy in /usr/local/lib/python3.7/dist-packages (from xgboost) (1.21.5)\n",
            "Installing collected packages: xgboost\n",
            "  Attempting uninstall: xgboost\n",
            "    Found existing installation: xgboost 0.90\n",
            "    Uninstalling xgboost-0.90:\n",
            "      Successfully uninstalled xgboost-0.90\n",
            "Successfully installed xgboost-1.5.2\n",
            "Requirement already satisfied: librosa in /usr/local/lib/python3.7/dist-packages (0.8.1)\n",
            "Collecting librosa\n",
            "  Downloading librosa-0.9.1-py3-none-any.whl (213 kB)\n",
            "\u001b[K     |████████████████████████████████| 213 kB 7.6 MB/s \n",
            "\u001b[?25hRequirement already satisfied: packaging>=20.0 in /usr/local/lib/python3.7/dist-packages (from librosa) (21.3)\n",
            "Requirement already satisfied: resampy>=0.2.2 in /usr/local/lib/python3.7/dist-packages (from librosa) (0.2.2)\n",
            "Requirement already satisfied: numba>=0.45.1 in /usr/local/lib/python3.7/dist-packages (from librosa) (0.51.2)\n",
            "Requirement already satisfied: scipy>=1.2.0 in /usr/local/lib/python3.7/dist-packages (from librosa) (1.4.1)\n",
            "Requirement already satisfied: decorator>=4.0.10 in /usr/local/lib/python3.7/dist-packages (from librosa) (4.4.2)\n",
            "Requirement already satisfied: pooch>=1.0 in /usr/local/lib/python3.7/dist-packages (from librosa) (1.6.0)\n",
            "Requirement already satisfied: joblib>=0.14 in /usr/local/lib/python3.7/dist-packages (from librosa) (1.1.0)\n",
            "Requirement already satisfied: audioread>=2.1.5 in /usr/local/lib/python3.7/dist-packages (from librosa) (2.1.9)\n",
            "Requirement already satisfied: scikit-learn>=0.19.1 in /usr/local/lib/python3.7/dist-packages (from librosa) (1.0.2)\n",
            "Requirement already satisfied: numpy>=1.17.0 in /usr/local/lib/python3.7/dist-packages (from librosa) (1.21.5)\n",
            "Requirement already satisfied: soundfile>=0.10.2 in /usr/local/lib/python3.7/dist-packages (from librosa) (0.10.3.post1)\n",
            "Requirement already satisfied: setuptools in /usr/local/lib/python3.7/dist-packages (from numba>=0.45.1->librosa) (57.4.0)\n",
            "Requirement already satisfied: llvmlite<0.35,>=0.34.0.dev0 in /usr/local/lib/python3.7/dist-packages (from numba>=0.45.1->librosa) (0.34.0)\n",
            "Requirement already satisfied: pyparsing!=3.0.5,>=2.0.2 in /usr/local/lib/python3.7/dist-packages (from packaging>=20.0->librosa) (3.0.7)\n",
            "Requirement already satisfied: appdirs>=1.3.0 in /usr/local/lib/python3.7/dist-packages (from pooch>=1.0->librosa) (1.4.4)\n",
            "Requirement already satisfied: requests>=2.19.0 in /usr/local/lib/python3.7/dist-packages (from pooch>=1.0->librosa) (2.23.0)\n",
            "Requirement already satisfied: idna<3,>=2.5 in /usr/local/lib/python3.7/dist-packages (from requests>=2.19.0->pooch>=1.0->librosa) (2.10)\n",
            "Requirement already satisfied: certifi>=2017.4.17 in /usr/local/lib/python3.7/dist-packages (from requests>=2.19.0->pooch>=1.0->librosa) (2021.10.8)\n",
            "Requirement already satisfied: urllib3!=1.25.0,!=1.25.1,<1.26,>=1.21.1 in /usr/local/lib/python3.7/dist-packages (from requests>=2.19.0->pooch>=1.0->librosa) (1.24.3)\n",
            "Requirement already satisfied: chardet<4,>=3.0.2 in /usr/local/lib/python3.7/dist-packages (from requests>=2.19.0->pooch>=1.0->librosa) (3.0.4)\n",
            "Requirement already satisfied: six>=1.3 in /usr/local/lib/python3.7/dist-packages (from resampy>=0.2.2->librosa) (1.15.0)\n",
            "Requirement already satisfied: threadpoolctl>=2.0.0 in /usr/local/lib/python3.7/dist-packages (from scikit-learn>=0.19.1->librosa) (3.1.0)\n",
            "Requirement already satisfied: cffi>=1.0 in /usr/local/lib/python3.7/dist-packages (from soundfile>=0.10.2->librosa) (1.15.0)\n",
            "Requirement already satisfied: pycparser in /usr/local/lib/python3.7/dist-packages (from cffi>=1.0->soundfile>=0.10.2->librosa) (2.21)\n",
            "Installing collected packages: librosa\n",
            "  Attempting uninstall: librosa\n",
            "    Found existing installation: librosa 0.8.1\n",
            "    Uninstalling librosa-0.8.1:\n",
            "      Successfully uninstalled librosa-0.8.1\n",
            "Successfully installed librosa-0.9.1\n"
          ]
        },
        {
          "output_type": "display_data",
          "data": {
            "application/vnd.colab-display-data+json": {
              "pip_warning": {
                "packages": [
                  "librosa"
                ]
              }
            }
          },
          "metadata": {}
        },
        {
          "output_type": "stream",
          "name": "stdout",
          "text": [
            "Requirement already satisfied: hyperopt in /usr/local/lib/python3.7/dist-packages (0.1.2)\n",
            "Requirement already satisfied: networkx in /usr/local/lib/python3.7/dist-packages (from hyperopt) (2.6.3)\n",
            "Requirement already satisfied: pymongo in /usr/local/lib/python3.7/dist-packages (from hyperopt) (4.0.2)\n",
            "Requirement already satisfied: numpy in /usr/local/lib/python3.7/dist-packages (from hyperopt) (1.21.5)\n",
            "Requirement already satisfied: six in /usr/local/lib/python3.7/dist-packages (from hyperopt) (1.15.0)\n",
            "Requirement already satisfied: future in /usr/local/lib/python3.7/dist-packages (from hyperopt) (0.16.0)\n",
            "Requirement already satisfied: scipy in /usr/local/lib/python3.7/dist-packages (from hyperopt) (1.4.1)\n",
            "Requirement already satisfied: tqdm in /usr/local/lib/python3.7/dist-packages (from hyperopt) (4.63.0)\n"
          ]
        }
      ]
    },
    {
      "cell_type": "code",
      "source": [
        "import os\n",
        "import torch\n",
        "import tarfile\n",
        "import torchvision.models as models\n",
        "import pickle\n",
        "\n",
        "import torchvision\n",
        "import torch.nn as nn\n",
        "from PIL import Image\n",
        "import matplotlib.pyplot as plt\n",
        "import torch.nn.functional as F\n",
        "from torchvision import transforms\n",
        "from torchvision.utils import make_grid\n",
        "from torch.utils.data import random_split\n",
        "from torchvision.transforms import ToTensor\n",
        "from torchvision.datasets import ImageFolder\n",
        "from torch.utils.data import Dataset, DataLoader\n",
        "from torchvision.datasets.utils import download_url\n",
        "import PIL\n",
        "import PIL.Image\n",
        "import numpy as np\n",
        "from torchvision.datasets import MNIST\n",
        "from torchvision import transforms\n",
        "import torchvision.transforms as T\n",
        "from PIL import Image\n",
        "import torchvision.transforms.functional as fn\n",
        "\n"
      ],
      "metadata": {
        "id": "4YS8TpmEC8YH"
      },
      "execution_count": null,
      "outputs": []
    },
    {
      "cell_type": "code",
      "source": [
        "import warnings\n",
        "warnings.simplefilter(\"ignore\", UserWarning)\n",
        "\n",
        "import os\n",
        "from tqdm import tqdm\n",
        "import pickle\n",
        "\n",
        "import pandas as pd\n",
        "import numpy as np\n",
        "import seaborn as sns\n",
        "import matplotlib.pyplot as plt\n",
        "%matplotlib inline\n",
        "\n",
        "import librosa\n",
        "\n",
        "from sklearn.preprocessing import StandardScaler\n",
        "from sklearn.feature_selection import RFECV,mutual_info_regression\n",
        "from sklearn.metrics import confusion_matrix, accuracy_score,classification_report\n",
        "from sklearn.model_selection import train_test_split, cross_val_score\n",
        "from sklearn.decomposition import PCA\n",
        "from sklearn import datasets\n",
        "\n",
        "\n",
        "from xgboost import XGBClassifier\n",
        "\n",
        "#For hyperparameter tuning\n",
        "from hyperopt import STATUS_OK, Trials, fmin, hp, tpe\n",
        "from sklearn.tree import DecisionTreeClassifier\n",
        "from sklearn.ensemble import RandomForestClassifier\n",
        "from sklearn.naive_bayes import GaussianNB\n",
        "from sklearn.neighbors import KNeighborsClassifier\n",
        "from sklearn.neural_network import MLPClassifier\n",
        "from sklearn.ensemble import AdaBoostClassifier\n",
        "from sklearn.ensemble import GradientBoostingClassifier\n",
        "from sklearn.ensemble import ExtraTreesClassifier\n",
        "from sklearn.model_selection import train_test_split\n",
        "from sklearn.metrics import accuracy_score\n",
        "from sklearn.preprocessing import LabelEncoder\n",
        "from sklearn.metrics import accuracy_score\n",
        "from sklearn.metrics import classification_report\n",
        "import time\n",
        "import lightgbm as lgb\n",
        "from sklearn.metrics import mean_squared_error\n",
        "from sklearn.model_selection import KFold\n",
        "# Data processing, metrics and modeling\n",
        "from sklearn.preprocessing import StandardScaler\n",
        "from sklearn.model_selection import GridSearchCV, cross_val_score\n",
        "from sklearn.feature_selection import RFE\n",
        "import xgboost as xgb\n",
        "import sklearn.metrics as metrics\n",
        "\n",
        "# load libraries\n",
        "from sklearn import model_selection\n",
        "from sklearn.linear_model import LogisticRegression\n",
        "from sklearn.tree import DecisionTreeClassifier\n",
        "from sklearn.svm import SVC\n",
        "from sklearn.ensemble import VotingClassifier\n",
        "from sklearn import datasets\n",
        "from sklearn.model_selection import train_test_split\n",
        "\n",
        "#ignore warning messages \n",
        "import warnings\n",
        "warnings.filterwarnings('ignore') \n",
        "import matplotlib.pyplot as plt\n",
        "import seaborn as sns"
      ],
      "metadata": {
        "id": "IH8w-By6Ib_7"
      },
      "execution_count": null,
      "outputs": []
    },
    {
      "cell_type": "code",
      "source": [
        "def get_default_device():\n",
        "    \"\"\"Pick GPU if available, else CPU\"\"\"\n",
        "    if torch.cuda.is_available():\n",
        "        return torch.device('cuda')\n",
        "    else:\n",
        "        return torch.device('cpu')\n",
        "    \n",
        "def to_device(data, device):\n",
        "    \"\"\"Move tensor(s) to chosen device\"\"\"\n",
        "    if isinstance(data, (list,tuple)):\n",
        "        return [to_device(x, device) for x in data]\n",
        "    return data.to(device, non_blocking=True)\n",
        "\n",
        "class DeviceDataLoader():\n",
        "    \"\"\"Wrap a dataloader to move data to a device\"\"\"\n",
        "    def __init__(self, dl, device):\n",
        "        self.dl = dl\n",
        "        self.device = device\n",
        "        \n",
        "    def __iter__(self):\n",
        "        \"\"\"Yield a batch of data after moving it to device\"\"\"\n",
        "        for b in self.dl: \n",
        "            yield to_device(b, self.device)\n",
        "\n",
        "    def __len__(self):\n",
        "        \"\"\"Number of batches\"\"\"\n",
        "        return len(self.dl)\n",
        "        \n",
        "device = get_default_device()\n",
        "device"
      ],
      "metadata": {
        "colab": {
          "base_uri": "https://localhost:8080/"
        },
        "id": "jNAUxpDVFc9A",
        "outputId": "e402c750-9d99-4489-af3f-00e54d364bb4"
      },
      "execution_count": null,
      "outputs": [
        {
          "output_type": "execute_result",
          "data": {
            "text/plain": [
              "device(type='cuda')"
            ]
          },
          "metadata": {},
          "execution_count": 8
        }
      ]
    },
    {
      "cell_type": "markdown",
      "metadata": {
        "id": "J07vAWvH8vBU"
      },
      "source": [
        "# Load Resnet34"
      ]
    },
    {
      "cell_type": "markdown",
      "metadata": {
        "id": "mhFqjRhu95pG"
      },
      "source": [
        "The accuracy function which would evaluate our model would be:\n"
      ]
    },
    {
      "cell_type": "code",
      "execution_count": null,
      "metadata": {
        "id": "FDS3Fy3h1pY1"
      },
      "outputs": [],
      "source": [
        "def accuracy(outputs, labels):\n",
        "  _,preds = torch.max(outputs,dim=1)\n",
        "  return torch.tensor(torch.sum(preds == labels).item()/len(preds))"
      ]
    },
    {
      "cell_type": "markdown",
      "metadata": {
        "id": "DFOSvQ67K0zr"
      },
      "source": [
        "! ! PyTorch 中網路模型的建立步驟:\n",
        "\n",
        "https://iter01.com/524139.html"
      ]
    },
    {
      "cell_type": "markdown",
      "metadata": {
        "id": "MuqgL5hV-DNA"
      },
      "source": [
        " I have used the Pretrained ResNet34 model which shot up the accuracy at a considerable rate, I also used the Learning rate Scheduler and Gradient Clipping"
      ]
    },
    {
      "cell_type": "markdown",
      "metadata": {
        "id": "PFH3JQQnKghV"
      },
      "source": [
        "torch.nn是专门为神经网络设计的模块化接口。nn构建于autograd之上，可以用来定义和运行神经网络。nn.Module是nn中十分重要的类,包含网络各层的定义及forward方法。\n",
        "\n",
        "\n",
        "reference:https://blog.csdn.net/zkq_1986/article/details/85249220"
      ]
    },
    {
      "cell_type": "code",
      "execution_count": null,
      "metadata": {
        "id": "kCY1qxB_7ard"
      },
      "outputs": [],
      "source": [
        "class Base(nn.Module):\n",
        "    def training_step(self, batch):\n",
        "        # Generate predictions\n",
        "        images, targets = batch \n",
        "        out = self(images)       \n",
        "        # Calculate loss                                   \n",
        "        loss = F.cross_entropy(out, targets)      \n",
        "        return loss\n",
        "    \n",
        "    def validation_step(self, batch):\n",
        "        images, targets = batch \n",
        "        # Generate predictions\n",
        "        out = self(images)       \n",
        "        # Calculate loss                    \n",
        "        loss = F.cross_entropy(out, targets)  \n",
        "        score = accuracy(out, targets)\n",
        "        return {'val_loss': loss.detach(), 'val_score': score.detach() }\n",
        "        \n",
        "    def validation_epoch_end(self, outputs):\n",
        "        batch_losses = [x['val_loss'] for x in outputs]\n",
        "        epoch_loss = torch.stack(batch_losses).mean()   \n",
        "        # Combine losses\n",
        "        batch_scores = [x['val_score'] for x in outputs]\n",
        "        epoch_score = torch.stack(batch_scores).mean()      \n",
        "        # Combine accuracies\n",
        "        return {'val_loss': epoch_loss.item(), 'val_score': epoch_score.item()}\n",
        "    \n",
        "    def epoch_end(self, epoch, result):\n",
        "        print(\"Epoch [{}], val_loss: {:.4f}, val_score: {:.4f}\".format(epoch, result['val_loss'], result['val_score']))"
      ]
    },
    {
      "cell_type": "markdown",
      "metadata": {
        "id": "5e3PQh5DOpz8"
      },
      "source": [
        "### Transfer learning with Resnet 34\n",
        "\n",
        "reference:\n",
        "\n",
        "\n",
        "*   Building Resnet-34 model using Pytorch – A Guide for Beginners : https://www.analyticsvidhya.com/blog/2021/09/building-resnet-34-model-using-pytorch-a-guide-for-beginners/\n",
        "*   How to Train a Custom Resnet34 Model for Image Classification in fastai and PyTorch : https://blog.roboflow.com/custom-resnet34-classification-model/\n",
        "\n",
        "*   L14.3.2.2 ResNet-34 in PyTorch -- Code Example:\n",
        "    https://www.youtube.com/watch?v=JG_ODvnlgjY\n",
        "\n",
        "    https://github.com/rasbt/stat453-deep-learning-ss21/blob/main/L14/2-resnet34.ipynb\n",
        "\n",
        "\n",
        "\n",
        "*   pytorch下分类神经网络的迁移学习transfer learning:\n",
        "https://blog.csdn.net/LXX516/article/details/79019931\n",
        "\n",
        "\n",
        "*   Transfer Learning: https://zhuanlan.zhihu.com/p/49407624\n",
        "\n",
        "\n",
        "\n",
        "\n",
        "\n",
        "\n",
        "\n",
        "\n",
        "\n",
        "\n"
      ]
    },
    {
      "cell_type": "code",
      "execution_count": null,
      "metadata": {
        "id": "67GKGL527fs-"
      },
      "outputs": [],
      "source": [
        "class Net(Base):\n",
        "    def __init__(self):\n",
        "        super().__init__()\n",
        "        # Use a pretrained model\n",
        "        self.network = models.resnet34(pretrained=True)\n",
        "        # Replace last layer(the classifier)\n",
        "        # 最后fc层的输入\n",
        "        num_ftrs = self.network.fc.in_features\n",
        "        # NUM_CLASSES是自己数据的类别\n",
        "        NUM_CLASSES = 10\n",
        "        self.network.fc = nn.Linear(num_ftrs, NUM_CLASSES)\n",
        "\n",
        "    def forward(self, xb):\n",
        "        return self.network(xb)\n",
        "\n",
        "    def freeze(self):\n",
        "      for param in self.network.parameters():\n",
        "        param.require_grad = False\n",
        "      for param in self.network.fc.parameters():\n",
        "        param.require_grad = True\n",
        "    \n",
        "    def unfreeze(self):\n",
        "      for param in self.network.parameters():\n",
        "        param.require_grad = True"
      ]
    },
    {
      "cell_type": "code",
      "execution_count": null,
      "metadata": {
        "colab": {
          "base_uri": "https://localhost:8080/",
          "referenced_widgets": [
            "e0892d4cb3fc4cb286cc864a5c412388",
            "68db270d54e3426abcdac41429ab1aeb",
            "879528e805a74d839772a444d93b3588",
            "3fa2fea9c1bc457693a732cc16a6b6b7",
            "a931b3f805644daeb3632f65a62c3042",
            "4b19818fbe7b43f3b409eb8cd8c6cc84",
            "764aa05fca644e1bb875512e592ecce7",
            "1f89a5a75c584c33bc497e66d6bbf4dc",
            "d81d4317783f41cf8ebae5ab45e2ced5",
            "0e71bf87b3dc4f3fa86d37f893c63247",
            "fdfbd43b98f64ca689c6a56949b853c1"
          ],
          "height": 1000
        },
        "id": "b_4JJfg47hjb",
        "outputId": "860af714-39b3-4473-84c2-3913b6fa5a2f"
      },
      "outputs": [
        {
          "output_type": "stream",
          "name": "stderr",
          "text": [
            "Downloading: \"https://download.pytorch.org/models/resnet34-b627a593.pth\" to /root/.cache/torch/hub/checkpoints/resnet34-b627a593.pth\n"
          ]
        },
        {
          "output_type": "display_data",
          "data": {
            "text/plain": [
              "  0%|          | 0.00/83.3M [00:00<?, ?B/s]"
            ],
            "application/vnd.jupyter.widget-view+json": {
              "version_major": 2,
              "version_minor": 0,
              "model_id": "e0892d4cb3fc4cb286cc864a5c412388"
            }
          },
          "metadata": {}
        },
        {
          "output_type": "execute_result",
          "data": {
            "text/plain": [
              "Net(\n",
              "  (network): ResNet(\n",
              "    (conv1): Conv2d(3, 64, kernel_size=(7, 7), stride=(2, 2), padding=(3, 3), bias=False)\n",
              "    (bn1): BatchNorm2d(64, eps=1e-05, momentum=0.1, affine=True, track_running_stats=True)\n",
              "    (relu): ReLU(inplace=True)\n",
              "    (maxpool): MaxPool2d(kernel_size=3, stride=2, padding=1, dilation=1, ceil_mode=False)\n",
              "    (layer1): Sequential(\n",
              "      (0): BasicBlock(\n",
              "        (conv1): Conv2d(64, 64, kernel_size=(3, 3), stride=(1, 1), padding=(1, 1), bias=False)\n",
              "        (bn1): BatchNorm2d(64, eps=1e-05, momentum=0.1, affine=True, track_running_stats=True)\n",
              "        (relu): ReLU(inplace=True)\n",
              "        (conv2): Conv2d(64, 64, kernel_size=(3, 3), stride=(1, 1), padding=(1, 1), bias=False)\n",
              "        (bn2): BatchNorm2d(64, eps=1e-05, momentum=0.1, affine=True, track_running_stats=True)\n",
              "      )\n",
              "      (1): BasicBlock(\n",
              "        (conv1): Conv2d(64, 64, kernel_size=(3, 3), stride=(1, 1), padding=(1, 1), bias=False)\n",
              "        (bn1): BatchNorm2d(64, eps=1e-05, momentum=0.1, affine=True, track_running_stats=True)\n",
              "        (relu): ReLU(inplace=True)\n",
              "        (conv2): Conv2d(64, 64, kernel_size=(3, 3), stride=(1, 1), padding=(1, 1), bias=False)\n",
              "        (bn2): BatchNorm2d(64, eps=1e-05, momentum=0.1, affine=True, track_running_stats=True)\n",
              "      )\n",
              "      (2): BasicBlock(\n",
              "        (conv1): Conv2d(64, 64, kernel_size=(3, 3), stride=(1, 1), padding=(1, 1), bias=False)\n",
              "        (bn1): BatchNorm2d(64, eps=1e-05, momentum=0.1, affine=True, track_running_stats=True)\n",
              "        (relu): ReLU(inplace=True)\n",
              "        (conv2): Conv2d(64, 64, kernel_size=(3, 3), stride=(1, 1), padding=(1, 1), bias=False)\n",
              "        (bn2): BatchNorm2d(64, eps=1e-05, momentum=0.1, affine=True, track_running_stats=True)\n",
              "      )\n",
              "    )\n",
              "    (layer2): Sequential(\n",
              "      (0): BasicBlock(\n",
              "        (conv1): Conv2d(64, 128, kernel_size=(3, 3), stride=(2, 2), padding=(1, 1), bias=False)\n",
              "        (bn1): BatchNorm2d(128, eps=1e-05, momentum=0.1, affine=True, track_running_stats=True)\n",
              "        (relu): ReLU(inplace=True)\n",
              "        (conv2): Conv2d(128, 128, kernel_size=(3, 3), stride=(1, 1), padding=(1, 1), bias=False)\n",
              "        (bn2): BatchNorm2d(128, eps=1e-05, momentum=0.1, affine=True, track_running_stats=True)\n",
              "        (downsample): Sequential(\n",
              "          (0): Conv2d(64, 128, kernel_size=(1, 1), stride=(2, 2), bias=False)\n",
              "          (1): BatchNorm2d(128, eps=1e-05, momentum=0.1, affine=True, track_running_stats=True)\n",
              "        )\n",
              "      )\n",
              "      (1): BasicBlock(\n",
              "        (conv1): Conv2d(128, 128, kernel_size=(3, 3), stride=(1, 1), padding=(1, 1), bias=False)\n",
              "        (bn1): BatchNorm2d(128, eps=1e-05, momentum=0.1, affine=True, track_running_stats=True)\n",
              "        (relu): ReLU(inplace=True)\n",
              "        (conv2): Conv2d(128, 128, kernel_size=(3, 3), stride=(1, 1), padding=(1, 1), bias=False)\n",
              "        (bn2): BatchNorm2d(128, eps=1e-05, momentum=0.1, affine=True, track_running_stats=True)\n",
              "      )\n",
              "      (2): BasicBlock(\n",
              "        (conv1): Conv2d(128, 128, kernel_size=(3, 3), stride=(1, 1), padding=(1, 1), bias=False)\n",
              "        (bn1): BatchNorm2d(128, eps=1e-05, momentum=0.1, affine=True, track_running_stats=True)\n",
              "        (relu): ReLU(inplace=True)\n",
              "        (conv2): Conv2d(128, 128, kernel_size=(3, 3), stride=(1, 1), padding=(1, 1), bias=False)\n",
              "        (bn2): BatchNorm2d(128, eps=1e-05, momentum=0.1, affine=True, track_running_stats=True)\n",
              "      )\n",
              "      (3): BasicBlock(\n",
              "        (conv1): Conv2d(128, 128, kernel_size=(3, 3), stride=(1, 1), padding=(1, 1), bias=False)\n",
              "        (bn1): BatchNorm2d(128, eps=1e-05, momentum=0.1, affine=True, track_running_stats=True)\n",
              "        (relu): ReLU(inplace=True)\n",
              "        (conv2): Conv2d(128, 128, kernel_size=(3, 3), stride=(1, 1), padding=(1, 1), bias=False)\n",
              "        (bn2): BatchNorm2d(128, eps=1e-05, momentum=0.1, affine=True, track_running_stats=True)\n",
              "      )\n",
              "    )\n",
              "    (layer3): Sequential(\n",
              "      (0): BasicBlock(\n",
              "        (conv1): Conv2d(128, 256, kernel_size=(3, 3), stride=(2, 2), padding=(1, 1), bias=False)\n",
              "        (bn1): BatchNorm2d(256, eps=1e-05, momentum=0.1, affine=True, track_running_stats=True)\n",
              "        (relu): ReLU(inplace=True)\n",
              "        (conv2): Conv2d(256, 256, kernel_size=(3, 3), stride=(1, 1), padding=(1, 1), bias=False)\n",
              "        (bn2): BatchNorm2d(256, eps=1e-05, momentum=0.1, affine=True, track_running_stats=True)\n",
              "        (downsample): Sequential(\n",
              "          (0): Conv2d(128, 256, kernel_size=(1, 1), stride=(2, 2), bias=False)\n",
              "          (1): BatchNorm2d(256, eps=1e-05, momentum=0.1, affine=True, track_running_stats=True)\n",
              "        )\n",
              "      )\n",
              "      (1): BasicBlock(\n",
              "        (conv1): Conv2d(256, 256, kernel_size=(3, 3), stride=(1, 1), padding=(1, 1), bias=False)\n",
              "        (bn1): BatchNorm2d(256, eps=1e-05, momentum=0.1, affine=True, track_running_stats=True)\n",
              "        (relu): ReLU(inplace=True)\n",
              "        (conv2): Conv2d(256, 256, kernel_size=(3, 3), stride=(1, 1), padding=(1, 1), bias=False)\n",
              "        (bn2): BatchNorm2d(256, eps=1e-05, momentum=0.1, affine=True, track_running_stats=True)\n",
              "      )\n",
              "      (2): BasicBlock(\n",
              "        (conv1): Conv2d(256, 256, kernel_size=(3, 3), stride=(1, 1), padding=(1, 1), bias=False)\n",
              "        (bn1): BatchNorm2d(256, eps=1e-05, momentum=0.1, affine=True, track_running_stats=True)\n",
              "        (relu): ReLU(inplace=True)\n",
              "        (conv2): Conv2d(256, 256, kernel_size=(3, 3), stride=(1, 1), padding=(1, 1), bias=False)\n",
              "        (bn2): BatchNorm2d(256, eps=1e-05, momentum=0.1, affine=True, track_running_stats=True)\n",
              "      )\n",
              "      (3): BasicBlock(\n",
              "        (conv1): Conv2d(256, 256, kernel_size=(3, 3), stride=(1, 1), padding=(1, 1), bias=False)\n",
              "        (bn1): BatchNorm2d(256, eps=1e-05, momentum=0.1, affine=True, track_running_stats=True)\n",
              "        (relu): ReLU(inplace=True)\n",
              "        (conv2): Conv2d(256, 256, kernel_size=(3, 3), stride=(1, 1), padding=(1, 1), bias=False)\n",
              "        (bn2): BatchNorm2d(256, eps=1e-05, momentum=0.1, affine=True, track_running_stats=True)\n",
              "      )\n",
              "      (4): BasicBlock(\n",
              "        (conv1): Conv2d(256, 256, kernel_size=(3, 3), stride=(1, 1), padding=(1, 1), bias=False)\n",
              "        (bn1): BatchNorm2d(256, eps=1e-05, momentum=0.1, affine=True, track_running_stats=True)\n",
              "        (relu): ReLU(inplace=True)\n",
              "        (conv2): Conv2d(256, 256, kernel_size=(3, 3), stride=(1, 1), padding=(1, 1), bias=False)\n",
              "        (bn2): BatchNorm2d(256, eps=1e-05, momentum=0.1, affine=True, track_running_stats=True)\n",
              "      )\n",
              "      (5): BasicBlock(\n",
              "        (conv1): Conv2d(256, 256, kernel_size=(3, 3), stride=(1, 1), padding=(1, 1), bias=False)\n",
              "        (bn1): BatchNorm2d(256, eps=1e-05, momentum=0.1, affine=True, track_running_stats=True)\n",
              "        (relu): ReLU(inplace=True)\n",
              "        (conv2): Conv2d(256, 256, kernel_size=(3, 3), stride=(1, 1), padding=(1, 1), bias=False)\n",
              "        (bn2): BatchNorm2d(256, eps=1e-05, momentum=0.1, affine=True, track_running_stats=True)\n",
              "      )\n",
              "    )\n",
              "    (layer4): Sequential(\n",
              "      (0): BasicBlock(\n",
              "        (conv1): Conv2d(256, 512, kernel_size=(3, 3), stride=(2, 2), padding=(1, 1), bias=False)\n",
              "        (bn1): BatchNorm2d(512, eps=1e-05, momentum=0.1, affine=True, track_running_stats=True)\n",
              "        (relu): ReLU(inplace=True)\n",
              "        (conv2): Conv2d(512, 512, kernel_size=(3, 3), stride=(1, 1), padding=(1, 1), bias=False)\n",
              "        (bn2): BatchNorm2d(512, eps=1e-05, momentum=0.1, affine=True, track_running_stats=True)\n",
              "        (downsample): Sequential(\n",
              "          (0): Conv2d(256, 512, kernel_size=(1, 1), stride=(2, 2), bias=False)\n",
              "          (1): BatchNorm2d(512, eps=1e-05, momentum=0.1, affine=True, track_running_stats=True)\n",
              "        )\n",
              "      )\n",
              "      (1): BasicBlock(\n",
              "        (conv1): Conv2d(512, 512, kernel_size=(3, 3), stride=(1, 1), padding=(1, 1), bias=False)\n",
              "        (bn1): BatchNorm2d(512, eps=1e-05, momentum=0.1, affine=True, track_running_stats=True)\n",
              "        (relu): ReLU(inplace=True)\n",
              "        (conv2): Conv2d(512, 512, kernel_size=(3, 3), stride=(1, 1), padding=(1, 1), bias=False)\n",
              "        (bn2): BatchNorm2d(512, eps=1e-05, momentum=0.1, affine=True, track_running_stats=True)\n",
              "      )\n",
              "      (2): BasicBlock(\n",
              "        (conv1): Conv2d(512, 512, kernel_size=(3, 3), stride=(1, 1), padding=(1, 1), bias=False)\n",
              "        (bn1): BatchNorm2d(512, eps=1e-05, momentum=0.1, affine=True, track_running_stats=True)\n",
              "        (relu): ReLU(inplace=True)\n",
              "        (conv2): Conv2d(512, 512, kernel_size=(3, 3), stride=(1, 1), padding=(1, 1), bias=False)\n",
              "        (bn2): BatchNorm2d(512, eps=1e-05, momentum=0.1, affine=True, track_running_stats=True)\n",
              "      )\n",
              "    )\n",
              "    (avgpool): AdaptiveAvgPool2d(output_size=(1, 1))\n",
              "    (fc): Linear(in_features=512, out_features=10, bias=True)\n",
              "  )\n",
              ")"
            ]
          },
          "metadata": {},
          "execution_count": 12
        }
      ],
      "source": [
        "Net()"
      ]
    },
    {
      "cell_type": "markdown",
      "source": [
        "### Load Transfer learning model"
      ],
      "metadata": {
        "id": "FS304P40CFhn"
      }
    },
    {
      "cell_type": "code",
      "source": [
        "model = Net()\n",
        "model = model.to(device)"
      ],
      "metadata": {
        "id": "c0QoJ70U15Qc"
      },
      "execution_count": null,
      "outputs": []
    },
    {
      "cell_type": "code",
      "source": [
        "MODEL_PATH = '/content/drive/MyDrive/Dataset/Music-genre-classification/model/resnet_model2.pth'\n",
        "\n",
        "# Load state_dict\n",
        "model.load_state_dict(torch.load(MODEL_PATH))"
      ],
      "metadata": {
        "colab": {
          "base_uri": "https://localhost:8080/"
        },
        "id": "QRTg1dlcIHII",
        "outputId": "9d9291ca-e7a1-4ea9-deb4-d49376d4c7aa"
      },
      "execution_count": null,
      "outputs": [
        {
          "output_type": "execute_result",
          "data": {
            "text/plain": [
              "<All keys matched successfully>"
            ]
          },
          "metadata": {},
          "execution_count": 14
        }
      ]
    },
    {
      "cell_type": "code",
      "source": [
        "model.eval()"
      ],
      "metadata": {
        "colab": {
          "base_uri": "https://localhost:8080/"
        },
        "id": "VHk8zJaxJonM",
        "outputId": "26749240-da9a-4869-d88f-4a6490ff44f2"
      },
      "execution_count": null,
      "outputs": [
        {
          "output_type": "execute_result",
          "data": {
            "text/plain": [
              "Net(\n",
              "  (network): ResNet(\n",
              "    (conv1): Conv2d(3, 64, kernel_size=(7, 7), stride=(2, 2), padding=(3, 3), bias=False)\n",
              "    (bn1): BatchNorm2d(64, eps=1e-05, momentum=0.1, affine=True, track_running_stats=True)\n",
              "    (relu): ReLU(inplace=True)\n",
              "    (maxpool): MaxPool2d(kernel_size=3, stride=2, padding=1, dilation=1, ceil_mode=False)\n",
              "    (layer1): Sequential(\n",
              "      (0): BasicBlock(\n",
              "        (conv1): Conv2d(64, 64, kernel_size=(3, 3), stride=(1, 1), padding=(1, 1), bias=False)\n",
              "        (bn1): BatchNorm2d(64, eps=1e-05, momentum=0.1, affine=True, track_running_stats=True)\n",
              "        (relu): ReLU(inplace=True)\n",
              "        (conv2): Conv2d(64, 64, kernel_size=(3, 3), stride=(1, 1), padding=(1, 1), bias=False)\n",
              "        (bn2): BatchNorm2d(64, eps=1e-05, momentum=0.1, affine=True, track_running_stats=True)\n",
              "      )\n",
              "      (1): BasicBlock(\n",
              "        (conv1): Conv2d(64, 64, kernel_size=(3, 3), stride=(1, 1), padding=(1, 1), bias=False)\n",
              "        (bn1): BatchNorm2d(64, eps=1e-05, momentum=0.1, affine=True, track_running_stats=True)\n",
              "        (relu): ReLU(inplace=True)\n",
              "        (conv2): Conv2d(64, 64, kernel_size=(3, 3), stride=(1, 1), padding=(1, 1), bias=False)\n",
              "        (bn2): BatchNorm2d(64, eps=1e-05, momentum=0.1, affine=True, track_running_stats=True)\n",
              "      )\n",
              "      (2): BasicBlock(\n",
              "        (conv1): Conv2d(64, 64, kernel_size=(3, 3), stride=(1, 1), padding=(1, 1), bias=False)\n",
              "        (bn1): BatchNorm2d(64, eps=1e-05, momentum=0.1, affine=True, track_running_stats=True)\n",
              "        (relu): ReLU(inplace=True)\n",
              "        (conv2): Conv2d(64, 64, kernel_size=(3, 3), stride=(1, 1), padding=(1, 1), bias=False)\n",
              "        (bn2): BatchNorm2d(64, eps=1e-05, momentum=0.1, affine=True, track_running_stats=True)\n",
              "      )\n",
              "    )\n",
              "    (layer2): Sequential(\n",
              "      (0): BasicBlock(\n",
              "        (conv1): Conv2d(64, 128, kernel_size=(3, 3), stride=(2, 2), padding=(1, 1), bias=False)\n",
              "        (bn1): BatchNorm2d(128, eps=1e-05, momentum=0.1, affine=True, track_running_stats=True)\n",
              "        (relu): ReLU(inplace=True)\n",
              "        (conv2): Conv2d(128, 128, kernel_size=(3, 3), stride=(1, 1), padding=(1, 1), bias=False)\n",
              "        (bn2): BatchNorm2d(128, eps=1e-05, momentum=0.1, affine=True, track_running_stats=True)\n",
              "        (downsample): Sequential(\n",
              "          (0): Conv2d(64, 128, kernel_size=(1, 1), stride=(2, 2), bias=False)\n",
              "          (1): BatchNorm2d(128, eps=1e-05, momentum=0.1, affine=True, track_running_stats=True)\n",
              "        )\n",
              "      )\n",
              "      (1): BasicBlock(\n",
              "        (conv1): Conv2d(128, 128, kernel_size=(3, 3), stride=(1, 1), padding=(1, 1), bias=False)\n",
              "        (bn1): BatchNorm2d(128, eps=1e-05, momentum=0.1, affine=True, track_running_stats=True)\n",
              "        (relu): ReLU(inplace=True)\n",
              "        (conv2): Conv2d(128, 128, kernel_size=(3, 3), stride=(1, 1), padding=(1, 1), bias=False)\n",
              "        (bn2): BatchNorm2d(128, eps=1e-05, momentum=0.1, affine=True, track_running_stats=True)\n",
              "      )\n",
              "      (2): BasicBlock(\n",
              "        (conv1): Conv2d(128, 128, kernel_size=(3, 3), stride=(1, 1), padding=(1, 1), bias=False)\n",
              "        (bn1): BatchNorm2d(128, eps=1e-05, momentum=0.1, affine=True, track_running_stats=True)\n",
              "        (relu): ReLU(inplace=True)\n",
              "        (conv2): Conv2d(128, 128, kernel_size=(3, 3), stride=(1, 1), padding=(1, 1), bias=False)\n",
              "        (bn2): BatchNorm2d(128, eps=1e-05, momentum=0.1, affine=True, track_running_stats=True)\n",
              "      )\n",
              "      (3): BasicBlock(\n",
              "        (conv1): Conv2d(128, 128, kernel_size=(3, 3), stride=(1, 1), padding=(1, 1), bias=False)\n",
              "        (bn1): BatchNorm2d(128, eps=1e-05, momentum=0.1, affine=True, track_running_stats=True)\n",
              "        (relu): ReLU(inplace=True)\n",
              "        (conv2): Conv2d(128, 128, kernel_size=(3, 3), stride=(1, 1), padding=(1, 1), bias=False)\n",
              "        (bn2): BatchNorm2d(128, eps=1e-05, momentum=0.1, affine=True, track_running_stats=True)\n",
              "      )\n",
              "    )\n",
              "    (layer3): Sequential(\n",
              "      (0): BasicBlock(\n",
              "        (conv1): Conv2d(128, 256, kernel_size=(3, 3), stride=(2, 2), padding=(1, 1), bias=False)\n",
              "        (bn1): BatchNorm2d(256, eps=1e-05, momentum=0.1, affine=True, track_running_stats=True)\n",
              "        (relu): ReLU(inplace=True)\n",
              "        (conv2): Conv2d(256, 256, kernel_size=(3, 3), stride=(1, 1), padding=(1, 1), bias=False)\n",
              "        (bn2): BatchNorm2d(256, eps=1e-05, momentum=0.1, affine=True, track_running_stats=True)\n",
              "        (downsample): Sequential(\n",
              "          (0): Conv2d(128, 256, kernel_size=(1, 1), stride=(2, 2), bias=False)\n",
              "          (1): BatchNorm2d(256, eps=1e-05, momentum=0.1, affine=True, track_running_stats=True)\n",
              "        )\n",
              "      )\n",
              "      (1): BasicBlock(\n",
              "        (conv1): Conv2d(256, 256, kernel_size=(3, 3), stride=(1, 1), padding=(1, 1), bias=False)\n",
              "        (bn1): BatchNorm2d(256, eps=1e-05, momentum=0.1, affine=True, track_running_stats=True)\n",
              "        (relu): ReLU(inplace=True)\n",
              "        (conv2): Conv2d(256, 256, kernel_size=(3, 3), stride=(1, 1), padding=(1, 1), bias=False)\n",
              "        (bn2): BatchNorm2d(256, eps=1e-05, momentum=0.1, affine=True, track_running_stats=True)\n",
              "      )\n",
              "      (2): BasicBlock(\n",
              "        (conv1): Conv2d(256, 256, kernel_size=(3, 3), stride=(1, 1), padding=(1, 1), bias=False)\n",
              "        (bn1): BatchNorm2d(256, eps=1e-05, momentum=0.1, affine=True, track_running_stats=True)\n",
              "        (relu): ReLU(inplace=True)\n",
              "        (conv2): Conv2d(256, 256, kernel_size=(3, 3), stride=(1, 1), padding=(1, 1), bias=False)\n",
              "        (bn2): BatchNorm2d(256, eps=1e-05, momentum=0.1, affine=True, track_running_stats=True)\n",
              "      )\n",
              "      (3): BasicBlock(\n",
              "        (conv1): Conv2d(256, 256, kernel_size=(3, 3), stride=(1, 1), padding=(1, 1), bias=False)\n",
              "        (bn1): BatchNorm2d(256, eps=1e-05, momentum=0.1, affine=True, track_running_stats=True)\n",
              "        (relu): ReLU(inplace=True)\n",
              "        (conv2): Conv2d(256, 256, kernel_size=(3, 3), stride=(1, 1), padding=(1, 1), bias=False)\n",
              "        (bn2): BatchNorm2d(256, eps=1e-05, momentum=0.1, affine=True, track_running_stats=True)\n",
              "      )\n",
              "      (4): BasicBlock(\n",
              "        (conv1): Conv2d(256, 256, kernel_size=(3, 3), stride=(1, 1), padding=(1, 1), bias=False)\n",
              "        (bn1): BatchNorm2d(256, eps=1e-05, momentum=0.1, affine=True, track_running_stats=True)\n",
              "        (relu): ReLU(inplace=True)\n",
              "        (conv2): Conv2d(256, 256, kernel_size=(3, 3), stride=(1, 1), padding=(1, 1), bias=False)\n",
              "        (bn2): BatchNorm2d(256, eps=1e-05, momentum=0.1, affine=True, track_running_stats=True)\n",
              "      )\n",
              "      (5): BasicBlock(\n",
              "        (conv1): Conv2d(256, 256, kernel_size=(3, 3), stride=(1, 1), padding=(1, 1), bias=False)\n",
              "        (bn1): BatchNorm2d(256, eps=1e-05, momentum=0.1, affine=True, track_running_stats=True)\n",
              "        (relu): ReLU(inplace=True)\n",
              "        (conv2): Conv2d(256, 256, kernel_size=(3, 3), stride=(1, 1), padding=(1, 1), bias=False)\n",
              "        (bn2): BatchNorm2d(256, eps=1e-05, momentum=0.1, affine=True, track_running_stats=True)\n",
              "      )\n",
              "    )\n",
              "    (layer4): Sequential(\n",
              "      (0): BasicBlock(\n",
              "        (conv1): Conv2d(256, 512, kernel_size=(3, 3), stride=(2, 2), padding=(1, 1), bias=False)\n",
              "        (bn1): BatchNorm2d(512, eps=1e-05, momentum=0.1, affine=True, track_running_stats=True)\n",
              "        (relu): ReLU(inplace=True)\n",
              "        (conv2): Conv2d(512, 512, kernel_size=(3, 3), stride=(1, 1), padding=(1, 1), bias=False)\n",
              "        (bn2): BatchNorm2d(512, eps=1e-05, momentum=0.1, affine=True, track_running_stats=True)\n",
              "        (downsample): Sequential(\n",
              "          (0): Conv2d(256, 512, kernel_size=(1, 1), stride=(2, 2), bias=False)\n",
              "          (1): BatchNorm2d(512, eps=1e-05, momentum=0.1, affine=True, track_running_stats=True)\n",
              "        )\n",
              "      )\n",
              "      (1): BasicBlock(\n",
              "        (conv1): Conv2d(512, 512, kernel_size=(3, 3), stride=(1, 1), padding=(1, 1), bias=False)\n",
              "        (bn1): BatchNorm2d(512, eps=1e-05, momentum=0.1, affine=True, track_running_stats=True)\n",
              "        (relu): ReLU(inplace=True)\n",
              "        (conv2): Conv2d(512, 512, kernel_size=(3, 3), stride=(1, 1), padding=(1, 1), bias=False)\n",
              "        (bn2): BatchNorm2d(512, eps=1e-05, momentum=0.1, affine=True, track_running_stats=True)\n",
              "      )\n",
              "      (2): BasicBlock(\n",
              "        (conv1): Conv2d(512, 512, kernel_size=(3, 3), stride=(1, 1), padding=(1, 1), bias=False)\n",
              "        (bn1): BatchNorm2d(512, eps=1e-05, momentum=0.1, affine=True, track_running_stats=True)\n",
              "        (relu): ReLU(inplace=True)\n",
              "        (conv2): Conv2d(512, 512, kernel_size=(3, 3), stride=(1, 1), padding=(1, 1), bias=False)\n",
              "        (bn2): BatchNorm2d(512, eps=1e-05, momentum=0.1, affine=True, track_running_stats=True)\n",
              "      )\n",
              "    )\n",
              "    (avgpool): AdaptiveAvgPool2d(output_size=(1, 1))\n",
              "    (fc): Linear(in_features=512, out_features=10, bias=True)\n",
              "  )\n",
              ")"
            ]
          },
          "metadata": {},
          "execution_count": 15
        }
      ]
    },
    {
      "cell_type": "markdown",
      "source": [
        "# Cut audio"
      ],
      "metadata": {
        "id": "2zBhVrfFT_J7"
      }
    },
    {
      "cell_type": "code",
      "source": [
        "newAudio = AudioSegment.from_wav('/content/drive/MyDrive/Dataset/Music-genre-classification/test/audio/blues.00000_mid_10s.wav')\n",
        "song = newAudio[-3000:]\n",
        "song.export('/content/drive/MyDrive/Dataset/Music-genre-classification/test/audio/3s.wav', format=\"wav\") #Exports to a wav file in the current path."
      ],
      "metadata": {
        "colab": {
          "base_uri": "https://localhost:8080/"
        },
        "id": "PzqdeEE0UBc0",
        "outputId": "f12d884d-12e4-4dbe-b48e-2ca268fd1841"
      },
      "execution_count": null,
      "outputs": [
        {
          "output_type": "execute_result",
          "data": {
            "text/plain": [
              "<_io.BufferedRandom name='/content/drive/MyDrive/Dataset/Music-genre-classification/test/audio/3s.wav'>"
            ]
          },
          "metadata": {},
          "execution_count": 64
        }
      ]
    },
    {
      "cell_type": "markdown",
      "metadata": {
        "id": "QIEPz7EKBNSy"
      },
      "source": [
        "# Features Extraction\n",
        "\n",
        "These are the code just for a reference,it contains:\n",
        "\n",
        "1.   information about song\n",
        "2.   diiferent audio features extrated from data and plot them\n",
        "\n"
      ]
    },
    {
      "cell_type": "markdown",
      "metadata": {
        "id": "P_nyjJP1m9_4"
      },
      "source": [
        "### Audio data"
      ]
    },
    {
      "cell_type": "code",
      "metadata": {
        "colab": {
          "base_uri": "https://localhost:8080/"
        },
        "id": "m0nwzfhnBCTv",
        "outputId": "35c33fd7-6f5f-4e9e-def1-9d30bda88769"
      },
      "source": [
        "# Importing 1 file\n",
        "y, sr = librosa.load('/content/drive/MyDrive/Dataset/Music-genre-classification/test/audio/3s.wav')\n",
        "\n",
        "print('y:', y, '\\n')\n",
        "print('y shape:', np.shape(y), '\\n')\n",
        "print('Sample Rate (KHz):', sr, '\\n')\n",
        "a=np.shape(y)\n",
        "arr = np.asarray(a)\n",
        "print(arr)\n",
        "# Verify length of the audio\n",
        "print('Check Len of Audio:', 661794/22050)"
      ],
      "execution_count": null,
      "outputs": [
        {
          "output_type": "stream",
          "name": "stdout",
          "text": [
            "y: [-0.04443359  0.04275513  0.03225708 ...  0.2293396   0.28598022\n",
            "  0.22225952] \n",
            "\n",
            "y shape: (66150,) \n",
            "\n",
            "Sample Rate (KHz): 22050 \n",
            "\n",
            "[66150]\n",
            "Check Len of Audio: 30.013333333333332\n"
          ]
        }
      ]
    },
    {
      "cell_type": "code",
      "metadata": {
        "colab": {
          "base_uri": "https://localhost:8080/"
        },
        "id": "IqS5J9F8U3qq",
        "outputId": "90e8c869-1ee9-4b02-91cf-4b717cd9bc64"
      },
      "source": [
        "IPython.display.Audio(y, rate=sr)"
      ],
      "execution_count": null,
      "outputs": [
        {
          "output_type": "execute_result",
          "data": {
            "text/plain": [
              "<IPython.lib.display.Audio object>"
            ],
            "text/html": [
              "\n",
              "                <audio controls=\"controls\" >\n",
              "                    <source src=\"data:audio/wav;base64,UklGRvAEAgBXQVZFZm10IBAAAAABAAEAIlYAAESsAAACABAAZGF0YcwEAgCU+S4GqQQ0+hLz4+tn5RTjyNy87UsDLfjJ9fcBuwrPCQL6S/Ph9Iv2R/8LDW0YPQ9G+ZDzpvYCAM8QRRnZGtQX+BJMEXsWgRcJGakrljkJOiQ5QDU9IUkS7SI/LvQq3TX3PsU5gjCcJMAggix4OHIzsSeEKK4ykCqiD7INxxTBC/MK5g98GSMZIQxoDvUDmuqD5RzqDfHE/UEOiBWWBgv2Xexy5azmmPKsDQkVlv1l9zYDDwdm/XD1Pf/hBAsAjQFQB/gF6vuv+ZD63ffX/Q8GIwr1AzH8fAlxFJ8MRALn/HIFawfr+nj5G/91BdgBVPodCAEVNRt5I9oTy/Pu4mDo3PBm7Ejr+/2FFp4VzfnO5GfWocp83Wb0hfHa+Y4XmyLXE4MCv/Of+NcTPB1hFhoZKhZJDfoIjPsz7WzwFQDwCOz7hezn7j71UgB8Egsdbx77GVcVegfd72XrRu/u6qjxOvmb81jvxOzU8Kr3IeJYzg7o7QpzEg0OYhhVIWYZvRBn/4D0jPxyBgUX5iQLKVwkEBwCH7gdUxpWJkEywTegNmAsvSX9JSUljSqzMgYrdSKiIgsi6B1iEHAJBBHfFMgK+u8Y477rDuFXzzvKd8h0zpTTj9Dcy3LHbcnc0j3NgLONrSjEBtVm2PjWstaK2FLWgc/0xs7F9cjryVnUbOFH7ecBjgx9DLMUliFRLZQ0jDooOeMxBDDxLK8wATddL64nHSmsJosdcRSEDtwNNBEGHEMmRiOGEgH8nOoo0N29K9Ol5tTaM8YZvR+1iqToohSmi6Xvru2y9b5G0ArJc71jtoe4XcfSzSfSE9cz2Y3aStUF0OnSV9op7+sKcAy9EOspeS86J6QdPhMoF1oeexuSF9YY/yU5ODk2JSBGC8EItguR90Hoq/i9BYYEZgnMCvz+eO6S19bA7bcxs+irtrF7u1HAXdJP3HrPGb68tdi+msgDx33Jrdxo7OHudO9v693u9fiM/Cr/HgbMG5M7M06/T8JI1zxdLy4rKC1KIxwZ5hp5IOskeyXAH0wUMxRUF48OZgbM+pIA4BDNBJv6IPa65RXZs9AJyM+7vbtvxRzEkMch0b7c4ONu2obSRM/r1rnopvhiEJkXhQ9eFXwS4P1l7jrvTfmfBp0aPi4HMhkotClUK1wbaRvvJ04oySVLH8AZNBzgHHkaPhH1/q7zo/ZX/lYEXwSo/J/3TfRq6uLnH+mz36PMB7JJpz6yO7/hznvWbMwlwy/Fw8rAz+7X39oP1jnZRuYg+IMHCweX/nL8NgEsD5QgoDGwRa5Jbj45PYQ/LzsdPVND2jxUMxMuZivzMUU2ly8uHtQN0wy/F3klTCMDGzITRf4f/Y0JLwW8D6Qdzw46/wX8GPls9BTq8Ny13I7trfiE9ZL5IwBA/dD8TwVSFKcbSxS7DrQQnBFAEeYTLheJF4ITGgqnCJ8PKw2nDc8aZSLRIfEkwybFKG8ugyQJGB4VjxBAFqcflR1PF8MQ5gluC+UMVQHy9mLwCPNhBOARexoZFicBQ/D45FLjF+v0+JIN/hRxD/8G8/lG8QLuS/AtAboUJBTvCssHvfyz8472JfyXBDYF8/9I90zz9fy++m/2+/nO+Cf6KgMiE8UYURmYGMkMcgWq/b/9wwciAWDzeuun7PH0oAUoG08XYwj1AQv61f1u/o74avvl+R/7bQHQDUcY7xDsDkEXCBqUF1oUjxhTIwknByUMKHQl9xXpBC/49/Z1Af4LoxChEssbyRuGClQIihHKFB0ZJR3yI2onoBzTDcsMCRatDo/9VvYb+WAD/wfgB8wFE/o/8mv9WgYd/yr7XPF/3PXUbtgW11bWEd5M40TeKdIGxOi83cTNzP7J7sj4x4bJGc20yibH78jL0Sza8uoR9Rrlnd1/4IvfNeAF4y7p1eZq5DTlz+Pb7fTyPfDY5ovQ+s6q3erkx+Ex1K/JLsOXyRjW8NY318XRVsxS1Fragdzj4LngPNjN0R/XYdm803jUi91u5zDljeQ68jP+bApeDS0E/QIwCGQQhgrC++MFoxNhD4gJ6AseFP4Uug0PDpYZjSRFJ4YmeCyMNPUudyCGF7UchS9KNtMrmCmJKJghaR5IHqkbfRKbFdcZohFtFwgZbAkmATAAuAGmBy8KfAEQ90D3Q/i68sXtbPFM/Jz/nQeNEggECPXd9Hv2sP52BbsGlwTs/3D38+tZ8JD4OPj//Pf/kgBX/fv6LQMHAvf09+V83THdnt077Qj6G+9V5Rbfe9q64z/1j/399bbsFOkU7Zz33Pmv74LkT9071S3UON/g6/T0Rfb8+NoGlQu7AOH97v1j9R35Uf+T9pbxO/dJ+0zzpeiS5JnjgufH7jj4KAPyCyYUVSI6LgEothp+F08ZlRTDDSATWx+oKvozFSjEEf4IzwT1BgoIOwNiBDAJ8RO6HMMaWQkE6Q7eyfHcAJsDRQfNBhT+U/X280P8FgWkCXUJCAXBCIAYNSadJPQaqBzSKio0/TbkPOs6ES5oKK4t3jj+POgy0SefIqQmATHZO8VAJzbYJrsYZQl0CuoXhBbyBtf92f39/FIGSxb8Drz9N/tlAuoQUhu+GekXyBlWGhQYLxmIHX0dWBnKEckLKBKdIJAssDOvNLAtGCSpGtIRZAxQBhsNGx0dHowb9RdbFPwQFP9o9/wEuBVOIashkx+qHi0fgBxADfMFURJbIWIk/B3SGCwUvxcqHR4VVgt+ARsDsRd0Ja4ioRGE/nDzJO3c9YP7Q+ln273asuCL7c7zjPZw8gnkneL56JrssPdeAYMBhf6K/74CP//U+7fz3d0k1YXfiOr/9sv+Nvsp9ybyBOhc7R76aPDH4VfeE+Qg8hf6jPUb5JjMTLzTw3vgX/HZ+YsBCP3t+gj7lfMA7v7p2uXb7dQAWw/4GCce6xfdDskHg/6L9zX4uANmCUwCcApPF94Lwv1n+iD0XvAi9I/yXepo7pb80wRMCVYKcgTg+136/v6CBEAJiAstFR4dlRl8GQwfGx3UEVgOWhDrFXkdSRO3EOYagRLvCmYHK+ywzqHRRugj+yD/S+4I2C3MQMhezJDXad/z4lvmROfJ5zzvkfa58InlQt++5d73agZ+ChL7eOfR5/rpnObJ7K3zpe/J7bT1ngHuEBwTuwAJ73ThadVS1krjn+u+7fnveu7D8v/85fpI7xDlA+Fq6vb6pAUpCeYK8AoZA5D8cgHcCTcO5Qdz/Nr8aATWB/oGsv7o9y39Xfsr72/tCOr43Vvfk+hV41vUcND40DLNLdfj4WPjGetl8o3zaeuN4STgx+Kt5wjsuPNF+kf6Av2GAfUALPlu8D3qs93pz+zUFek49Wzx299izKDHHMs70lfbYdrU2AnXPdIr3IznjOVx2oHO/NPa6HT+kQP6+nr5h/qp+hT/RAs0FNcL/QLoA/8KyBE0ENcNow3EClQDCf/cA9sHTAlkBkcAZP63/pcDyAKn9kjz7fzDCm8YdiQ8KPog/h0mGToSAw9BAeP/mAyOEgkgdi+4M+gw0yhRFdP/p/+YA9wB/Q5uHXEhjh9OGMENYf+y9RfvWvJLBQELZQU4BToCJ/7eAZ0K0w++EbsOaA02FscaaR3RIx8hyxw/JVIt0ySHHq8jOyHzGVsW0RY5F90RxA+aEJ4MTP1/6unpwOkg5cDuvu7P3nTU4tUU39vfBNwS4lzqie1P9SoI9A0d+6/qmO9v/7cHWgt+Di0LAAeMAHz8k//G+ZPxWfSY+6j50vWD/Ov5WPA956rc8+i1/er63OvH4ijjzuVr6wryWvIL+TYEMArlDL4HtwcRDgIQPBoYIpgeACHIKf0n9BXeB74ExwboC10O5A3LDKAPhBB9DMIBKvOA9j8AwAH8Atr/5Py9/cL/VQbmEAcc2yGSIhofGBo7HAEeUSDMLP40KTUcNA0w1SxUKi4oQiVSIN0c/hOsDmYW9xjgFe0MiPUb5aXnOe2H9XD/Hfm37irxSPWF/REIMv+5+FkG/Qr3ECsfvxwsEL4IfQzHFtcdFxlbEGwSARWGFG8RgAxCDoUKxwGzAJ4BogNoBBsBpfcw7NXq2+9a+hj93fD16uTsT/WQ/Bv7nABwB8gLTg6tB1IHUAu8CBcFbwMdBmoFoQRNCFEG6/8+9sjwOvLI8WjsXeD725rg+OTk7IDwGe/T6oPkx+fX6fLkienq8LHybvjXAlQFhwBa/2T9YvkD8q/sMvRh/j8JUQ8kCy4JWQO/+vz+oARWAqQEYv8X6rjkG+32773x7eARynjNstEf0dTgs+Yz2OfT0Nky2ljhluzf627oyunX9AIDMQPDACkDfgVICYQIyQmxEJgNpwddCJQE5/4mAZsC1/hO8WrzR/WX+vX5jvGr8mbv4e28+Lb61fc8+wIG+BCVFNoUKBHSEeAU5xMaGoQeoh/oJIUlrCdSKuYrxzHSLoQkyx6DH+Ag5RxtGkYXnBETE4kTkAv8/8/2CPq+BK8L3gw5CPQE6wI2/Tn+5wVdB7MHkA9QGLYcRSAEI3sg3BvKG4MexSCxJiUt5Ss6J2EixhwGGkQWDwoVAN8AnQG+A7EHQ/zs46DVO9RE2TLnYu8860DnreVG77AC0gZi+1r0SPEH93gMLBcyDhsDq/rX+bIAIAdDDLsIYvte93/6R/zpBj4PYgR6+P74Svg69iT1Y+5f6HLpDe6P8bvxzOqm4Qvg3t5m4Ofss/aI+Hz5sfw2/uj6+/kr+Gf2mveA9xsDYRNNF94QAASx/EX3QPKq91H8Jf6kAHf/BP5r/VD6a/Pm9Dr/awHgBOUJXQbTBbkKvBJHGUodDx2aFV4W+RtrH7AlCyeCJrMpyisuK8wsUzDYL8Iy2zQWLiMr6yslKT0faRPYDuELiw5ODiL+c/Ic81T34Pns8+HqAug96TvtpPbH+0b4Bv12CO8KiAlEC7gOFRODFMwVoR5SJgciPhnHDpEACvpL/k8ItwwHA9n86P1x90zuYOuk6CDmdeiD5bTif+py73/yaPRJ7b/r3PAi8aTxS/joAAQGSgqiC2QLAAxkBDz+xP+EAE0C2QUlDBINNgg+BWj63e5k6Gzfd9214T7nUe/V8v3vVeqO6F/jitlL3bDknOm08LXxHfVa+zj+4QDo/xQADQPOBTMLMA6IDwUSGREvDmYLxw1PFqUZrhUSEUEO0QqNByIHBf/J8afqMubx7uT5r+6C4Z7chtr84ovw3fhg97PvWO0F9gABrQWhBqwDBQNJA3D+UgPqBTL5V/dw/bQAfArgD4sK8/3k8Drug/G28zz1WvZ39Gb1h/ff7lfloOFg3ovdX9/35ULuq/FX8DDrI+p67yf09vmYACkBZf5CAsMM9RMSE5MLiQXkCNkLLA1sF9oZ3g3gCB0Fk/si/YABh/uh95352vtL/Yj9F/0BAI8JgBJ3Fy8ZiRThDC4KKxOJHlskmyipJIwg4yUxJ9QlHyjhKDUrADCnMxQ1RTN/MeIumSz6KrkkYiJWJRckJBxhEQAKYgEI/Dv89/xzAJP3N+io5yns2e/W9vD9Ofvk85T47PusACQNSQkXDdEcRBMlCtMMSgiAC1ASAhNeGtUbAg2tBNgCqPk8+Pr9UPnr9bD1aO0p6cPq2+yD74Dr6Ocm6GDoYPHH+jD4/fAH8A/6AARBAmL8fPl1+LH5d/0yASQCTAD8/Uf/SAB1AS0J2QpJBMMAF/qC8Yns7unu7pvxpOvM7Pz0Lfaa8cjxSPN788j3Ivtl/Of4nu8c73/3dv4uA8oK4RG5EyYZaxn1EFsP2wzRCtIR0BZNGeoaiRenEd0P5A66CS4G8gF3/R362PSI8hzxau8K86750/in8G/uEu7A68zvXPEO8uD4UfpN/IoAcfziAVMP6Q4cEgQb5RglGYsZthBUDqYQmBFMFnYSkgucCvwBcf1wAf757u9q7crqKe2A8aHuU+zn6fbnve3Z70Hv3vRf9cHwh/FK9Nb1avlB+6P4vfgK/nMCZgQbBkwFuwD3/Cn8avjb8iv0svje97nwZetW7MXuj+6M5znieObA6YPpK+vQ6wLto/KR+SkBSAPl/L32QfGk8Ff3Hfkx9wD8qwBy/zUBSwMDAU79TvgD+YH8A/7FAm8GZgVC/mD1NfDC7izxHfBF7tnqcd6t2OvZE9TjzxfSq9Q603jNasu1zh3SBdMn1ITWRtle4LvjAuWV7VfwyfGO95v3rfjJ+eTy6OqW6lfv//R39ozwJe4Z7e7obO1L81rx/+ti59zolew18F/ydPAn7iLuKPHV8t/zjPhY/F3++wEkByoNkQ9CDA8LiRCFGB0eOiHCItQfLx/uI4ckeCBIHgUiKyM+Hkcc+hsPFq8LWgpaEPUP/w/7FYIavxo9HK8hJiRPJE0pIy3UKqcoYyV0IW4hkiV4LFswVjCfKgsk3iPBIrYgRB95HCYbCB9gKIMrKCgUJt8hcR1BGmoVzBI9FYgRQgWVAFYAavwU/jT/0PV77LbtH/bU+wP+9vld8zH2f/hI/vAKJQmiA9sGowjBC90QMRJYDtwH0AJmBO0OaBHxBfr9hv4TAdMALAMXBbD8k/d8+cr2xvZN+gv5x/ce9b3vYPKu+tD9r/7c/o38DgCCCIYL/gdzA64CSgVOCgYQwxPnEzoLNgMbBQQGNAdSDsgRswpSBiEKpwZ/Ar0CAQE1A3kEcQcIEB8RRw62EJMTwRLBEVITthEKDqkPYBF+EAMUcBoeHUgdsRxbGPUT5hDCDx0WFxvbGrwaUBgKFXwQHg58D38LgAcvBnsEYwQ4+wzwHO9L6hHpW/Wu9mjuBu6K6BjmffL29/H5QfuO73Xu9Pkb+20BLwxVCvYN9g9EBwQMgw4aB7gIFAd1BoUNOQkxACT9cvmg99b7EfwU9E7wmu316nbva/Ib8x/yOu/L61zpBO9f8+LyYfPa8iz5VAJTAWb9x/3F/HD79QBgBkMFBASSA4UAkP1Z/iYAzQAW/zT3IvFd86b2DPft8wXwL+0P6/HuhfKU7+ntM/Jk+pX8o/it9lL31/Q+763znfjk9dT2UPUJ9PP1v/Yw+1D7qfUp85T2BPs7+pb5HPkL+dX79vhU9KT0jvPx8FXuaOkV4/XeBeJs54/lit+O24fabNs73yDmLOpd6GvkQeVT62HvGPQZ/jkE1APPAWj/xwAv/kL4Tv+gCdgIKQJe/F/3CvZp+3X+Zfzo9Qjuxez973bzXvHG7Ybt4+uu70D10PLa8KjyGPOV9fb6TPzz/F7/Yv1z/aUC/AV2C2QSxBHXCsEGiAlhDPIM4A3TDe8MjQu1CJIGPQceBsEDOAK4/sT9JQCVAdH/A/uf/OcFnw2LEEwQyRDODw0QpxSjFc4WmBiTGaYeXh95HPUa3hmOG+4c0h6AH3scbBo6GGQVUhKEEloUuxGjD0gHLP55Amn/Svff+bf0cu1Z8QHwmezL8KXzn/d6/Kj4TPZ2/O7+F/9KAkMCAgbVDr4OPAviCAoFZwieDMYKQAlyBYgAuf0w/Kz9B/0f+Eb00PO79MP1+Pj5+aT28PIV8Rv1YPpI/Ob+6/+u/nsAdQdeD6YRZA2YB+wGQwlrCfIIsAfIBaQD4wVMD9sRwwwDCwYH9gBBAY8AR/z0/fb/M/7G/eL9b/9JBLgJQwhhBXMIRwm5ClsNCQ4tEZsRGhFlEkQUhBX0ENgQsRNnFKYa4RmbFO4VOBamEkMOdhHuFOMSxg5RAOX1H/M966zrWfLD7i/ng+cr6HLn3u+N+cz7s/df9FL3hfv3AQ0FMwWIDPUQ4RUlHrcaFRREFLoW9BfgGUUcxhtXGoYUIxI1FBgMBwbBBwUJlAf7A7YG3QZKAbz+R/p3+KX9nQcMDVMH7wMOBrAL4BGCEJwKOgWQBUsJdQtiDOcJ3gjyCr8KvwiUCAIKfgXD/UL7Evtk+3z5VvVd8KfsCfHz9IzzRPBr7VfwA/e+/wsDngBSAFP/yv/CA+8JTg0ECpsISAmmCk8PwhMjF1cT4Q0qDaAH3ATmBFsArv8zAv3/UfnU9XPx5uhy48Hgv+KU5O7cHs/zxrXLldTx3sLnUebt5lDt3O939Sj9ov1e/VgBrAS6CYkPown8AjYIhg0AEuASJA3lCVUGEgA++RTz7PHS8iDvsOmP6mftO+tl6fzocOe+6EDtSO+47aHsL+/E9F34hfqoAU8HMANZASAGsgVvAiEBDQDfAioIhgmwBXACnwRPBbwDXgW9BHkBrv5c+/74gPrw/vX/3P90AdoEGw0IE2YTtRKnEi4U3hjRH+QhzSGeIsseCxrlGNoYbRgBGS8YwRI6D4wRXRMJFBQS7gb/+lH3R/WY9QD9Uf4x9d3reOL/44/wTvWY+iT+DviI+wQE5wWSB3AETP2e/xwJAhAnFMoQPwpsDrQWkxnTGGwSewmmBZ8DkwR9CGsGcP799qb3QP0Z/2f9XvYh7jruEvIn9J33dfdZ8onxnfMG+MP+0//i/bj8X/s8/3UFBgTw/E33bvdB/qAG/ArRCHwDy/+A//4DXAXC/vf2tPCu8Iz2yvi99/f27vbc9g75Iv5w/U38Uf9M/Rb8lALpB/gFzAPkA7EEiQv5ErIUNxWeE7cSFRcEGicb4Rg+D1YFGf5L+mn53/p4/BH0muQo3q7kfels6hjt3OZY4xbseO6m8LH05e3E62P0XgBOC1ULIQX5//f+0AQaDWISTg7WBvUD6wFzBLsHggQu/wj5vvnr/UT+Z/4n9FTqhu1V7ezts/Mf87rsmOgj7w77rQOoBssBqf4KAVUGNA1/Dv4OHw+UC5kMNQ8AEGcOSwsmDRgNyQpfC0wHAgAz++H5c/xP/GT4o/bf9A7ysfHX9G746vj3+Rj8B/0l/qL9hf2l/mkBCgiXCzgObRAEDfQNhg9wC+kLag60DRALUwgQCkcKrAIT+RX1g/Xw8V/tCey65EvWNtGt2Hzd898y4/bhDOCe4RHo7O1g7JjsFvGf82f66QPJAkX7nPpK/mQDbAnbBz4Bd/uf9xD7jQBo/mT3RfSc8zLxffH98yDyWe1B61jqle3t8mLxxu7r7HLsi/J/+uwB1gIz/Gj5tPvjAM4G+AsQEKsOOwswC1wO+g/QDMAK1gisBg0LQQ7nB7YABP/6/kkC2gVCAq4BCALs++n9ewJx/qQApQhkCg8OEROyEckPhAwOCz8NJw4eEy4WphUoFaURFhSkFiQR7wzKB9r///5XAtf+KPcl8RrvU/cVAbz+SvzR/Pr5ofhO9cP1Afv8+C72cflV/Xb9Av++Aq4E1AfVC5sPow1MBtwDZQX4BiwHzgVXBOcEFwpzDOwJRgn8BVgA0PvL+Ir6b/yt+8v42vhk/igATQEqAz//nPon/LIDpQokDpsNuQliBx0GtQV7CTgNqwsLCngN6w6YCucHLAY1BBMGYAfjBgsJ3AqdCFgGfwaYB/cMBBSWE4ES5xQSFBsVvxaDE+8SYBTtEjAUhBZ3FWsVCBa5EC0GJQE2AuIBWgHR/9b4iu5K60Hv7u5U8GP3XfiG9W31EfUZ8mbv7PBO84j1H/r8/YgCxgNI/64C+gt6D0oOsgw5CycI2QXjBjIKCwpdBG0BiwT4B6YH7ARvAJv88PzZ/VsAuATEA/8AHAHZAowHjwu9CtEIAAu+DlgPMA/oDsAOsgyxBjQFvAjsC8YONQ/rDkEPww18DXUOegqtA2QC8AXIB9gHTQgJC/gMrAmyCeIOWBGIEnoVlxT+DsMPYxadGx4dMhpdGu8b7RhGGDkaExgPFQYV/BMBEzkSIwzPBOsBUf9u/fz/P/zP9BnzwOn14jPoMeZ146/kbeD94RnqLuk25nnp/eeO6BvvF/A582j1cPPq+wsBj/0HAYsBe/yO+4z7Tvu5+1D8dvxI+gn41PmT/H33eu9N7QDpE+QS5xHpXee254Plp+Pb5ujnuecu6eTpuevr7Hfs0+5G8czuPOrD6YLvC/QQ9EjzkvEL9MT3EPbF99D5X/SG8WvzOPSR9pP2xfKj83z0Q/OO9934G/V0+Sv/rf1s/uEAogICCYkNvgyHDEwOhxDBEBcSphN9EgsT5hDRDxoWNRenEZAMUgc1A2QAM/v19kn3gPE45wjpjO0p6yPwyvMo7sLuFu5s6/7wJvGk7YDw7PAs8kT5aPwX/SUASwDg/kkCfATOAwoG1ANfARYE7AA5/nEBcQHnAVwDygDQ/77/Pvwp+Sb3CfRt9OD3YvWP8uPzrfFG8uX1T/Z1+IT4LfVd9GPzCvNq+Zr/CwATA8MGXQmkC8EGqgGaAr0EVQZoCFUJqgYcBJ8Abvxn/ZYA5AOqBd0DgAH7AH8DGAbZB2YIbwdvCXoODxJMETQPogvUB4UKLA38CxYOxQ8jDMYItQX3AGD+kvoU+G77zvkj9Mvxlu5L7cHvE/BF8HzxLvCl8Zz0GvAa7XLvS+9Z88X33PZv+Zz5g/cT/yUHeAUJAQz+Gv2J/wYC1QKZA6MBsf4aAVIDmgOvBM8BNv8GADb/rP3n+hP2k/Vf+7YBAQZSB1oD8/95AXYCcwQ7Ch4MuwgdBooG8gj5CG8G2AXvCAcOJRJLFD4VkhOjC3QEgwZZCkgM2w70DjANmAxIDCcN4w+VDtUKYAvQCsoIig1KEckPqRJDFAgTKBWmFeYWTxt/GkMVLBUpFwMWEhXuFvAYNxVpD1oL3goqDkwOrQ1vC8wE1/9H/M/8IwBc//r86PiL92P8OwC5Abv+2vhE9n74bv+aAL/7zPtn/pwBOQapCQQIggLBAqgH7wrFDCoKhgXVA2AEbQYEBzQFcQIU/yT9wP/eBAECV/l99uD11/ca/O/7qvx6+zT3bPei+kD+AP9j/XP5tPU6+Dn6Nvsr+1n1CPXl+z0CWAcgB30AMvlE+RIARwZ3CVMIQgU8BDcGRggIBd8A9AFlBRoHuAVgBDcD8/1I/MYBigLDASAELwKSAH0BbABlAqMHrwmoCvMKEwejBtMJAAc+Ap4AFP8E/9MAKABp/37+0vn39yP8bP4q+UT09PQJ94/79/5n/hP8Vfa08qn0gfY0+f77NvmZ9Xz4rf7sAAr+1vk2+Bj5QfsE/p3+PPzk+QX7Qf1z/Nb5yPhm+d73D/at9x734vOO9Jn15/JZ8bD0WPhX+dr7B/3O+zz9qwBPBPYDDgJpBd4IZwZAAX4C2Ae+CSQLtwrjB9wDb/+2/ycCIANqAJH7a/w6AIgA+/zu9/L2wflU/KT+uQCyArUBc/5A/oT/MQITBcYDHAJQAUQBaQMpBOUDwQPFArsANv8HAdIDtQTcAe/+vgFhBHgD5gGHAFoBUQHjAQkGOQV0Abv+pfr9+Wv8FgETA1X9dvd89JXzW/Iw8jvzy/Co7eLq0+ww77npFea/5KXkaekS7OrrV+mQ5Rnni+lV6gPsGO3W63bmC+b57EPv0+4B7ZHpD+xi7yfyv/bu9FTwo/Ha9o36/vmg9iTzLPUp+r36ovoT+4H8p//OAEUCygQ2BsQGmgdYBu0BIQO8BnQGrwpYDtQKrQh9CtcNIA5ECIwDFAS9Bn8LLw66CiYJiQs6CgEHaQbdBMMDlgeNCyENgw7IDUMNKRGgFYcYvhlvFjsTwRVAGQoZthevFscTtRDBD3IPJw8aDb8KYAuPCuQFGQHi/4cC2wblBmn/vPqv/EP/PAAr/sj9gwDm/n/5APdj9kz0ufSi91r4l/ku/Fz6YvXW8C/uoPGd9/n6efv894X1TvjT+tD6svp6+6P9Jf/t/4YAYv8pAFYDtwJ/AAEDNgfAB/MF/QTJBVMHwwhLC6MN8A2RDNoJHQryDAwM6AmCCKoGwQcjClYIogNdAJb/WQCJAN4BgQbJBy0E+wFHAhAFDwmgCxsLTwf+BeMGkQVABfYFlQUwBBkEJQcvCSQIOgWzAyoGhweMBjUIowmOB8wGRQjmB3sFgAM+BGIGAAWoAUUC9QVAByEFUQOXALr89vur/ZEAbQNWAmn8S/ms+pj6FfvO+gD5JPiG9if4NfuJ+Qr2//Mo8yLyxvP69vD18fR29b3zWfSk95n2ZvS99137vvq++Z/6fP0qAJn+Jfry9/P5Av1C/Nb5Q/oT+7f8+gB8BBkFrwKV/279YP6aAikDRQEDBK0HegeIBbQDEgR2Ba8EBQNFApMFRgrpCa0GgQMHApoC0gNZBuUGZgRNAxMEEwaaB94ITQwTDakKXAlUCIwI2gl+CrAKfgpmCu8KHwxjCokGAwe8CyoRAxHSCq8F4gL+A5IGbAeJB6gGzAa/BN4CuAO+ARwBaQAS/M/6jvzC++P3u/K37mzxVfcK+an4LPUc75Htde/T8VP0YvIP7h3tQe6272TxV/Ob9AH1FfVb9fz4qPvP92jzOvLD86z2P/lp/Kb8tvdZ9F31DPfc+Sf9dPvQ9Zn0//dZ+yQAmAIkAPP+9//5ArUGKQXMASYEwQfnBkEEDQL/AMACwwStA4oD7wYPCSEJNwdiA4kCpQS9B9sInQZ7Br8HmgeGBoMFrwdRCv0L8Q4zDuoJZAjOCBAKngy1DccN4A2WDEYL1QuNDB8LogvtDIQJ6AaKBu8FbwXmA34F8gggCK0FiQNt/wL99/78/nP+p/+7/aX8t/vC+af87/1l+736bvkm98/3/vjW9rD0uvRS9U/29vXR8vrvr+2I7VHzFPdZ9eDyOO/u7Ynx8vQ69gz3Z/aC9nH57fnD+an7LPlA9VH4Y/0B/gD8Tfh39qH3N/gf+u78Ov0g/r8BhgEw/Wr7CvxB/qMB2AJAAQ0AxwFPBWIHwwd1CBUI4QYxBikF5wWtB04HvAZIBl0E/AKzBNEHcgdTBBsBof5p/yAB9AEyA08D/ALDBWkKGwzqCp4IlAfnCYkN2RB+E/URKQrQAy4EVgajB9oLBA5PB6ACOgKC/9T+cv54/M39ZABkANz9jfeF8DfxE/ZY9o/1Lvel95L0sfBX73/xyPbw+uf6WvfW86L03/i9+9H6Xfqh+wP7jfq3+wv6cfbg99b6zPpJ+8X6/vkf+pj36vY8+wT+dP1q/GH8af8iAtkBMAAk/lH9Y/zA/V0A1f7w/QUAlgS/CNoGzwLL/rT7VPwk/i4BOwN+AtIAXP4SAEEEdQUBBUsDbQLAAzAGBwcPB7QIcgmJC/4KAQWbAxsG0wZMCJML+wy7C+8I4AZBCFwJAAp9DAINUgnsBT0GJASd/yEALQOdBMQByvx2/Mz9of6I/lD9Jv7H/bP8Zf3X/OH6k/eq9eb3Yvkr9tDwju4l8KjypfSd82zxc/Ad773wc/K88nLzp+9g7gXzvfVN9Qb0wPOx8irxHPB87ubuV/HQ8yz1APSU8xH1E/Zv9nf1ufTV9LL1i/fd91/3AfjG+E35OvuT/K37PPtK/Jb/IQOYBNgEvQSiBakGfAbMBa8G6wgWCX4JfwvmClgKDgtBC8sM9QvzCZ0K7AsBDTkMxwsGCyEL4AxUCQsHYwkbC4kNnw/mEKYRWxEtDoILyQ8uEnsRBhPdEVQROBAzDSYNxA4BD3MJUgS4A2sEhwc2COoEHgPGBK4EoQHW/+T8EvuJ/W7/Lv/C/bv7ePou+jT5vffW+CX7Rvsw+TP2XfTc9Jr2cfeA91n3d/Wv8lzxvPGp8/T2qPix9wD24fMU9XH6Vv1k/Xj92vx2/JL86Pv8+vP6gf0pAPIA+wCX/tD8Ov4k/0X+qv5MALoAIQFPAQkB4f9L/hb/4wCsAY0ARABdADr+ugDMBTAG8QUTBg0FNQYmCTMJZwiVCiAL9wl0Ct8InAdqCvML8glfCHIKcgyUC+8KSwnwB5gJmwv4DM0L4AoTDdIKKgaSBxwNrw9XDO0HGwQXA1wGvwgsB2EBCP/iAZYBfv4i+z75IfnE+Pb44/gX+gr6yvcC+i36gPgd+vP4mfh9+zD7GvZd80L0qPRc+Uj8PPhR99H3w/Zm+f/79fuH/DX7EfpW/d7+fv1d/Xz81PuN/qcAiv9w/br7bvxo/V78s/28AEQAy/3u/E/+BALgA38A1f03ACkE/QVPBvkF9gNtA4MEmQIQAcMCGwU9B8EI/gkxC60KTwg7BywHbAZjBwsJIAkyCV8IUQaGBhoJagqjCl0LUwnsBZsH6gsrDQEM9wvxDOMLOgl3BaQBTAAhAcwCyQJ5AOr9Sv0u/wcAzP7P/T/9IPwI+j74Mffj9BDyP/Fy8xH2R/XK8gvvc+y07sfw3fA671HrkOj45nLnwupO7B7sKOyF6mLn3uU655zqn+6k8Ojw1fFy87b1h/d09ur0PPce+wj9I/75/a38J/0P/dL8Hf4N/X38/fz8+iD8jQD5/677ivpu/FL+K/9H/n79dv09+jb4//tJ/pf+/v+jAD0CbQRtBSQFYQSUBHQGzQrgDMQKpgkYChgLZgzKDNgKLAljCpwKXQooC8kKPAs8DU8OWA67Dc4LCQu6C0oLVwsdDE8MAQxdC+cKdQpRCUgGeAOpARkAvAE7AT/8mflC9/j0EPZi9i7zfO7V62Xr8+v57gDvrOsG68/pYeoV7lLvIe537ODsYe9f9Ar5k/jS9fbzC/RY9aP28/dl+lz7c/cX9IL2JP3GARMBav4A/Wv9Kv4h/3//pv63/ZP8hfwQ/cj9vf0T/LD64fn5/WMDOQMYA+MC/AHUAT4AuAABAwUFsAbDBtUGoQjCCpIKRwvHDQENzAmKBg8F5gaYCR8LoAwQDtwN+A1bDvsMJQwlDeAP8RM+FkEVgxOFEigSQxFrDXgKTwvrCx4J3AQMBdIGpAZwBjgEtwEZAA////5c/bv73fsv+9n5dPmx+Kv30/Xu8qrxF/KM87P0BvbB9ZTydvFv8aXwc+9R7/nxgfMl80n0AvZG9P3xRvKh8uP0a/gg+w39IPwz/NL/gQFVARsDLgTMAsQBigJoBHUFHgUoBbcI0wxDC3sJkglHB1UGCAj9CQoKtwibCAMJ1QmKCT4I6Ab+BK0FbgYKBsUIaQqOCaULdQ7ADeoNjQ8ZDtwN8A93D5cPAxEND08MAQsdDFcQrBGOEMcPlQ9uESATehSAE3cRDBA3DEwL5AvFC8QMAAo2CDUJXgqNDKYK1gasAwIBYgFtAqQCjP6P+KH4+/kK+X348vZ/8/LuouyS7XrwLvQ584nvEexu6aTtefOU9Ij0pfMn8gnzOvXY9AP1cPYZ9Jzzu/dw+b75M/zG/Q7/HAF9AF//0v8zACkAi/76+9/7df5B/iT8+fyQ/Tr93P0o/rn+9/5s/qX/2wIyBEUBhf81AYoCNQP1Ap0B6/9yAGcDVgXeBnMHLgdoB8UG2wbbBwEIcQjACqIMZAufCS4JswlaC/QLegt7DMUM4AvODKIPgRGoD4QMQgtTC+sL5gwsC4QGpgMAA7kEPgfZB0AF4/6R+wD8Xfz//Ff7ZPix9T71yvbR9PLxc+867GTs3+1Y76DxY/D86wfoleZk6bLt+u7P7czs6OxC76Lxq/GZ8cDwce5/7rTypfZU96r34fcw94D2pve8+yf/1/0u+Hz1mPdm+Er5Lvqf+Hf2APU79j743fkd/AT9Ov0X/VL+4QAWAXkAff9V/wkCXAOsAhUCdQHOAi0EkgK3AhsFmgM8Af0CNwS+A1MFCQedBrIFqQQ2BN8FYwitCn4L6QqAC/gMeQ5YDcUJ9gYPBQ0GZAbWBQYHnAUyA7wBdgLYAmT/i/30/I79FP65+1T77fiH9eH0PPIo8jzza/EV7w3rk+jX5zzqOO/E7hvtouxa667sZe/W8Fzx5PKk9NrzmfFT8SPyfPHJ8HvwdPFY8nrxmPIa9GLz//I09Wr4XPg1+H36uvor+6T89PvK+7X8I/4wAJQBiQN2BLcBVP+bAbgFfwakBHkD0gQuB10GIwRvBXEIKwpcCzQLdQnrB9wHTQkzC6EMlQzODPIMhgu9DFoOcwzjCtAKWwtpDCYNYw1PDVwMewt3DfAPTQ/9DZINPwx5CjcLzwygCvMFMgOhA2wDtgDE/d/7Ef05/3n/7v53/J/5KfkZ+fr3P/fc9Z/yCfHl8XbzrPSs86HxxfAD8YLx3vIl9BHyy+447pXwXPOe82zy0vCG75TvqvHI9UL3U/RA8jL0Efc8+XP7yPqO+Nb4ufpf/QIAowAg/1r+9v8QAtICewBi/If7/f6hAy4GgAezCc4ILgY+B78IkQmQCpcK7QkoCfoLVA97DoANHQ1jDS8NwwumDdUOzwypDEYNuQ10EEcT3hHWDk4NTA2jD8oPIw4JDkwM0wruCjsLaw1dDUMJCwe0BtQGWgeEByEIjQgjCFQFyQJNAmoBkwJmBEEERAIPAMEAbwDG/Z37o/lb+LX2PPXu9k74/PWU9Gn2PfYH9O/1Zvj09+v3KvYF9VH30fcd92n28/P988r3APq4+JH20/YH+dH6oPt9+wj8FPwX+kz50vnd+U37cv7wAGkC9QMQBIwCewLVAj4DqQU4CC4KJw2oD/0OxgzwCowKuAshDY4PARCQDbkMUAzmCv0JkAifBrsG5Ag4CRsH0wXKBDkEkgVTBn4GeQcPBz0GJwlMCyIKYgpNDP8PbBKoEN0MWAnNB9kH6wgMCBcGfwaPByoHHwX8AooAv/5y/vj+mgBjAO/9Bfyt+eb22/Xe9CL1a/YA9GzyrPKO8fvx+fLc8ZXw5/LX9lr4avcK9TzyoPBp8rD0efRc85jxwu8A73PwmvNA9Wn0NPPl81v1uvb3+C37GP1k/bL9KgGQA18EOwZ8BuUDNgG2AIcBYAPJBIwEwgMIAlYCXAUYBq0E1gNmAj4BXgOsBAYDXQPhAzMDdwUGCX4Jtwd+BvIFdwaJBWkD4QRGB3UI9AimCvkLnQncCrANYA36DSkNDgyfDEUOPw9KDlQP0wx9CeoLgwpkCPcINgjwB/cD5f/f/tn88vx7/Nr6p/rn+tT7kPgP9NHymvLO9Kj1YvTe8XntLe1S7uLuVfBl77vuTu477XzsR+zR7UPu6O4j7y/tl+3M7aLsoezx7WryQPVL83XycvMU9En1kfY09z33qvcq+Qv7Iv0w/Z37g/st+9b6wvsC/qAAqQBW/zr98fs7/zgEGQWHAhkC9QKsA34EjwOAA/gC5ADMAJgAuwEXBeIFYARZApABYALNAyYF1gOyAjsCLQFYApsDDQWwBWAEPgU7B/AISgrECfsIFwmfCTQLCQzqC30MHgseCKQGSQjbCcwIZAj3BpwErgIJAJb/CP+//MT6n/j/99D3lfYX9Izwpe8D7wfulPBR8hzyQfJR85T1mvTO8grzHfLh8QDzAvUc9272XPTc8+zzTPNC8+LzQPSD9U34fPmh+Dj4T/jW+Hr5b/z7AFEBg/7P/G7+WgGJAeUAvADt/zb/T/8E/0f+FgCjApECcgFpAGL/+P7R/lf+Cv4a/kkAqAO+AwoDdAToA0kDTAexCkoKxwccBGED4QbkCnQMuAxPDX0NPQzRB3gEywdhC84JJglgCkQJRAqYDWkNWQ0mDkMMZQvSCowIpwc2B5QFBAVYBfMCyv9U/fn5LPjp9p301fLr8LPuAu1x7H/shO1+7izsGOvt7KHrgOqR7OvsfOr865/v+esl6pXsMOv26mzqj+oW7tDuTO8J8dvvRvCt9N/29/RH8633kv/MA5oDVgHGAkwFOAMJAlYCswPtBmcGtwTxBrEKXQxDCqAHVgh7C44M7QqXCrgLdA3VDRsM4AuaDcAPshCpELMRXhJDEuMTLxXIFAwVFhQVFPwW2xfWF1sYLBjAGMwaVBvBGCcY4Bh9FxoWARXGFVUYNhn2GNUYuhh8GeIaXBuJGv0Zqxo3G3cbWxu/GYAXHxVXEu0QdBJEEpAO7QpWB54GbAfvBqgGIwMfAAkC3QNqAvn+DP5d/t/+VQEsAMr9f/3e+g/55PiC+P74v/cx9Qb1GvYg9rv1f/Nm8J/wLfPJ9GD0M/R484Dwse878SnyLvMN9AzzZvIz9cv2QvbM9+D5ZfoD+LH1PPZv9i72t/au9h31l/Wh+Gr5wvh594n20PbQ9ev1n/cJ+I/4TfsI/kb+QP6d/MX5ifkp+cT6rP+xAd0A8P4Q/UT+eAAoAMr/+gDhAVsDnwP/AKP/wgCZAUEC3QOSBF8E5ANaA3YEjQQmA2kEJQeICO8JSAoVB1cFzgbfBpEF2QJMAHYALQIuBPsDbQKMAEr+Hv5e/Lz4bPcO9lT0aPKJ8Ffwuu/k7Wnqf+eA57HoFOtZ647oQuiA6i3s+Owg7v/ufe4l7wfx8fEs8zn1LPaa9lH2UfQ39MP2+PgG+kD5Svgz+U36Tvz//YT7c/qd/dz9+/pl+Gz35vlV/Ln70/pv/Df/OAAbAJn/bABZAkYBfgCtAcYALQC+Ab0DDwa1B20HXQWDA6YDkAPYA4kFZwaxBpAEjAKdA0gE5gW+B7sH7QVdAyAEDgaoBxsIDgZhBsgH8wdsB2kFYARvBGEEHQSYBCYGPwZFBbwBVPy0+uz51vfi9QHz1fFq8nfyePDF7Q/sgerL6nboHeV757bo0eg76pno3+YS51bnb+d86THq2eUv4+viceOB5WzmK+Zg5Zbkx+Kn4fzhy+Ox6ffspuux65jsqewh7cTu4+7I7pryt/bx9nz2jfdq+Rb8vfy6/J3+mv4C/1kBbwJiA0wEnAUvB+AIUApFClcL8gtgC8kMbw6YDhYOgg5QEDgStxJhE6IUlBTSFegVhRO9FOEXyRfiFIQTJhSYFOQVaRbjFZIWRBbgEzETfRQOFWMWaBbZFDQWAxe+Fh4Yexg3F1QVRRT4FcQY+BghGJQZeBnxFkkWeRZgFtEWxBWyEY0PWBGtEIUMfgeWA6ADwwYNC6AMfwkMBWUAjfx5+h/6RfsT+x36lPn+9SzxTO/a7jvwvvGl7wTuDu1663Htoe8O7rrrjOs77hbxNfDZ6wbq+uxx8Lf0UfeO86zvgfCF84D3Tvsq/T7+/v+J/+v8Xf0U//7+l//bAMoBuAFnAYIBwQG+AqgBowH2A40CGAH6/9H9Fv8nAuwEQAWFA7gC4QJoBNEEcwTnBYQGxgdHCv4J5gjqCOYJwwwnDzoPuQ14CnEFqQKiAvAAIAKtB/8KUg7IET4SRhS5GKccqR9/IL4fJR64G9gZfhmAHOAdxBo1Gmka1Rg9Fy0T5A3yCUUHQQUsA+v/Nfv59mv0+fME9fj0QfTP87XwUu/c8D7whvI09IPv1Otl7Knt4+778OnuceuJ7O/tv/AX9e/0u/Jm8q7wmO+X8iH3k/zn/1AAvgBzAAH/ef/tAmED1QQlDIYORwzPC68JOAcLB9gFmAGE+8XzCOyk6EroIugY6zDvQO7X7U3xkfHe713vde+98gr4SfsO/Zz+IACqAigFNgi6DHwP2hBEEUcQ5A34CPgFlQSgAqcCvAInA+MClgHNAooE8gaBClMLEggzBCUDzQJ2AKD9d/wf+2763fzR/Sf80Pgz9U71gvbG9Z7yjO5C6zTri+4X7gft5uyD6wztmeu36b/qX+sF8ELyvvAs71DtQPAG8x31uPWV8JPvlu9J7cXvf/GU8ZbzgPTa8+byEfE67+bvJvIF9Cj2G/nk+xn/VwH+AqMI5gsLDJAOBw5iDfsNogt3CK0F6gN9AMT9rv0U/qICZwTN/on6BPjq9mD6Qf6c//MAEQGEABgEHglzCnwMUBJRFLoUNxpDHhIfZR66G04Zmxd1F08XhBYqFzsYTRkOGhobGBw6G0sbCBxNGhYaHhwdGqoU9hD3D7IOOQzXCu0KKAswCIEBa/3u/1sF5we+BgMEzQHMAVABa/+T/ij+0f4qATcEVAYoBuEE+QIKAuoBkwBJAU8ELQWyAtf80/Zf9KjyUfGN87727fgb/KP86/jx9Qz0EfC77HbuHPJU9g76/fnC+rn9IP8C//P7A/R362vom+g+553lKeSi4R7fy96n4PXhc+G8387eueE15oDorOqj67/pQ+hg6WntpvLa91D8//4WAr0GswsREaQUnhKBC60FAgZWBwgEtf8BAH0EVgfHBC4BoAJlBVsFjAg0EYUW8xPsDi0LNwsZDpYNVAy7Dv4Pyg0/DEIMzQqKB+0EKgZgCW0JJwc8BDUBav7o/Iv/lQG8/ib6tvZS+Mf8e/tm9/L3V/ki+Yv7NAE6BlEGBwJ3/WP8wACmBloIswcaCTgK9whtB3kHnAiOCjcO0xBTEmgTyBEyEoMT7A8aDl0R+hBOClcE6vvR8MLwYfWR8sPuPOoY4y7gAeDy3irhouMQ317Y29rw4PDgPOQO6YDnv+bL55XpGOvX7EbzT/jP+cj6N/1xAd3/Y/lr83fvL+237qb2yPpz+Ev2lPTC9Yj7IQJbBGMB/f0g/88DzASNALb9gQBOBHwByPoz+Jf4Tfar9Q759fgO9iny0+wF6ULnmuXi49XkauN332jg+eKy5M/lnueP69bt0e6m727wnPF68njzVfH97Vnv/PNK+C77KP3A+3n7YAB5BIwIewotCp8PlBbtGZ4aWBo+HKIfVCO/JtImACKBGx8XlhXOFnsaYhuAFNcKYwXgBcoIfQynDkEILAC0/fj+TwMKAqP8zf3p/8v9Kv8kA/gB2wB9BCMIuglhCZQIgQlYBgP9y/aK9J30v/k//iP/T/4t/coACAeWCb0IBge1BucHYAkWCV0GtwUtBxcKzg7CD7kN8gwqDCcL+gu5DV4N2QpkCXoKFgsjCUcH1AdZB6wFZgTw/7T9zgLeB+QIMQldCXMHWgfnB10FigZACkcJrwiSC+IKZAfHBlIG/gNtAacAMQNMBG0EGwo2D3AQoxM7FbsUuBiHHSAbXxReEzgVhQ+eBukCOgZgC0MJwQB3+JH2efyYBEoHdQF3/c8ATALm/sH7ZvwqAIYCQAIqAk4BJ/4u/7IG3QlsCbIMGxGbFvsVIg3/BisEn//m+PT2WvdV9tP1RPGT8FT1dvnq/w8DK/269xz8N/6n+Z33ZPQv8uvzFfS48g7wu+md5bTqf/C18bjyl/IU8dzwa/K29LL1PfNv8bPw3+2i7gLyvvb0/h4DvwG2/cv6c/4fBQAJrQryDDQNDAzsDUkRrg6MBTEDPQi0Cz8NUQxeCg0Lhg0oEfkVZhjYG+cgvh97HRUbUxSAESQU1xWjEZYK8wiXB90B7/37/7ADIv8F+FH34fcD+bv6fvr39a3wNvT6+Xf6uPhG94P6Yf9Y/0T/vQfcEGUSHhVpF/YT+Q++CowGqQWxAYj+WAAX/474+vIK8F7xDPqiAEz/Vv6f/kP66/JA7gPqyuYF57/kteV76XjnteTC4nvjtON83hHa0NhM1yTUy9Yg20bXKdU42L/YEtUN0CHPz9Rj3LHg3eDj3une/N964rTnwulP62Tuhu6i7hrxvPN+8orwCPC97EnprOjl7LPvvO0M8un5sv2QAScHUwumCzoI+QZuC3ENmwqQCHoHxAY6BSMEEgeVCTwISQmkDF0L8AdjBkgDJ/2A+60AuARvBMoCwAS5BxoIVw1XFDwWThfcFjcXnhkOGPITZhB/DgYNew19D+0OWhDLEpUQJA0gDb0QwRT/FdwW1xmpG7EdHh/FG8QXwBQhE5kPnQn6B3cGxQVHB0YGrwbhCp8QaQ+qB+4DWQOYAKT5yfUX9kP02/Xc+Z/8Tv7r/QH/dvuM8PLrNu/a79vwlvX/94z5PPop+ZH3xvG47Gvs+uyr7sDxwPCv7DHvTPRX+Fz/zQJXAioG8gy+DgwK0QQPBTUJJwnBBfcE4AWpBO8AH/6rABIHAQnHBnAEvgEWASABiQE1BNYE/gPtAgf+LPjv96T+TwbXC/EO9w5WEZ0VPRUEEDEL8wkiCCwClPzo/Kj+Gv5k/8D/Av1F/MH+YwJwBW8GjgaYB2UIjQiuB+ADuP6M/Pr/7QWmCHEIVgfHBSwGwQUZA0MCHANeBTMIsQdwBZIGOwk3CeUGHASlAR4BdAAr/OT7+P7t/fP9nv+ZAnoFpATiBIYDHAAG/Uj8DgO2BJf9F/jI9Gf0JvRz8Vfvq/Ln9+b4rPxrAXoEIAkYCfYEzAGB//f9SP0L/Zr8kvnL9Qv2Dvij+aj6Gv6ZAX7+Rvwf/9oBhwBG++z2MfbD95T3O/lw/Mj90ARnDj4S3Q6PCkENeBDMEUwTFRIQDmAJSAl0CjYI8AU+Bb0FagTYAokD9wbQC4kNvg4ED/UKPwbnA28CWP+C/J/7Q/3C/4P+Wv1G/kP8hvnf+V/7v/tU+/H3QPLY8FTy7PKG8c7uW++h8nr1efUX8tXvGPAN78btA/Cl8+z26vg0+Qv5JfhF94L2EvWq8qvvpOsP6Jzpzu9B9W32K/dn+RT7MgDCBD0BNP1X/iv+xvkr9y32A/Hf7EPrsuhr6WnoGOMC4dnhxuQ/6dvtsPGI8Kbrqeit6GTpnOgO6irwV/M+89r2jvyfAZsGvAkLCSkIIQpYDQIQ9ww8BZQBGALfA9UHKQwGDWcKyAcPCKENExZLG8Ic6xtdGZQWwxPMEu4UoRSeERQSARNXERoQbA8fD/YPjBFQEsQQFAxdBjsFUAY5A3X+h/wX/Qv+wv/rAhgEWgHEAIUEqAQTAdYAAwRLBr0Hew3hFNAWdBQDEs0QBhAeD1gNZwt1CXUGZgYaCoYOghMPGDEbcxuSG/EdBB2QGv0YvxSEEhET5hFfEAAOfQuECSEEW/4H/tQAgwQlB/MEUAKoAOz7RvfC87/wue/v8bz2ZPiG90P5BvwX/on/3v58/u0AUgJMAGH70PZ29H7ygvJu8abuIO376wvuj+8a8AvzRfOR8l3zzvMF8invrO+O8CvxnfKm8cPwi/D37n3v0/Ez8hTyR/MN9Ub2cPea+Kj4QPns+Qf6cPr8+sv6N/fv9SD5f/ku+m37bvqs/PIBcQW1BWoGKQl5C1oMJApPCEYJvQjvBq0G/AhOCy8LgwuODaAQahOpE4QTyhXuGJcb+BpnF4AWmBUAEikN0QjTBxwG4gEn/vT6bvoR/fEAsATnAlr+0f+sAt4B6v9Y/iX96/w+/+0BDgP4AhYEUghXC/QM6A5hDwoQHQ+VCm8H4gXjAtv/dv4t/aP7Bvzr++H6UPvj+0L9fP/VAXsD/wG6/sv8BvwI+cfzoO+r7ajtxO767xXxCfMJ8zLumuqD6ejlsuHD3kjc/dsw32zit+K/4Qvf/tqu2YrcxOBA5LTm6uWk5dPp9O3d8f31KvbZ9Nf3tP3tACr/ofpA92L2r/a099f5sfyC/kr+gP5aAQMGWAlvCWEI4AfcBrIEyAJHAg4C8QBnAPb/vvzq+ND2/PQW9Zn5kP8KAnUAbvwh90vxHe0k7U/uK+6P7ZztHu/R8hr5xv3QAMADeQMRAuEBKgEoABMBaQE0/t37F/vt+CT4Kvtl/20BngNKBmIGTQbRBQgFoAaBCZILVwvrCnUKogmoCuYKrgoADFsNzQ2iC3wJHQq4CgoK+ghCCG8HkAZUBXsCN/+5/Oj7uvwa/1gCQAIqALH+B/xG+3v+8gHxA4EHgQwbDqQMCwo3BmACvf8h/zMAtgFSA4AFSQdWCCUKKw3KEOYSYROEE+kS/hJGFbQW0RMjEPMNyAvACdsHbAgaCVoHsgXFA90DfAYRCFoHeAPd/rP9xP+iAhUFpgURBDgDEQWXBxsJXgteDqMQlxLdE54TVxQ3FmwTpwzqB64EtgGYARUDOwNEBJUG9QYTB1IIqwjhBxwHJgmMC74JcwWkAWYA8P9Y/kj/xgEBAq8ClAKV/6T9uvuI+I31sfPp8271k/du+J74Ovj59Bz0e/W78YLum/Bp8r7zhfbi+Yz8A/7lAIsH3wyiCykJGwdtBPUE6gdGChIKyAhvB80FFgX8BCEIIg02D0oQ/hFKEz0UTxR5EUsMogjZBbwCwQB//dz6EPvW+lz84P+GAlUEVgOXAJ7/bf+O/Y77kvoR+Av15fMD9mX7sP8FA5cGFQiqCQgLYwo7CTwI+AgJCroJEgnuBx4G+wISAhMFagbkBQsG3wZaB2YGngfJCiIK2gWpA7AFmgbeAwQAq/3H/vX/l/+6/8r+9vtr+W745fen9iv1QfTz8lryl/SR9WL0OvTS8iLwke/N77vvC/DF7g3uZ/BA8h30jvgF/B79mP7O/iv96Prz9lDzxPJ49KH0Y/RE9o337fnw/VsBrQSOBjYHxgfiB+QHOAfGBSUE5gHg/ir6F/a39ZD1EPRe84nzZvNt8entf+vg7K7w1vHl76XtPOy56y7sbu498HHvBu7I7gDynfV6+WX8Zv3S/lf/M/7R/af81/gJ9S70ifTA86zyIvIO8xX12fas98f20/Vl9UD1ovam9wv4S/nZ+Y33z/T+9tD6MfyA/Bf81vux+iL60/tX+wL5kPhg+Xz7WP/aARUBHP5b+mb4oPnQ+7f9Tv4J/Ov64P6GBWIKSAruB1gIbwqvDOEPoxIbE6wQSQ0pC20JBwi/CBcL+QvjDBQRPxVUGKcZWBcYFqkV1xMKE2sQlAocBnUE1wMDBX4IjQn9Bj0FVgS+A+0DMATwBR8GeQJA/4z8tfoy+r34IPgG+mb9gv9TAZ8ErwWQBOIE7gbSCWwMRAxBCyILgQpxCjIIaAJE/Vn7Kvyy/RH+3fsL/EsAcgLXAtICPgImAmsB5P+W/rP+KgBoAbgAHf9L/UX6F/mQ+lf60feJ92D5xvlE+t/62vlu+Nb27fVA9hz1DfID72bsv+o96wnuXPCx8dj0BfjC+jj96P4gAcT+XPkI9/v0cfO19HT3Ovm2+or94//HAd4C3gJ/A8gEkAaeCNMKFwwzC3sJDwdkBB0E/AQLBOMBxAAiAt8D+gM7BHkFvgUyA2QBewLKAh4DDgXABi0HqgUuA24CEwQXBgQIlgpSDYERdBbIFw0XlxdXGIcY8hZhFFkSihBmDw4OtA2/DuoNLgy1CUcGIwhGDh4SzhPgE/wT2BMdEX0OVA3JDVoOAA0nC7IJSAl2CZEJRwl7CNYJlAx7CzUHugTuA3ICRwBf/tv7dPiB9iP1lvPa8lvyyvNU9gX4Zfqo/C7+Xf0C+h/6+vwu/Rn8DPvp95H0DvQ088jyIPam+Nz4/vjW+ZH8SP6g/L75J/cB9V/0+PUh9m70ofS29H70tvTE8WDtjexT7obu2u0t7Xbsxe5s8Zbx6/Il9Xb0XvFA7ujrT+yU7prvuPCy8iL1cfm8/tcCjgbwCskMxQvMCosHoAQGBQ0E4QG8ADoAAQCvAscGsQYYBs8GRQcyCeYKpAtBC7UKUgwJDooOeAwZCLgFSAQqBCIHOgl8CsYKwQhyB5cGiQTJAr4CEwLL/sn86P35/+oAMP+g/GP6gPk3/I3+dv56/74B0gMhBRQHsggQCJoIGAn+BrsFZQXnBG8DbAGkArsEmAacCJgINwk/CUMIrQkQDL4MmAoXCJUFvAJMAk4CkQLMA3gD/QMMBTgFbwayBQoCBgDPAaIDxgKBAQH/a/tD+v/4mPcg+uP7FvsD/d3/HwAUAJsB2AKPBOkHSwg1BlYG3AZWBjoFUQMMAgEB4/8LAMMAzgCcAH8C3gQiBOkB9v13+aD5H/ux+UD4ePe69sf3DPpZ+iX59vkP/IX8cfu/+lP7tfyw/U38Ufol+/D79Pn09r7zv/G68WPybfTU97X5WflP+cD5FvvE/sQBDANhBbMHDQc/BJUBlf8T/zkAaQEpAZUAIAEHAfEATAFKARYCmwJEA+ADIAM0AiwA6/2H/d38xfos+Qb5YPml+of9oAATA+8DngJYAQoA1vy++jz7VPpS+P34nfoj+2L9FQCFAOgA7gF7A64FwQbaBvgHGQjgBVcFrQb9BnQGYAWpAygDjwQMBukHiAmKCL0F7QLNALP/1AD9AxoHGwjHBQoDFQH0/l/9aPtW+/b+RgOJBdIDJwJsA8oDjwPbA5sCEABt/j39lvuj+nv51fcv9zH1rvDa7mvylvaR9+X30/nA+738gPz9+hr5APfu9Sz1EfNW8knyj/G08lX0R/UM9UjzY/Mf9eD2+fdV9wb37PW083DzSfOq8mjzs/Mw8yz10PlJ/kQBegGf/pr8mvxa+136nvuU/Nr7OvoN+PT1f/Tg82711/aT9mD4HfpV+a/5SPpp+bL4mvic+d350/kH/QkB9QK8Am0ChgN3AtcAZAHtAhsFZgUMBTMFeAUnByAH3gVDBtgH0AkNCAUDkAFJA9IEagYWB5oHTwm/CtULaA3tD0oR7w86DrwLewiaBQgCv/73/Jz9n//oAuIHqwkQCGAGZAQDBLAFbgWyAw8EMgQ7Am4Ahv5p/FP7hvum/D/+//9mAPoAawP9BD8GOgYeAvX+ev6N/fv9OQAVAv0DLwZsB14IyQm5CjoLYAsbCrgH3gRFAdT+6v8iAoACyALBA2YDHQH2/cD7v/qf+q77Jv0i/q79B/x//CEAbASgBxoIEQe6B+IIgwgSBl0CHgF+A3sH0QpHC4EJLwcyBhkI7go1DekOAA+NDcIJ7gTNAn4CBAPUA2YDVgOGBCwGKQk/DOgMAQ29DM0JOwWrAAr+3P39/R3+m/3T+0P6hPmR+qn97ACKAq4BcP+A/48BLwAY/ID5avra+zr73Psn+wr5cfnY+cf7ef+JABb/FPw3+df3svjd+lb7rvvk+zb8cP67/g/9Av3C/RD9j/0VAMT/DwAeAir/WfxL/+8Cqgb+CQgIOgMl/4T7T/jV9Sn1kvZc+Cv5ofqz+y78//7iAUkDygIVAXUAHwCmAdUEHgYhBQcEWAJj/jT9Sv85APEC2QVzBX0FBQZeBeAE+gNNAt3/nfyF+hH5J/dX9xb5+fzZAnEF5AZHBzYFTwQtBXgFrwNVBF8CJ//jAR8CaAJ2A7cFqQnfCUANogudBAECEP/i/5kD9gVxCP4HyARsAn8AHADIAZUB4f/n/AP7R/vF/MYAvAGGADIAtv0r/Gr7nPmk+Qv74/wa/jn/4v0/97D0UfQl83351PsJ++b9Y/r4+/b/Yf/n/wX61PcI9FHuPvNM8I/t3PGP8n71Tfob/zP+EP4NAjD7t/fT/FD6vP0kBN7+H/02/+3+qwKACMcHzwIzBF4DBgBcAvX/e/5KAY3/OwHqAncA+v/8/Bv8BP9CAIUDUwYkBYUB9P92AUMEtQnVCQAGEQWeAVcBKAYtCXsL5graB4YGfwUdA9MBOQM+Aur+Kv+8/0kA3wK9Av8D5QSBAIn9YPq99s315PXQ9vn2OfeO9zH5Rf3z/Yv8qPxO/Cr8ff19/uD7YPgm9c/xu/Kl8gr1bvoI+ZD8zgCK/7EBjP/w+8r7XvkY9530Fu1S6BDu/fAD64np7O2v7xLvae/A9Mj3j/Kz95z+WvL06WLwa/FN6y3vRfrn/O77af6d/rz68/gp+t/54/oR/80D2gZBBeMHrA1fCjMI/AhyBlQIFwq2BU8F/gvlDUANERNbEf0QxhssFTIPdBhSFYAXJh/+FQkR2xS4EakQRhjpGPUXBR0+GB4ZJiPPH3EfNCMfGl4R+Ag5/b/8WwPBBtkNzxbxFgkW4xrwHmQkyCflIt0diRNOB00GYgTAAtUEOQPvA0gDl//q/Ab51vZ59iv25PYL/fQEfwLf+rT0q+xd55vo2fCP+4D/mgDZBYIKrwo+DDQLeAQxA0ME2AaCDXUNHAd3ABD7df5nDHUWqxffFW4PkApkCjcKEQpFAq3wo+Gm37LnMfJP/y8JfwjB/8jzMuyH5g3gneAg4C/badnO19jWStmu2xLeH+L14fLfZ+Va7qfzpvff+Sn1Je9y64flk+Ex5IDrWvUl/2cEQANjAcj+PfrV+t7+2wLDB2MJyAUmAzAE3QTVCckMdgO3/Pn3APFG9Q//kwWTCu8JiwS5BXgLqwkrBf8B+vx4AV4OZBWaG1QgtBqFEBMIZQWeCyAV8BcADjb9ZfPU8mD12fln/bn8mfis8qXvIfYkAMMFXAyJD/UKHQQz+i/1f/lsABsLBhU1GuEfSSfbLvU2o0C2RfpEWkRFQI45uzMALkMrjykSJqQgoBlsFcQU+RRBFNQTEBajFyEWdRBlBZ361/iJAJUFOACN9rfv6eq05tXp7+/B7+jwevGi6xrqJ+wA6lHoq+w19pf+lwQ7CVoL4ApEBlgDDQGX+UD0N/SE8/frR+SQ5WvrCPP0+kwD/w18ElEM5wezC5wQthAjCo4BUvoS7kDeX9gs3Kbi1uwp8z3zrvGI7irwlvY++5z5jfAf5xvjjN+k00bJ0sxg1JfY/diqz7C99q4Trvm2ML46xWDR3tUoyBq4k7MCtN2zfLfxv/zEAMZJyB/IPMaYxhfMpdUY2PTXTOBJ6TLrFOyb8eb4Xf0+AVAKbQx5/cfu4O6D9C70ovKm8YHwbO+n7e/xa/hnAHoFtvr969PgHdtP4RXrePMb+9b+S/hs7Wvqo+dx5QztgfkpB0AR1xF+DuMLkQyhFLsa8B0MKIEujCskJXQhqyn1NGA5EDk0Nmgz9CmtHf8bdCItKugvKjVNNVwvDDAUM7svMSy+K6otIi1/J6AjtB6fEjIEKf1v/CX4nvVF9PPxWPPR7hXr+u+T70fsfO7L6UPgAOKb6Gnrmt6LyinL+s51yRDL+tMu3yPq4u4A6r7ox+4B8wD8JgjBFTAn7ixPJScgZBntDvoPJxuRJoYrDibVIFwkEyjmKKssdCpGIwIm9yoIJycdNxIBC9MH4ALL+yLy1+N12u7YpNug4sLl2+fd8Drxbufd5IDmj+e/6gztUu2/7VHxd/pHAdX9OflM+Vf/ngt+Eq8ZFCXXJe4lbS1lLs4oOCWeJU0sXjWuOMM4ATkHOPM2jDGeJcsdKRtsG8QgCyKLHhseuhkqCnkA0AtGGGQOEPTO2iHOh9Hr2IDaFN3N4wPqQ+yp7gX4jgDa/uQBEBDBGU4kDyvKHn4VbBlYIbsvnDqlPfFAFjz2Lksq7TBkNRkwmybVHboXyhQZFM8QxATn9fjsLujy41zlA+3m7sHp6ucT6QTmxN8J3+Djm+e06dTt4v6SFTod2hyZHYYhdSUcIRof7x9RHLQbpR3NHVUcAiBTKtsqRh89FHkNRAywDpASCRbEE2sQIg0OAsXwM+LX3eTgy+kR+2MMDRG0BsD7bfkN+kL9Lga2DsMQEg41B9n9//C/4i3dCtpa2N/aztF5vA+tn6kTq3Wt06v3rda3AL08vm26wbVYuO62/q8jtOzBF8dbwDO7XL24wU7GYcnZ0k/iB+cV5XTmVOzY8yX3ePfJ9Vjw3Oyk8EPvlOT93RfdOt133DXfdOhS7rrwKvOJ7E7kSuUv6ZrrA+xv8Zj7KQBk/cPyJeZK4uDo+PTlA7MSDBs3HvUdRhsVHV0gVyAPJYovhTaxNwA0fiwfIUcUtQ2aCCQD6gexFGUdCBhnDW4SIh1YHFwaMxn6FOcS+RIxE8YQPhBmFhUa9A9qAnMDEwMe+1z6Jfcb8Lbtdu4971roD+KL5Mrg/dym33XYVdOg2uDcpdZa1MPXw9s13cXXeNew6WX/uwm5CikETv4nA1oPtBmVG+wehCrCK1QgNRMhBhYA9fsE+pMHnBY6GcoUBwvMA44ExwH8+G7yIuzb5MHgUOER5YPkFuMS6GToOOUV6XPur/Wr/n8CXQglEvQUKBFODS0HTvom8TzzIvN77yruBejF38PaLNQEzffN9dTZ0wzKUcOAxMfM7Nfs4Kfn/+ql7pn0bfXC+nkKiBg6HfETswyCEX4V0htaICUeuB/XIsIkAyRFIZ4fARlZDzsI5QA89xLprtmszY7Cj73qwvTJBstMzNvQ/9Kq4JX4SgT8CmoShBgeI5EpYigrKs0vbDEPNJA7hD1gOGMtsCILIE4bNxjYHWof8xYRBYv1mvLn8b/sJOaM3fbSQ8sWySLMP89hz9PVzOJD64/07gADBawE+Qb9EpYrez8ESpBPe0+qTqxMwEuXToRNzkRNOvkxbywqK6MoyRtHBr32GPRv+X8F2BLyGIMY/hIwBwr/+v/uASECEQLIBBcKdRK2HSckVCSMJAMqUTJxPMdG0kjIRmtGd0PROj0vvSiXIjIXqQqi9z7gitH3yOrBOsR6yyjNRMyUyk7HsMPXv9O988Xi2GvnSfOZAH8CMwIMC2ITiRaAFnUVORUwFMISNBPYEE0NPg4JDTcEaf7sA8kDtfZP66fhrtlQ27TjteuO66noM+t/6LjfuNno2tbmwvp4ES0hYyoqMvQumCVfH/UabxsNHgYi5yp0NbU+xUGNP5k8ODUKLssqvCUVIo4fMhmlEQ8Kuwe/DQkX2xt/F+wT2hOkF7wkOjFZNoY5yj2QPBw28TJGMJIuiS6iLbkt3Cj+IcshnSDbGZ8SfwzGCmQM3giNBeQEX/6N9aTuY+yt7bTo7tlMyw7Eibq9sD6pCJ5mnRGp27OUx8DfvOgN77/3E/Vs8Yv2jful+/37WwdwFOoRgwi4+4Tn0s6OtrOrdK5btfC4Qq8RonqiFauisRW1M7ouwKi/LsInzMPUMuCJ577kwOER3VHcd+b37p/ySffA/pgLKhbnF+8RggVR/D75VPpb/pP75e+x2wHEqLm1tymyv64Rq6SmAqtIt4/FydAK21XnmO5w8zr8jgkoHN4sQTjnPHM41jSGN8E5hTeoLesfXRroF08VvxfVGmMfER9pHBoirycLLZ8utSNTFOADHPQU7gnrb+Ik1wbGe7kyuiy+8MVmzjTSPdxe62f8TRZSKXcw6jvaRi1LuUrdRJM73TCzJD4ZkROsEXEQtQkE9W/bX8ZBuU+3Qrr1vHi857hBtoW6Hsns02vWDNmK2LPXNd145RTqGOvW7Bjw7va2AqUNqRLiEcYN7whGBVEHaA4+FcsY+RQbD3MN5gkZAeT19Oae1/TPtcvZzFTWPeId7VftaelZ6QzsAvOO9/L6rvpi/bEJxxWrIgUmASHVIFUkLClSJsEcCQ8vBIAG5gb6A/sHzQ6+EYoHof7N/sL82gYwFUEYqxcrFI8SlgzGAP712ufs1wTKusMWwgvDzMnXzffNWtFr15HfJvGPAzQM8ReOJZYs4DYBQq5D5UC2PO02ji1OH5cTkQZg9gvrXuSD43HncekS6e7rWvNA/AMGiQ+sF/EhKy+KOKc7GTnJMtkrwSGTGUsZ/B/2KWwv7y6cLIwwJTofQcVG7kl6S/5N7kzaSUlHdUHdORQ2GDEsKXojkhlhEeoRKRKUFhwb6BrLHBYbkhvAIqUpLS5tLwkuXimKKA0pYCUmIGsVhgpjAij7RvQ+7czr+e8x9sP7xQC6BywTXSNOM+I6kDoiNDwm5SBBIWQgLyKVGoIONPx+4KTIu8Dxvvm2GL0jwAK8+slU3Xb1TA/KG8UfIiOFHWoV8hUXFEwSUhNPEvQMpQQo/GbxJuRj1ObHkMNFx7vOOtWd1xvWndin2yDee+Sh6ZLtpPGw9Iv4Zf0X//b97PvM9OPo7N3P13TX49iw2FLbgd262MXWU9nB2greauAg3gnZU9S0zs3K9cxXzWrNB88CzyPVcdkp2MXdmOav7/P76QkxF8kg4if4LEEwXzIeMh41TTkhN+UzZi8lLOIu5zCULgMn8xxsEI0D1f0lAUkKUhO6HMwkai0gN4M49TepOJYxVCm+I1gXUQ8UDYn9bfQR9k/syefE6HzjieVc7Qv3EQVSEY0ZoSCCI84ftx5TIP0dpBgpDxwEFfW+4kvY9M3DvvKzyKxCqi6rIqqkqZOr5LCNt8bCA9l37jz9sQbAB5cHBQX5AnwHXQjKB/QFJ/0S8tfpKuer47vhwOQ1417fX9+H5qHyf/2XAzcAa/sM89rkUN7g1tTM9sWkvkK8+77jxCnMjdSa2xjcW9/m52DzfASqD6wQkA/mCj4GAQN4+Qjs8t4P1vXTctjD4LjkK+ZM5NLfGeGY4HvgFefy7lj5Xf96AoQE+P5i+cXuA+Ws34zUcM2oxii+bbe5tW+7Xr9Kyo3UfdMU2EjiSetR/MgWzCnqNV0/9ztWM1ot/if7JegiuxSMA7H8Evus9p/z/PWP9EvuP+iT4XneWN8B5FTqIfCT+oMHLxSAIFAqhS/7LjQwhzbfOqw6CDmFNn8zxDPwNH4zHzTENrA1JjUAObE8EUB1QuM/yTk2NRsuwyQ9HpgR3gN5/JnzNvAY9/P8E//aArUFZAeKD84XfhbvER0NyApDEE4ZcSS8Lv0xqyxdImYV4wXw/7gE4QhmDhIVPRfdFBcRrQ/eEuQYuhsJGf8VhxS6FRcbJh2gG58bCxfHC1T8zOPSzO/D1L3MvRLGxsx32Q3pkPEN+iYHSAxhEEciGS5TMj85CDfFLggpsSB1EMv+QPNn63HnRuQo3i7aVdaw0lXTmtSP2XbiuOlS8uv6XgHHBGgCF/3Y9kz2Mfup+zH5y/Ra6pjch9di3QPlb/DN+3b/awDj/9b+VwLvBzUOxBVhF8MSVQ4+CmsGBwcUCRMEof5q/EP68PzmBA8OJBOPGMIhMymAMWc36zIMKIQffxqvFmoWfhlhHHobTRfwFUoYxRdlFAUVkBe6HJ0okzTkPHFBRkKwPt05XDkrO8M/BEGFOTktISJ3GNAJzv3Q7jDa183nxKC/Cb88wJjAL8CdxgHTzeaC+bkEkA0fD34KkQayB5oKOQ6OEHAJMwFg+gPuu+J+3PTX6db92O3a0+GF69XuseyX7Dzvpe3W7kDzGPRT+TIA0QJPAqADhgi9Cc0Gwvy87TfiQNkd05fRHtbF3cbkUuwX8bjy0vIU74rqrOdm6EXvRfdZ+P7wf+eb3L7PKcgkx+vH7M3K2Ffh5era9l4D1Q29EjYSYQk/Ad/+w/37/0L/Bvqq8tfpkuRj4d3eKdrr0mPOzs2b1FDgNO5vAW4Rphm5HPsbnRi5EpAPDQxhCpIMQQvLBOXyqN9d0wDLbMoH0ZPcEuF746LttPo+EawogDaBP4xANzoANB0vzyktJF0aeg3jBWsEogWDByYEO/rl8urwtPKu+IMCNQ5mFBkX+RqIH8knPCzmKhsrNClPJnokeSBpHF0ZzhWMEJILswYNAR4AXf4091fztPNF927++wSPB54EMf7B9evq0d/X1njR6tDv1eLeWuY76Jvl8uAD3s7eLuSA8TkBrA3BF2UcGhwzHH0caxgVFMMQUQo6B8oFzwJeA+kF8wdtCA0M+xIJFEcQrQkZA+oDnQrmFa4hPSXsJH8iaBncD4sFT/sp+dP8VQB2+/bwROX91zzSK9KM0ovWOuLf7hX48AcSFLMYiCDKJWMpwiwQLNUmwCAPGeoItfkW7dbf7Ntn28XWvtDcye7DMMDCwKPC88Njzlveyeo19ZL30vMc9EP2svpGAjsJHRChFEgTSg+8DiMQhBHbFnsZHhXHEjQW+xwVJT0sJi9/MM4xZS1OJuwduA61/VTvr+Sd43zpA+8X8gL1hffc9gT69gG8C7EZQyf/MjM7rD3BPAI7xDg6MX4qqyl5KR8qQCmoJMweChsYG6MbgB32H6ggJiHrHAEXiBTLEN8PZBUMHBcgTx5VFHADQvAa4aHXBNLD0FbS8dUg3B7i/+Rc55bsE/M9/kMOzx+LMWc6UTzoPSo8kzdfMp4rlyBhFG0Ibf+V/Lb5tPeK9pPzyvC97SLqGOTT2/HVIdVi2IDeYuXZ6jju8u6A7o/tmu327kjw1vJg98X82/9CAm8FigY5BfMAXv2C/tAEsA3cEswTMRNeE6wTxBCQC5kDwvsE96nvqujN5fbhLt9I4FTkn+h+6RfocuMU353fpOJ27dD7fARRCk8LzAkMCP8EAwRYAen/5QTXCucNiAx+CtIJiAnhC5gOzRTDG4QbnxvPHuQhQCWXKI8nbx9jFikMTQH09Anj4NJQx+/C3cbizOnRc9er3ZHgK+p0/C8Q4SX6MRM1bjilOnM8ND9cPlc1dyr9IoEdSReaEQkM1QMs/ib9Vv40/k78+fhm9KTw0e3T74f0p/vVBAYHWwdCCdMFxf1c813oDeKH4o3mNO6L+ZsA0gCf/1T9hfxxAccIaQ4jFSAfzCRlJUgjFBofD/AFevwx9wPz0+ov5GzkR+rF8hIAxg09E/MT0RPMEy8SXg/YEWQXfBu4HNcaABfxEsURJg/gC1UNYxC4EyEXmhsaHgobEhn3GCkZpR7AJconnSdWKDknUiAVGWQV3g9FDgANMQIM9CjietDwxFS+lr4+w/fKB9Ba0lrXatpy3Ljcb9yO4JbnxPHN+UP89/vP9v3tmeWr3/Lds92725XYydbd1vfWGtfq1gzapd/i3wrgjuMj5UbqO/a1A4kPiRe7GRYVoQ3pBE76QPL/66ro5+no7AHw7O7A7QzyZffk++7/uAQyDIoUuBogHIMaARgRE+cNxgnMBuYEcAEW/6D+aPz9+c365wBVCmgTKRvBHqIdlBgyD1EJPwpYDJcOBREAE80RuAoY/2Hy0ejh4knjn+u89BD8dAO+CKMLmg7aEkMWkxfjGAwZ6RgeGSIXOhJOCFD60up63uTV5czEx8DHksyd1rTlN/n/CX0XJR5WHM0apRk8Gowd/h2uGvIT2gei9yDrkeNy2mTT7NEv00PWcNhH2QTaotrH3OTgKeV/583pl+768sr31P/3BlkK9QgtBisHUgd7Ay3+9vju8m7vxfF78jfz//oiAqoCyv91+sDzBO8a647nZ+fX6bzp9eU44q/dHtri2XLZOtzd4+Dr2vO9+kkCewsDEzgZnx6SIx4k7x9vHuMetCCgJfErATAeMNkvci07JkkdUhdoFFgQmwwjDGgOxQ83EdsV1hrBHn8gdyGgIR0glCDcIQUe2RHdBEb8d/bD9Pr3L/1T/YD6w/vjBNEUGyReMQo4eTVcNGo4WTdTLYQkDh3YFIMTjhO/DbEGkfvA5+PUmcq9xobHecpSzgfSENVe3MDlweoD7/n02/mWAC0L9RQDG1UevR6OGRUUdBKzDisKVAVz/Tn67P56BQ0OLRtnJcYnwScxJ34k5SH/H3Id6hlvE9sMOAiL/XHuc+b24x/iLecs8iH5yv+QC2kVgBzuIJUgNyIVKDYunjBmL8AunytQJFAewBtgGjIaZxoKFh0P/gviC9AIZAIDAOMD2glxDgcPfAee+XftQ+Mv2jXVetB7xzjAM74TvkK/XL8VwPLCnMlf2cfoC/L4+rQDAA2gGTUnNyyKKeMlwhvnDf4EW/71+L34q/mT+Jr3A/J66UDm4OVZ433ic+af6irts+4P7/fvEvCa753z4/lS/joDFQY6B8YLZQ9GDbMIAgcNCJ4Kbw2FDHUKSArzCRAL7BDUGOwdDiHCIDEaERLBB1b5Eu1k5RnioeP15kDo8OgR6gbphuiy6f/qce728hX3Rf7/Bz0NWg07DasM0gocCR8IvgiyDaEU1xc8GZcZkRdaExMM0gTx/k330+4p6wHtp/Pb/qUF7gPT+1rvz+PT3bbfvOMj5SXj9N4L3yvhoOLG4xzjFObR7sr6GAjaEmgY9xamEOELrwkAB0gDmf1g88vnZeFR32bfoOF148vkCOeA6nDuM/Il9ZnzCvJe94X/BAe4DJMODQuRA6v9avlj9I/voOdF3dPXR9bu1ZPWF9eK2Ifa4d3L5CPuEfZk+2kAdANtBXcI2gjoBgUFrQAW+iT12vHy8Rz1mfjBADwLkhKOFv0X6RiGGlYf+iPqJrAo8yNLHMUVJRA/DZoN7w3EDK4NGw8mEfsThxRoFHIRBAxVCg0MKg0IDboKrwOA/LL6R/zs/wQGLwtCDA8JAgakBrkFzQQJBg8HRA1PFxogxSSMIuIc0xaxEFIKTwRvAHn9ovcJ7+Dm4t6z18TTwdKH0RzP6dCn13ffU+kl9oECkwpBDqUOsQ1MDvkOsAupBlEGvQsyFE8dYiP2Ijsd1hWsD9AOtxNEGcob5hr3FmoPxwY3/xL5GPe0+DT9lQNeCQ4Ojg+2DU4KnAdhCEIMoRAOElsPeAtJCxgR1hiwH5okdSWFJ8sq8SoOK2spLSXYIEEepB08HR0ewxtaE0EJRf7f8qfqp+br4dPaSdUb0OfJJ8VcwqHB1MOgyHrO59Um2t7ZV99L6o76Vw7TGCIdHR94Hc4cNRoBF8AWRRlQH3AjpSWGJ4UhZBXsCM78XfdD97P1d/GJ517bo9Qc1fPZyN8o5hnsSvF+97oBABCKGgEdaRv8GZsbfSHgJx0oIyJYG/gV/xN6Fvcahh8bIdkdExhcFB4T4w13BU78NvQx9O34Dv98BAQCl/pe9CfxOvEJ80fy4O6O7T3sYOvR8PD4Kfy1/DH9S/2gAoYNkxndJIEsBy8lLpYssioAKBMicReeCwoCfPxb+nr7Mf6Q/KXyb+WO3GXZZdzL4djk0uTb4RLfs+AG5f3mnOmP6wbszvI8/psKahQxGPYWCBTEFCIX6BgOGcQRywYJ/+f3evMN9sH46PZE87/v1+3d7Xfu1u4r74bvCfEz9rv9KgSYCJ0JsQZPA6cB7P9U/rn9l/rT9FPuSOfB49riBd8e3AbeAuBl4XHm+u0j8971EPm7+ib7MP0S/Gr23fH37xPvf/Bl9yoBiAh3CocJswsDD+4S1BoeI6MmjSQ1HroVhRB7D9IOkA6GD3sRDBWLGx8geSByH8kchxvTGU4XcRZMEZgIzf4I9Lzsgum/6QrvL/XY9736v/3a//IE2AhGBQMBswMNC3cWDiG5Iikf2hp3FQwRshBeEHUK2ACs9ADp2uFC3dTZdtQVy7XDTcISxCPJV9Su4fHqiPLx/NYGYAy7DgUPUAsxBaADkQaFCuEQzxc3HI4dxhtcGqUaiRptGgAbjh0yIJQgch/aGDsMp/6E9vn3zvzkAJYDJgGH/KL6fPwUAPkCHgXyA5gBLALAA6sIuhGAGzwjACYmJtMlFCclK5UtJStvJHIf/RsrGFQa/BoGFTMNtgB79cXsbOXU4urZ7cqrwbi9W7r7uUy67rN8sQS2xr11y7nU29up4UXkvPLDBnEYzSffKCIgqhoDF7MVqRdJGVIYexCYCDYFOALCBCQEsPpm9TDyafBX8wPxa+tv52rg393U5AjvgfoMANH8Lv0GAxALuxjgI9klOiSBIB0dtRwVHcwcPRgNEXEOdxA0FQcccCDTH2Qd+hmGFQESAQ5LCaUENQAj/j381vY58rnx4PGl8T3xX/LI9ED3gPx2/68AKwTYBL4CAgCfAVkH8g2mF4YfoSZtL4UzwTCuJ+8bfRD+A1T6mvTA7DDjYNo+08nP39C21crXINfi2RDiPfCA/TAGBgf4AJIBfwVmCQ8Q8Q9WCzELjwu+CFAKwBBgEQcN9gb3+9/x+O/67WrmguOU5Ijkhuj37STzGPl2+8/8tP3O/scFoAtFDaIP/g9IEOMTlhaxFdkTiBHuDcYLQwk8AtT49e//5//h0d0U24naBtqn1xTWJNrC49jtqPbG/ToC1gN8A88BL/2A+ML2VPXq82313PhR/foDMwc5BuIHGA4aGLEh6yaMKfEpZCSoGtoRUQ1tDh4Q/RGHE2EPoQqSCIMH6gZzAhv7V/Ut79jnLufu58LgTN2l3B7eSOp596UFeA8dEPsZ3SVfKUIt0isNJ4soWSopKvEozyKJGBUMQQGh+OnwRfCb67HbpdKRzZjHM8uQzLHGVMTywYbCOsnE0QXhLvE/+5QCswcZDvQSvxGMDo4KewZJBQoINQyXDr4MhQf+A2cD4Ac5EYkWAxhiG7AbDBqlG5cYjBAtCiMEqAAQAE3/pf4C/Bz5MvmU/YYFxgq6D5QRvQu7C/AOyRLyHA8j7yXQJmEl4yd8Kkgr0SoPKf0l/SC/HBcb+xihFBIQPQe9+RfsON/Y1iLTq9AJzN7EjcA6vjS+esEkwJa9Rr2sv67Pj+C66Fr2AwEZBxoUBR5yI2YqOiwyJwcf8hXwDTEIEwWz/UfymO4G7TbrafE39CHzKven+Af66f3k/NH5tveb99H5ivvC/6IDGQJ8AEX/1f5jBQEPFxbaGZAUOwrpBSgFVQVbB9QH5AchCp4MjA9QFosd6B5dGw4WvBF2DyYOOwz1C+AOCA34B/AFSgJG/tP7ffeU8oLyCPk2AZIIGw0yC0oE7vzl98T1ffdi//EL3BXWGyEfJB+tHBUVbAtsAtP4A/HM6R/kxd9U3o3dstXc0kbWp9gd4b/pgfFP+/4DaBDuF3AX5xeEFAoSpBa+F/wUixNUEI0OSw4yDFsMqAq+BLD9V/TG71vvZu5V8fLw6e5W8Wbv7vDA9yP5TPza/4L/0AL5CQMT+Bl4GXkXBherFDkVDhlKG8wajBS9Cz8Erfvb9rj2b/Ms6yvggth01ajSvNSN2nTePOVd8DT6WP5gABQDLwF2/9YBXQPRBOMDdP8t+4r38fbG+c39YQNVCYwOIBQxGnIfhiAJHGAWIBKHD5cQRhJIEl8RVAsj/wP3PfZu89HwU/CN7C/oB+g56UfkY+CA4W3fLOCs5SnrsfQsAIMLMBXjFwwYdxciFtkXhBniGgwcehrgF4cUJA+RBjr8tfSF78PoDuNe4DLcQdis1zPVRM6WxgDBjL1Xvn3Ge9Jh3YLnIvJ1+rD9ff7K/xwCGAYKC0YP8xE8Ec4OWw2CChMJKw2eEmgTAxL4EX8Pnw/kEvIR7xFzErgR9BJ3EdIMEQgDB7UJpAnhCKYJfQpoCxAK+gb9BG0GbQqkDcwQMBS7F00ctyC5JNImKCi2KIwmBSUDI5shniJLIQge5RmXFYQSixDoD4cK1f4+9eXrrd5B1zTW8M5LxEe/WbtRt063hLh/uf+7/Mbm2J/mFfWvAOYEggs4DikOvRPLFtIWqxfXFYcTqxL0D1oKcgH++Nn5BgIYClkNtAgeAtH3oenH5RTo3eoK8hf1tvWt+L/5l/tU/BH8F/7F/gMBHwXdB1sLmgu6CBIJ/QrzDkEVnRd7Fz0XYBWsFmQZoRVJD/4JyQQ9BD8H1AphDgkOoQt6CSgJsAyID1gPLAvhAnL80vlr+B/2hO+d5jfhNOAD45zp1fF6+v0DxguuEVQZnCDYJIAnJic4I/UgCSBIHOQZcRjADoYAr/UL7eLq8e/Q82zxVe757k/sPes07QDpyuS75cDre/au/8QHag/2EzsYPRv3GiIaiRpNF2wR0BHiFEAWvhdIFfIM4AQ6AyQGxAozED4OYQRl+pzxM+697iPtLOya6zLtsvV5AZwKUQ/6ERQULRY2GcIbaRu6F4cPiwJO9njtxOaX41/iU+DL4irr3/KY+vAAkQDH/Jr6n/2OA8IEHgIG/d31a/Jx8873Qf0AAccDuQMMA1kHEQ5LEhITlhCQDO0JngehBXYGtAYmBYcFRAk1EDgX/xtPHXUbtxqWGNwTpBHqD7gMNArlBg8CKv9t/Q/5evQq9Er4tPuQ+Z3xaOXW3JDZmNUY10bfkubg7un1qfck+cz6af6DBf0LcRGOFfQVZg8ZBF/36Oql4zLh3OCj4nPmKuq56mHpNuf34prd+9jI2G/esuJD5ITmq+SD4YzkE+xq8/n4Xf8EBTMHbwuqE/YZtBzGHMoZpxbSFBESzAzjBt4EswYRCpUO2hHJEs8RVw3/B80GhQcdBvACof6A+mL5Tv0nAz0F5gUVCWMLqwt4D5IVqRUmEfYMwAhQBisIuA3uEQ4RIA9JD8EPqhAKE9QWixnfGHIXcBMtCs3/+fRk6M/eLNtD2+DeAeOA41nhJN2I2xLfT+Gn4bjiv+FP4NneYNmk1hLbxOBl40HlyerM8kf9CAjbDzIWZhtxHxkgrB0kG/EW6RBeCxIHzwSEBVoHhQbyArn+i/iZ8trwvPDz8FTvfelO47fgMePL55nsbPF88zP2gP02Bp4M9Q7pDp0OqQ+HExUX4hfiFwYZuxijErcNfw+VEdERbA7aCRQJwge9BFn9zvGP6Wjjct9s37TgjeO35/nqpus57JzvXvNE97H9fwNfBI0D1gK4/9/+3QFmBLIHjQzQEWQX3RlrGFMYExsVHrYfbCHCIVMdkRZlDwULYQo4DBIRpBG6CtUBifmG823x9vSd9LLouODP3gDbOtsk3RPdGN4D5AXvy/d6/o8BVf+ZACUEagZKCrcQwhY7GREb6xv2GDUWJBQaEKMLtAkkCiIHRgMuAfn5Bu+p5U/hmuG444/lneF+3IHeg+Rv6jrwtfYK+wT+cQRtCR4K0gqeCocJ6gljDeoRBBIsERcRVQ8cD+cONw80EqcUpxamFmkS6AsjBTcB6QClAj4HaAtEC08KRgqpCgwMdgy2DQoRUhIVEaYOEQ3ZC30IAAZFBYkF/AjNDNcLygaDAskA+QFsCH0PdBNRFtwYRhp4GZ8YRxd6FLcRGhGEE0QVChIbCoQAVvZs7rfoHOal54HnKuXX4JDZo9N70Y/R9dL41Y7bzOPM7Ezzc/Q18hbyZ/Q89+j9pgVNCZ4M9Q8hD6ENyw+MErYTwRH1DYcL6Qe4BBgDYP5y+Kr3A/ok+Sb4L/jd9dj0JfZS93358/yGACMBKP+tAEUEHgiODU8RWhNXFD0T1w/rCzoKdQlBCDgHpwgwCz0M7g+GEmkQXA8gDTYKJAsJDGMMGw6YDr0L3QabAa37vfcn+Bb61ft8/Qf9j/qd92LzG+/f7M/tlvIr+QH/MAMkBZ0ERgQHBlII+AqEDWENEwylDRYP9QyvC0wLUQkFCFsGxANOAQH/Hf0j+934mvcd93fzue3c6T7n3uU66KrpUemp7Bfv/PDh80v0OfYT+xwAkwO0BToIcwlaB6gDzAF0AbEA/wE6BjAJeArTDCANwgkqB3YG6QREAjMAHv0D+Wn2yPNh8H/sYOkl6rHrCu0Y8Sr0kvMF8d3tROrV5vbkOOXM6dfx9vcJ/EQAcgPjBRcK3g2GD98RpxIdEQERABEyEA4PfgssBzYFPARrAzYEJAV4BHgEMQXSBDADZv9g+lf3ufYL90H6wv7v/ij+cAAQBQEL+g63EX4UuxUAF34YvRgLGH4WaBTmEVkQqBC+EDkPfQ2ADVINswyXC1sHHAIW//P+mv0A+Rn2I/SG70zsrOkf5Q7lAuew5rHpCO/M8JTvie6U7JLpFuhs55jo5+tm8JT1jPhj/MwBswTSBZAFGwXcBEUEPgftCoAIZgVIBCUAPPtf+On26/W99df2KfcU+FD6Yvpx9vjx7PBj8OvwevTA9Sb1GPer+dT9qwaBDpERORW2GQEaDhgFGDYWyBBVDr0OVQzLB2kEKQL8/y0AMQKTA+MFDQhVBtQBAP5e/C38YPvz+jf58PUe+HH8X/7xAL8BRgA1AFwDdQcMCNgEbf/7+VL3Wfhw+lf77/2FAYYCwQSFCa8LtwvyChAIiwXvBg8LKQ3AC24I/QSzAOH9+f7P/5MCnwOf/dn6C/t0+Rj6xvdt7xLqzek76iDrluoi6KDou+xB8sz6CwBRAJoF1wgGCPsJagk6CgIMzQieBUkEEQf+CWwH6QVWBfsCuQM1B4AGxAKdAZ3+5/gc9qD1dvcl+kX7vP0W/vb6Ofry+h/8yv5NAccBdwBK/p/7qPxx/4f/qABHA+0GpAq6C5AMiAwaDEMN0AxiDO0MTAyLCqYHPwbyBJYChAJVA0wBk/1i/sIByQIYA+EBmv83/UX73fv6+8z72fuG92f02vbw+U396wHjBqwINAcBCAALAQ8bE+EUshRXFDsVbhWmFI8VJhYpFHITdhVbFzMZURpnGi0YmBLvDK4IXgi1CKQCJ/o89VDzufCa7mHtaOmy6Jzrguuv7LjscOjR5VvljeSV4pjknesS8NbzsvgT+sn7mwBlBSkIdQg/CkELggjQBwMIYQWeAYj+ZvzG+Z33hfdW90f2cfUe9KzyufK28sXwyu9x74XtBu4P8fb0A/sPARoFvgdLC4UPPhK7E70T/xK8EisTmxSeEyAP5wsUCuYHnwaFBqwGGAYVBLABfAEeAsQApP66/L76hflC+Qv5bfmc+h379/p++5f7rfo3+y79nf5t/gX9Kfya/PP9CP9mAEkB7AA4AgAE0QWHCEwJ9gmVC98LMw0IEdITlRLCD38P/BDqEToSPhLFEZ4R/BGSDqgHuQQyA4b9nfjl9EjxmPFF8jHvketu6TXnyOa/6ZPqpemf7GXwSPNS96X59PqZ/DL9S/7j/qkA6gS8Bn4HNAg7B/cGIweVBdMDZASHBGMDuQK+/0v9+v1H/Hn3+PLp78Dtpux/7IDrEOsA7DXsmeyC7kDwTPGk8w/29/Y1+Wj8nv+9BDQI9AjrCz4PDBHjEpkSDhIUExcRVAujBywIagcKBWgEwgPdA0wEbAIeAGv/Zf9K/en6L/vQ/DD//ABt/x/7Vvju91H4m/m8+iP71/wTAFkDtwVbBt8FagQuAzcEOQYPCPQIAgmgCdIJxwo6DfAOtRDGEkYSvRD0EqYVFBbpFJUR/wxhCRgJegZZA34ByPtg+eD3d/GL7eDsAOpx5xvng+UM5U3nFehG5t/mR+pC7DTuTPFf9tH6e/xiASMFXwUBCAYJtQfZBR8FCQfWBvsFEwbSAbP7B/k89iXyL/BN7i7s1+yK7W7speud6lbq2eps6nPtbvHQ8er03fk8/FUAWASCBEIG2AgwCVYLFw4dD9oPLA56Cp4I5AiACnMMywyMCjYI6gc+CXMKEglpBVsBCwBXAVwBRwHzAmQCuQCPAhwDIwEmAYsB/ADWADcB5gCi/pD6jfY09d31evdz+qf8pf73ASQEDwX3BvEIaQodDPQLNwuvDRoQ0hCQEaYS1xNbEkMRdxNjFC4UJBXoEmYOvQpKBiwEuf/89wD0h++W63/s3+1h7e7stutc6hbr++uh7AnuOO+c8HjzNvY8+Jv6JP36/9gBqAE0AssESQjpCxYMjQg6BkQERwAG/az6ufiw+CD3YPTi89zxXe/c7ozsZeoX66zr8+uU7LTrTutm7N3sX++382728Po2AIsCJQZNCRsJego0DnMQrBDYEIoSIhZXF8YSVA0dCk0HkwZjB6cHwQcuBsIEXAPx/1b+gP5z/Uf9cf6Q/rv+Sv9f/s79Jv7h/Ez9n/9z//P/3gCf/o78PP1w/80BxgQvCOoI5gYHBu8HHAqtC48OgA8TDRAMwAwrDbQNNg8aEOgP+xBrEsEUGhbJFFEUlxJcD60NAwzeCPYEtP7990X0WvAp7Zbra+hg5gXocep77PbsKeum6/bt+u8A9fv5ZfsD/gQBz/+6/ef9xP+GA20GvAW3BHAFxgTpAXP/uPxh+OP16/WA9d31rvZ79YPztvKQ9An45voC/pwAdgBz/zr/d/9gAOL/Mf6y/m3/S/5K/hj/HQDHAxUGJwTMAyoFUgUVBwUIFQXLBOcHAQf5BAkHAwmtCeMKzAs7DK8MVw2qDaIMKQuaCjAJhAYpBJUBEf+E/rb+MP1y+2v5Q/aL9CP1k/du+qb87v5pACsBhwLABE8HTQkbC84M4w6eEnwWMBgPF10UDxJAESsR9xAcEmIT5RJnEcMOtAtzCekGxAF+/av+m/+W/F75jPUe8hTy+vHD7ijq6+jo6TnpQ+pC7Obs6O4e8QnwD++18Wj1EPkP/E79Mf5kAB8DbAWXB2IJsAoWCfkEQQMHAzcBRf+K/Uj6wPYD9PHxS/HC8FDwuPAv8CLvqe6U7SHuYfOu+B37wv06/yD/TwAZAq8D/QQYBhIHfgdRCX8MtQ1UDUYO9Q4rDVILTwmiBmoGlAiFCS0HCAW+BIUEMwaQB5sF1wMjBO4EcgVxBxsJpwYtAsD9Vvru+M34K/mW+KX3Lffe9TL0i/PH85n0IPYO91D3G/j5+J/6C/38/WX9h/4vApgE1wVwCJMLEg4ND1QOVw47DyoOIQv7CLwJPwlGBZkA+fsU+0z8kvp1+J/1PPEK75DuZ+3M6wbqUuk27KzuV+xv6+vse+2S8IPzEvPr8kvzg/RD+I77Fv3e/RX+ev7T/twAwwP9A+gCEwF//43/UQDGAfoAef59/ZH7Xfgy9/D3A/k7+n/6MPqL+RH3OfRs8lfxk/HG8r/zCvVw9ln2cPeV+1D/7gGGBKgGJgh6CVoK3gnNCTAKsgmWCSIKNQscDKoKDgiFB8YHIQekBpEGzgaiBRwElwOQAEb8zfo9+y77SftL+276uvrJ++38J/2w+1/7Pfxr/R/+AP94AXkCFgJWAmcDtAVJB/4GOAcoCI0HbwdOCL0HaAgxC+8M8gyvDWQOSQtoCDgHNgQNAtwBoQJ7AqL/JvsP9iPzvfI88kLxnvC58bbx6O+B8C/xS/D58JXzmPVs95z6jPsr+mv7Dv2h/XkB4wSCBVgHrghVB/YE4gJcALn+8f6J/fX7eP3m/qX+lv2l+1H5ovi9+xkAtwEJATv/YPxa+xb8Avw6/F/7tPl0+bD5D/xQ/lz8tflK+r/+qgO+Bf8G6QdHCEkJdQmRCQ0MmA8XEdcPSw7bDe0OlRBIEJIOdQx7CSAHzQRgAd7+3/yk+rz4A/cw9erzY/Q59YX2Jvgv+E/59vte/Br82v0C/37+r/4K/7z+2P+dA/YHGgphC7QMyw2oD8MRchTPFtgXZBmgGWwXtRW+E4QQdg66DkYO3AkfA43+rPzM+q76zvfA8H7vWu+a6xTsKvDO8XTxtvL58srwjfO9+f77zvx1/kX+B/5jAocGBAcgCLcHjAToAlgCGwJrBDUHBQgdB/kFmwXhAv3+u/1v/Ff6C/oA+tv4U/kf+gX58fkx+2b4Y/aY97T30ff8+Df4IPd59+743fmZ+hr/aARSBokHnQecBVEGWgmFCuwJ/AggCacJtAmVCaoIjQi2CgANyg0QDncNsQrvCGkIRgWvAQL+kPnc+F78af8w/4j8qPkl+c76Bf02AIMCMAM0BMUDiwIQBLAGlAh9CbgH6QUwB9oIWwk5CfcIsQmwCy8OuQ85DyYOpg32DIQMPQwNDCELLgoACZAGKAVeAiz+gPrl9TnzifM68Nfpo+a+5QLly+N85GzmcOgb7SXxNPKm8p/zmvTB9nf73f0W/WL9cvxG++j7H/v2+SP7/Py2/EH75frK+hD72/yK/YP83Ppe+UL6k/zQ/b38mvqg+KT2XfYy9wz3B/Ze9Kbyf/Gm8lb1qvWJ9U32NfZZ+Kj7AP2Z/+0CvgSaBkAJsAuSDHQMtwuSCnAKfgmPB5cHxQjYCFAG6gPdA4oDEwTSBK8Cyf81/4EA5gAU/x/8kvko+AL59vtq/XT8dPyz/WT9DP1c/+kB7ANqBdQE3AQyBtQHIQvzDvUQpRBgEZQT0xPgExgTQRD2DRAMzQlWBloE0wOnAbf+fvqf90v2yfWd+DP6//g99inwnO0I8072SvRe9KLz/u/p8KLzo/NU9S33FPh6+XP6RPy/+1D6Tv0X/qv6Y/qO+Q33kfgG96fzo/b2+MX5ffzL+mL3dPcZ9mX1Y/ZD9KTzjvWN9QP3e/mU99b00vMG8k3zjfaw99D6LPzo+On3ZPdU9rT4+vnt9w738PUx9WH4WvmR9wD4oveh9zP56/h4+Zr7kvxR/mr/rv15/aX+Uv7g/oP/9v2x/DL8J/zi/bj+cv6R/63/uf/kAEsADgArAdABNwQ9BlcFdgZgCO8HowiyCrILJgyjDAMOWBG5E8EVFRl7GsAawRs5Gy8YZRSVD+MMCQn4/Wv5PPwy+mn55vmL9VT0pfdu+GL7xP+0/zUBUQSNBucJlAoSCwMOWgxSCUEK6QhGCiMQLQ52C28LZgYsBg8KTAhOCDsKqQjMCwIQcQ9PEsQTshDHEUATdxGVEVQPjwvqDBILNQdEB8sEZAKsAnD+8/qA/48CSAOlBZAEcAQjCXcMBA06DV4NNg+bD88MPA1XDBMH+QWmBtIFKgg4CnEImwcnCCEIXQmiCY0IGglgCLAHNQgHBtAEJQaDBTEDMgGG/rf75/oL+o74ifai8gTx8fHa8jr1mvc3+or+iQECA6QETAQmA4kD4QOsBMMFiwVSBUMGtgXlA7gBz/zT+i766fRT83b0U/KM8MTu0+y/7aLuX+wj6mDowuay6K/pmehH6lPoHeUr58Doo+oh6zTn8uYs6ibq9OoA8EDzf/U/9yf1AvaY+Bn45vn7+pj3wfa596v1cvX89WLzzPHG8Z/yqPT39AL0z/QT9aH0Yfa89qD1FPac9hP4tfrl+/f8ov63/tn/awGtAZ0ExQUpAmcATv/f/aQA4ALYAUoCAwKuAbgEvAUjBLkEGAbXCJkO3g/LDPQMkgybC1kMCAuqCeMInwbdBFIEvQJXAVIBaP+Y/lAASQDNAAMBZv86/5j+E/6Q/2//rv5YAO8A3f9FAasCqgITBPUEhAWXB1oIJgemBrAGywfWCYUKqgqPB/UApPyl+Uv3rfaL9KvwMu3X6zXqT+WU4X7hIOMo4qzg9uHU4K7gJeEl3hjeguDf4JThSuNM4g/hCuHv32/gMOJT49LjMOMF4x/l+Oel6m/tRe6n7z/zJ/US9SL1evWZ9SP27vWZ9JH0GfYz99r1NvSp83Ty6PNS+IP5t/gk+2H+sgCqAwsERgOZBb0GWwbwBqIF4ARAB2gINQjmCPgIzAnlDLoP2BLYFl8ZrxvZHcYe6x+ZIEAgLB/QHSsdex0BHY8ZxhV9E8wSbRTwFBgUrxMGEioQ9Q/QEKoS+xV7FwEXUBhqGQ0aQxvzGqUZLRkLGdoXPBd+F6EXFhfnFPcSIRGJEFUSRBJNELoPZw/jDcMO/w96DMMICwd9BZgF4gSZAi0CYQB//TD8RPkM+DD6qvuH+zH6evd+9QL4D/p9+V35sfeI9n/24/Ya+Vn5Afhx+Az4d/f0+BD5vveR9y73K/d7+BH4z/Yq9gn0EvO384nyHvLU9FD2dfUB9gb3KvfN9mf2mfbh9h35G/xM/ZH/GgIEAWn+Sf3A/Ej9nP5Y/s391/22/db/IQMMBCwEMARHBAQH5wlsCXAJKQpGB/QFBwhvB9gGDAm+CHQG/QX6BfgFIgXQBFUGgQYzB9MIkwgiCLgHwgYBBtcF/QWwBG4DVQT4BFcFPQZlBvoFZQWmBnkITQnwCrYKjwlVCf0H4AbNBjoHXgbjBNMDRQEg/7H+/f5M/+r+5v20+yr5qvhA+U/4DPe098P5VPrJ+W/5ifdU9tv2gvft95r4KPoF+9T7V/sQ+Xf4Ofhm+OD5mfqw+8r95P/NAQACLgHWAUsCcgLWA6UEmQNJAXz/y/5W/hL+9v1f/WX8XPyQ/ED7lPmU+I33Offh9xv4sPhx+a74mfds9wX4GPlM+vr5I/gX+M34qfhj+Z74gfTP8NPvTfCH8X3yJfKj8EPuE+3K7Abr+eix587mm+V55LHk0uTk45TjR+SD5bTnZOku6QnpIOq26kPql+tv783x4fGf8bTxOfLo8XvysvRG9wv78v3J/v7+d/9SAJIBXQMvBH0EvAYXCfAJEArnB8oF0ATfApQBhgDd/+r/Wv/K/bH8Hfw7+ar38vli/WMBsgNzAtgBXwTPB8gKnQuZDFwOww3ICxQJtwcQCMwI+QkyCY4GmASIBZcJiw1CD2sPuw9YEFEQixBXEZgR1hGMEcQOAgx1C1sM3A1zDd4LDgvwCvoLBg21DT0P4hFLFOEUSxTlE7wUyxVuFasUIBNeEcUR/BEnEZ8Qqg5GDAcMXwvTCMAIiQq6ClcLkgytDCQMoQvICgoL/wwDDjAOrw0uDPUJ4AeuB0EH/ga5BjIEGgKHAGcAmwKZA+YC3QHCAa0CzQPYAxADngNjA0QCdQMpBIgCnQIyA5gBYgCo/sz6QfjG+RH8VPwE+/P4cfdp9IDxevL69Nn1evWn9cz0U/RN9cX11/Y093T0g/Es8gTxIe4x8cT1nfaO9T313/Yh+Wj6bft9/Db8X/yD/Dj7t/qU+7j76Pm8+Yb5KfZb9ff2HPiN+Rb6Yvk8+F33YvZo9Sv1IvcV+5H78/iE+eX8yf9FAtACVQHhAbIDHgVIBsQEDAEi/uz8bv5hARsC2wHyAs4DuAOQBLQFuwRhBHcFOAXjAx8CpgEWAsgBLAJBAZT+uf0//9sCQAYWCV0MAQ3PDCwNyQtaC6wNFRCaDycNLQskCWkHBAafBKEDQQL+AZ8B+v8DAV8CVwLCAxYFjQQKAxQDeQO0AnMDMgSjAuYAHgEdA4QDJwIlAcz9zfm796v0GvOw88ny6/DM7nnsM+rf6KPnG+Yu5ezhK95D3SDcDtv/27TcMtzF2jjYXdZ11t3Xptki2/PcEd523VTdtt6P4VXlleZs5ezjLOAX3THeCeHr4v3hVeCb4Dfh+OC944zp8urm6dbr4u0K79rvPvBa8qz3nf6nANL7G/j8+Lr5KPio+aD9nfyS+k779vwO/qL8IP48AucCgQRMCLgKZw/dFLET4Q+TECMTBhG7Da8RRReBFtsT/xXhFiQS2BKQGJMayRkIF3wVDhnSICwlMyCxHG8gXCOTIJ4a8RgKGaYY+xtwHdsa9xhaGEMXTRTHE1IVjxPKEywWzhRlEsoTHBgbGBgT/g2CDbwSahSkDxgNgg2cCtIErv8Z/1cBFgLpArUB9v/hAMID0wWbAmf/Nf+vAPcD1gWEBN0BJANgBNr+3PWV8Czzbvbo9a71Jfdn93L2X/qI/eH5SfvhAgEDD/0W+5j+r/+N+/P7l/zS9kbyfvFw82nzXvNJ9tzz/fLP9kL2mvaA+Yv94P7g91D23vvw+4z5n/Z59AD2BfYJ9JPy0/L99XT5gv1hAK/+vP2GAdMEhAK7AYIFtwVhBGcF5AbbBcEBeQEYA7YA1v7h/4cBfgPOBuoGAgA1/FABPQWTBiEKHwxKDCgLWwnsCHUGbwb4DYASsg1aB7EEJAZ3CxkQ5Q2LCHYJ3AxVDLYL1A1YECwOLwgBB60JXgdBA/8AbvxR+lb7+fgQ9ULv4OqH7KPu5vB28a/rhuju7oX3VvpG+LD3Fvpb+2X7FvzN/Zv/0v/k/zoA/f9GAMAAbAKXBFkCTP9iAF0CWQUrCuQKswPo/RgBigQmA8oBhQOVBZMFEQWJBO0DfQDJ/l4EpQc9BYsCpwCl/4cAIAMLBiAIJgfjBUQHMwmkCSoIgQiLCA0FUwOVBA0FNQQ2BdMEwvyu9UD3//dg86jwZ/EN8g3xee2H6ZTpv/CN9tXvuujO6TPovOMC49rkteWN5jfoWefU5YrkHOFE3vreJuNm5S3kfub46Q7r8exY6mHkpeQR55rkMOVI6x3rCefv5YTneuqb6P3jrOQy6Q3sb+v+5uvm9u/x9Y32S/iW+6j9nvxY+xb5Bvn2/vQBPP+h+3P55vtnAC8DAATlAIf/yQITBSYKIBGqEqES5BL0ECwRxhSEFscV1xa6GLYXtRakFwsYpBboFY4WmhYyGRYdVx2SHZEhNCWDJeUkZSPzHwAe0iH5JIAguRtpGzob1RZFEUgStxTyEesOEg1tC0wM+A5dEAIQzw+pELQRMRF8ELsUNBm7FaUR5RAyDksPvhaKGsEVeQ1qCS8JDQhYBjsH1AlMB4EDwwbgCTAHngODA8UDwv48/IsBlQOC/737VPt7/8AC6P6/+Sj58Pgx+WD4WvUc+Wj+xf1/++n2/POq9z/82frz9CL0U/jy90r1h/dr+BHyR+8f9mr6DvYR8rfwre5o8Jr04vFg69Duxfdx9brsF+tP7kTwHe6s6rrqsOw67y/w1e8K8qvyR/AH88/30/ZZ91v9/gOTB8oHjgcZBHkAZQKOA6ME/AjYC+ILIAi/AXv+Cv/J//f8e/tvAtQGQwSWBtwHpgBW/GMBsAjtCLQFawffCJIGEgNc/kv+6wIBBGIENwZuBi0EdP1A+NP5df5XBI8JNgl8BBcDoQJW/Pz28PoiAQsDFQYvCd0IEQi2By8FuQFJBMYKug8YEakPoBF7EvcMqgcRCmQRKRF/D1wYfx3nF5UQVgdQA9ULAxT0FOUSuAy5B/ADrvjl8mP7NgQrB0oGkgIO/t33Su665o3nueyR7fvqhuhD443d3trl12LU9dW53d/lH+su6pzi1dr41rHYyNyl4Ejp7/Jl8jfqreRC4fLb2dlW4SruqfVN9Cfu+OZf45Llkumx7qv1x/qE+4v4OPR774Xp8uN34wzsw/Ya94bwSu7b7yrtlOeC6ajx//ek+pr4/vJH8G7wju3H6gPvj/owBOkE4wGSAocCsPvy+fEAJAXwB4cK1Qf2Ap/+Wvs++239SgEyB2oN0BFhEUMMFwkLCYAIrQjsDVsYCx2VF9cQmQvBBlUEGAZzDMAUxBj7FIsN6QjyB4MG9wfMEAUaVB75HYoaWRheFzgSygqYCy4U0Rm0GhQZgRXdEMEL0gl8DdEWTCGuIzAgAx8KHgMYAxE9EiMWMRU0FtwWZBArBx0Asfp9+Ff/ugllDPIIRgWNAiMBZf/f/AP+bAIIBQYE/P8e/R393fn69FH2FPsl/x4COwKU/3T5x/Fv7wrzkfXw97P+mwD9+f/1T/ZI9cTyQPNE+SgAowRSBo4DK/+g/Y39SP9uBSkM9A2mCZcEZwLz/679iP0B/jH/1wOYCK4FCwDK/V360/fH+8sBMwQkBG4Ayvqo+PD2dvWC9v/4XPyT/vsAoQIF/nD2pPSm+E79dQFdAxwBvP7c/Zb6+fWh9QP9ggVgBzsHXgWWAOj9FPxc+ln8GALdBaYFdQRkAUH90/vU/sECogWbCf0K8AeiA88BWAICAJL/BwRaBk0GRAXGA4YBwP5p/6oBggWxCRYLqQ3cDIwGWgGr/Nj62P8qB2MLxAnPBvwFxAFs/lQCFgeTCJEJZwt1CvMFcgISAakApgBYAX0Bnf+J/+AALwH//x39s/sd+mf6YP6A//f+jvzP9iX06vb8+2D/1wCCAkEBc/2H/dr+bvuQ+Pf8GgJ8//X7kvxK+Jju3eo67wL0MPbv9+L47fYU9J/yQvBS7sDwIvbi+CH0B+6D7c/sEOjp5OHnC+0Q8jT2JfYx9ZH0+fKR81b2lPdh9kj2o/es9tLw1OpO6knq5enh6+ntofEG93j3A/IR76Txi/aO+9z8CfsI+//6q/ZR8jvxZfH+8qf1vvdq+L33y/aL9vb0vPM++EX9//wl/Aj8pvgG9cbzkfNm9uX5oftw/V//zAGmAiwCMAaRC5YMbQwhDfkPYBK1DfkFawHxAMcC+gO0BU0HWQZEBOwDwgQ4BZMHYwpUDCMPhA9ACywF5wFgA4AEcwJzAQAELwaWBG8D4wO7AzUDPgGbAawGHQunCrMFuwAp/+3+Q//DAVEEswYiB0sCof4TARcFgQbRB/YKZQzmC2ML8Ak/B88Gpgn8C8YMGwyDDKYNSwy9C5YKrQjqCM8InwpjDTANTgsaCvoKfQnaBcAFIwiHCaUIQAhVCNYH3QhMCHMIhAyODScL2wj4BqUEXP8Y+oX5jPy3/o39F/sG+l37P/3L/RL/8AF0A3QDwARmBmAFcgI4/nn43PV9+Pr8i/4C/WD8Efs/+sz78/y8/6YDCgYoBScAf/0i/uH9ZP20+vb1zPRi9xz5MflR+NH3g/gq+CX5yfz5/vz/7AG2A/0CjgCU/zsBUAPkAK/8DP2l/0AAmP6j/AP+yQKdA4kBygLVAl8BMgKuAqcBEwC8/R387Pu6+Zr3uPnf+x79qP8ZAWQACP+8/wQBuwAxANn9pPzl/i0A5P/C/bX9VwL8Ak8AsgK7CN4MeA8lEKYNlg12Dm8L2wfkB0YK+QmuCNcI+gjNCeoIpAfGClINgwunCQ0K0gqxClUKlQh4BR4E+wS4BBcCRABUAFsA0AAFAucBYQB8/53/gf/c/iX+Wf2D+5D5XfnF+Fb3NPZU9Fnyd/FQ8hP0jfdI/CL8tPgE9wH2evZj91z3s/mg+in1CPFW8snzA/Mj8SDxIfPI8x3zkPWD+Tr5a/dd9tT1evfg+H74I/cw9c70qvWd9k344/n2+rL6k/pR+wv6bPgS+Ln4Svj+9Vz0wPEf75DuV+7i7Tztpu7b84L4fPkC+jb7SPyw/Sf+yf4NAGT/K/zw9xb3Avnb+JD33vV/9PT15PjZ+gL76fpI+437F/0Y/08AnwFpAqoCxAIkAHj8/PwSAagE9QQ/BFwFQgiFDCwOXg0VDvEOlQ5kDj0Plw7+C9cLhA2UDhEOMQyiDKgNBw5NEIMQIg7aC/MJfwtADsQMCQmACOkJLAirBdMETQX6B1wJFQgpBzUHbweTBmkFswUbBVYCqv5u+kb5V/uF++H6r/vS/HT96v4QAoQE2QUhBkUFbATlA2sEywO0AIr/o/9o/Qr7ufle+Yv5G/mP+mX9L/7Q/S7+vv/pAfQC7wGjAUQD7gOVBAgFogLAAAABNAEbAgECBgD1AAMEAATsAqMEfgX+AqwAdACJAVIBCgDO/5H/Ev9w/rD+awBbAuoE+QbkB5gIEQi+Br0FuwRVA44AiP2o/TkAkwGSAFH/0//mAPEATwCr/+D/FgDZ/dT63fgl9zr3Qfht92z04/BO8CXyufIX8inza/Ub9ub3Svuw/I39GP0N+o34zfgt+WH51vjG+e36ovnP+Rb9cP+BAA8CyQNvBoAH0wUnBqAHpQfOBu0EQQO7AqsCxAGhAIoAOwFdBLYHcQiKCjUNYA34DOcKmAcrB5IIpgmYCkAL0QovCAIGwwXgBD0EBAVpB90JGAkCBzkGYQYlBlkFOQUfBZ8ENgT+As0BcAHDAK0AVgH2AWECigHo/+/+j/4h/Tz7ivql+uX7g/ya+Q/2kvYh+X/6bfxx/b780f36/vj9c/y0+hj5Lfme+Xb52/ke+pn4ZPVv84HzwvRD9w/6l/wP/PX4ivcN9233zfcY9l31J/dT+YL4EfW388/0jfXg9N/0YPZ59xr4SvjO90j3yvZK9Sjz1vOi9oX3cPd69jb0VPOA8kvxRfM8+eX9Gf27+1f85/zQ/dv+cf8j/pn8Nf9aAYz+h/xQ/R/+KP+1AJMChwSVB6YKHQp4ByMFpgP7A7sE+wR9BKYCqQEtArkC2gJKApcDrAg2DXQNUwt1CFwGdwZtBgMGmgW1A3UB+//U/yoARv66/MX+2QB6AYIClwPOA/sBwf7q/Cr9iP6CAeEE2ANDACP+wfvT+tv76fxr/3gBLgGCAd4BrQA+AMr/xf5PAGEDegRyBBAEzQL7AtUDqgRbCLcMEg9dEIMPGwwvCZsIcQjbB5UHSgdmB2AFaAGTAPYBkAOZBHwE1wWpCB0KZwloCPoHNgZ5BIwFuwaIBn4GFgSoAFIAyAGmAxkEgQPVBFAGZQXYAoUANf89/mD9Jf0R/ez8nvvC+B33qPZf9hL2NfY7+VD98P6x/dD74Po8+fT59P1//5j+hf0l/Uj9RfzO+4v8sfy3/ZwAaQPiBfoGEgbGBQ4FUwJQAAABVwKBAWH+zvki9oP2JfgX96L2Xfgc+TX54vgv+IH5WfqD+P/2vfb89k72KPRU8znzqfNX9lH5Evyn/YL+cf9R/m3+h//N/hwAAwPnA2gBPv7z/Vn+AP6Y/Y79Vv6j/y0BigFVAYECiwKJAZYB2ADnAOkCuwNjAtj/+v0t/kcBpQV4B9YHegm1CwgNbA22DToNdAx8DTQNAAr6COgJIwnuBq8E0QIsAnwEhQesB6sFZgSmBNkEUAWOBrkFuAI1AdkAPgBpAP7/Cf/i/0ABygKtA9gBswBiAAT/BP93/9QAzAL8APr9B/xM+cz3mPhd+WL5xPpf/FX8cP1c/r38A/zQ/Bf9fP28/VH9Ff3S+9P5pfgS+GD5s/uZ/Vr/pf9t/4f/4P43/2UAUwB2AC8A3P0f/AP7xvmG+ev5H/uD/Hz8Pvt7+zT9FP2X/KT9gP7T/9AALP8l/Z78lv3m/sD+Av5O/p3/Tf8P/fz7ev0YARIDXwKKAjsDfwPJAt3/yv0Z/oP+Vv43/jwA8QKJAtYAUwAyADEACQE7AccAtgGhAQYA6v/8/53+s/2r/rIAmgJFBNYE3gS/ByELxgp3Cs8LgAsjCr4IUQd6BkAFYwOHAtMCegJjARABGwGYAZoC0wIfA/AC3gGZAzsGjAVnBCUEYAO+A/MEEgXwBCIFjQXwBbMGuAjgCTYJnQmBC1MLhwhhBogFHARfAowBoQHyAlQDoAFQAHz/Mf9m/33/vf9n//z/3wDZ/s78vPwq/UD9YvtU+gj8Nv2F/bD9sP6+Ae0DVQQ0BWAFJwR5A80DJQTyAzUDbAHF/4j/of59/CP7cfu2/MX8ufv3/PT+P/7n/MX7h/q0+tn7cfw8/MH7mfrM+Nr2q/XX96j7RP2X/Sj+Bv3S+d33n/e39yL3d/Y++J/6ZPu3+g75Rfck9t73DPpP+439y/1v/Nr6Pvj29UP1YvVO9CjzVfMq9Kb0iPRp9OTz7vKe8kr1mvku+736vflW98b14fbz96b4yfmr+uz7Zvwn/er/YgF3AAUAAwIkBTsHwAYBBA8D/wPMA+YDcARTBAkEnQJiAd4BcwLAAuYCZgNMBnEKfgslCT8GuwP0AkgEAwbIB1wI/gaNBGkBuf9WAF4BMwKQAr8BfQG5AiEDgALnAk4CA/3u+oL+OgCZBaEIDQcvCWoBqPkg+lH7EAkHElgMxwQQ/nX9zv/bBR4IaARkA3j9ovlM95DyiPl4/+77if01/zz6A/mP/sr9u/vKB+0GWfwu/2T4s/js/xj9o/339of6QvqE8iwEpgJH/x4K/fmU9er5Sfjk/lr/+AMS+4TzoQEw/Gv9OwqmBJkCsQYbBcX8UPyr+3rxpfi6/qb33fmE+0D5QPtZ/6//hf7ZAx4EjAPzCZkJlwq2DQEIAwYABzsEFwqEDIwCGAXXBmT/tghDCUwAaQs0DVADEQdgBZz9iggHCsb9egeHBIr5nwaRAHX6NQlMAGr7mwTp/DgAzwRwAAADevmW94cAggGsAHD65fbR85bxWvAb73z3h/WX8Ir0D/P1+HH+XfiB+qYAI/50/AYAE/9Y+2r5cfWa+BH9V/pbAkQG7gDmBd8CQwLRCGkFwgrCCpoCuwJ6/jD+XwKAAVYBwQRXBYr+swAnCncFzAKbB0z/kP3+BbYBtP+vBlYGEwTMB74HTAbkCpUJQwN1BfwFyQMdCckHXgBGAS8EYwUQBqz/zPuMAyYCkv86BsD9S/vjB+AD//yNAxYDa/0GBbQAlvipAwb8g/er/gz1k/q6ALb/7gdZBy4G5AVMBM8E/wEpBqAGufx+/tj9ZfpZAlIBwgN5B04CVgGf9kHylvSD8YX4BP6c/w77qvrt/WvyavZW+0XxIvWX9L/uc/W3+qX3o/ds/qz99Pm0/Wv8Uf5mCAEGeP0Y+QbyRO7c80D49vmf/Fr6l/rg++j6CgJJBaEDwgTT/nP5qP4ABGcBqv34+t76YQIKCKsJmQz3DU8O1AlIAzgIYRAyEUsSyxLGELETKBpxHWUedRxZEi8I0gKSAPoGhA5bE0oRPgUd/3T+2f3C/d7+6P9N/J37s/n993n/yQFI++T4QPat6DfiaOZ94fXguehA54Dn3O3K7XTu/u/36p7mRugi7g71HPqN9avyw/YS74XtY/YZ90r5EPoG9njzEvU/9ZjuD+xt613uTvOY9BYBwwXvA+gM5gZdA34I0gL5BPII0gQnAm4DFgTmApIGvwVH/0j/XACLAg4IIAcvBKYDhP/b+5L6o/oH+2j7Tfui+Yz5Gvdu93z6S/nT/Ff/8/tN9uDwqfYl/ID+FAZf/tbuGeyd6rznAOyg7yDzU/zG/P31M/Gj6prkqOKW41PpV/GX8KjtevAu9P3xOuil32ngt+rK8z35Lf1VAFL+a/f/+p/8yvtoBEkFUAGJBPgOaRpAHSIZKxSyERkQOxBEFx0iHyTGG8cURBU1HDIhJR90GsEWxhYwG58c7xc4GGMbzBjxFYcSihMyGmgaoRrYH6kjmSNAGhsOiA5VFiwWNBXRGHgTWwykCL8H6RCiEpIJmAES+QX2Hfwa/932QvBk713siOld65Hu8u5E8NHzrft+AjwExAbgA4n6V/KA88X8WwRTB6QJFxAvDM0BOgPBAjD94/oo9sDw6/HR9m30/uwS7SXw2fPZ+DX5iPkJ+8H/jPwu8Vn4jf4I+Lr4OAZLJFg0+iDDDXcNDxLwEtET0SAUIIYEUPeT8yjrQ+zW8GTvGPPgAIn/p/AB9UYQtBdg//j3EQLBA2YCMP/YApYVCRw8AFPlm+1fBzITLBE5Fd8SkAO7AZAHegG+/QIB2/5a/nABGQCu/ef9TAf1F44cthekHEgpXzJeKTgP8wffFTEelyT/K8EzRjdjMYUpth8XIFssKTL6L/wmDSGtJU8mjiFZH1kiDCawGd4OsB8gMlEvBCOyGJIYzyMGLM0t5y0UKpwlNCK+Hhse0SCWIS4esRrWFFAMtAWzAAX+2wC4CVoPHw5NCfn4QONn1KPLWMxY1BDcm+AT45/maetU6hfb5sfpvke7jLysy6ze0OQc49XbQ8xzxl3O/djs2zzYf+M19rT60/Fn6wby3PQe60XkQ+Uq5VzmEevX7bnzdvUq7UPpnupu4ljPYsXSyOfTEedW90n+bfuR+IH56e/43ubPZsjUz5/jHPQg+Zn9bwAD/ej2Z+t03FjXMuYQ+xsHQgnFAuD9a/iF693jjOln9OL31fQc9tz5l/gi9Rn3L/tw+gj5APt2/s7/lv4i/a364/h7+8z+lfzS9o7yV/hcCeER8Ant/uj3efHo65HjwdpX4kruLPIx9jf06/M7/Xj//vC44+nq0/HZ65ns/ffHAq0K6Qwn/TjxNfts9+fi/tsX31/bFNH9ymbK3ch1wTC6bLbbtCK6ubkmsWSuT6/CryqtzKdLpcilD6pvtJy9Qr1Ntw+zhrRMuz/DocmlzErMMssMzhDTJtbB3QjrUPdy+1v4L/tW/8f9bQHvB1oHAQj3E/8eJh19F9QaDiSAIG4T+A3yCmMOiiAoLAAqBjJhRDxO1VD8S4s5yyl9MFo+VDnkLj01qkGzPmYw0jD7N8IwJCeRH5cOJfup8+P0Jv4JCCkHzAjoCw4PWRhxFKEDDARAFSEXoRAqGb0ipCa0Ke0tYDi/PTU5wjkGPsI3TiLrCPIB4QyKFlAYaBupI/sgFhVtCfb2d+Xa4jfn1+Tx5cnpo+Qj6JXzovC45OfgkeJv5eXsbucG21jglOVR6lfy6PUyASEF8wJjAp716ep87tb+6AjSC1scVyE7HT4nwSriJxEtQzmWOLMqVi3xN9w+sD8cND4ozyfiM4Y2rC3ZMZ4z5inPLBgsEhXrDV8kZiuSGGgT/x6PG+wIlAKl/7Dx4vg6BX36HQENDuYFVQKUArn9Hv3lCc4O3wXUCQYCsPgpC+sRDREXGNEc8Cz/NFcuzTBLMW8xqTtzQ7k+1jJ4MSI2STO8JpIZ+iBMK18p7SV5FC4H8w7xCzX5Pu3p8sr6NPY5+tIBefvM8b3dVMX2t6i3RsMBzOvX29zj2Mnof+ux4s3s0eo177v6Ae/Y87T/0PZv8274gfpH+SYBfQycDhsUah7uIWwZmhSLETUJ7gpCA5n9fBPYHo8cPiCmHZAayRYOFEYc/BodEk4KVQahDBMLbQJz/QH8QO8Y3krdutpb4WHvbOiR44bmYt1h1UnTUMfWsOOonrT4uYfDVM2hyY/Fcbq3t7u9WLq9vmvG0M3H1qHbuuMr307g2fRN+XT2qulJ1BbZ5d8v3qrdmtUy35fjk9iu5AjtdOcG4kfe8doN193ePOKq4rfol+3p8aXlm99s3g3MBthX7azrS+ot5A3lUtkh1Ezjy8isuFPCx7+1vzjCjNN71D/SutvhzxnP/c5kzQvaY99a62Px3vLr/Tn+1/92+/D8tQrJ+ar3lA/lGowuyT0bQEA8rjYMM5EkIiY/PNo60DJ7OQMkZxMYLP8wxSE+HzUgPx5SJDMruCGWL0FARy1RNDQ51RojFnMc8BvtIawmaCVeGpMfZyXzEx8X/RhTBakIfQii+FIF6BKQCZIN4RDFBsYLigyM+Prs+vdz/V/tdu0I77Db5unz8JbLacZ80uXF9sSz01PUfNgV8v3z5OxF/ivvNdRm2iHbTdJo00HlouXI2GrpYeB9zX3SbsQQwhrAnLIut4G+NsYSxabLys0NvQrBu8eP0iXflt113Pbj+PGp4znm0gNG//D9+wDt/ZUAdgBhGMAt6y+bMQswxzFjJQwmSCfLFR8utDObHlEn6imQKo4kxh2sGIgXtyJsEaAQehseC4cKjAQe+lj5+vouA8EAWAYGAe7uzviy/pz+2wE0AjsB/gSBF+kNFQzJI3UZAhywJ0gTXxOOLbAvLik6O0U5iiZAP11MnDn8RB1EkykGLZ84zi5ILYI+dj6ZMaM53UBVPrk9aCaJEC0WZRxHGyEbURweD/0HCQgk++r+lwMrAnwEwP3n+CDzmfjvABP8lfz+52TX4u7C8UrmLu348ZPt3+VW5dbdmeUg/074gvR7A5ED+vy0+NX6qwLUBmkC+v9XB8kJYQYRB+v+mPT09Z/xsupQ6XDonOeX6cP53wVg/C32TPde8ULqIuuT6/znYu9D9+P5m/Yo5sDhPuMY3qzgiOdj9NQDeQqQBbYETgqYBJMAFvwT8ZX49wbIBY4E5Q14Ga0X3xQpGDsNkgSHAdcCIwlsAX8AuwzaEEoRshBlCzkGLAXDBRMDqAnMElwJzQG9BvMEeQIXDe8LcgQcE74VQQwDFIkUdBFwFmAWbxHiDucLffypAacOxv/hAEAP1RAaCTX+vPhu+hoMChjxEwAaGB6AGTEeOSAyG+IXvRDiBav/fAP3CvQTWxg9EwMTphNpEvgX2RbMBUz9yQcPCv0CBgQ+CvECF/Yh9t7pkd7O4t7eX+Wh8srvlumJ7U3qIdf+27/p2OCj4rznSN/r4o32AQAMAAsEaPrM9Z/9DfzhArMKSguQDZYKfAEw92b5Xf0U+YD/eggzBzAFMAV/+hTwifZd9IDvl/Ty6gjfT+V67xjzZPib8xXnT+zD8+7zC/V58ufsSO1t9o754vVj9VT3Kffm7FnhX96G3nThEOSe41rdpNf342vrYulW8rjzlPicBVoHOQUdB3sN4QPs+Kj+o/cl9QQAOASXCnMJ7wCR/wIDAwkjC2sHKAAn/yH/y/Ee9A0BG/ZN8HT4GvUJ6xDlfOV646njoOLr2gvg0uJU453vKO8t5i/pY/H97DrrhfcI91gAZxAgAoP+LAWF++f4QgOPDhIO2BRnGtQNcRDYELcILRIHFOALHhE9F6wSAxDED/4G3gIeBbD7V/gK/T/7G/zE9U7vS+6P503n3OjZ5VzmDO0D9CP2Pvni+P/xYe8E7uvonOuc9Pz2n/XR+HH9lP63/uz4ku7566zt/fIo9wj0FfSz9j39zwMsB/cJvQDc+A/8BgKWB4AKeg5aDp0TYBisDgQS7xN3COcNaxXnFXwYbRRlCA0BtQfsB57+7P+x/jT1APYt9vjsyfEI+a7yv/ZVASEDvgVeDpoWuxhnGcETFQ04GBAaMA/uGZEgnBQaEwobaxodGmcgyxwdHbAl7h43E8UabCX7GxoWdRVRBtD9UwHcAe8HRhLAEukMwgmcBKT8jf45AJv9cgHMAFH/bQNFB8IGEwIlBNYDMgJdDHMMDQe1DjUQsAvDDj4SFBLGFq8YRxKKFvoY1xXXHBsejBhMFlIevSPnGqYbFSOCJ98pbSE0GCkY/RmBFjISExDFDIwOnhPDEkYRNg2SBRgD5P0I+uv+DwQOBQX/YPy7+vH0kPHg7xvzrOr34XroqOf36xb0re6z6RDtOu065wvmYOhK8R38nPrh9Gb2pPz6/7sAJAWYBikBbwY2DKkKIhEHFEcR7Ahf/uv5Hvcm+e3yOuzb7UbpzOkn6Trnre6o7M/kRuOH5S/m6ONV6u3sq+Ix3xzhveAL4yjqLfAA8+b3fvjU8jjvbvLS9vn4Kv2E/ssDCgysDU8K8wSiCFcI2AFaCM0MEQo4D/0WehdQFVESeg0PEccW8RJSFCUTcAr+EJcQ+gIfBkUN+AkjCUYEJvZj9GX2svG07frkG+B/31TfdOXg6Ebk/eHK42DiLOLi4RHekt244S/m7efF7cL25PYi9h/+nQFI/fn7EvwF/OX+6gOVB8kL3hCDCuIERglxAoj9UwJG/Er11/MZ8IPqjubA5GfiS+LB3vPYQdp522HdO+cY5+/XVNUV2fLVMtrc2jnQ0sm1zHrQeNPC29vaEtfW35Pfgtuk4dvkF+TF5lfsoOyL75/5Tv8UBO7/h/hC/Kn3xvIg+ff7HfvB/KEAWv0e+x8A9//C/mL7CvaM9ev16feJ+qb7TfpO+kX/VP6t9qPyH/H+6mPlDeMJ4c/oC/LI7snpg+ky6crpI+3g6xfoRe2N88r23f49B6cIyQcKDlMPjQ9JF04UeRbAIDEm0SxzMGs33TtYPNg7vDedP6dF50QSRTw+rzzrPXQ5IzGpKkMoWh8tHucgQxhDF4gVDwX3/WcISgweB4wIugc5Ap8D5AP6AqYE7gEO/DP4lgCXBw8DMwKbAJP/BAFD//H+ZgZYF7sb5RZ6HSIdQBmhHfUchBk7GKEYDB0VIKgezxx7H+kkYSHdGrEcMh1xHAEffRy4GeUZBhcMFwkWVRCPDNgMDQ5zB0QEbwMQ+I71SP98AgL74vft+7T77v3n/bj4I/rf+ZD2MPhe9zfzI/bl/MT9Zv8sA+z+wPfB+/4EdgdnDzUXDxRjGOQe1huzGIQaMh0bG4YYjxYfGK0j6ye5HK4TNhKWEv8QDQ8jC6oEkASzAED35PZ888nvwPRi8r7xAPbJ70Xtv+9F7SHx2vZ/83fvJvil/+T7nADWBaIFLAmMB3gFDwbWB5MNeA+qEXEXKRl3GLYWXRS0FOwUjxEcDOIKIQ1JC0wKNAxdDAYH/P+eArgBQ/20A6EGBAY6CAYLdQy2BvAElgO2/1cBMPtv+V799fha+07/5f0X+L/3sP/0+O/1wPqR9p31BvU895X2//bkAO0AgAPHBfsARgL3AacGGgnVBUAJ9wpYEI8RUQkPC8AMlgr+DEANUwoACjAM/Ac1Bk8H1wMDBb4CCP0498Xuk+vg7MPujemp41TgR9mk2VTWv8+t0aXPN9Am0VjSd9Z+0k7Wa9kI1ejXQ9hU2a/ZUdYp1K3TZdqW2EHWT+L65hnngukU66LpmuVv7Pft3eh97Kvsyeyb7R3uO/Cr8ij5Yfa38k73TPcr/BYCbQGYAZADmAk+CCAHzA+wDwMPKxBODqMT4RgDGHARPg8OE+gPuQ3PC9oKkhUIG2oVMhV+GFQWUxS9FaETFhIhFJYP2AnTDSMWaBZ9D6oO0g+nES0W2hTYFqQf2CZLJoke3R2RIlIlCyLJG1Qe+x7yH0MkrCBDHmwZjRPDEAcIpARABsoGxwVe/f/4nvsz/Rj6WPJV86PxnucL62Lujuwu8tf3A/Uo7Abtiu6u6LDm4+NB4nPkQelf7mHw4/CH69/rHPaa9Lnul/KK94H5f/da8zzy2vgy/UP4i/iZ+Y73RPn3+Gv1+vMW+jf+Kv5CAyIBKfw6/xL+8/gh96L7DwK4AzcETwKkATABOfkp91T7Lvs//AMASQSABfIHYwteA038yv+o/7b+VgSjBncJZRH3ENQOqxLLD6kHMgjQDAENXxTmGsMXuRxVIhUdAhnHHIsjSia/IAgXQBRJGPMajBtMGlIVKRCHDCMIGgTfAqwFdAEn9VfwHu9l7Vnt5egM4+HhGd8p3Kbhn+XV5p/phOYs4eDfs+JG5kHp0+f244zlNucq5ybj7N/L5B/pGeuv6W7pm/GY94v2//ZQ/BMAqv7//oMARf/eAyILkAy0Dc0P+QzlBhcIbQl8BHgCEgPhBwELVAlMCX4HLAakCOAMaQumBDQBUP67+yL8kP0i/qz8dfpw+JX1cPVa9xT5Z/0P/xYAlgLjACUAHwXZBwUDPwG5AtcDJgTwAHMFWQw9C0kJOwjpBqQFKgmADEYGMgY3Ds4LMgyZFLoTYxJxFYQVIhMZEVsO1gjpBsYDlv92/4/97viQ88303fMJ7anuPO+t53znnu0G7DzuCfX09bD5Jfwg+pD7TPzD9Z31pfwN+jP2a/YC9EXzLPnh+Q33PQFyCJUFWwdLDsQTxhafGb8XZxf9GxkckBqLGsca7hvlGhcYLxdvF4AYrhfnE5MQDRD7EssSQA+3EWAXYRhrF5oVaBFvEpoYdhhpFaYVDxHdC9cPmBFpEZMXWxoqHCIefR2JIOgijCIHImIhlB4FGs0XvhjpHPQcmRdWFlgWKBT9FOQV1RTyEvgRnhWLEPkGhwqeDPUJhgwMDk4KbwjmDPIJCQOMAlb62fLd8RLr2OuZ76zn0uQL6jno2+R+5YvgW9595E3kFuM/6Hjm7N6H4N3j/N6m3gfeVdb31vrY2tXv2c/g9+Gl4qTl2+ef6cvrRu9K9Ob5xf4nAowCBf9k/TH/igLkBfYFQwVtBTsEvgQpBeMBDwagCsgCXv1VABwGVQqYDNwMdQiHCcoJuwMeBTgEE/3X+kH++AFgANj/h/+o/BP+RPww+m4AWAG0/qUCuQSQBBsFwALWAHICmwaICA8HGQV3/6f9EgAL/cj+AwTLA9kBcADoAjAFOwR5AsYAWARiBuoCxASwB8oIzQlgA8f9FP8u/zz8Dfce8TLt2usF6bTlgehC6xnqFe448Zzvv+8G66nmmeh86tTr3+rF6CXnkeaw5oTjNd5L3frfrd5N26PZVNp33VrjIOlw6KHmFOfp6wLx8usJ7BDyCfDz7cLs6ugH55zrfO556XXmDuP14jXpxecl5fHofOwf6dDif+WS56Dkc+oY8J7qn+iE7Bnq3ujI6gLncec27EXqX+ob8CLyAvM79y/6ofrT+xP9dv6pAf0BMQD1AoYGxQZfCHALCAgiBYkN3RGtDF0Ntw9TDPQNqxejG4AVEBQaF+IToROZGEEb+BzNG1Ua7hsyG2MZ6BfmFDQUKxaxF8IVag8SDP8N9Q6EDVcPjBBJCV4IWw8uELoQMRATDSkNCgvKB9QJlAw9Cc0HNApqBrwIPQ9GC+gJQQpBB0QKSRHkFCETnRIxEzMX7B9IHiMcVyCSHxAguR4GIHgkQx+0Hesf0iD1H6kbKh0eGsEWURqXF5wUnBOzEhwT1xEREPALEQh/BjAHWwgSBWMGcAhpBPYFBAdvBSIHkghpCQ0Kxg9kE4YSahWaFGwRMQv7BRgM7A3dBkkAhQByBogFcAJgAAz9Fv1M/Zn7xvUM9EP9wQB2/Z/9+//GA2AD0P/i/BX9zQGQAPwB3wUqAeoAUQOYA18E2AOa/6356PjO91b8qgT0/OT1zPtR+h/6Yf779xH3sPq9+L726vQY8/TznPX965vqqPPi78DwL/Ul9fT4I/wR//sCOgdSCP4GRAjeCW0OiRKlEEQOPgvlDXYRAQqZCBkLUAqlC60GXQVUC9cLgAcgBocHkAOhA90HrwWoAff9HQEBBawCzwFd/8H+1/3R/CIE7AZDBYMIPQqrCbML9AxkCWcJvw1UDRUOlhJjEpQQug+fDP0Kagm7BAsD7QVtBjsEAwOK/83+vQL4AbkBjQOrA+AFHgX7AUYCVgXZBdQAmQGnBccDmQNzBC0BMPtk+MP4lvYH89fta+vm68fo6OYG6G/lpN+33iDe9NhN1RHSz9IJ1arRB9E51EXYVdun2NvS/dCg00fVFdbS187akeEG6WTrzetM7ALu/fF58hrzcvIR70PxGvO185T1U/ZI9KnuVO0Z7k3ucPLY9BDzafEd8e3yzfW59xP4S/aW9J7yefTx+UD4e/bX9yH2WPkx/XT72AAECtgIbQeHDXEPQA9lFKUU1BLgGKsZSxRUFWYW9xQHF3kWwRNvFjEZEBccExARwxOIGpccjRj4GC4eiCM9Js4iqB4BIRYkziIhI/kkNCZAKWUrDioIKTopaCaTIy4hyR4DH08fgBzHFNUPmwtsBcsDBwNTAX3+CwBWBG8GVgXTANz/UPwu+Nv4YPyiAMAANP6C+Wv6LP6i/wIA1frg+WX/NgRnBcEFqQlgC9oIcQWDBKcFjgT5/3r+rf3A96X3j/2W/Vb1/vAX9e/4Cfsr+jX59Pmx+gX9Cv70+hL5QPx5+zv3kvd3+Av3pvY3+lz7ZPqG/ooBaAG1AXMD8QUaBSEDOAPPBGgFOwJWA8wH+wLD/LT7g/nu+Ov82v+9/E36iPtd+1X81fso+Tj3/PRJ+J399f/X/3j/TAPYAqkDCAjrBO0GxAosBtIGQgv8CB4HtAbR/6v8eP0P+pn7hvn88vbz/PBv8Cr31/Os72v2lvZ18Zj4AvuY9BH2AfZA85P1WfSG8Rn0A/Mu8t/3vfl1+6P/l/5+/vMClQSsA9UFgQrNCuUH/AgCChsMuQ9NDScKGQpFCsYJKAkYCJ4GAQhPCjgMBQw8CMMGsAVvAxADiAAjAB0EtAIZ/6f/kP0396X04/KM8ZT54Ptf9MH1AfmS+Uj85foc9yHz/e+C8cn0sPVj9SH3Q/ZF84v0EPRw89b3zvhQ9qT2d/fR+Rn/cAAR/vf86fy+/Rv/2QAUAbr/zgM4CMAF+wTQBawHnw1zDQQG3wMpBLr8d/rQ/mD7Xfat85Px5vEW8WLua/Ez8kvtT/Ia9OLt0+/i8Srtge4D9TXwSO2p8OTs9u0R8lXwMO/J8QfzN/N2+Aj9HQM1Ch4JSQixDCgOewssCAkGxgjTC48LyQq1CGAHfgg8C3kNfBBjEeAP9BN8FqYVVxdpGGAZXhnYFMcQdhKVFPIUHRaYFcATuRUvF8UU2hbgGaoauBxfHe4blxv3H2AgzBuXGbQX+xYGFrgVkxZrFs8VbxQGF60axhpUG1waiBeoFrsXrxdkFuMXJBjdFkUXrBXxFbsWVRVaFh0X3BUGFMoVVRftE90TlhNVDr8K4ggbCEwIhgX+Ajz/HvqE+ZP4xPiL+aL4i/c79lH48vla+tj2EfJz8MfrHOlJ6d7p2+oZ69fo3+YQ7WfxGvEv8qnwAPAM9X/5j/pp/I/7Qvt++5D22vQ89Wnuqej+7T/yo/FJ9Cj0lvFj8or07vRu9jT45vZ99QbxY+7d8733w/Uc8/jxDvPv9AX1P/dF+mv6y/fj9Rn6HP3l/TT+8/u8+x387/6RAJz65Pmx/xb97fdR+2UAwgBkAOADbwZhBDwBkwHhBT4GngNIAwYBmv5LAoQGnASPA3YFXgUeBj4JKwqkCMkHLgfyBxoIYAaPBnkEAP/C+3z7E/0++0j1jvW1+iv8+fqJ9730uvTA8l7uw+yl8DbxPOyq6DrmAOcQ6u/pmuXa4Bbge+JR5c7m2eg063fqZOie5+Tn+enn7Ofreui45aDkcugk7e3tTe7A8H7vouwq8bj1zvSs9J33KvtC/DT7L/qc+FH1+/G28CnyufBB7LbrJuyi7bPxKvNI8xz1IPW98gz0LfdF9qz2/vno+Y740vjI+Zv6+fpA/LX8NP8KAy8Bs/1U/sQDCQhUCQsKowM7/7EEJAqADRkLqQQ5A0wFOwZeBAwFEgkOC20MERC3FBYVLxV0GBsXgBXIFuQXXxqDGrgYJRiEGfoZTRpKHaAZaRPMFPsXrxgWGFcWEhRzFRQVhA6jCvgIswXYBh8Lswg8BX4HrgjpCIMKNwqaBvYFzQcjBDEAKQObCjALgAMVALkAs/9H/h79DfxPADQH0QcbBk4HZAhqBuoG8wiHB6YH8gcwCD8JTQhUCDwIcQd1B+cF6QVACLcIEwk2CtgLSQvvB4sIYQodCXgHaQfgB8IGQAemCfcJfAkAC4YLLArCDEoQaQ8QDjwNrA2UEAAQjQ27DIIIAQVqB6YHfAOCAjcDBgNqA7wCfgNbBcAEKgKt/yMBagTBBFsDrwP+BlwL3gv8BRADHgW1BG4G1wb3/wX+fQGJ//r9d/9N/Kv50f1z/7b5sfVh87n02vn79FnwTfFO7rXuSO3G6CzsxvJr81/vIfAO8ZTvAvLA8Cvu5vAY8UPtf+xe8NDyVPFQ8s73Y/lj9ab0kvdx+fD7o/8AAWL/dv16+4j8awOqBcwB3AL1BQYJrwzkCsUJgA0cDYELjQ5nDp0N9xGaET0QPBZkGJkUABWuFuwT4xDdD/sOkg4/D7EPvA7NDCsL0QrMCQIHFAZ4B9wGvQMLAdT/0v93/u79RALEAu/+HgAUAfb/mABCAHb/i/+LAXgCe/8X/hb+ef64/sD8a/2T/cP6FPoJ+Ez0cPRZ+Jr3IfPz9Hn03+5J7S3sWOrU6THn2uPO5dvqWuvA5o/iSeBr3ondpd7E4O7fit5g397f9+Dg4SPiBeK841XnR+aN5CLnjOuj70Twr+5p7ozvJ/LB9U/2R/UU9/b3nPmZ/pD+S/wCAD8DqACO/gwCmwSWBr4KGwmbCHIM8AzzDVIODQ2YEMwV0hOyEO8U8RiyG4kdChu8G4AdYB6VH+EaAhnkHAEeaBuOGlUgLiCMGiYbeBv9GtUaiRogGm0XqRmoHQYclRoNGiAZchoLHCAaYRf5GNEZxRfJGDQahhpmGokZJBgIEyQRKRO+DzUMhwwVCzYIWwjACPYECgBn/4X/0/rX+kz8RfSt8dTz5e7A68XuHfFW7SHrBuzU6tvsq+6U7W7q6OVu5dHl1+f066Treepy6ujrDOy86K/s8vBJ75vxAvIU8LrxBPKf74zuUvFZ8vzxU/Wi9mn11/Sp9VT4Hfm8+Fn6/fxA/vj+Zf5c+mj5vv29/Rr60/sQ/TH8zv0D/Sb+VwENAE0ASAN0A5ABZwCX/w8AGgGFAOABIwJX/hD/dQOiAlEA0gFYAmYCsgTqAgYA1QL2BB0GaQZ1A+EDMAWyBlMJ2QcFCDkIzAYKCtcJJgWpA0kF9wghBvH9cv65/gf7mv1J/vf70Pqh+Df1BPJJ8ZHwDPJ58/vwSO/U8Y71OvRc87jzXPKN8vTxS/G/8AfxsPRU9xv1XPP386Lx7vEY91b5rvlx++j6Xfop/Hr7wPvK+yL5WvnB+fH5pP1sAQ4CuAMzBuYFfAeGB4kDUwJWA1gEPwSmBakIjwgRCCUGRQGVAKEBsQA9AaMAJf9RAMMBTP8O/J77uvpW+n33kfR++I74JPMk8zn2LPV59OT2evVl8130efQd8yjyzfJ680/1c/d79jH2gvhG+Ir4Lf02/Qj6UftK/gr99/gM+1b93/nI96j2bvPC8TbzWvTL9Ibzr/PN9TL2TfhR9hzx4PA685n0vvTI9xn3Q/YM+1X5sPeM+G/5Fv1N/OH6bPvt/RICWATZB6AJjgkJC64LvAx0D3YRpw+aDXoPXg8JEHUSNRE4FjUbyBgaGNUVbBbMGlYcdhtYGREc+x4mH5EfUh/oIJ0gMR9XIKUhkSMcJG4ikCCNHwIhBCHjHZEbthmFGBEbUR2XGiUZ1BihFxwbgx7AHbca8BgbGs8XfxUXGPwa3RvhGGQXiBi2FpoU7xOEFsIVKBQPGdkXdxY5F5ITCRJnEMkQwg/TDTkPmQs0CNcGdANOAgcEbwPL/+3+2vyG+G34d/hz9ZPyjvAH8CLvcO1S77nw/O7q6uLmquj66TnovOfs6O7n+eOD5DToZezE7FDp/ObL49flROrz6tnqJOy37pzsvu3i9Jz4tvqt+k/5FPg++Rb9Y/1/AK8EVQI9Ae8CAQWVBvMGXwqCC3MFeAPNCI4JwQW4Bf0EwQQ8CAoFnf7O/QwA8gDZ/pf/ZgAb/wsDZwf5BrkF5Qb2BnkF8AfkCQUIDwcTCboLLwsnC4EMTwpRCbsJlghcCKkIeAmSB88FRwY1BI4EpQe6CJYGygMJArD+R/9KAfn9Vfpe9nf0N/co+EH1KPF78KvxnfBO747t3uvP6HvkluSl5nLnJOcU5oXmLuVp5DnmUORr5FfmVeNJ5B3pWelE55vlIuXo5mbqYe0v7L3owOlq7bHvSPHF8CzvoO7r7gnvp++/8vX1YfYT9NvzsvWm9pj6tfw0/Hb+8P33+nP41/kz/f35UfnZ+mH5n/s9+5L35/SP9Qn5Q/iR9s/0nva1+lf59vp5+hj3p/l3+fv6zAAfA+gDTAQpBvwFwgQaB38GQgbgB0oJjArRB8cIaQnwCI0NYwsUCbEJ7AWWAz4CjwIdAUoAFgTJAVb/fgC7/Sv6EfiS92T36vgZ+276ufxV//H+KgDq/xH/4v4z/Lf6jfys/yQAef7E/6EA6v/TAAwAp/64AnUGuwXjB7gImgaOBzAKHQ4+EGQQcw+qDnoRNBOTFD4V8hOyFMwUXhavF28V+hTCFcAUHxJuFIMYaRaAFvoVVxGcEWMSvxAaEXwS4xFmEGESKRSvEvYP/wyJDY8OUgzJCioLlQvnCWQJEwtDCdMGBAa7BYYIswmLBbsDvQf+CMwHEwsdC1kG8gQVAyAB9gGV/7P+BAGd/8T9wvvE+AX2/PQy9+v1AvMV8iTwtPBy8Kft4+3U6+Pnn+bl4kXfj+Lh6PXoPeba527nSOap5/DoNeyE7FXqmeo764jsme0M8K3xtPBl8i/1lPfL97323Pag+GD9MP1D+kT6Xffa98f9ev+o/64BggIeBBkH7Ac7B9YHBAcVBnwHpwiQC2sMQgsFDLoLKg4XECsOIQ8nEkUU+BR4FccVQRS3E4wUyhU6F18WqxW7FIMSnxKxEjISWhGDEc8RIw7+CycKrgimCtEKawocCdoHGQgnCGcJvgioBz4Ibgi1B0YETQBkAEsC/AAs/5v9BvxY+5r4tfas9KPy5fKZ8OLuxO447yjwzOuG527nOeYk50jpueb+5Cjm/ueL6ZHoj+gN6FnnwuYZ5Qjp1uty61/s5eq86t7rFO1p7inv5u9G7XHsQPAI8ujy2PRQ9Rv14PQi9SL2c/fk+XX71P0TAEIAyAJKAl4BiAM9ATkAoAFbAv4BOABiA6UF0QXmCTsKAAneCwsPrxEDE5UVixmSGC4WKRduGQocNRp/FN8UnRrFGkkUZRGaEv0S9xOSEkMP6Q7KEBITLhRVEnMP5g/kD74Ocg4PDVYNgQzBCyAKNAftBjYCZQIQBlsEtwT0/1f9RAKYAdz+ef6U/Zn7Z/y3/aT8lv6r/m77S/3Q/4X+ev5P/LP5x/0YAWMCWwULB7wFeAOqA2cDVwXMCRALGgrkBlwGvAn1C7IL5QlgCnEKUAp3CzoJYgmyDJgLCQvVDIIL7QpxDUAPYw4EDRIOnA4GDpgNpA2yDSYOGA9MDeEOfxG7DqoO7A8+EAUSQBK+EUcSchPvEnQReRAjDTELBwy6CoAJAglPBvkDFgQEAmH8XfnH9oHzCvaF9/b0q/Ll7cnrHO2g7PPrketL7BrrmueM5kfno+ny6SHneuWM5bXlLeOj4mLkteIU4/fkEeN144nln+T+5NvjseAD48rmYOdA6KvplOjJ5l3p8+sC6w3vg/UC93P3i/d6+ML5p/iN+FD6mf0HAHIBpQIFADYA6wR4BlYFRgIpAR4EvgXqBT4F2wTfBlUHpAZlBmAF/wfNC/4JMgYBByoK1AlICqcMuwuNC84MHQ3BDt8PQBE/E7ESwhJhE7QSkxFUDxAO7w13DX4MuQqZCdsJswjdBqkFRQLJAM3+Vfki98z1dPXy9MfzuvTu8Ybupuws6zTrYekA5Sngkt9W4ubjSOPK4X3gjd6e3WfciNqj2vbdJ+Kt4dreoN264C7jqeDd4ZLjQORv5qvleuXs5j7pxerv67HuP+4m7s7vHO9g8BHzcvM99Ln0Y/QO9q34qvp9+wn+DQBr//0BwwOkBJ4GcQQQAkoCYQSBBRQGyggACu8LAwwfCQoJwAkTCv0JjAvXDI4NeBEHE8kTbxVjFRoVlxQsF+kYZhgIG7AbNBlKFzcX7RiFGR8YhhY5GDsbSxoUGB8XVRW2E1ESPxLaEzASPBEUErsPvQ3NDL0LigjkBKUE1gOeAxIDqQG4ANv+PQFSBIME4AHr/Cn8Ef0A/mn+Pf07AUIGVgXFAjIBqABCAuwFzQcsBQgEbgWgBE8FqgeaB8wIwQsRC2MIJQkfDDUN1wvSCoIKPQmdCu0McAt3CnwKYAo+DFcOdA0YC8QMfQ4NDf4Mtwz9C9gKcwiuCLoJIweKBSMHBgadBRsH/QWqBVsGaAepBzgFkgPWA+oFpwc9BpcELgNpAr4ETwe+Bx4HOwYqBRMFmQVUBSwFCgQSA8QBI/5T/dz+HQGpAbr8bfqe+XD3bfeT80bw9PBU8PrvEfCK8Arwpu9x8GnuuOzU7P7qHetJ7gbwj/GC8cvvP++b7ePrMeuJ7O7tt+w/7iXwX/AZ8Qzx4PLx86fz6/Xx9oz2+/dl+UX5Vfrk/Tf+T/wR/ycA/v9GA2QEHQWWBSsHlwlHCdoJzQlGC8ANow/TEwEWyxVHFOcTjxMtEj0WuBlyGMAZbhs4GxkdBB7QHYgd+RssHCkapRa0FI8SqBIhEQcPdA9HDcoK6QnUB3oEuQMMBW8DzAF//7r7OPtO+c/0DPR78+bu0+1B8W3vLusy6tzneeVy5GTiV+Fo4ETfb95R3W/c+9o92z3cuduA26bbZtvj2vrbNN2k3jvhdeFC4iXl7ubA59jnDugw6EzpseoJ6arpSO137i7vz+6L7qbvPvBB8onxZvCZ8hX0dPew+UL44/fm+bf8f/1n/qj/xAAaBD0GTAd1CGEI1Qo/DzoSTRONEhUSExLVEhUTVBLsEwAVxxejG1gZphjAGvwZ6hk3GmwaRhqpFwwWbhe0GPAYsRcVFasSFBKMEk4QTg4FC34HAglIB24FHwX2AzsF5gKBAt4Axfqg+mL6G/kI+ZT64Pp1+PH6CPvX+Xv5PvaP91n50fmG+W33BPcM+Er6pPrM+2j9IPzc/PL9qP5eAcADIQSABEEGaQf9B9AJEgrzBigGxQZIB/QIzQmqCnMIDwhPCYsFwgOJA4oFiAg+CGcHbwW0BvMGDQXMBTgDzQFFAnoCXANWAEf/9v5e/aYCZQU9AZL/bAC7AgMDMALTAh4DYAeqBzoDogKYAfQEDgmpCJoJJwlBCCAHswZRBxMGKQbPBB8DVwTLA5sBU/+V/oj+Dft69x73Bvjc+Oj1BfHn7qfsmev36uLoEOjV5h3nKOaY5C/oJugS5aPkgeSL5bHmqugE6Wbn7Oim6RTpC+oV62HsWe6973/vE/Gm9ED2Uvf++O35Mvox+lP6IPzQ/koAAwKzAlkBRAFyAhsDJAT+BMQDFQP+A7oGFwrbCTMJEwoSChYJkwqNDrMOcA1pDFQLNQ5SEDMOJQwHDRANfAzpDmkOkAxcDt4NugqECsYLmgtUDPEM8gy3DYwM+AryCpsMMw4ODCcKWwldBjwFngVDBt8IqwhtBg8FrQRTBVkEDwS5Aur/MQDm/n77tvjL90j3z/PI8z/zPPDx71XrOOeM5aLiyeHI31jfxd/V34Xhdd+C3unguuKU4ozf7t8S4WvgsePF5R7mw+fT50/px+vU7PXshu4u8Vvvae8F89P0Mvkx/QT99vwj/2oA/P+dAdICrAQSCW4JhghqC3sNtwzyDRoRwBDqDxQR1w+yDUYPzhJxFGgWLxcEFTkVwRVUFSkXlxh4FgEVaxfhF2cXoxkfG9YbbR2MHQccCB3pHokgLyMUI+0hjiEBH8EcBB1bHiwf5B61HZYbRRsRGwoZrhlxGYwW8hXbEzwR6BELEjgRGA/XDBYMEQunCbIGuQMZAh0BegHQ/yL6LvVq9ZH3BfgQ+Er1rPLC8//y6/GG9Nr2jfcO+Wn4jvTg8/j1fvVR9Ub2EvZ/+DT7xvmq+Af6dvto/c3/R/+I/t//6/6c/lEADgCqAGkCtQLMA2kGSAcvBgEIJgq9CIsIHwjCBjIHEgfQBqoHuwjxBmYE6wSGBZEG4AYsBeAD6AIoAlACXgMpAYD/dwPABPUCgQPABGcFrQUxBuYGkwfIB1cHfQczB9gEpANeA5oAkP/GALoB7AGwAHf+efoz+jz7n/mF+tn4cfYU9qX0rvOd7/TtAvAs8YXxX+yl6Svqqeci5hLjluAb4Aff4d7I3tHgeOIl4ofimuC738rhaOJc4/jlAui06Grqruy67X/x/fNJ81H1DvZ49lf43fg5+Zf5hfxa/sD+9gDh/0T/awElAxoFvgVABeUEXgfYCcQIDwqdCiQIgQjSCbwJyAieCDgIuwbSBpMGnAeSCXgHSAYqByEHKwhWB7UEeQMgA5UDQALQANMCWQUxBj8EpQIvA4oEgwXXAmMD+AU+BcAGHAdQBrQFbgVTBeoAU/5X/ez7t/wh/BP7Qvj+9Sv29POw83b0U/Mj8+/yM/Pt8EzsL+vA6v3qdusR6bToQuhH5oHlA+Wp5AXiqOAU4GPd6N0M3/DdpdwT3ejfO+Mh5Ovg0eAb5IjkSOQR5Cbll+gS6jTny+aN7Gbw4/CA8cHwZ/Fa9r359/kF+9r7mfs7/c0AHALcA4cG4gVGBVoGZwg8Ct0LkgynC4gMsAvXCpoO4hA+EAkQBBFkEWITkxd3F74WURhKGAsZsRl1GPMW4habGIsZIBsIHCEaqBhMFygXZxdLFlYWDRVDFfMXTRa7FOUVMhfBF1UWWBQoEcwRxxW8FW8UWhJhESgR5Q/pED4Qig8PDx4MgQtFCxgKLQhEBY4DBwIdAEv+dP53/1D+2fsj+tT4wvat9jb2qfMs80/yH/DA8aT0zvIF8pzzNfJM8drydPOO8cnxS/Mi9ND2xfZO9r/3bviq+QX7x/tr/Iv+pf6x/ycFsAaMBqwHFQchB1IJVAsbCo0JKgsMCh4JvQs9D+ERrxKCEd8Ofg0PD+QQQBFAEFQR5hLzEDgPWw1dC+0MGBAIERoPjA2GDHgLBwwQDM0KAAoXCr4KlAvsC5kJ5QcGCngL3gxMDtYMzAxvDlsOLw6hDs4O0g4HD4YP/g4UDgsPcg+8DooNMwvfCSoJdQr6CxYLzQmOBpYEMAUABtYFQANPAbL+S/tY+AH2dPb39a7zy/Aw73XvEu9i75ruV+2A7fvtbe4c73zxmPLN8bDxNfIT8gnyV/O29OL3ifqA+Yf4Qvii9534qvsO/dr76/tL/SL+6/+6AJr+6P6UAf4BUADx/dH93gFNBm4GvwVjBnoFtgXhBvkGWgcWCUYKZghfB8sGPQaDB6AFQgNtAzkDiQJbAosE8gQNA8YBG/8m/p7+w/5E/xb+m/1W/ur+e//w/jj+yv08/zQCtAMAA70Alv/h/4UBUAFZ/vP8qfuX+ur5+flW+Xj3xffs9S70DfRA8i7xX/Eq84rxk+6X7TnsX+wm6mzoI+jR5HjiqeI05Bnk4uOO42HgGODY4dXgUOAC46njL+MF5WHk3+RR577oSugM5+nnjuen6ovun++e8vXyLfOU9OD0C/Wx9RL47fjN+e766PqM/HT92/5VAloDhQRcBpMF+wQsBrIL9A+uDnkN+AufDT4PDw/0EUwRrw+GD+IN0g1kDtsPKBFYEGcO5gvxC4QNFw6tDuENYQxUC/0KrAupCt4KigznCywLIAqnCWYKFAxJDqoO8g5xDfcLhwyJC3MLTQscCsEIdgjTCoQLrQsbC+wIiQiBBmUDhwKtAWj/0f6//8T96/yE/Zn76fqk+vD36fUb9iX1C/Qx9Xr05/Kq8kPxUu6x61nrDut36j7q3+mK6iPqYugt53/nWuiB6AzpZunJ6aTrLu9i8DTvafCP8Kfv8/AR8/T1tPi1+gH84vtJ+8b8dv8/AasCTQLDAXIDiwStBPUEmwPdAcUDDQbvBIUEoQZaCeAMwg8SDrAKfgoHC4ELBw32DU4QlBM3E/QQIQ8DDyUQUg9eDZwKUgjtCPwLTQ7eDUUNJgzSCRsJEAukDGoNjBCBFHkWkhVVFLEUORTOE30T1BCXDaALAwu6C+UM8QylCk8KxwuVCmUJuQbNA8YCTv97/M3+WwO7BFgFzQTJAJH9VPfE8V/zBvTG8u/yG/B465vq8+gG5knq4u7Y7uHwNvDu61fs2e2n7Kbu3vHX8Jrvru6z7Obvp/Us9nn13fYV+PH5efrE+IX6d/1N/pT/kv/i/+P/vf0U/y0BwACyARUD6wGbAEYB/v8H/wIDbQd7CU4KsQp9DAENcwvDDCwOdw1vDpEPuw7bDckNsA2zDykSgBHxEKAOewtnDJEL4AgVCowMyQzqC7AKEAmaCHYJNAsfDhURhhFcEYASERFxEAsTXBLyEFETexGGDYUPEg/wChYI1wIB/Ib7/v6c/VH87vg887DyAfBv7O/uq/FZ72PwQvMW7z/tt+zl7HjzNvZG91v93/2R/IIBngDWAPUIZwlJBk8HCQhTCToK3wYIBQ0EYP61/dD9Zvm0+tD8a/o1+JT36fX49TX2UfOp9Jvz+u778Fnzo/Lw9Xj60fn/+p38nfpq/On/TwF8A6kFlAR2BbUJ9Qx4EHwSvROdEkAPzw++EFwPSg3ACRYHTQhzB+cB2P3c+1P5f/lf/Q/5RPMC+VP68PWa9pv2qPdx/HcAhwXWBu8HiQ99D18ObxRDFIARRBM9FvcVtBPmFiAaWhRKDrUONQ7uDboMXwF4+S/3L/Hu73boidvQ1unODci80U7cUdg129Xg3tko3+fpKORX5P3r2ug98pH9b/Y6/H4CqP5nCcYRTAzHDkYR1geRCdUMUQSTAET5DOyA5v3n1ulW6vzp4efN5ZXlMui36b3oIeoE7Bfso/Db+T7/7wH5BH4I1wzfEfoXQxq1Gr4aARgHGi8ePxwvGi4csxuIGr0dYhyDFKEOzwo8CKIG2/869zfyvezx61/v7u9i9FP6f/kP+Qz+kgPRB4QLDwxECpgNNBIsEjsV7xr4HtkjuicvJ6omEinhKEYonyd6I2kg2R1EF+wRWxJ7DbIIBwmtAaT67PMr6UnjZuGj3U/but0F2TbSF9GF0i3X6NtM5JTrC+9i9U0AeQjeCugPgxBDDdgOnRCRD3gN6QivBOIHyQpgCf4GSQFC+I/wxu3d7N3po+Jo3Jnav9kS3JzhiOJi4rXrQPXL+VP/DwOJBC0HUgtvENgY8hyfGdsX3RPCD6wTIxhkF/EVlhLoDEkK6QjlBlIEGAKoAP/9wvtX+XLzduxZ60Husu9I8z33xPdn+Rr+wwVUDu8QIRAQE5wTshKyFZAUphAMEDkR5BK3FRIXjhPuEdsRmw3QDXgR7g0kCw4MIQjCBpkL8go3B4wI3gWX/sj8e/s68jroi+VD4pLc/tx+4CvbsdkP5jHj3dy17WvwteUm87r6yPJd+zcAGfo6APQCx/uv/sn/Tffw+Gn4zPDf9CLzI+y98BjqSN9F5GXhptoW42zlt9184Nbixd6p4wzoJelq8uL4q/rq/mr83fnO/5gCPwb7DTMNhwiACaMG+P6R/UD89flN+y748fSZ9eD1Zvqq/sX8n/xs/QD6VPYD95f5ePrb/1wDqgD7BNgKrwqsCRsMdBD1EagTDxOlDZUK8giHBxEHPATnBEkJgwtzD/8SeBPpEy8V+hPVEr0XeBZoE3QV+g4JD7MUlg83Em8Xgw55CL0JcAaK/QnygOzU59ncithS2WjVutWj3yjfHd3m7WTxA+5Q+oz55/Tu/AQCfQQ9Bu4D/QEjBTsGoQRrB/ACgv2vA0UCOf+EA0b7ue8O6vjjluTM51zn8+Xh5eXm9Oij7hz0A/sDBN8IegyUEBsSUxE+EpoVxhbnF6QaPRdvEFULHgRg/2v/jACz/xz/WQL+AasDiQcEAsz7v/mP+nv8evsC/OT+jwFbBMkEZAOWBSgJmAieCKQMRA1iCcQIQwlPBwkHJQTw/uX+ePw/+kMBKgWmBZQHMgW8CNMQYxF4EtwWrRYaE3ATcRPWDvIOCw+6CWYJcAqTAi3zZuNV3H3Zhs9gz8zZ084txzLcoOSl4yL3HgOqAcYJXxCZFb4aGhKoDfIQYA2TELQW7w7ECMUI6QAH/4MHLAgBAub6sPAi51fkMOM34H7fYeEB57PvaPkpA0kNqhMnE5EX/B8jIn8jIyIeGhwYIh4lITchVx09FI8OeAvLB7sGo/8y8ePrEuoS4y7mJvCh8lbzJvcf94z2JwDuBgMFLQrEDWALqQ6VEZgSJhY4GasZYhaED1IJxgSL/CP2HfqQ/14BFQKq/FD7RAWbC24SqBzzH80juCf8JUsiLh/sHRMZQBa4F08VaBZcF48WBxd9DuAOGhfaC5L8v++S3wHX9M8Gy2nLMsv10BLdo+un9gj9eQW3CM4MmRjSHcMcMBj4DJUBA/3n/Z35BvMQ837yP/BM8MXxHvJ669niw95v2WTWh9lB2F/Vk9sN4ybnfO8u9238IwWwCt8OOhWOFGwPRAyPCRYImgiQBvr+Ofdi9DD13PRz8yL3zvpf9l/z+fX88nPudO8l7xryI/veAMkEggcDCxYRfBLYFPAVwhDTD6kPoQhAAZIBdv949ij50QHJAB39fvgA8hnyw/ce+7z+pQUUDKIPww9sD3YSyRiGHiEiQiccLFwsWCYaH70dex63Hj0cdRx7H/sZShoXGbgNrAzTAbDqcd/72KrMXL0PvpPCAr+fzMzcS+Zt97gIQxxfKWAvHTqCOiczQy2HIz4Yjwvr/Xnza/Ip89rrQeui6ongKOAS38TWx9VF08nPxNCn0LzQbtWC4X/qN/INAt8OQxkUIpYkyiXVI7UbCBFfCDL/yPXP7wDrm+qD7XTwP/Y3+HTz0e4y6kzlLOof+SwDDwn1ED4S2wxmDFIQKBEKFIAcWCVyLeUwvivBHCwKVf8z+EX1ffe/9z/3+fIU71HsW+iC6+/t1+8N9vf8zAnuFmIgkibLJXwhsh3dHQUgVCF9I9ggORrvGHUWZREeEacQ4BMqHSsiIB8mGQIT8wTG9lbs59kzyjK/sbTVsQy6A8282u/mEPkeAG0BDgbxDuUbXiN8JNIbHg6nA5f0C+0d8f/v3e438ajz7fpRBG8Jtgj4Aer28/Cy9CT7Df8c/OX5nQFmBwwJwAy3CwUJxAynFJ8brh2EHKkWKgkV+v/tTOsG73/pUt5A10bTrNLf1F/ZguCX5tnlZ+Hs5vr09PpB+6r8VP26BK0Mzwr1CGoNVhMtE0wLigRTB9sK+wVEAdAA2v9S/RT9+/xk+jL22O3U7JT0HfM57WDvhPU2+00Etg2wDsQLHw9UGT4fwB1tHhAdPROkB6EBFAMQBR8FwQNr/0r/WAR6CqENCQ4zEzUSQQX985/daMe/tLesZ7I4u4bHZtOF3S/vHwCYCTcT1x0PJzkp/R74DeX8w+8m4xrWZcuqweG9AbxTuBO70cM4yvLOSdaO09vIV8c3y2zVq+NA5rPmFfHr/UENwh/RKSAk0ho4HDYi/iHwHTwfsB/gEtAD4/nz8CHtJe0K7A7r1PCc9zr26PZq+T37JgIFCHkNJBOnGWkhMSSlKcoq8R6/EYsE4fkx9vb6AAUXDUQWUBxGGOESrxJjGlomiyfFIXQYqgzVCG0E5Qb8DrwPGxVUFoQU/ReTHSAs+zWCMxosxCPIG1sOfAPN/7z/fQhtErYQbgXw/W3+zPtd+f//zv/E7PTdpNwh1XbLS8uVzYvKc8cCzv3cAO4hAikZ7x6jFG0SKhr4IuAhvBroF+8XMhc+Dx4DwvnJ8vLuPexJ5z7kQuFy3W7c19OCyn7O8dNq2FvgI+gv8k7+sQoEE2AR2wYJ93Pw//fq/s4DSQWH/c/3e/tz/IHz7e0M8oT1RPQN8sL07PsBAQ4JUBNZFd0X/R0pHdUbdR8oHawXSR0uIxIeQhVqC5MEdwIDBTIJPAovCokEE/6d+hz4+v0S/13y3OZ/41rm8emm76D4Avtm/DgGihBSGHUgnSQSIccXIQ1yBQUApvtP/KYElROaH0MdWRVPFNET+RJkFLESgg4bBQ333+IsxV6uraZup62rLrMeveTLV+Mq+NsIWhj/IIsi9x+4IJIiRB/QF8ELN/9j9ODn0eDA4oTkp+D52QTcm+Em30nhYueP6ZPwsvgW+h/6IPmi9Sj6DANOCPcT7x2rHkwhaR8cGBcYlBxMHNoT9QYG+B7oc9sk0NDDALqGt1W+/sjg0Xbc0emd8KjuvO+G+/oJmQ+rDm8KHAEB+S/4RP8TBucIbQ36EUcXshuEG4sbOhsoGA4WnBGAB9X9fPRg6lHlgeog9hf67fdK/SgIxhbOJ5EwiTAOKL4Zdg53BfkBXQgFDvQK3AmfCWMFzQobEmYUtRzeILketiNDKIgmayO6IaMfFRRDChoJ7fwU45fMgsePz1TYg+E57TD9+wt6D3EP8hg3JeIoNycRIwUcBBQdCHj2quWs3vDjUOwg7dPmYd4a3L3gtOQJ7tf8ZAozGtUgChGi/X353fp9/rUKgRlyKc01IjphQBVCXjdeLoQqtSTiHQEWugnd+EPrqOV+427h2tpI1AjZw+YW+WsMDBtAIOQbhBOPCJkBpwCKARYGaAiBB/oJdxIaGSQW7hAJChIHQgtCC9oIMgHo9vn0kfLV7onwFfHj7lPuHe8883H++gzJF8UdXxzEEx4MtQXZAXEFZA0gGHQgVx6rFmYSqQ7tB1wFBARHA6kIAgwBD4APVAgFBWEFzQjiDe4KIf9O3py5oLDwtK28BMNJzPLaJOPm8kMLXSGKMSc8/0RXRVw/eDU0JS8R+fsZ6lTiAuOV3O3LOMCBxLzNS9ip7S3+/vtO7YLhndvw18zgaOoI68HwzvmtBO4StCEMLkswJy2EKjEq4SjMIoQcow2Y+k7ug+T34gTm4OJq3rXhdO2k+akD8QgyCKEKbQdU+tz1svvbA1IDuftz+Vj+5ApNDsYEjPsp9B/zdPBo7KXrpuDD08LOrdBQ3rHwov9/AGz02+wZ62fuXPHj8FD43QMnDYYTGRecHa8iMSBlHdUhMiXnHikXoRDzCY8Fd/+B893mSeSZ6IXvgPl5BFEPWROlEe0SwBQFBYzq0dF3uRyzCbeGwfXSNd8z65nz+AKgEXwbXC9zOnA+UUN4PlMzAykrGewBd/QH9hn5+PeB9BHt5eRU3fDZfdya2dXWeNUt1I7etOuB+UkGrQK+/Gv+Jv3V/nIHJw9EEQwQtAyGCWcJDwesAff3Vu9U75bsJeMC17HM2sdNx2bTkeYg9OgACAdqBhgQJyCLLSQ3WjgDM0IrICQHICshjyG2F0wMQgOu+jv3Mff2+ZT95wAf//X17u9U6T3hJ9yD2vHkTPRyAe8LHQwMCsUP7Bu9JuMmZSSNIhEc8RuhIZ4lnSdhJSImRSeyJdcl4yBbGvoU3w/jDKAJSQmHBdn9Bvjp8vbytPdA/3gCrPnP33C8BKtsqlStzrMkuwDDh8yn2rjlLfC7BA0VyB4+LnI8SD4EMxsYl/Rs3PnU29pR6c7zBvhL+vP2MfV3+6sDvAwMDjAFRP9m/Kn7x/74/QL4L/X594T+BwjLD+wS2RMhFSMZzBtrF2cPuwGP6wvY2NKN26fjB+JN3BjaFeOl8Xv7mATMCoIKcgy9EmsZ7B+9J/8rDyjpJYImzCarJu8cOBS8FIkWrxj3E5gKMf+V71vkGt6D4ITn5OzZ9fP2i/NX92H4g/aD+B3+6wKLBJ0EXf5c9fzyP/U5/BUFfwkeDB0M2gfUAP33xfNg82b0APwmBOwEhv7p93j50PsuAHgOHBgdGaobpx+lI9scdf571M2ywaM7p/avNLU1uTbDzNhC8GgBGhGjGVoVcQ6GCVMIOQnf+/DiG9GkyvrTRuej8uDzI/E68Rf36/zwAacHzQXV+1L3I/sJAqgHgwTW/HH+6A6/KJY9oEK6ORQrDB/0GJYZNx0uGkAOD/3d7rrqZOuv65zpK+Wo4DjgS+Z/6rTnjeC23t7pCvtYDB8aCSKJIF0XNxXAGKMYDRcmFw0XNxSuFPEXVBjOFZsO0QdJBQEDiQLTBK4CzfoD83LsCOfD4YXfA+OO6cb2LwjrF/oiSSdiJ/sfWBeqEFYH6gSBBlQGTQq6D+QRvRD3DSwQMRbXF+4YAxpvGWsZnRgnGkwbgBzMHoAhYSowLdMn5BO96SPLer6yvAzEYMODwGHAeso/3hbtAQXYHkgpui84L58n+h6UBN7cGMbhwwLLltgh4sneY9r12zHiius97IjpP+BtygLCp8SsyCHU29lN2Qzeeu6QC5cpKz8ZRq5AtjzlO8A4djOKKPEUuwBf8uPpZuuB8A7twOgi67DyIv+yCEcKAwM29YLtuu7h9CT/eQesCWAI2wsYFqsg3CVbI7gdbBaPD4ILfwsEDzILyQT9BXUMuxRYF8QSiQmB/1X6Uvp//fH+l/30/v4CgwYYClEMaA7mE10YxBiEFQAO3wKR+Cb1efdR+ZX5hvln9uv2P/xq/gcBFgaMD2gW4RaOEkMF7vlD8KLs/fUPBtYbJieaJ6UfeATm4sbIXL4DxQTQ2taI2j/hCO7A9bf2ef4uBNcD2AUtAnz+zgCd9eXfzdai1Ana7exr9Xvvj+d+4Lvh1ebi6Cfo2d/i1czUhtgF3YvjqOfX6A7xmAfqJtg+jENnOWcptxenCrgHWwvKDOoHewAn++P5Hf3V/fr14eqp4lTlyPURBXYFM/a25aTiL+nv9Gj8wPlS+LH3D/oKBd4P+hesG3caRRncFlkSZQhJ9/DmWd544/f0ZgM4BRH/QvYL8c72Vf++AyUJsgoMDVIWxxzVH3ggOB3zFoYT8Rb8FHILrAN4ANoEZQ+/F0kaDRe4DgQH3gIGAx4HqgnzCBEF+f8g/r3+9f9ZAf0B7gNqCmcUGh9VJ1Et7S0yHJ37dODi1ZLb1+a767bspPHw+lwGuQzgDigY+SCDJQUsfi2YKSEbPvx65JDgmepcAtUUKRM2BcnvBNu9z0rK6MTPwcfCtcnd1Y7dBeLK5OHhzeJh7Kv75AvpFYsX/RCECjUMPhFeFOMTFRE+EPoPPRFrFt8XVBBgAfLwiOdb5CfjDuLd3FzWVtmP59n4hAnLFXIX9hJjESwTvhcUHkMd4RYPFsUXyhZiE8YLAAYuBgEHQwrqD1ESXhIsEzgWKRf3FVkW0BDVCLsJOxDDFhUZAxjZGQscZRvXGP4T6Q9cD0QQ0RCPE2AZXhzAHL0efRvYEU0JDQFQ+Zryj+0+71LylPMg9pr3HP5jBo0GYQTBARABjQRTCgITQxiZDijwlMfPrGas7Lqgz9/kSPOg//gKBBaAIbcr4yxMHkUUHRKICE77KOkR1krTCuP8+n4S/hwVFLAC3fKo6ljpsuS+2qPOMr9BtRS5AMH+xWHIQ8xj2/P2cBbYLso46zPlJiseeB5aIqkkFyJxGuMSEg7fC+oNdw2GBL/6xPI27ZTuCO5F5TLZjc7gzrPZkuMC6TDrcOtb66vy/ADFCKMGSf4u+DD8HQfjExodEB+dHVodxRjXDXcGXgU1BcUF2AhQCPMCzf3j+jP+kARtDQga1CNNKdErrS4ALv4nRCOoG6EPlgMX+5b3vveg/ZoHOhJEGbEaZhsqGa4QNgicAZT68PN+7JHns+ii68Hwn/g9/7cF5AytE1wdJSo0NA87wTroInf59tSwvti/v8/U3Wvq8PPb/6ANbhO8GgEl7COsGjoU8hCADMcAq/Bd6nby7AMSF0ghFx+2EMr5FejJ4EHcpNhP1ljTBdNo1bTWANrD3MzZktw066D8/Q2/FvoJFPLs35fY4t5B76kClRdfKbQyaDjRPPU55S4JHX0JZPvf7ivh2NOqyEfIRNft7U4B+QvGC/MC/PfL7nbtX/PL9K3uYOj157zsW/SZ+sP92QXAEPEZVSOsJzsljBvED6AK3whmBvYBMf7V+/37yQOoDGQOEgtvCsgOIhOUFFwRuAv3Bk4FBwrYEpca7B5VIKYffB4lHHoWag6TAlP1Pe1G7fbzOfo5++j3PPYv+zABPgPSBXAH/P9o+pEA0gWdCPEMyg7oDjwK7Pn134bMnM1W3Ibspvgk/hb8dvLn5qLfZ+G16vrtGOsg7ATvlvAu8HvyjvspB5kSPBogHHsVIAVp9YXoQtxL1gbUBdHmzmXR49jt4OfpkvBI9Jf9nQrxFfMaFxQDBmz4H/GD8wP+zwjyDa4QqBDsD9oSBxH/B4j+kvSW683omesy7bfo6d+i2jjeUuaO7Vfu6eVu32Lg0N894APkG+M95WzwK/qEABcDff3z+Mn/EAv5EcEULg9K/1rzwPKI9zUCIRNsIdklOSYIJ5wlbyLxF0oJfwLg/7H+Uv6H/If/+AXFC4ITVRtpHjEbWhWzDxgNQQ3DB4X//fjD8WTxi/fa+Tv2j/LX8/H58wTsD9wW0RiBFXEVqBm4Hxwo1So9Jjwlhik+Kvonhxoi+D/R47h4uavKLthR2w/X7Nbx4XDuuvQy/NEBo/iH7MbqGuwy6F3cctCW1K7slA3iKj05vjKLHncMSQOe+1bztuzn43Pb9Ns248zogevg6tnrxPrQEcUkMS5DJfgRQwVdAlgLCRrxHQgWGA39CXoP/hjGHOYWJgxnA2wBPQbqCJ4BRPND5u7jje8pAL8FO/mi5CjWudQs3szmA+ZN4kfjWeysAIMXsyQOKUAptycdKWktbyuAH4AQHQSa/fMAAwzaFAsWWRJODukO9BHgEeUN0AWVAYUGzgvGC60InwMN+/fzivSE+YP+qQGkAqoDUwbSCS4N3Q9tD5sKhwUBBHMFoQh4CmMICwOY/tz/WQFKAHgDeAvcFpojiy2NM/EzhTHkMEMuYyhFImsaAQxE9O/XVcLQwbzRaeDD6l3wn/TR+LX2yfVW+w39tvPs5n7hYODO3pbeEt9s5db3+w9aJHQv8y7dJGQYyhCnDcMJ8gE69yzuL+zh8SD6XP45+qjzm/Nh+WABFANj9g/kL9da1BHhRPmDDk0WyBNbE84VhxNZDcMAzet/3F7d/OcG8VzzFe/G6JPqwvf+BwoP2QVz723XAMsQyg/OutLF02jTIdly6y4EsBZiIvkqdy+JML4uliVcFYQBRe4I4+riqe/wAgIP7hAWDu4M2BCSFhsXxQ6FAzX7svUp9Qf3v/Qi8g32uQCdCqUOeBLUFH8P7QiwBwAKbRAqGjsemxvUGucbNB1hHnQddx2fHjseKBvpE8MKNwTXA+cJshKsGnQgTSJrH7Ya2RYTFoIX+BejFdoOTwMk76nRubZLrN+1k8k42ozjHeqv7hjxrfQR9uLzO/CP6gHkGODt4GLjPehn9BIHeBwNMrVBDkXVPMEtciKdHxEdOBn0FBgMlgFL+1f3GvWC9ZTzwfLF93/7rfr89KbnG9gc0dfV8uE37w34Qfp29xf0SPOC8yjyKPLZ95kAgQmWDysQaw/8EXUZeiF6JcElwx1DDYb92PQd9db5oPt8+OzxiOys647uKvS/+t4AbQU1CCoL9Qmq/5rz4O6981n+8AVNCIAKvQzYDUcNegjtAIT7pvxVAn0FtwT/AWf9ufi19oH3Efx5AV4Aofq4+cX++wGmBNsL3hLuGpokLidYJb0iUxunEz0QZQx6Bv3/mPhd9J72BPv9/nMENgk1DCARDhatFwIW3Q3t/6H1q/Jq8hn1Rfg494L4D/xG+fjxzOcZ2MfJbMcgz3vZY+NZ5kzi1eJ557boDeu17rrr1Ojt7/P4h/3wAnMI9AsSExwepSe6LGUqkB6xDeQC9wCeAcwC2QDA+W7zsO/J7C/snex37W7wo/J68cDsKOT32IfR8NMj3u7psPGS9Cb1YvZk+v/9fv55/Sf/TgdBFYEjuykTKK0jNhxHEggLBws/DBMGfvuC8drrMu3Q7jXv7/Rm/AgBzQN7BMIBOfx3+A71de8u60/n8+SO5nLs2fbjAOsK6hYSIH8j6CEvH+YcQRgPEVYLfgqoDIcPbRI9EwISChE7EeESdRQ7EicM2gW6/zH4ZfMB89nySvQX9yj4gfoV/gv/PP2++aH11/Fs78HvE/Y4AwEPqxUPGmQYJhFFCzgHqATEA00DsgPBAff7lvjW/bYITRAdFE4W7BfDGscZFRUNDYP64eEKz33J688w2Xjgm+UN60zyy/bj9kn4tvz6/DD5IP20BjsL5w9pFWAWQhjcGeQWRBEWC50IGw3wFZEdKCQUJJIb0RayEkcMlQkNCCAFAQBS9a/oe+Oa3knYstsZ5Pnuvfn3/6kEIAK6/Vf6/u1a6KTwUPQI9QD93QQJBTYAXv+bBkIOMRNAGfQcNRfHDeAJoAfPCAMTURxNHKQWHw66BOT+v/ml9Lj4QwWGDkAOwQndCT0OpRM+Hh0q9i1SLfgnlxsqEcsJRv+S9039BQ6rHX4kUyOfHP0TyBCSE/QV0RiaHDEZsg1JAXH4ufF87Y3wcfjB/kj/ovoM9F3p+t7N3OLg1eiN717xSu8R5/HeoNxe3RDeNN0N4yPuUfUG+hD5gfFn6EPkBufP65TzX/ba73fqjORr4MLkKuvu8k/5jPZG8I/rE+Yc3XvQrsamw2DKtNjj4/vqIuo44Mraq9025p/uSvEZ8JnsA+ta77H4OwNmD+wh4jcYSPtNM0tjPzEtQx6sGfoduyRPKSsnDh/GFWYOMAwqD4MXdR/GHo8bBhmADcv4W+a33ZrhJ++M+9MACQI7AZYBkgLr/QD5b/1BBxoPIhTmFbcUNROtE38XiRtwH6km1yqgJCsaURSsEysXQx8lKqIzvzgyN2gsRR5gF8YWhxdaHKgj+iOFHeMYmxe4FgUUdg80DB8O1xEfEYoONgxjBxoCiQLJCC0RXRmOHvQhXiJVGoENOwUiBMkH5hFGHnEkmifhJcMcVBWmEMIM3QrPB2wBM/sQ92bydvLr9vL2Ivll/T383/vc+9T5kfbF7lvplOoF72X20frb+RD4z/ev+YH6V/toAvQKnQxPCSADkPrE8SfrpuiQ6MbpVegD4C/ZStad0CjQ49RL00DNqMIauFm8Eck6y5nEdcFhw2zHVsjvyNnQ5tOWyyHCdr1SxhvakukW8/X5u/rc9G7vvOxX6fbpofR4BAgOAQzNAyz81frZAFcFjQTjAcL+Xvwu+M7xO+re4kDjJeXf36Labtkp2jDZLNeV1D7Q5dFI2LTdFOYe7sHvdu9F9Pr5efqb+lL4IvNo83nyDu+O82wADxGPG+AclR0GIJod0RSbDP8E6QLXCWELvwSiA7YLYBBmCyMEff6g92LxjvFI8mbv1uwL58XgVeBV4n/kNeXY5gbrgurJ6G3pyuPC3fHiTuyv8wv5V/nX+Zz+2gUSDToQHBC0DNgGbAIGAmEEMwdbDRMQ2AcLAxcOghcJE7kPBhKiF1kb2hYeE7AQagykBDH5DvW19237ZQJ0CaEMvg5GEtwTTw0KBVoJexFwFCIUsApUA9gGBQ5WF3MfNyckLW8tgClyI1IkNynqKNEjCRfDB8D/1/2cAYEJJAoiBJAD8gMWA/MIGwxyAlb4FPXC8xf6GwNzBpgLVQxdBkgEmQGo/X0BZgVCAoEBVgNWBrgNUA8TCZIK9hPPFtoUHRKkDEsLvgvDBef+evwj+0v8jALbCN0L1AqmBO39bfui/pYH7gyDDOoPgRMMEo8OwQzJEA8YpiBBJysmtyKLHnIcZyMeLNYxPTUdNNMzwDM3LWknTSj3KuUtDjGgMf0w4zELNCA4eju5OU42RDFQJxsiliT3ISAYsQxoBMoHGBL7FZITUQp398TlGd4Y3KDaodiq1K3NBMxZ1MPYK9c72I/ZUdkk2ancgeEU4Qrdcdlz2ozddtyQ3SHkNumG60bvifIr7wPrguis5J/mpO4B+Ez/TAIKAGf2lPBa9jn9GQHhBJYGWQSoAdz/ev6+A0ALCA51DdYFuASOEH0SWw+BEo4SGhU3FJ0KGAuMD6AMZQvvDEYOAA0fCbwIQAsgDQkNOgwLCtsCNf7R/iH/uAITBRH/kPZ+9ID4yPnh+cP7d/7cAcYCJANVALT4pfT49WP6xP5wAM0EHQtECjYF8wNHBR8GLQiFDAgQmg/bC00J9QS/+/v3NP3cBnAOKQ7ICpgE7v0u/W//sgDK+/n2KfkS+H/zSfJi9e34P/TF7OzrcexV68jsZ+4N7rDvufAw7CTkyeLu6a3rbej26pHxpPSU9q79SQKMANr/SQCC/Nr0/PC79TT+qwBT/IH5FPrL+Tb5J/za/sP9ovqD9RXyJPJw9XH5P/hQ86XsyuqG8QT3L/iR+Nf4YPUM7TTnJef/6x3xhfGZ8zb38PZ89ezzQPXP9hj3hfq9+cbzp+9E8Ef1QvoQ/Vj8KvuD/j0EvAhaDKYPYw5LCQYGqwJcAIMDswR/AnoC/wF5A14F9gN+BM8DAP+E+XX1APK27eHr/eni6Gfqx+Ve3greGOJM5XLpHuwt5+TdYtdy1iDY0tr13f/dcdyz2rDYxNsc4yXlZODA25LbK+Hh5xXq8+se71/thOpX7a/u++pO59vjmeJs45Tit+SG6enqv+149Db36vT28UPuK+1f8rT5Uf0V+nH0hPOf9rr69/sK+FHyb+wa6sLrgep16cXt1/T3+KX2Uvcl/kz/VPor92D29fPr8o35FQVMD0cUqBZ4GUwbAB8SJAon6Sn3K6gpTiOoHUMdix9SIxYplyq7JmUgMBpEGYka8hrlIn8sNShpHjQbwR03I7In4ShxJ6UmTCfOKfUrCih0JFImUibUIgUg6CDfJIkk1B1uGSUYPRStEEoPNxAOFesZtxo9F58SKRChEUoU0BQTGPsdQCAoH8cdsBzGHKweEh4BGx0aXhlEF7IWdhdnFrcUDRThEj0UpRcaGCgX3hW/FKwUfBMUFfsanSCVI1wg8RhVFBEVLBhYGb0YFhfSEmwMrQY/A/0CqwLY/fT4g/Vl8v7y4/Kj7jnrxerg67nudO6L6DjmVeQY3lLbJ9j60sfRrNL01JfXsNek1BnQY85oz1vQd9BVzzfQedId09jU39Zh2NvZ7drE3C3ehODu5NjmMOU15q/sxfOQ+EH6BvysAdAGIgoeDHYLhQkZCJUKMA3ACxALNwoWB+YEYQbFC5wOqQr9A5b+fv1qALMEewjpCOUJ5w4kEvsSgBMvEe0O6RGSF1gbIBvAFW8O1wrOC6IPRRRRFRgUahTaE8oTMBXHESkKWAZxCBELFQ6wEmcR3gq1BiMGqQn9DWsN5Qc5AuABEAX3CA0MiwtMCTYGFgRFBLUD+wKZASoAqgIHCL0NAxDmDBQHhwGjALYBswFsAhgBdgE1BTsHmwiyB6QC4/7SAIoEHQmZDncOKA4ND/4KcQezBDsDagVgBOD/fP5N/yr+Dfpy9en1nfog/9D/iPvF+hP+//4//gD9Jf8jBhIJYQO9/j/+nP0l/zX/+P0gADwCEAQwAy/9HfcD82DuLOxp8Mb1kPku+a/yCu8X8NzxDvWU9fbvvOtC7Bzro+cH5Q3mAuk66ALmJukc727tVeb34X3hfeTE5nTpRO147t3vh/F48enxhvRo9rH2rPfX+KP77fxE+qH3CffL+gD/BAJSB8IKxwr8CsIKVwiwB1AHiAL+/uX+Q/+8/0IAUACP/iv8+fnV+N76nvyS+SvzU+6j7uHxUPNG8KToqOK743rnmuhe5/XlkOZM6UzttvFz9AL2uPUN8gjwnPNQ+bz7Z/p8+AL5Rfuv+137tPpx+TP7bf64ACQEbQcqCMwGjQTsBMEIaAoQCvYK4wqMDJoSbBbKE0kQkw0YCRwJbQ24DlcNowkSBkYHbwozCpQHygW3BMsEGAVJBnwJZwvsC/wLsAvYCxkNpg7XDVINJQ/RD5ARaBZ4GH0WJhVAGJ4fYiNqIsAjoyTlIVkfDR6LHpQhLSIGH8geeiGAIX4fgx2vGJYS/g8CD3QNmQtLC/sKpApUDVsLrwdMCGME3QDjAccAfQGrA5YBDwDVAPv/Rf+w/Qf5vfWU9S/3nPqd+xb5JPlf+ZD4mvrS+QP3Evli+z77kv0g/7H99/8GAtYA4QPAB8oHfQgNCk8J+QhZDE8Ongv9CJ0I/gekCDIMuwxFCpUJ5Ar+DegPpRD/EL8N/gcIAsX+7P4S/qD7+/kY+sD5YPdQ9vf1gvO88C7tPevR7XLtJeg/4nLdg9wp3vjeet6F3+Lg5t1O2RTUDc9PzO/HwcIqwOPBfsbNyD/IBMjYyu/NKtD1023X0dkS2nHXPNVr1sTZcdu62tnZktzh4lHnLOhF58XmvefI6U3udvNr9QL06fGQ8kL19PjJ+2n7bvpN+eP4fPqX/V0CDgULBq0HAwkSDPkO9ww7CDgHRAp1DXQR2hQxFH4SeROkFOoUDRd1GBsXjRY4GAEbDB6MHwQezBpVGCQa+h1MHvcbKBlLGSUc+h2THwkhfB/0GgcaYhzhG4gbERvSF7AWFRp1HvAeARtFFtsTOhMVEycWpBn0GacZ7BiUGY4ZIxVaEPsLAQqHC18LhAt0DewNEg6ODT4MFA2DDU4KtAXEAbz+UvtO9hHzvvPi8y/wPexn6xnr2uqF6k7oTuhG6o/qSOti69/pOujX5lPpf+6V8HPww/Dx8g73TvmE+Bf4JPg891v3Dfan8272//p2/O37mfvt/WMBCwSIBbYFpAb9BxIIjgaSBScIwgo5C8INHRIrE1wRnhHnE7MVTxVnEqEPFg/cD90OCw0lDBQKmwcUBhoGBAqCEAkTMRGvDsEKwwjzCbIJdAdSBaQE2wSJBrUHjwdnCIEHRwcwCKwGuwbUBjIDCf/g/RL/+wDRAoMBlf7w/tYBGQS0BooK1QvaCRMHEAWNAqb+K/xb+tz5QPzS/jMC1AaWCVAGw/6A+u364v2H/x38s/bs8svwlfAt8tX0N/nH/LD8S/rP9+n2cPba9G3xh+448VP1yPYm+IL3SvdQ+6X9bvx3/An+DQAqAusBcP6i+Yn1uPMo9gX7Tf0I/uH9CvpK92j3Tfcl+rn84vm69w/3Y/Mj8U3wVe6Z8An1Tveb91b0q+8o64HoP+tE8I70Q/f/9jz21/Uj9IP0Hvj9+E33jPi8+9b+lgEyAXT/JQBKAAEBQQQGBWcETwIf/VT8l/5C/lD/ZQCX/rz/QAPSA6MEjgTsAZ0C3ALPAPsCewY/BsoFfQg7C3gOOxHxDl0MHwzEC+8K2wmSCjYMHg0GD4cTtBisG+4aURYFFBYYjxx2GzIYWhk8HQ8frB3hHAkftiDFIS0inCAvHzkeLxsXFp0TeRMnE3IT0RFPD6kOtw5hD/IPmA9JDmwN8g5QENEP4g4jC7UENAFRAXYCAASjA34AgP4C/iD9KP1p/m7/8v3W+qj4Y/bl8pHvoe607YLrnuxL7rvrMely6Lrlx+JB41jluuYP567nFekV6ePn8OZu5IDhaOOV56boi+i550rllOQv5Z7je+MA5wjpDOkF6TPoqeY15QPkr+NP5jDph+k56gDsh+4K8JPvXfDT8rf0TvXd9T/2+/a199H1evRl9nr54PkL+M350P0vAfUD4wRMBjkJ2woACpIHcgUkBSgFAQTwBRUKigqjCRoJagiSCLsGcgQSBmIHUAZnBpYFwANtAnf/L/4i/x8AdgObBMMBoQFaBBcGowbtBkYGvQU3B1UJgAvUDU4O5wz6CgMJqAmqDDcO6w3QC7UJawpdDUoReROuEvEP9Q3vEPwWyRlyGEwXWBc3FzQXUxe3F6UXoBUeE2ETURWRFVQVuRNFELkPVxCSDksLxghnCNAH3QfDCtUOjQ8MDeoLSgpsCkkOxQ5pCzsHbwLf/6UBJATKA5gBoP1/+vb6ZvqM+JT4afk4+/H7KPoX+u/6g/c38fTu//GJ9UX38/Zd9vb2pvY89bb0d/U49WDyj/D+8pL3kvoZ+YHzsu4E7sDwLPXv91P47vfg9X/1F/mC/EP/PgBB/eb7cf7j/oD8+/p0+0n+wAFGAyoEewXsBfEDiv6s+if95wD9AWkC0AEvAJT/Pv+T/jD/RADRAU4FuwYpBZ0E9gLfAGED0AcmCroKMApJCFcETf8x/Mz7E/yV/DD9I/zx+BH3/Plo/Sb9dv19AA8EuwboBdkBBf+P/bb6dPmY+8H+CwO1BKMB8QAtAysEfwV8Bv8Gswg8CHIFIwMzAIn82PoO/Lf9uP45/t37VPsg+7b4WPgd+fT4R/k29zz05fSv9cX0IvVm9Rb12fjX/TT+/vxa+oL2W/ca+pr5T/nv+mL6efgP+Yv45/UZ9v71WPMO85D1sfhA+dP0C/Bw8Ej0bPfv9z/2r/Xu9sD3ivld/TgAzQAH/wv8IvyW/9ECFgSPAof/oADTBVsHrQXdBC4EZAXZB9AIeAojDbYNug1aEC0TRRQTFYcUOxPsFJEXfxiyGusbjhgyFkwWXBeiG0Ed9BhSFcAUIhaiGBAZFRZjE0IS2RBzEOAQYw9pDoEOEwz2CuUMeg2yDYQNXAvXCewIcwesBhEFNgITA6QGGAd4BiUGFAQJAs7/Of33+wT6U/YM8+HxzPL78/TzG/O/8dLvAO9Q75fuX+5S7l3sDeuG6ernfOlM653qUudV4x3h1t/E4HjiL+L44AbezNob2nTbINxe2+3b9N164JniaeOC5HfmM+h06ELndubf5s3m0+QB42jjhOat63TvCfA78DrxIPKp8+jzIPJf8f3xm/M99Tr1nPVa9zn4Yviz+HH7ggE+BV4E7gE8AY0CWgPxAlAAi/7t/68AhQEfA2QFXAnwC6wNZRFjE/UQmQ5qDfQLigxRDNcJ6gpNDtIOng7RDtcMlQoXCbcJNg8wFMEUdBPPEegR/hTCFswTtRDGEMsSLxURFlwVfBPEEL0P+xGvEwET5BEmEPUNvgzhDRwQ2xI1FSQT3RDeEkIVaRZIFssTchBdEDwUIRguGoQZTxXNEL4P/BCzERYSThLaD2wM5wsHDO8KywpPC8sKIQw7EPYSrxPeEtsQ6Q6wDVQOUg+6DqMMiAi7A7YBmAPoBTkF6gJtAfMBKAO8AnsAXv3a/Pf+bf9u/hf+aP5N/pH91v21/4wBGAN7BbIGKgbABXcD0//8/fL80/xn/QD8kPkS+Ov2Z/bD+O364fkJ+Qj59/l5+wr7wfnb+DT3C/Tl8fLxefOJ9s327fP48vfy3/Jd9Cf14fNN9C33i/em9Z718/QY8wn0cfZj9931zfID8Zbx3PSM+BL5XPd29sn2/PXG9WL4Lfp4+ub5wPfr9rP49vuw/yACWQJXAtsCxgImBCsFoQI3/4b9zf63AR4DhAP5AwQDhgKjA0cDaQMxBRgGKwUBA8YC/QSlCMkJ+gVMBPIFkQhCDC4NbAttCG4FRAWnBaoFrQV2A80AJAC/AZQE7gT9Ai8B6/46/BP79P1VAqUElgTCASEBPQR+BqgG3wOgAGAAKQMWB4oI9gUEAdH9gPzQ+hL8AP8j/gj8vfpV+X/67/vX+DT1/vU0+A75fPoO+xL5Zfas86/zt/ei+S73+/Mg8lHzlvV89H3x5vAO8QPvneyv6t3pl+ob6V7n+ep/8LjzmvRe8wDzrfR/9sr4Lfs3/Pr9EgHgAWQB4AGxAXICiwUBCLsImgjgBWMBNQBMAVsBzwEyAnQBEgEdATwCKAW5BrwGwAcQCJsGSgaxBwMIjwcZB2cGpAc3Cj0MMw3WDOILbAthDIoMaQugC+YLCgsJCpYJGwj+BEUEdQa5Bx0GJwSkA1YCjwHJAOj+UgBaAy4DowDB/jf/HgHeAF390fod+nr4OfVM8l/xIfCD7RHrNura6kvqGeld6bjp9eio5/fmnufo5/3m2uZK6NXpoehh5gblY+NL5arp0euG7BDrIOny6UDrgOtZ7AztZutI6tnrTe3l7pDvke5N8EPzWfT09Eb1HfZQ+Gv6UvsG/I79Y/44/v7+wgCeATwAvP4G/2z+2v0YAJAB0v/j/I363fmQ+73+3ACNAXwCzgKbAPf9zf6HAQ8DPwR9BdMHGAxND9QPSQ/hDiUPMg9KDigPNxEpESARTxEYEFgP3Q+NEiQWxxVTEqURthMDFUMVRRMhEMUP4RBqEXkRHRBED9gQIBKaEy8XrBipFl8UeBGeDkYPlBGXEX8ROxOiFAEVrhMxEcIPHg+gD0ER/BFlElYTohITD6oM8g1cD4MPcQ+/DoEOag9hD/sMdglNB3oHDgl6CRAJ5wqECwsKQwrxCa0JCgseCz0JrAXvAbYBQgVtB30GdgYIB9IHTQqhCsYIkAiqCDkIKghfCEEJQApfChcKJgqrCZsImgd+BkEHLQmHCp0MaQx6CPsGrAioCUoKhgnYBxoIDQisBtUFVQUZBRYF/AQVBSYFuwRpAz8BXP+k/eX7D/z5/Lr7evoj+sz4tfc3+Jb5ivp7+S33Gvcv+PH2xPR68yTzCfQr9UH1YvWK9vn2B/bK9Tj3+PgL+SD4evit+Tf61Pmb97zz+/Ho8bPxl/Ml9XPzb/BP7hntGO1l7yrxNfLT8qTxC/IJ843y/vLW9CH3Uvg5+IL3lPdv+av6afv0/f3/Xv8A/gv7CPdF9nr2vPWc9mD48Pna+gv7bfuL/OD9s/1E/n0BDAR/BfMFEQQRAnEBwgFDAhUBdP6+/Wr/3v5j+1T4KfZO9WP10/RK9eT1bPTI8nHy3vSR+VL9jf5T/Q77wfn3+6j/v/9a/9sAbAGQAdIAaP/6/u39EPw/+9z77/09AZ0CYAAC/4n/1P75/mcAVgFlAzkE4gJQAzgDPgFsAbMDVgZLCPUINQlzB1gDCwBz/8MA8gGaAv4AIv3w+zX+TAEJBMEFNQbnBdsFFAabBgYIFgheBRIE1gWaCMALgQ3bDCYLzQk4Ck0MwQ0kDksOEwx+CW0KtguHC1IMjg2YDFULyQtJDMAMMApXBIABNAKYA3MDrwBn/jT+tv6j/ycAs/90/2n+r/vD+V/5Cvm8+Lr4OPcL9Uj2c/i099D18/II7xHt6+1K7r3sBetM6bLn1OcM6S3pt+hc6Pnm6OUC5tfk2uL94Wbij+O05PXlOuXd4RbgHeFm453ki+Pm4sDiu+Fu4dniK+aU6XvqYOou6zTtI+/j7l3vk/B17y/vP/Ck8e3z5/Sr9D71wvaa9sD1a/fy+Wn8Xf26/Cj+awHwA7MEQwWbBscIAAupCugJYgosCisLPg0wDqMOtA7kDn4P/RDHFIgXOxZ7E+gRZRJtFGkWcRfvFtoVERaXF2kZoRreGiAaWxlVGf0XERWoEmwQfg+xEBgRthCaEM4P6w4DD2QRuBVMGNoX4haOFlYWghbDFlsWaxWKFOwU1RU2FmAWWRVbEn4Oogx9DXUOLA6PDFYLxAuYDJcNeQ4AD6gPNhA3ECYQzxANEQcRYBC/DRcMVwx2DOEL+goSCqEIcAcsB2gHbgZrA88ANf8f/q39m/1x//IBvABH/nz+Rv9jAMwA2f/mANwCRwSwBbMEBAFM/14BuAO0BQQH4gTRAe3/pv7s/gH/F/9vANABOgLJAe8BBAGx/6kAFgIcA6sCmwEgAf/+0/64ApsFvAVbBCACjP81/l3/pwDgAAMAGf3d+mP7xf0nACn/QPvC98P1R/aW+NP5MfkD+KT30Pbf9d/2DPfM9d31rPYW9/z3//jo98H1dfQH9DP1KvcB+Pv3fPjW+Vr6M/lL9+X0fvIR8Rbx9/Hc8lzzxPKr8RDx7PCw8Y3z/fSM9VP11PO28y/1w/Wi9sD3A/jz90r3UfVN8zzzmfT39bb24PUm9HPzffO985Pzj/Js8l7zBvUY91330/WP9L3zt/OT9IP1x/ch+nP6tPmz+Mz43Phq96z2Gvd7+AT7dP1W/g/9j/v6+wj/QgM3BLYBlv/9/Qb86foj+yr8BP26/CL9Lv8YAHMAVAAu/bL6ovud/dP/+AFmAvgAfgA+AD//vABbA5YEMAWuBawGKQcYBoYEpAMgAyUESQfhB8oFNQQ1AjwA8gCTA+YDiALVAeoAjgCgAIwAjQFuAjUC7wIgBJ4FvgepBmcD2QFhArYELwZTBQgEAAS5A04CgQKBA0wE+AVmBpYEDQO7AooCagK2ATkBEgIbAu0AMP9r/Vn89vu//P/82vuH+6v8of7g/uv8ePyU/Uf9+vrC+Lb30Pdi+Sb6Z/kB+Xb4c/dD9y34qfiM+CL5F/pO+zn9dP9dAHD+Wfwq+xr59fjA+u/6t/lx+Bz4Mvey9LLynPFC8VbxrfGz8przjvOS8SnvYvDm8vnyffFy7wPwF/Ru+L372vxy/L38R/0T/bv7ffn19or00fIc8wP2p/l7/Ev9+vsZ+un34va59yL42Pfz+Jf71/2B/24A//8HAOcA8f+N/Yn8qvzA/P/8wP41Ak0EoAOtAXb/PP2p+yH8Av3s+2P7jf2tALwDYgd4CroJJwaTA9kBzQD8AdIEAQiHCjULFwv3CqQJ7Qf4BYgDgAIiAvQBGQTBB/cKqQ2FD6AQ/xDtEBYRFxDjDtoOlg+uEa8TRRQjFP4UlxaDFfkRSQ61CswH0wdbC+8P7hNsFUYUzhLAEckRFBJ5EF0NDQsvC4cOaROaFVgVnhXFFdkTKxBkDdcLqApICmkKbAxOEfIVxhZ1FNQR9Q+jD+0PwQ5TDNIK3wu5DWQPIxDgDfsK6AnxCIEIkwk9ChMKUAqcC6ANcQ+REFsPPQsRB28FggW6BCUEKwXfBQsH7wrmDlgQ9w/NDJwHUAMbAKX+av/xAHACLgSeBWcGBgegBn0F2APuAL/+NP4l/gcAiQOBBTsGfwbSBaADN/9D+or2pPTE9DT3CftK/sIBNAQQBBUDoQDw/CP6o/e+9Mzz0/aj+lj8jf7WADMAXv1y+NjzTvJC8c7wGfJC9Oz2XvkX/Hj9BvwD+Uz0L/D/7R3tJe+38eXzIPjt++D9+P7s/iD93Pgz9Ojvy+zx7QDx9PMt9/v5y/w+/n/9O/x9+ob3k/Se8230RfUz9qv3qfj++Zv8BP76+873gPRT9Pv2zvmU/DoAQAKAASX/4voF9yP2svWP9OHzpvQq+Ob7ifwX+0f6pfnm9wj1o/A97mnviPDR8cbzBPei/C4A8/5A+3v4f/aq8u3v4O8Q8u32DvsJ/oQAVgEPAYv+C/qw9mP1A/UD9Vj15/fc/DkA5gAZANr+Lv0c+w35m/a49vf5qPzd/swBCgTWBLMEAAPn/7r7VfcS9Zj1jPjd/GcBKQWYBzoJ8weQBNoBTv0z+Nb2jPg1+93+9gMTCQUMIAv2B6MF7wOyAVsAsQCTABkBvANoBW8F1QTqAuj/2fxf+0P7ufq9+lH8u/47Ab4D6AWQBDr/Tfkg9S3zT/Oa9UX4Qvqz/FEAZASKBooFJQHZ+o320PUM+CT8Mv+WAEECCQUICF4IjQVpAFP5+vJo74Hw1PWA+/3/JAKEAhIEsgXUBPEA0vuq+Nr3N/kZ/UYBVQRmBjYHEwffBYEC7vwt97jz5PMX9g34VPqg/TUAewBsAOEAnP+j/Nz5vPhN+Tr8VwGJBXcIjwlzB88E3QFW/ZD53/iU+lD9EQF4BNIGMwgsBmcCZgA5/6n+5f1M/FL7Pvt4/WkB/AQyB0oGbQMNAJf81Pkp9+z1x/ee+5v/jwNVB4oH4wMKAKP82vhi9QL0UvVt99f4JfuQ/Rf9x/uI+9b6VvhF9Tj0U/SC9X34kfzfABsDhwNsAgn/0vur+Qz4b/cz+Kv7zQECBwgIkgZMBXQD3gCY/Wf5k/b29Zr2iviV/DQCOAZjCOEJmQhhBFr+5vhv95r4n/qj/S4BuwQ0B2gHEgajBTUGIAbGBIsCCgHAAhMIrQyyDOYJOAgaBz4EjAGCAYcDcgWQBioITAwKEdIRVxC9DpsL/wcQBaYBq/7Y/3oEkAk5D5YSgRFpD6oM/Qj1BkoF2wNmBMYE8wUwCgQO8A08C4IIEwbLBNEEgAOAAsAE8AftCesK/gvrDWcO6Qs9Cc0HbAY5BV4FIAjVDG0RNRSsExoQHwtCBjECGv88/fL8P/5ZAMYCMwU3B8kHYQbsAwkBPf7F+7z5dfgS+Yn8MwF6BcEIWwlTB38F9gM8Adz9Dfos+EH6XP5zAp4EtQTUA+wBFP/2/Pj9CQCV/5z+Vf9UAMcB4wNrBG8C+f6Y+wn5+Ped+Ob5Pfx6//0BVAOvA7gCqP7Q9ybzifKB80T21fr//fP+ov+9ALABLQH+/u38E/tT+WH5bPrU+wr+8/6C/yECPQVWBQEB5vrT9VDzXPKo8o32//uE/yQAH/88/+z/a/6z+j333PYm+k7+igFKA7UDNwS5A2oCzwFDALH9kfsD+jv6Ef01AOUBDgMBBAsEyQOQAkP/FPzC+uD7PP/HAk8GMgndCEAG3AQaBGQB3f5p/pL/BQO4BRYHSwlbCc0HEAdEB7oGmQLV/kH+sP5GAP8BLwMRBdoHwQkOCa0HXQYlBL8BYwBKAm0G7QnkCw0LgAkBCGwE6QF4AlMCUgAo/xD+SP1//wwCUANdA8IAu/7q/ib+Pf3p/e3+5gB9BMgHIQn8B70EJAF6/bb4DvXb82nzh/St9gz47voe/tH9UPuu+GT3APi4+LP4ZfhL+DH5X/s6/qkACgEs/vz50fa79OrzffRq9tH3APie+QD89v1l/ov7DPfF8nrwa/Ct8bTzUvXI97358/m/+2H81vjg9CTyRfGE8wb3Ofn9+Vz7hfxO/Mj8+fx2+0r5Tvdz9r31hvVd9475IvsQ/Yz+pf1C+0D5NvdI9Q310/Vq9v74i/yb/Y39tv1Z/Yn83Pte/Mz9Xf7K/t//kAAuAeUBMAMMBKUCEACL/ST93/1f/Ur+DQFLAyEEFgOgAUwBEgCW/WL7/PhG+Pv5J/zS/nkBMQMuA9sBUACV/uD9KP6O/nwAeAMWBPAD1gVdBlAFAQRqAWD+kPq699D36vkD/oMCowQ8BJcEsgV/Azz/C/wV+338V/2p/d3/pAIrBTcH5QZ9BMkCPAJWAWgBFgLWAUwCoQKkAjkDoQKPAacAF/4S+6v6lft5+wr8vf1H/24AOAAc/uL7dPth/Mr83/t8+/b8eP96Ai0FLweYBwsGxgOzAFP+6f1I/hP+6vxo/fb/KgEgANv+Mf4m/Vn8XPyV/Lr9V/8TASgDhwTJBLgDtwGzAPgA8gDXAHMBbwKRA3MERAVyBkMHqgbuA68A9f6b/db8rf2W/hcAzgI+BC4EngO2ArUC4wLUAVABgAGoAEAAMwG0AhwEOAXJBj0H1wXBA88BugGgAnoC1ACZ/tn9x/5qAKgB7QAt/qj76fr0+rf7Rv6FAEsA0/8fANn/Yv9r/yj/Af4X/fT9FQG3BFsGiAZ6BiMGSwb7BhQGswPwAWoABP+e/zMC+wPGA2oD/QRuBjUEWgGzALIAiAD7/9QAhAMYBh8ISQnnCKoHMQhzCWYI1wXGA2wDGwRYBB4EFQS5A3wCegErAQkB/ABaAYcBdgEMAq8CcAMsBHYDyQGgAGwADAHuARoCBQK2AnsDRwPhAVYAxP9A/479vftH/Ob9y/2i/aP/XgNmBqgGzwUdBQgE+AIxAv4BGgJtAioDFQOYAgADkgMTA6cAeP1N+6v6i/ue/G38nfvI/J//0wAGAFf/TP8C//D+b//w/zMAZQDxAGsBjAFYAssDGQOeAMX/wgBhA6QFbAUWBEwCMwGsAZECiwK/AVUBoABAAPIB/QOBBVgHXQh2CD0H8gQpBAcEkgJJAF//yf8AAA8B5QFxAjIEtQR7A2oC/gKoBLcEXAN8AVAAMwCj/6wANgMJBG8DTgLjAVMCMgCz+w75yPnK/C7/9P6G/Zr8y/uM+5b9qP+GANIBjgHH/+z/0QGWA3ID3QAA/xr+Iv3t/Ir8NfwS+575b/py/Lb9dPxt+uL5IfrW+rn6fvr8+i37//t1/Wr+mf65/HL5d/jN+Tb6UPmT+GP48/cN98H2HfeO94b30/aM9ib38fex9wL3ifd3+T/8cf29/CL86Pti/CH98/3X/nL+Uv23/dD/kQDk/Zv6I/m/95X29PZf+I75pvhC9r/0M/Zi+e/7u/10/Eb5vfhN+p/7rvt5+wn88/z8/bH9jfzq++j5E/iJ+WH7Ifx6/Wf+Of+d/07+mv0T/RP7nPkw+Sb4+fdT+n37Rfq9+tb82f6HAdMCegE8/9r9/v4LAYgCfAM4A+sCDwTRBQ8GEwWoA30BWQAeAGH/JwAqAvsB0AA+AND+3f19/sD+9v2S/Qf/8QBSAH7+l/4Q/yj+cf5iAFYAXP45/YD87Pu/+677MPyf/J78YPy4/G39J/29/D78f/yS/Yj+ywAEApoAWv9F/+D/NAFkArEB9f+x/2QBLgNBBFIFHwaKBpIGmAWYA9IBBwA8/Tz7T/sI/cr+zP6U/o3+Rf5VAO0C1QKsAskCJAGf/7IALQKWAdkAHgCR/hn+Qv6N/vH/8ADRAegCcAJIAYMAMwCz/4f+q/4wAEcB/AEpA7gEFwWABFkF9gXIBIMEwwS8A9oCUwMhBP8E3wU7Bg8GDQQXAmMCXgItAJD80/m6+O74Svqz+g37ufwd/Z398f7H/ov/s/8W/Tn7ZfqN+jH8lv1k/YT8cf3l/u3+9P5M/3r/MP9U/1YA4/9O/9H/zf6h/W7+/f97AS8CqQHdACgAIP/E/Yf95P5/AHMBMAHbAMkB6gJZA68EogZ2BqsFiAVXBLkCgQFRAK3/FgB4ANj/m/8cAHf/AP+v/3z/XQCSAncCCQFYAWoDcwWEBnMHOglSCpEJ1gjsCHIIYgc+BtMEdQRKBesFjwZmBkoFXwSAA3ID1gN7BEAG5wZeBegDlQQQB+gJSQw7DBgKWgksCkkK/wkzCdgHkwgHCmcJighNCLkHxAeyCEAILAdtB+0GDAVwBIwFNwcPCV8K6QuaDf4MdguVCtcIrQbIBEYD6QKmAxcGMQnyCXMIAgdGB94I1AltCWYIqQbXA6UB1AGLAoQCugOEBEIDJwPsA0sDuAJTAvIAyP+2/8L/JP85/kX9evy/+3T7pfy0/qwAfgEvAfwAKQF7ASUBnQFgA0MDywBf/ob9ivww+836FPro+aP6mfoC+7b7I/qr91H3uPj2+cP6Dvtt+UH3yPa59mb26Pb391/4Nvm0+2r9U/0V/XP7hvh59zn32fa7+Kz6rPq++rb6kvm/+LX5FPrS+L/33Pap9iL3Ivi8+Zr6Avo3+eT5Jvly9n70BvFj7ivwPfLn8lbzV/Mz9Or29/gh+T36lftB+3z7CvzC+1f7Mfvi+0r8F/wd/X/+Hv7r/GX81vt3+n/5tPm9+cX52vnb+J/34/al9h73VvcR+Ez6WPuC+2P84fwf/bL9Nf8XAOP+V/1v/JX8ffwo++v6+PuV/Gn8Svzo/AL+sv49/iT+P/8VAEcAkP9N/t79gv0h/db8oPtq+v75ZvlL+dL75f38/N/8RP1c/Ff71vop/Az+Kv4m/QH8s/qL+dj5RvlQ9zT3GfgN+Wv5W/ik96f4FPp0+SD4MPjV+In5w/gz9kb1mvai93z4A/qF+yH9Av+H/xz+cPyi+vD4GfnG+Y35Bfo9+yj8Hf1R/qL/AQEDAmUCnAJNAkABQwEvAjsDPgRqA9ABAQHU/4/+Cf4T/Tz7VPo3+hz6A/vd+8T7wPuu+2f7P/tJ+yP8AP4SAKcBNgNOBYEFLQTsBFEGvgavBuQFzQRKBFIEJwRWBEkFrAauB/wHWgeCBfQEjQUABeoD7QKLAvsCHgSzBHIDzAKNA/YCWwECAYMBswE9AVYATQAMAXsBtAKxBKkEswNMBBoFPwYPBwUGXQUzBYoEXQQ5BHYDpQJcAmMCjwNmBmgHvAVtBPQCPgFVAFP/5v4I/5r+Yv3t/Ov+MgKiBdMG0wVVBWIEmAN1A8cB3f8NANUANgEJArcCqQLAAqkDgQOhArkCtwIYAhUB9gGWBPYFGAZcBngHiQflBioHNQcIB4oGpgVABWQFsAWTBpQHxwdDB14GhwaXB2cIRQi2BiIFNAQeBAIG6ggyChIJOwjDCZALkgsDC4wKjAlzCDoH0gXKBO4DEwMpAgQBxAA4AuoChwJqAx4FbgYQBl8EgAPAA6AEZQUcBnoHrwj6CIYIIQgOCTAKFgkuBnADkgIoAy8D7QK8As4CywPGBKAE4AKxACEAhgDjAH4C+gNIA2ECGALLAfMBugHUAN//Vv4z/RH+sP/ZAEEC4wL7AYwBtQF5AWMBwADx/gP+fP78/gkATQBU/63/SgAyAPL/rv7d+135v/kX+2D74/vn/On9TP9JAfMC1wNVAw0Brv5//Zv9gP7P/58AiACoAFYBpAG9/9H7F/ko+Sb6qfr5+sX63fp0+yX7Fvql+Z/6lfvf+238bv3A/hQA9QBJAIn/cwBiAZYBRgHEAKIAzwAJAaYAHgCu/4P+vP2Z/TD9wfxX/NT8aP7f/9MBiAOQApP/CP1/+0n6dPoj/P78M/2M/j8ALAGVAvgDtwIf/yL7ffi/9qr0kfO686H0FPf7+tn+1AGfA6cCgv80/br7Avpm+WL6I/z//V//qgAhAj8DRwMsAsj/eP3K/Jb7bvoR+kr5sfkZ+zD89vwi/br81/yZ/Iz7UPwM/nD+bP0C/KL7D/y0/G38K/vz+tP7+/wy/cH7yPry+sz66vmp+E74T/mS+cX3mfa392n5MPv+/Bv+sv4y/47/Kv+0/QL8Dvsd+x/8RP6RAOgArf8B/sn8d/yV+5L6+/o7/Cr80fqp+rv7Mvwd/Ez8PvzM+yD7JPt2+wL7QPsy/Gr9L/4//eD7Xfp3+Er3Vffn9yj41vio+4j/uQFtAmIB2f6G/Uj9x/wh/G37nfpb+pP7p/1I/67/BP9E/tT87fpI+nP5Dvcl9f71Mvm0/Av/Bf8M/eP7APwt+7b5yvgI+Pb39/iI+u38LwByAqcBPgDsABEBrwD4APz+zfu9+lD7nvzK/t8AHAGTAFsBrgIbA7gCowF+AK8A5wBeAPz/S/6Y+5D6f/uw/bUA4gLTAusBjQFbAeABOQJ4AW0BJQHO/zMA6AIABTAFugTmA/EDBAbbBq0E2gFUAAoA2f8wAP8AWQLMA7YCpgCw/jb81frr+hP8a/2J/zkCxgPMBCAFGwXjBaQGEwY1BHUCCQGR/zr/mAAmAvwC5AJNAgwDJAPZAMX/DgDI/kn9Uv4+ANgATgFeAVABqQJlA20CpgCR/mD9q/33/jIBrAMkBb8FDwa6BuwHoQgjCNcG0gSzAgECpgEbAaIAzf+2/9n/I/9j/mz+h/6O/VP9X/8RAcMBpQKrAm0DFQWkBGQDaQPAA0ID9gKFA6ADIQNoAcv+M/63/p7+Lv94/3f+dP2G/fb+jgDdAV8CWQGPAG0AgwAOAlAEvAWhBpMH8AgrCgMKKAgYBi0EhAEHADoAgAD8AFcBwgAHAToDMgR5ApYAeP9r/l79AP3O/cz+d/99AMcBhQOKBZAGQwaqBKICcwFjAbgCjQQoBRoFjQXWBXMF5gQIBEcCcAFfAskCAQNqA34C3AFsAwkFGQQQAuUAwP/I/hf+bf2A/lgATgF2AjAD/AL1AsECwAFQAKf+Sf10/Y3+HP/A/5AAagCx/2b/Dv/2/t3/igAbAUUBOwAFAGoA/P9U/0X+YP38/YP/UQCkAMsBtgKiAvQBzQAcAAEAPP83/XL7Cvst/Jr+7QBkAv0CbQPeA1sDrwGM/37+gv6u/mH/8v9O/9X+DAAqAYoBYwKeAj8Bzf4n/XD9ZP6F/t/98fzD+w77y/q2+Yn33/Vk9dr1q/dH+qj9kQBOAdABXgOOBKQEkwO9AOD9kv0m/qr+DAAgAeABRwKWAXkBbAGH/xD+EP2R+4H8Cf8mANb/K/8o/9b/2wBRAcAA1P8j/+D+d/63/UD95Pxa/PT8Wv7e/tP+LP46/Rf9dv6o/y3/U/6u/PD7p/wF/UL+g/8pAKEAzQDWAb0D1QTAA5cBKADE/tH8YPwK/Uj94P4dAXUC/QP0BSoHAgcgBscEVwSMBNgDLgRVBb4F4wV9BskHRwdxBOEBiv+x/Zf9Nf4P/x4A9gDiAXMC6wEkASsBYADW/ef7MPum+7L93P8jAYMBoQE5AoACEQHe/hj96fpM+SX5zfmz+pX7xfzL/UL+zf7N/73/Yv6Z/c/86/vv+zX8pvwD/Yj8mfvN+qn6dPvE+5P6zvka+6f81/wB/H76r/kc+gX6Eflp+HL4Gfh099H3n/ht+e75Q/kF+HT33/cu+Tb7OvxB+/L5e/nW+Tr6sPoN++n55vfx9j33Cfio+Qf89/wO/Ff7hPtX/Kv8avzR/PD8OP19/uT/AwHvAT8D3QNpA7QCxAFFAUoBZAHcAP//lQDaAtAE9ARtBLYDGALj/zb9LvtW+qX5tPka+6b8vP3t/tD/QQAeAUMBqQATAGj+Pf2O/a798v1F/7sBjgSwBVYFAgb4Bk8GSgTlASUAGQCNAYMC0QEbAEL/ef+j/4EAFQLJA2wEXgMFA7ADOwShBFoECwQzBFkEgAQRBKwCeQEkArADEwR0BGMFZgU5BPEClgI7A/YDzwPgAkECJwNiBLMDwgE+ANT/CQCxAL0CfgWpBjQF9ALwAaUBsQGcAiYD5AJUAycE4wM/A5MD7APkAxME/wRgBgoGvQNTAVoARgEdBJMH5gedBCwBpf9DAGgCzwPqApEAef65/kgBjAPmA0MCjQAeAKEAMQL6AtAC4gIHAVH+ev1x/er8Qvxi/cn/zQDsAKkA/P6X/En7Pvyh/V/9lfwH/Fb8zv0s/0v/a/4d/Z36Rvj392342/hh+Wj5F/oz/Nr9Wf4//SP7jfna+AT6VfyX/n0AnAHAAYwBBQIBAVj+Lv2R/T3+zP6x/+UAxgFqAqkC9wEzALD9Pfvl+Rn66PuX/vwATQLSAecA1QBlAMf/QwA3AWEBEQH1APwAqgFTA5UEVwQ9A+0BcQE5AggEvgYsCB4I9AcPB34F5AMGA9ECJQNUA0oCzwFmAswCLQMSBMoEhwTPAwcDmgJnAskC1wMhBK0DUAIBALf9efwR/a39Gf1H/b3+0P/7/4X/lf4a/qr+m/8CANz/V/+Q/lv+bP6I/Sf9B/5Z/iX+Wf6Z/3MBmQE5AEL/T/7z/Jj71PoL+zn75voe+7f80v7F/+3+Wfzl+Xr6sfwx/dn8NP0F/o3+dP49/rT9Xf32/B77Y/gB9oL13/Z3+Ln6Dv5bAcsDaAQsA/YBCALCAZoA5wCKAfsAagABAJD/Zf47/aj8Jfxr/Q4A4wGHAlUBpf5q/Vn+av9nAb0DFQOTAdQB4ALIBQwJYQmDB1wFTgRABG4DEQEF/5z+Kf+7ACMEdgdEBz0EkQDh/H76mvog/HH97f43AMQAyAEFA+UD4QSqBGgC7wBNAcoARf9Q/uf85vvG/a7/MP/K/on/iQBQANz9TftQ+tz5nvkl+Zj3XvZg9qn1tfPV8Vbwxu+Y797uVe2t6n3ouOf25mnlBuRq5MPm+egr6j3q8ej853zoX+vU743zf/Yl+AL4Wffj91r66f3OALYB9QCr//j+J/9pAKwBgQEgAeAAGQHvAj0F9QXLBKEDJQNLAz4EWASPA4gDaASdBRUHDwlICskK7wttDA8MzAtuCzULmwrpCNQHxAhiCd0HIAa7BfwFAAb/BOQCUAG1AfcDWQagBxQJDwt2C5YJugYSBEwDLARnBBMEvgT2BpMJ2gptChEKsws7DtwP0Q+pDroNVAzBCsAK7Ap6CrILkw1WDT0M4QsAC+kJAgo6CiELYA26DqMOJw08CtoH+AZEB5kI0wlzCsoK/gk4CJIGKgVyBJ0F8whwDDwOWw5VDQcMugqvCRQKeAuTCyIK2AidCDMJaQnMCMQH5AawBj0GHwXOA40CHAHE/u38VP1I/20BmQLQAlYDqwMIApj+s/uz+4X9RP6E/TP82vqi+cv4DPje91X5VvrH+T/51fh2+Fz4Sfi098v3wPoV/n//aQCsAK3/6P3J/Jf8Vvt0+SP5fvqU/Bb+2/5I/zb/AQDxALYAwADZAHv/+vyd+2L7NPs3/HT9pP1e/Tr8vfoh+jr6o/mj+Hr5Dvtt+7X6Bvm892T3BPct93T4UPrg+wf8jvq0+Mf3dvch97D30/gk+dz4Lfli+sX6W/of+iL5w/gZ+h/7hfsH/Gf8Vv2z/hb/n/7//dX9l/3J/KP8vf1l/+b+Q/zf+tn7l/3R/VH92fyD+4/6fvpl+ob5ePeq9TH1Q/Xm9W/3P/ln+oX6f/rp+bn4U/gN9/v0DfXR9VH2Rfhz+pP8SP4O/ZP6ovl/+X/4dvf++Kn7Xv1n/jf+Jv4VAKYCxAJ0AF/+Lvwc+gD6dvq8+jH84f0F/wAAMAALAA4Av/92/wYA1gCpAO3/Ov9//uf9zf1H/mf/KQAq/6z9/fwE/f/8APzK+nn6Q/sc/E38pPyj/E37ovlW+Zf6CP1wAAwD5QO1A/QCjAKgApECswLWA8oFJgcsB2wGYgbfBkgGlwQoA+wDYAZmB6oGAgbMBUwGBAcTBzIHQAcZB64HaQmmCxENRQ3GDAUM2AugDJQMaQoGB/4D3gKBAysFKwdSCFwICAf8BEQDvAFFAf8BewKgAvwB3wALAUkB7gD6/zf97foo+qr4TfbK8k3t9OcS5F3h0eCT4p3lx+cr50Pk5eAR38/es98p4yPnAujO5xnpDuxR7wvxWPKC8sTvFu3+7JLtle257ULtNOzp6gTp4OeB6G/qv+yB7szv/e/47qnuye+y8c3yyPPR9Z720PaE+N36Vv3SAHQDeQOqA4YEkwZVC4QPwhDkEFYR7xDyD+sOUwzSCZ4JqgqMC2oLqQq1CSkIzQaDBgEHGwd/Bt0GvQemB/MIgAu3C54KMwp7CWkHngQQA1IC+QKGBugJmQtMDU0PfA+JDd4N2BDLEkYTlxJKEVEQHg+sDe0L6QmDCXgLBA3JC54Kzwp+CzsPhxOrFGcUAhNNEaMRfxQkGV4diB5NHJcZ6BisGEMXSBXeETMOEw1jDacO1xB3EhoTdRLXEEAP7g0JDNAKeAtaC94KJguCCsMJqglxCnoMSw5uDjINNQw5DCILOgi7BhgHAAdYBXEEFAdICbIHcgTMAvsETAYgAkj+jf97ApsCyP99/4MEzwo7DI8HxAJmACgAhwHJASwBwf5/+fb0AvRM9NfxPPFw9Uf29/IF8rbwfOri45LiKOVF5/3oDuxT74DyjfZB+yj/nwEHAq3/Of5fAfsHWAxyCgAFyf8F/IP5xvmg/Ez9HPx4/QkA4wHvA8IEhwNNAvMB7wAF/5r87vlG+Uf5UPl7/JH+a/w2+8r85P6z/yf+Tfvw+jj+q/9N/kj9y/xa/fn6K/bK9cn2C/Y29oP3a/jZ9+j35Pgi+HX3XPn8/LX/AgDK//n/4wC1AXz/4fmS85Txl/UV/XMDJQRSBfAJwgkOBQoBogC6AXL83PGU69juIPZl+Ff1s/E/8QL0+fUL94T2ifLs8NXy5fP58iLwe+0g643qruwW7szyKf2UBCsFawYjCogJrQedCMwGVgLsBD0RuBjME4kRHBXwEr0NQgh/Az0GJwyGDMAF//4J/nL+4v2a/JP76PxHABYBzPhD73Pxx/mM+6X1CPDr787zYvbL9SP18/X99+T46/hk+1H9A/12+k/z7+zU7SX3kgM9C1AMhgZQA98IxQxgC9cI8ApKEO8RSRTZF0QXERQHElYRYAzJBqkKvBIDFqwVVBU5FWMTLg+2CuAI3AczA9D+7f+cACj9g/kn+BL72f5v/4X+xfsv9wLy8fDr9DD1CfPS8z3wu+UT4RHof+7Q7Rrv3vVr/eMB7P4g+LT0GvPF7/7sGO3473f1JPj39uX1ifN980X0Bu7X6DHuU/dl+W31vfPh8/XvPOmQ5YflRedG6TzqCep062nxPPVS8a7ppOhi8UL3nfV28i/yD/PU8dn1y/yj/Q79mfw8+nP1vPKN+foA3AGQA5MJkg0lCXEBEf09/GL9nP7CA8EOIBffFyUVxhGkDNIHaQlhD4YRaxCrDhsNJw9uEZgP6wojBosEmQSDBqcIYAMz/bL9cPty9mn4sPwq/vP92v2FA14IyAR6AvwBkP4X/if+mfya/TL/8gGRCHgRpRfLGOUZTBszGd8UFxAtDswPvg/fD9wSfRZcGKkXThnnGK4RAg9OEw8XZxfdE2sNuQdECHILAwndBOcHbA79DhgKbQdXC60OZgpnBLwDcQhPDGsK2AbtBSEH4wZYBdkEFwOqA+YFjgBW+uX6d/oZ+RP85v4//o/92/7a/+YADwJVA2wHCwx7DvcNBA31C4cHCATPBYEJAAi0BXkKgA1vCzMNMxBFC9kBQfog9PjyE/YP99f0ufLL8wzzCu/57BTumPEy9KL0VvG368/rKe9P7ljsxezI7JTuqPUE+kn42PnV/uEBwgS+CagNTwt1CQ8MTAnKAxQE2AY0DCsTtRKRDEcIQQh8BxgBGvs/+nH/hANaAEz9y/n69db2uveC9vT0TPQ49Vb3YPo5+pj18fK281TxMuyk60Pw7fUT+a73nPNU8mP1XPb48S7upvIx+v77ZfwX/LH5yvlF/Kf+jv2P+tf4xfRd8kr1xfac9wb8PwBm/7T58vMH8/T1XPmg/tsCAAMVBGkFeQMi/W7yS+7m8gT0j/Ep8kH3o/1u/5T4b+0r50TlBuWi5x3r5e5F9Df4pPYr88LvqepJ6XjreO2x8u37TwO+BfYH2gmTCv8NIxFWEAkMAQpCDzwUxhOCEZUPlhDKEn4QoQ0NDZYJDAXbBAoH+wXPAs8B3f4p9ybyovN19//6vv0PAFYCEQQDBGAAVfr09iX4TfwBAbL+dvkG/IQCyQfKBkgAFP3L/qUEywr6C+kJdQdmA/r9UP6FBEUHuwWEA/IC+QZkDXMQHw5ICoQIjwe+BJcATQKoChMPfw9aEj0W+BdUFpgSUQ85CzYDAP33+336yPhc+ff64fo0+kj6Jfdk8RbtvOsz7qfyOffA+iT5IPXZ82XwvOsg7E3wdPez/Vn+MP7N/mP88PmL+7T8WPuV/AL/eP3g9yrzs/OO9/n6Jf65ARgBzfyE+dL2gPUJ9Qn1DPX58lryIvNx7wTpseYR6EbrOO8s8Qv0pvMQ7aPowucH6nTqUedw63PzzfcR+xL8qvq9+Dz3V/hB+x/++QEvByQJZAepBbQAsPrZ+lb+S//0/8IDMwToADsB/wFQARIBtwEHBCcGnQiZDNkRChheHtIkkSiUJdgeYhgSEs4PMg+/Ch0KXhCYGFgcGhapDecHmQHo+7P3/fnEBM0OFxKnDm8GN//8/HT7/PgH+5YAiAZjDaMT7hXOEjcRoRS2Fg4WWRVoGcEfDB+UGmYWTBLUEIwOLwxjEWQapBwqFysQbAzCCpkJ9AqHC6IITQSL/SD3Uvel+5T/5wNXCHQKDAl5CMMHMAOnAMwAiQCnAI0B2QLjBMgEDf0v9Yjzi/ZV/dACtQcHCwMKwAbd/6b4S/XQ9Sv5APzg/pcD6gd5CqQKOQiwBL8BUgAi/5UAEQW4Bt4Ivw3UDn4MlAzcEE0UJhLTC/4GxQURBQ0FRQXBBgcLNAyBBpL88fbA+Eb7QgAhCBsNCw9dClAAQ/h18XTuc/CO8YD1hf8mBosEmwCk/6oBPwPEA/QEqwVeBWoEfAM+Akf/S/4wAbcETgduCOgIXwgMBp0Dm//o+bf1v/IQ8mTyHvEl8WXwXe0N7HXuB/NA9eb20Pgg9tbxCfE98nHx1u5K74Py1/Ks8qP1dvag9dj2pfck+NH6nP82Amj/Qfte9qftVeU04uDkS+ut8Z/0n/Pd8XPv+ewF7Ozr2O2Z7hTu2fGG+RUBZwNtAvgDKgbFBlIFcQLKAPP+fPvC+FL45fr8/C77Qve88lru4Ol754/ojere7KvudO8g74vrK+ji6G7qj+3+8iz2y/aO99T6r/+dA9oHzQmsBZ//OP6lBKkLVQwtCyIKrAkgCXAHBgklDPAN2g5sDOEH8ASgBE0GLwhtB4ADawDA/oj7K/p0/UQBswP6BRAHdgYdCCELFQkjBNYASwAYBI8HJwgcCRUI0gTrAaz/zgCwBbgLKRF4EtsPgwxJBvz9ePe79Gj34fw7A1EJIQyJCjAGdQFm/W78Nv1s/VYA5QS/B1sJcAgwBfkCPQPLBHIGewgeCXMHrgR5AKj+kwAKAXb/PfuJ9QrzoPHc787vjfJJ9nv2xvLH6+Lio9xR2kHbu9zU3SziseYm6jLw2fWD+Qj7TfgC9HHyi/Ww+40BEwWrA/T+vfuv+xP/LwRbCHsJpAYQAvr86/fZ9OLywe9l7dXuj/IJ96X6GvsW++r69/g398j1pvS19Lv0Q/VT+PL59/cu9xb4f/jl+Un+fAM0BFABigHbBPQHOgpjCe0FNgPjAUgA9P5UAGQEkgp/DswMmgnkBT4AZfvF+WP7fP/HBFEKWA+HEpYTEBTmFC4TVw8zDgQPrhDxE1UXERcEEXgLRAn2BjgF6gQaB+wJ+gqSDeEOdwulB0EF6wKAAEb/Nv9//w0A/AFSBpsIigjTC2cPGBEQE8QSdxCcDsYNKA/hE4QYkRiTF/AXhha4FfEX5xqeHIYbVhnuFdQPDQp6BmIHUArgCZ0JTAoqCIQFtAOuARYAHf6H/JL8rPwx/Tn/fACd/ir8l/uP++z71PwT/ef6WfkJ/Dn+1f7bAYsF2AZuBtYFCAXDAlT/pvyt+3j9jACKAYkB+wC1/bz5W/hr+An4Rvk4/f4AZgT7B/AJCAprB7gC/v8MAioJPRFTFX8UUBAlDLMIGQTsAKQA+ABvAWYBUAIEBrMJhwtQC5IHDAEZ/OX4UvT279jta+7a8HLzcPiQ/ywEbQaUCIYJRAa2ABP/wP+W/xYC2waACOcE5f7v+jX89QGgB2cKPgvXCSAFhf95+jT2TfQj9ef3APvG/fL/ZQA0/7H8gfnm9UPyW/Ff84f1W/iH+r/4GfW38VvvMe8O8FvypPZj+ED2mPV89wP5r/n99xjzT+5i7dzxs/mxAHgE9gMa/6j5Bvep9A3xrO4a7VTsje9A9VD7VAL7BQEDEf3o92D0LPM39LX3qv0GAk8C0v6991jwnewm7Y7w5/WI+5X+Y/4U/fj74fnX9Z/w0Osg6broIeo77dzvs/BD8oj1jfiX+hz8qvzi/ID+RwAAATABOAFPA3wHjAmKCa8KVwv0CjkMbQ9gE3AU2hFxDnQKjAeWBwEKPAssCmgKSgsGDKsMZQurCI8EeADu/1QC5wRpB6IIWQe2BQoEEgIZAdwAswGHA8kDVgI9AVIAbP56/ID9uf8f/1D+1/6///IBIwPvAUb/evyI/Ov9MP7u/Rr8nPhA93H7xAENBooIKAigBSAD2v/0+1D5OflU/EgD8AnBCsMI8QUO/+f1yO5260vs/e9V8+n0M/as91P5+/kD977xiey75ovi9+Ed4ynmGurJ7GDvWfNx+AX9zf9UAFkAvv/j/Er7IPyc/VP/LgC0/4L90/om+oj7wv11AYQFGwfxBkUFOwCc+DPz0fEi80v4jP9PBh4LIwtKBxcDNP9P+/D5j/oZ+7f8c/36/G38ufqF+Qb5H/qG/nYEygnHCvQHtAX8AuT+j/tb+5f/DgU1CBALhg86EyMUqhGHDCwGIQA7/Gn79/7lAw8HCwpaCxwMzQ6gEFgQ/Q3RCskJUwu+DtISuhOPD1gJwAIS+6v0NPK88/n4EgAjBl4JdwpsChUIYQMb/l36Lvng+RT7bvzx/p8B5gKNA8sE6AatCHgKGA5EEl4VXxeeF0gWchVyFsgYURroGO8Wkha+FSkV3RUeFcERbw3vCQ8ICQcuB4QJWAv2CtwJjwiRCHMKdQvDCBsCKvug9yn3HPk3/hEErgeHB10DPf8g/gT/BQB8AeMDjAO4/tf3U/Ir7yztb+6s88/5pf6/AtMG3AcdBdwBfP9N/TT7SvoR+rT6HP7gAksGrQeaByUH0gWNBB0GYQeqB/4KXQ5FEJsQhQ2tCpUHeAHs/Cz8n/z5/ZYAjANEBrUHwwdTB2gF9wFN/9r9ZfzC+qv4dvfg+Lb6nPrW+HT3BfkY/WwBogVHCmkOyg+hDpYN2QsMCVAHigVYA90B6f+D+4P2OvYU+rH8nvwX/Nz7Wfmy9KrxV/FX8q7zBvV59Wv0YPNG827yvvB07zjuF+3s7LTupvC98JHvhe3x7APvIfNc+IX68fhK9dzvy+vX6szsZ/Dv8ub05veO+4/+1gB+As8BhP4Y+afzo/E08jP0kvb29jH22PRu9Lz2VPmY+1f/sAPvBnAJagpsCPkFsAM8/yn6nvXP8NTrDOg56ZbvBviA/94CBgL//JT0HO0m6mLrie147ibvw/HI9P/0kPQ29X712PZ8+pr+aQOICcENSQ/vD3gPng4HDlENGgyvClkKCArVCPgHBwgsCAsHeQVrAx0BtwGYBNwH5QqqCyYKXQiPBmQEZwOIA3YC2f9b/YD8z/0qATgF/wYvBW4CJwKEA6gEPgfGCTUIoAOa/dP1YO8Z7mTxqPan/egFPwxvDugMfQmOBDv/Iv2K/RD+gf9nAvsFKQivB/QFkgRZAz0CYQKZBBQJ/A33D14PQQ4UDEgJhgY5A3L/iPt3+Xj5lvpc/osCHwOFAasASP8t/BH5QPc599z3Zfj/+N74rfdc9o30FPHA7lLvoPH19vz/PAqRER0UrBPdEa8P9Q2ODfQNZw2XC3QH1QBT+4r6Bf1y/40C/AQQBHIBfv7r+/v5CPiR9qT2VPiv+S35sPfQ9jb3LPjf+P/40Pgt+U35d/hd+Mj5APyz/WX/+AGRA5EDNAHT/B354vYA9hT2kveg+iP+IQFRA+MFYgfpBW0DEwEpAJgBHAQrB3sIkAYFA67+hPvK/K4BhgcWD94WHBvbG5sZARYtEykP7AibAqP96/kR92z1qPVX+P/8BwKaBS4GHgSM/zX5rvTR89n1JflA/Nb98f2N/u/+G/90/7r+KAC4BDIKRxAHFScXtBYiFBIRSA+HD6oQCxJeEy4T+hHrEJoPQQ4kDTkMGwv+CIIHGwiNCcULsA5SEPkO6wqaBWQAJv4i//r/kv8F/hj8UPsn/Pj+UwKJA9cCAAOhBEIGjwjsCfEGHQHW+XfxQeun6W/tq/Vi/vsFuwu/C+wG0QF8/Rz6Xfn1+/D/wwJVA4ECZwH3/jb7hfkW+6n+XQSsCmMPZBGpD10MPwnlBCEAb/x9+aX3wvfD+uP/UgS+BvkFKgJy/kL7MvnT+eP6zvug/Av8i/tP+1b6h/j29WrzTvGh763upvCO9/wAFQnRDfoOFg5ADJoKWAoIC34Mkw24C0EHQwL+/Bf4IvU49JD1tPgr++r7yvtL+1P5n/WE8kPwm+5v73HxmvIw9B31n/P08HzuPe5w8MvycPU++Q/9EgA7AhECrv/d/Gj5cPVW8tTwOfBx8CLzg/fW+2T/MAGOAd8AUP8t/tL+sgAzAa3/mP0O+9r3pfQe8iPwG++m8ef4awO3DewSEBMtEWkNSQiGA2n/y/uT+Tr59Ph2+J34qfiE+e/7X/5P/yj/XP7b/Kf7Ofpi+PH2A/bO9ZH1JvXa9J/0bfT181z00PYw+44BIghEDGEOLQ+ZDmYNmQthCmULrQxuDOkL/QvNC6AJuwVHArMATALkBd8IngoeC6MKPwlqB0sFzwHH/YP7UPtz+0v6Bfh89Xrz9fNQ9wX9iQOyB9UJuAkcBysF/QOJAQn+UPrP9EPv6u3y7sny5/qZAiAHaQjaBv0DpgHOAI8AJQHrAooDbwLQAHn/rv8MAGv/0f/fAuUJNhKHFxsaEBrPFu4QAQpnBMcAnf9NAAwBoQJPBUcIXwpvCSwHfgXJAoX/gP1d/ej+FAEmAtoBpgH7/2X8ifk09671bfVP9Vf25fnr/9YG8gyuEeYTCBMrEGENzQzpDiASqxKcDugIyQK5+8b1IfOL9Sj7pgDvBWcJngmzBz0DevzU9gz0U/NA9On10va99nP18/IP8Zfw2vEZ9ZL5jf61AVMCIQLDACD85/QW70rsPuxc7mvxRfWd+aP9sgAVAb/+zvz9+8n7/P0HAr4FtQg4CdwGaQQwAqj/IP4S/vH+7QDjBGYK1Q/dE50VixScEBILsgVGARz/SQCgA0AHtQdGBJkBKf8w/Br8Xf0V/iv+o/1J/qn+aPyA+bj2CPOu8NHxwPMG9G70IPYg+JD5Wfqr+h38/P+lApQCogI7AkMBTgKpAy0CagEEBWwHrwRCADr7nvYJ9pn4lvqz++D8o/2J/an73vqt/gUChgHb/hf5HvVk99n5YPno9kzyZfAm9eX8tgNKCOQIpwaEBVYFzQRrA1P/b/2d/7//zQK4B88FzAM9A1sCVgXACNUJtAXx/iL/ZACQ/j8BAAAh97f7SQs/DKwDbwCX/bT9LAbbA4P2M/sjAb/xO+07/d4CewHkBNv+Z/stBqoL0AwUEq4NxAXECZgJNALyBrsH9/6QBtAK5gbKCXMC/AF1CuUE4ALwCL4EbP0IB1kPRAuGF1cYfQcfDgkJ//5VC6gECPc++Tb4dOtq5P7vG/Pv75T0j/Kl8mz73wUQAoLz9/Fq9hL75/1d/v74IO349xICffEW99wGTP33/5sIfAB2AjQBOfGy657vnfI76xXnF/QX+r/5Mvwu+UTtV+hq9QDxzOcA+O77Jfe5/4T+Xfm5AeUDmPeX+X4J0wJK9YP8LQE+Ax8OTwez/7APAxN1DhgTmAWj+t4D7fuJ/GQXWBKk/NwBJwC59E8Erw7KApUAdQzYDS/6SfroA5f5c/gJ/E70s/WdChUWyQJv/NkOK/+9+MoUSQtd/pIL1BCUCB8FXw0bCdsK2xELDAoQQxXcFYwMMAPPDLIEuftXCHsI9QWUAWD+Ovx98pX48/Ju7lT1fugf8y/9vvkCABX61QKQARv8jQh4/yEAlgER/Mf+Zf4JCSwAawGpDRT3BAE3Bv3tMfnI/Bb+BAj4BDgFvP/gB+sL+P6g9cXjd++tAf7/IwhH/SX/Igq5/l8FkwMACFkPFgC1BjP9X/Sl+yL0R/79+7/7wQ2pB8QAVgKeCGYHOQKPFUETkwiyFSgLL/cB+P4EJvcg8NsE1fF8+a4O1PgSAkwJU/fC9isCIf3U98ALewG49ckJFQuOCvMGuv/S+DrtovFA43jfvPUH7proTevP5qTfId3A6YnkFecU97rxgOpw5CznFOdQ7ND7oevG6jD7Lvqw/w/9zv+o/NX0AwMm/pQFGhZnCsMD9P++BJ0CjQAYDhgD2QFJCmYGngmNBvANVQ5QCB4VYhBdDiYS0AnbB8YEGAhzB6gA9wnhFAkXcRaoGbwb1B+sKt0q3SDLGYAZ7xghFeEVCQ/bELMmDCQyIUUpZxbiCqYOnQXr+BQMmzfUSGxBujmWN68xpCWSH3wkyi3PLLcl+xlsB2EAag2GE1EEI/cb7aLyKxMZIEgHhvm+ErIm+R1eFQoTRx5TMDkspiAOGCYP9w/dCpMBKwdlCd38VvgiB0gG6/cD/hzy6tg54/7qKNvp4Zr5Zftb+0cCI/9eAI4B3fGh1Q/RY+Mz3CPiFARGF7MhlxvDD0kSpxg2G5QRRP8U9/sHURVTDJn8L+Ra2kvqsvIX5FLaf+zq95n7vQuPB0f5cAJbE74XxxDNCewDMAE0ByoHWv1m+RP8IPx2/If/Ufm17WHng+aR6vHujO523xTPnNNf3B7aIdQtzezIGdJG3ePcv9XiyXbFq8gTzXvZu+Hl5trw2e2R6VjpO9wE2vjmCPFT9tz57AjpGD4a9w8fAo/6DvVX9Yr+nwGu+2Lyeuul6zzy5+4p2kzT+c24tVSvVK3NoQOqfbluv4fCpdCI5BfnPduzxMGumq8CuvPDL9dS8vwIRA0pALftg+fs5nLgt+SZ7MD0IQG2BPEGOAvjC8IHv/709X/tUfC4/PP6svca/pgGgRFNEwEM1APWBgcNMv9x8mT0WfpB+pb2ZPqY8QnmcOXO1d7IlM7u25jiRdZU0gTast4B50HrxOhb37bTotACzyLPddKJ12XkJ/E6+tP7UfnZAPYH4QhjBQ/8m+r54G7yRAbgFaUhGSJuJpYn4x5hCxn8+wBh/+z/AQTe/f4GXg47CnIDsPjX+scA9Ah0Ddv/efuKAtUK4xj3IvkoQCU4H+wcShMyDp4KTRGFJ086C0ZcO/wutDC0KkotNi49IZgfNyCKHdIctB6oIboi7jCRNWwo0R6XDtEC3fpU+RgJ2RkWL1A96EBuPiY1SjtTO/EpQSFmGB4Org3XE1gciR0tGyEUmgBF9qn3LvgP9rbysffH/XADYQeN/zjy/uBL3Cjoquno7MX4aPpe/MYMfxs6FRsZsCtuLm40gC20GKIgoih/KLAw8Da7OOkyAzF2J4kYsRMDCmYKaQ6TBDz3NvMMBWMZqSvtNtQrYCeXJGQTGwjeCzgUkg+nDtkUXRq0I/kgIx+fHAwWHhbYDIoFSwNbCXsQnQhuESgahxZyGxUTXgN0/XT8Y/k2/ikVaRl4D1oPzQP395n3o/gr9qn7Iw2qCxEELwc1B/MLpxGzFfIYZRfJFu8WzQ9A+dnxjw77ILgdMiUdLCMiuhluEzf/yexx7778WwVVDm4aABxBHDcjNR63EZgHQgCpARsEzQlkGA4gOiDkJFglgBfXBcn8iPjT9GT67QLK/8v63/bc8ib7tQDa8Czaj8nhuUyyTbnBvr/Hp9Lw0D3PQscdtomqBKnLpBaXGKQpwZjODt6A6P/n2+Hj2L7UBNRs4tDuV+/r82jt0ua26pLqpep37aPrw9tz1F3fY93E2tTh4ucd6nTmueuk7rLu4+tD1fLHNMnK0B3dguOz74f4vPzu+anvV/Mp6l3eceTk4TLof/Zf+NbsKdyA3rThi9qA17vYfd+54F7f49hqz+PR3dXl3GLgb9582yfON8afwlDBRcqa0/Piou8d8c7y6++l6K3fDdmS39bs4vPu7Snhr9lI18TcR+rP7ivq3eMI2KrMVcWxxjLPp9jr58fwA/l4B80IxQ4fGosTFwgv+6z0nP1VBksSiypKQCA32yQEI+AV/RCCHOkffCQFJ10jWRtgHPkdZQib9yn0ufJG99n+HQVkAT39Pfs++/MGFwyqBT74zOnX4EjVLtVT4M/s9PygCXcTQAcu6UnbK9gX3hTkceUA8LH5BQM5++rqY/jWBJ8BUfuq757pIuqN7AfrIPGmAhUGcQGVAFACUQaaBVUEIAXdBhAGEwkoG1YsbDETLmwlOxvhEDIGrfzm9xv88gnwEaQTRxtyGwETBwvI/tf1mvfn/i8GQg8BEo0MKBFaE44VUiAxGy4MzQPrCqQX2BmFGzgcuh8pJ8kkQyQjKZwoyCoZLmYunSwlKtYmNRhVCoUGSguNFUUUMhHPFK4W/RPcDwsZLSJRIrQkViD3HpQkmiNJIbkfLxiyCswD/AIQAkkK4BoTJccjkyY1LVko2B0QGW8g4Sw3NkI9bTsXOcpAjUCqM5YruiMQHCYbjxNiD/YZXyN2JusnAizGKrsdqBZ8FiQS8gzgDSsTCA2ADEQXtxFWCwUI5gGBBckE9f7H+Vf3vgF1C3wPIRfeHAcVdQbl//byreJA5sTswurj86YFqAeS80DkVugH7n3zVvjT9oPza/Bt+HQBgAOVD9gT8gpjChEIbvwE9H3y7fSu/iMN7A+fBH/9vvw/+HHzQ/Id72HkvN0N5Znv1vrw/yr01+lC6EDgmNuI47Hlo+Ci5JTw7fsGAp4DwgQhA935q+ne4ADk8+gt8t/4IvFo50/oKe5d9uT+of73+xL8CvWX8V3+7w+WJEA3yDcBJWkSXRJhExsLbwWYBigMQwkvATv6Fu9u56HpbfE38afqH++E+zsDyP3v9Gn1kvc49zLwLuYt3rfOR8GRvNK8/sbmz2zOnsNxt3y0BrbuvALCmcCDwz/DNsGzw0TC5L8UwpbIqcy5yX3M/dMh1AbTq9ZB3jXpVPI/+9cJIQ5GAv77dv13+vLpYdgr3cvquvMs9g70svhd+kf7zv3w8Zznluub7hvpmuJ94sHnEfhKBC74z/Ax8jPw5vWa8gbr8+qI8QgC5wgLDx4gQC5MLmkeYxXwDtIERQfNDb4Pnww4D5wToAkc/cX13/VZ+jX/eAROBYcLexGhEs8SRAgCBm4P5xMIE6wLPg76FhQaCRpuDxwN2hZdGycY0gyzCm8OkQlzCKMRSR3tHC8boCQfIUkOJgSHBdoFCAVxDfERgQg+AoMAff18+1b/swaMArL4qfg6A0YJAQnkFJQZRAw2B1wLog+QDrYGZv9c+zP6tPY+9dX4Efx0BA4JFQI9+kXwC+fA4UHcyd3L4tzmOu778wz13O245E3o0/Dr8EPp0uND6N/yNgCdBWMBKwK2AkD9cvZa9FH2mfbB+Cvywu4g/yMMhxOaG2conzI8K5wkKSBvIFwm1B4mGRgapBw4HXUZNR79HCIe0iOyFw8TZBXzFM4eqCv6Nu01izDaNGM1xS+GJLoaOx26IjQeqxlOIrolGyKMIPUaIRkGGbcaGRmqCFgBqwVHBz0Miw1nCcQD3PmI7sjn4O+7AC4NABXeG1cfcxb3EH0Tbw4XDJ4OiBF4EWUPyROdExcU7hY/DTYJkg8aEGYNwwlQB/AH+gfQCAAMtQpNAeH/PgOb+SrzmvHF6ZDmgufT5j7qbPAL74vuBPfa/Dz+avw494j4Jv0i/jX/uf1X/z4BGP3B+2H47fYw+Vn05usj4BjcxeTP6jTxtvi6+0X4wvFm8vbwTO7s81r3LfMX7LLoXOk96afjwN7l4Y/eANgV3q/hZdno03jYMd6l5c/xN/W39A30cuwZ5zvhf9wh4e/pQO296ETtgfPH8QTy+exx60bzoPt3BU4NGhFrDdQNjhI6B78BqQr6CyAIRgD99jbyaPNU/bYEWAZVBg8EGwQQ/8T7GP9D9xTw+vCm8gH1tPGl7PPrce8561fj6eqI8M3s3Oyq73H50gQ9C8sT5xSSB1n9cv9sAzMCwAKJBj8HegkbCy8IrQliEE0TOg69D6YS7QaTCUoaoB1ZHkgf/hoSEqoEAACMBlsIHf8f+Jn7nPx2/jQL3hXEGcga3xqyGXIUERDrC0sIzA2mG2UouyqYJcAeihbMEMQKmwRwAU0BwgO9A6wGJgydC5cG0AJxB0oLKQfY/wv3CPjN/PP6lf/bCCQLfgSC+dntsuPA4hfoWuwL8tr8IQL7+vj0Q/G865DoAugX55bjMuRy6CbrsfJF+5j4Uu1j6tfzZvUB73rwVfT/9v34ZvjK+I364vrA9lP0P/ppAbz+h/Hw67jzOPuw/goB1gKwAdEBXwHd+qP85QMWA6T/TPro+Z0BYQRKAST8i/fD9x0AqQkMCbQIBA6dD7wMAQuREDIZ2xu+FNgLmwm2A2L4pfazAHYFJQM1BUkA0/gk+wn5e/ar9931rvcG+tT6K//zBhcLXwf8BEIDlgLVBpcKXw17C5YIjwm5CbYODRXOEYUPjhkCI9UiVR4WFAYOiRPVFiAV7hZ9G/0ZPxbRFAEP4QuzEjwZpRPICOEFbwU9BDsE5wMABnkF2P+A+vv31vci9F3ub+/u9rz8B/4vAMcBu/2I+/b63/it/Bz+J/vN+MPxcu+r88LzwvMZ95/3SPO77N/lb+Os6WD1tf1d+4b2wfhm9X7sMewp7pjuU/LQ9JzykfND9+n2Jfz1BFsFEgR7BN4CaQECBOYHbAUBABj6xPR1+Ej9Dvjr8PTyuPUP8DDuhPCi7zTvsO3W63fsgOxX7wj5TgGrA08BLPta+nz/UgD5/Rb/wwAY/5X7UfoO/70CXQDF/YL9eAFgBocHlgdKBsQDowBZ+4z1pfPq96X/GQd6CTAF6gArAkIDx/4V+t/48PxNApIElgkQDGYIcgj7C84O1A91DWcOXRJGDlEJxArfDCoTNB3QIgMiaB74HhcfQRdBDF8HaA3qDjkJJQ2uEsEQBg1oB5z+q/1nBP8EHwjwCqQHHhBQGUQVCBPnF/cb9RulG3EXChFaFA8VbA7XDRgN5Q3LE64U4BBNEIMVtRT+ER4YPBr9FvUSjhLTFWESBhCAD+YPtRZGGIAWhBiPHVshHCFeJrskOBt1HuoiiCNpJLoh6h9PHUEcSxuXFWwSdxMiFgoTMA0JDAUD2vc/90b5+Pv3/Bf5NPXF89TvQ+SS3WXf2d8e467mguRt48rnXesY7jrx/uyV6WrqdOnt7O/vNO8P7xbv2u4y7f/uTO9Z6n7pc+qx7ETx9/IG8A/wTfd5+QT9SgIl+yX4//uZ+fH2lPlV/LH4Kfkw/Xf5JPsDAEv9SvqJ+Uz8PwGlBQAHugi1DhkO6g1XE1gRpBDLEJgK9QnMCPwBhgHeBiIHTQKoBI8JUwtNDSYK/QVnBJsJexL1DYkIrg5UFJ0Uow9oCNACUAAK/vT9xgVkB+QBvwJrBCMFggX9AhEEegULAPH5G/W48LLvSvXI+qb0gu4C7ALmruCT2H7RatAe1w7oovEB74fubu5X67foaegm7IDxaPEY67LrPfMD9h/3f/cv9zj6r/w9+bL0y/g+/jf+6fxk+Db2lviJ9gTxZO4t7xbvZ+5y66jmQ+fC6NjoUent6ojwufIu79rs3+9k9N/1X/e791/2jPJj7YfuBe+h6bnskfbJ9szzmPdF/XoEQAqOBroA3QPvCJAIaAW//WL3x/pv/zP9R/kc+qz9pwEZBDYE7AMhBCEHLwZg/t35TftY+3X13vJ79XHzifIN9RT0AO+D6dvqquz16nbpFOX45pDvw/KB8bPuuura5+Tn4ucQ50jp6Oxc7uLqDOi07bHya/FB7mPrhuzf8AL2q/jr+Xf+hgHMA+wFhwKb/xoCmwOWAg0IFhJ9FAMP7QxrD1AMbgsREXgO7AaJBRcKxBCeEykR3g1bDscOmwtaC/cKUQo/EGEUVRWGGAYaVhwOHgga+hhaG4AbzRvaGw0eKCF+ITUiZCBRHOYZbxetFJ8TXhcfG0sasBYyFDgZLh+4IeIjbCE1H3whCyS3IpIZWxXoGdkXJRY2GGMTUw/JESYQ6wjeCGQMQA2vEIcSwBIREt8PGA2uBfEDDQd+AhX+9Px2+1r4AvVW9uL5//p1+gD9uv0i/yYHCQZkAA7+t/hq+cj8yf5dAJf9IPwZ/TECpgIF+en3NwFbCgENVwmZCAQL+wuMCewDCv+g/p4DrwRV/AD4Bf/cB/AIgAUnBPEGlw2sDtEL0wzODzkU0RKcDtYM2AjkCDkGv//YAncFrANTA3MDgQYjCkUO7BLPFL8R9QtADXMSuBL1D7YQ+xNWE+oTMRR4DKcGuwa1Ajn/AAPEBlYLdxN+FBoOCgwcDx0Rcw9ADnIQexGYDcoGAAIXAhIF0ARdAHD+uwBf/xv5S/e49hvzG/a5+b31IfZw+0/5sPJi8prz2vDB7b3szu8c8dfyc/j1+H32y/Mt82j2IPgu+pr4TvU8+Ur83vqN+wQAbAI8AAP9P/js9W74fPoQ+pb48Pgt+sj6nPs9/UkAfP3T+B36U/j990L5nPbq94P4SveR9Y7yQ/KL8zL50frk9hj60/7y/zf/eAGNBID/Lftc+8j3/fIe9FL4pfh59ZT0YfvGApgCtP98/sL++f+tAsgEOQYWCyMQSw/FCf4FMAKr/Oz8B/7W+e31JvWA9wL5jPil9pTzuvU++An3AfNQ6RHmr+r17dHwnO7G6ebndeeM5lDg7drY38vluuIF3sXgwugs7/fuSOoZ6q/sSeyd7aPveO2o7U/zPfPp713zl/hG/BD8Jfkv+jf9SPyG+Fr5cP2D/kH+zv8uAaX9x/fk9oz4GPlW+Dr2APe1+k/+HP5r/XgBewOHBHwE1AHGAZUAzwBqAcL9Uv15AOgDmQUuAzgBCAXyCZQIbwZaCNYMNhL0EDcQAxa4FhkW2BUIEHIKXwvsDosNQA72EkUWdRhlF1kVzhJuE5EWuBVMGP4cJB+lI1wm5yTvIM8b8Rq7GXkUtA8eDcENsAzvDFkQhw3wClQM8gxzDF0KsgkYDIQQLg9qCfAKDg5GDsoOvwswB9QGewgYBmkCeASzBs8HHQyNDWEMcgxBDfoOWw/2DR8I/AH7Acf+wvzD/Rz76P7UAFP+tfz89dTysvEx75XsXev572zwRu+M8r3z4PIB8lzwc+eo4Njm7+rZ7UP0MPYZ+TD9vP82AOH/EwNKAzcBXAB7AbEE4gI+/yf9WftJ+y77DPpH+N34yvoK+qr7bQIcClIPLBAXDrcIlwFU/34BYAI6A3kHYQonCiAI5AUNBwsH1QasB9YFuwfDCu8Luw9FEBkOLQ6UDqcO9gwnCtgFHAJRBvYJgwj8CpMO8g8REOkP1g6oDZgPBxBmEBYSJBLPEsUSeBMeEwsQaBCpEnIVBxdCFBUTxxLLD/gQvRbAGNsWMBR4EHIMCwY7Aj0CzP2y+8D8qvzQ/qb+i/8kAUD8IPkX+rr6rftQ/3kFmAPO/UYACQR4BSIEoP0q9wj3W/tW+m34zPqa+H30oPSn9vb1mvVw+Vb3Z/Ay7BTqbO298QnzyPJI8C/vyey45vjinOIY48zj7+aR7DDyzffv+nD5SPZf9Xz3wfh3+Xf7mvmB93z68/uW+xX7hvlw+Gr2iPSk9IL25Pjd+Av3Ofcy+s/8cPtO9671ufMJ8Hzu8+277xfxtPFq9Yb4/Pr9/Ev9rvub+Tf74vxL+o32GvpyAVQAN/zw+Zr6p/xx+Nz0VvUX92v5xviA+sz9sv1j/pcAIgQrBCoAMwD9/qv6DvkN+V37IP/7/w3+7P+bBcYFSwIvAm8G7gnvB5gKNRIGFNQSUBOmFfcVdxNAD6YJJAh4CHMGgQXABngJJAqzB70G2QWzBQgHpgSeA6UHAwq+CbIKFQ5xEaAP0wuTCSECbv7bBXML7wxgDtoNQQxKDksRaRAPED8P1QxFDZsNCw9tEPsKTQjwCcoF/gErBGIHYgedB5MJ0ggXC6kOEgzUCpUKHQo2DfwNVAzeCvEJ0QhRBvkGTAewBQoIYgoZCnkKZgw5C6MGvAYDCGUI2gpHCPsEQQXFAlz/2fzt+ur4l/Yw853vdPC78gD0ZPQC9vn5Yvsc+o746/du9oP1e/iT/Mr+LvzO+J/3kPQl9IL27vdQ+6f9Q/yC+hr7+fzZ/74DpAVHBAH+0/eA9tb0MvOW9Qf7p/ww+FD3GPyF/nz9RP0U/38Ayv6W/8QGcAngB10J5gddBpYJRAnSAzsBuwTvBqYEOQR3BvwL3A9ZCpoFEAgECaAG4wjNDJULoQxGDZ0IUweuBdIBlQSwB74G4QaSBd0DdgZrCosL8wvADAwMWAmwBu8GRQTKArYGLgQX/7r8Nfvu+zP7gPih9YP2ifk++U738PLR773t7eq27ujyHfLJ8WDx1exd5HDiMui762LwUfR09HX3F/fw9Bj3c/h6+0j9mfm69XD26vnF+cv6pvvr9m31LPZM81Dvyu9J8Q3u8vDr92j5Jfsw+8H2YvUC9WPwx+777ubsPe0r7Wjs1O/a9dP2U/WT+GT4lPXD9i73Tvec+RH6bvl2/SwBe/4c+3f7D/xt+r764/yO/oYARAD8ACACBQBqARkE2AImATQBBwI6A0AGrgXEAu0E5wQ9/xr5Sfgc/Xz9Qv13/lT8iAAVBU0FgAW9ANr/6wFbABb/1/zc/ML80/nD+Q37uvlL9n3zTvRC+bf9Kv49/SX9x/wH/Wf9b/9oBCwE/wB8/tj53/g6+k34n/SL85f1RPfF+cP89/+9AvD/OP71AE8BRQFF/9f8/v5MASYC3AFZAt0Ao/ux+cv6+fvu+9L8QQAPBHUHAQllC8cMpwsJC/4I3AdFB2AI+AzQDeUNUBBvElIUsxEbDisNUg4yE7EToRHjE1wXgxvmGPgSyRIAEfcNHQu9CUgNVA4tDG0KmglJC7oMfwwcDMcL8AoyDN0OFQ2lC3UNtA08DfsL3gksCGwG7QX7BOMB0AHJBDsGfgYNB8cH2wf5CA0KMwqaCcMHUwhsCAkIOQhYBrIH3gkECgQIUgREBS8HRAh7CWkJowqKDIsO/g57DaAMkw6YDvoIJwdaCDMH/QUrBB8DRgM+BAcGbwc4B5IFPgYzBfUCewXeBHUCLAMrArMCbwYEBs7/vf3R/oH8QP0o/+QACgUVBaYEeAerCRAKrwbZBAMHYAhkCOoFaARTBFkAxv3r/oz+t/4QAP39Vvyf/lMATwIiBUAE3wJ6BQAFeAF0AXj/dv4oAlcC8wE6AyQDyQKxARgCsgHA/wkCLAMnASABiQKNBKMD0v9A/Qr84fmo95P5DPuv+Sb3+vMd9RD26Pc3/W/9Rfz3+7z6z/qE+ZT47vj/+F37nvyS+UH4Efoa+rv4Gfjn91732/bF9/z5zfrD+Yf7u/um99r3k/gw9zr3b/Sr8fTx+fMZ9sfz+PEY8zbyevK+86nzm/Zq+Z33mvaa9ZzzzPUt+UD6+fiV87/srutr77zwCvPD9hT36Pgp/LP9bfyF+y0Akf9w+8X/yAHq/j3+yvpN9q73F/uL+C31Xfh/+e749fv5+zP9nAJWA3sA4wBaAX//d//W/Lv44vpK/OX6G/xA+3T6Ff4v/ob6bvrY/ej/+f1o/HP8tPvu+6P99v30+2/6WvhP9mr2bvZj+BT8T/6y/Yr8Iv+zAt0GBAqpCSkKTAvBC0YJ4Ae2CBsDXwHnBL8C9wFJAvr/wf9TABT/mfxF+4H8lv1g/tP/wf/M/hb+A/5Z/2X/nP21/cD+bvyA+LX55/2Z/Zr8zf4a//z7wfkL/MQAogI/AccAKQOUBZYFQAOT/tX7QPt292T47vwI/csBswUIBAUGCwcJBWoEjgbbCFMJaQrgCRMKYAqrBu0H/wqZCb0HDQN4AG4ChgVGCY4JFwomDLAKagkXDKYMVQdhBTwFegGQAucD+QJ5BcoEPwG+AXIETwKFADIEowUOBVEDbQM8B4MJgQolCUYGpwL7ARQGTAPC/Lr8lwCDAo3/6v8jAzoCTAIMAV3/zAIdBS4HEglsBXoBVANfBfL/Sv+eAgf9Wvsu/aj9MgMOBhQGTgfKBkgEvgPDCFgKbAgnCj0KBQmzB5YH/QgsCLIK7A32DX0O9AwnDfQN+AuMDc8N3QtxDj8Qlw1yCg8IywSbATwAFQG7ArACfQDg/cr/vwRGBXwE/AUkBrsHngr7CUAKnQrOCXwKBAltCKEGjQOvBN4DZANVAgf+zv4zAt4ERgetCe0KxgcjB80FuP/8ACYEFQV2B00GIwSTAUECGANC/yAA3QGsApUAWP7kA4sCKgBPBLUF7QYBBVMEVQTA/379nPrz91L40/oR/s38oPrF+Ur6M/zo/BD+c/5r/j//Mv+Z/g7+//7N/wf9YPlK+mL8Kv0bAOr+ZPsp/af+c/55/bH79/q3+nv7F/v5+Rj6yPcB9dD1uPbo9LDyHPPR9o/4XvTE8aX2b/o3+KL5J/2I+uz4YPvX/fb8FPiL93r5ePnL+lX5D/lZ+iv4kfqs/Sn9ov6+ADACVAOaAqL/mQFTBksFXgSRA2r/0fzU/Yn/Uf5z/vwBxwBB/RP+Dv/M/tv+q/8A/2P7cvm5+aj7Zv0C/gD+vPsg/H3+Mf5i/Yf+GAEsAw0FLAI8/2UCnwDt/D78u/ur/VX8Nfvz+rf14/Nd887xlPHu8Tr2EvZC9af5ive49QD5V/yX/QP9Dv/g/E37bP0n/N38MvyN/I78uPh9/K//RgDMAnoBLAKIAmkBcANEAoD/k/68/CL6nfhP+QD5DfkG+sT4v/q0/Ej7Av2//lT/wQCgAEwB+gIgBJwE4gLvAbIDnwP5/5z/LgFK/k3+BQAx/hL/ygDKAQgE8wKtAS0EwwTaAgYCHwNKBUcGIAZqBZMDN/+k+Rn4Rfgw+Jv8YgA1/h770fv4/nAAv/9X/8MAIwH7/y4A4wDvAN//l//2AHkAdP6b/ST9d/1F/uL8pvwNAC0CcgJqBHAE+AAQAaQCYgA+/m/9kPzP+fD2h/fd99P3hflx+838a/0x/R39Yv+ZAeECTgTXAr4BSwJXAfMAugG+AsQBSP8+AAMC5QDFAGEBJgGDAzIHLwerAtb+Of+XAWEDQwNbAiIBev8q/0f/0/1z/SL/EAArAskEJQQHBXIJIAzCDBwN+g00DksM4Qr+ChcLNAgrBWwGbggNCYwFpgIRBcYD/wDpAloEUAJsAeADiQQMBPMC7QCiAlkC1QARBDkEJQPyAV/94vzCAFcEVwQwAxYDIAFfATYD9gNrA8oARgBV/9X7+vqk/NT8WfrR9zX2mfe3/EAA0/+h/okArgE2AIUBIwSQBKID4QRYBvID7wM4AyP/SQDKAMoA9gQ5BpUG0AdHB+8GnwbhBcwFxQUnBTQEdAMcAqD/sf5o/qv9bP5a/lL7vPdI+on/ZwBEAncCTwHwAqcAwv+/Ao8C3v4W+4n8E//L/+f/Xf1L/sAA7ADTAn0DkgNVA7IBeQHhAsQFhgO7/vH/WgAWAI0BLwAy/ar5bfib+aj7Av2O+rv6tfyE+1b9KQJzBNQDRgInAdUA2wDL/4D+BP///+wA4QCwAHEC5AE3AHkA+f/TABQERQWeA0EECQVbAXL/RwDmAKz/RvzO/IwARwMGA40CVwULB/UHQQdzBLoDUgJrATECFQJpBHsHYgcWBLIBmANAAmr+kf1K++j5Bvzc/bP9kP0GAIUA1f2+/Zf+0v5U/yj/Zf+i/vz8vPsS/J/+1v4L/IP6mf2g/+D9NgBkASEAGwS2BxoJFgm5BWkDygIFA20C3gHUAwgC0ADcAIz/4wKwApQBSQNDAar/kf5n/3kAgAE4BVgDIAC+/Tz5xfnY+qv6FPvo+Bj3nPVC9pv3//eA+8j7uvnG+oP8MP0Q+6r5MffL80L2cPdC9Rn2r/Zm9UX1A/aa9qH3cPhQ+S37v/s++wT7OfuT/bH/r/6q/ID72vx6/nr9E/7w/pP8V/w5/s389/tH/lr+af7KAeoDPwQUBpYHBgWQAGT+wPzS+2j9rvzn+sn7Kv30/oX/TwB8AnICYQGiABMBAAJjAWr/sfyi/coAGwOBBN4Bvv+F/gb8E/7YAJ3/z/8RAa/+A/5IATACQgOMBuYFZwGD/5L/if16/ZT/if+H/+n/wP9cAOUA9QADAoEFCgj4BmsGmQaWB60GigJqA+8E5AMnAob+zf1q/Kj9nAJOAsACIQMNAggE1QN+ARUAwAAhARQAYwKgBNsDNQGZ/nv/jP7F/e4ARQFDAWsBPgGrA3oGSwvaC3UG3QVmCGQJKge8A/0DrgUlBlYD3AHRAnkAcgAFABz8wftB/VD+iv86AmEEbASJA88BVwJSAb3+PP7K+5L8pAAgAfIAPP/0/Pv9hP1k/fIAoQHo/9v+Ov1M/dD+BwBlACr/1/2F/eT9IP2R/Mr8k/oN+QD5SPkj+3L8gv+RAnwC7wEP/0r9Jv54/XP9BP6L/vn+1/6q/9T+kvyi/fL/kP9a/Vz7tvqB/cwCNQPGAJMAWAD8ACv/sfxd/KL5Mvnt+b752Pzr/cn7QPwZ/ub9ufw1+7n6rPzy/3ID8gQ5BVsFLQPD/uT8cwA6A+UAEf0Y/coBvgMTA9YFswajA0MBIf9r/Tb9if3p/Yb+lf55/wQCQAFC/4MB8gFs/pn8u/3hAEMDpgPHAmAC1gQyBmoFxAR/AkUBzQFBAC/+o/0c/jX/1P7X/o4BbALgAJH+Xvya/MX87vvD+z788/0qAG0B7QEfAkIAiPxz+cL4LfwB/8v+ZwBoAh0DZQPnAzYE9AEbALz/swDkAQoAnP9vAMMB6AJF/0z90f79/nT9N/wC/Nz6zfyzAOABfQHe/o38NPz7/Cf+2fra9hn3Zff9+HP6g/uBAGECRwCT/qr8nvxB/s8AjgElAaIDtAW+BK0Bfv7S+zT65flm9sLzIffr+Cb5lvqV+SD7XP8CAaEB0wDZ/qf8iPww/07/2v2x/f//rwMEArD8//k0+jb76/2HAcIAUADHAmkCCAJmA9YDcQE+/uj9F/1u/HD9/f0mAEYBRAFJBLcFowP7ARsB/P7E/acA5AICBA8G5wWsB9kKKAhHBE4E+AMDA9cDNwT3BFAH2AjnCHcIVAn7CQYJDglHCNAE2AL7ArcBLgA8AHUBgQFi/wH/wP6L/R3/f/8W/tr+b/9cAWcE/gNQA9ACWwFAAX8AV//O/x0BMgLjA+gG5wfQB1YG0wIhAv8AoQEVBcQEcAYpCmQMZgxdCPMF6QP+AOT/6f1e/GD8sv0v/vX71/sS/6sCtgL3/3L/H/4c/ST+tvug+GT43vtRAeoCzwC5/ZT8tPsv+rf7Mv3v/U/+Q/09/vEAWwJOAboA6f/6+tr3tffC9uf3T/lu+Sj6i/pH/ML/KABe/ZH8Uf05/jQBpAOHAzsEjgSBApABzQAY/03/FQB+/o38hP1i/zcBSgMXAg7/eP8hAjgC7v9E/tP9TP+5AKsASQIqA3YBSADX/2D/a/70/cz9MP0b/vz/2QAwA/kGlgXVAJn+x/yh+yH9sf0C/bf+E/9i/VMBhAbBA9T+e/yb+XD58/uU/Q8BVAKh/jz9Gv8eAEIAHwDZ/MX4Rvju9gT1IPaR+Oj75P5kAPr/af/K/zD94vrz+0/8YP3i/wABwwHmAqED3APyA00DGAHe/pv8SvzW/qL/ZgB5AgcETwUkA5v/n/1P+7v7Df90AL3/DAAsAnIDgAK5AU0BCv/K/WAAvwItAMT9/v+XAGAAOwI2AvcA4v91/tT8J/tQ+pr6rfsu/eT8mfqz+e75gvqx+7j7Zvoi+cj4h/g0+TT7Yvw+/sL+MPwi+zH7rPoR+6D8e/5HAF8CnAKuAcYC2AJHAcr+Jfon+Kv5xPvZ/Sz/lwAmAO7+1v9p/mL6avhm+jj9Yf4qAd4C4gLmBZsHdwYTBoAEIAHZ/vz8cPpr+2r+rv00/RX+af6EAbcEXwSmAqkAAf5p/EL87Psi/IH9Hf6j/IX8XP33+lL6S/uM+Sz7b/1s+xb8K/6q/fz+VgK0AoEAev/V/Wv8Mv/hATACpAJjAtEBrgGsAYsCbAOWA44DowM0BQ4ICQs9DRsNPAsmCIQEmQLVAikD1gFGAWwC+QGJAScCWAIJBAwFGQPsAOD/Z/88APIC9gRBBdgEGwODAPz+zf5m/0f/Mv30+jn7dv4oACwABgRABkoDwgEHAP/8MP2c/pn/5f+Q/gD/jwLQBRgGWgSBAh0Ai/8TAXYAT/9sAbIE4gRSBW0HFQZMBW0GUQRcAdH/dP/d/8wA1QHXAJAAQgIRAlcBVgFc/xb8VPmy+Aj7uf3S/qD/TAJiA7MAhv4E/k39V/tA+uf7uv8/BGwGuwWEBeMHjwj8BdkDrQJ8A6QDfAJmBGoFJgR+AxYCaf/8/AD9iv2K/Zj+Rv+I/8wAoQIzA0cEWQVWAln/9P3b/Mv/UwIMAk8DcQTNBFMEVgT2BdAEvgFT/4j9of73AC0CKAPZAtUBmwGVAakARv71/BH9i/zR/LH9Hv6F/2kBzQOxBswH+gZfBSEDTf8g/Pf8G/+pAXkEhQSQAp//X/2X/Sr+Of3I/Nr+xAG6BAgHJgiSCCMIXQg3B8cE7AMVAX3+iv5S/tf+k//yAGgBaQAgADb92/lx+OD4Lfzp/XT8x/rl/D8BoQIZAgYBHgCT/on8h/28/+ICnQUaBG4D0gUqB4AFrwL0/5b7qPnf++b+HAMhBggFuQHp/9L/V/8+/yD++vrG+OD5m/0JANgBtwRuBboDewEd/7j8Yvs/++/7Uf5w/2r/XgH9ARYAhv2L+sn4iPgN+Gf3xPfq+Af6Gvst+9P4Kfbc9MLyx/Ac8QLysvIv9I72Ufla+3r8y/2c/Y75E/Zw9kv3QPfP9zv64Pup+3H8ff0t/TD79fm7+h/5gvW79Kr3hfs6/WP9g/xh++/7FPyP+5b77fo4+ij7Jf3c/eX9Yv9CAqUEMwRyAYz+xfxx/Mb8ff2W/Zr+RwJ8ArT///+//4/9Qf1s/Wz6s/fs+ST9Nv9xAQQCIAGtAGn/0vz2+mb6+fvV/icAsgCsAi4ERAI8/3v8X/ou+qL5//kn+0P6OPqT/Ej/mwDmATUB9/xX+0X7Y/r2+8/91f0j/t//zwA5AEIADAA6/+f9B/xo/O39SP8uAbMB+gCyAIUB6wEEAar/l/2U+8L5MvnO+sP8sv4hAC0B0QGNAPD9QPyx/V//5P5P/5AACgE+AnEESATeAQoAc/1c+lv48/bn9+b5VvlW+mT+9/72/BD86PmO9/D3yPno+pP7Nfz8+wr9J/9mAGQBNwDW/Q38R/tL/cMAhgPXA6cDfASeBFcE8gFd//r+SP3q+2b95f50AOgCgwRsBUkFowQkBfME0AL5/0P/BAEmAtYDzQXTBSEFIASzAhYBMwAb/kn7t/vP/RkAdQGmAdACywQ5BXYCHgACAFAATQCM/pT+bQIbBRoH4QgeB5MECARnA7UBcwH0AooDTgQ1BjAImAlqCiwLEQrEB9oFrgTuA8gBYwHrAs0EWgcDCE4KRg3IC54IpQQcA+wFkggxC88Muww4DCEK5wiVB/0EpARMBMkC/gA6APAC3QUbB/cGXwd1CcoJmAm7B2MEnAV+B0wHFgmXC10LlgnYCLgHTAaCBJADLQcQCgcJTwmeCrYKbgvdCtAHOgVgA1kC3gG8AdMBVwKaA88CEgEtAVsCUgOZA9wDQgNOATgAgACAABABMQM/A90Akf8q/mn8dfqL95n2mvdO+EX5Pfv9/Nf9GP8o/7L9dvzP+ST4Tfn6+kr9FP4R/n7+HP7P/wsAm/02/Pv5H/mC+Ab3VPk4/dn/FgGtAR0BG/4q+0z53fdB98P45fo5+vn55Pvk+9/5U/lv+cX2EPV39hj2fvUN95T4Evu1/Qr+uPyq+2n7cPmi9xz5NPsF/WD+Zf/EAJb/Zv3q/Ab8bvsE+1D5zPio+Yv61fu//NH+3wDj/jX8Mfu0+fH4HfoU+zH8gv4SAPIAggHkAb4Arv4X/7n9u/r1+zT/KQEGAjgDSgMcAoABLwAp/9j9K/xt/Of9Rf9u/+z+4v2L/Wn+6v3H/fv8H/nA9yb5A/ra/JcAQgITAioBZQBT/tv76vso/hIAFQBpAGIBzQLbBF4FagUQBdEC3P86/8n/LP6y/gkCmwSdBtcG5ASVAiUBL/5r+dT3ofh/+Q78jP4R/i/9MP/tAMoAhQC5/g/9Yv1v/db9YP4s/j3+y/05/cf88fvl+hr6ZPrh+kj8P/5x/fn74Ptk+/j7ivwf+wr6LPnS+Bz68PkN+D74mflE+XT42/h3+ST5vfhJ+On38Pkf/er+8v+3/yb+tPwa/I78Tvyc+SH28vQZ9/v66f2G/rH91/xe/Mf7W/rn+F/5cfnX+BX7Sv0P/wQCggK9AJ3+7vwg/BP7z/qx/K8AcwTGBFUEngXYBcQErwLi/1v+Ev5n/ib+1P1//qIAAQTlA74BBQLZAQkBuwBA///9Bf/+ANYC2gTvBDUDrgI7AvT/jP7N/2wB/gJuAw4CKALhAuwCUQNmAkQAg///AGAClQKcAoYDAgb7BoMHVgiRBncFFwU7BCQEbQRbBjQIkQjMCFEJYwppCngJpwh5CG4JFQreCt4KTApMC3AKrgevBS8EDwRtBOQDsgHf/n/+7P7s/8cC0wOaA8cDggIhAR4BfgEVAZ8AWQE3AYL/9P3B/Br9XP5X/cD8Sf2L+qX3I/mo/MP+rwCTAzQEVQPKAr0AzP65/rb+4v4ZAJwAHQF4A+8EWwQhBMsEiwR2ApsAxf/1/xYBFgLXA48EYQPYAyYEOwIWAbgAN/9m/eH85fzf/WUASQFhAeEBEgFfAeQBhf/U/SX/SgCfAO8BzwPOBdAGdQZvBY8C0f8DAM8As//X/oj/FQDgAGYAR/8dAAL/O/05/sD+Yv/GAB4BbwEyAjMCEQG7AKQAT/9E/qD81PrR+97+2gH1AjsCowE0AW8Axf4s/Cf6r/mB/PP/pwDjAQ8CAwDP/5//9f5dAKkB7QALAPsAAwNEBaQHGQhhB6wH2gbGBKwDnwP5A20ESgQBA9IBawFnArYDMwLk/6T+tvyf+6j8av1z/bb+Uf/U/Yr9N/34+yj9p/3z+y360/i2+Wj6HPqQ+l35a/hC+E33uff89nv29vhy+aD4VflC++r9GP87/87+ZP29/A38Cvu0+xj9MP7e/if/Yf+y/nf96/yR/QX/mv9w/7r/RwDa/+T+Ev/V/h7+Dv0G+jb4Y/i293b3cflG+0X76vtj/Nr7nPxv/Jv6gfkp+fX5oPoe+1H9Lv5x/SP+Uv6s/N76xvhv97X3gfZn9gH7Gf+GAAkBXACd/zf/0/32+kD6Av2I/c38o/0R/dv8l/6t/h38UfoA+eX2+fd2+lv7Xfyl+/75dfq2+sP4RvcM9272MfZE9rP2Jvjg+dr6+voo/Dz9f/z/+7r7gfrq+TD7k/zy/aP/n//U/v3+v/5U/ez7u/pA+kr7hfxW/FL7m/yQ/3gAiP9K/mL9Xf0r/iX+0f1z/rP+EwDDAsQD2wMdBAwD3wCw/wQAjwH1A6AFoQWdBbcF6wT1BEUE+QE5AecALACtAFwCuAM5A5AB0AAqArADXgK9/kD8zfvS+9r8bv7h/8EBFwO7AmkBjwGcAW7/iPzW+uX7R/5hAPgAowAwAScAGP9v/9v+pP4W/gL9y/3r/68B+gLuBFUFTwJqAPH/af5I/wwB6P/n/nT/CQB9ALQAqwDJAJMAVv/4/h0BgQNwBdwG8AXTBFAGiggGCDcGdwatBmIGbQd3CFQJVQpXCuAIoAdvCF8IWQaJBHsDWwNmAiYBBwEBAHH/SQFwAwQEZALt/z7/yP8CAML/ff81AS4EKgUiBC0EjwStAusBWQGd/mj+AwDuAG4CaQPeAhICiwKFAwcEYQOU/9b7Wvua+8v8gv80AecABAERAl4BeP96/uf+XP8P/37+qf3n/Wr/ZAGEAnkAgvwJ+2L8Jv0B/rr/awBGAE8AiAAZAFT/i/8tAAAAsP8TAHwA+AChAv4E4AaMB48GBAZ3BRkDGwJwA+IF4AdvB8YGowcVCVUJQgibB1gHXgefBksFSgX/BIUEjAXiBfAEOATwAmUCMASbBbsEhwIlAeEB5ALSAh0DhgNYAsgBOALoAMb/5wB+Aj0CRwEzAUgBZAK7A80D+wOpA7EBTQArARIEWgcSCS0JLgdwBYoFGwUuBGUC2wFpA4wDiAPSA1IDgAP3BKUFrARNBVQGYARxAT8AmQAaARAB3gCqAWQC/QF8Afr/lPzq+JP0he4l6QjmDub96Y7w4fc0/GD8C/xC+1H5U/ro/mQEIQpeDQoLIQQ+/EH44PppAYoGRAeHBVUFcgUfA7UAnwBEAcL/X/1R+6D4xPXO8l/yfvRf9Vn1I/WI9GDzs/Hg8E3w6e8B8D/vi++K8Qbzf/T69Q32q/WR9vH2Q/fP+lD+Wf/G/2//0P7G//UDnQipCroKYwgtBXsBBv1G+7j7L/sm+2X9c//u/gr8WfnU+R/9VwEaBYMHjAkaDM4OpBAkENQOcA0GCZcEawS1BY8G+AZYB/cGjgPc/7n9efvT+Tr53PiP+G74g/gg+Qb5efbt9KX2ovfE98z3ofRi8iz1yvdC+Hf4nPeR9PHwifD68pP2//mo+bv3xvcs+OD50fwX/n3+q/1K/OX8af78AIAG0Q73FJUV/xOiD7AIOwXmBW4GhgXVA5cALPsx80TqneMx4VPlYuwf8Irx3vIe8szu3+z37AXude8A8GTvne4w9Iv8MP65/1oHOg4hETsU7hJcDtsQJhY1GBUYfRYNEmkIsP3S8yHqSeVF5QboDux47i7wnfEG8gLyQ/SI+Zn/pglqFC0ZPxsoG2gY8xMyEakQmgv8BYkA6frr+oz8G/7r+5r4uvm49qP07/Q5743tvfF88gn1qfjZ9DPykfMi8f/vrPGu8lD2Efms+rn+Qf7g+9P6pPcx+aH77/qz/ar+ff0+/2UADACwAQ8GzAmoDU8RgxHEEVoSCBE+DwsNxAgFA8f/jP6p/QX+Z/19+UX04PB/7WfojuTX4WvgruPU6RzvU/P69nP4bPjl+w0CsgdEDXcQlBAnDycMigl9CSMKVwdKBAkEZwI4AagAPv8yACgABf53/Gv6Ovjx9vn2f/V08yH0OfQE9dT1UfZJ+4T7bvR681H6lv6N/qMCgAjGC24OWw0KB80AxgMqCgQKQAtQENQUgxe4FY8QzQ6cF6sj7iM6INIhih3kFoIUNBBkEdsZERhuDFAIGgpwC9ULgwlBB8kE/QNhBgYGLQMxBZIFof5U/h0D0AG2/YL6v/V58Vzwju3r8A/9CwalCpUNbxPrG64frR00GroW/xIkFZgbWBrrEVoKRwRI/hz6Kvuz/qcA1QJuBSMJGA61EYIR6g+PEV0T4BTXFrgVixM+E7oT0BQVFd0QFAoWBMMBKQL7/3X9jvw5/Cr7y/h39mrySO5X6yfpLums6WvqRey/7/bzS/YB+fT8CQCTA8oG0gc8Cq0QjRW7FboT0gx+A+D9vvmF+Fn61vg49b/xM+8E8o71m/Yo+xEBswPIBBoGaAXjAs3+1/Yx7/3rkuyU7kvvlO5872Dy4/F98BPxU/Bm8tb1lPQ084TzufB77NzrJPDq91b/fAPqAwf+M/RC8gf7agbOD3wWfBlrFRUNWwk3ChMNLxNtGA0aDBrCE0MIPgGN/WT6/vuGAVsHzw0nDskFUPyI9r73OPe19BT4xfij9LPwU+x85H3dTOGU7ebyyPB/9tT6Q/XD8IHqKuQo5Ozkn+T44pji6+hu8GX0Y/W58m7zkvku/ykFSwkPBQT9H/2ZA3UFxQDl+Sz1DfF87SHxcfkJ/2MBxAT3C9wTwRpoHDoVdQ1RB3b/+vmF9mjzKvTo9mb0Ke+x7NbmSt+J3U7fUuRE7hr2+/O96mHgIdwf3YbdiOfZ97AB0QogDq8FHP5SAB0KbxOJFQERRA60CxkFsAKhAvUBrAKPAjIBxv0N/dX+Ev6x/YX7SPcc9jb29/Zj+Kb2n/OY75nqt+dZ5LHiZeLS4FneLNpv2qDcidzo3CzhJe3G9rD6z/wC+XnxQez+7ebxU/Wi/Q0EEAWAAof8bfrA/BIAFgU6CCAKGw0xD3ERmRH1DgcNzApBCusNLhO/F9EaHB5oIXog3yCzJOIgZBlPFDgRIhTWEjALtwe6AUL8jv08+476gP3d9kbppdz413zb2Nvh3MDg493R2k/gyOjs7eD1cAJNCq8N8A9tEK0O0A3sDrMP9BHAEGwKXAO2/PT4bPVy8rvy6PZ3/hgFNwudEAkX4x5ZIuchwR1aGB0ZMh8tIcYdURttFGwEDfS47c7yffnt/lQD5P6Y9x73F/pJ+kD2EvYW+fD6tQCABIsCyQHEBdcMPQ/KDlkQvRKNFjEWShPZFJsXCxbFEbMRpw5WBJn+pfwO+KTxBuz36Wvs3PH59dr54wCeCVgQxBJuFWUYLhSTDfgKfP+v5zzZv9ky3WHkuOxD7Mjqn/Ht+QH+Av0H/wQG4gJA++X6gP2uAjEFJf2c87j2wAFGCSIOMg9wEc4bJB+GGfsWVBSmDRIEJgMSDuQVkRgqHDAhSiMPIvogoCDVJ+QxuDErKCYeER/IIDcZ7hKQD5gR/hCJBn/6APAi7UrrXOYX4s/Xqcqxw+3Dsskr2yDvr/Y3/Y8JNBdNH88blxh4G50VIQkNA/ABPwSz/7jsoNz72yLfJ9lH2pXtQfjR70vrHPEd8cnvMfk1/x8ArQeJEl8ZUh0cJSIjOBejFTwZtRzhG5ESsAo4B78HVgpHB+X8ve5g4HTant6P4hni5uDR4rfiVOK/6NftLPs6E4AZrxJjEPwNyQ3CEHAOQgiWBQoEmQSAAe321PXG87TqRev88BP4Z/wT/Az6A/yeBr0N+xFUFDQQtw6nD3gLvQbzBVwFFQlgDj0QAxA/CeYCn/+k+pHzbelB5QDr7O5Q7Gjs3u8D7/7qhOcR5UPl3+ms80H7yvY68iD1H/Ua9+cB4wnGB3UGfAcEAEj2gPuYCKoK4Qk4D8QQ+getBP4PARKxCdsM5A96BuoApf0y9wny5um95ELgBNlt1FfUf9rr2pTV09dd3f3i5u2f/NIMOB4xK1YuuCNdFRUS/A2O/7fwh+aw2vPKSL8XuMe0XbvhzB3fpOrt9a0A4gf0DIcL3grBGLknkSfJIt0jkip8L84vIzXPPQg+mjRvLEMqfSQjGb4TZxM9D14IwABuALgDIv1Q+Cf8Gv6r/p4CpAPWAQ0IzBPRHMkg1x52HcgfHB/UHPwXOwek84Dp6OPU4A/kZOt17yv0k/4KBz0J1gVBA2UCrQGRBtUJiggfBh364et+5q7m5e9N/NMDUAq2EZUZCBwqHb4fDxpTEjANNwmJCR4JsAH372jeKdUq01fYBdqd3cXrrv5ODcgLAwBW96j20/jd92T3pvWJ8Kbtnenu4/bnpPOb/88FuwNX/8v38PPc/IcIxwf4BRgUCx7lHVwazAstAOD5buqN1K7GvM252kPdSeLx6bPwWwFqFjIouDHENps+5j5zPF01YBuk//fxOut04j/a69eB0s7HT8LTw/rIbM8F0OzNYtVc4C7rUfWL+I/9/gfAEA4WvR1XKCAnExzEGaIbBxpjGtQZyxeoEkwFDvRr4p3UwcuExaDArL3Mx9rYjN9v5XH3LwsVF6wcKx7uJsQ1+DytNNIdHQ6KCeoBBfjq7rvjBNU00J/U89BKzZHVuOLA6LzoROpI6srsC/QK+H32efXd/GUCxv2s+ff+vAhQBxf8w/WW9DH3HALKEPoYPRmrF/4S9wm8/2z3c/df+ov9eAU4CdkD/fxZ/sAFfwy0DykLHAQH/PHub+Rl4pPkhea86Rzseu4+9QX5MPe+8ZjvyflYA8sBugFaBiYA1PbN9RP1qvI/6RzjduJc0ejCeMGftaisLrHNtxPCsc562rDhxuR17i4BEhCUD6UNfhXPGzYZzA58B7wJigj8+RXrEuac3xfVPM1GyOrI0M6R0s/XUuSi8vcBWQ/1DqYG9AohFLoUyhZqFJcOOhfiIron7yv6L+szmyyqGgcTGBH2BXP1Zuck4SjjHedl5X/iJedC9FcMeyRPLl0yPjo0REFKFUpsSOtFUj6bMgMqHySUGYkMzQAD9xnxoupG5fLlF+JY2vHbUuWv8/3/NwEkAqQCKv73/yACTvyM9u34RAHeBmwMGhZtGAQQ6wtyCJ7/4wDKB+cITgUm/mH84wNVDlMXKx9SI00cbBA7DEANvxFAGhohKCSOHnsWzxcCGNIRRBGrGRIgzB/0Hjcg0SEqHYsY6Rx3IScjESADG5gb1BqrFSgRtQ/fCOP7F/i57s3dUuAd3b/HcMKAzhTaad+04cvkG+8I/7MM2hx4K3Yy9zJmLfomQCP4HUcQ+f076zPZnM22yYXL9M0H0Q/Z4OK07Fz1PP6WCQ4OKRDiF9cVXQuKB74IkwgTCNkHqgRsBEcHEQeWBm0GpQXIAsL+CfvD9+706+xl6+Tyi/AE7OPswewM7TnzQQGrDIsTTSA8LiM1STy/QjVAijq1NQwsMBrrDW0MOwfBAQYCOQg+FTUj3ynNI3EZIxNdDtQGwgASAa8BNgM5CUwMxgi1COQOqhUaHJYcuxheFhQTuw2OA6D1Je6i8kH4OvS57kHuevEo9lD23PRh9oL6dQFJBwYJlQcdB9YIOgdABxUORBGVEE0OVgg4CF4LZg4mEhoRbBQhGB4VihMtEdUMDAgKDT8SxwpyBwwE+QJ9/sXtSe1h6unVQNHzyo+2kK9vr7CzlbhwsXW1ssfU1KDi+fixENci9ijlIgYe+BU4CAsByPVy5VrdRdNIyBvHhcY2yvHRetGM1FfbOuE973L+bAkmDRgHfgFiA50LnRHUEUMSzw6jBpkAlfyY/qoF9gdH/0nt7N5S1UTLnsXHxRzLvM24yefFY8T2yRHa9/LODBAa6R53I0Ik/h+aF+MTRRPtCmMCiAI1CJ0E0Pqf/oQG1Qh/DEAP4w6BDgkSkhYsEm0JGwihCi8MAQ0KDKkMJxFbFGsTiRUuGogclB51HA8abRijEpgRnRHdCGT+DfgC8RHtxe706G/gJeJe6tbym/kjApINoxP2EIYO1w4tDygOPQp/CBgLFBJSGegbdxyBG+ggXCaZIKMaABi6GIcTkAfdBcQH7QeRC2IMVggsCuUK3P4y6+XRT8JDxKnJLs670VrYUOoc++X/+wkVFugYmBtxF7QMTAWh+7Xx7ukQ4VberdzN0ujLkssGz5PY3uZ280j1LfSA9rzzFe4i7CDuxfLl/A8KEBOvGZEeeyTpLJkwzjECNK8wryTOE8EE8Pl18ffmvNf+zIPI9MfdzTHVKd4A56zurvmyBHANZBHREXsQ5AsmC9MKZwJz+ub5cPsr+TXzKPCc9HX1Xe/s8YT1Y+8j7TTvgO957iHumPQ2/NkAvgYaC9oOTBSxGAwamhl0G04c4BgJFtUU1RJSDqYJ3gfSBqkDsP4q/Gj8YADzC9cX3hsQGqcXHhY4FEkSsA7cBwkCrAGaAqL/KvvN+UL6C/w9B94TwBVjF0kb4Rv6G2EciBzmFgoPrwuMBa8EQwzZDeYCKfJu5vbRG7rPtvzA68281pzfQ+4l/6YTdiNUKrMvnzR3Mw8uECksHtwPwAJu9Cron97I1sXQQM400HfTytpU45jkyuS85eriNeES4gLjcuKs4dzlbfHx/1AJnQ2UEN4MeAQ2AXv/fv17/i38s/ND51fZ78y1x8nNDNWO2BLf9eik7v/vp/gyA54H4wufD7oT6xnuHg4dpBKhCQMGAwNPAxUJWwu3B2MDVvxU83vvH/DL6nXiad4+2A/Q6s2w1HjceuDs5djt3fXP+bD5aPsE/k0AaQJuAGr8mfkL95HzRPMt+JP5Ivgp9gz10fz+BSMNnBRdFsATkxFxFH8VYBDyEMsWkhv7GRITMRJZFTQYDhnwG/sjKyE1GSwaKBtxFPEGvAHhAar9OgAiAV4DNggF/FfwCeyz3RPNcsNuvxXErM9N2J3h5e2b+TYK2BxHLjM2dzJJNDQxSSKMGIgJb/a874rqeunO7RHtWe617uny3Plx+A/9L/5U+QYBYAOiALkDxv+c/4QKGRaDH4IhwCKLJfogMhziFzAPdgTY94vsNOQz3OzSJcsPyPbJmNP04K7pefFo+v/+NQGGAVb/pwFBC2QUkxeOGasaFhjRFWIWMhY+FjYbSCCIIBkcdxY1D9sDyv4Z/j74A/ae+S79RgMRCiAPgxNMFxsc7Rz4G/4cOBspGYMV3QxAAMbzsOwr6RHnP+ks7Y/p4+Oj47Djwub27Tr1SPmm9jH2jfvC/vUB2QfFDgMUKhItDdcKUAgGA2kBMgZsB3IFTAbZCBwMQxDeEG8I4QQ+CuYMzQxaCCwI6Qft+Kjid83LxUHKrs3u0Tvchuvt+0wLxBPUGUcfmyBmIrEhaR6LFK4H1/1s8G3p9uv67hTx4vLU9vf7AP5R+b7u2uTJ4kDnL+1m8qD0qPjWBL0XDiurNyQ/E0Z2SkdJ5j+BMQcm/BrgDQ8Fqf609aXtf+eD4hfjQuiA7sL2Zv1NASQGoQcWAoj8qPlX95P6MAAxAmAIuQ/WC4cEhgJF/wj61vc09nfvwOXM4JfgXt8v33rl8eyd7MzpQOwH8cH2J/2MA2oLZhDBDfQKFQ01DBYJegayAUkBGwJ5+kD0TPYU9u708flr/2sDlQRQAbYB5gaFCXoJ1wo1CoQGeQUvBOgCPQcfC4wFPfmk8XDxVvT6+T0CaQriE9kdDhwgF4oZZRW4Ckz/xfZY7LHc/dLTx/PBBc0j2ZrgeepO/JAOtBzkJ1ssBS/5LkMqTiQNHYwUqA3ICNsCNQLhB7wLiQkmBCMA2fhK8i/wl+qM5QHjtN102SHZU9kY2Rvg6+9v/4gMBBgrHwwibyOoITkaJhTmEdoKcwAk/OD6yvU38bzwoPAO8Y3z4vSc9hr8AQBc/qz8u/1i/qoA7we8D9oTnxUmGFIfyip2Nig8+Di2M6gsxR/uEjoMHAkmAkv7R/o0+MT1v/fw+Rf4hfRx83D1KvvrAokKyxJLGoAd3xqbGXsg2Sq1L1cuSC48K18f8RJbCS0ERgVtBW0HHxIUGb4WYxa6Ga4eLCSQJDIjJSWrI/gfDyEPIVkhPyMbH3gd8x99HO8YzhvhHT0XGw1CBpP8mus318q+qKxnsW285b9uyhTaCea5854BzQlvDv8NTwmyB4AE2fwl9YvtsObv4Xrkk+53+74GaAo3CtcJUQfvAGn2q+vV4krcztjc2Fnb1uBV6oX1mQLAEiEiESxKMi40ny1oIksYXg+pCSENFxVIGE8VEgx7Apr+sv1d/tz8T/U764HhJNoM1lnUMthF47XwgfykBQINohUSHhEjHiTEIPUcjxrKFj4UyRMEEjAOpAkfBqkAnPod/DT/Ov1Z/Sv+ifot+7oBugO8BTUOORT/Fcwa6yF6JXUlcSQcH4cXKxUBE9oMLAqPCd0GmAWnA9X+6/e481H0w/BN7gfw+Oux6oXvPe7A6/XyGP0bAlkEcAhfDgsP5A+ZGBcZbRIHFFcLZvY86XPUcrrVuezE+MJLwmXOHt0U7Gr80wchEA0YyRjDErcPeA8zCVH/2Pbc75rwuPWf95D8OABz+hjzkuyx4pXXe88hyQrCOMG8xyPN09LW2mLiHOt89pgDbA+aFXkUlA8wCWX9yvJ28tT3E//YA88EXgb+BZgEaQVjBSED1vzA9E3wk+1g7BfrsOlC70P2zfcF+W77fwBICgMRiBFaEeQOGQo4B4QD1P1L+I7zSO2p4/Tem+ID55jpQunT4/XdL9n303DTttar12LY1dzW45/uNPwTBtsNMRWkGiYg+SFZHpcaxhirF1sTWQpPBioLVg3jDYEVcRugGpsa4BvNGmcX6xBEC9UK0Aq8C1gPng+xD5cS2xQnF6sUzQvz/TnpqNQCw2670sUhzyrTFN7I5R3usP1mA6cFNQ91EO0KDgiQAtD7MvbC8Fvu1PHV+2oIOBZrJOkm0BoBD10HPP3o9B7x+Ovc52LnwOf/6cfuzfRp/lsJRg69ELUUchZJExQMyQNE/ZP8AwFnB9UOZxIBEIQL8gPI+1n3ivFd7bPrU+Wk3+bauNW71hbZ8t7e7I31kfsdB6sMzBA6GyAfKSARJA4iyR11GH8PBAmKBu0EjgOnBfsGDwEl/bQAiwKc/7f8F/yK+zf7if/mBRUL1hF0FMYQNhAfEsESMBRTFf0W0BcBE/cOTxDjER8Szg8fD3ESyBC5DXINWAVO/KP6qPjT/l8KDw9aFkEaUBh7HLoe1Rw4FG0FHv5o7TXS2MjozjPe1fGW/PsG2RbPIIgl7ydDJVUhFRpkEMAMTAfj+9PzfvHI9V/+GgjWFWkfqRu9Eh4Jk/ra6rHfqNje04rSGNje4C7mhesC8wb58/5bA9sEcQWVAtv8APa/8QD14PvzBOwQZxzeJPQm/iG1GPAM1wLG+pPv/+Ux5SbnDOn17zz34fxjBVYLpw+GGG4d7RkcFs8SmA5NCn0F4QaMDUQSbhT5ERUP7Q6YC3IEzf0P+bXztOzh5aHfV9is09fXm9z43BfktPDu+Lb95gCTAPn/xwL9A5EDawcdChoLvRHIF/kYnRuGHu8avhXsE28MlgcXCPD+gv+nBXf+FgbzDh4LWBaxGNARNBrbDaf1POupzvO1Q7gMuMXCGNgG4b3uIfoz+XL+ZwDd/Br9kvNP6X/pB+Sy3rvggeF97CL+LAaoD3AX4xAgBx3+g/Hq4p7VwM92zrPOHdRY2lTiF+0X9CD8PglHFJIZOhq6FOMLSATd//EC+AodE48biCK8JB4gRBmvFKsMEf/r8W/rJ+z+7CbvGfJ37SjqP+508538AQlDDmMLrAl1B3n9bvT49dH8MAQDCy4Q9hXCGC8XpBRvDQMF4ACD/mD9xvoF9RrwF+1o7VbzlPkRAoENlA4hENcZoxkMGU8f1CBZH/gaLBbgE3ETqRR4FtAZShW+DTAOwwi8AVj/Sfao9PD5ePaj+OkDPg0yEpIVFxe5A/zkJtcNyFq6EcCEvzTDUdi03NHfyO7l7wv4KQN0AQ8O8xNHCg8LxQLE91D8Sv2tA2sTjxrnIewoPyYcIV4W6QPG8lPiL9Xn0dvUGt1h5qXtrvfZ/EP/wQWRBTsC1gF9/nr7oPjf85HzVfcJ+ykAIQmGECMQyQzxCBIHCQnXBRYBP/6F8z3p0+a/4xvmXPMIAcsM+RVxFnYRlww/Bj7+7Phc+Y7+7ATDDYwYZB6dIV8iwRx6FxsUsBApDqAKcQVK/lX6zPs3/9QGWQwVDO8LRAltB1sIgQVKBWEJMQmVBikGBQkbCigIFAwEEicVshlJGoAUvRMSFwoTtBPfG6wcbyGIKvosrCdFEYv8M+4E0VjCvMTHv1rN4+A/4yPwgvdP7CLyOPsx/HsJygpP/4QARAK4AV/99vUbAosY3yDQIl8omiklHo0FfOzJ3TPVKdBE1FfbI9mH2HPdlt0K4KTnke9K9DLxV+1x6ani4t+435fiQ/AHBcUUhR6pJGYkHh+FE/sHkwhdC6sGeAJSAfz/jv74/mYBrwKABLkGqQUtBpADgPfX6wvmI+iI7L3xywTrGaAd5xS0C2QF5gKPBjEIcAfLBI76nfXQ9oL2cfdq+rsC+QhYDfYSKhDrDSAOhAgZCDoQOxSEFBUbsyDiH1UdTxp6HIsgbyAiIbQinCJ4IS8cLBegHz4tdymMF6gKDAS0/IjtZtdezzjYI+Jn7mwBWBBMDnYDqf2E/xcDOABB/gr9dfdJ9aX0w/YqAf0KnxASGLIcnh2EHIkOtPg/6fvd1diu3rvm/ezV9P/4LfeG9Uv0j/TT+cL4e+1V6hPx/vLI8EPzzPqnA6UNQBqUJTQnBiGzGIUPFAolB8wEeQOVABQA5AWBDwsZ7xoWFPgQJhAgCq4E4/pv7k/pQ+bd52bwcv/gEmQZsBa4FqwV8hIDD3oMCgrYBtsEbwHP/4ADlAgkCSEHMActCH4MKROvFR0UXxFHDkEIoAOmBKICBwQ6DKoL9gZwAzH8K/Qh8Rf2PP6wCCcRMAiC9pHswtefuC+qVqnlrGm9Bdac4qvjt9zg1s3ahtoj4D7qC+h17tf7Jf2Y/RT8t/dl/psEjAaaDeMQIQweAMvyuuuI5mPmEe9f9+j7sf87AFkCZAj2BTH8JPMU7ffvQPa88wDrdeSY5erxEwlTJOQ3MUKFS3ZUB1LzQXA1jzAVKtYj8iCkI3In4yjhKTIkwR9XJUMneiDfFzoNDAZAAZ35nv4FCYMLjhP9GJoUjhbmG7oeGiNaIGkc3SOjK2Yx+DU5NZk3RDxoOx02LTDeKUwmmSc8I+MaARrMGx0ZahbuGBgdAyEzIg8ciRX+ESUPfQ42DRoNxAHA6nXeBswbtn+vfK1Es0K+NsX7x5bMI9CxzGfKU83+2Nvi3+DR3v3fI+Lc6P/tBOwa7o32Swb+HVsmfiCpG28OOf0d8R/sQ++t8ADyXPMV6f7ZzdT/11DXf87ox3DJaccfwXrBDsWNzU/VJdK11D/hSe1C9pH6oPaL75z3KwUxCT8PNhlaJYYw9DE/L84pah7EGcEabRWcDqAF9/ds6u7eY9zg4ynvPvVx81v4fPuk8X/oduD03XrgXd9F4bTh2uM48u8CWgtxCMsBkPpz8oXxUuvU4JHgkd+a4Ubi9dTxyqXQSeE/6ujsi/eKAHQGvAH18uXtdOUD1XTJeMeN0m/d3enD9x/3ou0A41nao9V11oHZztzG5VfpOu6O+1D9bQDBB8AGugtKC+7+tvJp5FDaW9S1zE3JI9Er3kLnuPA496f7BQI6AqgA3/3+9if0U/Oz7GbiRN7+4wTy5ASJE/0c9CVgLFEoqRouEOQJEQXoCFEUNB8fJJEftx2uJX0ociaYJmIl3yKuF/gD//oL+/f5FQLmD/0UEhH4CrMMJxDxDJoNcw8EDPwK9xObIZQtNEMXUJZHJ0pAULBENzqCQElNGE6sRrpAZTV2K38qwCfZKXA1MjcCLAon/ykhJu0kASoEG8n18dF3xJvJXsvX08joIvBM7CjrouuU9y8GOweLDYQaSxnzE4kU3hknI2Qh2COQOlhJ003uTZpCBzpuM4sqLCP7HWYiGigYJkwbJhBIB3vzvePe2hDTytTE2NLj2epr55nsQ/BK9BADrRGPGL8XThmaF7IKJAOGCH4TOhprHycqvSwIKdQsUiwDJ5UlnyWcKvQq0CDGFS8JFwA/ALcC3/zy86v4xfs69Rn1mPEI7LjtffD3+E0DpQuSFAsazxk8DpMClgUmDxsYDx2EHnoayhWQGxUfuSJ/LBgvYS6mLY4tYCmKH6wUm/NlywnA7cJYylXYvedS8g/sL+Wv5KTflOUw7LbqcOi62iXXQuLo6CztR+kc7Kn9BQtbFnce4xjDCXD4buj25PXydgRkERESCgj2A9D90+5m4CbWF9SbzwTHgspU1FXcmeJS5gvr1fIf/agDnAiODE0DmfPc5iDhbuo2+eUDvg0TFbQZeho9EXcKAQ7KELgRgA9VBm72JOEaydO2fLTkuynJ0dU22ILZ6dik1mvX/Nbd32vqIOrf75b7mgAx/5X/1wVtBsoAPALZB7YFKgFKAkABbv/MAbADZwguB+PzbOSc4q/SLbEtmh6WlJYyl4CcnKGvn9GYvZNFjYiGG4j/jrKY0p3LnGWg26Ofp+iuM7eHw+bO/eDM+OMBx//u+pT3a/paAM8FqwvaEs8UpBI2CtD1xuOA2HDQCcyOws25ILgluI+9x8J2ytXeku489Jn1muo5113JMM3J32HzOQtiJyM2KzECKJgqGDHcMLExRTekO/s6sDtoPBczJyb3GjAV5RaVHhso2yUCI8sktB07FLgLjw8iH3kjPR84GoQYRBaNER4TPRG5D+AUKxcaHhonXSHiF/gc+iEkHGEWIhccHJwRXgB8+DDiLtLe1cHWneBf6HnroO7k5u7nqein6of1cfSX/zwNdA8/GRQWnQ33AJj1igNcDJQR4xSjBUr6UvLG6HroFfeTCNoPHBLHA9zumOOn0vvGNcbHxRvHLMVEx4zMFNCV2wPmhezv7g7qMurn7FHxbvVx8ePy9flp/qoDDwqVFGsd0CCaKiw2ejoqPMo4hDB4LPEmNBY4DAQWGx/sIBkjxhzvESYQyhH3ERsWOx+gJpcspzBmLpcv3DHWMAUz0zbROAY4hD4RRhpGeEOuNe0r0isVKngxcTOwLxk3DjlaMF8k4hyPFUQHEwT3BO8CwQM2+7P1i/Ih7pb8NQ++H5suXzDTL/Iq+iTmJYwi5R30HRIjOiYDIgMc8RTDFcEcpiAwJNMi4CRyKV0hEheDEPQM5gkkAYb74/cv8dPvDPt9CPMFFAGMA4T+sftCAvoC6v0R/aYAkgIbAlIGlA89FewVPhdAGLgUwxFPFBMVXBFhDtsO6hG4ELwOHRCsCxkIIge9BP4MfhUaFXYVcxXdFPEWCx+7JlEl8SXOLSE0AzUvLvQkahjEBEn6AO7r3wbiNtoJ0+HZO9Z61HThMu0m7P/seO3n3crQRMeNvlbEJ8g/yZTVT9z43ZjkLe2g9gr40fTb9pj6FfcL9dz8Nvsj8wDtxude6iHkxNbC1djZvtzo3NrYGtms2z7Tm8cYyATNic010GrTddFBzLrC9bsGvR7CRMxn1pXdC+J/3/XYWtmP4PLkKu63/FIErwNU+qX3FP6F/0wJVRU4G+gmHik3JEYotCtNLoQzWje4NlIz9DK0LhoociQpH6MdGhu1G+Yg0xjyEv4UQQ/BBvMCngP+AHf1iOaq4HveEdZX1JLR2sPOvsy/HcJA0u7hXOWo4wvhgeED5b7qafMIBboQUQdsA7oD0fs++Bb11PaB+uD74ghGE2YS6g41Buv8EvZN8LntjfCq8RXpWeZI5/jjqOs48t/vfezo30zZaeWd7zr0FfpF+KzysvVb+rD6avjX8DHv8fTP9Fn79Q3lGjUd6B2VINweABpxGHQb7x+RHL0VaxNMDuYINgBO8prti+r67FX6x/4NBTsRLRhWHd4aeRdPFA0MDArUBv7/lP199Ezqv+sd8Zzwjuub8WDzDub26lrsL92A4ZHohOmQ8QD1+/Dz7TPtUenb5mHse/US/7UGSQzvEyYThAdoASAAFwBoAcAFyg3gDFAFpgQhCPwESAFpAaL7NPnh+gb2dfVA9HnnsN5b4CLkI+OM4r7rWu2j48zhjOK831jioO+j/yoN/hvsIJMfwCOvI0IkeyiHKdsqtSaFHfQVxgiy/UoBugZpC2MX/CLaKessOinYH8cadBrXGnEfpiFyJL4ppycvK+IyvDT8PEVB1kEYSoNFYTflMBsxhDQmNeg2SjWPK6AgChNUBvz8jfsYBFwMHRV3GWAOhP3G7vbdm9H10mrgAfXMB0wNIA1CCcDyDuNM5uXjYORf7dn52AOOAVT9M/cP7qPptOkG8ZH3Ofbm7erezdKjypPFvMfrylXQztmR3nzdPtru16PYHtw642DqJuk64Y7ZWM4AxNzD2MXWytDZxepz9n/7Nvt9+Bj6+fsk+W/99P1i9eT12PaK9hX++AdkFZ0i6C0nOAA9CEE/PRw1dDfsOSg+yERkRixJy0AbMQsiWxAEEXIVOBOFHFAcBBE7B4nzpt/M1W/WY+Jn8ZwBnwdwAEv3juNP0y7UTdUB2hXm6/Ay9zD3tfC76DroIO799w4A0wFvB5YMqgyIC3kHgQvKEpMUPRx4IwYnxSlBKbkqMStPK+IoCh7BFIYOiQbQ/A32dfVQ9CD48gPtECwf3SFHFoUMfgOM+UL7kAeKD8wSehGiCQIDZf57/9MFdAnzDfoUmBrPHGsgfyS6JNcokCq/K+00sDTaMLculSQIJB4pTCnEKuElgiDSFZT7NPBb8Vno/uzr8g7ntd9q0zW+XrCCtEa8YLsx0WvhANrb37PUOsR+zoTLncqi4XruY/AR9BnyYuf93jPhK+yg+noBGAt1FisUARRUEBIIiAhKAfX5pvud+c7ww+gm6iXnx+E43xfTDssOxXK9DMB4xKzL49A50xTak9lQ3rPoK+T53LrYTNV02tbjSes182n8DAE//yf8kPnm+2oF/A7hFagW2w+lCzUI9gGtBlMSqRyLK1MzXDFLL9orTis1KlgofS1rLX8lyyG/HNYL4PlW91r1MfKU/Bb7rPTZ8B7W88v00z3RZuAR7dbok+hs3xrRmM5S2Szd5eJ3/xYJ1Qg4FBAKawdiDbEGEBcuKhwtkjSTN0wwZCM2GfoRAA5zDRIF9QCp+L/kqOEf5Rvq0ffl/CH9t/iz7Knj9d0i3Kbb7d0g5L7osPCQ+WX8jPPS5QnjH+lw+CMFXwuuGXUdJhERBff/yQBZAV0KahBKDAkRrRGbDNoL9QOWAMr/nfmN/2P9bfIN9lruyu1fAhEBTAFvDd4G7v2x8hvb8MsY0uLb59066xb2d+pi3eDRRMa9ydTZ3+RO6SbuxOl04h3hUuIA7dv4NglhG94bDieFNp0vZTBpLlQeJxj2E3UU3Rv0HwcgMRfZEcQVUhyEJR8rkSsdJmofcRatCaAGCgMw/KP9pP79/Bf7iP3gAbUCpgYYCVYOoBrrIqck6B1OF+UT2RBVGvkm0S+4Pb9D2TjtLlctEiUdJREzYDQxMvQv3yX5HUMc4SZHLoosqjI3NEoy4zAZKowsAS4JKWIpkiT1G2gRUArTDOkIPgoGDiAHXAyDCiP0fub63hLYceTHARkNPQ4FHMcT3gTUD/wUKRpFK5cuciabIZAb0BAZDjMLvvzI+9sE0gpPGrYjSSIrH3cRSwMz9izoWedl52bc/tOT0iTRDtNh2vjdQ9zI2DvVAteM3m/i2t/c4S3pwO/I+qUI+w4PB+37efnb8qHxUAHsDMgWzhyGEt0HGwBT+/L9dQFdCfQLIwMYAdgAp/s8/CUBFgh2DiQXmCAJGvMOWgs+CykShRkqI14pPCa8IxwMV+5o8A34JP2eC9QUTRNuBb/xveWa4/nu3P5NC1kWuhGrAOTvNeP54F/fZuGU6ZvnxeIN3UfWD9wK5MHmDO+C96P0TfVt+tHwMuVR3njYTdzZ5OLtS/Rx81fvdum36JHuo/DO9VkBHASQ/2/9sfzB9qnuJfC39Mz4vwHbCP0LgQnLA1wBu/45AocKrQykEOsUnBDdCgYJfAbPA3AIYxCeEUEORAxdB1EDyQiADakQmhfUGvAXJw4dCLMGTf4tATgMLRJnGToTIAr++SncAdyY4bjlDgO0DtIHivbZ3CDRS8XmzbLbu8+40DzDYalMqrejzKWWtle9XcgVzXXSh9ejzg/KLL5EtUe5ErxwzOfYfdkz1SrHQ8RtyGTTH+fB8pH2q+pE4trkluOw8YD89/kV/iX8RPrV/pgBKQNN/eH28PKq8u34ivag8XvtCeRU3ArUiNYi4z3s0/fuAGAFZAMo/Pv5mvRI8/b98gi4FfseyR7AHREetR+5JAorBTP9NsAwUzCKNR8zRzs6SVNIKUqfTCg+hy2RLZM3Izj3QAJSizsbFwEJxfKY6BMGMSCGJtUw6DFFGuQSUB9jFLAQMyK+GWsNABkyGQAS4BQFCDH5FgFwCqEUGydOMBIrxiAaHbsehh7JJMkrsSWeGRoVORd8GMofRiW/FvgEW/5/9/jy0vW79CDyIfSI8rjvm/MR+vD6/fUy9G3xLucb5x3vA/Hm92X71O0F4JbgDegg7HL12v7j9x/y5vNK8fL0mvzk/tsBmguqGIMaNR+jMA81JjTVO1dAQUDvPNs6ejPMHrUUtRNOCigMRxX6CnL2bu535vXZKe5rCWoE0gIG/GjcTs/y13rYndqT6qLvGekS8LPvuOeQ7obtaunI84z79AIYERgeYiDYFCAQNBa/FhkWkhqwH3cbVhQoFLAQIRFZExUINvzB9RrvGO2S9Ov6tvY28c/uZ+0/7XfvRvLt8uH3HvqR9G74cAPYDCwVvRX6DYQDtgDgBKIGYQ6UFckN8QbYCXQMPQ4JE+cU1RPNGighDiVYK0gnyyLBIeMb/hVPEWsT5g0gAHz5le337BD4D/qO+dLp9tij0JvGotdz6THm5eqH4DLL5sTgwmDHCc7w16zfi9tO4uLp7u2x+q76WPjU+jj6xP7R/0QBugAt/HICaQc9CZwNCBA7DYEBSfsw9M/pffD99T3wl+ne31XXv9LE0tLTINJn0bXL/cR2xezDtsG8whjCSsHawM7CLcfYyS7OXtNa1nnYddoO3EncX99D4xjhr+Ax6XD0wv7lDNQZax5CJBwoKCiTMLkvqiMGIQUdbxcpGcQXMBXzFL0Jv/u//tACbgbDD6D+4OYW6IDdZNcH89r6K+t+7rrubtxI4aH6AQLiDkUbaQgFCPUXhBNJH7ku5SYrJ04wbDVlPaJEW0LuPV070DD4KtUspiULH9MWeAgqBbAF2AKvCQMSMw2jBysFK/wp+ZD7ovPc7jnxA+667rP1e/lU/iUEawRkAdX9y/qP+hf8ngKKDVsOYgcJCHwMrRDIHDApayraLbgzXy8fLh0tXCMUH98YfQ9JEP8SFRdjINkl/SYgK7EpzCEmIAwQ0vl6/3T/WfnTCc8AUt2J03XOK75sy1bo1uaW5Ijot81PwvbVBtYh3xn2luxN5Lfv2fEq+hgLAwvBBxQKCP8J+WoDeQB5+Lj2BetH58Tuj++y957/LPOj5tvkP+FL49ztUO2O5g3l5NsD1Znazdym3b3i9+eA613rF+wy7L3p1ey68Mnw+vX+AVUN+xQ3HvsjGx+2IskulzFOOEA7KjKSMTkroSCzJtcoWigrMWsx0CtdKqgpsiofLLcrvChoIRkZoRL/Cen8OvUx9WP1QwCsCRz1GuA43rXQS84Q6/D5wQFSErAIyPgcAikHCwYXFnccew8FElUYTQ6eEOUaqBYxFQES0AVHCGoOHgltBtkBcfhH9UnzCe+W8Z7yMe2G7l/xs/Hg9YL15e7468rqp+cA6Djriekb5JTla+nE6GLx1/kK9ePz1vOz7+7ztf90CS8QxRiCGYYPnQlrBAn/YAaHEE8NOgnkDNULVgsCDSoHMwf/CYMEAgnHFDsWpRaJGtEV0Qiq+bzt1+Z01xzPb9kb3XjoQe/t1BbJeM0NxOPLGecK89fzLfgs703fkubM7dnpQftDBzT+NgdADCv/0gabEBoL4w01CnMAnAgSDQoFCwTBAU79/wBV/+H8wwMfAN70a/KY7trqh/Iw9oDrwuKy3+PZ59cr4cjrtPDg9TH2pvGF8n7v5OlW8bH+TQxLG0cl+ykFLb8xRTRLLqUoISm5Kcgsny87K24nmyMIH2wfMyN7Ld8xIiqJJpwjnh9kHqMdbCAxIUEe4xP7BVsEWwDzAMoRQRcsIOsneA/U/yD/X/ZdAmcSRg1GERwbShNvCvAO2w7qCr0UuBVsC1QPBAjQ9TT7FAAu+/sDmgXO/goHzQiBALsAt/yP9WP3ffSm7RDuDOrc55Ds3+c860D5nPgD9TXzHuhw3yndv9g+1LfXGeH96Djxe/knACwD2wMPCbYKzw0YGLcT/AvpD50I1/2IAG0CNAHpBycR0BCTEOMWwRhHGwIfNB7KG7UQuAeUB4oA3f/pBkwGGg0lFicN4QUbCNT4YfA8AnYDoAOkD6/7JObr7RzvJfTmCwMPmAFeA4j+N+uT5wHmSN5q6pTwa+nl9W36VfEz+mX/mP3ABXsBzfdYAkYGPP1XAaX9i/C69FD2S/E3+Oz5YPE08BvtDeY37NLvqeSH3WjcAdwA4q/oz+tO9rYFHRBsHOsoDijMH/sb4BfaEqUUKRWhEHoTHhkHF4YVZxdWFmQY5x0JIfcfjBVlC30KZQsoDD4MEQcsAb0CvQP0AmUIxwjNBvYMdgwAAtcADQd//w/8yg6lF9gWTBhmBkn30vnF+Y4EFhJfDToDOvjj7rjqlOvv73ryuPWF8vbs/PAl7DjgbN9o4Y7mWe8y8fjx5fSs8Tjr4Or37HXva/bf+Hf2efQ674zq6OT731vhuuFb4i3kkuHN33XjlumI8XP5ivnG9QT1+vPU8yvvI+jG6kHuxe908ofuEunS6XDrA+vO7QXyhvR3/QQI8wgdCO8Eyfzp+h38rP/pBWQD1gEwCREPaRMaGSYe3iHJIrscSxbsGLsXbBTxHLAhUh3dFaMHPACWBbUINQotEYMSeAmVBA4CqP4MBGEGAQWDCFsDdf1T/2v7F/qC/ib7kPxUBvAE2/7VA10HVAAm/ef8Qf3EBKMFBf9F/4cAR/zG+G32RPSp9pD6r/xn/Yf8l/9rBhILdQ8bD3sJEQdMBbIGeAd7/y752/Xm8/D3QP4kBS8LnQ2BDAMJ2gbHB9UM+RKkEKkKOgj3AWv9YwIzBTsGOgziC+QLGhfsHLsdmyLVJB8mVijtKOUlJx77GRIfSyeFLKctzScxHQMWDRCRCP0GHwktAmvza+na5EDh3+PV6CLo/eid6AjkcuT84szdu95s4VvgT90R38/p6/YjAWsG+wfgB7IDhP4s+dDxdu9W8Z/wGvBQ8zf7XwXpDDsOwgxeDucMcAhoCLoEDfih8eDzf+/b6r/tC/JP9jb5Y/6DBlANYxHJD4wNYQscBEX9tvlH+Qf8DP1d+974P/sjBgUS6xf7FdsRixEOFG8YZB0uIlIjiyB7I7grvS8kKyAlHynTKlEg/xUFCc/6lPqS/Gj4bfcm9BTx4vO38FnpGuX14O/hN+Y85Y/lG+r96Q3lYOIA457mgOu37ZDyqPxJAAn80foh95nvfPCD8zTytvF39an6lfyoBI8RqBYMGigc7BiwGVAcJxcbD98LRAeSA3sL5g1QCNwHSwB3+5oAxf90AJsEQv9X9bTxW+zd5OnmEue/4+7oROuu6k3wWfFT7+Pybfdi/KQGFBKKFO4WLB9ZIuIldCcNIwIqVi/JIywdOhpdEFgQjg80/uv4cfvn78TusPLi55zkC+XM17/QB9Va1OfRgtac2L3WnNt92vXVAd2G4efm0+9g7przZf3a+Lz1HfNB66DtvfIu8473RPyiAMsJRRDcEg4WkxSbD88KSwZvBFkDMwFnAvIBA/n09UD4evKu7EvnPOLX5wPvAvPM/dgEp/+q+UryKujA5t3qbets7+v0YvTo+Ff+YPnh/GsGZwXoDrohaSkaMtk52DWKNOI3vzMVMic6hTXhKbEqdSRkHpQiYxgkDPQOtw4dCPsIKgZ//Jr97viM65TqEOux5lDmgOVB4L/jnuzs5Y7gk+Ua5k/sC/DZ6fvrvfPt97L1KPGi7rvpyucd61jvUPd7AUMKABOgGIMYNxfuFywZyBmwG2EdqxqdErsJMgbhBEgDygKA/x37fvrT+RD40fpe/b73p/PM8+XsJek37K/qYeyg707xPvl6/NH6v/5nBBQNwRgJIewluio2Lwsuci25M5c0lTQINqMqPSgaMAgoviVSKYocNhNKDmT+Zvcx+gzzbPJi9sftROff4BHaOdzA2MTQhNI013/Ttc3x0qbaDeCg6JzpyO6y++H26e7N7Ljkz+V27jfzgPiW++j/QwcnCqENARMsFpQYsha6E3QVaRFpB2EENgHm+rr8qAHQBXEKcwc5A1sHkwj1BzgOjw4cB2kASPcj8WHzkfZd9pP2KvnT+kX+GQMCBssJSwx8DxMVAhzIIyYpPzAPMnUwlTc4Oy455DSDMRQwIiZIIA4cjA8mDAgNGQg1CCoOqQr8AbX9kvO37O/v2u+56+vmqODL2zPciNq31pPcs+P65Svs/++C75fwwuvX44/hN+MX6NLsx+2X7jP0Ofs7AoMNXRegH2wpmipeI0oe4hwbGz8YohVDECkLLwukCWcIaAs7CVUFZAQL/fv2/fkx9ozsC+te6JXjFeUD5cjkO+TC4DfhBOKy5IPqHPA19ln4jP4gCacPZRiIHSIfqyWLK8cuzyuAJwon3yH0H2gg8BfjEJsNNQjcBvUJfgezAJH7ae2r3HLbydxl2ibaNNmO2cfZ99h31fXP2tEE2rTlHfFy8/vwiu4/6izkneDC5snu0fBX9ST9PASWCkAOtA4VD0kSshTyFnkaSRcEE5YWKRi4EWoKuAeBBQMCYv288wjv0fLS8//1yPzbAawDyAFi+6j0S/IW8f/u5e7a7ifsTe3Z8u3w9O3m9qD/OQRiDXgR1BTaHqIhciBJJikq+R0RGe4kDiFuINAoSh5xGZsflhakDcEWpxXJC9IT8A1D/HP+y/gT73j2a/Q67LfwuO2I35raptnO1VvdReLj2N3dOeYA38vdrd4e3KvePN5y3F3hPej36UjrAO557Xr0I//kA9IM9RSzFfwUQRUNESkLLg/LDIMD1gcJBv3+rQSpAJX2sftZAAD6hfhjAJD+M/mw+ifxYOoM70HrIOpG8Nzw7/ET+Jv/KgcyC4ENZRRSGtIfEC/JN6soHh5VJ4EpkysIORA1NCV9J9QmMRUGFOsYSg7gC6oH3fgR+Uf6bvEE9Nv1ue3S8AHyueRX3LLWd84Yz2/Rk8wj0+7l8+uM6YHqWOev4+Tkw+NL5ErsBe/36pTqcuwd8sH86AYhDbES6xv3IfEkRySdGIMNowhoApcBRARU/zH9AwBJ/WEAwAyrD7ENfRIMESAMaQox/0X2BPt4/N/5tPxk/wL+M/3J/q0BgQpLET0OIxB2DxEK4xDsD5YJURcJJhkpYi9IMdUizR1BI0sXTxPOGqEO9QcOCz4BwwF/DgwMVABH+/v53/kq+sbzuut16QTlhN0Q1VXMx85U2EXiMux37l/xRvI35+HeyOCO46vhPOI25PnjNekB7CLrcvID/GsHJRjkIuQiqh7UGs0U2RCLFqkZxBNhC0IG5AwiFC0VABjTEsEJtAnnBrf+hf4cALv6avnw96PwJ/EH81HwS/NZ9Jjyw/Vx8xzytfykAFT6Sftt/fr8eg39GqAR9hX8ID0auh9DKwMiQBqiGmYMcABWByEK5gqCEBgJnP9AADH5AvAA8670GvSC9L7oJtrw1+zZW9w34pTltOiN7x/0efp2AJr7gvJv6xjmDOd57APuFe9a9Jn2FvkgBMsPmhVHGLsVYRAgEH8ScxPREBILbwhHCHgIJAhTBtMEjf/E+Fv3kPeR+mwD8whfCIgJ3gVU/TT/tP9d/XsHdAf5/VYBmf+l+PT67vrc+RgBlwSMAQEGBgp1CzETBxNoEC4WlRauFTgXFBEjDSgRfhAxDzMRrA68DLwJRQLnAZkFHAMWAaP/8vfa89L1Zve+99PxVusr6enjeeIw6QvrAeqC7nHs1OdA7MXnu+D66DTtuOmb63jnyN144EzlZedQ9L39Jv3VAvgJRw+gGSMbjhLsD7QLJwSKCNAOqwjgBg4I0/wl/aQK4g0QE/kXABDhCykObw1JDUUK3gAb/sv91vL788gCYQRwBDoHdwDJ/3sHawmiDAYUrxJsD8gRLQ9CD/gWIBkbGQ4dDh1nGhQawRRgDOoI0wfbAyX96Pj79M7xGvTT97b4bPFf5/jj1eA/3SHdjdpg1YzWptx34vfp3e0I6+7sXvPr8lbyxfK86w/poO1d8MH1Z/7X/zj7xwAZDtIVNB28Ic8YdRExFpwUFAxKCk8Frf0RAn4HZwgqD/cR2RHOG0si2iOtKTMlNRwSIOUc5A41DkYMzQFCBpgMBQbbAtYEyP/Z+pb9Bv9IARMDLPz/+Cf/JAStCCYOuA+WD+oNUQcXAIn8B/x//hcAAvsz9GjxffET9RP7YP8SAML/Lf2h9Xzxg/GF7LPm7ORB4xHkheb4507wzvhg9/H2C/dw7lzmruQP4j/iHeg/6JXmyOqL6+XtPfmZAAcHzBLYFsQZvh9iGJMOig8yDikNcBStFvQUjRj2GZMaqB1ZHosdURs9F1sTTA6WCAMJgArhBiEHaQWf/J34wvTU7qzxovMh7mLtxe5q7VPw/PNO9P/38P4cBLoINQs/CUQI3Ac7A9MAAQNRAGT6afiR+Gb8ywMSB+8ElQEs/p371vrq+In3lPgp9rnwoOsV6FTqR/CW9eH8aQREBUABaP7l+wn49/M/72XsNOuW5t3mc+/c9Iv6rAIRBGsECApZD+QTGBcVFDQQgBGaFNkWnBcFF0AU7w/bCjYCi/2yAH8CBgT3BGkEcAi3Cp8J1wsUCrABTvwX+JH0n/mQ+zfyvusS6VrlKOhm7dfsAO7m8EvvQPEt9+j7EgFjALH9p/8v/QD6//ut/AkB+giVBhD/3P5cAeABtQE3ARQBjwKBBLsCsv4g/Mv23+/u76P07vjR/Jf6KfGy6/Tsie9y9U76g/fv8qjspuTV5ELqp+wp7pXt5elb6K3oKOs29Dn9hwKcClgQNxTgHdIgbxswHSAe2RZMFUQZjBqQGIgS1A6KDjYPPxJXFd8X1xbmEQAMogi9Bif/2/nC+PzzpfEf8Zbuc++081b1R/XN9Rz2gfrq/0MCSQQvApP9df0NAKsCQQkfEvQTThHCD1AM8wkmCzsK2weXBpcECAUDB24DZv8dADj+ivu6+tn0ce1Z5xbiY+Ok5SPkJehc7nruvfBw9bv0LfPJ8cDu4O5r79zsc+xv7g3yzfnbAZwHxwwiEHsRgRm6JY8mIyFMHusaThiSFvMUVBIvEBgSVRTqFj8bJyHSKHIpvyJvIL8fuBiBE50R4wlCAmP+Ovjg9CD2NPQV8rTxPe006Z3ng+QX5dbp1ex58C/1ZvZt+gcE/gbsBDMG/QQ6A3IDEP/j/F3/bv19+RH5D/1UAmUGvwgdCBcIVQQN/Tf7ffj59If0CfJe8HvyFff++Yj65/tw+7z84Ptv82XwB+7F54Ho6+ik6lHzPfbI9C33VPuiAsUP9RtGI/kqyC3gKCAlfyIRIUEhLiHXIpEgVhyUHo0h5yEXIWEdAhnzFpYVoBTAE8AOgQlLCKMFlgNAAnr5ovBV7ePlguB65Dnmkuci7PLpH+j37aLxb/Po+EL9Nf5bAP8BtwHmBMEH+gbVBC0AkfwL/aoAoANIBucKcwoYCToKuwakA5r+1vVo8r/tpugq6y3skeo37mD0vPZm+ff/4ABx/br7fPXZ7eHrKewu643s/vBZ8czyl/v7AcAFyQr+C94LXA7TD9UOuBGaFwQYGxfdFb4RIRFID+sInAU3A1QAcQHfAnID9QY1CIgGyAfGBswCfwCx/BH7E/3E+0z2Oe/R6WjmAebd5+Pno+hl6b7qKPCX9Ar4Cfuu9xPz6vN887TybPg0/Nz7XP5e/1D+QADSAlYFAQjRB/AHLAmCB4oGVQZ8Apz/h/+c+yH37/fR9ob1MPkY9/7wRvIu8/7vffDq8CTwIu8V6nHnGegr5sblRuhD6VHrG+898BP12f0HBPwOoBfaFO0V8xfYEL0OixGPDccM0BBZDesLtBD+DeYJ0Qp4CIEHtAvXDN4K2AmpBp4A6vxh+7b4ZPSW7/nrwuhl6M7r2O1G7ubvJvMq9j34mPrK/N3+Cv+e/vcBPAX6B4QNwQ9QCy0F0wJGBDkE/AJYA0oFxQWsASUAVwLdAIf+vf7T/cT4CfSu89PxC+4M7jztvOoa7bDvNu/y8NTxl+0S6vzojeYA51zpV+e65lnqF+4B8yv5Wf+lBbwLnhBxFE4Z5hyRHVQcJBmMFnwT7w6fDMoM2AyLC6wL0g9uFMIW0hZyE60OxgvRCMsEeQKOAX4BSANFAtP8BfuN+1n4hfYf+KP5r/nS+Xj5w/cr+vb9RAA7BTgKog8IEwcQBg4lDcAIKQbFBa8CEABIABT/PP1T/v8AwATmCOYKAAuNCY0EMv0E+sb4nfM38ZrzavWI98T6Fv0x/ZD8ufyJ/ML6q/dD9YrzePFz73vt3+wz74TyVPby/eQFjgnuDV8UIBiEGUMamBpCG+ka+xpfHTge0B2lHTEb4RhrGcoZLBlVGv8Z2hSdEPMNHwyKD7oROg4tC+wFl/zr9hv1N/Mg8ZTuS+o85cPkuebe5vro/O5I9hT6eP3pAhAE+QP7A5MC1gOoBFQDTQIHA0MC4P6BAbIEzwP9BpYJyQgnB50EWwQGAi76wfIS7qHr8OzZ8WP1J/ew+MP03PDE8QXwF/C+9O303/Gp8FLtuukq7kL0yfUG+ZD8dP6gAw8JkwsvEBUVfBZVGSEbqRdSFksXhBR+El0TPhGCDnEPRxG3EkMPUgZyAiYEMgamCXwMZQxcC54JfgT9/zb/TPy6+Wb4LvG97Bjwce4b6sTrF+wq6//vG/Ub+Jz97P9e/Nv7x/0A/r3/LAKeAu8C3wIrAbACrQb5BggHjAhoBRAC2gWWCGMGGANZ/Pf2iffi9cHw9u6i7gzur/BQ9En2BvbH8zfzBvQz85by7fNG82Pw3e7s7IbqkOv372f0pPdo+Qv6OPs3/UQAygS6CcoNmBC8D/gLQAtpDJML/AeBAxMCLgOHBYoI2Al+CLMGsgXlA1UCkgNhBQ8Dd/4b/Dv6nfe09gX4T/ko+UX5Mfpu+zz8d/u7+xD/UwK1A88G0AvuDV8OIA0ABxkEEAezB3wJgQ+6EdcOEg4oDp8KbwrhDPUL1gtuCTcEhwK3/9X4kPIE78bsvesU6yno1+aI6Ujsye5o8LfvXPHr9U32ZPLU78XuuO1V7YPtQe8Z8871XfZv93P6nf4zAt4DBwRZBTcGMgPnAfYDxwG0/jQCywYGCFAJCgrgCqQNYw79DSYQiBKgEk8SEhEIDUYKAQnnBRYCc/7o/ND77vYg81z1AflV+rn7avx8/B0AXgPdAf7+2v0Z/0MAQwA5AYQDxAXoBdkDxgE7AIUBNQdpC5YN5BCBEPANOAytBtoBQAIlAYX++f6Y/bT4FPfZ9N/uaO428D7ta+tG7Arst+sO7KTquOmA6tTqr+6S9Ab3Z/mO/cUAsgOaB8YKywwODowNvQ0nECoR1A4iCncGMAUQBLMCCQGX/939FPxn/lgCbQOTBRkILQdwB6QHUwMbAg0FiANzAY0DDAP2AVUEigEg/L39sgGzAjUDTwN+ApYEzAa6BCICYwGIAPn7f/gf/BT/Qv4H/w8CqQYfCzUKZQZNB9kFV/7c/coBv/4u/XQAFABE/YL5FPg2+7H6cfer9kr14/Gt8Zn1CPZ89mL5T/aL9Fb5oPk79qP1C/UN9A302PRZ+F3+WgOeAxQBOgNAC84PpAzQCO0GLAa8BVYCQf49/Hz6s/jY+tcABgJd/s/8RPzP/fIAqgCJAKQBcAFEAM79hP0x/x//qP6RACEFSwi3CI8GlgPqBl4M4As6CYwISQi1BkwG1AYmBW4CNgJ1BNkCTv9ZAMcB7AGsBBUJSwyyDAkLuAmyBpABuP6k/R79jP4yAKsA5AG2AGD6gPiZ+677Tv3P/5P/3P6d/PD7KABcAwQANvxh+y/6SvwwAEYA5f9jAiAFPQQJAhEFzQq7CvsHrAhSBy0CDADR/2H7ffZR9bT1//a39jn4lP1U//39Yfwo/Ab9Lfsd+Zr2S/PI8mj00PWF8wPy9PY4+pn48Pgq/bwCvQYrCqoMew3MD5EOWgqECbgHtgVyBUMEXQIBAiMFQAXMAq8FwAbfAvwBGATmBQQFnAJwAz8EmwDM+tD2N/Z99cD1cfZl9FP04/Pu8nr24/ydBDEIYQXNABf/fAAwAigF1QWWAnoCQwXjBMsERQfpBxwJ2AmyBdkBGwNRBIkBt/2X+zX/EgIS/C/4w/gt9nP1iPkv+0n4Ffd++IH6qvuq+eX4cPpy+338GPkg9ND3Z/re8jrvIPKr8svym/QW/XcIPQcDABABSgUbBGQC7wP+A+kEkAVsBCwEvQCI/Xr+JgCyAL0CpAjfCfYE9wHPANUAPQKhA5wEcwOt/3X7CPh7+N/6pfhM+Uv+5P1n/X3/dwAcA/gD/AALAEwDFwYYBPMA3P5N/nYBSgPTAqkDPQOBAk8DTwXyCLQJ+gdWBmMCRACi/wL7Zvne+4r6KfoC/D77//pN+m74zvqa/ub5F/PZ9jn8pf65AEP80PhR/an9ivSA8QL7dACa/0T/KPs8+t//rQPIByYKEwkSC5MK0AVoAYP6fvfC/J/99fgk/PsD2QRpAcAATQLYBFIHzwb1BfgESQJ6AqQFNggDBtoByAF3/wj6gvlz/Pz8xfzJ/Jb7D/0K/5j9N/yg/bwA3AOMBa4FFQarBUQFfQVOBfUFUgTaAsYF8ghHCkkKQAleBagABADz/TD3cPOw8zH2Bft1+sr3sfxnAGH8Y/lH/C3+rvs3++v6Evit+Br54ve0+pr8dPxRAG8CLv4N/a4BXwSZA24CAARmB8wFgwA9/k/+7QC2AkX+Tv1hA/YD/v8fAJMBjgPxBTcEgQK2A0UCKv43/BD8sPsC/Zr+7ftO96L4kP7g/jr8/P0/AaUCNwADAJoGgAYw/c353vtL/eYBJgQxAtID2wXwAyr/Ov2g/30A+QFKBWwFyAKWAkYEQwOGADD+0P6dAY7/kfuQ/gEB2vvE+tT+Gf4B/iQBEAFKANz9/vgq+cr5Uvc39+T2B/nN/3z/7Ps+AdoE5AH5BH0MBA74CYwGSgV+BAsDaQD//zgEywfmBaACYQJSBOoDPgFoBH0IvQacBDsDAwMABaQGzANz/sD8J/xq+Uf1PfKL8QTyd/Pg8lnxnfMR95T22/YL+677z/wrAfAA2/5m//UB8wKyAksF6gcNCkwMZQvAB7QF3QajCAUJDQZqAvQCEASBAZ3+9/4KAf8A6/6s/Qf9Tf+mAnIB1P+NABAC/gLsAf/+4flf9hj3lvjy+Vr6Efrq/Gz9rvmh+0oAMwEZAtwCxQIeBU4HcwTBAMX/NP/S/jn8mvpK/9IBNP8P/T78//6pAaH9Ivq0/SoBYADk/mv+jP/V/mH7EPt6+VL1efXg9Vf36/tJ/SL9x/tb+KP5swBABQgCIv57/tv/7f/3+/r6LALUBIACBgTJBCgF2AbdA/kBIAUYBjMGbwWzA6sFDAdTBLEAX/5R/5IEOQX2/vEABwcJBDQBDgKyAEEBbQM8AOb6yvm6+pv5i/Yo9g36AP3J+xH6kPtr/bH9Qv6zAGADYQIFAHT/iP+s/83+SP0D/Xb9sf8gA9kCSgCK/6MAuv+t/Ar9RvwN+uT8hf5B/jz/Uf1n+xL8i/3l/rb/GAGAAOf8FvlH+Cf6Q/oQ/B39gfm++lf+Xf54AB8DhgGcAEkBE/3t+lcBZQVNA2MAPP35+/z86v3S/5cA7f92AF3+z/xi/ij9vvx+/cL+FQP6A7gBsgC9/4T+Ov4i/gT+JP5J+0L51vmO91H2EPiw94r4Sft3+sr7cP0Y+ff4XP5ZAWMBb/+X/av+qv+I/cn+TQTrB7oJegjeBGwEfgVdBlgGHgQGBNEEeQTNAm3/Ev5//lb+d/yu+wT96P1p/qX+Iv+5/7QAYv/8/TAAVP91AL0G7AZbA8cBuf8tAuYHngXkA34J+QlSB2cHjQR2AdQDYwVbA98CsAAx/YX+F/+6+7D7hvvw9mv3C/rL+JD7xP0j+g/6sf1p/vr8I/sf+eD3s/Yp92L64vrw96j3rfmw+Zr5f/re+rX8yP5i/9z/Gf0M92j0kPW/9or4GvsL/nkAMwAg//T+bf//AHgEFwiBB4oGjAjTCCgIMQYRAaMAKQQcAgwArwMrBRQDhQFNAFMDxQUJAh4CwQFcAKIDKgA6/78ECgNxATcBUgAvAvcAJP9DAJAB5QMHBrsEoQG2AV8Crv/H/0IDTgJ8/0wAzwEwAT4AHQF4/af5DwDOAuoA9QQjBsMFkQbkAej9av89/5r8LPuG+eX5afnh9J/1O/mx+OL5m/ol+Av8NwEC//z8HPuF98b4rf2xAHgBuAAX/gb8of2IABkCbwPNAtL/pP19/ET9EAHQAw8DBwL2AIcA+gLxAksACAGSALP+tACf/1D9Q//1/h8ABwPg/rT7OQB9AfP/8AP2Aof9mQCWAZsASgbPBOQAvgOaApwBWAWVBWQFhwbQBM8DDQNjAwsExwKMAxgC/wCPA2UFYwdLCLgGPwabCEQG5QQGCTsHRgfECoUGXAPaBD8DYwdUC4AEawYACVwCFwUFBqEAEgMbA9b/RwLt/4v8IQGo/a/4Uf4k/qz/wwaWAWX9af7K+m79RwAS/gECWALc+0/8vvxi+wEBIAJU/rL+Of0l+yv9NP/Q/3wAWP/R/KL+AQTpBVsCJP8dAPIAUAH4Ah8DTAIzAfH9wfsG/Pf7if0z/oT7Dvp2+nr7Bfzi/tADHAOdArwFxwPuAWwDngLdAZ4DbQXOBdAFrwF0/Hv5aPLL8M3yGfEV9GfzHPD57rDqBuur7KrsS+8d7mbqtedU6MLraO7D9D/2qvJV9474ifSK+MP5Hfh8/I330/NZ+7b7JgFQC10EVv31AX0A4v8vB+kEmQCw/933DfYK/S/+yf9LBo0GtgS2A+X/LQDEAHn+XQAgApwBHQX4B9sHKQqnCVMH7AopD7MSoxidF8ETMhc5F7MVzxgRGXIXExixFq8QNRBSEdkOTBGNDzAN1BCsEAwQHBKxEVcLIQmfCvEFGAcLCp4E1AHjAYr+Sf0q/yj/BQPjBskECAXtBFUDcQKJAGQBAAILAWIDLQWrAkcBrQKmAfEA0wRgBvIGVgsTCgoH1wWt/hX9QwJ2AWP+lv7X/eD6Wf5YAMn86f8p/er2R/wI/ZD7GQJ1AJT5a/i19AjyH/qa/hf6uv1FAc3++AEsA1EBhwA6/Sv6nvhO+Bj56Pmd+y370PZN9p334fYI+T/4zPPm9Gb17/Bz84X0RvAf8yTy1e5y77rujPCN9Iv0RPAu7+zsOupN69zpverR7Ifu+vES8xDyhu3G6aXrve1+7j/xYPTK85fyX/T/9tv74P9Z/0kAzP3C+Yj9if9z/zQBbwFQ/eX4hfsz+sX4lvsc+Hj3jPng9mr2jvrD+cf09Pe9/X79g/+XAz0CRgJ6AhL/ZP98AbUC9AGLAjoDbf+0AKQBq/09/kAAuACjANv+svvU+Ab5Qvtt+bX21/hK++v8p/0X/ucA5ANFAjD99fzZ/lX/4QA0AukA5P2g/zcBFQHlA1IDiwEaAc7/ZwFNA/wCcgJ6/oH9KgAz/Fz7bP5f/YX+mADsAGv/lP5QAnMEewSrA9QB9wGxAD0BEAPwA2MDJf4wAI4BlPzU/hkB4/9a+uL3LPnQ9Kb0qvJx7UDrGOuE7XfqJ+ic6XTpeuqI6Zbnwep16+bqLO+S7dTsue+77x7uIOvD7g/vDO6X74rrLO9Y7wPtnvCl7ZDuV/Lb8lr0zvj5/6X+8vq6/fL6dvyYArr8cf59BGoAVQHQBvUGZgNQBr0E8/5bBBMHoAadCLwL2A5eDQ0MEAqVBIgFHQ0PC0wNvBK7C0cMBQ/qDd0OWhJzFZQTLBjOF2QT1BXlE2MRyxAuFXIXwRMqGUEZHhUBGwsaPxm1HmQb+BVjFCgRBw4cE0MVGQ41DrINqQgGDDAPxAzPDtQOlQm3C28MfApGC7kHjQTLBMEIWwtTCvoK1wsaC1oH3QbsCEcHiQhUC7UJyQnxC48JiAh2CAQFIAYOCPgGRAZjBTgFbAKr//n/qv/+/lH+HQADAQL+JvtW+XT5x/mx+QP6EvmG99b0GPNx9yj62ff7+Sr57va//An73/kABMj/q/p8AOL7Zvqr/ov/4/wz+0v9Ifoz/hkBtv4cA0YEHgYuA3n/JgOjAWcA1AOQAEz8vgHf/+7/JQZBABwBHgSeAXUD2wTYAdT68v1u/az52AG9/FL67ACc/q7+nf4HALf++P2WA+b+DfzUAKL9sPs5/z7/tAIDA5b8Pv9h/z39qQL4A8cBRgKcBBQD6QMPByIEKga/CFUD6gM1BgcAIwHQ/6H3jvzX/gD9ZgCEAoT+Pfos/yb+R/4VA8kAhACGAXsEfAa4BUEEgQGyAdUCWANIBBcGAgdaBjQC8ALjA2D/cgVoB+cDyQWQCAkI3AKcCKEKTgV5BzgIcwZrA8YDpwFM/1gBJP+H/u38Tfxn/Oz5C/n29TD1iPIj8534s/Tp9JT5Q/Zl9Q/3LPIs8wr1T/Ak9r73CfAY8Kzv8esp69/rg+rf6v7th+7h7ZTsherS5/vofuwU66zq/uye7YPnleR36c7j0eAy5TzfJd6x4mLhOOMB58vnceXy4/rmEeYd5cTmTuWv6LLq8upV7ULs5fDN8R7y0vh69db3bPsc93r8+P5u/hAAXQD3AM/9bwEzA+gDpggEAXUFEAlY/1cJMAlKAsMMTgu+CQEPwg25DOQLyg1bCswLWQ8uB88N+BALDE0OfwvDDkgPoBF1F6kPnxCdEyoMGw84EdUNYRU7FpMQsRQdFHoP2xEbFWgTVRSlFmwP+QmdDVgNcAr1DeEM1AdoC4QNlQtQDjQQ6wsnC0AMxQXPB3oO9wkvCnYLZwRmBN4Ikgc9CEMJZgPlA6wH7gPJAfUB3AZZCd4HqAwYCS8F0AYSAwkDXAPeBnMK1gZtCJsHlAUsCPwFygPdAZcBRQSuATEC6QRF/ef88gOoAIoDoAU7/GD9JAHt+qT59/wO+CX1lvrB+Sn2cfmZ9mL0Iv/D/Tz5Ff3s8yLx7fTw8pL2svie+LD3Zvp6+6T33/sC+TD3B/tV8xD1SPqM9hH5kP2y+hv2ufl++4T71f7I+uz4oP5DAAP6tfmnAJD8cPxBAxH8w/svAiv8v/0LAU/85f5LA4MCYv5R/gr86/aoAFsCLvogAW0BOvrk/o8Bgf3QAfQHxwJLAjwIQAIw/w0E//89/zgC7v03+f/4h/zt+1793gFSA6gH2Ao+DEQIHAd9CgQDDQU9DQUIkAknEIQJYQYXCGYAUgHRB88F/QR5BdYBCf+qAZwA7QA5BsYFGgVjATsB7AU9AQEBxwCF/IX/vALIBcoEGANzAun/KQVEBWIAvANqBj4FHAPYAiEBpfv+/nUDhv2S/wP9mfVC/mL6v/Wh+DTxePHN8aH05vTH7nTwyegl6PPuwOvi7FHoLOQg6vTlYOJ95nTgNOFI5eHcq+D047LZktu446XcCNuf6AzjfuGT8cPp0OVY8lns1uIy5ffk/uFZ6yLrQ9/+5/fpBufU7/Tud/H68g/vi+8u8Nb0OfX69s36oPYo+Sj9sv1LAo0D0QcVCzcGFwbkBNoE7Ai+CKIJfApeDbUNQgsyEA4RchE1FTQTTBKiEXQT4RhxHPMf1xnjEi4ZfxtEFdsThBeLGPkYxxa4DnMPgBFnDAwNHBBjEowQ4Q+cDekF7AojCbcCSAlIB7z/zv5BBqgJ3QepB6ICxgfQCzMK5gt9Bh4KZAm1Ai0IkglbC3wPmRHbCDb+lwaTBfwCBw8XCIACXQsmCnUHdQZMDwYVuRCvFIwKcQhDFREOTQoQC38FnQRABlgJwgrDB4YDtAMYBakDHQHW/PH5G/xsARkDPgZ+CUoGjQaKBOEA3gKWApMAUf2q/4kGkQPl+yn5rfgu9MPx0e9B76L2SPTa8gb5tvQJ7jvttvO39a/2Kv7D+Gb1nvzG/DX/4voM7jDxKPOH8hn2x/MB9kTzAPB88E7uVfBn8fX1gPNo7RHtTOrd9hH7IfHj/Gz+PfX2/Rb9zfb9+Mv5jv0w/oD8VP55AlADtvtg9y31Cfku/ajvWu9C/ar6P/ZE9GDxj/gpAXsEvwqsDIYEIgJyBTIG+AavBcQFXw3jEsYRFxXdGg8XKxCSD0EOAAymC00G1/8QBjoODgzLCl0JxAoADk4HYgZZDEEL6QzgDiQM3gqbBJMENxCKFMcLkwcFEaEGMfvxBgEE9P8NA6YCjAT1A2QJEwj6AnIGFgFPAN8F1ASoA2QAywC5AGcA1gbH/nr2wvz8+eDz3/WG9oPvH+/Y8dro6udq54Xj0uz18FbzdPZp8lPs1OkN9CvwnOmg8EzlHeE06u/rje1H7GjrN+cv5b/lLt1D29jgJeOR4cLfJOa56Rzq1+u+5Rfr7PM57DLlpeFi49PnnehR6dzun/cP8zDxzfjM8HfrEfer/fL99fzO+yn94PY09Ln58/aW9rn7Gv5v/ZL5yvZ3+TcEngUTA+8OIA1nBxEI2v2QANv///Vx/B0A4AEbB2UGcwQ6DOARYAo3FF4aCA4vFlAZkQ4kF9ki8xlSFcocqxVJE7AVNAyYC50OUQ+FD04I5AWiCxENcAyaC8MIRQ5lFXUPPgdsB50GIAwzFj0NKwqDEPQSQiDSI0wf0h1ZFsEXOxwiFMYJBwYECUUKEQgnBBECmQlSCFYHjQ1hB4QOChPHCPgQ2BW6EecXeBxhFHMQvRb4EmALPgYI/Mj+3QnUBPoAbwHQAcgKogzDCaQCivs6A2sKUwc0/4r/fP3a9rD/QAT8BV8LigonClUDOv99AHX9+vur+Fb7AftW9CH3LvBw6w/0uPX+9Yf0UPcu/GX7QQIHA9T6efhf91f92QSS/0P/6QFo+8r2Eu4y7brz/PFN9332Bu/s8JfzmPWj9Or21fdO81v0Eu5y7VD1lPDu9p4AIv+KAhcDOwUhBB761vyJAPP49fYh/bsByv4A/CX8UvhR+8/8XfmXAf8GJgayA8gICBGbBIMEiAtwAlkJnQ4eBt8CjgEF/+H8qQAw/QL11vz+AJT+qgBHATcHtwVyAzoJzAVgDL0R2Qg6CfAOChFbDiQQ4A/FDA8TbQpg/joGxgOt+joAcQHZ+i73R/h++OH5OACV+6P9PAhsB/EIRgVu/kT9HwLbDAMMrQzbDiwL0xBGEtgKwwF5/YD7XvbJ+Yn8Qf7jAVT9RfeM9eb5gfxz/Jz6S/aa9RT0Pfcw9LzqN/Gm9ZvxPPN28GPq2u0B6vvhXegS5w7dy96C4ojd0d0s49/k7ecd5Pfk7+ro4grj6OTI2GPY49+P4pbpiO+/7NTpZu7i7x7oeOfT5m3i9eeE5l3jluoP7tLs5eWd4z7vnfSF9NH9Bf5B8Zr39gThAJ4CpAVGAfoGAQ4oDLoDKAI1Ayb+gwXJAjT0SPo8AHn+sQB3BU0KcQ01DWkFoQevEMULXAxfEcAIdwsrGIYWNBWAGPcU+A+0EiITng0hEXULGwHTB9AI7AeaCi8KtA4oD2IPUhE0D9AQixRdFIgPzQ2yDz4S6BeYFzkU6hbMEYcF4AVuBR37Y/3gAJz6MP62BIkFSwuVEgwNLQT1DKERtQdIDQ8SrgQTA1wMDQwHCOoKsQrcBAYJSgt2BkwEY/2++Wv6Jvc29Pf3eQPVBFX/OwNBB5YGdwbiB34Gdf5I+rv+rwFqBLEGnwpjDXMGOwRDAg394P4I/M74pPrG/CkBa/1c+vIAHwCqABQBlPw+BDAJVAbhBQAG0AJN/i7/Df55/RP+gQAhATn7ev4m/S31/fOJ8snyU/De7rL1M/rJ+Qr7rfwp+X/4s/3H+oP3Ivx3+zr7RgGGA3wEXgibBygC7/vl+IX2fO5l7Nrvy++n8AH1EvMO8Yf7OP22/qYDmfqn+44D/gEm/jMAdQNwAzUKAAnaAh0JTQugBR4DTwPBAFb6M/uoAbIAngOrCx8Ojw7ODgcJQwDDBQUMVAiDCbMKMAiwBlQLpg31CL0MUA6KCtoNRAqMABsCnQqoAbv3qgV7BfcA2ArlA24CigxoCgYH3QjkB4kChAHm/cL6FgJUA8MFDQlw/xYEoQfo+W79Kf+g+KL9mP62+Rr60f47+dD4zf+38iLw5fuR87XuDfdd9+X2G/mG9031V/mO/yD8S/yL+w7vZu7P8HXq9unO683pcev38EzxqPGU8RnxhfNX8pj1I/NH7Wj0Z/S69dH4nfDh9C79Gvyg+PL05fNi79jxTPb1777wie7N6yf39Pjv8fXwYPbw9SHwbPcc+JfzXPkN9jr26P/DA58B5f6SA5ICZADBAcv3JfjP/bbzgu4e9Rz6ivmh+or4PPj5AUkGjgccBBsEwQqvBSMImQzzC58TFxD/CUELvQiUCKoDjQKdDKUIjwRcBnD/5gW1Dr4ISgfSCvEJPQo6DKcGBgUKB5cGrwhBB/EQNxVEDngYvRYND9wYzRgTDL4GKQiv/qv/Gg1zBg0HYA7HCKoJxwtWCsYJjRA6FnEPSA8YEEMKMgzAD1MK2gfTDRQJ5ATJC5QH/wFzAwwB0/5F/28BjQGr/wUCqwK7ADYC3wDpAVcEqwPlBGf/cf8xAw0DTwvMDLgK0AmzCCoLcAUrAd77zPVK+d/6//Z87RDumvPc8fz3ePEn6Ijwje9x9IL7YfIA8qTxGPOT+qP6EwDa+z/y6Pj2+gv6bvkz8RjzsP37/X37YwLBBNAAsgCq/FD96gPd/5n6cPrw+GD5uf6zAxoF3Ac1CKIFhwcJBfz+cAGx/zz4KfpM9vTv8/il+HPzmv08/+H8zgOkAQD8qQKNBw0BaAQsB9D/9QhUCwQA8QUNCvwH8wtLBg4AfgBmATgG+QR4AkkDxAPgCM0I+AVeBTQFJwSQ/p0B5ASI+wP6sf9Y/k0CswbhA2IHdAqzBiECzQMJBCP+z/zD+6P7uvy3/pr+QfqT+9f/cAOwAooD4AL0/BsEFATh/JgHZwgR/FD9B/+N++H8Ffr49ev18PrN/U38k/x09nb7SwKd+cX/XgKs8mb6hAhMAff9uPuF9379ZwHS+yf7cgLn/8QABgSI+5j6Q/V37HvwvfDU8On1ePOp7hn1Wfgb8034O/mx9N35Z/kF+5MDDP0h+eQDhfwB8pn5LPmf9hr0XetN66zxZPWm8cbxMPb/9aP7EAHC/G/6MQC6A/7/gPim8gjxEPPa+i/+2vq+/1oH9AKa/c//uf8vB44Jovrt9IzzHfdGAFABNP5n9h36ZACL+6v8C/3s+UT9wgOi/nr5jAPFAnr5JP0x/bv3Y/z++6fyjfOA+U72kfT8+zP9oP8tAlAARgjdBc4FvAusADgA9gLhAUQG/wQSBjEG+gv8EPwKbRKTFsMNuQkrCEcMjA2zCmoNkwpLBXUDhQMKAwX/LAIn/yr+twXp/JcEHxFRCRsLDAkDBdIJuAvRCPgCuQSTCLIE6Pq59v38OwBKAj8EggWHDgcTKA6JClkD8gCsCBAJkgnHDeQJBwvVDrIKmwqpCgEIxgryDNYJXQY0B5ICM/zJA1EHngHn/jX/+QQaB+EDygCw/PD96gNX/+v7cQVkAyYCdgsXBuH/rQTi/Wf21v+O+X7uG/vF9d3odPjO/wr7mgBAAjb/3gKuAZD2ePeo/Er6v/tj+Vb5E/93/df5VAA2BBH9IgQ9BbL4GP8OACL0g/QG/DD3+fFDAPcDlP2XAMP5M/j5/db4HP3sAWgBCghAA9r7QQLbCeUNPAokAQT+0/1Y/oL5mfZvAhEHTgUPBJ8AfQgWDgMOtQvaCH0NGQ04D2EOYgpdDuAMzg4JEK0M/Q1wDWgLvgqXB1oAFfsq/A8FzwIw9HzzXvZW+t0Av/+W+0Xz4/bJ+3v5Gwa7CboLQhGdBqMKbQ4xCKQOswbm+Yv7Ivmo9YP5mvwl94T2nP1k/fL/TwcvBPsDEwdaA/cE7gCr/uwF/gMVBc4FkgjBDowC8/2uCAAE4PwtBHj/Nfho/wj9Ffo2/Dn99/vn9YT1Xvbd+fL5UPPS9Sn6JfyW/5kEtQVqAQQDzgOI//398/t899D21/Z69aj0iPD49Uj4IfbLAFr6MPZD/5H8Afju8rv48fhw9vD+vvSY8u73E/VZ/lT6vPHk+F37ovsh9zbyO/Qh8YD07PPn8vj6efYo+In5//Er8rT3FPy39V/3IP7b+aj5B/4/APMAwfy69Yr2TPZl9BL55Pyk/fn5k/qu/NMCXglMATUH8ga//KYIgAUM/rkCtgOqBSEFKgcWB1kHAAeo/WX+/AXBARoCtQZX/wYB6gUGA1sGJgkKDKkMngepB5AJDgZNBQoPOhIACygLsAq3CA0MYQgzA00Hqgff/Qj+ZwEi96L21P2q96Dy9vRR8vf4BQDJ9EX5jwNi/uD+c/8a/ej/iQUjAjf9zAC2+5f9EgD1+BgDiQTC/V/8u/V4+j/8RvsH/1r+Ov9+/VcBXv8o9ez14PUQ90H6h/u+/Wz9BgEA/Zf2P/5O9+Pw0vuP+Db1OfMS7MnuF/Jk98b8e/ta+0j+NfjW9LT9tfr6/EX+DfWOAMIALvqcB4AH+gOKCvwEEP3MAu0Cof57ApH71vdD/+38hP4NBaQBTwK1BeD5Mfdh/nz4/AGXByr4PwDgBnH/QwYPByoGCQ+uC1P9A/ubA4P76PhDBef6k/odBaT/WQUzC3AGRAD6//MIPQlgCDQODgmcBDkIBQVz/9ABBwkqBaj8XAI6Bc39IwDLAcn8fALYBqMBmAOPBpYA0gNXBzUEgAcWBFcIHAoc/2QDhwPACGQPqQfwCYcJzAblA4cASgHH/fMB5wHp+vr+9vxK++EFJgYoAg0EvQdyB/kC0QfmBfYCpgiRBY4GFgefA40EGwb0BzMEFQN0BPb+tvld/TIAhftSAS8FRP7pATP/1/RF+cH47PVw+lr5fP12AaEBmwOSAdX+RABMAwP9qwKOA93xo/85ASbxZADhArb8OAiGCzkCsASEDCoEsgRPDMAH0AgACyEI/ArgDRII7QP9CAIGHgSdCFz9EPx6AWX4Ifzw/jD7ZgIEA4wD8AJK+Jz6f/2N9+/3mvkW+qD6dgBFAVUCBQsjANb9NwZnAnkDU/xf/nYC6/Tz9dj2iPFG+fr7kPPi+pMFT/uq+eT/sPtaAI0FLPx/+74GewoVCOkKcguyAI8DLAkwAl0ChgHy/b/41PwcAtX9CwbPBbj/FwKVApQC0P3s/1ACKgLHBXD/IQJrCioFwQjlBx8AeAcd/QL3Ywf6BfkDXgES/xMBI/oS//sAH/z6/xwCWf1j+478qvsc/y3+6gSVA2D8aAiw/8r5ewSj+qr0lP5v/JX2E/089qPv7vqw/r37jP4l/275xP85BVX3HPLK/SQASgC2Bv39TwMnDWEA2AW5CqoEzAfDBH0AOv4P/zQCxPpe+e78hfmP/of8tvlQAYr+iPj19rD7t/qq+zMFjQB2AhMHYQO4BHAADf6v/j/+FAAw/W75nfco9mj7Yf6O/IP80/UP/ZsAPfQcArMETPnkA/MCCvzaAkIDUAOODYQGa/6HAwb2xvQsBDP7jPgI/nDyPfWu/Aj5Dv1+/o76ffp3/9n9qfqR/1X84Ptu/o39cgTQCCcHSwJXBEMFcf8rAZL6rvjy+n325P0u+q34wgBl/EIFKQSu+twKcQdmA8YO9/yW+kMAjvJy/qMGbQHgBOr9Ef0QAab84/4lAdQA/v8K/Qv/OP55AHUJbgMC//IBkf4cA/AGnAdHCn4CtfyWAQ8C+QSzC0oJYARU/bP7PwCHA9YGlgKIA7kCSP3gAKb76/lUAigGIQiaCKMGRgIDCCcK4QCsCsgQnQK/CIcSoQLHBuYRCv4QAKsFjfXH/lD9cfbSBAr/YP3AAgD7nPd9/FP9wvam/IL6o/aEAZD8mfeNA7MEWfkRBToGw/Uf/4/7W/fX/yv4a/e89iLwDfS/9r3zqPuQA/H8R/te///9pfwVACADjwA7/+P6xvicArz8qPx9CLf/hwIDAmX6vPxg9mP8IP2+9uf6QPnZ+PP1efd2/iD/5gBvAbIBbv5U+zr9fffG+SMFmgJzAeQB+/ycBFUIUQC1Aw0Fjf3EAM0COAHpAbL9Sv7HAWoBQASABYL99wDYCE7/IwWYCbn8DAI//8j4VwF8/ZT5ffp6+Rn5MfiJ+WvzLvWc/9n+6fpX+n77dPd3+7b7CvXC/pD4P/P1AnwDsgDYBH4EEgXnBQIBzf8rAhz+cQHdBt0AjQNhCFAD7AjnCJn9jQo3EMv9BAWBDGz96gRLCW/6ywfmC2X5XQY0B7L4cwloBav4ZwCi9qXvz/Zk+zD6Fv3/Bqr+4PtiCvYAIfraBvwAxACHCdsDRwM2B0EIRwJ0Ac0Ah//8B3f+oPwXAuz2H/O59Sb9hfjw8df3TO937JHxq+5k9Xn7xQDmEAMT+A/BFAEPlgr3CCQCNwQaEdgTkAt1DTAHLQDvB2n88fuQCjAD+gUGDU4BlAHrCxL+jQISDWvvBfe3AjTyHgRUC1cFeA2uDdgI/wmhBBvv7em55kvcvexp8FXpyvZg87bqqOkd3m7aX+Hc6YT9vhGFE2sXoBg9BR0DxAcaAUgQpxtUFewYCBaHBy8DlwSF+EfwEPPu7ffzjfpJ9qTzS+6373vs4uql63Xd+dwc6TjsjfJk/uUAcgIxAoH33PT/8kbmlNb+zV3OvdC32Xnc69nn1VXOas9+xqrCSs802jLrpvWH/vgBF/ei8u3nLOXC8DD8OxAtEfML6wpq/Pz+UQRa/tn/7QOQDikWohhvJKsqxh/EDc/50+M75bHyj+71+SgMGBSRIRUfsBYTHL4dOiFNKHgbnRV8H7AYtSJsKFUgVC80DdTcVuijApIg4jJYPY1VNVhfT2hS0EpvQGc9jzn/M7Q6yz8kItMS+Q+T+FT3of6hA7USHx2sDhv7axbZNMgvjCiUJmIhoxB2AbH5GuJjyrLN59kz277YndjQ1dbakuJj5Uz33vgZ4b7obA5RKPsodCF+H2QWawyBATff2dA88ZsH5P9I+0wBI/sT6W/U2NUm9+UTWy/NPdkvJiNrJGYtNSiGDTbrruiyA3IW1yVHKjosrikBFYoHCvul76r/EBpGIdkjdyYiH8ccZhkVDwYIyfwf6BzhC+5C8nrmqdGZwM+3xqrLooKh06VDsz21X7sD1VXnPu+56pXYE8WNv8XTUuQ86dD75hVPHp8HCurH4cHqmPUBCH0g/yKdHDwfuhgOFLoceBD/7y7c3MDDqHW+mto07jkBMOtEz2XLU8MxwX7LMNQl1BfUytDezJPQMNb/16vOF8yhyarCltg4/YwUfiwZQMFBTz/EKqwP+QKN/ysLmwTNA2AiQS1pK2EfTwndEbYliSavKXExUjItOZk/7D1EOvksfyF7HKcMlPlz80/uOt6n45T4AfP/5CXjt+XQ4WrjVfHk7U/lDe+g/ckHAwUF8ivj5uTG4DHW+9YZ0ADL5u4YKIJGFkVqNJMWpf3Q/XcLcRkkGosRcxPLEAr+x/GVAQUblQ7g6iPoiPk0BJUMuQwmBjzx2dMvy5bIvLl7tgjGmtUd40HoHuNS48nm+uZi6bTs9umV5t/kC+psBiQhKxgcACLt6+Rn50LnM/FwAcEOpCIXKj4uszmJITH4Ivd0/Cn8BRURKpgt2SuxKUoeQBWkGPgT/xO7DhwNOSGELsBC4VbdUZw/tCxlHkoNjAUpHSo8wEL5O00y8SbsHgEdQBweFD8ScxWLCxD41+978zHuwOcP55zkWtwt0GHZWvKTAeEJwwrSEF0eVxSe8BDZUd7j47flMeo89ukMMgJh6nDuxvmFBDoGJQlzEIAMOgniDuQS5Qdo+4b9oAOM/6fsneCR6QH7cBAFGpog7SqZHcoeiDZyQK1C3DUXKPUmhSGGFtENjAP4/pgK2/x32wveq+kO3cTpIwss/h3tTfod+9nsW+y3/gEP7x9GFvrzuu48/gwSOSFaI9Mbjh0wJ0EmHCneHtUVUSjmIk0Ed/ot8vbjifnjCWP8zwXgCKvsoNoz3MjdrOAt7Ob0v/qs79DPLMCmv225cLpByBrV8toa1x/djvwVE64Ksfmd99LyD+Vt7Jz8EwU9D5UZqx3+EAj1Muf2/WATlwCy7YD0uvMc4ePPN9P34rbnhuHh2yHZHNFu0X3etuLB6qcBnA4uAwT10fHe9T4BRf5q9tD6gO1k2t7ZMd+m5TPvN/mw9hTsnuf533nZaNi62u/xYQrbGVgrXRuhA2MDbvjK7EfnS+Vl8rv7xf0HCE8SWQqfAQ0MUhH6F9ktzTjnPoFFVDwTMQwftPlf2aPDLsZr5+rtrtUo0EDZadQdx13GO8vY0VnPIrtJv8nRgdAq1hnYo9Xz4VvZ0b0kromvk7t2xxTRitRS007Mw8QGzHzXCNxI2t7bPeT/7ID7Www3H3EogyfCJmQMH+qC4hXq7fMo+Mn5qATnEgMTPwn+Arv7Of1/EdEe6SQ/OSlE7j52RYZIwTrQOoREwTxZL30n/h1pEcMFc/ZT4NrJ27qWzB3oLOEf3+rwhQEFFCYZ7Aqs7xDkRP6mFJ0Wch3OJtIjMBotGN4W5xXgHeInozEqMfAmRSaMIWQKPfBi2FPTre37/I3ytvB4/OMHYQ/NCR3yF+Dn2n/ZZteqydHH+tHCzyLSnc+GxurLPNW14CzjJNiA1lzXk9NE12TdUePc9F4HBw5qFlIeICCUJIgrOCylHpMTrQ4HBt0Ba//g/azvX+HO+ecUnxO0FXUoHDLuKL4XYfy/9BYIVw2gCsoNTxK4G4olgyMPGAITxQJz6v/snPPU66jm8ebX6lrzkf5MCSkRmQz6Cd0W1iG2MudDIjMDF38RSg0iBfQK0hQmIro1PEOoUIZa51pcWWxWnkY4Jp8f9TEXOqk4Hi0YNCpK6ky6OpoN0O4a9tHqNdW83Bfm1ecO7eLrP+Lr1arflgHAC3D7PfdO9KPi794F4jLRSMuw2yzktOkc/hoakSVlIH4qKTQmJmAaGRpsG84YoxodJwg4DUR3PSs0MDQ9PipQYFEVPkktny0pKP4ZLBVfFKwh1y0PJngXOwIZ+S78Ou/y3KvX4+MB7R3v2/jg88P0bxBmG04QlAuZC8MErPkp8pvwe/l6B6oDzADtC0AR9xqYH10k/TS+O4Y1vxpWA+D/mPtjCkMc1xYeFNgV8RGrC9sN7AMl6FLltefP2aPI5L/ywRa+xsfY0O/K4MeCuLmyYrfKtmi7zb9czf3IpLkmuoi2vsbKz8DXT/tzATsQYiytK+ImEhccD6EOQAZRCUQVVzEGQL4vUikSMK40OyslGEEODASnAMcQth80J2Mkch5pIq8j1BsSArbfqcf/wEfGFcPCzpLkW9F4ppaV9JoXqM7CRNkm7hYCmgc/ChQEyALJ/4Tvy/Hs9jT1AwGRFYocew1V84XGHaE/senTDc8bxmvixPRo/OYDC+nLzxHERq6CoACu5skWy1jCr7a3n1Ofm6h8u7jP8s/h1Drg8OjF5KPjMumX2i3PzNOC1tvizAJsDf8G/hsmKPQmJTtSMtESMhYRGHcStxgfF/gUnRJi/oXt9QTAF3YGH/eV2EWyS68nvTzHUc9d2LLZT93z8PH5T/uI7/nRqcZDzS/ch91R2QviVdjF3kwDUhjaJKQfVwwQDI8N/QkXEeoZABQuB8cBSvqO9Uv/ZAcgCgkNTv+h7xr6jQBc8ZjuX/DC2LTOC96g2vXT39xs1APDi8YZx8y/58Jfx93Q9eNG8lb0yvW/+rT2nO7W64fpZ+eo7WXzUuxl7uz+8x17R4xOez9vNP8m0h5bJKk8aUI5PJBGjUFaM2Ur8SjAHwMZ0ysYOyJQLF/uReolignq9rf2DAU9GyAYgg1sGPscBBNECDX+depS3dThPd+I640EVRJmIeApDju7Tr9OTkxrS0dSOlmaX6ptFXaUff9/rHjxcQ5u12e4WtBS/lNYT9ZDJj/nPYA8OTanHJgMmBJVDBYCrgfeAK/l8+Gl5+TU/s4m3LrmrO929HDuDOHl5GLtMuyq9D34afDa7Cny7f1gCkwdXDHxN4oxMiZwGu4RlAzfAp0BOQukEmsfKikDJvkkaCr3JX4gLSG8ErASQyAGD8QEVQQm6CbgnPQK5wzHjcJ3wRK/ctnp92EBZP/2+BH4g/o1+/gDPguBDiggmyLFF1kiZiWdK1wzKyCBEUAF6QfsJFQ0Nzc2Pu4/oy01IigeEgHj/BUYjxm4CJ8EAwUc9+H9tQBS353Ywc8jr3Oxp8MhxJXCxcouxjnCV895xhO/zsc5wZfM+d+X29jkcfIr7k317/t+8VL7yRS3G+QbUROI+KTosfBHAm0QFg+7BmwK/w3gDvQTmgzqCfMRuQYm+tT5NOpK1FzUOOA061z5lgDY/GbxZttj16Xj4NkP0ezZD+Fy5Zrq9ez16S7xLv7dAdIGXQx7GmUzXUH1SEFN7UUMPjw+HT02MZUj/RhuFjAbgwt49t/xtfC/8jvuiOGszpS+IbeyscbDyc6jxATDwLQupCeio6fhrGytg7qCxIfCbcRAxDnEz8qM1w/iMOO04kjkZu2P+7UMAiZcL9YnQR6ACZn2UfBw9ZMCdww3DyoSZRd5EVoLigYs9qPzt/L24YLkWOXJz4XGGcZywbbFG9e/3K/T4s/m0KLh//Eo89v5iv0m9lLrb+1//7MSKihlNPg1NzquQ51PC1NpUS9KwT3OPZ9EKk0eV9xVdU34RXI5aBnZBX8SGw+NC0sjXywPEqb/bQBZ7Z7npOo51IjOKtHHySHLIdZa3tHga+jM4G3RAtLDzDvOLNoI4szyrAR+EdsM2fwk9mf3yAqCGnoq/TtiKB0ZGBw/Fg8bDCulLTAkdylOKHUeOyK6FIEEVwcFCP7+GvTP6q3S+MVA2d3jTuhf9HTzmu7U7ivqVuxF9LrsJOx+/Sn/1/uu+5T45P6XAdMGTxFLGC4fkiA6L3k/CDwAPIdCNEWlQ55FpUUSPCs5ZjgeLKgecRvTG+4bCB9TEt/44Oxl5NfcVugX9JjpEdZgw4SxSaW/nq6lVbi1w9nQfdwg29re5t3O1bfRpcxHxTfAL8sX0lHdWvWw/e0QehxRE94Ref2l3mTP/tZ69oASYiWnMP4iFwa07djebd3H6nX6T/gC998CawRuCGAJ/vu09RXx1vQJ/Fn8rv1U+cD+PgMG+n/xaOKm2Vnb/eRR/swTriK3LlwwhzP8Ng8xdi+uM2I17zaZOtk7kziaPfo6VSvbH5QKEPv4+gYBWw8XGTgk5yeBHW8TWwQO9gHwMu3V4EvUYNbA1K/OF87K0GLRDtBq0LDL1cTHv2DBsszc1eThi+5s61Hhzde6zqnQhOMZ+OkBUgUX+m3umfBx55TgC+X548DwnQPTAmn5k/RH7cXfQ9uy2nHTa9EAz+/Lydce4wvmB+1b6QzZUtDAy8PMHdwM6ejqL+/i9yr7K/y+/dD4Df2oCTkIkAqPFnUdvya4M4Y8U0CIP3M0aC1QMm45c0qnUwNTbVXjSEk7TDgkN9M1oDPDMegeww7aDzsE6QgvEXf2feL21wPNKNCX4Rjtxeys/5EJiwRBDCD9Uebl5e7jaOYr/JINchDfG/4fdRZ/J8QvPx/LIvYZDQhbDIEQEhlGKG8xPip6HPAP3fXS5vjnk+XM6hf1V/4zB/UHkv809JfrIeHJ1SDXA9422w3a+uBu4/Xhcd8z3M7aAdld1FDScuAk9cEBdQpvFEAdBR6wJw00SDabQyFJo0fSUCRPgE+EVaxPdkaVQzM/riqbIPIoqCsrM3o2GiMqA33pvdsA2Hnp/vUU49fV1tnR0q/O198/5gjd8Nxp0ofK/Nka2yjU0tr75UbtfecO4dnfyeF47YwDtBsoH7IdQx+3COH3MPnl/ToNbRUNG4Il0iiII7cSWAYQ+J7s5faj9gj4fQYGAM7y5/Fd85LsReva58DOgMckzsfKW9bv5JHs2fjrAUf9Oetu4pvoq/MyBewNrwy/DsYVLyPXKLInQCcTIW8gPCUuLNQ4P0EHRzBHST5CMgUggxd3GwYh+SQ/GMoTqxZ9B/IHQQs/+YrowN0u2rHe+unU8Nnw+vRH707m0eKU00bGnMcp1tbxwQATAG8B4QTaDPQTyRYIFgoTWQ84BkACvQZVDzQdwB9kEloJ8QK88UfpSe1o7F38oBbqHfsgTR+GCc7wi+uy7qLxp/wu/7P1XPIP8VbvFvi2+6bxh+8s637lLu3a7KjvPgRtELsKMQOx/vrv9PBDBVUIGxryLqEm4iUIJG8eIB7zHQUhoQ8O+nv2YflQ/JT5JP1J+w3uF+Yu3brXWc8DxxLNJ9JK0tTX5eBe3j3YZtqb2DHbZeWm6Q7r+emn5Oju3giNDckFTghuAt0BbxSrIVwo6igSIfQaUg51BdYOcxwMHwAdMSV8JkwpjTHlJX4c9htUHZoi1ia/KO4c8xYKHPYbGiKgIPYP///19o35jQhvIK0uJDPDNSop2iGhJuwbvhPQFhQX0yrzRJdHokdNTSpO90tvTRpLCkDcPYxCWUWnRv9IT0uuQP4wBCE9DqkGcAxfFLgPygTXAk4CvQBa/631SuVK0/zCfsBPyD3PbdL30MzSXtBSzTfQd8gJxKTHpNPO7rj+GQIHA2gCuAAcAIMGKgNnAAMFiALYCQIS5hQlICAjOBt/GIIcHRTvBQINoBPnGKcrdSx+HFoK1PJJ4KPZuOG38DoCmAUU9ADysfTk8Er6HQHIAfQBj/qV6cfi+ux37PXyCgc3BoD68/Yo++r/RQfDF6corTWFOBQxFygFIigh2x5BHr4aCRLZF8kjGiKWE7sFCPz98D3nCeLy5LLjtdyU2hnZmNjB2wzeoc80vWG7m7l5t6i/V8dayy3X0+Cv52LyNOu+3gbhVeZC56voVu4K8/H2IvEa5svpqPAR8If0z/xOAdQJow0sB6wH3QezAAYCYwvvD4QS+BgRFdAHfQh5DeoH/gfBCgUDBgKgCd8M+BOnF64Sng/WBo34ye/p6tbiduLN9bgE1gXJDZUYLCBVJiUhlhbeFYMcph2dHaMmPSnOIkgdvA94/5n4v/Mf7Kbo3+Yx5h3xJviz7k/qwefe0G+9pb4Cuwy8AM2V1jba7dtFzzfALb9ovZa7fcPryfzWjuPR32TcJ9wb2fHRMcrtxpjHzdHa2YPd4Oi27zH0Kv2+/xz+2/ml7fbebdlY4Pfr8/cRAjsI7QPO8vnlI99c3Iflse7l8qn3NPzv+rT3NQHlBun9wfha+Dr7iAZoDUsJxwzbFlQediYZKeUpSywtMCM3jz4JRf5El0cCR2I5yzBmKGAglyHCIxYqIi2aLhQ3ODgtMDIf2xJ7DCgDcAiYCLEBx/9U9UHuheuc6KrjieG64YLcj+Ev6FbqM/K8+2n/xf4fA00Bnf00ARcDvAhEE8kZDhuEH7UcTw8LENQW3heRG/seoyPyJ6MmQCGfGLUPVgS6+Hj5zwb6FTQanBY3GUUW8Q/PEX4NgAioAcP39v+dCecE1gDtBPoGV/wF87/ql+EM6PzwT/y/DVUW9SDxJscdvRXVFboZThppIlItdC2ANZ88fjUoKr4axxJuEsEP7BUVIDEhURbWBAYAhv1X92vwe9vwzjDOr8tK0HHeQuxT7rrype6i2czKm77St/C/stKJ3Xje9eSd5c/iteEj2BLV0d/r4sPjgfAL+fIBMhCrElIPuArI/gL1MfNM9Az60gS1DMINKgt2C0ELswVm/xz80wHIB1YIWw2uDcEGzQDf99nsj+jy6abpr+0P9OH2av4FBR0I4w/AFr8W9BKqElUX3BxNI9goZSy8L9IwUi0HIzoaExxCH10k3yopJ6wmuioCJFMhPyF3EWQAXf92Aiz8+QSYE7oDz/bc8unftdng4+Di8eH580X2Ter37VbkvdIqzvbJE8ul1h/fR92y3wXi5eGI7hL1nfbT/cHyqeLO5Hvp4erX8Zn1qPDn8mfzy95tzDHO4da93Vrh9+kD90j7bfyY+q7uFOY36fPtb+9c+AoFfwixCukM/ApcCwQI7Pva8V3z6vuoBOwVwSXDJeAhORtuErMKowjFD7ISPBndKTk4b0AmROZFZz66MBAmUR36HGEeTB3SJJsmBR0zFD0PmAZr8dzuYfZk7ML06fxu84T5gv/M9/b3DP0M7bjfvOYa4QXg+fIi/OIB6AimAGz4I/k/9UTz4v6tC7sSkB5EHygPCgMX9UvquPCI+Xz9GgSyBzcAF/+4ClEQuRLKEFYEW/3A+Vf33/sq90/vjfVM+uvx++hS6HfkV9/J54vwv/lXCmcNKQbEA/T/7PsRBOYNehDbGjAkoyTWJhkq7izHK4goSCn+K6otazGxNZI02jIALZQjjBbhARv+VQbqAe75I/ns/7gACgP7DZEDiPQ68qvfWtEn3FHdB9cp5hzwAuP13DHXt8M+wvnRfteP3brp1PI1AIwK5wa9A4sC9vus/AEAT/wp/woEgQfRFOMd8xZJDWwHTPxk8o370gg9DIAWER4wFIoLxgAA7LLgWN974AfnzvCG9R32gPwC/pb8vv8s9V/nkuXU5WvpN/Rz+z7+8Qa6BCX6ZPub99LyV/Y7/PsNciGAKbkupDWdMCsm8icUJKgduh5mIE8myCasKmkx9CpyHT4NUAo5A6z5tQsKDJb9LP+v7hLZXttU2bLG5MfO07fNwtVp31DR3NfN69PqhOz38HfkUdta3tXaMd8/8ZfxEvPq+hnnWtpB4/HgYeHp8Bz9DQTPEF8UOwrABuUATvdc9271/PAT9h39+PvP/Mj/zvhT8u7w5e8v8ejxHPVQ/XMEywCZ9DPqEd8p1EvRT9ch3+/qIvv3BNkKgg05EvUc7x9MGykXwRdVHv8oPzEFMZgyQjRzKjQZuAopBGwA3gknIVcpISA=\" type=\"audio/wav\" />\n",
              "                    Your browser does not support the audio element.\n",
              "                </audio>\n",
              "              "
            ]
          },
          "metadata": {},
          "execution_count": 68
        }
      ]
    },
    {
      "cell_type": "code",
      "metadata": {
        "colab": {
          "base_uri": "https://localhost:8080/"
        },
        "id": "OWi-sdDrBKKO",
        "outputId": "e2aae64d-7bdf-4a43-a5ff-daf1d0c2339a"
      },
      "source": [
        "# Trim leading and trailing silence from an audio signal (silence before and after the actual audio)\n",
        "y, _ = librosa.effects.trim(y)\n",
        "\n",
        "# the result is an numpy ndarray\n",
        "print('Audio File:', y, '\\n')\n",
        "print('Audio File shape:', np.shape(y))"
      ],
      "execution_count": null,
      "outputs": [
        {
          "output_type": "stream",
          "name": "stdout",
          "text": [
            "Audio File: [-0.04443359  0.04275513  0.03225708 ...  0.2293396   0.28598022\n",
            "  0.22225952] \n",
            "\n",
            "Audio File shape: (66150,)\n"
          ]
        }
      ]
    },
    {
      "cell_type": "markdown",
      "metadata": {
        "id": "EfUHwpygX-ee"
      },
      "source": [
        "### mel-png-file\n",
        "\n",
        "1.   use log-melspectrogram\n",
        "2.   min-max scale to fit inside 8-bit range\n",
        "3.   save as png file\n",
        "4.   creating new folders and save them into different genre folders with gnere lable \n",
        "\n"
      ]
    },
    {
      "cell_type": "code",
      "metadata": {
        "colab": {
          "base_uri": "https://localhost:8080/"
        },
        "id": "xJ6K8Do3nDAv",
        "outputId": "0e1dec4e-14a2-4357-c8f9-41fffd153e63"
      },
      "source": [
        "def scale_minmax(X, min=0.0, max=1.0):\n",
        "    X_std = (X - X.min()) / (X.max() - X.min())\n",
        "    X_scaled = X_std * (max - min) + min\n",
        "    return X_scaled\n",
        "\n",
        "def spectrogram_image(y, sr, out, hop_length, n_mels):\n",
        "    # use log-melspectrogram\n",
        "    mels = librosa.feature.melspectrogram(y=y, sr=sr, n_mels=n_mels,n_fft=hop_length*2, hop_length=hop_length)\n",
        "    mels = numpy.log(mels + 1e-9) # add small number to avoid log(0)\n",
        "    # min-max scale to fit inside 8-bit range\n",
        "    img = scale_minmax(mels, 0, 255).astype(numpy.uint8)\n",
        "    img = numpy.flip(img, axis=0) # put low frequencies at the bottom in image\n",
        "    img = 255-img # invert. make black==more energy\n",
        "    # save as PNG\n",
        "    skimage.io.imsave(out, img)\n",
        "\n",
        "if __name__ == '__main__':\n",
        "    # settings\n",
        "    hop_length = 512 # number of samples per time-step in spectrogram\n",
        "    n_mels = 128 # number of bins in spectrogram. Height of image\n",
        "    time_steps = 384 # number of time-steps. Width of image\n",
        "   \n",
        "    A=[]\n",
        "\n",
        "    source_path='/content/drive/MyDrive/Dataset/Music-genre-classification/test/audio/'\n",
        "    target_path='/content/drive/MyDrive/Dataset/Music-genre-classification/test/mel_image/'\n",
        "    \n",
        "  \n",
        "    if not os.path.exists(target_path):\n",
        "        os.makedirs(target_path)\n",
        "    if os.path.exists(source_path):\n",
        "        B=[]\n",
        "        B=os.listdir(source_path) \n",
        "        pathAudio=source_path\n",
        "        files = librosa.util.find_files(pathAudio, ext=['wav']) \n",
        "        files = np.asarray(files)\n",
        "        code = 0;\n",
        "        for x in files: \n",
        "          y, sr = librosa.load(x)\n",
        "          # Trim leading and trailing silence from an audio signal (silence before and after the actual audio)\n",
        "          y, _ = librosa.effects.trim(y)\n",
        "          audio_name = B[code]\n",
        "          genre = audio_name.split(\".\")[0]\n",
        "          audio = audio_name.split(\".\")[0] + '.' + audio_name.split(\".\")[1]\n",
        "          out = target_path+audio+'.png'\n",
        "          code = code+1;\n",
        "          # extract a fixed length window\n",
        "          start_sample = 0 # starting at beginning\n",
        "          length_samples = time_steps*hop_length\n",
        "          window = y[start_sample:start_sample+length_samples]\n",
        "          #convert to PNG\n",
        "          spectrogram_image(window, sr=sr, out=out, hop_length=hop_length, n_mels=n_mels)\n",
        "          print('wrote file', out)\n",
        "\n",
        "    print('CREATEING DATASET FINISHED!')\n",
        "\n",
        "\n"
      ],
      "execution_count": null,
      "outputs": [
        {
          "output_type": "stream",
          "name": "stdout",
          "text": [
            "wrote file /content/drive/MyDrive/Dataset/Music-genre-classification/test/mel_image/3s.wav.png\n",
            "CREATEING DATASET FINISHED!\n"
          ]
        }
      ]
    },
    {
      "cell_type": "markdown",
      "metadata": {
        "id": "7RwUCPNuguHS"
      },
      "source": [
        "###csv audio feature file\n",
        "These files contains the mean and variance for each audio file fo the features analysed above.I take the value of these features and save them into csv file song by song:\n",
        "\n",
        "\n",
        "---\n",
        "\n",
        "\n",
        "\n",
        "*   audio name\n",
        "*   genre\n",
        "*   length\n",
        "*   tempo\n",
        "*   chroma_stft_mean\n",
        "*   spectral_centroid_mean\n",
        "*   spectral_bandwidth_mean\n",
        "*   spectral_rolloff_mean\n",
        "*   RMS_mean(Root-Mean-Square Error)（它是『預測值』與『實際值』之差的平方和，愈小表示模型愈準確。）\n",
        "*   zero_crossing_rate_mean\n",
        "*   13 features of MFCC\n",
        "*   I also want to take the harm_mean and perc_mean of audio, but it's too slow to run it on this platform\n"
      ]
    },
    {
      "cell_type": "markdown",
      "metadata": {
        "id": "WXx6apkY25x2"
      },
      "source": [
        "Extract features function\n",
        "\n",
        "reference:\n",
        "https://medium.com/@alexandro.ramr777/audio-files-to-dataset-by-feature-extraction-with-librosa-d87adafe5b64"
      ]
    },
    {
      "cell_type": "code",
      "metadata": {
        "id": "jl8pvYAw24jA"
      },
      "source": [
        "fn_list_i = [\n",
        " feature.chroma_stft,\n",
        " feature.spectral_centroid,\n",
        " feature.spectral_bandwidth,\n",
        " feature.spectral_rolloff,\n",
        " feature.chroma_cens,\n",
        " feature.spectral_contrast,\n",
        " feature.tonnetz\n",
        "]\n",
        " \n",
        "fn_list_ii = [\n",
        " feature.rms,\n",
        " feature.zero_crossing_rate,\n",
        " feature.spectral_flatness\n",
        "]\n",
        "\n",
        " #'harm_mean',\n",
        " #'perc_mean',\n",
        " \n",
        "header =[\n",
        " 'audio_name',\n",
        " 'genre',\n",
        " 'length',\n",
        " 'tempo',\n",
        " 'chroma_stft_mean',\n",
        " 'spectral_centroid_mean',\n",
        " 'spectral_bandwidth_mean',\n",
        " 'spectral_rolloff_mean',\n",
        " 'chroma_cens_mean',\n",
        " 'spectral_contrast_mean',\n",
        " 'tonnetz_mean',\n",
        " 'chroma_stft_var',\n",
        " 'spectral_centroid_var',\n",
        " 'spectral_bandwidth_var',\n",
        " 'spectral_rolloff_var',\n",
        " 'chroma_cens_var',\n",
        " 'spectral_contrast_var',\n",
        " 'tonnetz_var',\n",
        " 'rms_mean',\n",
        " 'zero_crossing_rate_mean',\n",
        " 'spectral_flatness_mean',\n",
        " 'rms_var',\n",
        " 'zero_crossing_rate_var',\n",
        " 'spectral_flatness_var',\n",
        " 'mfcc1_mean',\n",
        " 'mfcc2_mean',\n",
        " 'mfcc3_mean',\n",
        " 'mfcc4_mean',\n",
        " 'mfcc5_mean',\n",
        " 'mfcc6_mean',\n",
        " 'mfcc7_mean',\n",
        " 'mfcc8_mean',\n",
        " 'mfcc9_mean',\n",
        " 'mfcc10_mean',\n",
        " 'mfcc11_mean',\n",
        " 'mfcc12_mean',\n",
        " 'mfcc13_mean',\n",
        "  'mfcc1_var',\n",
        " 'mfcc2_var',\n",
        " 'mfcc3_var',\n",
        " 'mfcc4_var',\n",
        " 'mfcc5_var',\n",
        " 'mfcc6_var',\n",
        " 'mfcc7_var',\n",
        " 'mfcc8_var',\n",
        " 'mfcc9_var',\n",
        " 'mfcc10_var',\n",
        " 'mfcc11_var',\n",
        " 'mfcc12_var',\n",
        " 'mfcc13_var'\n",
        "]"
      ],
      "execution_count": null,
      "outputs": []
    },
    {
      "cell_type": "code",
      "source": [
        "    #directories of normal audios\n",
        "\n",
        "    B=[]\n",
        "    code = 0\n",
        "    #create csv file for splitted audio\n",
        "    filePath=source_path\n",
        "    path_saved='/content/drive/MyDrive/Dataset/Music-genre-classification/test/data_features/'\n",
        "    \n",
        "\n",
        "    def extract_mfcc_features_mean(y,sr):\n",
        "      mfccs = librosa.feature.mfcc(y=y, sr=sr, n_mfcc=13)\n",
        "      mfccs_processed = np.mean(mfccs.T,axis=0)\n",
        "      return mfccs_processed\n",
        "\n",
        "    def extract_mfcc_features_var(y,sr):\n",
        "      mfccs = librosa.feature.mfcc(y=y, sr=sr, n_mfcc=13)\n",
        "      mfccs_processed = np.var(mfccs.T,axis=0)\n",
        "      return mfccs_processed  \n",
        "\n",
        "    def get_tempo(y,sr):\n",
        "      onset_env = librosa.onset.onset_strength(y, sr=sr)\n",
        "      tempo = librosa.beat.tempo(onset_envelope=onset_env, sr=sr)\n",
        "      tempo = np.array(tempo)\n",
        "      return tempo\n",
        "\n",
        "    def get_harm_mean(y,sr):\n",
        "      y_harm, y_perc = librosa.effects.hpss(audio_file)\n",
        "      harm_mean = np.mean(y_harm.T,axis=0)\n",
        "      return harm_mean\n",
        "\n",
        "    def get_perc_mean(y,sr):\n",
        "      y_harm, y_perc = librosa.effects.hpss(audio_file)\n",
        "      perc_mean = np.mean(y_perc.T,axis=0)\n",
        "      return perc_mean"
      ],
      "metadata": {
        "id": "QLcLTgaSRL5L"
      },
      "execution_count": null,
      "outputs": []
    },
    {
      "cell_type": "code",
      "source": [
        "def get_feature_vector(y,sr): \n",
        "       audio_name = B[code]\n",
        "       genre = audio_name.split(\".\")[0]\n",
        "       audio = audio_name.split(\".\")[0]+audio_name.split(\".\")[1]\n",
        "       #calculate the length = shape / sampleling rate\n",
        "       a=np.shape(y)\n",
        "       arr = np.asarray(a)\n",
        "       length = arr[0]/sr #\n",
        "       #harm_mean = [get_harm_mean(y,sr)]\n",
        "       #perc_mean = [get_perc_mean(y,sr)]\n",
        "       feat_vect_i = [np.mean(funct(y,sr)) for funct in fn_list_i]\n",
        "       feat_vect_ii = [np.mean(funct(y)) for funct in fn_list_ii]\n",
        "       feat_vect_i_var = [np.var(funct(y,sr)) for funct in fn_list_i]\n",
        "       feat_vect_ii_var = [np.var(funct(y)) for funct in fn_list_ii]\n",
        "       tempo = get_tempo(y,sr)\n",
        "       feat_tempo=[]\n",
        "       for k in tempo :\n",
        "         feat_tempo.append(k)\n",
        "       feat_mfcc = extract_mfcc_features_mean(y,sr)\n",
        "       features_mfcc=[]\n",
        "       for i in feat_mfcc :\n",
        "         features_mfcc.append(i)\n",
        "       feat_mfcc2 = extract_mfcc_features_var(y,sr)   \n",
        "       features_mfcc_var = []\n",
        "       for i in feat_mfcc2 :\n",
        "         features_mfcc_var.append(i)\n",
        "       feature_vector = [audio] + [genre]+ [length] + feat_tempo +  feat_vect_i+feat_vect_i_var + feat_vect_ii +feat_vect_ii_var+ features_mfcc + features_mfcc_var\n",
        "       return feature_vector "
      ],
      "metadata": {
        "id": "V05bGiN_RUr6"
      },
      "execution_count": null,
      "outputs": []
    },
    {
      "cell_type": "code",
      "source": [
        "target_path"
      ],
      "metadata": {
        "colab": {
          "base_uri": "https://localhost:8080/"
        },
        "id": "3B31sOi9SdKE",
        "outputId": "2676d650-ee81-4389-bf45-5a2f08755e28"
      },
      "execution_count": null,
      "outputs": [
        {
          "output_type": "execute_result",
          "data": {
            "text/plain": [
              "'/content/drive/MyDrive/Dataset/Music-genre-classification/test/mel_image/'"
            ],
            "application/vnd.google.colaboratory.intrinsic+json": {
              "type": "string"
            }
          },
          "metadata": {},
          "execution_count": 74
        }
      ]
    },
    {
      "cell_type": "code",
      "source": [
        "      norm_audios_feat = []\n",
        "      source_path = os.path.abspath(filePath)\n",
        "      target_path = os.path.abspath(path_saved) \n",
        "      if not os.path.exists(target_path):\n",
        "        os.makedirs(target_path)\n",
        "      if os.path.exists(source_path):\n",
        "        B=[]\n",
        "        B=os.listdir(source_path) \n",
        "        pathAudio=filePath\n",
        "        files = librosa.util.find_files(pathAudio, ext=['wav']) \n",
        "        files = np.asarray(files)\n",
        "        code = 0\n",
        "        for x in files: \n",
        "          y, sr = librosa.load(x)\n",
        "          feature_vector = get_feature_vector(y, sr)\n",
        "          norm_audios_feat.append(feature_vector) \n",
        "          code=code+1\n",
        "          print(norm_audios_feat)\n",
        "        norm_output=target_path+'/'+audio_name+'.csv'\n",
        "        with open(norm_output,'+w') as f:\n",
        "          csv_writer = csv.writer(f, delimiter = ',')\n",
        "          csv_writer.writerow(header)\n",
        "          csv_writer.writerows(norm_audios_feat)"
      ],
      "metadata": {
        "colab": {
          "base_uri": "https://localhost:8080/"
        },
        "id": "wyuxwQT9P8IS",
        "outputId": "a897731b-c47d-4f58-a73d-b43db4240f7b"
      },
      "execution_count": null,
      "outputs": [
        {
          "output_type": "stream",
          "name": "stdout",
          "text": [
            "[['3swav', '3s', 3.0, 129.19921875, 0.39188343, 1878.9969039045802, 2089.4233930679025, 4106.2990159254805, 0.269755183559758, 19.534806102329465, 0.009214559631663975, 0.08497219, 169053.50157408035, 98495.10718883961, 1095920.0827020514, 0.01056547427597458, 81.9039483738119, 0.0038364503036050213, 0.12710741, 0.08656475360576923, 0.006516738, 0.0034520095, 0.0010581355264200967, 5.9306978e-05, -108.11815, 121.14659, -20.937109, 44.456573, -10.626758, 20.648527, -15.21022, 19.20116, -14.316552, 16.230171, -10.055261, 12.766889, -7.1824827, 3343.2778, 357.66724, 242.79498, 160.45917, 88.51024, 74.26499, 65.42601, 53.75514, 65.68051, 52.192627, 77.079544, 37.053303, 39.59347]]\n"
          ]
        }
      ]
    },
    {
      "cell_type": "code",
      "metadata": {
        "id": "XYZfCq1RDRLw",
        "colab": {
          "base_uri": "https://localhost:8080/"
        },
        "outputId": "82024f14-71d3-453d-979f-c985ee31ef87"
      },
      "source": [
        "csv_file= pd.read_csv(path_saved+audio_name+'.csv')\n",
        "csv_file"
      ],
      "execution_count": null,
      "outputs": [
        {
          "output_type": "execute_result",
          "data": {
            "text/plain": [
              "  audio_name genre  length       tempo  chroma_stft_mean  \\\n",
              "0      3swav    3s     3.0  129.199219          0.391883   \n",
              "\n",
              "   spectral_centroid_mean  spectral_bandwidth_mean  spectral_rolloff_mean  \\\n",
              "0             1878.996904              2089.423393            4106.299016   \n",
              "\n",
              "   chroma_cens_mean  spectral_contrast_mean  ...  mfcc4_var  mfcc5_var  \\\n",
              "0          0.269755               19.534806  ...  160.45917   88.51024   \n",
              "\n",
              "   mfcc6_var  mfcc7_var  mfcc8_var  mfcc9_var  mfcc10_var  mfcc11_var  \\\n",
              "0   74.26499   65.42601   53.75514   65.68051   52.192627   77.079544   \n",
              "\n",
              "   mfcc12_var  mfcc13_var  \n",
              "0   37.053303    39.59347  \n",
              "\n",
              "[1 rows x 50 columns]"
            ],
            "text/html": [
              "\n",
              "  <div id=\"df-f409e53e-ac00-4e71-bb55-1a8a01815aff\">\n",
              "    <div class=\"colab-df-container\">\n",
              "      <div>\n",
              "<style scoped>\n",
              "    .dataframe tbody tr th:only-of-type {\n",
              "        vertical-align: middle;\n",
              "    }\n",
              "\n",
              "    .dataframe tbody tr th {\n",
              "        vertical-align: top;\n",
              "    }\n",
              "\n",
              "    .dataframe thead th {\n",
              "        text-align: right;\n",
              "    }\n",
              "</style>\n",
              "<table border=\"1\" class=\"dataframe\">\n",
              "  <thead>\n",
              "    <tr style=\"text-align: right;\">\n",
              "      <th></th>\n",
              "      <th>audio_name</th>\n",
              "      <th>genre</th>\n",
              "      <th>length</th>\n",
              "      <th>tempo</th>\n",
              "      <th>chroma_stft_mean</th>\n",
              "      <th>spectral_centroid_mean</th>\n",
              "      <th>spectral_bandwidth_mean</th>\n",
              "      <th>spectral_rolloff_mean</th>\n",
              "      <th>chroma_cens_mean</th>\n",
              "      <th>spectral_contrast_mean</th>\n",
              "      <th>...</th>\n",
              "      <th>mfcc4_var</th>\n",
              "      <th>mfcc5_var</th>\n",
              "      <th>mfcc6_var</th>\n",
              "      <th>mfcc7_var</th>\n",
              "      <th>mfcc8_var</th>\n",
              "      <th>mfcc9_var</th>\n",
              "      <th>mfcc10_var</th>\n",
              "      <th>mfcc11_var</th>\n",
              "      <th>mfcc12_var</th>\n",
              "      <th>mfcc13_var</th>\n",
              "    </tr>\n",
              "  </thead>\n",
              "  <tbody>\n",
              "    <tr>\n",
              "      <th>0</th>\n",
              "      <td>3swav</td>\n",
              "      <td>3s</td>\n",
              "      <td>3.0</td>\n",
              "      <td>129.199219</td>\n",
              "      <td>0.391883</td>\n",
              "      <td>1878.996904</td>\n",
              "      <td>2089.423393</td>\n",
              "      <td>4106.299016</td>\n",
              "      <td>0.269755</td>\n",
              "      <td>19.534806</td>\n",
              "      <td>...</td>\n",
              "      <td>160.45917</td>\n",
              "      <td>88.51024</td>\n",
              "      <td>74.26499</td>\n",
              "      <td>65.42601</td>\n",
              "      <td>53.75514</td>\n",
              "      <td>65.68051</td>\n",
              "      <td>52.192627</td>\n",
              "      <td>77.079544</td>\n",
              "      <td>37.053303</td>\n",
              "      <td>39.59347</td>\n",
              "    </tr>\n",
              "  </tbody>\n",
              "</table>\n",
              "<p>1 rows × 50 columns</p>\n",
              "</div>\n",
              "      <button class=\"colab-df-convert\" onclick=\"convertToInteractive('df-f409e53e-ac00-4e71-bb55-1a8a01815aff')\"\n",
              "              title=\"Convert this dataframe to an interactive table.\"\n",
              "              style=\"display:none;\">\n",
              "        \n",
              "  <svg xmlns=\"http://www.w3.org/2000/svg\" height=\"24px\"viewBox=\"0 0 24 24\"\n",
              "       width=\"24px\">\n",
              "    <path d=\"M0 0h24v24H0V0z\" fill=\"none\"/>\n",
              "    <path d=\"M18.56 5.44l.94 2.06.94-2.06 2.06-.94-2.06-.94-.94-2.06-.94 2.06-2.06.94zm-11 1L8.5 8.5l.94-2.06 2.06-.94-2.06-.94L8.5 2.5l-.94 2.06-2.06.94zm10 10l.94 2.06.94-2.06 2.06-.94-2.06-.94-.94-2.06-.94 2.06-2.06.94z\"/><path d=\"M17.41 7.96l-1.37-1.37c-.4-.4-.92-.59-1.43-.59-.52 0-1.04.2-1.43.59L10.3 9.45l-7.72 7.72c-.78.78-.78 2.05 0 2.83L4 21.41c.39.39.9.59 1.41.59.51 0 1.02-.2 1.41-.59l7.78-7.78 2.81-2.81c.8-.78.8-2.07 0-2.86zM5.41 20L4 18.59l7.72-7.72 1.47 1.35L5.41 20z\"/>\n",
              "  </svg>\n",
              "      </button>\n",
              "      \n",
              "  <style>\n",
              "    .colab-df-container {\n",
              "      display:flex;\n",
              "      flex-wrap:wrap;\n",
              "      gap: 12px;\n",
              "    }\n",
              "\n",
              "    .colab-df-convert {\n",
              "      background-color: #E8F0FE;\n",
              "      border: none;\n",
              "      border-radius: 50%;\n",
              "      cursor: pointer;\n",
              "      display: none;\n",
              "      fill: #1967D2;\n",
              "      height: 32px;\n",
              "      padding: 0 0 0 0;\n",
              "      width: 32px;\n",
              "    }\n",
              "\n",
              "    .colab-df-convert:hover {\n",
              "      background-color: #E2EBFA;\n",
              "      box-shadow: 0px 1px 2px rgba(60, 64, 67, 0.3), 0px 1px 3px 1px rgba(60, 64, 67, 0.15);\n",
              "      fill: #174EA6;\n",
              "    }\n",
              "\n",
              "    [theme=dark] .colab-df-convert {\n",
              "      background-color: #3B4455;\n",
              "      fill: #D2E3FC;\n",
              "    }\n",
              "\n",
              "    [theme=dark] .colab-df-convert:hover {\n",
              "      background-color: #434B5C;\n",
              "      box-shadow: 0px 1px 3px 1px rgba(0, 0, 0, 0.15);\n",
              "      filter: drop-shadow(0px 1px 2px rgba(0, 0, 0, 0.3));\n",
              "      fill: #FFFFFF;\n",
              "    }\n",
              "  </style>\n",
              "\n",
              "      <script>\n",
              "        const buttonEl =\n",
              "          document.querySelector('#df-f409e53e-ac00-4e71-bb55-1a8a01815aff button.colab-df-convert');\n",
              "        buttonEl.style.display =\n",
              "          google.colab.kernel.accessAllowed ? 'block' : 'none';\n",
              "\n",
              "        async function convertToInteractive(key) {\n",
              "          const element = document.querySelector('#df-f409e53e-ac00-4e71-bb55-1a8a01815aff');\n",
              "          const dataTable =\n",
              "            await google.colab.kernel.invokeFunction('convertToInteractive',\n",
              "                                                     [key], {});\n",
              "          if (!dataTable) return;\n",
              "\n",
              "          const docLinkHtml = 'Like what you see? Visit the ' +\n",
              "            '<a target=\"_blank\" href=https://colab.research.google.com/notebooks/data_table.ipynb>data table notebook</a>'\n",
              "            + ' to learn more about interactive tables.';\n",
              "          element.innerHTML = '';\n",
              "          dataTable['output_type'] = 'display_data';\n",
              "          await google.colab.output.renderOutput(dataTable, element);\n",
              "          const docLink = document.createElement('div');\n",
              "          docLink.innerHTML = docLinkHtml;\n",
              "          element.appendChild(docLink);\n",
              "        }\n",
              "      </script>\n",
              "    </div>\n",
              "  </div>\n",
              "  "
            ]
          },
          "metadata": {},
          "execution_count": 76
        }
      ]
    },
    {
      "cell_type": "code",
      "source": [
        "to_drop=['audio_name','genre','length']"
      ],
      "metadata": {
        "id": "0ZgzOtfpdMe3"
      },
      "execution_count": null,
      "outputs": []
    },
    {
      "cell_type": "code",
      "source": [
        "features = csv_file.drop(to_drop,axis=1)"
      ],
      "metadata": {
        "id": "zhbdIe3IdRmE"
      },
      "execution_count": null,
      "outputs": []
    },
    {
      "cell_type": "markdown",
      "source": [
        "# 30s_Music genre classification"
      ],
      "metadata": {
        "id": "0whffFcuD2o2"
      }
    },
    {
      "cell_type": "markdown",
      "source": [
        "## prediction using transfer learning model"
      ],
      "metadata": {
        "id": "a4R6vLsSWXb-"
      }
    },
    {
      "cell_type": "code",
      "source": [
        "image_path='/content/drive/MyDrive/Dataset/Music-genre-classification/test/mel_image/blues.00000.png'"
      ],
      "metadata": {
        "id": "0Y_kjHyEFgHS"
      },
      "execution_count": null,
      "outputs": []
    },
    {
      "cell_type": "code",
      "source": [
        "class TestData(Dataset):\n",
        "    def __init__(self,transform=None):\n",
        "        #self.root_dir = root_dir\n",
        "        #self.label = pd.read_csv(csv_file)\n",
        "        self.transform = transform\n",
        "        \n",
        "    def __len__(self):\n",
        "        return len(self.label)\n",
        "    \n",
        "    def __getitem__(self, idx):\n",
        "        if torch.is_tensor(idx):\n",
        "            idx = idx.item()\n",
        "        \n",
        "        #label = self.label.iloc[idx,1]\n",
        "        label=['blues']\n",
        "        #image_path = os.path.join(self.root_dir, f\"{self.label.iloc[idx,0]}.png\")\n",
        "        \n",
        "        image = default_loader(image_path)\n",
        "        \n",
        "        if self.transform:\n",
        "            image = self.transform(image)\n",
        "        \n",
        "        return (image, label)"
      ],
      "metadata": {
        "id": "SftMyCIFWXcD"
      },
      "execution_count": null,
      "outputs": []
    },
    {
      "cell_type": "code",
      "source": [
        "transform_test = T.Compose([\n",
        "    T.Resize(224),                        \n",
        "    T.ToTensor()\n",
        "])\n",
        "\n",
        "test_ds = TestData(\n",
        "    transform=transform_test\n",
        ")"
      ],
      "metadata": {
        "id": "ZvtnhtY5WXcD"
      },
      "execution_count": null,
      "outputs": []
    },
    {
      "cell_type": "code",
      "source": [
        "def predict_image(image):\n",
        "    xb = to_device(image.unsqueeze(0), device)\n",
        "    out = model(xb)\n",
        "    _, preds = torch.max(out, dim=1)\n",
        "    prediction = preds[0].item()\n",
        "    return prediction"
      ],
      "metadata": {
        "id": "Hed1J6pRWXcE"
      },
      "execution_count": null,
      "outputs": []
    },
    {
      "cell_type": "code",
      "source": [
        "image, label = test_ds[20]\n",
        "image = image.cuda() # add this line\n",
        "\n",
        "image"
      ],
      "metadata": {
        "colab": {
          "base_uri": "https://localhost:8080/"
        },
        "outputId": "108075b1-04e3-4449-8174-12a90ec15cab",
        "id": "zXkn0ej1WXcE"
      },
      "execution_count": null,
      "outputs": [
        {
          "output_type": "execute_result",
          "data": {
            "text/plain": [
              "tensor([[[0.7098, 0.8078, 0.9686,  ..., 0.9373, 0.7098, 0.5686],\n",
              "         [0.7098, 0.8039, 0.9569,  ..., 0.9059, 0.6980, 0.5686],\n",
              "         [0.7098, 0.8000, 0.9412,  ..., 0.8588, 0.6824, 0.5686],\n",
              "         ...,\n",
              "         [0.2510, 0.2471, 0.2353,  ..., 0.1020, 0.0863, 0.0745],\n",
              "         [0.2314, 0.2353, 0.2471,  ..., 0.1176, 0.0941, 0.0784],\n",
              "         [0.2157, 0.2314, 0.2510,  ..., 0.1255, 0.0980, 0.0784]],\n",
              "\n",
              "        [[0.7098, 0.8078, 0.9686,  ..., 0.9373, 0.7098, 0.5686],\n",
              "         [0.7098, 0.8039, 0.9569,  ..., 0.9059, 0.6980, 0.5686],\n",
              "         [0.7098, 0.8000, 0.9412,  ..., 0.8588, 0.6824, 0.5686],\n",
              "         ...,\n",
              "         [0.2510, 0.2471, 0.2353,  ..., 0.1020, 0.0863, 0.0745],\n",
              "         [0.2314, 0.2353, 0.2471,  ..., 0.1176, 0.0941, 0.0784],\n",
              "         [0.2157, 0.2314, 0.2510,  ..., 0.1255, 0.0980, 0.0784]],\n",
              "\n",
              "        [[0.7098, 0.8078, 0.9686,  ..., 0.9373, 0.7098, 0.5686],\n",
              "         [0.7098, 0.8039, 0.9569,  ..., 0.9059, 0.6980, 0.5686],\n",
              "         [0.7098, 0.8000, 0.9412,  ..., 0.8588, 0.6824, 0.5686],\n",
              "         ...,\n",
              "         [0.2510, 0.2471, 0.2353,  ..., 0.1020, 0.0863, 0.0745],\n",
              "         [0.2314, 0.2353, 0.2471,  ..., 0.1176, 0.0941, 0.0784],\n",
              "         [0.2157, 0.2314, 0.2510,  ..., 0.1255, 0.0980, 0.0784]]],\n",
              "       device='cuda:0')"
            ]
          },
          "metadata": {},
          "execution_count": 37
        }
      ]
    },
    {
      "cell_type": "markdown",
      "source": [
        "0 is blues 5 is jazz"
      ],
      "metadata": {
        "id": "R6OTDNGwWXcE"
      }
    },
    {
      "cell_type": "code",
      "source": [
        "general_path = '/content/drive/MyDrive/Dataset/Music-genre-classification/mel-spec-img/All_30s'\n",
        "genres = sorted(list(os.listdir(f'{general_path}')))\n",
        "genres"
      ],
      "metadata": {
        "colab": {
          "base_uri": "https://localhost:8080/"
        },
        "outputId": "9a698a2b-9521-4e94-ac85-1edbd8890f65",
        "id": "yEqZpALrWXcE"
      },
      "execution_count": null,
      "outputs": [
        {
          "output_type": "execute_result",
          "data": {
            "text/plain": [
              "['blues',\n",
              " 'classical',\n",
              " 'country',\n",
              " 'disco',\n",
              " 'hiphop',\n",
              " 'jazz',\n",
              " 'metal',\n",
              " 'pop',\n",
              " 'reggae',\n",
              " 'rock']"
            ]
          },
          "metadata": {},
          "execution_count": 38
        }
      ]
    },
    {
      "cell_type": "code",
      "source": [
        "print(\"Label:\", label[0])\n",
        "tranfer_learning_prediction = genres[predict_image(image)]\n",
        "print(\"Prediction:\", tranfer_learning_prediction)"
      ],
      "metadata": {
        "colab": {
          "base_uri": "https://localhost:8080/"
        },
        "outputId": "9fbeacee-a22e-4c87-eda2-e9c6595ab753",
        "id": "1KoFkb_VWXcE"
      },
      "execution_count": null,
      "outputs": [
        {
          "output_type": "stream",
          "name": "stdout",
          "text": [
            "Label: blues\n",
            "Prediction: blues\n"
          ]
        }
      ]
    },
    {
      "cell_type": "markdown",
      "source": [
        "## Prediction using voting classifier"
      ],
      "metadata": {
        "id": "UDS9qxB7WwI3"
      }
    },
    {
      "cell_type": "code",
      "source": [
        "Pkl_Filename = \"/content/drive/MyDrive/Dataset/Music-genre-classification/model/voting_classifier.pkl\"  "
      ],
      "metadata": {
        "id": "a5iYd7HzW-oN"
      },
      "execution_count": null,
      "outputs": []
    },
    {
      "cell_type": "code",
      "source": [
        "# Load the Model back from file\n",
        "with open(Pkl_Filename, 'rb') as file:  \n",
        "    model1 = pickle.load(file)\n",
        "\n",
        "model1"
      ],
      "metadata": {
        "colab": {
          "base_uri": "https://localhost:8080/"
        },
        "outputId": "0c8b2587-1d4b-4030-fb32-86258c084671",
        "id": "3rtXcC-gW-oN"
      },
      "execution_count": null,
      "outputs": [
        {
          "output_type": "execute_result",
          "data": {
            "text/plain": [
              "VotingClassifier(estimators=[('XGB',\n",
              "                              XGBClassifier(alpha=1, base_score=0.5,\n",
              "                                            booster='gbtree',\n",
              "                                            colsample_bylevel=1,\n",
              "                                            colsample_bynode=1,\n",
              "                                            colsample_bytree=0.5,\n",
              "                                            enable_categorical=False, gamma=0,\n",
              "                                            gpu_id=-1, importance_type=None,\n",
              "                                            interaction_constraints='',\n",
              "                                            learning_rate=0.1, max_delta_step=0,\n",
              "                                            max_depth=4, min_child_weight=1,\n",
              "                                            missing=nan,\n",
              "                                            monotone_constraints='()',\n",
              "                                            n_est...\n",
              "                                                     random_state=42)),\n",
              "                             ('Logistic regression',\n",
              "                              LogisticRegression(multi_class='ovr',\n",
              "                                                 solver='liblinear')),\n",
              "                             ('Extra Tree',\n",
              "                              ExtraTreesClassifier(max_features=3,\n",
              "                                                   n_estimators=1000,\n",
              "                                                   random_state=42)),\n",
              "                             ('SVM',\n",
              "                              GridSearchCV(cv=5,\n",
              "                                           estimator=SVC(probability=True,\n",
              "                                                         random_state=42),\n",
              "                                           param_grid={'C': [0.1, 1, 10],\n",
              "                                                       'degree': [2, 3, 4],\n",
              "                                                       'kernel': ('linear',\n",
              "                                                                  'rbf',\n",
              "                                                                  'poly')}))],\n",
              "                 voting='soft')"
            ]
          },
          "metadata": {},
          "execution_count": 41
        }
      ]
    },
    {
      "cell_type": "code",
      "source": [
        "sc = pickle.load(open('/content/drive/MyDrive/Dataset/Music-genre-classification/model/sc.pkl','rb'))\n",
        "X_test_scaled = sc.transform(features)"
      ],
      "metadata": {
        "id": "9ls363aIXsqa"
      },
      "execution_count": null,
      "outputs": []
    },
    {
      "cell_type": "code",
      "source": [
        "X_test = pd.DataFrame(X_test_scaled, index=features.index, columns=features.columns)\n",
        "X_test"
      ],
      "metadata": {
        "colab": {
          "base_uri": "https://localhost:8080/",
          "height": 174
        },
        "id": "6_bD2dYeXJhU",
        "outputId": "dea5125f-e13d-4829-814a-9b80d6570ba0"
      },
      "execution_count": null,
      "outputs": [
        {
          "output_type": "execute_result",
          "data": {
            "text/plain": [
              "      tempo  chroma_stft_mean  spectral_centroid_mean  \\\n",
              "0  0.085284         -0.347167               -0.585611   \n",
              "\n",
              "   spectral_bandwidth_mean  spectral_rolloff_mean  chroma_cens_mean  \\\n",
              "0                -0.454591              -0.488083           0.90109   \n",
              "\n",
              "   spectral_contrast_mean  tonnetz_mean  chroma_stft_var  \\\n",
              "0                0.004824     -0.091378         0.306476   \n",
              "\n",
              "   spectral_centroid_var  ...  mfcc4_var  mfcc5_var  mfcc6_var  mfcc7_var  \\\n",
              "0              -0.862454  ...  -0.600924  -0.061623  -0.559338  -0.841405   \n",
              "\n",
              "   mfcc8_var  mfcc9_var  mfcc10_var  mfcc11_var  mfcc12_var  mfcc13_var  \n",
              "0  -0.478091  -0.172577   -0.505896   -0.387515   -0.541001    -0.81537  \n",
              "\n",
              "[1 rows x 47 columns]"
            ],
            "text/html": [
              "\n",
              "  <div id=\"df-05ea221c-113a-47a5-8ed2-f1a888900bd4\">\n",
              "    <div class=\"colab-df-container\">\n",
              "      <div>\n",
              "<style scoped>\n",
              "    .dataframe tbody tr th:only-of-type {\n",
              "        vertical-align: middle;\n",
              "    }\n",
              "\n",
              "    .dataframe tbody tr th {\n",
              "        vertical-align: top;\n",
              "    }\n",
              "\n",
              "    .dataframe thead th {\n",
              "        text-align: right;\n",
              "    }\n",
              "</style>\n",
              "<table border=\"1\" class=\"dataframe\">\n",
              "  <thead>\n",
              "    <tr style=\"text-align: right;\">\n",
              "      <th></th>\n",
              "      <th>tempo</th>\n",
              "      <th>chroma_stft_mean</th>\n",
              "      <th>spectral_centroid_mean</th>\n",
              "      <th>spectral_bandwidth_mean</th>\n",
              "      <th>spectral_rolloff_mean</th>\n",
              "      <th>chroma_cens_mean</th>\n",
              "      <th>spectral_contrast_mean</th>\n",
              "      <th>tonnetz_mean</th>\n",
              "      <th>chroma_stft_var</th>\n",
              "      <th>spectral_centroid_var</th>\n",
              "      <th>...</th>\n",
              "      <th>mfcc4_var</th>\n",
              "      <th>mfcc5_var</th>\n",
              "      <th>mfcc6_var</th>\n",
              "      <th>mfcc7_var</th>\n",
              "      <th>mfcc8_var</th>\n",
              "      <th>mfcc9_var</th>\n",
              "      <th>mfcc10_var</th>\n",
              "      <th>mfcc11_var</th>\n",
              "      <th>mfcc12_var</th>\n",
              "      <th>mfcc13_var</th>\n",
              "    </tr>\n",
              "  </thead>\n",
              "  <tbody>\n",
              "    <tr>\n",
              "      <th>0</th>\n",
              "      <td>0.085284</td>\n",
              "      <td>-0.347167</td>\n",
              "      <td>-0.585611</td>\n",
              "      <td>-0.454591</td>\n",
              "      <td>-0.488083</td>\n",
              "      <td>0.90109</td>\n",
              "      <td>0.004824</td>\n",
              "      <td>-0.091378</td>\n",
              "      <td>0.306476</td>\n",
              "      <td>-0.862454</td>\n",
              "      <td>...</td>\n",
              "      <td>-0.600924</td>\n",
              "      <td>-0.061623</td>\n",
              "      <td>-0.559338</td>\n",
              "      <td>-0.841405</td>\n",
              "      <td>-0.478091</td>\n",
              "      <td>-0.172577</td>\n",
              "      <td>-0.505896</td>\n",
              "      <td>-0.387515</td>\n",
              "      <td>-0.541001</td>\n",
              "      <td>-0.81537</td>\n",
              "    </tr>\n",
              "  </tbody>\n",
              "</table>\n",
              "<p>1 rows × 47 columns</p>\n",
              "</div>\n",
              "      <button class=\"colab-df-convert\" onclick=\"convertToInteractive('df-05ea221c-113a-47a5-8ed2-f1a888900bd4')\"\n",
              "              title=\"Convert this dataframe to an interactive table.\"\n",
              "              style=\"display:none;\">\n",
              "        \n",
              "  <svg xmlns=\"http://www.w3.org/2000/svg\" height=\"24px\"viewBox=\"0 0 24 24\"\n",
              "       width=\"24px\">\n",
              "    <path d=\"M0 0h24v24H0V0z\" fill=\"none\"/>\n",
              "    <path d=\"M18.56 5.44l.94 2.06.94-2.06 2.06-.94-2.06-.94-.94-2.06-.94 2.06-2.06.94zm-11 1L8.5 8.5l.94-2.06 2.06-.94-2.06-.94L8.5 2.5l-.94 2.06-2.06.94zm10 10l.94 2.06.94-2.06 2.06-.94-2.06-.94-.94-2.06-.94 2.06-2.06.94z\"/><path d=\"M17.41 7.96l-1.37-1.37c-.4-.4-.92-.59-1.43-.59-.52 0-1.04.2-1.43.59L10.3 9.45l-7.72 7.72c-.78.78-.78 2.05 0 2.83L4 21.41c.39.39.9.59 1.41.59.51 0 1.02-.2 1.41-.59l7.78-7.78 2.81-2.81c.8-.78.8-2.07 0-2.86zM5.41 20L4 18.59l7.72-7.72 1.47 1.35L5.41 20z\"/>\n",
              "  </svg>\n",
              "      </button>\n",
              "      \n",
              "  <style>\n",
              "    .colab-df-container {\n",
              "      display:flex;\n",
              "      flex-wrap:wrap;\n",
              "      gap: 12px;\n",
              "    }\n",
              "\n",
              "    .colab-df-convert {\n",
              "      background-color: #E8F0FE;\n",
              "      border: none;\n",
              "      border-radius: 50%;\n",
              "      cursor: pointer;\n",
              "      display: none;\n",
              "      fill: #1967D2;\n",
              "      height: 32px;\n",
              "      padding: 0 0 0 0;\n",
              "      width: 32px;\n",
              "    }\n",
              "\n",
              "    .colab-df-convert:hover {\n",
              "      background-color: #E2EBFA;\n",
              "      box-shadow: 0px 1px 2px rgba(60, 64, 67, 0.3), 0px 1px 3px 1px rgba(60, 64, 67, 0.15);\n",
              "      fill: #174EA6;\n",
              "    }\n",
              "\n",
              "    [theme=dark] .colab-df-convert {\n",
              "      background-color: #3B4455;\n",
              "      fill: #D2E3FC;\n",
              "    }\n",
              "\n",
              "    [theme=dark] .colab-df-convert:hover {\n",
              "      background-color: #434B5C;\n",
              "      box-shadow: 0px 1px 3px 1px rgba(0, 0, 0, 0.15);\n",
              "      filter: drop-shadow(0px 1px 2px rgba(0, 0, 0, 0.3));\n",
              "      fill: #FFFFFF;\n",
              "    }\n",
              "  </style>\n",
              "\n",
              "      <script>\n",
              "        const buttonEl =\n",
              "          document.querySelector('#df-05ea221c-113a-47a5-8ed2-f1a888900bd4 button.colab-df-convert');\n",
              "        buttonEl.style.display =\n",
              "          google.colab.kernel.accessAllowed ? 'block' : 'none';\n",
              "\n",
              "        async function convertToInteractive(key) {\n",
              "          const element = document.querySelector('#df-05ea221c-113a-47a5-8ed2-f1a888900bd4');\n",
              "          const dataTable =\n",
              "            await google.colab.kernel.invokeFunction('convertToInteractive',\n",
              "                                                     [key], {});\n",
              "          if (!dataTable) return;\n",
              "\n",
              "          const docLinkHtml = 'Like what you see? Visit the ' +\n",
              "            '<a target=\"_blank\" href=https://colab.research.google.com/notebooks/data_table.ipynb>data table notebook</a>'\n",
              "            + ' to learn more about interactive tables.';\n",
              "          element.innerHTML = '';\n",
              "          dataTable['output_type'] = 'display_data';\n",
              "          await google.colab.output.renderOutput(dataTable, element);\n",
              "          const docLink = document.createElement('div');\n",
              "          docLink.innerHTML = docLinkHtml;\n",
              "          element.appendChild(docLink);\n",
              "        }\n",
              "      </script>\n",
              "    </div>\n",
              "  </div>\n",
              "  "
            ]
          },
          "metadata": {},
          "execution_count": 49
        }
      ]
    },
    {
      "cell_type": "code",
      "source": [
        "to_drop=['spectral_bandwidth_mean', 'spectral_rolloff_mean', 'chroma_cens_var', 'tonnetz_var', 'mfcc2_mean','mfcc2_var', 'mfcc11_var', 'mfcc12_var','spectral_bandwidth_var']\n",
        "features = X_test.drop(to_drop,axis=1)"
      ],
      "metadata": {
        "id": "AcCCsdKOdqZn"
      },
      "execution_count": null,
      "outputs": []
    },
    {
      "cell_type": "code",
      "source": [
        "# Predict the Labels using the reloaded Model\n",
        "Ypredict = model1.predict(features)  \n",
        "Voting_classifier_prediction = Ypredict[0]\n",
        "print(\"Prediction of the Music Genre : \",Voting_classifier_prediction) "
      ],
      "metadata": {
        "colab": {
          "base_uri": "https://localhost:8080/"
        },
        "id": "snN_d-5KXMuJ",
        "outputId": "fa1a522c-e416-4293-dbed-694dd0c807fa"
      },
      "execution_count": null,
      "outputs": [
        {
          "output_type": "stream",
          "name": "stdout",
          "text": [
            "Prediction of the Music Genre :  blues\n"
          ]
        }
      ]
    },
    {
      "cell_type": "markdown",
      "source": [
        "## Final prediction using model Voting "
      ],
      "metadata": {
        "id": "Nb3fctFIt5cl"
      }
    },
    {
      "cell_type": "markdown",
      "source": [
        "if their predictions are the same:"
      ],
      "metadata": {
        "id": "jC-oWsl3fphy"
      }
    },
    {
      "cell_type": "code",
      "source": [
        "if tranfer_learning_prediction == Voting_classifier_prediction :\n",
        "  print('Tranfer learning prediction and Voting classifier prediction are the same ! ! !')"
      ],
      "metadata": {
        "colab": {
          "base_uri": "https://localhost:8080/"
        },
        "id": "ZvhB3WTSd-92",
        "outputId": "55e9e422-0f61-46fb-d4dd-7fa8cf85afe0"
      },
      "execution_count": null,
      "outputs": [
        {
          "output_type": "stream",
          "name": "stdout",
          "text": [
            "Tranfer learning prediction and Voting classifier prediction are the same ! ! !\n"
          ]
        }
      ]
    },
    {
      "cell_type": "markdown",
      "source": [
        "if their predictions are not the same:\n",
        "\n",
        "\n"
      ],
      "metadata": {
        "id": "LKX6ISjBfuwy"
      }
    },
    {
      "cell_type": "code",
      "source": [
        "if tranfer_learning_prediction != Voting_classifier_prediction :\n",
        "  transfer_model_weight = {'blues':0.84,'classical':0.98,'country':0.8,'disco':0.86,'hiphop':0.81,'jazz':0.82,'metal':0.93,'pop':0.87,'reggae':0.84,'rock':0.69}\n",
        "  voting_classifier_weight = {'blues':0.36,'classical':1,'country':0.86,'disco':0.78,'hiphop':0.78,'jazz':0.88,'metal':0.84,'pop':0.82,'reggae':0.78,'rock':0.65}"
      ],
      "metadata": {
        "id": "A3wRWLkviXez"
      },
      "execution_count": null,
      "outputs": []
    },
    {
      "cell_type": "code",
      "source": [
        "transfer_model_weight = {'blues':0.84,'classical':0.98,'country':0.8,'disco':0.86,'hiphop':0.81,'jazz':0.82,'metal':0.93,'pop':0.87,'reggae':0.84,'rock':0.69}\n",
        "voting_classifier_weight = {'blues':0.36,'classical':1,'country':0.86,'disco':0.78,'hiphop':0.78,'jazz':0.88,'metal':0.84,'pop':0.82,'reggae':0.78,'rock':0.65}\n"
      ],
      "metadata": {
        "id": "vbNBS2-Et9qW"
      },
      "execution_count": null,
      "outputs": []
    },
    {
      "cell_type": "code",
      "source": [
        "tranfer_learning_prediction"
      ],
      "metadata": {
        "colab": {
          "base_uri": "https://localhost:8080/",
          "height": 35
        },
        "id": "y2mtLJXdg1ne",
        "outputId": "ee08c6e7-1128-4027-9b90-0bc10d1ef4f2"
      },
      "execution_count": null,
      "outputs": [
        {
          "output_type": "execute_result",
          "data": {
            "text/plain": [
              "'blues'"
            ],
            "application/vnd.google.colaboratory.intrinsic+json": {
              "type": "string"
            }
          },
          "metadata": {},
          "execution_count": 62
        }
      ]
    },
    {
      "cell_type": "code",
      "source": [
        "tl = transfer_model_weight[tranfer_learning_prediction]\n",
        "tl"
      ],
      "metadata": {
        "colab": {
          "base_uri": "https://localhost:8080/"
        },
        "id": "sVmgycrnhMWM",
        "outputId": "49770d0e-d9d9-4424-9907-b6528d8fe871"
      },
      "execution_count": null,
      "outputs": [
        {
          "output_type": "execute_result",
          "data": {
            "text/plain": [
              "0.84"
            ]
          },
          "metadata": {},
          "execution_count": 67
        }
      ]
    },
    {
      "cell_type": "code",
      "source": [
        "Voting_classifier_prediction"
      ],
      "metadata": {
        "colab": {
          "base_uri": "https://localhost:8080/",
          "height": 35
        },
        "id": "1tW0K6PYhYJ7",
        "outputId": "7316a2d8-ea46-49a0-ece8-42538f976e01"
      },
      "execution_count": null,
      "outputs": [
        {
          "output_type": "execute_result",
          "data": {
            "text/plain": [
              "'blues'"
            ],
            "application/vnd.google.colaboratory.intrinsic+json": {
              "type": "string"
            }
          },
          "metadata": {},
          "execution_count": 66
        }
      ]
    },
    {
      "cell_type": "code",
      "source": [
        "vc = voting_classifier_weight[Voting_classifier_prediction]\n",
        "vc"
      ],
      "metadata": {
        "colab": {
          "base_uri": "https://localhost:8080/"
        },
        "id": "PmTOVnlphfKt",
        "outputId": "a9f7fa38-a37a-4c5f-9e9f-41fbb44dbb30"
      },
      "execution_count": null,
      "outputs": [
        {
          "output_type": "execute_result",
          "data": {
            "text/plain": [
              "0.36"
            ]
          },
          "metadata": {},
          "execution_count": 68
        }
      ]
    },
    {
      "cell_type": "markdown",
      "source": [
        "compare"
      ],
      "metadata": {
        "id": "dGxcZLaFhp5W"
      }
    },
    {
      "cell_type": "code",
      "source": [
        "if tl > vc :\n",
        "  print('The prediction result is ',tranfer_learning_prediction)\n",
        "elif tl < vc :\n",
        "  print('The prediction result is ',Voting_classifier_prediction)"
      ],
      "metadata": {
        "colab": {
          "base_uri": "https://localhost:8080/"
        },
        "id": "GnYpYQZQhrRp",
        "outputId": "21a52a74-26db-4eb4-d59f-9f370ae85fa5"
      },
      "execution_count": null,
      "outputs": [
        {
          "output_type": "stream",
          "name": "stdout",
          "text": [
            "The prediction result is  blues\n"
          ]
        }
      ]
    },
    {
      "cell_type": "markdown",
      "source": [
        "# 10s_Music genre classification"
      ],
      "metadata": {
        "id": "0CLVUTMgTOG5"
      }
    },
    {
      "cell_type": "markdown",
      "source": [
        "## prediction using transfer learning model"
      ],
      "metadata": {
        "id": "8UTtBqn2TOG-"
      }
    },
    {
      "cell_type": "code",
      "source": [
        "image_path='/content/drive/MyDrive/Dataset/Music-genre-classification/test/mel_image/blues.00000_mid_10s.png'"
      ],
      "metadata": {
        "id": "7mP6iZOmTOG-"
      },
      "execution_count": null,
      "outputs": []
    },
    {
      "cell_type": "code",
      "source": [
        "class TestData(Dataset):\n",
        "    def __init__(self,transform=None):\n",
        "        #self.root_dir = root_dir\n",
        "        #self.label = pd.read_csv(csv_file)\n",
        "        self.transform = transform\n",
        "        \n",
        "    def __len__(self):\n",
        "        return len(self.label)\n",
        "    \n",
        "    def __getitem__(self, idx):\n",
        "        if torch.is_tensor(idx):\n",
        "            idx = idx.item()\n",
        "        \n",
        "        #label = self.label.iloc[idx,1]\n",
        "        label=['blues']\n",
        "        #image_path = os.path.join(self.root_dir, f\"{self.label.iloc[idx,0]}.png\")\n",
        "        \n",
        "        image = default_loader(image_path)\n",
        "        \n",
        "        if self.transform:\n",
        "            image = self.transform(image)\n",
        "        \n",
        "        return (image, label)"
      ],
      "metadata": {
        "id": "PG0E9PxhTOG-"
      },
      "execution_count": null,
      "outputs": []
    },
    {
      "cell_type": "code",
      "source": [
        "transform_test = T.Compose([\n",
        "    T.Resize(224),                        \n",
        "    T.ToTensor()\n",
        "])\n",
        "\n",
        "test_ds = TestData(\n",
        "    transform=transform_test\n",
        ")"
      ],
      "metadata": {
        "id": "E0PfVoLyTOG-"
      },
      "execution_count": null,
      "outputs": []
    },
    {
      "cell_type": "code",
      "source": [
        "def predict_image(image):\n",
        "    xb = to_device(image.unsqueeze(0), device)\n",
        "    out = model(xb)\n",
        "    _, preds = torch.max(out, dim=1)\n",
        "    prediction = preds[0].item()\n",
        "    return prediction"
      ],
      "metadata": {
        "id": "VO_Vap1jTOG-"
      },
      "execution_count": null,
      "outputs": []
    },
    {
      "cell_type": "code",
      "source": [
        "image, label = test_ds[20]\n",
        "image = image.cuda() # add this line\n",
        "\n",
        "image"
      ],
      "metadata": {
        "colab": {
          "base_uri": "https://localhost:8080/"
        },
        "outputId": "521470d6-c6f3-44e8-dee1-378b3736356f",
        "id": "aQN9QCb2TOG-"
      },
      "execution_count": null,
      "outputs": [
        {
          "output_type": "execute_result",
          "data": {
            "text/plain": [
              "tensor([[[0.7255, 0.8235, 0.9765,  ..., 0.9333, 0.6863, 0.5294],\n",
              "         [0.7255, 0.8196, 0.9647,  ..., 0.9059, 0.6745, 0.5294],\n",
              "         [0.7255, 0.8078, 0.9490,  ..., 0.8588, 0.6588, 0.5333],\n",
              "         ...,\n",
              "         [0.3255, 0.3490, 0.3922,  ..., 0.2941, 0.2275, 0.1882],\n",
              "         [0.2824, 0.3294, 0.4078,  ..., 0.3255, 0.2314, 0.1725],\n",
              "         [0.2588, 0.3176, 0.4157,  ..., 0.3451, 0.2314, 0.1608]],\n",
              "\n",
              "        [[0.7255, 0.8235, 0.9765,  ..., 0.9333, 0.6863, 0.5294],\n",
              "         [0.7255, 0.8196, 0.9647,  ..., 0.9059, 0.6745, 0.5294],\n",
              "         [0.7255, 0.8078, 0.9490,  ..., 0.8588, 0.6588, 0.5333],\n",
              "         ...,\n",
              "         [0.3255, 0.3490, 0.3922,  ..., 0.2941, 0.2275, 0.1882],\n",
              "         [0.2824, 0.3294, 0.4078,  ..., 0.3255, 0.2314, 0.1725],\n",
              "         [0.2588, 0.3176, 0.4157,  ..., 0.3451, 0.2314, 0.1608]],\n",
              "\n",
              "        [[0.7255, 0.8235, 0.9765,  ..., 0.9333, 0.6863, 0.5294],\n",
              "         [0.7255, 0.8196, 0.9647,  ..., 0.9059, 0.6745, 0.5294],\n",
              "         [0.7255, 0.8078, 0.9490,  ..., 0.8588, 0.6588, 0.5333],\n",
              "         ...,\n",
              "         [0.3255, 0.3490, 0.3922,  ..., 0.2941, 0.2275, 0.1882],\n",
              "         [0.2824, 0.3294, 0.4078,  ..., 0.3255, 0.2314, 0.1725],\n",
              "         [0.2588, 0.3176, 0.4157,  ..., 0.3451, 0.2314, 0.1608]]],\n",
              "       device='cuda:0')"
            ]
          },
          "metadata": {},
          "execution_count": 44
        }
      ]
    },
    {
      "cell_type": "markdown",
      "source": [
        "0 is blues 5 is jazz"
      ],
      "metadata": {
        "id": "JoK_FKykTOG-"
      }
    },
    {
      "cell_type": "code",
      "source": [
        "general_path = '/content/drive/MyDrive/Dataset/Music-genre-classification/mel-spec-img/All_30s'\n",
        "genres = sorted(list(os.listdir(f'{general_path}')))\n",
        "genres"
      ],
      "metadata": {
        "colab": {
          "base_uri": "https://localhost:8080/"
        },
        "outputId": "8a22ec01-a246-42db-9429-3cbc700b206d",
        "id": "QRpWLoExTOG-"
      },
      "execution_count": null,
      "outputs": [
        {
          "output_type": "execute_result",
          "data": {
            "text/plain": [
              "['blues',\n",
              " 'classical',\n",
              " 'country',\n",
              " 'disco',\n",
              " 'hiphop',\n",
              " 'jazz',\n",
              " 'metal',\n",
              " 'pop',\n",
              " 'reggae',\n",
              " 'rock']"
            ]
          },
          "metadata": {},
          "execution_count": 45
        }
      ]
    },
    {
      "cell_type": "code",
      "source": [
        "print(\"Label:\", label[0])\n",
        "tranfer_learning_prediction = genres[predict_image(image)]\n",
        "print(\"Prediction:\", tranfer_learning_prediction)"
      ],
      "metadata": {
        "colab": {
          "base_uri": "https://localhost:8080/"
        },
        "outputId": "24bc2313-76b2-426d-c27b-51276687d671",
        "id": "up-3h3Q4TOG_"
      },
      "execution_count": null,
      "outputs": [
        {
          "output_type": "stream",
          "name": "stdout",
          "text": [
            "Label: blues\n",
            "Prediction: blues\n"
          ]
        }
      ]
    },
    {
      "cell_type": "markdown",
      "source": [
        "## Prediction using voting classifier"
      ],
      "metadata": {
        "id": "jCt73hEdTOG_"
      }
    },
    {
      "cell_type": "code",
      "source": [
        "Pkl_Filename = \"/content/drive/MyDrive/Dataset/Music-genre-classification/model/voting_classifier.pkl\"  "
      ],
      "metadata": {
        "id": "2ik9goebTOG_"
      },
      "execution_count": null,
      "outputs": []
    },
    {
      "cell_type": "code",
      "source": [
        "# Load the Model back from file\n",
        "with open(Pkl_Filename, 'rb') as file:  \n",
        "    model1 = pickle.load(file)\n",
        "\n",
        "model1"
      ],
      "metadata": {
        "colab": {
          "base_uri": "https://localhost:8080/"
        },
        "outputId": "231ca98f-59ec-46f8-9db4-b620a7e3cfca",
        "id": "SvswPKTITOG_"
      },
      "execution_count": null,
      "outputs": [
        {
          "output_type": "execute_result",
          "data": {
            "text/plain": [
              "VotingClassifier(estimators=[('XGB',\n",
              "                              XGBClassifier(alpha=1, base_score=0.5,\n",
              "                                            booster='gbtree',\n",
              "                                            colsample_bylevel=1,\n",
              "                                            colsample_bynode=1,\n",
              "                                            colsample_bytree=0.5,\n",
              "                                            enable_categorical=False, gamma=0,\n",
              "                                            gpu_id=-1, importance_type=None,\n",
              "                                            interaction_constraints='',\n",
              "                                            learning_rate=0.1, max_delta_step=0,\n",
              "                                            max_depth=4, min_child_weight=1,\n",
              "                                            missing=nan,\n",
              "                                            monotone_constraints='()',\n",
              "                                            n_est...\n",
              "                                                     random_state=42)),\n",
              "                             ('Logistic regression',\n",
              "                              LogisticRegression(multi_class='ovr',\n",
              "                                                 solver='liblinear')),\n",
              "                             ('Extra Tree',\n",
              "                              ExtraTreesClassifier(max_features=3,\n",
              "                                                   n_estimators=1000,\n",
              "                                                   random_state=42)),\n",
              "                             ('SVM',\n",
              "                              GridSearchCV(cv=5,\n",
              "                                           estimator=SVC(probability=True,\n",
              "                                                         random_state=42),\n",
              "                                           param_grid={'C': [0.1, 1, 10],\n",
              "                                                       'degree': [2, 3, 4],\n",
              "                                                       'kernel': ('linear',\n",
              "                                                                  'rbf',\n",
              "                                                                  'poly')}))],\n",
              "                 voting='soft')"
            ]
          },
          "metadata": {},
          "execution_count": 48
        }
      ]
    },
    {
      "cell_type": "code",
      "source": [
        "sc = pickle.load(open('/content/drive/MyDrive/Dataset/Music-genre-classification/model/sc.pkl','rb'))\n",
        "X_test_scaled = sc.transform(features)"
      ],
      "metadata": {
        "id": "l1wLCLFOTOG_"
      },
      "execution_count": null,
      "outputs": []
    },
    {
      "cell_type": "code",
      "source": [
        "X_test = pd.DataFrame(X_test_scaled, index=features.index, columns=features.columns)\n",
        "X_test"
      ],
      "metadata": {
        "colab": {
          "base_uri": "https://localhost:8080/",
          "height": 174
        },
        "outputId": "b1fc75f1-568e-4de6-d5cd-6d4fd58cb515",
        "id": "7_JuOe5zTOG_"
      },
      "execution_count": null,
      "outputs": [
        {
          "output_type": "execute_result",
          "data": {
            "text/plain": [
              "      tempo  chroma_stft_mean  spectral_centroid_mean  \\\n",
              "0  0.085284         -0.161843               -0.558174   \n",
              "\n",
              "   spectral_bandwidth_mean  spectral_rolloff_mean  chroma_cens_mean  \\\n",
              "0                -0.377106              -0.426237          0.856401   \n",
              "\n",
              "   spectral_contrast_mean  tonnetz_mean  chroma_stft_var  \\\n",
              "0               -0.199495       0.15429         0.096442   \n",
              "\n",
              "   spectral_centroid_var  ...  mfcc4_var  mfcc5_var  mfcc6_var  mfcc7_var  \\\n",
              "0              -0.733693  ...  -0.688329  -0.485957  -0.418684  -0.928137   \n",
              "\n",
              "   mfcc8_var  mfcc9_var  mfcc10_var  mfcc11_var  mfcc12_var  mfcc13_var  \n",
              "0  -0.636211  -0.240862   -0.863387   -0.140543   -0.593652    -0.81905  \n",
              "\n",
              "[1 rows x 47 columns]"
            ],
            "text/html": [
              "\n",
              "  <div id=\"df-e15dd45b-977a-4a2f-9b20-098c62e37af9\">\n",
              "    <div class=\"colab-df-container\">\n",
              "      <div>\n",
              "<style scoped>\n",
              "    .dataframe tbody tr th:only-of-type {\n",
              "        vertical-align: middle;\n",
              "    }\n",
              "\n",
              "    .dataframe tbody tr th {\n",
              "        vertical-align: top;\n",
              "    }\n",
              "\n",
              "    .dataframe thead th {\n",
              "        text-align: right;\n",
              "    }\n",
              "</style>\n",
              "<table border=\"1\" class=\"dataframe\">\n",
              "  <thead>\n",
              "    <tr style=\"text-align: right;\">\n",
              "      <th></th>\n",
              "      <th>tempo</th>\n",
              "      <th>chroma_stft_mean</th>\n",
              "      <th>spectral_centroid_mean</th>\n",
              "      <th>spectral_bandwidth_mean</th>\n",
              "      <th>spectral_rolloff_mean</th>\n",
              "      <th>chroma_cens_mean</th>\n",
              "      <th>spectral_contrast_mean</th>\n",
              "      <th>tonnetz_mean</th>\n",
              "      <th>chroma_stft_var</th>\n",
              "      <th>spectral_centroid_var</th>\n",
              "      <th>...</th>\n",
              "      <th>mfcc4_var</th>\n",
              "      <th>mfcc5_var</th>\n",
              "      <th>mfcc6_var</th>\n",
              "      <th>mfcc7_var</th>\n",
              "      <th>mfcc8_var</th>\n",
              "      <th>mfcc9_var</th>\n",
              "      <th>mfcc10_var</th>\n",
              "      <th>mfcc11_var</th>\n",
              "      <th>mfcc12_var</th>\n",
              "      <th>mfcc13_var</th>\n",
              "    </tr>\n",
              "  </thead>\n",
              "  <tbody>\n",
              "    <tr>\n",
              "      <th>0</th>\n",
              "      <td>0.085284</td>\n",
              "      <td>-0.161843</td>\n",
              "      <td>-0.558174</td>\n",
              "      <td>-0.377106</td>\n",
              "      <td>-0.426237</td>\n",
              "      <td>0.856401</td>\n",
              "      <td>-0.199495</td>\n",
              "      <td>0.15429</td>\n",
              "      <td>0.096442</td>\n",
              "      <td>-0.733693</td>\n",
              "      <td>...</td>\n",
              "      <td>-0.688329</td>\n",
              "      <td>-0.485957</td>\n",
              "      <td>-0.418684</td>\n",
              "      <td>-0.928137</td>\n",
              "      <td>-0.636211</td>\n",
              "      <td>-0.240862</td>\n",
              "      <td>-0.863387</td>\n",
              "      <td>-0.140543</td>\n",
              "      <td>-0.593652</td>\n",
              "      <td>-0.81905</td>\n",
              "    </tr>\n",
              "  </tbody>\n",
              "</table>\n",
              "<p>1 rows × 47 columns</p>\n",
              "</div>\n",
              "      <button class=\"colab-df-convert\" onclick=\"convertToInteractive('df-e15dd45b-977a-4a2f-9b20-098c62e37af9')\"\n",
              "              title=\"Convert this dataframe to an interactive table.\"\n",
              "              style=\"display:none;\">\n",
              "        \n",
              "  <svg xmlns=\"http://www.w3.org/2000/svg\" height=\"24px\"viewBox=\"0 0 24 24\"\n",
              "       width=\"24px\">\n",
              "    <path d=\"M0 0h24v24H0V0z\" fill=\"none\"/>\n",
              "    <path d=\"M18.56 5.44l.94 2.06.94-2.06 2.06-.94-2.06-.94-.94-2.06-.94 2.06-2.06.94zm-11 1L8.5 8.5l.94-2.06 2.06-.94-2.06-.94L8.5 2.5l-.94 2.06-2.06.94zm10 10l.94 2.06.94-2.06 2.06-.94-2.06-.94-.94-2.06-.94 2.06-2.06.94z\"/><path d=\"M17.41 7.96l-1.37-1.37c-.4-.4-.92-.59-1.43-.59-.52 0-1.04.2-1.43.59L10.3 9.45l-7.72 7.72c-.78.78-.78 2.05 0 2.83L4 21.41c.39.39.9.59 1.41.59.51 0 1.02-.2 1.41-.59l7.78-7.78 2.81-2.81c.8-.78.8-2.07 0-2.86zM5.41 20L4 18.59l7.72-7.72 1.47 1.35L5.41 20z\"/>\n",
              "  </svg>\n",
              "      </button>\n",
              "      \n",
              "  <style>\n",
              "    .colab-df-container {\n",
              "      display:flex;\n",
              "      flex-wrap:wrap;\n",
              "      gap: 12px;\n",
              "    }\n",
              "\n",
              "    .colab-df-convert {\n",
              "      background-color: #E8F0FE;\n",
              "      border: none;\n",
              "      border-radius: 50%;\n",
              "      cursor: pointer;\n",
              "      display: none;\n",
              "      fill: #1967D2;\n",
              "      height: 32px;\n",
              "      padding: 0 0 0 0;\n",
              "      width: 32px;\n",
              "    }\n",
              "\n",
              "    .colab-df-convert:hover {\n",
              "      background-color: #E2EBFA;\n",
              "      box-shadow: 0px 1px 2px rgba(60, 64, 67, 0.3), 0px 1px 3px 1px rgba(60, 64, 67, 0.15);\n",
              "      fill: #174EA6;\n",
              "    }\n",
              "\n",
              "    [theme=dark] .colab-df-convert {\n",
              "      background-color: #3B4455;\n",
              "      fill: #D2E3FC;\n",
              "    }\n",
              "\n",
              "    [theme=dark] .colab-df-convert:hover {\n",
              "      background-color: #434B5C;\n",
              "      box-shadow: 0px 1px 3px 1px rgba(0, 0, 0, 0.15);\n",
              "      filter: drop-shadow(0px 1px 2px rgba(0, 0, 0, 0.3));\n",
              "      fill: #FFFFFF;\n",
              "    }\n",
              "  </style>\n",
              "\n",
              "      <script>\n",
              "        const buttonEl =\n",
              "          document.querySelector('#df-e15dd45b-977a-4a2f-9b20-098c62e37af9 button.colab-df-convert');\n",
              "        buttonEl.style.display =\n",
              "          google.colab.kernel.accessAllowed ? 'block' : 'none';\n",
              "\n",
              "        async function convertToInteractive(key) {\n",
              "          const element = document.querySelector('#df-e15dd45b-977a-4a2f-9b20-098c62e37af9');\n",
              "          const dataTable =\n",
              "            await google.colab.kernel.invokeFunction('convertToInteractive',\n",
              "                                                     [key], {});\n",
              "          if (!dataTable) return;\n",
              "\n",
              "          const docLinkHtml = 'Like what you see? Visit the ' +\n",
              "            '<a target=\"_blank\" href=https://colab.research.google.com/notebooks/data_table.ipynb>data table notebook</a>'\n",
              "            + ' to learn more about interactive tables.';\n",
              "          element.innerHTML = '';\n",
              "          dataTable['output_type'] = 'display_data';\n",
              "          await google.colab.output.renderOutput(dataTable, element);\n",
              "          const docLink = document.createElement('div');\n",
              "          docLink.innerHTML = docLinkHtml;\n",
              "          element.appendChild(docLink);\n",
              "        }\n",
              "      </script>\n",
              "    </div>\n",
              "  </div>\n",
              "  "
            ]
          },
          "metadata": {},
          "execution_count": 50
        }
      ]
    },
    {
      "cell_type": "code",
      "source": [
        "to_drop=['spectral_bandwidth_mean', 'spectral_rolloff_mean', 'chroma_cens_var', 'tonnetz_var', 'mfcc2_mean','mfcc2_var', 'mfcc11_var', 'mfcc12_var','spectral_bandwidth_var']\n",
        "features = X_test.drop(to_drop,axis=1)"
      ],
      "metadata": {
        "id": "Gphtc2jNTOG_"
      },
      "execution_count": null,
      "outputs": []
    },
    {
      "cell_type": "code",
      "source": [
        "# Predict the Labels using the reloaded Model\n",
        "Ypredict = model1.predict(features)  \n",
        "Voting_classifier_prediction = Ypredict[0]\n",
        "print(\"Prediction of the Music Genre : \",Voting_classifier_prediction) "
      ],
      "metadata": {
        "colab": {
          "base_uri": "https://localhost:8080/"
        },
        "outputId": "c58495de-c83d-480e-9218-d91252e5f3cb",
        "id": "_WLVcoKPTOG_"
      },
      "execution_count": null,
      "outputs": [
        {
          "output_type": "stream",
          "name": "stdout",
          "text": [
            "Prediction of the Music Genre :  blues\n"
          ]
        }
      ]
    },
    {
      "cell_type": "markdown",
      "source": [
        "## Final prediction using model Voting "
      ],
      "metadata": {
        "id": "wjObtZL3TOG_"
      }
    },
    {
      "cell_type": "markdown",
      "source": [
        "if their predictions are the same:"
      ],
      "metadata": {
        "id": "04cYIG9wTOG_"
      }
    },
    {
      "cell_type": "code",
      "source": [
        "if tranfer_learning_prediction == Voting_classifier_prediction :\n",
        "  print('Tranfer learning prediction and Voting classifier prediction are the same ! ! !')"
      ],
      "metadata": {
        "colab": {
          "base_uri": "https://localhost:8080/"
        },
        "outputId": "28e708e3-3684-46c5-d737-a3df4227e587",
        "id": "QcYPEtztTOG_"
      },
      "execution_count": null,
      "outputs": [
        {
          "output_type": "stream",
          "name": "stdout",
          "text": [
            "Tranfer learning prediction and Voting classifier prediction are the same ! ! !\n"
          ]
        }
      ]
    },
    {
      "cell_type": "markdown",
      "source": [
        "if their predictions are not the same:\n",
        "\n",
        "\n"
      ],
      "metadata": {
        "id": "m1Lnvmd6TOHA"
      }
    },
    {
      "cell_type": "code",
      "source": [
        "if tranfer_learning_prediction != Voting_classifier_prediction :\n",
        "  transfer_model_weight = {'blues':0.84,'classical':0.98,'country':0.8,'disco':0.86,'hiphop':0.81,'jazz':0.82,'metal':0.93,'pop':0.87,'reggae':0.84,'rock':0.69}\n",
        "  voting_classifier_weight = {'blues':0.36,'classical':1,'country':0.86,'disco':0.78,'hiphop':0.78,'jazz':0.88,'metal':0.84,'pop':0.82,'reggae':0.78,'rock':0.65}"
      ],
      "metadata": {
        "id": "HDma9cAeTOHA"
      },
      "execution_count": null,
      "outputs": []
    },
    {
      "cell_type": "code",
      "source": [
        "transfer_model_weight = {'blues':0.84,'classical':0.98,'country':0.8,'disco':0.86,'hiphop':0.81,'jazz':0.82,'metal':0.93,'pop':0.87,'reggae':0.84,'rock':0.69}\n",
        "voting_classifier_weight = {'blues':0.36,'classical':1,'country':0.86,'disco':0.78,'hiphop':0.78,'jazz':0.88,'metal':0.84,'pop':0.82,'reggae':0.78,'rock':0.65}\n"
      ],
      "metadata": {
        "id": "WVE57xlgTOHA"
      },
      "execution_count": null,
      "outputs": []
    },
    {
      "cell_type": "code",
      "source": [
        "tranfer_learning_prediction"
      ],
      "metadata": {
        "colab": {
          "base_uri": "https://localhost:8080/",
          "height": 35
        },
        "outputId": "a57127e6-76c0-45ac-856a-13d6b95feec3",
        "id": "MooEW523TOHA"
      },
      "execution_count": null,
      "outputs": [
        {
          "output_type": "execute_result",
          "data": {
            "text/plain": [
              "'blues'"
            ],
            "application/vnd.google.colaboratory.intrinsic+json": {
              "type": "string"
            }
          },
          "metadata": {},
          "execution_count": 56
        }
      ]
    },
    {
      "cell_type": "code",
      "source": [
        "tl = transfer_model_weight[tranfer_learning_prediction]\n",
        "tl"
      ],
      "metadata": {
        "colab": {
          "base_uri": "https://localhost:8080/"
        },
        "outputId": "8579a38d-5a32-4177-afc7-ea9bb1be5e51",
        "id": "7RdTRwjRTOHA"
      },
      "execution_count": null,
      "outputs": [
        {
          "output_type": "execute_result",
          "data": {
            "text/plain": [
              "0.84"
            ]
          },
          "metadata": {},
          "execution_count": 57
        }
      ]
    },
    {
      "cell_type": "code",
      "source": [
        "Voting_classifier_prediction"
      ],
      "metadata": {
        "colab": {
          "base_uri": "https://localhost:8080/",
          "height": 35
        },
        "outputId": "d3408d50-61ae-48c5-9212-8e525967fb51",
        "id": "2-9HjTH1TOHA"
      },
      "execution_count": null,
      "outputs": [
        {
          "output_type": "execute_result",
          "data": {
            "text/plain": [
              "'blues'"
            ],
            "application/vnd.google.colaboratory.intrinsic+json": {
              "type": "string"
            }
          },
          "metadata": {},
          "execution_count": 58
        }
      ]
    },
    {
      "cell_type": "code",
      "source": [
        "vc = voting_classifier_weight[Voting_classifier_prediction]\n",
        "vc"
      ],
      "metadata": {
        "colab": {
          "base_uri": "https://localhost:8080/"
        },
        "outputId": "78d515bc-055a-4db8-c443-e6b353456e52",
        "id": "vfZdVUonTOHA"
      },
      "execution_count": null,
      "outputs": [
        {
          "output_type": "execute_result",
          "data": {
            "text/plain": [
              "0.36"
            ]
          },
          "metadata": {},
          "execution_count": 59
        }
      ]
    },
    {
      "cell_type": "markdown",
      "source": [
        "compare"
      ],
      "metadata": {
        "id": "vZfk27ObTOHA"
      }
    },
    {
      "cell_type": "code",
      "source": [
        "if tl > vc :\n",
        "  print('The prediction result is ',tranfer_learning_prediction)\n",
        "elif tl < vc :\n",
        "  print('The prediction result is ',Voting_classifier_prediction)"
      ],
      "metadata": {
        "colab": {
          "base_uri": "https://localhost:8080/"
        },
        "outputId": "ba7ce3f2-9a75-4d5a-a194-de9e1a45b83e",
        "id": "Rs4d0YQ5TOHA"
      },
      "execution_count": null,
      "outputs": [
        {
          "output_type": "stream",
          "name": "stdout",
          "text": [
            "The prediction result is  blues\n"
          ]
        }
      ]
    },
    {
      "cell_type": "markdown",
      "source": [
        "# 3s_Music genre classification"
      ],
      "metadata": {
        "id": "mRRTMb9UTueY"
      }
    },
    {
      "cell_type": "markdown",
      "source": [
        "## prediction using transfer learning model"
      ],
      "metadata": {
        "id": "ovxOiu_ETuec"
      }
    },
    {
      "cell_type": "code",
      "source": [
        "image_path='/content/drive/MyDrive/Dataset/Music-genre-classification/test/mel_image/3s.wav.png'"
      ],
      "metadata": {
        "id": "r3gBHnWwTuec"
      },
      "execution_count": null,
      "outputs": []
    },
    {
      "cell_type": "code",
      "source": [
        "class TestData(Dataset):\n",
        "    def __init__(self,transform=None):\n",
        "        #self.root_dir = root_dir\n",
        "        #self.label = pd.read_csv(csv_file)\n",
        "        self.transform = transform\n",
        "        \n",
        "    def __len__(self):\n",
        "        return len(self.label)\n",
        "    \n",
        "    def __getitem__(self, idx):\n",
        "        if torch.is_tensor(idx):\n",
        "            idx = idx.item()\n",
        "        \n",
        "        #label = self.label.iloc[idx,1]\n",
        "        label=['blues']\n",
        "        #image_path = os.path.join(self.root_dir, f\"{self.label.iloc[idx,0]}.png\")\n",
        "        \n",
        "        image = default_loader(image_path)\n",
        "        \n",
        "        if self.transform:\n",
        "            image = self.transform(image)\n",
        "        \n",
        "        return (image, label)"
      ],
      "metadata": {
        "id": "FzNje6H9Tuec"
      },
      "execution_count": null,
      "outputs": []
    },
    {
      "cell_type": "code",
      "source": [
        "transform_test = T.Compose([\n",
        "    T.Resize(224),                        \n",
        "    T.ToTensor()\n",
        "])\n",
        "\n",
        "test_ds = TestData(\n",
        "    transform=transform_test\n",
        ")"
      ],
      "metadata": {
        "id": "WtcMlRKFTued"
      },
      "execution_count": null,
      "outputs": []
    },
    {
      "cell_type": "code",
      "source": [
        "def predict_image(image):\n",
        "    xb = to_device(image.unsqueeze(0), device)\n",
        "    out = model(xb)\n",
        "    _, preds = torch.max(out, dim=1)\n",
        "    prediction = preds[0].item()\n",
        "    return prediction"
      ],
      "metadata": {
        "id": "YBjqXi2PTued"
      },
      "execution_count": null,
      "outputs": []
    },
    {
      "cell_type": "code",
      "source": [
        "image, label = test_ds[20]\n",
        "image = image.cuda() # add this line\n",
        "\n",
        "image"
      ],
      "metadata": {
        "colab": {
          "base_uri": "https://localhost:8080/"
        },
        "outputId": "a7344825-51a8-47d4-88f0-93a06402e36d",
        "id": "auVEqpoVTued"
      },
      "execution_count": null,
      "outputs": [
        {
          "output_type": "execute_result",
          "data": {
            "text/plain": [
              "tensor([[[0.5373, 0.6784, 0.9059,  ..., 0.9373, 0.7216, 0.5843],\n",
              "         [0.5373, 0.6667, 0.8706,  ..., 0.8980, 0.7059, 0.5843],\n",
              "         [0.5373, 0.6471, 0.8157,  ..., 0.8392, 0.6824, 0.5843],\n",
              "         ...,\n",
              "         [0.1137, 0.1020, 0.0902,  ..., 0.1137, 0.1804, 0.2196],\n",
              "         [0.1020, 0.1059, 0.1098,  ..., 0.1490, 0.2000, 0.2353],\n",
              "         [0.0941, 0.1059, 0.1255,  ..., 0.1686, 0.2157, 0.2471]],\n",
              "\n",
              "        [[0.5373, 0.6784, 0.9059,  ..., 0.9373, 0.7216, 0.5843],\n",
              "         [0.5373, 0.6667, 0.8706,  ..., 0.8980, 0.7059, 0.5843],\n",
              "         [0.5373, 0.6471, 0.8157,  ..., 0.8392, 0.6824, 0.5843],\n",
              "         ...,\n",
              "         [0.1137, 0.1020, 0.0902,  ..., 0.1137, 0.1804, 0.2196],\n",
              "         [0.1020, 0.1059, 0.1098,  ..., 0.1490, 0.2000, 0.2353],\n",
              "         [0.0941, 0.1059, 0.1255,  ..., 0.1686, 0.2157, 0.2471]],\n",
              "\n",
              "        [[0.5373, 0.6784, 0.9059,  ..., 0.9373, 0.7216, 0.5843],\n",
              "         [0.5373, 0.6667, 0.8706,  ..., 0.8980, 0.7059, 0.5843],\n",
              "         [0.5373, 0.6471, 0.8157,  ..., 0.8392, 0.6824, 0.5843],\n",
              "         ...,\n",
              "         [0.1137, 0.1020, 0.0902,  ..., 0.1137, 0.1804, 0.2196],\n",
              "         [0.1020, 0.1059, 0.1098,  ..., 0.1490, 0.2000, 0.2353],\n",
              "         [0.0941, 0.1059, 0.1255,  ..., 0.1686, 0.2157, 0.2471]]],\n",
              "       device='cuda:0')"
            ]
          },
          "metadata": {},
          "execution_count": 83
        }
      ]
    },
    {
      "cell_type": "markdown",
      "source": [
        "0 is blues 5 is jazz"
      ],
      "metadata": {
        "id": "62VP54tzTued"
      }
    },
    {
      "cell_type": "code",
      "source": [
        "general_path = '/content/drive/MyDrive/Dataset/Music-genre-classification/mel-spec-img/All_30s'\n",
        "genres = sorted(list(os.listdir(f'{general_path}')))\n",
        "genres"
      ],
      "metadata": {
        "colab": {
          "base_uri": "https://localhost:8080/"
        },
        "outputId": "6d1f8d9d-b283-4c83-b07b-6d7b3ac3694a",
        "id": "fG7cZMOQTued"
      },
      "execution_count": null,
      "outputs": [
        {
          "output_type": "execute_result",
          "data": {
            "text/plain": [
              "['blues',\n",
              " 'classical',\n",
              " 'country',\n",
              " 'disco',\n",
              " 'hiphop',\n",
              " 'jazz',\n",
              " 'metal',\n",
              " 'pop',\n",
              " 'reggae',\n",
              " 'rock']"
            ]
          },
          "metadata": {},
          "execution_count": 84
        }
      ]
    },
    {
      "cell_type": "code",
      "source": [
        "print(\"Label:\", label[0])\n",
        "tranfer_learning_prediction = genres[predict_image(image)]\n",
        "print(\"Prediction:\", tranfer_learning_prediction)"
      ],
      "metadata": {
        "colab": {
          "base_uri": "https://localhost:8080/"
        },
        "outputId": "d7a5e590-8ce9-414c-dd6d-ac925c0388fa",
        "id": "IAXHxGiRTued"
      },
      "execution_count": null,
      "outputs": [
        {
          "output_type": "stream",
          "name": "stdout",
          "text": [
            "Label: blues\n",
            "Prediction: blues\n"
          ]
        }
      ]
    },
    {
      "cell_type": "markdown",
      "source": [
        "## Prediction using voting classifier"
      ],
      "metadata": {
        "id": "4QKmL_E9Tued"
      }
    },
    {
      "cell_type": "code",
      "source": [
        "Pkl_Filename = \"/content/drive/MyDrive/Dataset/Music-genre-classification/model/voting_classifier.pkl\"  "
      ],
      "metadata": {
        "id": "VW8_fE_1Tued"
      },
      "execution_count": null,
      "outputs": []
    },
    {
      "cell_type": "code",
      "source": [
        "# Load the Model back from file\n",
        "with open(Pkl_Filename, 'rb') as file:  \n",
        "    model1 = pickle.load(file)\n",
        "\n",
        "model1"
      ],
      "metadata": {
        "colab": {
          "base_uri": "https://localhost:8080/"
        },
        "outputId": "1bc862eb-1f72-4c46-d729-1b4a5aed0e7a",
        "id": "YCXcaHu-Tued"
      },
      "execution_count": null,
      "outputs": [
        {
          "output_type": "execute_result",
          "data": {
            "text/plain": [
              "VotingClassifier(estimators=[('XGB',\n",
              "                              XGBClassifier(alpha=1, base_score=0.5,\n",
              "                                            booster='gbtree',\n",
              "                                            colsample_bylevel=1,\n",
              "                                            colsample_bynode=1,\n",
              "                                            colsample_bytree=0.5,\n",
              "                                            enable_categorical=False, gamma=0,\n",
              "                                            gpu_id=-1, importance_type=None,\n",
              "                                            interaction_constraints='',\n",
              "                                            learning_rate=0.1, max_delta_step=0,\n",
              "                                            max_depth=4, min_child_weight=1,\n",
              "                                            missing=nan,\n",
              "                                            monotone_constraints='()',\n",
              "                                            n_est...\n",
              "                                                     random_state=42)),\n",
              "                             ('Logistic regression',\n",
              "                              LogisticRegression(multi_class='ovr',\n",
              "                                                 solver='liblinear')),\n",
              "                             ('Extra Tree',\n",
              "                              ExtraTreesClassifier(max_features=3,\n",
              "                                                   n_estimators=1000,\n",
              "                                                   random_state=42)),\n",
              "                             ('SVM',\n",
              "                              GridSearchCV(cv=5,\n",
              "                                           estimator=SVC(probability=True,\n",
              "                                                         random_state=42),\n",
              "                                           param_grid={'C': [0.1, 1, 10],\n",
              "                                                       'degree': [2, 3, 4],\n",
              "                                                       'kernel': ('linear',\n",
              "                                                                  'rbf',\n",
              "                                                                  'poly')}))],\n",
              "                 voting='soft')"
            ]
          },
          "metadata": {},
          "execution_count": 87
        }
      ]
    },
    {
      "cell_type": "code",
      "source": [
        "sc = pickle.load(open('/content/drive/MyDrive/Dataset/Music-genre-classification/model/sc.pkl','rb'))\n",
        "X_test_scaled = sc.transform(features)"
      ],
      "metadata": {
        "id": "47_QBkA2Tuee"
      },
      "execution_count": null,
      "outputs": []
    },
    {
      "cell_type": "code",
      "source": [
        "X_test = pd.DataFrame(X_test_scaled, index=features.index, columns=features.columns)\n",
        "X_test"
      ],
      "metadata": {
        "colab": {
          "base_uri": "https://localhost:8080/",
          "height": 174
        },
        "outputId": "a5086b35-8655-4679-ab6a-ddd499f973b5",
        "id": "Ytd1oU0cTuee"
      },
      "execution_count": null,
      "outputs": [
        {
          "output_type": "execute_result",
          "data": {
            "text/plain": [
              "      tempo  chroma_stft_mean  spectral_centroid_mean  \\\n",
              "0  0.378228          0.163963               -0.452554   \n",
              "\n",
              "   spectral_bandwidth_mean  spectral_rolloff_mean  chroma_cens_mean  \\\n",
              "0                -0.289601              -0.296743          0.809797   \n",
              "\n",
              "   spectral_contrast_mean  tonnetz_mean  chroma_stft_var  \\\n",
              "0               -0.454974     -0.008035        -0.181169   \n",
              "\n",
              "   spectral_centroid_var  ...  mfcc4_var  mfcc5_var  mfcc6_var  mfcc7_var  \\\n",
              "0              -0.763047  ...  -0.520467  -0.844778  -0.776513  -0.880229   \n",
              "\n",
              "   mfcc8_var  mfcc9_var  mfcc10_var  mfcc11_var  mfcc12_var  mfcc13_var  \n",
              "0  -0.854096   -0.59037   -0.818664    0.052245    -0.98431   -0.864867  \n",
              "\n",
              "[1 rows x 47 columns]"
            ],
            "text/html": [
              "\n",
              "  <div id=\"df-d8a34682-acef-4e1d-b5b6-ebb3a62c2436\">\n",
              "    <div class=\"colab-df-container\">\n",
              "      <div>\n",
              "<style scoped>\n",
              "    .dataframe tbody tr th:only-of-type {\n",
              "        vertical-align: middle;\n",
              "    }\n",
              "\n",
              "    .dataframe tbody tr th {\n",
              "        vertical-align: top;\n",
              "    }\n",
              "\n",
              "    .dataframe thead th {\n",
              "        text-align: right;\n",
              "    }\n",
              "</style>\n",
              "<table border=\"1\" class=\"dataframe\">\n",
              "  <thead>\n",
              "    <tr style=\"text-align: right;\">\n",
              "      <th></th>\n",
              "      <th>tempo</th>\n",
              "      <th>chroma_stft_mean</th>\n",
              "      <th>spectral_centroid_mean</th>\n",
              "      <th>spectral_bandwidth_mean</th>\n",
              "      <th>spectral_rolloff_mean</th>\n",
              "      <th>chroma_cens_mean</th>\n",
              "      <th>spectral_contrast_mean</th>\n",
              "      <th>tonnetz_mean</th>\n",
              "      <th>chroma_stft_var</th>\n",
              "      <th>spectral_centroid_var</th>\n",
              "      <th>...</th>\n",
              "      <th>mfcc4_var</th>\n",
              "      <th>mfcc5_var</th>\n",
              "      <th>mfcc6_var</th>\n",
              "      <th>mfcc7_var</th>\n",
              "      <th>mfcc8_var</th>\n",
              "      <th>mfcc9_var</th>\n",
              "      <th>mfcc10_var</th>\n",
              "      <th>mfcc11_var</th>\n",
              "      <th>mfcc12_var</th>\n",
              "      <th>mfcc13_var</th>\n",
              "    </tr>\n",
              "  </thead>\n",
              "  <tbody>\n",
              "    <tr>\n",
              "      <th>0</th>\n",
              "      <td>0.378228</td>\n",
              "      <td>0.163963</td>\n",
              "      <td>-0.452554</td>\n",
              "      <td>-0.289601</td>\n",
              "      <td>-0.296743</td>\n",
              "      <td>0.809797</td>\n",
              "      <td>-0.454974</td>\n",
              "      <td>-0.008035</td>\n",
              "      <td>-0.181169</td>\n",
              "      <td>-0.763047</td>\n",
              "      <td>...</td>\n",
              "      <td>-0.520467</td>\n",
              "      <td>-0.844778</td>\n",
              "      <td>-0.776513</td>\n",
              "      <td>-0.880229</td>\n",
              "      <td>-0.854096</td>\n",
              "      <td>-0.59037</td>\n",
              "      <td>-0.818664</td>\n",
              "      <td>0.052245</td>\n",
              "      <td>-0.98431</td>\n",
              "      <td>-0.864867</td>\n",
              "    </tr>\n",
              "  </tbody>\n",
              "</table>\n",
              "<p>1 rows × 47 columns</p>\n",
              "</div>\n",
              "      <button class=\"colab-df-convert\" onclick=\"convertToInteractive('df-d8a34682-acef-4e1d-b5b6-ebb3a62c2436')\"\n",
              "              title=\"Convert this dataframe to an interactive table.\"\n",
              "              style=\"display:none;\">\n",
              "        \n",
              "  <svg xmlns=\"http://www.w3.org/2000/svg\" height=\"24px\"viewBox=\"0 0 24 24\"\n",
              "       width=\"24px\">\n",
              "    <path d=\"M0 0h24v24H0V0z\" fill=\"none\"/>\n",
              "    <path d=\"M18.56 5.44l.94 2.06.94-2.06 2.06-.94-2.06-.94-.94-2.06-.94 2.06-2.06.94zm-11 1L8.5 8.5l.94-2.06 2.06-.94-2.06-.94L8.5 2.5l-.94 2.06-2.06.94zm10 10l.94 2.06.94-2.06 2.06-.94-2.06-.94-.94-2.06-.94 2.06-2.06.94z\"/><path d=\"M17.41 7.96l-1.37-1.37c-.4-.4-.92-.59-1.43-.59-.52 0-1.04.2-1.43.59L10.3 9.45l-7.72 7.72c-.78.78-.78 2.05 0 2.83L4 21.41c.39.39.9.59 1.41.59.51 0 1.02-.2 1.41-.59l7.78-7.78 2.81-2.81c.8-.78.8-2.07 0-2.86zM5.41 20L4 18.59l7.72-7.72 1.47 1.35L5.41 20z\"/>\n",
              "  </svg>\n",
              "      </button>\n",
              "      \n",
              "  <style>\n",
              "    .colab-df-container {\n",
              "      display:flex;\n",
              "      flex-wrap:wrap;\n",
              "      gap: 12px;\n",
              "    }\n",
              "\n",
              "    .colab-df-convert {\n",
              "      background-color: #E8F0FE;\n",
              "      border: none;\n",
              "      border-radius: 50%;\n",
              "      cursor: pointer;\n",
              "      display: none;\n",
              "      fill: #1967D2;\n",
              "      height: 32px;\n",
              "      padding: 0 0 0 0;\n",
              "      width: 32px;\n",
              "    }\n",
              "\n",
              "    .colab-df-convert:hover {\n",
              "      background-color: #E2EBFA;\n",
              "      box-shadow: 0px 1px 2px rgba(60, 64, 67, 0.3), 0px 1px 3px 1px rgba(60, 64, 67, 0.15);\n",
              "      fill: #174EA6;\n",
              "    }\n",
              "\n",
              "    [theme=dark] .colab-df-convert {\n",
              "      background-color: #3B4455;\n",
              "      fill: #D2E3FC;\n",
              "    }\n",
              "\n",
              "    [theme=dark] .colab-df-convert:hover {\n",
              "      background-color: #434B5C;\n",
              "      box-shadow: 0px 1px 3px 1px rgba(0, 0, 0, 0.15);\n",
              "      filter: drop-shadow(0px 1px 2px rgba(0, 0, 0, 0.3));\n",
              "      fill: #FFFFFF;\n",
              "    }\n",
              "  </style>\n",
              "\n",
              "      <script>\n",
              "        const buttonEl =\n",
              "          document.querySelector('#df-d8a34682-acef-4e1d-b5b6-ebb3a62c2436 button.colab-df-convert');\n",
              "        buttonEl.style.display =\n",
              "          google.colab.kernel.accessAllowed ? 'block' : 'none';\n",
              "\n",
              "        async function convertToInteractive(key) {\n",
              "          const element = document.querySelector('#df-d8a34682-acef-4e1d-b5b6-ebb3a62c2436');\n",
              "          const dataTable =\n",
              "            await google.colab.kernel.invokeFunction('convertToInteractive',\n",
              "                                                     [key], {});\n",
              "          if (!dataTable) return;\n",
              "\n",
              "          const docLinkHtml = 'Like what you see? Visit the ' +\n",
              "            '<a target=\"_blank\" href=https://colab.research.google.com/notebooks/data_table.ipynb>data table notebook</a>'\n",
              "            + ' to learn more about interactive tables.';\n",
              "          element.innerHTML = '';\n",
              "          dataTable['output_type'] = 'display_data';\n",
              "          await google.colab.output.renderOutput(dataTable, element);\n",
              "          const docLink = document.createElement('div');\n",
              "          docLink.innerHTML = docLinkHtml;\n",
              "          element.appendChild(docLink);\n",
              "        }\n",
              "      </script>\n",
              "    </div>\n",
              "  </div>\n",
              "  "
            ]
          },
          "metadata": {},
          "execution_count": 89
        }
      ]
    },
    {
      "cell_type": "code",
      "source": [
        "to_drop=['spectral_bandwidth_mean', 'spectral_rolloff_mean', 'chroma_cens_var', 'tonnetz_var', 'mfcc2_mean','mfcc2_var', 'mfcc11_var', 'mfcc12_var','spectral_bandwidth_var']\n",
        "features = X_test.drop(to_drop,axis=1)"
      ],
      "metadata": {
        "id": "kll0FzWWTuee"
      },
      "execution_count": null,
      "outputs": []
    },
    {
      "cell_type": "code",
      "source": [
        "# Predict the Labels using the reloaded Model\n",
        "Ypredict = model1.predict(features)  \n",
        "Voting_classifier_prediction = Ypredict[0]\n",
        "print(\"Prediction of the Music Genre : \",Voting_classifier_prediction) "
      ],
      "metadata": {
        "colab": {
          "base_uri": "https://localhost:8080/"
        },
        "outputId": "39caa9a9-9d5b-48a2-a0b1-ba535407d2e2",
        "id": "GuiIASSXTuee"
      },
      "execution_count": null,
      "outputs": [
        {
          "output_type": "stream",
          "name": "stdout",
          "text": [
            "Prediction of the Music Genre :  rock\n"
          ]
        }
      ]
    },
    {
      "cell_type": "markdown",
      "source": [
        "## Final prediction using model Voting "
      ],
      "metadata": {
        "id": "4x8KrCRwTuee"
      }
    },
    {
      "cell_type": "markdown",
      "source": [
        "if their predictions are the same:"
      ],
      "metadata": {
        "id": "VJof4OkdTuee"
      }
    },
    {
      "cell_type": "code",
      "source": [
        "if tranfer_learning_prediction == Voting_classifier_prediction :\n",
        "  print('Tranfer learning prediction and Voting classifier prediction are the same ! ! !')"
      ],
      "metadata": {
        "id": "H9_X3YkSTuee"
      },
      "execution_count": null,
      "outputs": []
    },
    {
      "cell_type": "markdown",
      "source": [
        "if their predictions are not the same:\n",
        "\n",
        "\n"
      ],
      "metadata": {
        "id": "KMdFO4kETuee"
      }
    },
    {
      "cell_type": "code",
      "source": [
        "if tranfer_learning_prediction != Voting_classifier_prediction :\n",
        "  transfer_model_weight = {'blues':0.84,'classical':0.98,'country':0.8,'disco':0.86,'hiphop':0.81,'jazz':0.82,'metal':0.93,'pop':0.87,'reggae':0.84,'rock':0.69}\n",
        "  voting_classifier_weight = {'blues':0.36,'classical':1,'country':0.86,'disco':0.78,'hiphop':0.78,'jazz':0.88,'metal':0.84,'pop':0.82,'reggae':0.78,'rock':0.65}"
      ],
      "metadata": {
        "id": "DJPtA74lTuee"
      },
      "execution_count": null,
      "outputs": []
    },
    {
      "cell_type": "code",
      "source": [
        "transfer_model_weight = {'blues':0.84,'classical':0.98,'country':0.8,'disco':0.86,'hiphop':0.81,'jazz':0.82,'metal':0.93,'pop':0.87,'reggae':0.84,'rock':0.69}\n",
        "voting_classifier_weight = {'blues':0.36,'classical':1,'country':0.86,'disco':0.78,'hiphop':0.78,'jazz':0.88,'metal':0.84,'pop':0.82,'reggae':0.78,'rock':0.65}\n"
      ],
      "metadata": {
        "id": "35e_trETTuee"
      },
      "execution_count": null,
      "outputs": []
    },
    {
      "cell_type": "code",
      "source": [
        "tranfer_learning_prediction"
      ],
      "metadata": {
        "colab": {
          "base_uri": "https://localhost:8080/",
          "height": 35
        },
        "outputId": "0d1b7187-4cd6-4048-bac5-6bc1b7e06f06",
        "id": "qT0spQmpTuee"
      },
      "execution_count": null,
      "outputs": [
        {
          "output_type": "execute_result",
          "data": {
            "text/plain": [
              "'blues'"
            ],
            "application/vnd.google.colaboratory.intrinsic+json": {
              "type": "string"
            }
          },
          "metadata": {},
          "execution_count": 95
        }
      ]
    },
    {
      "cell_type": "code",
      "source": [
        "tl = transfer_model_weight[tranfer_learning_prediction]\n",
        "tl"
      ],
      "metadata": {
        "colab": {
          "base_uri": "https://localhost:8080/"
        },
        "outputId": "498d604b-5939-44c6-bd2a-3fc85eef9118",
        "id": "vyQqUZnxTuef"
      },
      "execution_count": null,
      "outputs": [
        {
          "output_type": "execute_result",
          "data": {
            "text/plain": [
              "0.84"
            ]
          },
          "metadata": {},
          "execution_count": 96
        }
      ]
    },
    {
      "cell_type": "code",
      "source": [
        "Voting_classifier_prediction"
      ],
      "metadata": {
        "colab": {
          "base_uri": "https://localhost:8080/",
          "height": 35
        },
        "outputId": "7e328576-1266-4d58-831b-5af12057e674",
        "id": "rI3r-vUdTuef"
      },
      "execution_count": null,
      "outputs": [
        {
          "output_type": "execute_result",
          "data": {
            "text/plain": [
              "'rock'"
            ],
            "application/vnd.google.colaboratory.intrinsic+json": {
              "type": "string"
            }
          },
          "metadata": {},
          "execution_count": 97
        }
      ]
    },
    {
      "cell_type": "code",
      "source": [
        "vc = voting_classifier_weight[Voting_classifier_prediction]\n",
        "vc"
      ],
      "metadata": {
        "colab": {
          "base_uri": "https://localhost:8080/"
        },
        "outputId": "8be937b2-8a82-4d4c-9311-b7d9f2b40197",
        "id": "tOyFEAH7Tuef"
      },
      "execution_count": null,
      "outputs": [
        {
          "output_type": "execute_result",
          "data": {
            "text/plain": [
              "0.65"
            ]
          },
          "metadata": {},
          "execution_count": 98
        }
      ]
    },
    {
      "cell_type": "markdown",
      "source": [
        "compare"
      ],
      "metadata": {
        "id": "6vCTEREbTuef"
      }
    },
    {
      "cell_type": "code",
      "source": [
        "if tl > vc :\n",
        "  print('The prediction result is ',tranfer_learning_prediction)\n",
        "elif tl < vc :\n",
        "  print('The prediction result is ',Voting_classifier_prediction)"
      ],
      "metadata": {
        "colab": {
          "base_uri": "https://localhost:8080/"
        },
        "outputId": "5a9787a6-3e5a-4a0b-dbbb-6932282270d5",
        "id": "tp-sAz22Tuef"
      },
      "execution_count": null,
      "outputs": [
        {
          "output_type": "stream",
          "name": "stdout",
          "text": [
            "The prediction result is  blues\n"
          ]
        }
      ]
    }
  ]
}