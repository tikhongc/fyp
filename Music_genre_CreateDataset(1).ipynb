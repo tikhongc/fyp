{
  "nbformat": 4,
  "nbformat_minor": 0,
  "metadata": {
    "accelerator": "GPU",
    "colab": {
      "name": "Music_genre_CreateDataset(1).ipynb",
      "provenance": [],
      "collapsed_sections": [
        "FkS6YGUR4w6e",
        "QIEPz7EKBNSy",
        "P_nyjJP1m9_4",
        "Vq6otciiL8sb",
        "MDV8gupthhPc",
        "3MVF4Cl9hyid",
        "Nz_f112EiIgH",
        "ljAu3keTi8ZJ",
        "0VlxEFXQjU_6",
        "pEe7H3BQA8RO",
        "unc07A4lxb-8"
      ],
      "mount_file_id": "1N2EDcPync5cgC02ODlsppfEkD8TyxpwZ",
      "authorship_tag": "ABX9TyMz1NPdSrIexkFaAOoG4xkJ",
      "include_colab_link": true
    },
    "kernelspec": {
      "display_name": "Python 3",
      "name": "python3"
    },
    "language_info": {
      "name": "python"
    }
  },
  "cells": [
    {
      "cell_type": "markdown",
      "metadata": {
        "id": "view-in-github",
        "colab_type": "text"
      },
      "source": [
        "<a href=\"https://colab.research.google.com/github/tikhongc/fyp/blob/main/Music_genre_CreateDataset(1).ipynb\" target=\"_parent\"><img src=\"https://colab.research.google.com/assets/colab-badge.svg\" alt=\"Open In Colab\"/></a>"
      ]
    },
    {
      "cell_type": "markdown",
      "metadata": {
        "id": "FkS6YGUR4w6e"
      },
      "source": [
        "# Import library"
      ]
    },
    {
      "cell_type": "code",
      "source": [
        "# Install and update essential libraries and tools\n",
        "!pip install xgboost -U\n",
        "!pip install librosa -U\n",
        "# !apt-get --yes install ffmpeg\n",
        "!pip install hyperopt"
      ],
      "metadata": {
        "id": "jOCFqgy_phF3"
      },
      "execution_count": null,
      "outputs": []
    },
    {
      "cell_type": "code",
      "source": [
        "import warnings\n",
        "warnings.simplefilter(\"ignore\", UserWarning)\n",
        "\n",
        "import os\n",
        "from tqdm import tqdm\n",
        "import pickle\n",
        "\n",
        "\n",
        "import seaborn as sns\n",
        "import matplotlib.pyplot as plt\n",
        "%matplotlib inline\n",
        "\n",
        "import librosa\n",
        "\n",
        "from sklearn.preprocessing import StandardScaler\n",
        "from sklearn.feature_selection import RFECV,mutual_info_regression\n",
        "from sklearn.metrics import confusion_matrix, accuracy_score,classification_report\n",
        "from sklearn.model_selection import train_test_split, cross_val_score\n",
        "from sklearn.decomposition import PCA\n",
        "\n",
        "from xgboost import XGBClassifier\n",
        "\n",
        "#For hyperparameter tuning\n",
        "from hyperopt import STATUS_OK, Trials, fmin, hp, tpe"
      ],
      "metadata": {
        "id": "C9n_blfApk_V"
      },
      "execution_count": null,
      "outputs": []
    },
    {
      "cell_type": "code",
      "metadata": {
        "id": "pHCuwMs43oFM"
      },
      "source": [
        "import librosa \n",
        "import matplotlib.pyplot as plt\n",
        "import librosa.display\n",
        "import numpy as np # linear algebra\n",
        "import pandas as pd # data processing, CSV file I/O (e.g. pd.read_csv)\n",
        "import tensorflow as tf\n",
        "import numpy\n",
        "import skimage.io\n",
        "import os\n",
        "import shutil\n",
        "import pandas as pd\n",
        "import numpy as np\n",
        "import seaborn as sns\n",
        "import matplotlib.pyplot as plt\n",
        "%matplotlib inline\n",
        "import sklearn\n",
        "import librosa.display as lplt\n",
        "import librosa\n",
        "import librosa.display\n",
        "import IPython.display as ipd\n",
        "import IPython\n",
        "import warnings\n",
        "warnings.filterwarnings('ignore')\n",
        "import os\n",
        "\n",
        "from librosa import feature\n",
        "import csv\n",
        "import glob\n",
        "\n",
        "! pip install pydub\n",
        "from pydub import AudioSegment"
      ],
      "execution_count": null,
      "outputs": []
    },
    {
      "cell_type": "markdown",
      "metadata": {
        "id": "QIEPz7EKBNSy"
      },
      "source": [
        "# About Audio\n",
        "\n",
        "These are the code just for a reference,it contains:\n",
        "\n",
        "1.   information about song\n",
        "2.   diiferent audio features extrated from data and plot them\n",
        "\n"
      ]
    },
    {
      "cell_type": "markdown",
      "metadata": {
        "id": "P_nyjJP1m9_4"
      },
      "source": [
        "## Audio data"
      ]
    },
    {
      "cell_type": "code",
      "metadata": {
        "id": "SADs7efJUxnb"
      },
      "source": [
        "general_path = '../content/drive/MyDrive/Data'\n",
        "print(list(os.listdir(f'{general_path}/genres_original/')))"
      ],
      "execution_count": null,
      "outputs": []
    },
    {
      "cell_type": "code",
      "metadata": {
        "id": "m0nwzfhnBCTv"
      },
      "source": [
        "# Importing 1 file\n",
        "y, sr = librosa.load('/content/drive/MyDrive/Data/genres_original/hiphop/hiphop.00016.wav')\n",
        "\n",
        "print('y:', y, '\\n')\n",
        "print('y shape:', np.shape(y), '\\n')\n",
        "print('Sample Rate (KHz):', sr, '\\n')\n",
        "a=np.shape(y)\n",
        "arr = np.asarray(a)\n",
        "print(arr)\n",
        "# Verify length of the audio\n",
        "print('Check Len of Audio:',661794/22050)"
      ],
      "execution_count": null,
      "outputs": []
    },
    {
      "cell_type": "code",
      "metadata": {
        "id": "IqS5J9F8U3qq"
      },
      "source": [
        "IPython.display.Audio(y, rate=sr)"
      ],
      "execution_count": null,
      "outputs": []
    },
    {
      "cell_type": "code",
      "metadata": {
        "id": "OWi-sdDrBKKO"
      },
      "source": [
        "# Trim leading and trailing silence from an audio signal (silence before and after the actual audio)\n",
        "y, _ = librosa.effects.trim(y)\n",
        "\n",
        "# the result is an numpy ndarray\n",
        "print('Audio File:', y, '\\n')\n",
        "print('Audio File shape:', np.shape(y))"
      ],
      "execution_count": null,
      "outputs": []
    },
    {
      "cell_type": "code",
      "metadata": {
        "id": "qnjQBYClVnwB"
      },
      "source": [
        "IPython.display.Audio(audio_file, rate=sr)"
      ],
      "execution_count": null,
      "outputs": []
    },
    {
      "cell_type": "code",
      "metadata": {
        "id": "-jfSgs6mJw_S"
      },
      "source": [
        "plt.figure(figsize = (16, 6))\n",
        "librosa.display.waveplot(y = audio_file, sr = sr, color = \"#A300F9\");\n",
        "plt.title(\"Sound Waves in hiphop.00016\", fontsize = 23);"
      ],
      "execution_count": null,
      "outputs": []
    },
    {
      "cell_type": "markdown",
      "metadata": {
        "id": "Vq6otciiL8sb"
      },
      "source": [
        "## slice the audio"
      ]
    },
    {
      "cell_type": "code",
      "metadata": {
        "id": "F_F9x8-MMM3Z"
      },
      "source": [
        "y, sr = librosa.load('/content/drive/MyDrive/Data/genres_original/hiphop/hiphop.00016.wav')\n",
        "IPython.display.Audio(y, rate=sr)"
      ],
      "execution_count": null,
      "outputs": []
    },
    {
      "cell_type": "code",
      "metadata": {
        "id": "VxMS9uPhLIXJ"
      },
      "source": [
        "newAudio = AudioSegment.from_wav('/content/drive/MyDrive/Data/genres_original/hiphop/hiphop.00016.wav')\n",
        "ten_seconds = 10 * 1000 \n",
        "first_10s = newAudio[:ten_seconds] \n",
        "mid_10s = newAudio[-20000:-10000]\n",
        "last_10s = newAudio[-10000:]\n",
        "first_10s.export('/content/drive/MyDrive/Data/newSong.wav', format=\"wav\") #Exports to a wav file in the current path.\n",
        "y, sr = librosa.load('/content/drive/MyDrive/Data/newSong.wav')\n",
        "IPython.display.Audio(y, rate=sr)"
      ],
      "execution_count": null,
      "outputs": []
    },
    {
      "cell_type": "markdown",
      "metadata": {
        "id": "tFvytlJTWYqR"
      },
      "source": [
        "## Audio Feature \n",
        "About features that get from an audio. Take it as a reference and a tool box.\n",
        "Not using these code in my project.\n",
        "\n",
        "reference : https://towardsdatascience.com/extract-features-of-music-75a3f9bc265d"
      ]
    },
    {
      "cell_type": "code",
      "metadata": {
        "id": "BZlc6cxmhVcY"
      },
      "source": [
        "audio_file, sr = librosa.load('/content/drive/MyDrive/Data/genres_original/hiphop/hiphop.00016.wav')"
      ],
      "execution_count": null,
      "outputs": []
    },
    {
      "cell_type": "markdown",
      "metadata": {
        "id": "mVU4UsPLhMcb"
      },
      "source": [
        "### Zero Crossing Rate\n",
        "the rate at which the signal changes from positive to negative or back."
      ]
    },
    {
      "cell_type": "code",
      "metadata": {
        "id": "JrK9AFSuhOab"
      },
      "source": [
        "# Total zero_crossings in our 1 song\n",
        "zero_crossings = librosa.zero_crossings(audio_file, pad=False)\n",
        "print(sum(zero_crossings))"
      ],
      "execution_count": null,
      "outputs": []
    },
    {
      "cell_type": "markdown",
      "metadata": {
        "id": "MDV8gupthhPc"
      },
      "source": [
        "### Harmonics and Perceptrual\n",
        "將音頻時間序列分解為諧波和打擊樂成分。\n",
        "\n",
        "\n",
        "Harmonics are characteristichs that human ears can't distinguish (represents the sound color)\n",
        "\n",
        "Perceptrual understanding shock wave represents the sound rhythm and emotion"
      ]
    },
    {
      "cell_type": "code",
      "metadata": {
        "id": "mvx6tqM0hjeb"
      },
      "source": [
        "y_harm, y_perc = librosa.effects.hpss(audio_file)\n",
        "\n",
        "harm_mean = np.mean(y_harm.T,axis=0)\n",
        "perc_mean = np.mean(y_perc.T,axis=0)\n",
        "perc_mean"
      ],
      "execution_count": null,
      "outputs": []
    },
    {
      "cell_type": "code",
      "metadata": {
        "id": "r9WUvCT2MkMt"
      },
      "source": [
        "plt.figure(figsize = (16, 6))\n",
        "plt.plot(y_harm, color = '#A300F9');\n",
        "plt.plot(y_perc, color = '#FFB100');\n"
      ],
      "execution_count": null,
      "outputs": []
    },
    {
      "cell_type": "markdown",
      "metadata": {
        "id": "3MVF4Cl9hyid"
      },
      "source": [
        "\n",
        "### Tempo BMP (beats per minute)\n",
        "Dynamic programming beat tracker."
      ]
    },
    {
      "cell_type": "code",
      "metadata": {
        "id": "ksKyUKmxh2AB"
      },
      "source": [
        "tempo, _ = librosa.beat.beat_track(y, sr = sr)\n",
        "tempo"
      ],
      "execution_count": null,
      "outputs": []
    },
    {
      "cell_type": "markdown",
      "metadata": {
        "id": "Nz_f112EiIgH"
      },
      "source": [
        "### Spectral Centroid¶\n",
        "\n",
        "indicates where the ”centre of mass” for a sound is located and is calculated as the weighted mean of the frequencies present in the sound."
      ]
    },
    {
      "cell_type": "code",
      "metadata": {
        "id": "QUHWY61AiMNn"
      },
      "source": [
        "# Calculate the Spectral Centroids\n",
        "spectral_centroids = librosa.feature.spectral_centroid(audio_file, sr=sr)[0]\n",
        "\n",
        "# Shape is a vector\n",
        "print('Centroids:', spectral_centroids, '\\n')\n",
        "print('Shape of Spectral Centroids:', spectral_centroids.shape, '\\n')\n",
        "\n",
        "# Computing the time variable for visualization\n",
        "frames = range(len(spectral_centroids))\n",
        "\n",
        "# Converts frame counts to time (seconds)\n",
        "t = librosa.frames_to_time(frames)\n",
        "\n",
        "print('frames:', frames, '\\n')\n",
        "print('t:', t)\n",
        "\n",
        "# Function that normalizes the Sound Data\n",
        "def normalize(x, axis=0):\n",
        "    return sklearn.preprocessing.minmax_scale(x, axis=axis)"
      ],
      "execution_count": null,
      "outputs": []
    },
    {
      "cell_type": "code",
      "metadata": {
        "id": "gtuTkoWLiU6Z"
      },
      "source": [
        "#Plotting the Spectral Centroid along the waveform\n",
        "plt.figure(figsize = (16, 6))\n",
        "librosa.display.waveplot(audio_file, sr=sr, alpha=0.4, color = '#A300F9');\n",
        "plt.plot(t, normalize(spectral_centroids), color='#FFB100');"
      ],
      "execution_count": null,
      "outputs": []
    },
    {
      "cell_type": "markdown",
      "metadata": {
        "id": "ljAu3keTi8ZJ"
      },
      "source": [
        "### Mel-Frequency Cepstral Coefficients:\n",
        "\n",
        "The Mel frequency cepstral coefficients (MFCCs) of a signal are a small set of features \n",
        "(usually about 10–20) which concisely describe the overall shape of a spectral envelope. It models the characteristics of the human voice."
      ]
    },
    {
      "cell_type": "code",
      "metadata": {
        "id": "NIZVNymmjAFH"
      },
      "source": [
        "mfccs = librosa.feature.mfcc(audio_file, sr=sr)\n",
        "print('mfccs shape:', mfccs.shape)\n",
        "\n",
        "#Displaying  the MFCCs:\n",
        "plt.figure(figsize = (16, 6))\n",
        "librosa.display.specshow(mfccs, sr=sr, x_axis='time', cmap = 'cool');"
      ],
      "execution_count": null,
      "outputs": []
    },
    {
      "cell_type": "code",
      "metadata": {
        "id": "jrQU1NkEjO8F"
      },
      "source": [
        "# Perform Feature Scaling\n",
        "mfccs = sklearn.preprocessing.scale(mfccs, axis=1)\n",
        "print('Mean:', mfccs.mean(), '\\n')\n",
        "print('Var:', mfccs.var())\n",
        "\n",
        "plt.figure(figsize = (16, 6))\n",
        "librosa.display.specshow(mfccs, sr=sr, x_axis='time', cmap = 'cool');"
      ],
      "execution_count": null,
      "outputs": []
    },
    {
      "cell_type": "markdown",
      "metadata": {
        "id": "0VlxEFXQjU_6"
      },
      "source": [
        "### Chroma Frequencies¶\n",
        "\n",
        "Chroma features are an interesting and powerful representation for music audio in which the entire spectrum is projected onto 12 bins representing the 12 distinct semitones (or chroma) of the musical octave."
      ]
    },
    {
      "cell_type": "code",
      "metadata": {
        "id": "4d2Li08vjW2s"
      },
      "source": [
        "# Increase or decrease hop_length to change how granular you want your data to be\n",
        "hop_length = 5000\n",
        "\n",
        "# Chromogram\n",
        "chromagram = librosa.feature.chroma_stft(audio_file, sr=sr, hop_length=hop_length)\n",
        "print('Chromogram shape:', chromagram.shape)\n",
        "\n",
        "plt.figure(figsize=(16, 6))\n",
        "librosa.display.specshow(chromagram, x_axis='time', y_axis='chroma', hop_length=hop_length, cmap='coolwarm');"
      ],
      "execution_count": null,
      "outputs": []
    },
    {
      "cell_type": "markdown",
      "metadata": {
        "id": "MFbyO3y2jn3r"
      },
      "source": [
        ""
      ]
    },
    {
      "cell_type": "code",
      "metadata": {
        "id": "1wpxRdvRJ_jx"
      },
      "source": [
        "# Default FFT window size\n",
        "n_fft = 2048 # FFT window size\n",
        "hop_length = 512 # number audio of frames between STFT columns (looks like a good default)\n",
        "\n",
        "# Short-time Fourier transform (STFT)\n",
        "D = np.abs(librosa.stft(audio_file, n_fft = n_fft, hop_length = hop_length))\n",
        "\n",
        "print('Shape of D object:', np.shape(D))"
      ],
      "execution_count": null,
      "outputs": []
    },
    {
      "cell_type": "code",
      "metadata": {
        "id": "jrhHuHewKDgH"
      },
      "source": [
        "plt.figure(figsize = (16, 6))\n",
        "plt.plot(D);"
      ],
      "execution_count": null,
      "outputs": []
    },
    {
      "cell_type": "code",
      "metadata": {
        "id": "YwwuN3iB45tE"
      },
      "source": [
        "N_FFT = 2048\n",
        "N_MELS = 128\n",
        "HOP_LEN = 512\n",
        "y, sfr = librosa.load('/content/drive/MyDrive/Data/genres_original/hiphop/hiphop.00016.wav')\n",
        "\n",
        "melSpec = librosa.feature.melspectrogram(y=y, sr=sfr, n_mels=N_MELS,hop_length=HOP_LEN, n_fft=N_FFT)\n",
        "melSpec_dB = librosa.power_to_db(melSpec, ref=np.max)\n",
        "\n",
        "librosa.display.specshow(melSpec_dB)"
      ],
      "execution_count": null,
      "outputs": []
    },
    {
      "cell_type": "markdown",
      "metadata": {
        "id": "fZIAgDFR460T"
      },
      "source": [
        "#Creating Dataset"
      ]
    },
    {
      "cell_type": "markdown",
      "metadata": {
        "id": "eor_I39wI2ty"
      },
      "source": [
        "## cut the audio into different length\n",
        "\n",
        "The dataset contains 30s length for each song.\n",
        "\n",
        "I would like to cut the aduio into different segment (10s/track) .\n",
        "\n",
        "And then lable them and save into a new file"
      ]
    },
    {
      "cell_type": "code",
      "metadata": {
        "id": "GI1O_UvgI9o5"
      },
      "source": [
        "newAudio = AudioSegment.from_wav('/content/drive/MyDrive/Dataset/Music-genre-classification/audio_files/genres_original/hiphop/hiphop.00016.wav')\n",
        "ten_seconds = 10 * 1000 \n",
        "first_10s = newAudio[:ten_seconds] \n",
        "mid_10s = newAudio[-20000:-10000]\n",
        "last_10s = newAudio[-10000:]\n",
        "mid_10s.export('/content/drive/MyDrive/Data/newSong.wav', format=\"wav\") #Exports to a wav file in the current path.\n",
        "y, sr = librosa.load('/content/drive/MyDrive/Data/newSong.wav')\n",
        "IPython.display.Audio(y, rate=sr)"
      ],
      "execution_count": null,
      "outputs": []
    },
    {
      "cell_type": "code",
      "metadata": {
        "id": "nDgIeJKLPIzR"
      },
      "source": [
        "  A=[]\n",
        "  filePath = '/content/drive/MyDrive/Dataset/Music-genre-classification/audio_files/genres_original/'\n",
        "  length_x = ['first_10s','mid_10s','last_10s']\n",
        "  ten_seconds = 10 * 1000 \n",
        "  A=os.listdir(filePath)\n",
        "  m=0\n",
        "  for k in length_x:\n",
        "    path_saved='/content/drive/MyDrive/Dataset/Music-genre-classification/audio_files/'+k+'/'\n",
        "    print(path_saved)\n",
        "    for i in A:\n",
        "      source_path = os.path.abspath(filePath+i)\n",
        "      target_path = os.path.abspath(path_saved+i) \n",
        "      if not os.path.exists(target_path):\n",
        "        os.makedirs(target_path)\n",
        "      if os.path.exists(source_path):\n",
        "        B=[]\n",
        "        B=os.listdir(source_path) \n",
        "        B.sort() #sort the loaded file\n",
        "        folder=i+'/'\n",
        "        pathAudio=filePath+folder\n",
        "        files = librosa.util.find_files(pathAudio, ext=['wav']) \n",
        "        files = np.asarray(files)\n",
        "        code = 0;\n",
        "        for x in files:\n",
        "          newAudio = AudioSegment.from_wav(x)\n",
        "          if m==0 :\n",
        "            # first_10s\n",
        "            segment = newAudio[:ten_seconds] \n",
        "          if m==1 :\n",
        "            # mid_10s\n",
        "            segment = newAudio[-20000:-10000]\n",
        "          if m==2 :\n",
        "            # last_10s\n",
        "            segment = newAudio[-10000:]\n",
        "\n",
        "          audio_name = B[code]\n",
        "          genre = audio_name.split(\".\")[0]\n",
        "          audio = audio_name.split(\".\")[0]+'.'+audio_name.split(\".\")[1]\n",
        "          segment.export(path_saved+genre+'/'+audio+'_'+k+'.wav', format=\"wav\") #Exports to a wav file in the current path.\n",
        "          code=code+1\n",
        "    m=m+1\n",
        "    print(\" Export \"+k+\" audio file finished !\")"
      ],
      "execution_count": null,
      "outputs": []
    },
    {
      "cell_type": "markdown",
      "metadata": {
        "id": "WL9HVhvUXfTS"
      },
      "source": [
        "### Test the splitted aduio\n",
        "\n",
        "successful for splitting the audio !"
      ]
    },
    {
      "cell_type": "code",
      "metadata": {
        "id": "q3KWKH9sXeST"
      },
      "source": [
        "y, sr = librosa.load('/content/drive/MyDrive/Data/genres_original/hiphop/hiphop.00016.wav')\n",
        "IPython.display.Audio(y, rate=sr)"
      ],
      "execution_count": null,
      "outputs": []
    },
    {
      "cell_type": "code",
      "metadata": {
        "id": "rqkfvlvCYZMs"
      },
      "source": [
        "y, sr = librosa.load('/content/drive/MyDrive/Dataset/Music-genre-classification/audio_files/first_10s/hiphop/hiphop.00016_first_10s.wav')\n",
        "IPython.display.Audio(y, rate=sr)"
      ],
      "execution_count": null,
      "outputs": []
    },
    {
      "cell_type": "code",
      "metadata": {
        "id": "PJvUZ_6FYata"
      },
      "source": [
        "y, sr = librosa.load('/content/drive/MyDrive/Dataset/Music-genre-classification/audio_files/mid_10s/hiphop/hiphop.00016_mid_10s.wav')\n",
        "IPython.display.Audio(y, rate=sr)"
      ],
      "execution_count": null,
      "outputs": []
    },
    {
      "cell_type": "code",
      "metadata": {
        "id": "cdtKbsACYb6-"
      },
      "source": [
        "y, sr = librosa.load('/content/drive/MyDrive/Dataset/Music-genre-classification/audio_files/last_10s/hiphop/hiphop.00016_last_10s.wav')\n",
        "IPython.display.Audio(y, rate=sr)"
      ],
      "execution_count": null,
      "outputs": []
    },
    {
      "cell_type": "markdown",
      "metadata": {
        "id": "EfUHwpygX-ee"
      },
      "source": [
        "## mel-png-file\n",
        "\n",
        "1.   use log-melspectrogram\n",
        "2.   min-max scale to fit inside 8-bit range\n",
        "3.   save as png file\n",
        "4.   creating new folders and save them into different genre folders with gnere lable \n",
        "\n"
      ]
    },
    {
      "cell_type": "markdown",
      "source": [
        "When computing an STFT, you compute the FFT for a number of short segments. These segments have the length n_fft. Usually these segments overlap (in order to avoid information loss), so the distance between two segments is often not n_fft, but something like n_fft/2. The name for this distance is hop_length. It is also defined in samples.\n",
        "\n",
        "![image.png](data:image/png;base64,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)"
      ],
      "metadata": {
        "id": "PDPGpHkJImTe"
      }
    },
    {
      "cell_type": "code",
      "metadata": {
        "id": "xJ6K8Do3nDAv"
      },
      "source": [
        "def scale_minmax(X, min=0.0, max=1.0):\n",
        "    X_std = (X - X.min()) / (X.max() - X.min())\n",
        "    X_scaled = X_std * (max - min) + min\n",
        "    return X_scaled\n",
        "\n",
        "def spectrogram_image(y, sr, out, hop_length, n_mels):\n",
        "    # use log-melspectrogram\n",
        "    # n_fft: 窗口大小\n",
        "    # n_fft=hop_length+overlapping\n",
        "    mels = librosa.feature.melspectrogram(y=y, sr=sr, n_mels=n_mels,n_fft=hop_length*2, hop_length=hop_length)\n",
        "\n",
        "    \n",
        "    mels = numpy.log(mels + 1e-9) # add small number to avoid log(0)\n",
        "    # min-max scale to fit inside 8-bit range\n",
        "    img = scale_minmax(mels, 0, 255).astype(numpy.uint8)\n",
        "    img = numpy.flip(img, axis=0) # put low frequencies at the bottom in image\n",
        "    img = 255-img # invert. make black==more energy\n",
        "    # save as PNG\n",
        "    skimage.io.imsave(out, img)\n",
        "\n",
        "if __name__ == '__main__':\n",
        "    # settings\n",
        "\n",
        "    #两个相邻窗口之间错开的sample数\n",
        "    hop_length = 512 # number of samples per time-step in spectrogram\n",
        "\n",
        "    # number of bins in spectrogram. Height of image\n",
        "    n_mels = 128 \n",
        "\n",
        "    time_steps = 384 # number of time-steps. Width of image\n",
        "   \n",
        "    A=[]\n",
        "    #filePath = '/content/drive/MyDrive/Dataset/Music-genre-classification/audio_files/genres_original/'\n",
        "    #path_saved='/content/drive/MyDrive/Dataset/Music-genre-classification/mel-spec-img/All_30s/'\n",
        "    #create png file for splitted audio\n",
        "    filePath='/content/drive/MyDrive/Dataset/Music-genre-classification/audio_files/first_10s/'\n",
        "    path_saved='/content/drive/MyDrive/Dataset/Music-genre-classification/mel-spec-img/first_10s/'\n",
        "    \n",
        "    length_aduio_csv='_10s'\n",
        "    A=os.listdir(filePath)\n",
        "    for i in A:\n",
        "      source_path = os.path.abspath(filePath+i)\n",
        "      target_path = os.path.abspath(path_saved+i) \n",
        "      if not os.path.exists(target_path):\n",
        "        os.makedirs(target_path)\n",
        "      if os.path.exists(source_path):\n",
        "        B=[]\n",
        "        B=os.listdir(source_path) \n",
        "        B.sort() #sort the loaded file\n",
        "        folder=i+'/'\n",
        "        pathAudio=filePath+folder\n",
        "        files = librosa.util.find_files(pathAudio, ext=['wav']) \n",
        "        files = np.asarray(files)\n",
        "        code = 0;\n",
        "\n",
        "        for x in files: \n",
        "          y, sr = librosa.load(x)\n",
        "\n",
        "          # Trim leading and trailing silence from an audio signal (silence before and after the actual audio)\n",
        "          y, _ = librosa.effects.trim(y)\n",
        "          audio_name = B[code]\n",
        "          genre = audio_name.split(\".\")[0]\n",
        "          audio = audio_name.split(\".\")[0] + '.' + audio_name.split(\".\")[1]\n",
        "          out = path_saved+folder+audio+'.png'\n",
        "          code = code+1;\n",
        "\n",
        "          # extract a fixed length window\n",
        "          start_sample = 0 # starting at beginning\n",
        "          length_samples = time_steps*hop_length\n",
        "          window = y[start_sample:start_sample+length_samples]\n",
        "\n",
        "          #convert to PNG\n",
        "          spectrogram_image(y, sr=sr, out=out, hop_length=hop_length, n_mels=n_mels)\n",
        "          print('wrote file', out)\n",
        "\n",
        "    print('CREATEING DATASET FINISHED!')\n",
        "\n"
      ],
      "execution_count": null,
      "outputs": []
    },
    {
      "cell_type": "markdown",
      "metadata": {
        "id": "7RwUCPNuguHS"
      },
      "source": [
        "##csv audio feature file\n",
        "These files contains the mean and variance for each audio file fo the features analysed above.I take the value of these features and save them into csv file song by song:\n",
        "\n",
        "\n",
        "---\n",
        "\n",
        "\n",
        "\n",
        "*   audio name\n",
        "*   genre\n",
        "*   length\n",
        "*   tempo\n",
        "*   chroma_stft\n",
        "*   chroma_cens\n",
        "*   tonnetz\n",
        "*   spectral_contrast\n",
        "*   spectral_flatness\n",
        "*   spectral_centroid\n",
        "*   spectral_bandwidth\n",
        "*   spectral_rolloff\n",
        "*   RMS\n",
        "*   zero_crossing_rate\n",
        "*   MFCCs 1-13\n",
        "*   I also want to take the harm_mean and perc_mean of audio, but it's too slow to run it on this platform\n"
      ]
    },
    {
      "cell_type": "markdown",
      "metadata": {
        "id": "WXx6apkY25x2"
      },
      "source": [
        "Extract features function\n",
        "\n",
        "reference:\n",
        "https://medium.com/@alexandro.ramr777/audio-files-to-dataset-by-feature-extraction-with-librosa-d87adafe5b64"
      ]
    },
    {
      "cell_type": "markdown",
      "source": [
        "**add new features:\n",
        "\n",
        " feature.chroma_cens,\n",
        " feature.spectral_contrast,\n",
        " feature.tonnetz\n",
        " feature.spectral_flatness\n",
        "\n",
        " and variance of every features** "
      ],
      "metadata": {
        "id": "fNCr6bHOuNEw"
      }
    },
    {
      "cell_type": "code",
      "metadata": {
        "id": "jl8pvYAw24jA"
      },
      "source": [
        "fn_list_i = [\n",
        " feature.chroma_stft,\n",
        " feature.spectral_centroid,\n",
        " feature.spectral_bandwidth,\n",
        " feature.spectral_rolloff,\n",
        " feature.chroma_cens,\n",
        " feature.spectral_contrast,\n",
        " feature.tonnetz\n",
        "]\n",
        " \n",
        "fn_list_ii = [\n",
        " feature.rms,\n",
        " feature.zero_crossing_rate,\n",
        " feature.spectral_flatness\n",
        "]\n",
        "\n",
        " #'harm_mean',\n",
        " #'perc_mean',\n",
        " \n",
        "header =[\n",
        " 'audio_name',\n",
        " 'genre',\n",
        " 'length',\n",
        " 'tempo',\n",
        " 'chroma_stft_mean',\n",
        " 'spectral_centroid_mean',\n",
        " 'spectral_bandwidth_mean',\n",
        " 'spectral_rolloff_mean',\n",
        " 'chroma_cens_mean',\n",
        " 'spectral_contrast_mean',\n",
        " 'tonnetz_mean',\n",
        " 'chroma_stft_var',\n",
        " 'spectral_centroid_var',\n",
        " 'spectral_bandwidth_var',\n",
        " 'spectral_rolloff_var',\n",
        " 'chroma_cens_var',\n",
        " 'spectral_contrast_var',\n",
        " 'tonnetz_var',\n",
        " 'rms_mean',\n",
        " 'zero_crossing_rate_mean',\n",
        " 'spectral_flatness_mean',\n",
        " 'rms_var',\n",
        " 'zero_crossing_rate_var',\n",
        " 'spectral_flatness_var',\n",
        " 'mfcc1_mean',\n",
        " 'mfcc2_mean',\n",
        " 'mfcc3_mean',\n",
        " 'mfcc4_mean',\n",
        " 'mfcc5_mean',\n",
        " 'mfcc6_mean',\n",
        " 'mfcc7_mean',\n",
        " 'mfcc8_mean',\n",
        " 'mfcc9_mean',\n",
        " 'mfcc10_mean',\n",
        " 'mfcc11_mean',\n",
        " 'mfcc12_mean',\n",
        " 'mfcc13_mean',\n",
        "  'mfcc1_var',\n",
        " 'mfcc2_var',\n",
        " 'mfcc3_var',\n",
        " 'mfcc4_var',\n",
        " 'mfcc5_var',\n",
        " 'mfcc6_var',\n",
        " 'mfcc7_var',\n",
        " 'mfcc8_var',\n",
        " 'mfcc9_var',\n",
        " 'mfcc10_var',\n",
        " 'mfcc11_var',\n",
        " 'mfcc12_var',\n",
        " 'mfcc13_var'\n",
        "]"
      ],
      "execution_count": null,
      "outputs": []
    },
    {
      "cell_type": "markdown",
      "metadata": {
        "id": "pEe7H3BQA8RO"
      },
      "source": [
        "### method 1\n",
        "make csv file one by one"
      ]
    },
    {
      "cell_type": "code",
      "metadata": {
        "id": "bDkivzBO-A2w"
      },
      "source": [
        "source_path = filePath = '/content/drive/MyDrive/Dataset/Music-genre-classification/audio_files/genres_original/blues'\n",
        "norm_audio_files = glob(source_path + '*.wav')\n",
        "norm_audios_feat = []\n",
        "B=[]\n",
        "B=os.listdir(source_path) \n",
        "B.sort() #sort the loaded file\n",
        "code=0\n",
        "\n",
        "def get_feature_vector(y,sr): \n",
        "   audio_name = B[code]\n",
        "   genre = audio_name.split(\".\")[0]\n",
        "   audio = audio_name.split(\".\")[0]+audio_name.split(\".\")[1]\n",
        "   #calculate the length = shape / sampleling rate\n",
        "   a=np.shape(y)\n",
        "   arr = np.asarray(a)\n",
        "   length = arr[0]/sr #\n",
        "\n",
        "   feat_vect_i = [np.mean(funct(y,sr)) for funct in fn_list_i]\n",
        "   feat_vect_ii = [np.mean(funct(y)) for funct in fn_list_ii] \n",
        "   feature_vector = [audio] + [genre]+ [length] + feat_vect_i + feat_vect_ii \n",
        "   return feature_vector\n",
        "\n",
        "for file in norm_audio_files:\n",
        "   y , sr = librosa.load(file,sr=None)\n",
        "   feature_vector = get_feature_vector(y, sr)\n",
        "   norm_audios_feat.append(feature_vector) \n",
        "   code=code+1;\n",
        "   print(norm_audios_feat)"
      ],
      "execution_count": null,
      "outputs": []
    },
    {
      "cell_type": "code",
      "metadata": {
        "id": "j79xW297pd8L"
      },
      "source": [
        "norm_output = '/content/drive/MyDrive/Dataset/Music-genre-classification/csv_files/30_secd.csv'\n",
        "\n",
        "with open(norm_output,'+w') as f:\n",
        " csv_writer = csv.writer(f, delimiter = ',')\n",
        " csv_writer.writerow(header)\n",
        " csv_writer.writerows(norm_audios_feat)\n"
      ],
      "execution_count": null,
      "outputs": []
    },
    {
      "cell_type": "code",
      "metadata": {
        "id": "ezWEfEO3qNo0"
      },
      "source": [
        "csv_file= pd.read_csv('/content/drive/MyDrive/Data/normals_00.csv')\n",
        "csv_file"
      ],
      "execution_count": null,
      "outputs": []
    },
    {
      "cell_type": "markdown",
      "metadata": {
        "id": "kQ_HYAfsAoLk"
      },
      "source": [
        "### method 2:\n",
        "make list at once, but too slow on platform"
      ]
    },
    {
      "cell_type": "code",
      "metadata": {
        "id": "wEbvNtA-oyuL"
      },
      "source": [
        "    #directories of normal audios\n",
        "\n",
        "    #30 sec audio file\n",
        "    #filePath = '/content/drive/MyDrive/Dataset/Music-genre-classification/audio_files/genres_original/'\n",
        "    #path_saved='/content/drive/MyDrive/Dataset/Music-genre-classification/csv_files/30_secd_audio/'\n",
        "    norm_audios_feat = []\n",
        "    A=[]\n",
        "    B=[]\n",
        "    code = 0\n",
        "    #create csv file for splitted audio\n",
        "    filePath='/content/drive/MyDrive/Dataset/Music-genre-classification/audio_files/genres_original/'\n",
        "    path_saved='/content/drive/MyDrive/Dataset/Music-genre-classification/csv_files/new_30s/'\n",
        "    A=os.listdir(filePath)\n",
        "    \n",
        "    length_aduio_csv='_30s'\n",
        "\n",
        "    def extract_mfcc_features_mean(y,sr):\n",
        "      mfccs = librosa.feature.mfcc(y=y, sr=sr, n_mfcc=13)\n",
        "      mfccs_processed = np.mean(mfccs.T,axis=0)\n",
        "      return mfccs_processed\n",
        "\n",
        "    def extract_mfcc_features_var(y,sr):\n",
        "      mfccs = librosa.feature.mfcc(y=y, sr=sr, n_mfcc=13)\n",
        "      mfccs_processed = np.var(mfccs.T,axis=0)\n",
        "      return mfccs_processed  \n",
        "\n",
        "    def get_tempo(y,sr):\n",
        "      onset_env = librosa.onset.onset_strength(y, sr=sr)\n",
        "      tempo = librosa.beat.tempo(onset_envelope=onset_env, sr=sr)\n",
        "      tempo = np.array(tempo)\n",
        "      return tempo\n",
        "\n",
        "    def get_harm_mean(y,sr):\n",
        "      y_harm, y_perc = librosa.effects.hpss(audio_file)\n",
        "      harm_mean = np.mean(y_harm.T,axis=0)\n",
        "      return harm_mean\n",
        "\n",
        "    def get_perc_mean(y,sr):\n",
        "      y_harm, y_perc = librosa.effects.hpss(audio_file)\n",
        "      perc_mean = np.mean(y_perc.T,axis=0)\n",
        "      return perc_mean\n",
        "\n"
      ],
      "execution_count": null,
      "outputs": []
    },
    {
      "cell_type": "code",
      "source": [
        "\n",
        "def get_feature_vector(y,sr): \n",
        "       audio_name = B[code]\n",
        "       genre = audio_name.split(\".\")[0]\n",
        "       audio = audio_name.split(\".\")[0]+audio_name.split(\".\")[1]\n",
        "       #calculate the length = shape / sampleling rate\n",
        "       a=np.shape(y)\n",
        "       arr = np.asarray(a)\n",
        "       length = arr[0]/sr #\n",
        "       #harm_mean = [get_harm_mean(y,sr)]\n",
        "       #perc_mean = [get_perc_mean(y,sr)]\n",
        "       feat_vect_i = [np.mean(funct(y,sr)) for funct in fn_list_i]\n",
        "       feat_vect_ii = [np.mean(funct(y)) for funct in fn_list_ii]\n",
        "       feat_vect_i_var = [np.var(funct(y,sr)) for funct in fn_list_i]\n",
        "       feat_vect_ii_var = [np.var(funct(y)) for funct in fn_list_ii]\n",
        "       tempo = get_tempo(y,sr)\n",
        "       feat_tempo=[]\n",
        "       for k in tempo :\n",
        "         feat_tempo.append(k)\n",
        "       feat_mfcc = extract_mfcc_features_mean(y,sr)\n",
        "       features_mfcc=[]\n",
        "       for i in feat_mfcc :\n",
        "         features_mfcc.append(i)\n",
        "       feat_mfcc2 = extract_mfcc_features_var(y,sr)   \n",
        "       features_mfcc_var = []\n",
        "       for i in feat_mfcc2 :\n",
        "         features_mfcc_var.append(i)\n",
        "       feature_vector = [audio] + [genre]+ [length] + feat_tempo +  feat_vect_i+feat_vect_i_var + feat_vect_ii +feat_vect_ii_var+ features_mfcc + features_mfcc_var\n",
        "       return feature_vector            \n",
        "       \n",
        "for i in A:\n",
        "      norm_audios_feat = []\n",
        "      source_path = os.path.abspath(filePath+i)\n",
        "      target_path = os.path.abspath(path_saved) \n",
        "      if not os.path.exists(target_path):\n",
        "        os.makedirs(target_path)\n",
        "      if os.path.exists(source_path):\n",
        "        B=[]\n",
        "        B=os.listdir(source_path) \n",
        "        B.sort() #sort the loaded file\n",
        "        folder=i+'/'\n",
        "        pathAudio=filePath+folder\n",
        "        files = librosa.util.find_files(pathAudio, ext=['wav']) \n",
        "        files = np.asarray(files)\n",
        "        code = 0\n",
        "        for x in files: \n",
        "          y, sr = librosa.load(x)\n",
        "          feature_vector = get_feature_vector(y, sr)\n",
        "          norm_audios_feat.append(feature_vector) \n",
        "          code=code+1\n",
        "          print(norm_audios_feat)\n",
        "        norm_output=path_saved+i+length_aduio_csv+'.csv'\n",
        "        with open(norm_output,'+w') as f:\n",
        "          csv_writer = csv.writer(f, delimiter = ',')\n",
        "          csv_writer.writerow(header)\n",
        "          csv_writer.writerows(norm_audios_feat)\n",
        "          "
      ],
      "metadata": {
        "id": "HQwlE7oYt0yE"
      },
      "execution_count": null,
      "outputs": []
    },
    {
      "cell_type": "code",
      "metadata": {
        "id": "XYZfCq1RDRLw"
      },
      "source": [
        "csv_file= pd.read_csv(path_saved+'hiphop_10s.csv')\n",
        "csv_file"
      ],
      "execution_count": null,
      "outputs": []
    },
    {
      "cell_type": "markdown",
      "metadata": {
        "id": "rvtXtCu_EukM"
      },
      "source": [
        "combine csv file of different gernes into one csv file\n",
        "\n",
        "reference: https://www.freecodecamp.org/news/how-to-combine-multiple-csv-files-with-8-lines-of-code-265183e0854/"
      ]
    },
    {
      "cell_type": "code",
      "metadata": {
        "id": "s4Gep1ghEtwi"
      },
      "source": [
        "    os.chdir(path_saved)\n",
        "    extension = 'csv'\n",
        "    all_filenames = [i for i in glob.glob('*.{}'.format(extension))]\n",
        "    #combine all files in the list\n",
        "    combined_csv = pd.concat([pd.read_csv(f) for f in all_filenames ])\n",
        "    #export to csv\n",
        "    combined_csv.to_csv(path_saved+'audio_features'+length_aduio_csv+'.csv', index=False, encoding='utf-8-sig')\n",
        "    B=os.listdir(path_saved)\n",
        "    for i in B :\n",
        "       print (i)"
      ],
      "execution_count": null,
      "outputs": []
    },
    {
      "cell_type": "code",
      "metadata": {
        "id": "pZIa273zGQUS"
      },
      "source": [
        "csv_file= pd.read_csv('/content/drive/MyDrive/Dataset/Music-genre-classification/csv_files/new_30s/audio_features'+length_aduio_csv+'.csv')\n",
        "csv_file"
      ],
      "execution_count": null,
      "outputs": []
    },
    {
      "cell_type": "markdown",
      "metadata": {
        "id": "unc07A4lxb-8"
      },
      "source": [
        "### MFCC-PNG"
      ]
    },
    {
      "cell_type": "code",
      "metadata": {
        "id": "keMT5Ev07rE1"
      },
      "source": [
        "mfccs = librosa.feature.mfcc(y=librosa_audio, sr=librosa_sample_rate, n_mfcc = 40)\n",
        "print (mfccs.shape)\n",
        "plt.figure(figsize=(8,8))\n",
        "librosa.display.specshow(mfccs, sr=librosa_sample_rate, x_axis='time')\n",
        "plt.savefig('MFCCs.png')\n",
        "experiment.log_image('MFCCs.png')"
      ],
      "execution_count": null,
      "outputs": []
    },
    {
      "cell_type": "code",
      "metadata": {
        "id": "3CQ_IeoByxnl"
      },
      "source": [
        "def extract_features(file_name):\n",
        "    audio, sample_rate = librosa.load(file_name, res_type='kaiser_fast') \n",
        "    mfccs = librosa.feature.mfcc(y=audio, sr=sample_rate, n_mfcc=13)\n",
        "    mfccs_processed = np.mean(mfccs.T,axis=0)\n",
        "    return mfccs_processed\n",
        "features = []\n",
        " \n",
        "#file_name = os.path.join(os.path.abspath(fulldatasetpath),'fold'+str(row[\"fold\"])+'/',str(row[\"slice_file_name\"]))\n",
        "y, sr = librosa.load('/content/drive/MyDrive/Dataset/Music-genre-classification/audio_files/mid_10s/hiphop/hiphop.00016_mid_10s.wav')\n",
        "\n",
        "data = extract_features(file_name)\n",
        "for i in data :\n",
        "  print(i)\n",
        "  features.append(i)\n",
        "print(features)\n",
        "# Convert into a Panda dataframe \n",
        "#featuresdf = pd.DataFrame(features, columns=['feature','class_label'])"
      ],
      "execution_count": null,
      "outputs": []
    },
    {
      "cell_type": "code",
      "metadata": {
        "id": "1YIvJsDPy4Jg"
      },
      "source": [
        "featuresdf.iloc[0]['feature']"
      ],
      "execution_count": null,
      "outputs": []
    },
    {
      "cell_type": "code",
      "metadata": {
        "id": "CV2jE3kgHID1"
      },
      "source": [
        "y, sr = librosa.load('/content/drive/MyDrive/Dataset/Music-genre-classification/audio_files/mid_10s/hiphop/hiphop.00016_mid_10s.wav')\n",
        "onset_env = librosa.onset.onset_strength(y, sr=sr)\n",
        "tempo = librosa.beat.tempo(onset_envelope=onset_env, sr=sr)\n",
        "\n",
        "tempo = np.array(tempo)\n",
        "\n",
        "for i in tempo :\n",
        "  print(tempo)"
      ],
      "execution_count": null,
      "outputs": []
    }
  ]
}